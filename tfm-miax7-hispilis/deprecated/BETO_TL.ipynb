{
 "cells": [
  {
   "cell_type": "code",
   "execution_count": 1,
   "id": "dc8bd2bd",
   "metadata": {
    "execution": {
     "iopub.execute_input": "2022-04-04T16:03:58.916811Z",
     "iopub.status.busy": "2022-04-04T16:03:58.915995Z",
     "iopub.status.idle": "2022-04-04T16:04:02.819576Z",
     "shell.execute_reply": "2022-04-04T16:04:02.820000Z",
     "shell.execute_reply.started": "2022-04-04T15:57:09.650421Z"
    },
    "papermill": {
     "duration": 3.935754,
     "end_time": "2022-04-04T16:04:02.820253",
     "exception": false,
     "start_time": "2022-04-04T16:03:58.884499",
     "status": "completed"
    },
    "tags": []
   },
   "outputs": [
    {
     "data": {
      "text/html": [
       "<div>\n",
       "<style scoped>\n",
       "    .dataframe tbody tr th:only-of-type {\n",
       "        vertical-align: middle;\n",
       "    }\n",
       "\n",
       "    .dataframe tbody tr th {\n",
       "        vertical-align: top;\n",
       "    }\n",
       "\n",
       "    .dataframe thead th {\n",
       "        text-align: right;\n",
       "    }\n",
       "</style>\n",
       "<table border=\"1\" class=\"dataframe\">\n",
       "  <thead>\n",
       "    <tr style=\"text-align: right;\">\n",
       "      <th></th>\n",
       "      <th>ticker</th>\n",
       "      <th>date</th>\n",
       "      <th>body</th>\n",
       "      <th>r_adj</th>\n",
       "      <th>label</th>\n",
       "      <th>texto_limpio</th>\n",
       "    </tr>\n",
       "  </thead>\n",
       "  <tbody>\n",
       "    <tr>\n",
       "      <th>0</th>\n",
       "      <td>TEF</td>\n",
       "      <td>2021-11-21 11:42:00.000</td>\n",
       "      <td>El magistrado escuchará a varios imputados rel...</td>\n",
       "      <td>0.056964</td>\n",
       "      <td>1</td>\n",
       "      <td>magistrado escuchará varios imputados relacion...</td>\n",
       "    </tr>\n",
       "    <tr>\n",
       "      <th>1</th>\n",
       "      <td>ANA</td>\n",
       "      <td>2021-08-27 13:48:00.000</td>\n",
       "      <td>SEVILLA, 27 Ago. (EUROPA PRESS) - La sección d...</td>\n",
       "      <td>0.012567</td>\n",
       "      <td>1</td>\n",
       "      <td>27 sección agrupación sindical conductores soc...</td>\n",
       "    </tr>\n",
       "    <tr>\n",
       "      <th>2</th>\n",
       "      <td>TEF</td>\n",
       "      <td>2021-01-26 18:37:52.000</td>\n",
       "      <td>El Ibex 35 ha regresado a las subidas y rozado...</td>\n",
       "      <td>0.032565</td>\n",
       "      <td>1</td>\n",
       "      <td>ibex 35 regresado subidas rozado cota puntos p...</td>\n",
       "    </tr>\n",
       "    <tr>\n",
       "      <th>3</th>\n",
       "      <td>NTGY</td>\n",
       "      <td>2021-01-26 09:16:00.000</td>\n",
       "      <td>MADRID, 26 Ene. (EUROPA PRESS) - El Ibex 35 ha...</td>\n",
       "      <td>0.022345</td>\n",
       "      <td>1</td>\n",
       "      <td>26 ibex 35 iniciado sesión martes subida lleva...</td>\n",
       "    </tr>\n",
       "    <tr>\n",
       "      <th>4</th>\n",
       "      <td>ELE</td>\n",
       "      <td>2021-12-16 11:48:00.000</td>\n",
       "      <td>Naturgy se sitúa en la plaza 39 MADRID, 16 Dic...</td>\n",
       "      <td>-0.012581</td>\n",
       "      <td>-1</td>\n",
       "      <td>naturgy sitúa plaza 39 16 acciona energía reva...</td>\n",
       "    </tr>\n",
       "    <tr>\n",
       "      <th>...</th>\n",
       "      <td>...</td>\n",
       "      <td>...</td>\n",
       "      <td>...</td>\n",
       "      <td>...</td>\n",
       "      <td>...</td>\n",
       "      <td>...</td>\n",
       "    </tr>\n",
       "    <tr>\n",
       "      <th>21336</th>\n",
       "      <td>FER</td>\n",
       "      <td>2021-06-07 11:41:00.000</td>\n",
       "      <td>MADRID, 7 Jun. (EUROPA PRESS) - Adriano Care, ...</td>\n",
       "      <td>0.012905</td>\n",
       "      <td>1</td>\n",
       "      <td>7 adriano socimi orientada residencias anciano...</td>\n",
       "    </tr>\n",
       "    <tr>\n",
       "      <th>21337</th>\n",
       "      <td>TEF</td>\n",
       "      <td>2021-06-05 17:30:00.000</td>\n",
       "      <td>PAMPLONA, 5 Jun. (EUROPA PRESS) - La Asociació...</td>\n",
       "      <td>0.012192</td>\n",
       "      <td>1</td>\n",
       "      <td>5 asociación consumidores navarra irache recib...</td>\n",
       "    </tr>\n",
       "    <tr>\n",
       "      <th>21338</th>\n",
       "      <td>ELE</td>\n",
       "      <td>2021-03-08 15:11:00.000</td>\n",
       "      <td>GRANADA, 8 Mar. (EUROPA PRESS) - El incendio, ...</td>\n",
       "      <td>0.019342</td>\n",
       "      <td>1</td>\n",
       "      <td>8 pasado 27 centro transformación ubicado call...</td>\n",
       "    </tr>\n",
       "    <tr>\n",
       "      <th>21339</th>\n",
       "      <td>ELE</td>\n",
       "      <td>2021-01-10 21:33:08.000</td>\n",
       "      <td>Filomena deja en España ciudades incomunicadas...</td>\n",
       "      <td>-0.012100</td>\n",
       "      <td>-1</td>\n",
       "      <td>filomena deja españa ciudades incomunicadas ba...</td>\n",
       "    </tr>\n",
       "    <tr>\n",
       "      <th>21340</th>\n",
       "      <td>IBE</td>\n",
       "      <td>2021-09-10 17:21:00.000</td>\n",
       "      <td>MADRID, 10 Sep. (EUROPA PRESS) - Iberdrola ha ...</td>\n",
       "      <td>0.011748</td>\n",
       "      <td>1</td>\n",
       "      <td>10 iberdrola elegido empresa tecnológica andal...</td>\n",
       "    </tr>\n",
       "  </tbody>\n",
       "</table>\n",
       "<p>21341 rows × 6 columns</p>\n",
       "</div>"
      ],
      "text/plain": [
       "      ticker                     date  \\\n",
       "0        TEF  2021-11-21 11:42:00.000   \n",
       "1        ANA  2021-08-27 13:48:00.000   \n",
       "2        TEF  2021-01-26 18:37:52.000   \n",
       "3       NTGY  2021-01-26 09:16:00.000   \n",
       "4        ELE  2021-12-16 11:48:00.000   \n",
       "...      ...                      ...   \n",
       "21336    FER  2021-06-07 11:41:00.000   \n",
       "21337    TEF  2021-06-05 17:30:00.000   \n",
       "21338    ELE  2021-03-08 15:11:00.000   \n",
       "21339    ELE  2021-01-10 21:33:08.000   \n",
       "21340    IBE  2021-09-10 17:21:00.000   \n",
       "\n",
       "                                                    body     r_adj  label  \\\n",
       "0      El magistrado escuchará a varios imputados rel...  0.056964      1   \n",
       "1      SEVILLA, 27 Ago. (EUROPA PRESS) - La sección d...  0.012567      1   \n",
       "2      El Ibex 35 ha regresado a las subidas y rozado...  0.032565      1   \n",
       "3      MADRID, 26 Ene. (EUROPA PRESS) - El Ibex 35 ha...  0.022345      1   \n",
       "4      Naturgy se sitúa en la plaza 39 MADRID, 16 Dic... -0.012581     -1   \n",
       "...                                                  ...       ...    ...   \n",
       "21336  MADRID, 7 Jun. (EUROPA PRESS) - Adriano Care, ...  0.012905      1   \n",
       "21337  PAMPLONA, 5 Jun. (EUROPA PRESS) - La Asociació...  0.012192      1   \n",
       "21338  GRANADA, 8 Mar. (EUROPA PRESS) - El incendio, ...  0.019342      1   \n",
       "21339  Filomena deja en España ciudades incomunicadas... -0.012100     -1   \n",
       "21340  MADRID, 10 Sep. (EUROPA PRESS) - Iberdrola ha ...  0.011748      1   \n",
       "\n",
       "                                            texto_limpio  \n",
       "0      magistrado escuchará varios imputados relacion...  \n",
       "1      27 sección agrupación sindical conductores soc...  \n",
       "2      ibex 35 regresado subidas rozado cota puntos p...  \n",
       "3      26 ibex 35 iniciado sesión martes subida lleva...  \n",
       "4      naturgy sitúa plaza 39 16 acciona energía reva...  \n",
       "...                                                  ...  \n",
       "21336  7 adriano socimi orientada residencias anciano...  \n",
       "21337  5 asociación consumidores navarra irache recib...  \n",
       "21338  8 pasado 27 centro transformación ubicado call...  \n",
       "21339  filomena deja españa ciudades incomunicadas ba...  \n",
       "21340  10 iberdrola elegido empresa tecnológica andal...  \n",
       "\n",
       "[21341 rows x 6 columns]"
      ]
     },
     "execution_count": 1,
     "metadata": {},
     "output_type": "execute_result"
    }
   ],
   "source": [
    "import pandas as pd\n",
    "df_mini = pd.read_csv('../input/aideas/texto_limpio.csv', index_col = 'Unnamed: 0')\n",
    "\n",
    "import pickle\n",
    "consolidated = pickle.load(open(\"../input/aideas/translation.pkl\", \"rb\" ))\n",
    "\n",
    "from sklearn.utils import shuffle\n",
    "dataset = shuffle(df_mini, random_state=42).reset_index(drop=True)\n",
    "dataset"
   ]
  },
  {
   "cell_type": "code",
   "execution_count": 2,
   "id": "7c994989",
   "metadata": {
    "execution": {
     "iopub.execute_input": "2022-04-04T16:04:02.868901Z",
     "iopub.status.busy": "2022-04-04T16:04:02.867301Z",
     "iopub.status.idle": "2022-04-04T16:04:02.869509Z",
     "shell.execute_reply": "2022-04-04T16:04:02.869914Z",
     "shell.execute_reply.started": "2022-04-04T15:57:13.297467Z"
    },
    "papermill": {
     "duration": 0.028444,
     "end_time": "2022-04-04T16:04:02.870073",
     "exception": false,
     "start_time": "2022-04-04T16:04:02.841629",
     "status": "completed"
    },
    "tags": []
   },
   "outputs": [],
   "source": [
    "# import pandas as pd\n",
    "# df_mini = pd.read_csv('../texto_limpio.csv', index_col = 'Unnamed: 0')\n",
    "\n",
    "# import pickle\n",
    "# consolidated = pickle.load(open(\"../translation.pkl\", \"rb\" ))\n",
    "\n",
    "# from sklearn.utils import shuffle\n",
    "# dataset = shuffle(df_mini, random_state=42).reset_index(drop=True)\n",
    "# dataset"
   ]
  },
  {
   "cell_type": "markdown",
   "id": "f97bf925",
   "metadata": {
    "papermill": {
     "duration": 0.020397,
     "end_time": "2022-04-04T16:04:02.911417",
     "exception": false,
     "start_time": "2022-04-04T16:04:02.891020",
     "status": "completed"
    },
    "tags": []
   },
   "source": [
    "# Transfer Learning con FinBERT"
   ]
  },
  {
   "cell_type": "markdown",
   "id": "360bfe9e",
   "metadata": {
    "papermill": {
     "duration": 0.020437,
     "end_time": "2022-04-04T16:04:02.952532",
     "exception": false,
     "start_time": "2022-04-04T16:04:02.932095",
     "status": "completed"
    },
    "tags": []
   },
   "source": [
    "A continuación se reentrena la última capa únicamente de FinBERT para la clasificación de las labels del dataset de noticias y alpha."
   ]
  },
  {
   "cell_type": "code",
   "execution_count": 3,
   "id": "8fdbcb76",
   "metadata": {
    "execution": {
     "iopub.execute_input": "2022-04-04T16:04:03.001330Z",
     "iopub.status.busy": "2022-04-04T16:04:03.000564Z",
     "iopub.status.idle": "2022-04-04T16:04:03.003510Z",
     "shell.execute_reply": "2022-04-04T16:04:03.003918Z",
     "shell.execute_reply.started": "2022-04-04T15:57:41.364934Z"
    },
    "papermill": {
     "duration": 0.030931,
     "end_time": "2022-04-04T16:04:03.004077",
     "exception": false,
     "start_time": "2022-04-04T16:04:02.973146",
     "status": "completed"
    },
    "tags": []
   },
   "outputs": [],
   "source": [
    "dataset.label = dataset.label.replace({-1:0})"
   ]
  },
  {
   "cell_type": "code",
   "execution_count": 4,
   "id": "66680ace",
   "metadata": {
    "execution": {
     "iopub.execute_input": "2022-04-04T16:04:03.051874Z",
     "iopub.status.busy": "2022-04-04T16:04:03.051165Z",
     "iopub.status.idle": "2022-04-04T16:04:14.732021Z",
     "shell.execute_reply": "2022-04-04T16:04:14.731164Z",
     "shell.execute_reply.started": "2022-04-04T15:57:46.426680Z"
    },
    "papermill": {
     "duration": 11.707346,
     "end_time": "2022-04-04T16:04:14.732201",
     "exception": false,
     "start_time": "2022-04-04T16:04:03.024855",
     "status": "completed"
    },
    "tags": []
   },
   "outputs": [
    {
     "data": {
      "application/vnd.jupyter.widget-view+json": {
       "model_id": "7a82bed903214234b04cb14f839c48f1",
       "version_major": 2,
       "version_minor": 0
      },
      "text/plain": [
       "Downloading:   0%|          | 0.00/310 [00:00<?, ?B/s]"
      ]
     },
     "metadata": {},
     "output_type": "display_data"
    },
    {
     "data": {
      "application/vnd.jupyter.widget-view+json": {
       "model_id": "9f15ede1941c408d82850ee3b93bb20a",
       "version_major": 2,
       "version_minor": 0
      },
      "text/plain": [
       "Downloading:   0%|          | 0.00/650 [00:00<?, ?B/s]"
      ]
     },
     "metadata": {},
     "output_type": "display_data"
    },
    {
     "data": {
      "application/vnd.jupyter.widget-view+json": {
       "model_id": "48974765b9f24a669b59b0dbb20ae1ce",
       "version_major": 2,
       "version_minor": 0
      },
      "text/plain": [
       "Downloading:   0%|          | 0.00/242k [00:00<?, ?B/s]"
      ]
     },
     "metadata": {},
     "output_type": "display_data"
    },
    {
     "data": {
      "application/vnd.jupyter.widget-view+json": {
       "model_id": "7aff215faa584cfeab00b051854b8c6a",
       "version_major": 2,
       "version_minor": 0
      },
      "text/plain": [
       "Downloading:   0%|          | 0.00/475k [00:00<?, ?B/s]"
      ]
     },
     "metadata": {},
     "output_type": "display_data"
    },
    {
     "data": {
      "application/vnd.jupyter.widget-view+json": {
       "model_id": "6001a5c2509c4d3283fdbd6567535c00",
       "version_major": 2,
       "version_minor": 0
      },
      "text/plain": [
       "Downloading:   0%|          | 0.00/134 [00:00<?, ?B/s]"
      ]
     },
     "metadata": {},
     "output_type": "display_data"
    }
   ],
   "source": [
    "from datasets import load_dataset\n",
    "from transformers import AutoTokenizer, DataCollatorWithPadding\n",
    "import numpy as np\n",
    "\n",
    "checkpoint = \"dccuchile/bert-base-spanish-wwm-uncased\"\n",
    "tokenizer = AutoTokenizer.from_pretrained(checkpoint)"
   ]
  },
  {
   "cell_type": "code",
   "execution_count": 5,
   "id": "2ad4aabc",
   "metadata": {
    "execution": {
     "iopub.execute_input": "2022-04-04T16:04:14.784164Z",
     "iopub.status.busy": "2022-04-04T16:04:14.783302Z",
     "iopub.status.idle": "2022-04-04T16:04:37.004840Z",
     "shell.execute_reply": "2022-04-04T16:04:37.004224Z",
     "shell.execute_reply.started": "2022-04-04T15:58:04.565554Z"
    },
    "papermill": {
     "duration": 22.249583,
     "end_time": "2022-04-04T16:04:37.005018",
     "exception": false,
     "start_time": "2022-04-04T16:04:14.755435",
     "status": "completed"
    },
    "tags": []
   },
   "outputs": [
    {
     "data": {
      "application/vnd.jupyter.widget-view+json": {
       "model_id": "a8530b2428584dc9b7023d3a3bc16df1",
       "version_major": 2,
       "version_minor": 0
      },
      "text/plain": [
       "Downloading:   0%|          | 0.00/512M [00:00<?, ?B/s]"
      ]
     },
     "metadata": {},
     "output_type": "display_data"
    },
    {
     "name": "stderr",
     "output_type": "stream",
     "text": [
      "2022-04-04 16:04:28.847441: I tensorflow/stream_executor/cuda/cuda_gpu_executor.cc:937] successful NUMA node read from SysFS had negative value (-1), but there must be at least one NUMA node, so returning NUMA node zero\n",
      "2022-04-04 16:04:28.848657: I tensorflow/stream_executor/cuda/cuda_gpu_executor.cc:937] successful NUMA node read from SysFS had negative value (-1), but there must be at least one NUMA node, so returning NUMA node zero\n",
      "2022-04-04 16:04:28.849514: I tensorflow/stream_executor/cuda/cuda_gpu_executor.cc:937] successful NUMA node read from SysFS had negative value (-1), but there must be at least one NUMA node, so returning NUMA node zero\n",
      "2022-04-04 16:04:28.850428: I tensorflow/core/platform/cpu_feature_guard.cc:142] This TensorFlow binary is optimized with oneAPI Deep Neural Network Library (oneDNN) to use the following CPU instructions in performance-critical operations:  AVX2 AVX512F FMA\n",
      "To enable them in other operations, rebuild TensorFlow with the appropriate compiler flags.\n",
      "2022-04-04 16:04:28.851626: I tensorflow/stream_executor/cuda/cuda_gpu_executor.cc:937] successful NUMA node read from SysFS had negative value (-1), but there must be at least one NUMA node, so returning NUMA node zero\n",
      "2022-04-04 16:04:28.852652: I tensorflow/stream_executor/cuda/cuda_gpu_executor.cc:937] successful NUMA node read from SysFS had negative value (-1), but there must be at least one NUMA node, so returning NUMA node zero\n",
      "2022-04-04 16:04:28.853313: I tensorflow/stream_executor/cuda/cuda_gpu_executor.cc:937] successful NUMA node read from SysFS had negative value (-1), but there must be at least one NUMA node, so returning NUMA node zero\n",
      "2022-04-04 16:04:34.510509: I tensorflow/stream_executor/cuda/cuda_gpu_executor.cc:937] successful NUMA node read from SysFS had negative value (-1), but there must be at least one NUMA node, so returning NUMA node zero\n",
      "2022-04-04 16:04:34.511386: I tensorflow/stream_executor/cuda/cuda_gpu_executor.cc:937] successful NUMA node read from SysFS had negative value (-1), but there must be at least one NUMA node, so returning NUMA node zero\n",
      "2022-04-04 16:04:34.512124: I tensorflow/stream_executor/cuda/cuda_gpu_executor.cc:937] successful NUMA node read from SysFS had negative value (-1), but there must be at least one NUMA node, so returning NUMA node zero\n",
      "2022-04-04 16:04:34.512761: I tensorflow/core/common_runtime/gpu/gpu_device.cc:1510] Created device /job:localhost/replica:0/task:0/device:GPU:0 with 14969 MB memory:  -> device: 0, name: Tesla P100-PCIE-16GB, pci bus id: 0000:00:04.0, compute capability: 6.0\n",
      "All model checkpoint layers were used when initializing TFBertForSequenceClassification.\n",
      "\n",
      "Some layers of TFBertForSequenceClassification were not initialized from the model checkpoint at dccuchile/bert-base-spanish-wwm-uncased and are newly initialized: ['classifier', 'bert/pooler/dense/bias:0', 'bert/pooler/dense/kernel:0']\n",
      "You should probably TRAIN this model on a down-stream task to be able to use it for predictions and inference.\n"
     ]
    }
   ],
   "source": [
    "from transformers import AutoModelForSequenceClassification, AutoConfig\n",
    "import tensorflow as tf\n",
    "import keras\n",
    "from tensorflow.keras.optimizers import Adam\n",
    "from transformers import AutoTokenizer, TFBertForSequenceClassification\n",
    "\n",
    "model = TFBertForSequenceClassification.from_pretrained(checkpoint, num_labels=2)\n",
    "# config = AutoConfig.from_pretrained(\"ProsusAI/finbert\")\n",
    "# config.num_labels = 2\n",
    "# model = TFAutoModelForSequenceClassification.from_config(config)\n"
   ]
  },
  {
   "cell_type": "code",
   "execution_count": 6,
   "id": "b7d8cb5d",
   "metadata": {
    "execution": {
     "iopub.execute_input": "2022-04-04T16:04:37.065168Z",
     "iopub.status.busy": "2022-04-04T16:04:37.064391Z",
     "iopub.status.idle": "2022-04-04T16:04:37.066856Z",
     "shell.execute_reply": "2022-04-04T16:04:37.067283Z",
     "shell.execute_reply.started": "2022-04-04T15:58:27.244609Z"
    },
    "papermill": {
     "duration": 0.034869,
     "end_time": "2022-04-04T16:04:37.067433",
     "exception": false,
     "start_time": "2022-04-04T16:04:37.032564",
     "status": "completed"
    },
    "tags": []
   },
   "outputs": [],
   "source": [
    "# from transformers import AutoModelForSequenceClassification, AutoConfig\n",
    "# import tensorflow as tf\n",
    "# import keras\n",
    "# from tensorflow.keras.optimizers import Adam\n",
    "# from transformers import AutoTokenizer, TFAutoModelForSequenceClassification\n",
    "\n",
    "# # model = AutoModelForSequenceClassification.from_pretrained(\"ProsusAI/finbert\", num_labels=2)\n",
    "# config = AutoConfig.from_pretrained(\"ProsusAI/finbert\")\n",
    "# config.num_labels = 2\n",
    "# model = TFAutoModelForSequenceClassification.from_config(config)\n"
   ]
  },
  {
   "cell_type": "code",
   "execution_count": 7,
   "id": "64c7a801",
   "metadata": {
    "execution": {
     "iopub.execute_input": "2022-04-04T16:04:37.123785Z",
     "iopub.status.busy": "2022-04-04T16:04:37.122185Z",
     "iopub.status.idle": "2022-04-04T16:04:37.124379Z",
     "shell.execute_reply": "2022-04-04T16:04:37.124787Z",
     "shell.execute_reply.started": "2022-04-04T15:58:27.250881Z"
    },
    "papermill": {
     "duration": 0.031533,
     "end_time": "2022-04-04T16:04:37.124918",
     "exception": false,
     "start_time": "2022-04-04T16:04:37.093385",
     "status": "completed"
    },
    "tags": []
   },
   "outputs": [],
   "source": [
    "# tokenizer = AutoTokenizer.from_pretrained(\"dccuchile/bert-base-spanish-wwm-uncased\")\n",
    "# tokenizer = AutoTokenizer.from_pretrained(\"ProsusAI/finbert\")\n",
    "# model = TFAutoModelForSequenceClassification.from_pretrained(\"ProsusAI/finbert\", from_pt=True, num_labels=1)"
   ]
  },
  {
   "cell_type": "code",
   "execution_count": 8,
   "id": "6bf3bc71",
   "metadata": {
    "execution": {
     "iopub.execute_input": "2022-04-04T16:04:37.178923Z",
     "iopub.status.busy": "2022-04-04T16:04:37.177344Z",
     "iopub.status.idle": "2022-04-04T16:04:37.179526Z",
     "shell.execute_reply": "2022-04-04T16:04:37.179928Z",
     "shell.execute_reply.started": "2022-04-04T15:58:27.262342Z"
    },
    "papermill": {
     "duration": 0.030771,
     "end_time": "2022-04-04T16:04:37.180076",
     "exception": false,
     "start_time": "2022-04-04T16:04:37.149305",
     "status": "completed"
    },
    "tags": []
   },
   "outputs": [],
   "source": [
    "# import numpy as np\n",
    "# proba_matrix = np.array(proba)\n",
    "# dataset_preds[\"Finbert_TL_2label\"] = proba_matrix.argmax(axis=1)"
   ]
  },
  {
   "cell_type": "code",
   "execution_count": 9,
   "id": "ca588a99",
   "metadata": {
    "execution": {
     "iopub.execute_input": "2022-04-04T16:04:37.239725Z",
     "iopub.status.busy": "2022-04-04T16:04:37.238912Z",
     "iopub.status.idle": "2022-04-04T16:04:37.241457Z",
     "shell.execute_reply": "2022-04-04T16:04:37.240983Z",
     "shell.execute_reply.started": "2022-04-04T15:58:27.270284Z"
    },
    "papermill": {
     "duration": 0.037,
     "end_time": "2022-04-04T16:04:37.241578",
     "exception": false,
     "start_time": "2022-04-04T16:04:37.204578",
     "status": "completed"
    },
    "tags": []
   },
   "outputs": [],
   "source": [
    "model.layers[0].trainable=False\n",
    "# model.layers[-1].activation=keras.activations.softmax"
   ]
  },
  {
   "cell_type": "code",
   "execution_count": 10,
   "id": "590aad90",
   "metadata": {
    "execution": {
     "iopub.execute_input": "2022-04-04T16:04:37.300928Z",
     "iopub.status.busy": "2022-04-04T16:04:37.300117Z",
     "iopub.status.idle": "2022-04-04T16:04:37.308203Z",
     "shell.execute_reply": "2022-04-04T16:04:37.307683Z",
     "shell.execute_reply.started": "2022-04-04T15:58:27.286977Z"
    },
    "papermill": {
     "duration": 0.042097,
     "end_time": "2022-04-04T16:04:37.308327",
     "exception": false,
     "start_time": "2022-04-04T16:04:37.266230",
     "status": "completed"
    },
    "tags": []
   },
   "outputs": [],
   "source": [
    "model.compile(\n",
    "loss=tf.keras.losses.SparseCategoricalCrossentropy(from_logits=True),\n",
    "optimizer=Adam(learning_rate=0.0001),\n",
    "metrics=['accuracy']\n",
    ")"
   ]
  },
  {
   "cell_type": "code",
   "execution_count": 11,
   "id": "e2194f46",
   "metadata": {
    "execution": {
     "iopub.execute_input": "2022-04-04T16:04:37.361743Z",
     "iopub.status.busy": "2022-04-04T16:04:37.361136Z",
     "iopub.status.idle": "2022-04-04T16:04:37.380400Z",
     "shell.execute_reply": "2022-04-04T16:04:37.379919Z",
     "shell.execute_reply.started": "2022-04-04T16:00:48.256342Z"
    },
    "papermill": {
     "duration": 0.048033,
     "end_time": "2022-04-04T16:04:37.380533",
     "exception": false,
     "start_time": "2022-04-04T16:04:37.332500",
     "status": "completed"
    },
    "tags": []
   },
   "outputs": [],
   "source": [
    "from sklearn.model_selection import train_test_split\n",
    "\n",
    "x_train, x_test, y_train, y_test = train_test_split(dataset.body, dataset.label, test_size=0.2, random_state=42)"
   ]
  },
  {
   "cell_type": "code",
   "execution_count": 12,
   "id": "65ae2967",
   "metadata": {
    "execution": {
     "iopub.execute_input": "2022-04-04T16:04:37.487717Z",
     "iopub.status.busy": "2022-04-04T16:04:37.487031Z",
     "iopub.status.idle": "2022-04-04T16:05:08.740448Z",
     "shell.execute_reply": "2022-04-04T16:05:08.740875Z",
     "shell.execute_reply.started": "2022-04-04T16:00:49.129772Z"
    },
    "papermill": {
     "duration": 31.335678,
     "end_time": "2022-04-04T16:05:08.741063",
     "exception": false,
     "start_time": "2022-04-04T16:04:37.405385",
     "status": "completed"
    },
    "tags": []
   },
   "outputs": [],
   "source": [
    "# tokenized_datasets = tokenizer(dataset.body.tolist()[:5], padding=True, truncation=True, return_tensors=\"tf\")\n",
    "x_train = tokenizer(x_train.tolist(), padding=\"max_length\", truncation=True, return_tensors=\"tf\")"
   ]
  },
  {
   "cell_type": "code",
   "execution_count": 13,
   "id": "fcfab061",
   "metadata": {
    "execution": {
     "iopub.execute_input": "2022-04-04T16:05:08.815724Z",
     "iopub.status.busy": "2022-04-04T16:05:08.812691Z",
     "iopub.status.idle": "2022-04-04T16:05:16.185596Z",
     "shell.execute_reply": "2022-04-04T16:05:16.184747Z",
     "shell.execute_reply.started": "2022-04-04T16:01:17.925553Z"
    },
    "papermill": {
     "duration": 7.420042,
     "end_time": "2022-04-04T16:05:16.185734",
     "exception": false,
     "start_time": "2022-04-04T16:05:08.765692",
     "status": "completed"
    },
    "tags": []
   },
   "outputs": [],
   "source": [
    "x_test = tokenizer(x_test.tolist(), padding=\"max_length\", truncation=True, return_tensors=\"tf\")"
   ]
  },
  {
   "cell_type": "code",
   "execution_count": 14,
   "id": "5ca3c167",
   "metadata": {
    "execution": {
     "iopub.execute_input": "2022-04-04T16:05:16.238139Z",
     "iopub.status.busy": "2022-04-04T16:05:16.237250Z",
     "iopub.status.idle": "2022-04-04T16:05:16.239823Z",
     "shell.execute_reply": "2022-04-04T16:05:16.239417Z",
     "shell.execute_reply.started": "2022-04-04T12:16:07.040921Z"
    },
    "papermill": {
     "duration": 0.03009,
     "end_time": "2022-04-04T16:05:16.239935",
     "exception": false,
     "start_time": "2022-04-04T16:05:16.209845",
     "status": "completed"
    },
    "tags": []
   },
   "outputs": [],
   "source": [
    "# tokens_w_labels = x_train.copy()\n",
    "\n",
    "# train_dataset = tf.data.Dataset.from_tensor_slices((\n",
    "#     dict(tokens_w_labels),\n",
    "#     y_train.values[:5]\n",
    "# ))"
   ]
  },
  {
   "cell_type": "code",
   "execution_count": 15,
   "id": "c434aaba",
   "metadata": {
    "execution": {
     "iopub.execute_input": "2022-04-04T16:05:16.296806Z",
     "iopub.status.busy": "2022-04-04T16:05:16.295910Z",
     "iopub.status.idle": "2022-04-04T18:16:54.727541Z",
     "shell.execute_reply": "2022-04-04T18:16:54.727004Z",
     "shell.execute_reply.started": "2022-04-04T16:02:20.420911Z"
    },
    "papermill": {
     "duration": 7898.463029,
     "end_time": "2022-04-04T18:16:54.727697",
     "exception": false,
     "start_time": "2022-04-04T16:05:16.264668",
     "status": "completed"
    },
    "tags": []
   },
   "outputs": [
    {
     "name": "stderr",
     "output_type": "stream",
     "text": [
      "2022-04-04 16:05:16.374129: I tensorflow/compiler/mlir/mlir_graph_optimization_pass.cc:185] None of the MLIR Optimization Passes are enabled (registered 2)\n"
     ]
    },
    {
     "name": "stdout",
     "output_type": "stream",
     "text": [
      "Epoch 1/20\n",
      "121/121 [==============================] - 410s 3s/step - loss: 0.6966 - accuracy: 0.4956 - val_loss: 0.6941 - val_accuracy: 0.4918\n",
      "Epoch 2/20\n",
      "121/121 [==============================] - 391s 3s/step - loss: 0.6948 - accuracy: 0.4993 - val_loss: 0.6939 - val_accuracy: 0.4947\n",
      "Epoch 3/20\n",
      "121/121 [==============================] - 391s 3s/step - loss: 0.6941 - accuracy: 0.5101 - val_loss: 0.6938 - val_accuracy: 0.5059\n",
      "Epoch 4/20\n",
      "121/121 [==============================] - 391s 3s/step - loss: 0.6939 - accuracy: 0.5091 - val_loss: 0.6937 - val_accuracy: 0.5123\n",
      "Epoch 5/20\n",
      "121/121 [==============================] - 391s 3s/step - loss: 0.6935 - accuracy: 0.5133 - val_loss: 0.6936 - val_accuracy: 0.5094\n",
      "Epoch 6/20\n",
      "121/121 [==============================] - 391s 3s/step - loss: 0.6928 - accuracy: 0.5143 - val_loss: 0.6935 - val_accuracy: 0.5082\n",
      "Epoch 7/20\n",
      "121/121 [==============================] - 391s 3s/step - loss: 0.6927 - accuracy: 0.5155 - val_loss: 0.6947 - val_accuracy: 0.5123\n",
      "Epoch 8/20\n",
      "121/121 [==============================] - 391s 3s/step - loss: 0.6934 - accuracy: 0.5105 - val_loss: 0.6947 - val_accuracy: 0.5059\n",
      "Epoch 9/20\n",
      "121/121 [==============================] - 391s 3s/step - loss: 0.6923 - accuracy: 0.5171 - val_loss: 0.6941 - val_accuracy: 0.4988\n",
      "Epoch 10/20\n",
      "121/121 [==============================] - 391s 3s/step - loss: 0.6923 - accuracy: 0.5168 - val_loss: 0.6945 - val_accuracy: 0.5064\n",
      "Epoch 11/20\n",
      "121/121 [==============================] - 391s 3s/step - loss: 0.6923 - accuracy: 0.5134 - val_loss: 0.6938 - val_accuracy: 0.5041\n",
      "Epoch 12/20\n",
      "121/121 [==============================] - 391s 3s/step - loss: 0.6923 - accuracy: 0.5170 - val_loss: 0.6938 - val_accuracy: 0.5000\n",
      "Epoch 13/20\n",
      "121/121 [==============================] - 391s 3s/step - loss: 0.6911 - accuracy: 0.5221 - val_loss: 0.6941 - val_accuracy: 0.4994\n",
      "Epoch 14/20\n",
      "121/121 [==============================] - 391s 3s/step - loss: 0.6923 - accuracy: 0.5158 - val_loss: 0.6941 - val_accuracy: 0.4994\n",
      "Epoch 15/20\n",
      "121/121 [==============================] - 391s 3s/step - loss: 0.6911 - accuracy: 0.5253 - val_loss: 0.6943 - val_accuracy: 0.5018\n",
      "Epoch 16/20\n",
      "121/121 [==============================] - 391s 3s/step - loss: 0.6911 - accuracy: 0.5253 - val_loss: 0.6960 - val_accuracy: 0.5088\n",
      "Epoch 17/20\n",
      "121/121 [==============================] - 391s 3s/step - loss: 0.6910 - accuracy: 0.5267 - val_loss: 0.6943 - val_accuracy: 0.4988\n",
      "Epoch 18/20\n",
      "121/121 [==============================] - 391s 3s/step - loss: 0.6902 - accuracy: 0.5299 - val_loss: 0.6941 - val_accuracy: 0.5029\n",
      "Epoch 19/20\n",
      "121/121 [==============================] - 391s 3s/step - loss: 0.6907 - accuracy: 0.5260 - val_loss: 0.6946 - val_accuracy: 0.4953\n",
      "Epoch 20/20\n",
      "121/121 [==============================] - 391s 3s/step - loss: 0.6907 - accuracy: 0.5253 - val_loss: 0.6940 - val_accuracy: 0.4982\n"
     ]
    }
   ],
   "source": [
    "from tensorflow.keras.callbacks import ModelCheckpoint\n",
    "\n",
    "filepath = './checkpoint'\n",
    "model_checkpoint_callback = ModelCheckpoint(\n",
    "    filepath=filepath,\n",
    "    save_weights_only=True,\n",
    "    monitor='val_accuracy',\n",
    "    mode='max',\n",
    "    save_best_only=True\n",
    ")\n",
    "\n",
    "hist = model.fit(\n",
    "    dict(x_train),\n",
    "    y_train,\n",
    "    batch_size=128,\n",
    "    epochs=20,\n",
    "    validation_split=0.1,\n",
    "    callbacks=[model_checkpoint_callback]\n",
    "    )"
   ]
  },
  {
   "cell_type": "code",
   "execution_count": 16,
   "id": "d54074e8",
   "metadata": {
    "execution": {
     "iopub.execute_input": "2022-04-04T18:16:56.543143Z",
     "iopub.status.busy": "2022-04-04T18:16:56.542431Z",
     "iopub.status.idle": "2022-04-04T18:16:56.761614Z",
     "shell.execute_reply": "2022-04-04T18:16:56.762093Z",
     "shell.execute_reply.started": "2022-04-04T07:04:05.999878Z"
    },
    "papermill": {
     "duration": 1.009732,
     "end_time": "2022-04-04T18:16:56.762241",
     "exception": false,
     "start_time": "2022-04-04T18:16:55.752509",
     "status": "completed"
    },
    "tags": []
   },
   "outputs": [
    {
     "data": {
      "image/png": "[encoded data removed]",
      "text/plain": [
       "<Figure size 432x288 with 1 Axes>"
      ]
     },
     "metadata": {
      "needs_background": "light"
     },
     "output_type": "display_data"
    }
   ],
   "source": [
    "import matplotlib.pyplot as plt\n",
    "plt.plot(hist.history['accuracy'])\n",
    "plt.plot(hist.history['val_accuracy'])\n",
    "plt.grid()\n",
    "plt.show()"
   ]
  },
  {
   "cell_type": "code",
   "execution_count": 17,
   "id": "e2a32fbb",
   "metadata": {
    "execution": {
     "iopub.execute_input": "2022-04-04T18:16:58.398230Z",
     "iopub.status.busy": "2022-04-04T18:16:58.397422Z",
     "iopub.status.idle": "2022-04-04T18:19:21.556316Z",
     "shell.execute_reply": "2022-04-04T18:19:21.556772Z",
     "shell.execute_reply.started": "2022-04-04T07:04:06.221800Z"
    },
    "papermill": {
     "duration": 144.004983,
     "end_time": "2022-04-04T18:19:21.556927",
     "exception": false,
     "start_time": "2022-04-04T18:16:57.551944",
     "status": "completed"
    },
    "tags": []
   },
   "outputs": [
    {
     "name": "stdout",
     "output_type": "stream",
     "text": [
      "134/134 [==============================] - 89s 662ms/step - loss: 0.6939 - accuracy: 0.5137\n"
     ]
    },
    {
     "data": {
      "text/plain": [
       "[0.693880021572113, 0.513703465461731]"
      ]
     },
     "execution_count": 17,
     "metadata": {},
     "output_type": "execute_result"
    }
   ],
   "source": [
    "model.load_weights(filepath)\n",
    "model.evaluate(x_test.data, y_test)"
   ]
  },
  {
   "cell_type": "code",
   "execution_count": 18,
   "id": "39dc2630",
   "metadata": {
    "execution": {
     "iopub.execute_input": "2022-04-04T18:19:23.224367Z",
     "iopub.status.busy": "2022-04-04T18:19:23.223494Z",
     "iopub.status.idle": "2022-04-04T18:21:47.671536Z",
     "shell.execute_reply": "2022-04-04T18:21:47.671967Z",
     "shell.execute_reply.started": "2022-04-04T07:04:07.295808Z"
    },
    "papermill": {
     "duration": 145.265098,
     "end_time": "2022-04-04T18:21:47.672197",
     "exception": false,
     "start_time": "2022-04-04T18:19:22.407099",
     "status": "completed"
    },
    "tags": []
   },
   "outputs": [],
   "source": [
    "y_pred = model.predict(x_test.data)"
   ]
  },
  {
   "cell_type": "code",
   "execution_count": 19,
   "id": "f152e7fc",
   "metadata": {
    "execution": {
     "iopub.execute_input": "2022-04-04T18:21:49.353992Z",
     "iopub.status.busy": "2022-04-04T18:21:49.352386Z",
     "iopub.status.idle": "2022-04-04T18:21:49.354599Z",
     "shell.execute_reply": "2022-04-04T18:21:49.354987Z",
     "shell.execute_reply.started": "2022-04-04T07:04:10.240548Z"
    },
    "papermill": {
     "duration": 0.816513,
     "end_time": "2022-04-04T18:21:49.355162",
     "exception": false,
     "start_time": "2022-04-04T18:21:48.538649",
     "status": "completed"
    },
    "tags": []
   },
   "outputs": [],
   "source": [
    "from sklearn.metrics import (classification_report,\n",
    "                             confusion_matrix,\n",
    "                             roc_auc_score, precision_score)"
   ]
  },
  {
   "cell_type": "code",
   "execution_count": 20,
   "id": "e406b54c",
   "metadata": {
    "execution": {
     "iopub.execute_input": "2022-04-04T18:21:51.059302Z",
     "iopub.status.busy": "2022-04-04T18:21:51.057603Z",
     "iopub.status.idle": "2022-04-04T18:21:51.059865Z",
     "shell.execute_reply": "2022-04-04T18:21:51.060296Z",
     "shell.execute_reply.started": "2022-04-04T07:07:18.658430Z"
    },
    "papermill": {
     "duration": 0.827665,
     "end_time": "2022-04-04T18:21:51.060449",
     "exception": false,
     "start_time": "2022-04-04T18:21:50.232784",
     "status": "completed"
    },
    "tags": []
   },
   "outputs": [],
   "source": [
    "y_pred = y_pred.logits.argmax(axis=1)"
   ]
  },
  {
   "cell_type": "code",
   "execution_count": 21,
   "id": "fa724d4d",
   "metadata": {
    "execution": {
     "iopub.execute_input": "2022-04-04T18:21:53.038891Z",
     "iopub.status.busy": "2022-04-04T18:21:53.038020Z",
     "iopub.status.idle": "2022-04-04T18:21:53.050084Z",
     "shell.execute_reply": "2022-04-04T18:21:53.050609Z",
     "shell.execute_reply.started": "2022-04-04T07:07:25.424339Z"
    },
    "papermill": {
     "duration": 1.101159,
     "end_time": "2022-04-04T18:21:53.050768",
     "exception": false,
     "start_time": "2022-04-04T18:21:51.949609",
     "status": "completed"
    },
    "tags": []
   },
   "outputs": [
    {
     "name": "stdout",
     "output_type": "stream",
     "text": [
      "              precision    recall  f1-score   support\n",
      "\n",
      "           0       0.51      0.65      0.57      2149\n",
      "           1       0.51      0.38      0.44      2120\n",
      "\n",
      "    accuracy                           0.51      4269\n",
      "   macro avg       0.51      0.51      0.50      4269\n",
      "weighted avg       0.51      0.51      0.50      4269\n",
      "\n"
     ]
    }
   ],
   "source": [
    "report = classification_report(y_test, y_pred)\n",
    "print(report)"
   ]
  },
  {
   "cell_type": "code",
   "execution_count": 22,
   "id": "bd659e65",
   "metadata": {
    "execution": {
     "iopub.execute_input": "2022-04-04T18:21:54.785188Z",
     "iopub.status.busy": "2022-04-04T18:21:54.784543Z",
     "iopub.status.idle": "2022-04-04T18:21:55.071380Z",
     "shell.execute_reply": "2022-04-04T18:21:55.071765Z",
     "shell.execute_reply.started": "2022-04-04T07:08:09.656425Z"
    },
    "papermill": {
     "duration": 1.200752,
     "end_time": "2022-04-04T18:21:55.071917",
     "exception": false,
     "start_time": "2022-04-04T18:21:53.871165",
     "status": "completed"
    },
    "tags": []
   },
   "outputs": [
    {
     "data": {
      "image/png": "[encoded data removed]",
      "text/plain": [
       "<Figure size 360x360 with 2 Axes>"
      ]
     },
     "metadata": {
      "needs_background": "light"
     },
     "output_type": "display_data"
    }
   ],
   "source": [
    "import numpy as np\n",
    "import matplotlib as mpl\n",
    "import matplotlib.pyplot as plt\n",
    "import seaborn as sns\n",
    "\n",
    "def plot_cm(labels, predictions, p=0.5):\n",
    "    cm = confusion_matrix(labels, predictions)\n",
    "    plt.figure(figsize=(5, 5))\n",
    "    sns.heatmap(cm, annot=True, fmt=\"d\")\n",
    "    plt.title(\"Confusion matrix (non-normalized))\")\n",
    "    plt.ylabel(\"Actual label\")\n",
    "    plt.xlabel(\"Predicted label\")\n",
    "\n",
    "\n",
    "plot_cm(y_test, y_pred)"
   ]
  }
 ],
 "metadata": {
  "kernelspec": {
   "display_name": "Python 3",
   "language": "python",
   "name": "python3"
  },
  "language_info": {
   "codemirror_mode": {
    "name": "ipython",
    "version": 3
   },
   "file_extension": ".py",
   "mimetype": "text/x-python",
   "name": "python",
   "nbconvert_exporter": "python",
   "pygments_lexer": "ipython3",
   "version": "3.7.12"
  },
  "papermill": {
   "default_parameters": {},
   "duration": 8288.669959,
   "end_time": "2022-04-04T18:21:59.322423",
   "environment_variables": {},
   "exception": null,
   "input_path": "__notebook__.ipynb",
   "output_path": "__notebook__.ipynb",
   "parameters": {},
   "start_time": "2022-04-04T16:03:50.652464",
   "version": "2.3.3"
  },
  "widgets": {
   "application/vnd.jupyter.widget-state+json": {
    "state": {
     "024c05721369498ba114ff86b20bcca9": {
      "model_module": "@jupyter-widgets/controls",
      "model_module_version": "1.5.0",
      "model_name": "HTMLModel",
      "state": {
       "_dom_classes": [],
       "_model_module": "@jupyter-widgets/controls",
       "_model_module_version": "1.5.0",
       "_model_name": "HTMLModel",
       "_view_count": null,
       "_view_module": "@jupyter-widgets/controls",
       "_view_module_version": "1.5.0",
       "_view_name": "HTMLView",
       "description": "",
       "description_tooltip": null,
       "layout": "IPY_MODEL_286bb9696615470faf7799e3de9058b7",
       "placeholder": "​",
       "style": "IPY_MODEL_14e4255aba514407ad3122a1123f8c56",
       "value": "Downloading: 100%"
      }
     },
     "09f0b95ac9374cffbca2bddb121e3d6e": {
      "model_module": "@jupyter-widgets/controls",
      "model_module_version": "1.5.0",
      "model_name": "ProgressStyleModel",
      "state": {
       "_model_module": "@jupyter-widgets/controls",
       "_model_module_version": "1.5.0",
       "_model_name": "ProgressStyleModel",
       "_view_count": null,
       "_view_module": "@jupyter-widgets/base",
       "_view_module_version": "1.2.0",
       "_view_name": "StyleView",
       "bar_color": null,
       "description_width": ""
      }
     },
     "0a567273a4a141c0802bb82ede992a38": {
      "model_module": "@jupyter-widgets/controls",
      "model_module_version": "1.5.0",
      "model_name": "HTMLModel",
      "state": {
       "_dom_classes": [],
       "_model_module": "@jupyter-widgets/controls",
       "_model_module_version": "1.5.0",
       "_model_name": "HTMLModel",
       "_view_count": null,
       "_view_module": "@jupyter-widgets/controls",
       "_view_module_version": "1.5.0",
       "_view_name": "HTMLView",
       "description": "",
       "description_tooltip": null,
       "layout": "IPY_MODEL_317c77e8dfa94ee39442c30d6043de0a",
       "placeholder": "​",
       "style": "IPY_MODEL_4a6b3eb184214d7f8e6cb98b5d13f8f2",
       "value": " 310/310 [00:00&lt;00:00, 12.3kB/s]"
      }
     },
     "0b9ded1537f044b0baa6a5901b96c3d0": {
      "model_module": "@jupyter-widgets/base",
      "model_module_version": "1.2.0",
      "model_name": "LayoutModel",
      "state": {
       "_model_module": "@jupyter-widgets/base",
       "_model_module_version": "1.2.0",
       "_model_name": "LayoutModel",
       "_view_count": null,
       "_view_module": "@jupyter-widgets/base",
       "_view_module_version": "1.2.0",
       "_view_name": "LayoutView",
       "align_content": null,
       "align_items": null,
       "align_self": null,
       "border": null,
       "bottom": null,
       "display": null,
       "flex": null,
       "flex_flow": null,
       "grid_area": null,
       "grid_auto_columns": null,
       "grid_auto_flow": null,
       "grid_auto_rows": null,
       "grid_column": null,
       "grid_gap": null,
       "grid_row": null,
       "grid_template_areas": null,
       "grid_template_columns": null,
       "grid_template_rows": null,
       "height": null,
       "justify_content": null,
       "justify_items": null,
       "left": null,
       "margin": null,
       "max_height": null,
       "max_width": null,
       "min_height": null,
       "min_width": null,
       "object_fit": null,
       "object_position": null,
       "order": null,
       "overflow": null,
       "overflow_x": null,
       "overflow_y": null,
       "padding": null,
       "right": null,
       "top": null,
       "visibility": null,
       "width": null
      }
     },
     "0d00464d13c1409cace3c008b212f892": {
      "model_module": "@jupyter-widgets/controls",
      "model_module_version": "1.5.0",
      "model_name": "FloatProgressModel",
      "state": {
       "_dom_classes": [],
       "_model_module": "@jupyter-widgets/controls",
       "_model_module_version": "1.5.0",
       "_model_name": "FloatProgressModel",
       "_view_count": null,
       "_view_module": "@jupyter-widgets/controls",
       "_view_module_version": "1.5.0",
       "_view_name": "ProgressView",
       "bar_style": "success",
       "description": "",
       "description_tooltip": null,
       "layout": "IPY_MODEL_0b9ded1537f044b0baa6a5901b96c3d0",
       "max": 650,
       "min": 0,
       "orientation": "horizontal",
       "style": "IPY_MODEL_69b5a8198297446bb5446b91811b3ae1",
       "value": 650
      }
     },
     "10215dcd3cec44e09d94f4ea51bbfec5": {
      "model_module": "@jupyter-widgets/controls",
      "model_module_version": "1.5.0",
      "model_name": "HTMLModel",
      "state": {
       "_dom_classes": [],
       "_model_module": "@jupyter-widgets/controls",
       "_model_module_version": "1.5.0",
       "_model_name": "HTMLModel",
       "_view_count": null,
       "_view_module": "@jupyter-widgets/controls",
       "_view_module_version": "1.5.0",
       "_view_name": "HTMLView",
       "description": "",
       "description_tooltip": null,
       "layout": "IPY_MODEL_bb397d72c4ca400bb0b73d6070feb6ca",
       "placeholder": "​",
       "style": "IPY_MODEL_806edcb3f4094e18800fcd3da816350e",
       "value": " 475k/475k [00:00&lt;00:00, 812kB/s]"
      }
     },
     "1480c67df0dd4e59a2a5f18101f76c1b": {
      "model_module": "@jupyter-widgets/base",
      "model_module_version": "1.2.0",
      "model_name": "LayoutModel",
      "state": {
       "_model_module": "@jupyter-widgets/base",
       "_model_module_version": "1.2.0",
       "_model_name": "LayoutModel",
       "_view_count": null,
       "_view_module": "@jupyter-widgets/base",
       "_view_module_version": "1.2.0",
       "_view_name": "LayoutView",
       "align_content": null,
       "align_items": null,
       "align_self": null,
       "border": null,
       "bottom": null,
       "display": null,
       "flex": null,
       "flex_flow": null,
       "grid_area": null,
       "grid_auto_columns": null,
       "grid_auto_flow": null,
       "grid_auto_rows": null,
       "grid_column": null,
       "grid_gap": null,
       "grid_row": null,
       "grid_template_areas": null,
       "grid_template_columns": null,
       "grid_template_rows": null,
       "height": null,
       "justify_content": null,
       "justify_items": null,
       "left": null,
       "margin": null,
       "max_height": null,
       "max_width": null,
       "min_height": null,
       "min_width": null,
       "object_fit": null,
       "object_position": null,
       "order": null,
       "overflow": null,
       "overflow_x": null,
       "overflow_y": null,
       "padding": null,
       "right": null,
       "top": null,
       "visibility": null,
       "width": null
      }
     },
     "14e4255aba514407ad3122a1123f8c56": {
      "model_module": "@jupyter-widgets/controls",
      "model_module_version": "1.5.0",
      "model_name": "DescriptionStyleModel",
      "state": {
       "_model_module": "@jupyter-widgets/controls",
       "_model_module_version": "1.5.0",
       "_model_name": "DescriptionStyleModel",
       "_view_count": null,
       "_view_module": "@jupyter-widgets/base",
       "_view_module_version": "1.2.0",
       "_view_name": "StyleView",
       "description_width": ""
      }
     },
     "15ac710d177c498fa51afe801d3d7122": {
      "model_module": "@jupyter-widgets/controls",
      "model_module_version": "1.5.0",
      "model_name": "HTMLModel",
      "state": {
       "_dom_classes": [],
       "_model_module": "@jupyter-widgets/controls",
       "_model_module_version": "1.5.0",
       "_model_name": "HTMLModel",
       "_view_count": null,
       "_view_module": "@jupyter-widgets/controls",
       "_view_module_version": "1.5.0",
       "_view_name": "HTMLView",
       "description": "",
       "description_tooltip": null,
       "layout": "IPY_MODEL_69483fbd82694c8889140040d6d2c8a2",
       "placeholder": "​",
       "style": "IPY_MODEL_d450b38a39884c3aa0d2c965839ad2ed",
       "value": " 650/650 [00:00&lt;00:00, 23.8kB/s]"
      }
     },
     "1d120403736141b7a1b742e313131bfa": {
      "model_module": "@jupyter-widgets/controls",
      "model_module_version": "1.5.0",
      "model_name": "FloatProgressModel",
      "state": {
       "_dom_classes": [],
       "_model_module": "@jupyter-widgets/controls",
       "_model_module_version": "1.5.0",
       "_model_name": "FloatProgressModel",
       "_view_count": null,
       "_view_module": "@jupyter-widgets/controls",
       "_view_module_version": "1.5.0",
       "_view_name": "ProgressView",
       "bar_style": "success",
       "description": "",
       "description_tooltip": null,
       "layout": "IPY_MODEL_5056f770d4f84524b1fc20575d61a7cb",
       "max": 247723,
       "min": 0,
       "orientation": "horizontal",
       "style": "IPY_MODEL_a5582657ca0e433bbce75375dd95e95a",
       "value": 247723
      }
     },
     "2023aabf0eab42618a40a6be129ae3ba": {
      "model_module": "@jupyter-widgets/controls",
      "model_module_version": "1.5.0",
      "model_name": "DescriptionStyleModel",
      "state": {
       "_model_module": "@jupyter-widgets/controls",
       "_model_module_version": "1.5.0",
       "_model_name": "DescriptionStyleModel",
       "_view_count": null,
       "_view_module": "@jupyter-widgets/base",
       "_view_module_version": "1.2.0",
       "_view_name": "StyleView",
       "description_width": ""
      }
     },
     "22c1c5373c5246dea7f0f45958cf5798": {
      "model_module": "@jupyter-widgets/base",
      "model_module_version": "1.2.0",
      "model_name": "LayoutModel",
      "state": {
       "_model_module": "@jupyter-widgets/base",
       "_model_module_version": "1.2.0",
       "_model_name": "LayoutModel",
       "_view_count": null,
       "_view_module": "@jupyter-widgets/base",
       "_view_module_version": "1.2.0",
       "_view_name": "LayoutView",
       "align_content": null,
       "align_items": null,
       "align_self": null,
       "border": null,
       "bottom": null,
       "display": null,
       "flex": null,
       "flex_flow": null,
       "grid_area": null,
       "grid_auto_columns": null,
       "grid_auto_flow": null,
       "grid_auto_rows": null,
       "grid_column": null,
       "grid_gap": null,
       "grid_row": null,
       "grid_template_areas": null,
       "grid_template_columns": null,
       "grid_template_rows": null,
       "height": null,
       "justify_content": null,
       "justify_items": null,
       "left": null,
       "margin": null,
       "max_height": null,
       "max_width": null,
       "min_height": null,
       "min_width": null,
       "object_fit": null,
       "object_position": null,
       "order": null,
       "overflow": null,
       "overflow_x": null,
       "overflow_y": null,
       "padding": null,
       "right": null,
       "top": null,
       "visibility": null,
       "width": null
      }
     },
     "25837cf9994c4377abd33e4564c0a46c": {
      "model_module": "@jupyter-widgets/base",
      "model_module_version": "1.2.0",
      "model_name": "LayoutModel",
      "state": {
       "_model_module": "@jupyter-widgets/base",
       "_model_module_version": "1.2.0",
       "_model_name": "LayoutModel",
       "_view_count": null,
       "_view_module": "@jupyter-widgets/base",
       "_view_module_version": "1.2.0",
       "_view_name": "LayoutView",
       "align_content": null,
       "align_items": null,
       "align_self": null,
       "border": null,
       "bottom": null,
       "display": null,
       "flex": null,
       "flex_flow": null,
       "grid_area": null,
       "grid_auto_columns": null,
       "grid_auto_flow": null,
       "grid_auto_rows": null,
       "grid_column": null,
       "grid_gap": null,
       "grid_row": null,
       "grid_template_areas": null,
       "grid_template_columns": null,
       "grid_template_rows": null,
       "height": null,
       "justify_content": null,
       "justify_items": null,
       "left": null,
       "margin": null,
       "max_height": null,
       "max_width": null,
       "min_height": null,
       "min_width": null,
       "object_fit": null,
       "object_position": null,
       "order": null,
       "overflow": null,
       "overflow_x": null,
       "overflow_y": null,
       "padding": null,
       "right": null,
       "top": null,
       "visibility": null,
       "width": null
      }
     },
     "268344e492d34bbfbf3c40c77cefbb02": {
      "model_module": "@jupyter-widgets/controls",
      "model_module_version": "1.5.0",
      "model_name": "DescriptionStyleModel",
      "state": {
       "_model_module": "@jupyter-widgets/controls",
       "_model_module_version": "1.5.0",
       "_model_name": "DescriptionStyleModel",
       "_view_count": null,
       "_view_module": "@jupyter-widgets/base",
       "_view_module_version": "1.2.0",
       "_view_name": "StyleView",
       "description_width": ""
      }
     },
     "2825ea4f59e643c7bc9c5e0463b720f6": {
      "model_module": "@jupyter-widgets/controls",
      "model_module_version": "1.5.0",
      "model_name": "DescriptionStyleModel",
      "state": {
       "_model_module": "@jupyter-widgets/controls",
       "_model_module_version": "1.5.0",
       "_model_name": "DescriptionStyleModel",
       "_view_count": null,
       "_view_module": "@jupyter-widgets/base",
       "_view_module_version": "1.2.0",
       "_view_name": "StyleView",
       "description_width": ""
      }
     },
     "286bb9696615470faf7799e3de9058b7": {
      "model_module": "@jupyter-widgets/base",
      "model_module_version": "1.2.0",
      "model_name": "LayoutModel",
      "state": {
       "_model_module": "@jupyter-widgets/base",
       "_model_module_version": "1.2.0",
       "_model_name": "LayoutModel",
       "_view_count": null,
       "_view_module": "@jupyter-widgets/base",
       "_view_module_version": "1.2.0",
       "_view_name": "LayoutView",
       "align_content": null,
       "align_items": null,
       "align_self": null,
       "border": null,
       "bottom": null,
       "display": null,
       "flex": null,
       "flex_flow": null,
       "grid_area": null,
       "grid_auto_columns": null,
       "grid_auto_flow": null,
       "grid_auto_rows": null,
       "grid_column": null,
       "grid_gap": null,
       "grid_row": null,
       "grid_template_areas": null,
       "grid_template_columns": null,
       "grid_template_rows": null,
       "height": null,
       "justify_content": null,
       "justify_items": null,
       "left": null,
       "margin": null,
       "max_height": null,
       "max_width": null,
       "min_height": null,
       "min_width": null,
       "object_fit": null,
       "object_position": null,
       "order": null,
       "overflow": null,
       "overflow_x": null,
       "overflow_y": null,
       "padding": null,
       "right": null,
       "top": null,
       "visibility": null,
       "width": null
      }
     },
     "28b3842169af4ca59d003cb58deeee27": {
      "model_module": "@jupyter-widgets/controls",
      "model_module_version": "1.5.0",
      "model_name": "DescriptionStyleModel",
      "state": {
       "_model_module": "@jupyter-widgets/controls",
       "_model_module_version": "1.5.0",
       "_model_name": "DescriptionStyleModel",
       "_view_count": null,
       "_view_module": "@jupyter-widgets/base",
       "_view_module_version": "1.2.0",
       "_view_name": "StyleView",
       "description_width": ""
      }
     },
     "29a135850f594193b9e14b2742b4f69f": {
      "model_module": "@jupyter-widgets/base",
      "model_module_version": "1.2.0",
      "model_name": "LayoutModel",
      "state": {
       "_model_module": "@jupyter-widgets/base",
       "_model_module_version": "1.2.0",
       "_model_name": "LayoutModel",
       "_view_count": null,
       "_view_module": "@jupyter-widgets/base",
       "_view_module_version": "1.2.0",
       "_view_name": "LayoutView",
       "align_content": null,
       "align_items": null,
       "align_self": null,
       "border": null,
       "bottom": null,
       "display": null,
       "flex": null,
       "flex_flow": null,
       "grid_area": null,
       "grid_auto_columns": null,
       "grid_auto_flow": null,
       "grid_auto_rows": null,
       "grid_column": null,
       "grid_gap": null,
       "grid_row": null,
       "grid_template_areas": null,
       "grid_template_columns": null,
       "grid_template_rows": null,
       "height": null,
       "justify_content": null,
       "justify_items": null,
       "left": null,
       "margin": null,
       "max_height": null,
       "max_width": null,
       "min_height": null,
       "min_width": null,
       "object_fit": null,
       "object_position": null,
       "order": null,
       "overflow": null,
       "overflow_x": null,
       "overflow_y": null,
       "padding": null,
       "right": null,
       "top": null,
       "visibility": null,
       "width": null
      }
     },
     "30f4e3a1e57c4faaacef0ed3b03fe6a4": {
      "model_module": "@jupyter-widgets/controls",
      "model_module_version": "1.5.0",
      "model_name": "HTMLModel",
      "state": {
       "_dom_classes": [],
       "_model_module": "@jupyter-widgets/controls",
       "_model_module_version": "1.5.0",
       "_model_name": "HTMLModel",
       "_view_count": null,
       "_view_module": "@jupyter-widgets/controls",
       "_view_module_version": "1.5.0",
       "_view_name": "HTMLView",
       "description": "",
       "description_tooltip": null,
       "layout": "IPY_MODEL_a59fe08a6a60457090f30b82f8b1d79f",
       "placeholder": "​",
       "style": "IPY_MODEL_af95ab89ca70481991a6019c629eb928",
       "value": "Downloading: 100%"
      }
     },
     "317c77e8dfa94ee39442c30d6043de0a": {
      "model_module": "@jupyter-widgets/base",
      "model_module_version": "1.2.0",
      "model_name": "LayoutModel",
      "state": {
       "_model_module": "@jupyter-widgets/base",
       "_model_module_version": "1.2.0",
       "_model_name": "LayoutModel",
       "_view_count": null,
       "_view_module": "@jupyter-widgets/base",
       "_view_module_version": "1.2.0",
       "_view_name": "LayoutView",
       "align_content": null,
       "align_items": null,
       "align_self": null,
       "border": null,
       "bottom": null,
       "display": null,
       "flex": null,
       "flex_flow": null,
       "grid_area": null,
       "grid_auto_columns": null,
       "grid_auto_flow": null,
       "grid_auto_rows": null,
       "grid_column": null,
       "grid_gap": null,
       "grid_row": null,
       "grid_template_areas": null,
       "grid_template_columns": null,
       "grid_template_rows": null,
       "height": null,
       "justify_content": null,
       "justify_items": null,
       "left": null,
       "margin": null,
       "max_height": null,
       "max_width": null,
       "min_height": null,
       "min_width": null,
       "object_fit": null,
       "object_position": null,
       "order": null,
       "overflow": null,
       "overflow_x": null,
       "overflow_y": null,
       "padding": null,
       "right": null,
       "top": null,
       "visibility": null,
       "width": null
      }
     },
     "416c961d3c0d43de8a207350634d6414": {
      "model_module": "@jupyter-widgets/base",
      "model_module_version": "1.2.0",
      "model_name": "LayoutModel",
      "state": {
       "_model_module": "@jupyter-widgets/base",
       "_model_module_version": "1.2.0",
       "_model_name": "LayoutModel",
       "_view_count": null,
       "_view_module": "@jupyter-widgets/base",
       "_view_module_version": "1.2.0",
       "_view_name": "LayoutView",
       "align_content": null,
       "align_items": null,
       "align_self": null,
       "border": null,
       "bottom": null,
       "display": null,
       "flex": null,
       "flex_flow": null,
       "grid_area": null,
       "grid_auto_columns": null,
       "grid_auto_flow": null,
       "grid_auto_rows": null,
       "grid_column": null,
       "grid_gap": null,
       "grid_row": null,
       "grid_template_areas": null,
       "grid_template_columns": null,
       "grid_template_rows": null,
       "height": null,
       "justify_content": null,
       "justify_items": null,
       "left": null,
       "margin": null,
       "max_height": null,
       "max_width": null,
       "min_height": null,
       "min_width": null,
       "object_fit": null,
       "object_position": null,
       "order": null,
       "overflow": null,
       "overflow_x": null,
       "overflow_y": null,
       "padding": null,
       "right": null,
       "top": null,
       "visibility": null,
       "width": null
      }
     },
     "470adb2dd98d406985cf0aa07fdcbf23": {
      "model_module": "@jupyter-widgets/controls",
      "model_module_version": "1.5.0",
      "model_name": "HTMLModel",
      "state": {
       "_dom_classes": [],
       "_model_module": "@jupyter-widgets/controls",
       "_model_module_version": "1.5.0",
       "_model_name": "HTMLModel",
       "_view_count": null,
       "_view_module": "@jupyter-widgets/controls",
       "_view_module_version": "1.5.0",
       "_view_name": "HTMLView",
       "description": "",
       "description_tooltip": null,
       "layout": "IPY_MODEL_494deaa930954f6d882620b54381d82b",
       "placeholder": "​",
       "style": "IPY_MODEL_582617a7274744bc86411c1cb11272e0",
       "value": " 134/134 [00:00&lt;00:00, 5.07kB/s]"
      }
     },
     "48974765b9f24a669b59b0dbb20ae1ce": {
      "model_module": "@jupyter-widgets/controls",
      "model_module_version": "1.5.0",
      "model_name": "HBoxModel",
      "state": {
       "_dom_classes": [],
       "_model_module": "@jupyter-widgets/controls",
       "_model_module_version": "1.5.0",
       "_model_name": "HBoxModel",
       "_view_count": null,
       "_view_module": "@jupyter-widgets/controls",
       "_view_module_version": "1.5.0",
       "_view_name": "HBoxView",
       "box_style": "",
       "children": [
        "IPY_MODEL_c363060083c446d48a111ad2fbeddfee",
        "IPY_MODEL_1d120403736141b7a1b742e313131bfa",
        "IPY_MODEL_8b3ac74842184d698b1a64b9b1325a43"
       ],
       "layout": "IPY_MODEL_7fb9790926a443e38bd7d952b5d19d63"
      }
     },
     "4930d65a15134fae977a7b58d4322e15": {
      "model_module": "@jupyter-widgets/base",
      "model_module_version": "1.2.0",
      "model_name": "LayoutModel",
      "state": {
       "_model_module": "@jupyter-widgets/base",
       "_model_module_version": "1.2.0",
       "_model_name": "LayoutModel",
       "_view_count": null,
       "_view_module": "@jupyter-widgets/base",
       "_view_module_version": "1.2.0",
       "_view_name": "LayoutView",
       "align_content": null,
       "align_items": null,
       "align_self": null,
       "border": null,
       "bottom": null,
       "display": null,
       "flex": null,
       "flex_flow": null,
       "grid_area": null,
       "grid_auto_columns": null,
       "grid_auto_flow": null,
       "grid_auto_rows": null,
       "grid_column": null,
       "grid_gap": null,
       "grid_row": null,
       "grid_template_areas": null,
       "grid_template_columns": null,
       "grid_template_rows": null,
       "height": null,
       "justify_content": null,
       "justify_items": null,
       "left": null,
       "margin": null,
       "max_height": null,
       "max_width": null,
       "min_height": null,
       "min_width": null,
       "object_fit": null,
       "object_position": null,
       "order": null,
       "overflow": null,
       "overflow_x": null,
       "overflow_y": null,
       "padding": null,
       "right": null,
       "top": null,
       "visibility": null,
       "width": null
      }
     },
     "494deaa930954f6d882620b54381d82b": {
      "model_module": "@jupyter-widgets/base",
      "model_module_version": "1.2.0",
      "model_name": "LayoutModel",
      "state": {
       "_model_module": "@jupyter-widgets/base",
       "_model_module_version": "1.2.0",
       "_model_name": "LayoutModel",
       "_view_count": null,
       "_view_module": "@jupyter-widgets/base",
       "_view_module_version": "1.2.0",
       "_view_name": "LayoutView",
       "align_content": null,
       "align_items": null,
       "align_self": null,
       "border": null,
       "bottom": null,
       "display": null,
       "flex": null,
       "flex_flow": null,
       "grid_area": null,
       "grid_auto_columns": null,
       "grid_auto_flow": null,
       "grid_auto_rows": null,
       "grid_column": null,
       "grid_gap": null,
       "grid_row": null,
       "grid_template_areas": null,
       "grid_template_columns": null,
       "grid_template_rows": null,
       "height": null,
       "justify_content": null,
       "justify_items": null,
       "left": null,
       "margin": null,
       "max_height": null,
       "max_width": null,
       "min_height": null,
       "min_width": null,
       "object_fit": null,
       "object_position": null,
       "order": null,
       "overflow": null,
       "overflow_x": null,
       "overflow_y": null,
       "padding": null,
       "right": null,
       "top": null,
       "visibility": null,
       "width": null
      }
     },
     "4a332a3f2b804320966af76d0ff135c3": {
      "model_module": "@jupyter-widgets/controls",
      "model_module_version": "1.5.0",
      "model_name": "FloatProgressModel",
      "state": {
       "_dom_classes": [],
       "_model_module": "@jupyter-widgets/controls",
       "_model_module_version": "1.5.0",
       "_model_name": "FloatProgressModel",
       "_view_count": null,
       "_view_module": "@jupyter-widgets/controls",
       "_view_module_version": "1.5.0",
       "_view_name": "ProgressView",
       "bar_style": "success",
       "description": "",
       "description_tooltip": null,
       "layout": "IPY_MODEL_25837cf9994c4377abd33e4564c0a46c",
       "max": 486125,
       "min": 0,
       "orientation": "horizontal",
       "style": "IPY_MODEL_09f0b95ac9374cffbca2bddb121e3d6e",
       "value": 486125
      }
     },
     "4a6b3eb184214d7f8e6cb98b5d13f8f2": {
      "model_module": "@jupyter-widgets/controls",
      "model_module_version": "1.5.0",
      "model_name": "DescriptionStyleModel",
      "state": {
       "_model_module": "@jupyter-widgets/controls",
       "_model_module_version": "1.5.0",
       "_model_name": "DescriptionStyleModel",
       "_view_count": null,
       "_view_module": "@jupyter-widgets/base",
       "_view_module_version": "1.2.0",
       "_view_name": "StyleView",
       "description_width": ""
      }
     },
     "4f08e5ada6a24fca93a2888e3b16650d": {
      "model_module": "@jupyter-widgets/controls",
      "model_module_version": "1.5.0",
      "model_name": "ProgressStyleModel",
      "state": {
       "_model_module": "@jupyter-widgets/controls",
       "_model_module_version": "1.5.0",
       "_model_name": "ProgressStyleModel",
       "_view_count": null,
       "_view_module": "@jupyter-widgets/base",
       "_view_module_version": "1.2.0",
       "_view_name": "StyleView",
       "bar_color": null,
       "description_width": ""
      }
     },
     "5056f770d4f84524b1fc20575d61a7cb": {
      "model_module": "@jupyter-widgets/base",
      "model_module_version": "1.2.0",
      "model_name": "LayoutModel",
      "state": {
       "_model_module": "@jupyter-widgets/base",
       "_model_module_version": "1.2.0",
       "_model_name": "LayoutModel",
       "_view_count": null,
       "_view_module": "@jupyter-widgets/base",
       "_view_module_version": "1.2.0",
       "_view_name": "LayoutView",
       "align_content": null,
       "align_items": null,
       "align_self": null,
       "border": null,
       "bottom": null,
       "display": null,
       "flex": null,
       "flex_flow": null,
       "grid_area": null,
       "grid_auto_columns": null,
       "grid_auto_flow": null,
       "grid_auto_rows": null,
       "grid_column": null,
       "grid_gap": null,
       "grid_row": null,
       "grid_template_areas": null,
       "grid_template_columns": null,
       "grid_template_rows": null,
       "height": null,
       "justify_content": null,
       "justify_items": null,
       "left": null,
       "margin": null,
       "max_height": null,
       "max_width": null,
       "min_height": null,
       "min_width": null,
       "object_fit": null,
       "object_position": null,
       "order": null,
       "overflow": null,
       "overflow_x": null,
       "overflow_y": null,
       "padding": null,
       "right": null,
       "top": null,
       "visibility": null,
       "width": null
      }
     },
     "582617a7274744bc86411c1cb11272e0": {
      "model_module": "@jupyter-widgets/controls",
      "model_module_version": "1.5.0",
      "model_name": "DescriptionStyleModel",
      "state": {
       "_model_module": "@jupyter-widgets/controls",
       "_model_module_version": "1.5.0",
       "_model_name": "DescriptionStyleModel",
       "_view_count": null,
       "_view_module": "@jupyter-widgets/base",
       "_view_module_version": "1.2.0",
       "_view_name": "StyleView",
       "description_width": ""
      }
     },
     "6001a5c2509c4d3283fdbd6567535c00": {
      "model_module": "@jupyter-widgets/controls",
      "model_module_version": "1.5.0",
      "model_name": "HBoxModel",
      "state": {
       "_dom_classes": [],
       "_model_module": "@jupyter-widgets/controls",
       "_model_module_version": "1.5.0",
       "_model_name": "HBoxModel",
       "_view_count": null,
       "_view_module": "@jupyter-widgets/controls",
       "_view_module_version": "1.5.0",
       "_view_name": "HBoxView",
       "box_style": "",
       "children": [
        "IPY_MODEL_c07e8cb6df1d4848bd8061b8a7bdca06",
        "IPY_MODEL_db8d222dcc3847299196559ed19c8383",
        "IPY_MODEL_470adb2dd98d406985cf0aa07fdcbf23"
       ],
       "layout": "IPY_MODEL_b71777af387e488fb77b4a597baa7c61"
      }
     },
     "68ad4251f72c42d7a26e5aa7f7ccedd0": {
      "model_module": "@jupyter-widgets/base",
      "model_module_version": "1.2.0",
      "model_name": "LayoutModel",
      "state": {
       "_model_module": "@jupyter-widgets/base",
       "_model_module_version": "1.2.0",
       "_model_name": "LayoutModel",
       "_view_count": null,
       "_view_module": "@jupyter-widgets/base",
       "_view_module_version": "1.2.0",
       "_view_name": "LayoutView",
       "align_content": null,
       "align_items": null,
       "align_self": null,
       "border": null,
       "bottom": null,
       "display": null,
       "flex": null,
       "flex_flow": null,
       "grid_area": null,
       "grid_auto_columns": null,
       "grid_auto_flow": null,
       "grid_auto_rows": null,
       "grid_column": null,
       "grid_gap": null,
       "grid_row": null,
       "grid_template_areas": null,
       "grid_template_columns": null,
       "grid_template_rows": null,
       "height": null,
       "justify_content": null,
       "justify_items": null,
       "left": null,
       "margin": null,
       "max_height": null,
       "max_width": null,
       "min_height": null,
       "min_width": null,
       "object_fit": null,
       "object_position": null,
       "order": null,
       "overflow": null,
       "overflow_x": null,
       "overflow_y": null,
       "padding": null,
       "right": null,
       "top": null,
       "visibility": null,
       "width": null
      }
     },
     "69483fbd82694c8889140040d6d2c8a2": {
      "model_module": "@jupyter-widgets/base",
      "model_module_version": "1.2.0",
      "model_name": "LayoutModel",
      "state": {
       "_model_module": "@jupyter-widgets/base",
       "_model_module_version": "1.2.0",
       "_model_name": "LayoutModel",
       "_view_count": null,
       "_view_module": "@jupyter-widgets/base",
       "_view_module_version": "1.2.0",
       "_view_name": "LayoutView",
       "align_content": null,
       "align_items": null,
       "align_self": null,
       "border": null,
       "bottom": null,
       "display": null,
       "flex": null,
       "flex_flow": null,
       "grid_area": null,
       "grid_auto_columns": null,
       "grid_auto_flow": null,
       "grid_auto_rows": null,
       "grid_column": null,
       "grid_gap": null,
       "grid_row": null,
       "grid_template_areas": null,
       "grid_template_columns": null,
       "grid_template_rows": null,
       "height": null,
       "justify_content": null,
       "justify_items": null,
       "left": null,
       "margin": null,
       "max_height": null,
       "max_width": null,
       "min_height": null,
       "min_width": null,
       "object_fit": null,
       "object_position": null,
       "order": null,
       "overflow": null,
       "overflow_x": null,
       "overflow_y": null,
       "padding": null,
       "right": null,
       "top": null,
       "visibility": null,
       "width": null
      }
     },
     "69b5a8198297446bb5446b91811b3ae1": {
      "model_module": "@jupyter-widgets/controls",
      "model_module_version": "1.5.0",
      "model_name": "ProgressStyleModel",
      "state": {
       "_model_module": "@jupyter-widgets/controls",
       "_model_module_version": "1.5.0",
       "_model_name": "ProgressStyleModel",
       "_view_count": null,
       "_view_module": "@jupyter-widgets/base",
       "_view_module_version": "1.2.0",
       "_view_name": "StyleView",
       "bar_color": null,
       "description_width": ""
      }
     },
     "7551155f890e4f2da13a4de125e1d54d": {
      "model_module": "@jupyter-widgets/controls",
      "model_module_version": "1.5.0",
      "model_name": "FloatProgressModel",
      "state": {
       "_dom_classes": [],
       "_model_module": "@jupyter-widgets/controls",
       "_model_module_version": "1.5.0",
       "_model_name": "FloatProgressModel",
       "_view_count": null,
       "_view_module": "@jupyter-widgets/controls",
       "_view_module_version": "1.5.0",
       "_view_name": "ProgressView",
       "bar_style": "success",
       "description": "",
       "description_tooltip": null,
       "layout": "IPY_MODEL_1480c67df0dd4e59a2a5f18101f76c1b",
       "max": 536635336,
       "min": 0,
       "orientation": "horizontal",
       "style": "IPY_MODEL_fc4688ffbee14d75b3117004cefa2bed",
       "value": 536635336
      }
     },
     "7a82bed903214234b04cb14f839c48f1": {
      "model_module": "@jupyter-widgets/controls",
      "model_module_version": "1.5.0",
      "model_name": "HBoxModel",
      "state": {
       "_dom_classes": [],
       "_model_module": "@jupyter-widgets/controls",
       "_model_module_version": "1.5.0",
       "_model_name": "HBoxModel",
       "_view_count": null,
       "_view_module": "@jupyter-widgets/controls",
       "_view_module_version": "1.5.0",
       "_view_name": "HBoxView",
       "box_style": "",
       "children": [
        "IPY_MODEL_30f4e3a1e57c4faaacef0ed3b03fe6a4",
        "IPY_MODEL_c81ed8919941487a9d1eb48459ed2f9d",
        "IPY_MODEL_0a567273a4a141c0802bb82ede992a38"
       ],
       "layout": "IPY_MODEL_91b00ce9f88341b7a265e89864462a24"
      }
     },
     "7aff215faa584cfeab00b051854b8c6a": {
      "model_module": "@jupyter-widgets/controls",
      "model_module_version": "1.5.0",
      "model_name": "HBoxModel",
      "state": {
       "_dom_classes": [],
       "_model_module": "@jupyter-widgets/controls",
       "_model_module_version": "1.5.0",
       "_model_name": "HBoxModel",
       "_view_count": null,
       "_view_module": "@jupyter-widgets/controls",
       "_view_module_version": "1.5.0",
       "_view_name": "HBoxView",
       "box_style": "",
       "children": [
        "IPY_MODEL_c02154c8e8864e7c8f26041a5c378c82",
        "IPY_MODEL_4a332a3f2b804320966af76d0ff135c3",
        "IPY_MODEL_10215dcd3cec44e09d94f4ea51bbfec5"
       ],
       "layout": "IPY_MODEL_29a135850f594193b9e14b2742b4f69f"
      }
     },
     "7fb9790926a443e38bd7d952b5d19d63": {
      "model_module": "@jupyter-widgets/base",
      "model_module_version": "1.2.0",
      "model_name": "LayoutModel",
      "state": {
       "_model_module": "@jupyter-widgets/base",
       "_model_module_version": "1.2.0",
       "_model_name": "LayoutModel",
       "_view_count": null,
       "_view_module": "@jupyter-widgets/base",
       "_view_module_version": "1.2.0",
       "_view_name": "LayoutView",
       "align_content": null,
       "align_items": null,
       "align_self": null,
       "border": null,
       "bottom": null,
       "display": null,
       "flex": null,
       "flex_flow": null,
       "grid_area": null,
       "grid_auto_columns": null,
       "grid_auto_flow": null,
       "grid_auto_rows": null,
       "grid_column": null,
       "grid_gap": null,
       "grid_row": null,
       "grid_template_areas": null,
       "grid_template_columns": null,
       "grid_template_rows": null,
       "height": null,
       "justify_content": null,
       "justify_items": null,
       "left": null,
       "margin": null,
       "max_height": null,
       "max_width": null,
       "min_height": null,
       "min_width": null,
       "object_fit": null,
       "object_position": null,
       "order": null,
       "overflow": null,
       "overflow_x": null,
       "overflow_y": null,
       "padding": null,
       "right": null,
       "top": null,
       "visibility": null,
       "width": null
      }
     },
     "806edcb3f4094e18800fcd3da816350e": {
      "model_module": "@jupyter-widgets/controls",
      "model_module_version": "1.5.0",
      "model_name": "DescriptionStyleModel",
      "state": {
       "_model_module": "@jupyter-widgets/controls",
       "_model_module_version": "1.5.0",
       "_model_name": "DescriptionStyleModel",
       "_view_count": null,
       "_view_module": "@jupyter-widgets/base",
       "_view_module_version": "1.2.0",
       "_view_name": "StyleView",
       "description_width": ""
      }
     },
     "8b3ac74842184d698b1a64b9b1325a43": {
      "model_module": "@jupyter-widgets/controls",
      "model_module_version": "1.5.0",
      "model_name": "HTMLModel",
      "state": {
       "_dom_classes": [],
       "_model_module": "@jupyter-widgets/controls",
       "_model_module_version": "1.5.0",
       "_model_name": "HTMLModel",
       "_view_count": null,
       "_view_module": "@jupyter-widgets/controls",
       "_view_module_version": "1.5.0",
       "_view_name": "HTMLView",
       "description": "",
       "description_tooltip": null,
       "layout": "IPY_MODEL_416c961d3c0d43de8a207350634d6414",
       "placeholder": "​",
       "style": "IPY_MODEL_9e647acd7f334c6ab8bd1288bc310e2c",
       "value": " 242k/242k [00:00&lt;00:00, 873kB/s]"
      }
     },
     "8dfa655c3e7a440fbd66a8580d4cbff5": {
      "model_module": "@jupyter-widgets/controls",
      "model_module_version": "1.5.0",
      "model_name": "HTMLModel",
      "state": {
       "_dom_classes": [],
       "_model_module": "@jupyter-widgets/controls",
       "_model_module_version": "1.5.0",
       "_model_name": "HTMLModel",
       "_view_count": null,
       "_view_module": "@jupyter-widgets/controls",
       "_view_module_version": "1.5.0",
       "_view_name": "HTMLView",
       "description": "",
       "description_tooltip": null,
       "layout": "IPY_MODEL_22c1c5373c5246dea7f0f45958cf5798",
       "placeholder": "​",
       "style": "IPY_MODEL_df8045d9660d4ae28bd7101e10a43018",
       "value": "Downloading: 100%"
      }
     },
     "91b00ce9f88341b7a265e89864462a24": {
      "model_module": "@jupyter-widgets/base",
      "model_module_version": "1.2.0",
      "model_name": "LayoutModel",
      "state": {
       "_model_module": "@jupyter-widgets/base",
       "_model_module_version": "1.2.0",
       "_model_name": "LayoutModel",
       "_view_count": null,
       "_view_module": "@jupyter-widgets/base",
       "_view_module_version": "1.2.0",
       "_view_name": "LayoutView",
       "align_content": null,
       "align_items": null,
       "align_self": null,
       "border": null,
       "bottom": null,
       "display": null,
       "flex": null,
       "flex_flow": null,
       "grid_area": null,
       "grid_auto_columns": null,
       "grid_auto_flow": null,
       "grid_auto_rows": null,
       "grid_column": null,
       "grid_gap": null,
       "grid_row": null,
       "grid_template_areas": null,
       "grid_template_columns": null,
       "grid_template_rows": null,
       "height": null,
       "justify_content": null,
       "justify_items": null,
       "left": null,
       "margin": null,
       "max_height": null,
       "max_width": null,
       "min_height": null,
       "min_width": null,
       "object_fit": null,
       "object_position": null,
       "order": null,
       "overflow": null,
       "overflow_x": null,
       "overflow_y": null,
       "padding": null,
       "right": null,
       "top": null,
       "visibility": null,
       "width": null
      }
     },
     "9475b3f89a1f426992392578cf2a79de": {
      "model_module": "@jupyter-widgets/base",
      "model_module_version": "1.2.0",
      "model_name": "LayoutModel",
      "state": {
       "_model_module": "@jupyter-widgets/base",
       "_model_module_version": "1.2.0",
       "_model_name": "LayoutModel",
       "_view_count": null,
       "_view_module": "@jupyter-widgets/base",
       "_view_module_version": "1.2.0",
       "_view_name": "LayoutView",
       "align_content": null,
       "align_items": null,
       "align_self": null,
       "border": null,
       "bottom": null,
       "display": null,
       "flex": null,
       "flex_flow": null,
       "grid_area": null,
       "grid_auto_columns": null,
       "grid_auto_flow": null,
       "grid_auto_rows": null,
       "grid_column": null,
       "grid_gap": null,
       "grid_row": null,
       "grid_template_areas": null,
       "grid_template_columns": null,
       "grid_template_rows": null,
       "height": null,
       "justify_content": null,
       "justify_items": null,
       "left": null,
       "margin": null,
       "max_height": null,
       "max_width": null,
       "min_height": null,
       "min_width": null,
       "object_fit": null,
       "object_position": null,
       "order": null,
       "overflow": null,
       "overflow_x": null,
       "overflow_y": null,
       "padding": null,
       "right": null,
       "top": null,
       "visibility": null,
       "width": null
      }
     },
     "9e647acd7f334c6ab8bd1288bc310e2c": {
      "model_module": "@jupyter-widgets/controls",
      "model_module_version": "1.5.0",
      "model_name": "DescriptionStyleModel",
      "state": {
       "_model_module": "@jupyter-widgets/controls",
       "_model_module_version": "1.5.0",
       "_model_name": "DescriptionStyleModel",
       "_view_count": null,
       "_view_module": "@jupyter-widgets/base",
       "_view_module_version": "1.2.0",
       "_view_name": "StyleView",
       "description_width": ""
      }
     },
     "9f15ede1941c408d82850ee3b93bb20a": {
      "model_module": "@jupyter-widgets/controls",
      "model_module_version": "1.5.0",
      "model_name": "HBoxModel",
      "state": {
       "_dom_classes": [],
       "_model_module": "@jupyter-widgets/controls",
       "_model_module_version": "1.5.0",
       "_model_name": "HBoxModel",
       "_view_count": null,
       "_view_module": "@jupyter-widgets/controls",
       "_view_module_version": "1.5.0",
       "_view_name": "HBoxView",
       "box_style": "",
       "children": [
        "IPY_MODEL_024c05721369498ba114ff86b20bcca9",
        "IPY_MODEL_0d00464d13c1409cace3c008b212f892",
        "IPY_MODEL_15ac710d177c498fa51afe801d3d7122"
       ],
       "layout": "IPY_MODEL_9475b3f89a1f426992392578cf2a79de"
      }
     },
     "a5582657ca0e433bbce75375dd95e95a": {
      "model_module": "@jupyter-widgets/controls",
      "model_module_version": "1.5.0",
      "model_name": "ProgressStyleModel",
      "state": {
       "_model_module": "@jupyter-widgets/controls",
       "_model_module_version": "1.5.0",
       "_model_name": "ProgressStyleModel",
       "_view_count": null,
       "_view_module": "@jupyter-widgets/base",
       "_view_module_version": "1.2.0",
       "_view_name": "StyleView",
       "bar_color": null,
       "description_width": ""
      }
     },
     "a59fe08a6a60457090f30b82f8b1d79f": {
      "model_module": "@jupyter-widgets/base",
      "model_module_version": "1.2.0",
      "model_name": "LayoutModel",
      "state": {
       "_model_module": "@jupyter-widgets/base",
       "_model_module_version": "1.2.0",
       "_model_name": "LayoutModel",
       "_view_count": null,
       "_view_module": "@jupyter-widgets/base",
       "_view_module_version": "1.2.0",
       "_view_name": "LayoutView",
       "align_content": null,
       "align_items": null,
       "align_self": null,
       "border": null,
       "bottom": null,
       "display": null,
       "flex": null,
       "flex_flow": null,
       "grid_area": null,
       "grid_auto_columns": null,
       "grid_auto_flow": null,
       "grid_auto_rows": null,
       "grid_column": null,
       "grid_gap": null,
       "grid_row": null,
       "grid_template_areas": null,
       "grid_template_columns": null,
       "grid_template_rows": null,
       "height": null,
       "justify_content": null,
       "justify_items": null,
       "left": null,
       "margin": null,
       "max_height": null,
       "max_width": null,
       "min_height": null,
       "min_width": null,
       "object_fit": null,
       "object_position": null,
       "order": null,
       "overflow": null,
       "overflow_x": null,
       "overflow_y": null,
       "padding": null,
       "right": null,
       "top": null,
       "visibility": null,
       "width": null
      }
     },
     "a8530b2428584dc9b7023d3a3bc16df1": {
      "model_module": "@jupyter-widgets/controls",
      "model_module_version": "1.5.0",
      "model_name": "HBoxModel",
      "state": {
       "_dom_classes": [],
       "_model_module": "@jupyter-widgets/controls",
       "_model_module_version": "1.5.0",
       "_model_name": "HBoxModel",
       "_view_count": null,
       "_view_module": "@jupyter-widgets/controls",
       "_view_module_version": "1.5.0",
       "_view_name": "HBoxView",
       "box_style": "",
       "children": [
        "IPY_MODEL_8dfa655c3e7a440fbd66a8580d4cbff5",
        "IPY_MODEL_7551155f890e4f2da13a4de125e1d54d",
        "IPY_MODEL_ed9a809d0503434189d38bfdd36c85a8"
       ],
       "layout": "IPY_MODEL_68ad4251f72c42d7a26e5aa7f7ccedd0"
      }
     },
     "abe677498b3846129bf8647273dee863": {
      "model_module": "@jupyter-widgets/base",
      "model_module_version": "1.2.0",
      "model_name": "LayoutModel",
      "state": {
       "_model_module": "@jupyter-widgets/base",
       "_model_module_version": "1.2.0",
       "_model_name": "LayoutModel",
       "_view_count": null,
       "_view_module": "@jupyter-widgets/base",
       "_view_module_version": "1.2.0",
       "_view_name": "LayoutView",
       "align_content": null,
       "align_items": null,
       "align_self": null,
       "border": null,
       "bottom": null,
       "display": null,
       "flex": null,
       "flex_flow": null,
       "grid_area": null,
       "grid_auto_columns": null,
       "grid_auto_flow": null,
       "grid_auto_rows": null,
       "grid_column": null,
       "grid_gap": null,
       "grid_row": null,
       "grid_template_areas": null,
       "grid_template_columns": null,
       "grid_template_rows": null,
       "height": null,
       "justify_content": null,
       "justify_items": null,
       "left": null,
       "margin": null,
       "max_height": null,
       "max_width": null,
       "min_height": null,
       "min_width": null,
       "object_fit": null,
       "object_position": null,
       "order": null,
       "overflow": null,
       "overflow_x": null,
       "overflow_y": null,
       "padding": null,
       "right": null,
       "top": null,
       "visibility": null,
       "width": null
      }
     },
     "af95ab89ca70481991a6019c629eb928": {
      "model_module": "@jupyter-widgets/controls",
      "model_module_version": "1.5.0",
      "model_name": "DescriptionStyleModel",
      "state": {
       "_model_module": "@jupyter-widgets/controls",
       "_model_module_version": "1.5.0",
       "_model_name": "DescriptionStyleModel",
       "_view_count": null,
       "_view_module": "@jupyter-widgets/base",
       "_view_module_version": "1.2.0",
       "_view_name": "StyleView",
       "description_width": ""
      }
     },
     "b5c10e386f3d4ff3b0dd814fb5576143": {
      "model_module": "@jupyter-widgets/controls",
      "model_module_version": "1.5.0",
      "model_name": "ProgressStyleModel",
      "state": {
       "_model_module": "@jupyter-widgets/controls",
       "_model_module_version": "1.5.0",
       "_model_name": "ProgressStyleModel",
       "_view_count": null,
       "_view_module": "@jupyter-widgets/base",
       "_view_module_version": "1.2.0",
       "_view_name": "StyleView",
       "bar_color": null,
       "description_width": ""
      }
     },
     "b71777af387e488fb77b4a597baa7c61": {
      "model_module": "@jupyter-widgets/base",
      "model_module_version": "1.2.0",
      "model_name": "LayoutModel",
      "state": {
       "_model_module": "@jupyter-widgets/base",
       "_model_module_version": "1.2.0",
       "_model_name": "LayoutModel",
       "_view_count": null,
       "_view_module": "@jupyter-widgets/base",
       "_view_module_version": "1.2.0",
       "_view_name": "LayoutView",
       "align_content": null,
       "align_items": null,
       "align_self": null,
       "border": null,
       "bottom": null,
       "display": null,
       "flex": null,
       "flex_flow": null,
       "grid_area": null,
       "grid_auto_columns": null,
       "grid_auto_flow": null,
       "grid_auto_rows": null,
       "grid_column": null,
       "grid_gap": null,
       "grid_row": null,
       "grid_template_areas": null,
       "grid_template_columns": null,
       "grid_template_rows": null,
       "height": null,
       "justify_content": null,
       "justify_items": null,
       "left": null,
       "margin": null,
       "max_height": null,
       "max_width": null,
       "min_height": null,
       "min_width": null,
       "object_fit": null,
       "object_position": null,
       "order": null,
       "overflow": null,
       "overflow_x": null,
       "overflow_y": null,
       "padding": null,
       "right": null,
       "top": null,
       "visibility": null,
       "width": null
      }
     },
     "bb397d72c4ca400bb0b73d6070feb6ca": {
      "model_module": "@jupyter-widgets/base",
      "model_module_version": "1.2.0",
      "model_name": "LayoutModel",
      "state": {
       "_model_module": "@jupyter-widgets/base",
       "_model_module_version": "1.2.0",
       "_model_name": "LayoutModel",
       "_view_count": null,
       "_view_module": "@jupyter-widgets/base",
       "_view_module_version": "1.2.0",
       "_view_name": "LayoutView",
       "align_content": null,
       "align_items": null,
       "align_self": null,
       "border": null,
       "bottom": null,
       "display": null,
       "flex": null,
       "flex_flow": null,
       "grid_area": null,
       "grid_auto_columns": null,
       "grid_auto_flow": null,
       "grid_auto_rows": null,
       "grid_column": null,
       "grid_gap": null,
       "grid_row": null,
       "grid_template_areas": null,
       "grid_template_columns": null,
       "grid_template_rows": null,
       "height": null,
       "justify_content": null,
       "justify_items": null,
       "left": null,
       "margin": null,
       "max_height": null,
       "max_width": null,
       "min_height": null,
       "min_width": null,
       "object_fit": null,
       "object_position": null,
       "order": null,
       "overflow": null,
       "overflow_x": null,
       "overflow_y": null,
       "padding": null,
       "right": null,
       "top": null,
       "visibility": null,
       "width": null
      }
     },
     "bcb80dc9f4d8407389ff225541396dc1": {
      "model_module": "@jupyter-widgets/base",
      "model_module_version": "1.2.0",
      "model_name": "LayoutModel",
      "state": {
       "_model_module": "@jupyter-widgets/base",
       "_model_module_version": "1.2.0",
       "_model_name": "LayoutModel",
       "_view_count": null,
       "_view_module": "@jupyter-widgets/base",
       "_view_module_version": "1.2.0",
       "_view_name": "LayoutView",
       "align_content": null,
       "align_items": null,
       "align_self": null,
       "border": null,
       "bottom": null,
       "display": null,
       "flex": null,
       "flex_flow": null,
       "grid_area": null,
       "grid_auto_columns": null,
       "grid_auto_flow": null,
       "grid_auto_rows": null,
       "grid_column": null,
       "grid_gap": null,
       "grid_row": null,
       "grid_template_areas": null,
       "grid_template_columns": null,
       "grid_template_rows": null,
       "height": null,
       "justify_content": null,
       "justify_items": null,
       "left": null,
       "margin": null,
       "max_height": null,
       "max_width": null,
       "min_height": null,
       "min_width": null,
       "object_fit": null,
       "object_position": null,
       "order": null,
       "overflow": null,
       "overflow_x": null,
       "overflow_y": null,
       "padding": null,
       "right": null,
       "top": null,
       "visibility": null,
       "width": null
      }
     },
     "c02154c8e8864e7c8f26041a5c378c82": {
      "model_module": "@jupyter-widgets/controls",
      "model_module_version": "1.5.0",
      "model_name": "HTMLModel",
      "state": {
       "_dom_classes": [],
       "_model_module": "@jupyter-widgets/controls",
       "_model_module_version": "1.5.0",
       "_model_name": "HTMLModel",
       "_view_count": null,
       "_view_module": "@jupyter-widgets/controls",
       "_view_module_version": "1.5.0",
       "_view_name": "HTMLView",
       "description": "",
       "description_tooltip": null,
       "layout": "IPY_MODEL_abe677498b3846129bf8647273dee863",
       "placeholder": "​",
       "style": "IPY_MODEL_268344e492d34bbfbf3c40c77cefbb02",
       "value": "Downloading: 100%"
      }
     },
     "c07e8cb6df1d4848bd8061b8a7bdca06": {
      "model_module": "@jupyter-widgets/controls",
      "model_module_version": "1.5.0",
      "model_name": "HTMLModel",
      "state": {
       "_dom_classes": [],
       "_model_module": "@jupyter-widgets/controls",
       "_model_module_version": "1.5.0",
       "_model_name": "HTMLModel",
       "_view_count": null,
       "_view_module": "@jupyter-widgets/controls",
       "_view_module_version": "1.5.0",
       "_view_name": "HTMLView",
       "description": "",
       "description_tooltip": null,
       "layout": "IPY_MODEL_4930d65a15134fae977a7b58d4322e15",
       "placeholder": "​",
       "style": "IPY_MODEL_28b3842169af4ca59d003cb58deeee27",
       "value": "Downloading: 100%"
      }
     },
     "c363060083c446d48a111ad2fbeddfee": {
      "model_module": "@jupyter-widgets/controls",
      "model_module_version": "1.5.0",
      "model_name": "HTMLModel",
      "state": {
       "_dom_classes": [],
       "_model_module": "@jupyter-widgets/controls",
       "_model_module_version": "1.5.0",
       "_model_name": "HTMLModel",
       "_view_count": null,
       "_view_module": "@jupyter-widgets/controls",
       "_view_module_version": "1.5.0",
       "_view_name": "HTMLView",
       "description": "",
       "description_tooltip": null,
       "layout": "IPY_MODEL_f09d753bb0464256bf0571461727429b",
       "placeholder": "​",
       "style": "IPY_MODEL_2825ea4f59e643c7bc9c5e0463b720f6",
       "value": "Downloading: 100%"
      }
     },
     "c81ed8919941487a9d1eb48459ed2f9d": {
      "model_module": "@jupyter-widgets/controls",
      "model_module_version": "1.5.0",
      "model_name": "FloatProgressModel",
      "state": {
       "_dom_classes": [],
       "_model_module": "@jupyter-widgets/controls",
       "_model_module_version": "1.5.0",
       "_model_name": "FloatProgressModel",
       "_view_count": null,
       "_view_module": "@jupyter-widgets/controls",
       "_view_module_version": "1.5.0",
       "_view_name": "ProgressView",
       "bar_style": "success",
       "description": "",
       "description_tooltip": null,
       "layout": "IPY_MODEL_bcb80dc9f4d8407389ff225541396dc1",
       "max": 310,
       "min": 0,
       "orientation": "horizontal",
       "style": "IPY_MODEL_4f08e5ada6a24fca93a2888e3b16650d",
       "value": 310
      }
     },
     "d450b38a39884c3aa0d2c965839ad2ed": {
      "model_module": "@jupyter-widgets/controls",
      "model_module_version": "1.5.0",
      "model_name": "DescriptionStyleModel",
      "state": {
       "_model_module": "@jupyter-widgets/controls",
       "_model_module_version": "1.5.0",
       "_model_name": "DescriptionStyleModel",
       "_view_count": null,
       "_view_module": "@jupyter-widgets/base",
       "_view_module_version": "1.2.0",
       "_view_name": "StyleView",
       "description_width": ""
      }
     },
     "db8d222dcc3847299196559ed19c8383": {
      "model_module": "@jupyter-widgets/controls",
      "model_module_version": "1.5.0",
      "model_name": "FloatProgressModel",
      "state": {
       "_dom_classes": [],
       "_model_module": "@jupyter-widgets/controls",
       "_model_module_version": "1.5.0",
       "_model_name": "FloatProgressModel",
       "_view_count": null,
       "_view_module": "@jupyter-widgets/controls",
       "_view_module_version": "1.5.0",
       "_view_name": "ProgressView",
       "bar_style": "success",
       "description": "",
       "description_tooltip": null,
       "layout": "IPY_MODEL_e990309774304420bb81ba216337b0cc",
       "max": 134,
       "min": 0,
       "orientation": "horizontal",
       "style": "IPY_MODEL_b5c10e386f3d4ff3b0dd814fb5576143",
       "value": 134
      }
     },
     "df8045d9660d4ae28bd7101e10a43018": {
      "model_module": "@jupyter-widgets/controls",
      "model_module_version": "1.5.0",
      "model_name": "DescriptionStyleModel",
      "state": {
       "_model_module": "@jupyter-widgets/controls",
       "_model_module_version": "1.5.0",
       "_model_name": "DescriptionStyleModel",
       "_view_count": null,
       "_view_module": "@jupyter-widgets/base",
       "_view_module_version": "1.2.0",
       "_view_name": "StyleView",
       "description_width": ""
      }
     },
     "e990309774304420bb81ba216337b0cc": {
      "model_module": "@jupyter-widgets/base",
      "model_module_version": "1.2.0",
      "model_name": "LayoutModel",
      "state": {
       "_model_module": "@jupyter-widgets/base",
       "_model_module_version": "1.2.0",
       "_model_name": "LayoutModel",
       "_view_count": null,
       "_view_module": "@jupyter-widgets/base",
       "_view_module_version": "1.2.0",
       "_view_name": "LayoutView",
       "align_content": null,
       "align_items": null,
       "align_self": null,
       "border": null,
       "bottom": null,
       "display": null,
       "flex": null,
       "flex_flow": null,
       "grid_area": null,
       "grid_auto_columns": null,
       "grid_auto_flow": null,
       "grid_auto_rows": null,
       "grid_column": null,
       "grid_gap": null,
       "grid_row": null,
       "grid_template_areas": null,
       "grid_template_columns": null,
       "grid_template_rows": null,
       "height": null,
       "justify_content": null,
       "justify_items": null,
       "left": null,
       "margin": null,
       "max_height": null,
       "max_width": null,
       "min_height": null,
       "min_width": null,
       "object_fit": null,
       "object_position": null,
       "order": null,
       "overflow": null,
       "overflow_x": null,
       "overflow_y": null,
       "padding": null,
       "right": null,
       "top": null,
       "visibility": null,
       "width": null
      }
     },
     "ed9a809d0503434189d38bfdd36c85a8": {
      "model_module": "@jupyter-widgets/controls",
      "model_module_version": "1.5.0",
      "model_name": "HTMLModel",
      "state": {
       "_dom_classes": [],
       "_model_module": "@jupyter-widgets/controls",
       "_model_module_version": "1.5.0",
       "_model_name": "HTMLModel",
       "_view_count": null,
       "_view_module": "@jupyter-widgets/controls",
       "_view_module_version": "1.5.0",
       "_view_name": "HTMLView",
       "description": "",
       "description_tooltip": null,
       "layout": "IPY_MODEL_f79bfd61c79f4df8b43ab0121e7985d1",
       "placeholder": "​",
       "style": "IPY_MODEL_2023aabf0eab42618a40a6be129ae3ba",
       "value": " 512M/512M [00:12&lt;00:00, 28.4MB/s]"
      }
     },
     "f09d753bb0464256bf0571461727429b": {
      "model_module": "@jupyter-widgets/base",
      "model_module_version": "1.2.0",
      "model_name": "LayoutModel",
      "state": {
       "_model_module": "@jupyter-widgets/base",
       "_model_module_version": "1.2.0",
       "_model_name": "LayoutModel",
       "_view_count": null,
       "_view_module": "@jupyter-widgets/base",
       "_view_module_version": "1.2.0",
       "_view_name": "LayoutView",
       "align_content": null,
       "align_items": null,
       "align_self": null,
       "border": null,
       "bottom": null,
       "display": null,
       "flex": null,
       "flex_flow": null,
       "grid_area": null,
       "grid_auto_columns": null,
       "grid_auto_flow": null,
       "grid_auto_rows": null,
       "grid_column": null,
       "grid_gap": null,
       "grid_row": null,
       "grid_template_areas": null,
       "grid_template_columns": null,
       "grid_template_rows": null,
       "height": null,
       "justify_content": null,
       "justify_items": null,
       "left": null,
       "margin": null,
       "max_height": null,
       "max_width": null,
       "min_height": null,
       "min_width": null,
       "object_fit": null,
       "object_position": null,
       "order": null,
       "overflow": null,
       "overflow_x": null,
       "overflow_y": null,
       "padding": null,
       "right": null,
       "top": null,
       "visibility": null,
       "width": null
      }
     },
     "f79bfd61c79f4df8b43ab0121e7985d1": {
      "model_module": "@jupyter-widgets/base",
      "model_module_version": "1.2.0",
      "model_name": "LayoutModel",
      "state": {
       "_model_module": "@jupyter-widgets/base",
       "_model_module_version": "1.2.0",
       "_model_name": "LayoutModel",
       "_view_count": null,
       "_view_module": "@jupyter-widgets/base",
       "_view_module_version": "1.2.0",
       "_view_name": "LayoutView",
       "align_content": null,
       "align_items": null,
       "align_self": null,
       "border": null,
       "bottom": null,
       "display": null,
       "flex": null,
       "flex_flow": null,
       "grid_area": null,
       "grid_auto_columns": null,
       "grid_auto_flow": null,
       "grid_auto_rows": null,
       "grid_column": null,
       "grid_gap": null,
       "grid_row": null,
       "grid_template_areas": null,
       "grid_template_columns": null,
       "grid_template_rows": null,
       "height": null,
       "justify_content": null,
       "justify_items": null,
       "left": null,
       "margin": null,
       "max_height": null,
       "max_width": null,
       "min_height": null,
       "min_width": null,
       "object_fit": null,
       "object_position": null,
       "order": null,
       "overflow": null,
       "overflow_x": null,
       "overflow_y": null,
       "padding": null,
       "right": null,
       "top": null,
       "visibility": null,
       "width": null
      }
     },
     "fc4688ffbee14d75b3117004cefa2bed": {
      "model_module": "@jupyter-widgets/controls",
      "model_module_version": "1.5.0",
      "model_name": "ProgressStyleModel",
      "state": {
       "_model_module": "@jupyter-widgets/controls",
       "_model_module_version": "1.5.0",
       "_model_name": "ProgressStyleModel",
       "_view_count": null,
       "_view_module": "@jupyter-widgets/base",
       "_view_module_version": "1.2.0",
       "_view_name": "StyleView",
       "bar_color": null,
       "description_width": ""
      }
     }
    },
    "version_major": 2,
    "version_minor": 0
   }
  }
 },
 "nbformat": 4,
 "nbformat_minor": 5
}
