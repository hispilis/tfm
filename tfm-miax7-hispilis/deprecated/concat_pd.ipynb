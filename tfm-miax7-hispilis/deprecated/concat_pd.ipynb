{
 "cells": [
  {
   "cell_type": "code",
   "execution_count": null,
   "metadata": {},
   "outputs": [],
   "source": [
    "!pip install fsspec"
   ]
  },
  {
   "cell_type": "code",
   "execution_count": null,
   "metadata": {},
   "outputs": [],
   "source": [
    "!pip install gcsfs"
   ]
  },
  {
   "cell_type": "code",
   "execution_count": null,
   "metadata": {},
   "outputs": [],
   "source": [
    "from datetime import datetime\n",
    "import pandas as pd"
   ]
  },
  {
   "cell_type": "code",
   "execution_count": null,
   "metadata": {},
   "outputs": [],
   "source": [
    "RUTA_BASE = \"gs://tfm_aideas_datasets\""
   ]
  },
  {
   "cell_type": "code",
   "execution_count": null,
   "metadata": {},
   "outputs": [],
   "source": [
    "from tqdm.auto import tqdm\n",
    "tqdm.pandas()"
   ]
  },
  {
   "cell_type": "code",
   "execution_count": 58,
   "metadata": {},
   "outputs": [
    {
     "name": "stdout",
     "output_type": "stream",
     "text": [
      "1\n",
      "2021-01-01 00:00:00 2021-01-31\n",
      "2\n",
      "2021-02-01 00:00:00 2021-02-28\n",
      "3\n",
      "2021-03-01 00:00:00 2021-03-31\n",
      "4\n",
      "2021-04-01 00:00:00 2021-04-30\n",
      "5\n",
      "2021-05-01 00:00:00 2021-05-31\n",
      "6\n",
      "2021-06-01 00:00:00 2021-06-30\n",
      "7\n",
      "2021-07-01 00:00:00 2021-07-31\n",
      "8\n",
      "2021-08-01 00:00:00 2021-08-31\n",
      "9\n",
      "2021-09-01 00:00:00 2021-09-30\n",
      "10\n",
      "2021-10-01 00:00:00 2021-10-31\n",
      "11\n",
      "2021-11-01 00:00:00 2021-11-30\n",
      "12\n",
      "2021-12-01 00:00:00 2021-12-31\n"
     ]
    }
   ],
   "source": [
    "result_news = None\n",
    "result_paragraph = None\n",
    "\n",
    "anyo = 2021\n",
    "\n",
    "for mes in range(1,13):\n",
    "    print(mes)\n",
    "    start_date = datetime(anyo, mes, 1)\n",
    "    end_date = start_date + pd.offsets.MonthEnd()\n",
    "    end_date = end_date.date()\n",
    "    print(start_date,end_date)\n",
    "    df = pd.read_csv(\n",
    "        f\"{RUTA_BASE}/dataset_{start_date.strftime('%Y%m%d')}_{end_date.strftime('%Y%m%d')}_news.csv\",\n",
    "        sep=\";\",\n",
    "        parse_dates=[\"date\"],\n",
    "    )\n",
    "    if not result_news is None:\n",
    "        result_news = pd.concat([result_news, df])\n",
    "    else:\n",
    "        result_news = df\n",
    "\n",
    "    df = pd.read_csv(\n",
    "        f\"{RUTA_BASE}/dataset_{start_date.strftime('%Y%m%d')}_{end_date.strftime('%Y%m%d')}_paragraph.csv\",\n",
    "        sep=\";\",\n",
    "        parse_dates=[\"date\"],\n",
    "    )\n",
    "\n",
    "    if not result_paragraph is None:\n",
    "        result_paragraph = pd.concat([result_paragraph, df])\n",
    "    else:\n",
    "        result_paragraph = df\n",
    "\n",
    "result_news.to_csv(\n",
    "    f\"{RUTA_BASE}/dataset_{anyo}_news.csv\",\n",
    "    sep=\";\",\n",
    "    index=False,\n",
    ")\n",
    "\n",
    "result_paragraph.to_csv(\n",
    "    f\"{RUTA_BASE}/dataset_{anyo}_paragraph.csv\",\n",
    "    sep=\";\",\n",
    "    index=False,\n",
    ")"
   ]
  },
  {
   "cell_type": "code",
   "execution_count": null,
   "metadata": {},
   "outputs": [],
   "source": []
  },
  {
   "cell_type": "code",
   "execution_count": 56,
   "metadata": {},
   "outputs": [],
   "source": [
    "start_date = datetime(2021, 4, 1)\n",
    "end_date = start_date + pd.offsets.MonthEnd()\n",
    "end_date = end_date.date()"
   ]
  },
  {
   "cell_type": "code",
   "execution_count": 57,
   "metadata": {},
   "outputs": [
    {
     "name": "stderr",
     "output_type": "stream",
     "text": [
      "  0%|          | 0/30 [00:00<?, ?it/s]"
     ]
    },
    {
     "name": "stdout",
     "output_type": "stream",
     "text": [
      "2021-04-01 00:00:00\n"
     ]
    },
    {
     "name": "stderr",
     "output_type": "stream",
     "text": [
      "  3%|▎         | 1/30 [00:01<00:41,  1.44s/it]"
     ]
    },
    {
     "name": "stdout",
     "output_type": "stream",
     "text": [
      "2021-04-02 00:00:00\n"
     ]
    },
    {
     "name": "stderr",
     "output_type": "stream",
     "text": [
      "  7%|▋         | 2/30 [00:02<00:39,  1.40s/it]"
     ]
    },
    {
     "name": "stdout",
     "output_type": "stream",
     "text": [
      "2021-04-03 00:00:00\n"
     ]
    },
    {
     "name": "stderr",
     "output_type": "stream",
     "text": [
      " 10%|█         | 3/30 [00:04<00:36,  1.36s/it]"
     ]
    },
    {
     "name": "stdout",
     "output_type": "stream",
     "text": [
      "2021-04-04 00:00:00\n"
     ]
    },
    {
     "name": "stderr",
     "output_type": "stream",
     "text": [
      " 13%|█▎        | 4/30 [00:05<00:33,  1.27s/it]"
     ]
    },
    {
     "name": "stdout",
     "output_type": "stream",
     "text": [
      "2021-04-05 00:00:00\n"
     ]
    },
    {
     "name": "stderr",
     "output_type": "stream",
     "text": [
      " 17%|█▋        | 5/30 [00:06<00:31,  1.27s/it]"
     ]
    },
    {
     "name": "stdout",
     "output_type": "stream",
     "text": [
      "2021-04-06 00:00:00\n"
     ]
    },
    {
     "name": "stderr",
     "output_type": "stream",
     "text": [
      " 20%|██        | 6/30 [00:07<00:31,  1.32s/it]"
     ]
    },
    {
     "name": "stdout",
     "output_type": "stream",
     "text": [
      "2021-04-07 00:00:00\n"
     ]
    },
    {
     "name": "stderr",
     "output_type": "stream",
     "text": [
      " 23%|██▎       | 7/30 [00:09<00:34,  1.49s/it]"
     ]
    },
    {
     "name": "stdout",
     "output_type": "stream",
     "text": [
      "2021-04-08 00:00:00\n"
     ]
    },
    {
     "name": "stderr",
     "output_type": "stream",
     "text": [
      " 27%|██▋       | 8/30 [00:11<00:34,  1.56s/it]"
     ]
    },
    {
     "name": "stdout",
     "output_type": "stream",
     "text": [
      "2021-04-09 00:00:00\n"
     ]
    },
    {
     "name": "stderr",
     "output_type": "stream",
     "text": [
      " 30%|███       | 9/30 [00:12<00:31,  1.51s/it]"
     ]
    },
    {
     "name": "stdout",
     "output_type": "stream",
     "text": [
      "2021-04-10 00:00:00\n"
     ]
    },
    {
     "name": "stderr",
     "output_type": "stream",
     "text": [
      " 33%|███▎      | 10/30 [00:13<00:27,  1.38s/it]"
     ]
    },
    {
     "name": "stdout",
     "output_type": "stream",
     "text": [
      "2021-04-11 00:00:00\n"
     ]
    },
    {
     "name": "stderr",
     "output_type": "stream",
     "text": [
      " 37%|███▋      | 11/30 [00:15<00:25,  1.32s/it]"
     ]
    },
    {
     "name": "stdout",
     "output_type": "stream",
     "text": [
      "2021-04-12 00:00:00\n"
     ]
    },
    {
     "name": "stderr",
     "output_type": "stream",
     "text": [
      " 40%|████      | 12/30 [00:16<00:23,  1.30s/it]"
     ]
    },
    {
     "name": "stdout",
     "output_type": "stream",
     "text": [
      "2021-04-13 00:00:00\n"
     ]
    },
    {
     "name": "stderr",
     "output_type": "stream",
     "text": [
      " 43%|████▎     | 13/30 [00:17<00:22,  1.31s/it]"
     ]
    },
    {
     "name": "stdout",
     "output_type": "stream",
     "text": [
      "2021-04-14 00:00:00\n"
     ]
    },
    {
     "name": "stderr",
     "output_type": "stream",
     "text": [
      " 47%|████▋     | 14/30 [00:19<00:21,  1.33s/it]"
     ]
    },
    {
     "name": "stdout",
     "output_type": "stream",
     "text": [
      "2021-04-15 00:00:00\n"
     ]
    },
    {
     "name": "stderr",
     "output_type": "stream",
     "text": [
      " 50%|█████     | 15/30 [00:20<00:20,  1.39s/it]"
     ]
    },
    {
     "name": "stdout",
     "output_type": "stream",
     "text": [
      "2021-04-16 00:00:00\n"
     ]
    },
    {
     "name": "stderr",
     "output_type": "stream",
     "text": [
      " 53%|█████▎    | 16/30 [00:22<00:21,  1.52s/it]"
     ]
    },
    {
     "name": "stdout",
     "output_type": "stream",
     "text": [
      "2021-04-17 00:00:00\n"
     ]
    },
    {
     "name": "stderr",
     "output_type": "stream",
     "text": [
      " 57%|█████▋    | 17/30 [00:23<00:18,  1.39s/it]"
     ]
    },
    {
     "name": "stdout",
     "output_type": "stream",
     "text": [
      "2021-04-18 00:00:00\n"
     ]
    },
    {
     "name": "stderr",
     "output_type": "stream",
     "text": [
      " 60%|██████    | 18/30 [00:24<00:16,  1.36s/it]"
     ]
    },
    {
     "name": "stdout",
     "output_type": "stream",
     "text": [
      "2021-04-19 00:00:00\n"
     ]
    },
    {
     "name": "stderr",
     "output_type": "stream",
     "text": [
      " 63%|██████▎   | 19/30 [00:26<00:15,  1.38s/it]"
     ]
    },
    {
     "name": "stdout",
     "output_type": "stream",
     "text": [
      "2021-04-20 00:00:00\n"
     ]
    },
    {
     "name": "stderr",
     "output_type": "stream",
     "text": [
      " 67%|██████▋   | 20/30 [00:27<00:14,  1.42s/it]"
     ]
    },
    {
     "name": "stdout",
     "output_type": "stream",
     "text": [
      "2021-04-21 00:00:00\n"
     ]
    },
    {
     "name": "stderr",
     "output_type": "stream",
     "text": [
      " 70%|███████   | 21/30 [00:29<00:13,  1.45s/it]"
     ]
    },
    {
     "name": "stdout",
     "output_type": "stream",
     "text": [
      "2021-04-22 00:00:00\n"
     ]
    },
    {
     "name": "stderr",
     "output_type": "stream",
     "text": [
      " 73%|███████▎  | 22/30 [00:30<00:11,  1.50s/it]"
     ]
    },
    {
     "name": "stdout",
     "output_type": "stream",
     "text": [
      "2021-04-23 00:00:00\n"
     ]
    },
    {
     "name": "stderr",
     "output_type": "stream",
     "text": [
      " 77%|███████▋  | 23/30 [00:32<00:09,  1.42s/it]"
     ]
    },
    {
     "name": "stdout",
     "output_type": "stream",
     "text": [
      "2021-04-24 00:00:00\n"
     ]
    },
    {
     "name": "stderr",
     "output_type": "stream",
     "text": [
      " 80%|████████  | 24/30 [00:33<00:08,  1.37s/it]"
     ]
    },
    {
     "name": "stdout",
     "output_type": "stream",
     "text": [
      "2021-04-25 00:00:00\n"
     ]
    },
    {
     "name": "stderr",
     "output_type": "stream",
     "text": [
      " 83%|████████▎ | 25/30 [00:34<00:06,  1.35s/it]"
     ]
    },
    {
     "name": "stdout",
     "output_type": "stream",
     "text": [
      "2021-04-26 00:00:00\n"
     ]
    },
    {
     "name": "stderr",
     "output_type": "stream",
     "text": [
      " 87%|████████▋ | 26/30 [00:35<00:05,  1.28s/it]"
     ]
    },
    {
     "name": "stdout",
     "output_type": "stream",
     "text": [
      "2021-04-27 00:00:00\n"
     ]
    },
    {
     "name": "stderr",
     "output_type": "stream",
     "text": [
      " 90%|█████████ | 27/30 [00:37<00:03,  1.33s/it]"
     ]
    },
    {
     "name": "stdout",
     "output_type": "stream",
     "text": [
      "2021-04-28 00:00:00\n"
     ]
    },
    {
     "name": "stderr",
     "output_type": "stream",
     "text": [
      " 93%|█████████▎| 28/30 [00:38<00:02,  1.36s/it]"
     ]
    },
    {
     "name": "stdout",
     "output_type": "stream",
     "text": [
      "2021-04-29 00:00:00\n"
     ]
    },
    {
     "name": "stderr",
     "output_type": "stream",
     "text": [
      " 97%|█████████▋| 29/30 [00:40<00:01,  1.51s/it]"
     ]
    },
    {
     "name": "stdout",
     "output_type": "stream",
     "text": [
      "2021-04-30 00:00:00\n"
     ]
    },
    {
     "name": "stderr",
     "output_type": "stream",
     "text": [
      "100%|██████████| 30/30 [00:42<00:00,  1.40s/it]\n"
     ]
    }
   ],
   "source": [
    "result_news = None\n",
    "result_paragraph = None\n",
    "\n",
    "for fecha in tqdm(pd.date_range(start=start_date, end=end_date)):\n",
    "    print(fecha)\n",
    "    fecha = fecha.strftime(\"%Y%m%d\")\n",
    "    df = pd.read_csv(\n",
    "        f\"{RUTA_BASE}/{fecha}/output_featuring_{fecha}.csv\",\n",
    "        sep=\";\",\n",
    "        parse_dates=[\"date\"],\n",
    "    )\n",
    "    if not result_news is None:\n",
    "        result_news = pd.concat([result_news, df])\n",
    "    else:\n",
    "        result_news = df\n",
    "\n",
    "    df = pd.read_csv(\n",
    "        f\"{RUTA_BASE}/{fecha}/output_featuring_{fecha}_paragraph.csv\",\n",
    "        sep=\";\",\n",
    "        parse_dates=[\"date\"],\n",
    "    )\n",
    "\n",
    "    if not result_paragraph is None:\n",
    "        result_paragraph = pd.concat([result_paragraph, df])\n",
    "    else:\n",
    "        result_paragraph = df\n",
    "\n",
    "result_news.sort_values(by=[\"date\", \"pk\"], inplace=True)\n",
    "\n",
    "result_news.to_csv(\n",
    "    f\"{RUTA_BASE}/dataset_{start_date.strftime('%Y%m%d')}_{end_date.strftime('%Y%m%d')}_news.csv\",\n",
    "    sep=\";\",\n",
    "    index=False,\n",
    ")\n",
    "\n",
    "result_paragraph[\"finanzas_tag_s_n\"] = \"\"\n",
    "result_paragraph[\"impacto_tag_s_n\"] = \"\"\n",
    "result_paragraph[\"topic_tag_news\"] = \"\"\n",
    "result_paragraph[\"finanzas_tag_news_s_n\"] = \"\"\n",
    "result_paragraph[\"impacto_tag_news_s_n\"] = \"\"\n",
    "\n",
    "result_paragraph.sort_values(by=[\"date\", \"pk_paragraph\"], inplace=True)\n",
    "\n",
    "result_paragraph.to_csv(\n",
    "    f\"{RUTA_BASE}/dataset_{start_date.strftime('%Y%m%d')}_{end_date.strftime('%Y%m%d')}_paragraph.csv\",\n",
    "    sep=\";\",\n",
    "    index=False,\n",
    ")\n"
   ]
  }
 ],
 "metadata": {
  "kernelspec": {
   "display_name": "Python 3.10.4 ('myenv': venv)",
   "language": "python",
   "name": "python3"
  },
  "language_info": {
   "codemirror_mode": {
    "name": "ipython",
    "version": 3
   },
   "file_extension": ".py",
   "mimetype": "text/x-python",
   "name": "python",
   "nbconvert_exporter": "python",
   "pygments_lexer": "ipython3",
   "version": "3.10.4"
  },
  "orig_nbformat": 4,
  "vscode": {
   "interpreter": {
    "hash": "7dcd78e7f5f0ad0a315c204891a8b52a5a941e827d459c7091e7f1bb656e120f"
   }
  }
 },
 "nbformat": 4,
 "nbformat_minor": 2
}
