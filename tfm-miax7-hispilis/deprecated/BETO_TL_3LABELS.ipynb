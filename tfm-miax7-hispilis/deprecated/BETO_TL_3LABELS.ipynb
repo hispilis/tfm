{
 "cells": [
  {
   "cell_type": "code",
   "execution_count": 1,
   "id": "86d7769b",
   "metadata": {
    "execution": {
     "iopub.execute_input": "2022-04-05T09:04:31.651372Z",
     "iopub.status.busy": "2022-04-05T09:04:31.649898Z",
     "iopub.status.idle": "2022-04-05T09:04:48.816144Z",
     "shell.execute_reply": "2022-04-05T09:04:48.815261Z",
     "shell.execute_reply.started": "2022-04-05T06:12:06.731640Z"
    },
    "id": "-LmRFENqXHcm",
    "outputId": "9c9d1baa-9877-44b7-e53b-9aad454f2336",
    "papermill": {
     "duration": 17.193442,
     "end_time": "2022-04-05T09:04:48.816320",
     "exception": false,
     "start_time": "2022-04-05T09:04:31.622878",
     "status": "completed"
    },
    "tags": []
   },
   "outputs": [
    {
     "name": "stdout",
     "output_type": "stream",
     "text": [
      "Requirement already satisfied: fsspec in /opt/conda/lib/python3.7/site-packages (2022.2.0)\r\n",
      "\u001b[33mWARNING: Running pip as the 'root' user can result in broken permissions and conflicting behaviour with the system package manager. It is recommended to use a virtual environment instead: https://pip.pypa.io/warnings/venv\u001b[0m\r\n",
      "Requirement already satisfied: gcsfs in /opt/conda/lib/python3.7/site-packages (2021.11.1)\r\n",
      "Requirement already satisfied: requests in /opt/conda/lib/python3.7/site-packages (from gcsfs) (2.26.0)\r\n",
      "Requirement already satisfied: google-auth-oauthlib in /opt/conda/lib/python3.7/site-packages (from gcsfs) (0.4.6)\r\n",
      "Requirement already satisfied: google-cloud-storage in /opt/conda/lib/python3.7/site-packages (from gcsfs) (1.43.0)\r\n",
      "Requirement already satisfied: aiohttp<4 in /opt/conda/lib/python3.7/site-packages (from gcsfs) (3.8.1)\r\n",
      "Requirement already satisfied: google-auth>=1.2 in /opt/conda/lib/python3.7/site-packages (from gcsfs) (1.35.0)\r\n",
      "Requirement already satisfied: decorator>4.1.2 in /opt/conda/lib/python3.7/site-packages (from gcsfs) (5.1.0)\r\n",
      "Collecting fsspec==2021.11.1\r\n",
      "  Downloading fsspec-2021.11.1-py3-none-any.whl (132 kB)\r\n",
      "     |████████████████████████████████| 132 kB 806 kB/s            \r\n",
      "\u001b[?25hRequirement already satisfied: multidict<7.0,>=4.5 in /opt/conda/lib/python3.7/site-packages (from aiohttp<4->gcsfs) (5.2.0)\r\n",
      "Requirement already satisfied: attrs>=17.3.0 in /opt/conda/lib/python3.7/site-packages (from aiohttp<4->gcsfs) (21.2.0)\r\n",
      "Requirement already satisfied: yarl<2.0,>=1.0 in /opt/conda/lib/python3.7/site-packages (from aiohttp<4->gcsfs) (1.7.2)\r\n",
      "Requirement already satisfied: frozenlist>=1.1.1 in /opt/conda/lib/python3.7/site-packages (from aiohttp<4->gcsfs) (1.2.0)\r\n",
      "Requirement already satisfied: aiosignal>=1.1.2 in /opt/conda/lib/python3.7/site-packages (from aiohttp<4->gcsfs) (1.2.0)\r\n",
      "Requirement already satisfied: async-timeout<5.0,>=4.0.0a3 in /opt/conda/lib/python3.7/site-packages (from aiohttp<4->gcsfs) (4.0.1)\r\n",
      "Requirement already satisfied: asynctest==0.13.0 in /opt/conda/lib/python3.7/site-packages (from aiohttp<4->gcsfs) (0.13.0)\r\n",
      "Requirement already satisfied: typing-extensions>=3.7.4 in /opt/conda/lib/python3.7/site-packages (from aiohttp<4->gcsfs) (4.1.1)\r\n",
      "Requirement already satisfied: charset-normalizer<3.0,>=2.0 in /opt/conda/lib/python3.7/site-packages (from aiohttp<4->gcsfs) (2.0.9)\r\n",
      "Requirement already satisfied: pyasn1-modules>=0.2.1 in /opt/conda/lib/python3.7/site-packages (from google-auth>=1.2->gcsfs) (0.2.7)\r\n",
      "Requirement already satisfied: cachetools<5.0,>=2.0.0 in /opt/conda/lib/python3.7/site-packages (from google-auth>=1.2->gcsfs) (4.2.4)\r\n",
      "Requirement already satisfied: setuptools>=40.3.0 in /opt/conda/lib/python3.7/site-packages (from google-auth>=1.2->gcsfs) (59.5.0)\r\n",
      "Requirement already satisfied: six>=1.9.0 in /opt/conda/lib/python3.7/site-packages (from google-auth>=1.2->gcsfs) (1.16.0)\r\n",
      "Requirement already satisfied: rsa<5,>=3.1.4 in /opt/conda/lib/python3.7/site-packages (from google-auth>=1.2->gcsfs) (4.8)\r\n",
      "Requirement already satisfied: requests-oauthlib>=0.7.0 in /opt/conda/lib/python3.7/site-packages (from google-auth-oauthlib->gcsfs) (1.3.0)\r\n",
      "Requirement already satisfied: protobuf in /opt/conda/lib/python3.7/site-packages (from google-cloud-storage->gcsfs) (3.19.4)\r\n",
      "Requirement already satisfied: google-cloud-core<3.0dev,>=1.6.0 in /opt/conda/lib/python3.7/site-packages (from google-cloud-storage->gcsfs) (1.7.2)\r\n",
      "Requirement already satisfied: google-api-core<3.0dev,>=1.29.0 in /opt/conda/lib/python3.7/site-packages (from google-cloud-storage->gcsfs) (1.31.5)\r\n",
      "Requirement already satisfied: google-resumable-media<3.0dev,>=1.3.0 in /opt/conda/lib/python3.7/site-packages (from google-cloud-storage->gcsfs) (1.3.3)\r\n",
      "Requirement already satisfied: idna<4,>=2.5 in /opt/conda/lib/python3.7/site-packages (from requests->gcsfs) (3.1)\r\n",
      "Requirement already satisfied: certifi>=2017.4.17 in /opt/conda/lib/python3.7/site-packages (from requests->gcsfs) (2021.10.8)\r\n",
      "Requirement already satisfied: urllib3<1.27,>=1.21.1 in /opt/conda/lib/python3.7/site-packages (from requests->gcsfs) (1.26.7)\r\n",
      "Requirement already satisfied: pytz in /opt/conda/lib/python3.7/site-packages (from google-api-core<3.0dev,>=1.29.0->google-cloud-storage->gcsfs) (2021.3)\r\n",
      "Requirement already satisfied: packaging>=14.3 in /opt/conda/lib/python3.7/site-packages (from google-api-core<3.0dev,>=1.29.0->google-cloud-storage->gcsfs) (21.3)\r\n",
      "Requirement already satisfied: googleapis-common-protos<2.0dev,>=1.6.0 in /opt/conda/lib/python3.7/site-packages (from google-api-core<3.0dev,>=1.29.0->google-cloud-storage->gcsfs) (1.53.0)\r\n",
      "Requirement already satisfied: google-crc32c<2.0dev,>=1.0 in /opt/conda/lib/python3.7/site-packages (from google-resumable-media<3.0dev,>=1.3.0->google-cloud-storage->gcsfs) (1.1.2)\r\n",
      "Requirement already satisfied: pyasn1<0.5.0,>=0.4.6 in /opt/conda/lib/python3.7/site-packages (from pyasn1-modules>=0.2.1->google-auth>=1.2->gcsfs) (0.4.8)\r\n",
      "Requirement already satisfied: oauthlib>=3.0.0 in /opt/conda/lib/python3.7/site-packages (from requests-oauthlib>=0.7.0->google-auth-oauthlib->gcsfs) (3.1.1)\r\n",
      "Requirement already satisfied: cffi>=1.0.0 in /opt/conda/lib/python3.7/site-packages (from google-crc32c<2.0dev,>=1.0->google-resumable-media<3.0dev,>=1.3.0->google-cloud-storage->gcsfs) (1.15.0)\r\n",
      "Requirement already satisfied: pyparsing!=3.0.5,>=2.0.2 in /opt/conda/lib/python3.7/site-packages (from packaging>=14.3->google-api-core<3.0dev,>=1.29.0->google-cloud-storage->gcsfs) (3.0.6)\r\n",
      "Requirement already satisfied: pycparser in /opt/conda/lib/python3.7/site-packages (from cffi>=1.0.0->google-crc32c<2.0dev,>=1.0->google-resumable-media<3.0dev,>=1.3.0->google-cloud-storage->gcsfs) (2.21)\r\n",
      "Installing collected packages: fsspec\r\n",
      "  Attempting uninstall: fsspec\r\n",
      "    Found existing installation: fsspec 2022.2.0\r\n",
      "    Uninstalling fsspec-2022.2.0:\r\n",
      "      Successfully uninstalled fsspec-2022.2.0\r\n",
      "\u001b[31mERROR: pip's dependency resolver does not currently take into account all the packages that are installed. This behaviour is the source of the following dependency conflicts.\r\n",
      "dask-cudf 21.10.1 requires cupy-cuda114, which is not installed.\r\n",
      "s3fs 2022.2.0 requires fsspec==2022.02.0, but you have fsspec 2021.11.1 which is incompatible.\r\n",
      "dask-cudf 21.10.1 requires dask==2021.09.1, but you have dask 2022.2.0 which is incompatible.\r\n",
      "dask-cudf 21.10.1 requires distributed==2021.09.1, but you have distributed 2022.2.0 which is incompatible.\u001b[0m\r\n",
      "Successfully installed fsspec-2021.11.1\r\n",
      "\u001b[33mWARNING: Running pip as the 'root' user can result in broken permissions and conflicting behaviour with the system package manager. It is recommended to use a virtual environment instead: https://pip.pypa.io/warnings/venv\u001b[0m\r\n"
     ]
    }
   ],
   "source": [
    "!pip install fsspec\n",
    "!pip install gcsfs"
   ]
  },
  {
   "cell_type": "code",
   "execution_count": 2,
   "id": "1d723785",
   "metadata": {
    "execution": {
     "iopub.execute_input": "2022-04-05T09:04:48.882968Z",
     "iopub.status.busy": "2022-04-05T09:04:48.878579Z",
     "iopub.status.idle": "2022-04-05T09:04:56.266845Z",
     "shell.execute_reply": "2022-04-05T09:04:56.266297Z",
     "shell.execute_reply.started": "2022-04-05T06:12:48.119895Z"
    },
    "id": "HR-627pkdj6O",
    "outputId": "a2770d98-864f-4a8f-9fa1-0a9442be0d20",
    "papermill": {
     "duration": 7.420377,
     "end_time": "2022-04-05T09:04:56.266981",
     "exception": false,
     "start_time": "2022-04-05T09:04:48.846604",
     "status": "completed"
    },
    "tags": []
   },
   "outputs": [
    {
     "name": "stdout",
     "output_type": "stream",
     "text": [
      "Requirement already satisfied: transformers in /opt/conda/lib/python3.7/site-packages (4.16.2)\r\n",
      "Requirement already satisfied: numpy>=1.17 in /opt/conda/lib/python3.7/site-packages (from transformers) (1.20.3)\r\n",
      "Requirement already satisfied: pyyaml>=5.1 in /opt/conda/lib/python3.7/site-packages (from transformers) (6.0)\r\n",
      "Requirement already satisfied: packaging>=20.0 in /opt/conda/lib/python3.7/site-packages (from transformers) (21.3)\r\n",
      "Requirement already satisfied: tqdm>=4.27 in /opt/conda/lib/python3.7/site-packages (from transformers) (4.62.3)\r\n",
      "Requirement already satisfied: importlib-metadata in /opt/conda/lib/python3.7/site-packages (from transformers) (4.11.3)\r\n",
      "Requirement already satisfied: tokenizers!=0.11.3,>=0.10.1 in /opt/conda/lib/python3.7/site-packages (from transformers) (0.11.6)\r\n",
      "Requirement already satisfied: sacremoses in /opt/conda/lib/python3.7/site-packages (from transformers) (0.0.49)\r\n",
      "Requirement already satisfied: regex!=2019.12.17 in /opt/conda/lib/python3.7/site-packages (from transformers) (2021.11.10)\r\n",
      "Requirement already satisfied: huggingface-hub<1.0,>=0.1.0 in /opt/conda/lib/python3.7/site-packages (from transformers) (0.4.0)\r\n",
      "Requirement already satisfied: filelock in /opt/conda/lib/python3.7/site-packages (from transformers) (3.6.0)\r\n",
      "Requirement already satisfied: requests in /opt/conda/lib/python3.7/site-packages (from transformers) (2.26.0)\r\n",
      "Requirement already satisfied: typing-extensions>=3.7.4.3 in /opt/conda/lib/python3.7/site-packages (from huggingface-hub<1.0,>=0.1.0->transformers) (4.1.1)\r\n",
      "Requirement already satisfied: pyparsing!=3.0.5,>=2.0.2 in /opt/conda/lib/python3.7/site-packages (from packaging>=20.0->transformers) (3.0.6)\r\n",
      "Requirement already satisfied: zipp>=0.5 in /opt/conda/lib/python3.7/site-packages (from importlib-metadata->transformers) (3.6.0)\r\n",
      "Requirement already satisfied: idna<4,>=2.5 in /opt/conda/lib/python3.7/site-packages (from requests->transformers) (3.1)\r\n",
      "Requirement already satisfied: urllib3<1.27,>=1.21.1 in /opt/conda/lib/python3.7/site-packages (from requests->transformers) (1.26.7)\r\n",
      "Requirement already satisfied: charset-normalizer~=2.0.0 in /opt/conda/lib/python3.7/site-packages (from requests->transformers) (2.0.9)\r\n",
      "Requirement already satisfied: certifi>=2017.4.17 in /opt/conda/lib/python3.7/site-packages (from requests->transformers) (2021.10.8)\r\n",
      "Requirement already satisfied: six in /opt/conda/lib/python3.7/site-packages (from sacremoses->transformers) (1.16.0)\r\n",
      "Requirement already satisfied: click in /opt/conda/lib/python3.7/site-packages (from sacremoses->transformers) (8.0.3)\r\n",
      "Requirement already satisfied: joblib in /opt/conda/lib/python3.7/site-packages (from sacremoses->transformers) (1.1.0)\r\n",
      "\u001b[33mWARNING: Running pip as the 'root' user can result in broken permissions and conflicting behaviour with the system package manager. It is recommended to use a virtual environment instead: https://pip.pypa.io/warnings/venv\u001b[0m\r\n"
     ]
    }
   ],
   "source": [
    "!pip install transformers"
   ]
  },
  {
   "cell_type": "code",
   "execution_count": 3,
   "id": "ce1c6027",
   "metadata": {
    "execution": {
     "iopub.execute_input": "2022-04-05T09:04:56.330477Z",
     "iopub.status.busy": "2022-04-05T09:04:56.329747Z",
     "iopub.status.idle": "2022-04-05T09:05:03.585782Z",
     "shell.execute_reply": "2022-04-05T09:05:03.585230Z",
     "shell.execute_reply.started": "2022-04-05T06:13:56.422912Z"
    },
    "id": "hknhd4ugdrbS",
    "outputId": "f9bdcd83-9b93-4536-c0a0-1e4cf93638b9",
    "papermill": {
     "duration": 7.289349,
     "end_time": "2022-04-05T09:05:03.585910",
     "exception": false,
     "start_time": "2022-04-05T09:04:56.296561",
     "status": "completed"
    },
    "tags": []
   },
   "outputs": [
    {
     "name": "stdout",
     "output_type": "stream",
     "text": [
      "Requirement already satisfied: datasets in /opt/conda/lib/python3.7/site-packages (1.18.4)\r\n",
      "Requirement already satisfied: huggingface-hub<1.0.0,>=0.1.0 in /opt/conda/lib/python3.7/site-packages (from datasets) (0.4.0)\r\n",
      "Requirement already satisfied: importlib-metadata in /opt/conda/lib/python3.7/site-packages (from datasets) (4.11.3)\r\n",
      "Requirement already satisfied: xxhash in /opt/conda/lib/python3.7/site-packages (from datasets) (3.0.0)\r\n",
      "Requirement already satisfied: multiprocess in /opt/conda/lib/python3.7/site-packages (from datasets) (0.70.12.2)\r\n",
      "Requirement already satisfied: aiohttp in /opt/conda/lib/python3.7/site-packages (from datasets) (3.8.1)\r\n",
      "Requirement already satisfied: pyarrow!=4.0.0,>=3.0.0 in /opt/conda/lib/python3.7/site-packages (from datasets) (6.0.1)\r\n",
      "Requirement already satisfied: responses<0.19 in /opt/conda/lib/python3.7/site-packages (from datasets) (0.18.0)\r\n",
      "Requirement already satisfied: numpy>=1.17 in /opt/conda/lib/python3.7/site-packages (from datasets) (1.20.3)\r\n",
      "Requirement already satisfied: dill in /opt/conda/lib/python3.7/site-packages (from datasets) (0.3.4)\r\n",
      "Requirement already satisfied: packaging in /opt/conda/lib/python3.7/site-packages (from datasets) (21.3)\r\n",
      "Requirement already satisfied: pandas in /opt/conda/lib/python3.7/site-packages (from datasets) (1.3.5)\r\n",
      "Requirement already satisfied: tqdm>=4.62.1 in /opt/conda/lib/python3.7/site-packages (from datasets) (4.62.3)\r\n",
      "Requirement already satisfied: requests>=2.19.0 in /opt/conda/lib/python3.7/site-packages (from datasets) (2.26.0)\r\n",
      "Requirement already satisfied: fsspec[http]>=2021.05.0 in /opt/conda/lib/python3.7/site-packages (from datasets) (2021.11.1)\r\n",
      "Requirement already satisfied: filelock in /opt/conda/lib/python3.7/site-packages (from huggingface-hub<1.0.0,>=0.1.0->datasets) (3.6.0)\r\n",
      "Requirement already satisfied: pyyaml in /opt/conda/lib/python3.7/site-packages (from huggingface-hub<1.0.0,>=0.1.0->datasets) (6.0)\r\n",
      "Requirement already satisfied: typing-extensions>=3.7.4.3 in /opt/conda/lib/python3.7/site-packages (from huggingface-hub<1.0.0,>=0.1.0->datasets) (4.1.1)\r\n",
      "Requirement already satisfied: pyparsing!=3.0.5,>=2.0.2 in /opt/conda/lib/python3.7/site-packages (from packaging->datasets) (3.0.6)\r\n",
      "Requirement already satisfied: idna<4,>=2.5 in /opt/conda/lib/python3.7/site-packages (from requests>=2.19.0->datasets) (3.1)\r\n",
      "Requirement already satisfied: urllib3<1.27,>=1.21.1 in /opt/conda/lib/python3.7/site-packages (from requests>=2.19.0->datasets) (1.26.7)\r\n",
      "Requirement already satisfied: charset-normalizer~=2.0.0 in /opt/conda/lib/python3.7/site-packages (from requests>=2.19.0->datasets) (2.0.9)\r\n",
      "Requirement already satisfied: certifi>=2017.4.17 in /opt/conda/lib/python3.7/site-packages (from requests>=2.19.0->datasets) (2021.10.8)\r\n",
      "Requirement already satisfied: frozenlist>=1.1.1 in /opt/conda/lib/python3.7/site-packages (from aiohttp->datasets) (1.2.0)\r\n",
      "Requirement already satisfied: yarl<2.0,>=1.0 in /opt/conda/lib/python3.7/site-packages (from aiohttp->datasets) (1.7.2)\r\n",
      "Requirement already satisfied: multidict<7.0,>=4.5 in /opt/conda/lib/python3.7/site-packages (from aiohttp->datasets) (5.2.0)\r\n",
      "Requirement already satisfied: attrs>=17.3.0 in /opt/conda/lib/python3.7/site-packages (from aiohttp->datasets) (21.2.0)\r\n",
      "Requirement already satisfied: asynctest==0.13.0 in /opt/conda/lib/python3.7/site-packages (from aiohttp->datasets) (0.13.0)\r\n",
      "Requirement already satisfied: aiosignal>=1.1.2 in /opt/conda/lib/python3.7/site-packages (from aiohttp->datasets) (1.2.0)\r\n",
      "Requirement already satisfied: async-timeout<5.0,>=4.0.0a3 in /opt/conda/lib/python3.7/site-packages (from aiohttp->datasets) (4.0.1)\r\n",
      "Requirement already satisfied: zipp>=0.5 in /opt/conda/lib/python3.7/site-packages (from importlib-metadata->datasets) (3.6.0)\r\n",
      "Requirement already satisfied: python-dateutil>=2.7.3 in /opt/conda/lib/python3.7/site-packages (from pandas->datasets) (2.8.2)\r\n",
      "Requirement already satisfied: pytz>=2017.3 in /opt/conda/lib/python3.7/site-packages (from pandas->datasets) (2021.3)\r\n",
      "Requirement already satisfied: six>=1.5 in /opt/conda/lib/python3.7/site-packages (from python-dateutil>=2.7.3->pandas->datasets) (1.16.0)\r\n",
      "\u001b[33mWARNING: Running pip as the 'root' user can result in broken permissions and conflicting behaviour with the system package manager. It is recommended to use a virtual environment instead: https://pip.pypa.io/warnings/venv\u001b[0m\r\n"
     ]
    }
   ],
   "source": [
    "!pip install datasets"
   ]
  },
  {
   "cell_type": "code",
   "execution_count": 4,
   "id": "8ad09484",
   "metadata": {
    "execution": {
     "iopub.execute_input": "2022-04-05T09:05:03.655929Z",
     "iopub.status.busy": "2022-04-05T09:05:03.655150Z",
     "iopub.status.idle": "2022-04-05T09:05:26.513159Z",
     "shell.execute_reply": "2022-04-05T09:05:26.512705Z",
     "shell.execute_reply.started": "2022-04-05T06:14:23.047736Z"
    },
    "id": "dc8bd2bd",
    "outputId": "12f700dc-efeb-4b2f-912f-35feee14d4d5",
    "papermill": {
     "duration": 22.895633,
     "end_time": "2022-04-05T09:05:26.513276",
     "exception": false,
     "start_time": "2022-04-05T09:05:03.617643",
     "status": "completed"
    },
    "tags": []
   },
   "outputs": [
    {
     "data": {
      "text/html": [
       "<div>\n",
       "<style scoped>\n",
       "    .dataframe tbody tr th:only-of-type {\n",
       "        vertical-align: middle;\n",
       "    }\n",
       "\n",
       "    .dataframe tbody tr th {\n",
       "        vertical-align: top;\n",
       "    }\n",
       "\n",
       "    .dataframe thead th {\n",
       "        text-align: right;\n",
       "    }\n",
       "</style>\n",
       "<table border=\"1\" class=\"dataframe\">\n",
       "  <thead>\n",
       "    <tr style=\"text-align: right;\">\n",
       "      <th></th>\n",
       "      <th>ticker</th>\n",
       "      <th>date</th>\n",
       "      <th>body</th>\n",
       "      <th>r_adj</th>\n",
       "      <th>label</th>\n",
       "      <th>texto_limpio</th>\n",
       "    </tr>\n",
       "  </thead>\n",
       "  <tbody>\n",
       "    <tr>\n",
       "      <th>0</th>\n",
       "      <td>ELE</td>\n",
       "      <td>2021-03-02 20:50:00.000</td>\n",
       "      <td>MADRID, 2 Mar. (EUROPA PRESS) - El pívot del R...</td>\n",
       "      <td>-0.021237</td>\n",
       "      <td>-1</td>\n",
       "      <td>2 pívot real madrid walter tavares sido nombra...</td>\n",
       "    </tr>\n",
       "    <tr>\n",
       "      <th>1</th>\n",
       "      <td>REE</td>\n",
       "      <td>2021-11-23 13:16:00.000</td>\n",
       "      <td>NERJA (MÁLAGA), 23 Nov. (EUROPA PRESS) - La de...</td>\n",
       "      <td>0.000124</td>\n",
       "      <td>0</td>\n",
       "      <td>nerja 23 delegada territorial educación deport...</td>\n",
       "    </tr>\n",
       "    <tr>\n",
       "      <th>2</th>\n",
       "      <td>SAN</td>\n",
       "      <td>2021-02-05 13:55:00.000</td>\n",
       "      <td>MADRID, 5 Feb. (EUROPA PRESS) - El fondo austr...</td>\n",
       "      <td>0.019216</td>\n",
       "      <td>1</td>\n",
       "      <td>5 fondo australiano ifm presentado viernes com...</td>\n",
       "    </tr>\n",
       "    <tr>\n",
       "      <th>3</th>\n",
       "      <td>BKT</td>\n",
       "      <td>2021-03-13 09:06:12.000</td>\n",
       "      <td>Los bancos españoles han comenzado el año en B...</td>\n",
       "      <td>-0.015562</td>\n",
       "      <td>-1</td>\n",
       "      <td>bancos españoles comenzado año bolsa buen expe...</td>\n",
       "    </tr>\n",
       "    <tr>\n",
       "      <th>4</th>\n",
       "      <td>SAN</td>\n",
       "      <td>2021-12-18 09:29:00.000</td>\n",
       "      <td>MADRID, 18 Dic. (EUROPA PRESS) - Rami Aboukhai...</td>\n",
       "      <td>0.004396</td>\n",
       "      <td>0</td>\n",
       "      <td>18 rami ahora director negocio tarjetas grupo ...</td>\n",
       "    </tr>\n",
       "    <tr>\n",
       "      <th>...</th>\n",
       "      <td>...</td>\n",
       "      <td>...</td>\n",
       "      <td>...</td>\n",
       "      <td>...</td>\n",
       "      <td>...</td>\n",
       "      <td>...</td>\n",
       "    </tr>\n",
       "    <tr>\n",
       "      <th>53510</th>\n",
       "      <td>IAG</td>\n",
       "      <td>2021-03-05 06:09:36.000</td>\n",
       "      <td>El derrumbe de la movilidad y el miedo a los c...</td>\n",
       "      <td>-0.042987</td>\n",
       "      <td>-1</td>\n",
       "      <td>derrumbe movilidad miedo costes fijos incremen...</td>\n",
       "    </tr>\n",
       "    <tr>\n",
       "      <th>53511</th>\n",
       "      <td>TEF</td>\n",
       "      <td>2021-10-11 20:08:31.000</td>\n",
       "      <td>Los fiscales austriacos investigan si miembros...</td>\n",
       "      <td>0.007495</td>\n",
       "      <td>0</td>\n",
       "      <td>fiscales austriacos investigan si miembros övp...</td>\n",
       "    </tr>\n",
       "    <tr>\n",
       "      <th>53512</th>\n",
       "      <td>FER</td>\n",
       "      <td>2021-09-27 18:26:00.000</td>\n",
       "      <td>MADRID, 27 Sep. (EUROPA PRESS) - El ministro d...</td>\n",
       "      <td>-0.007847</td>\n",
       "      <td>0</td>\n",
       "      <td>27 ministro asuntos ue josé manuel asegurado l...</td>\n",
       "    </tr>\n",
       "    <tr>\n",
       "      <th>53513</th>\n",
       "      <td>SAB</td>\n",
       "      <td>2021-01-25 10:31:00.000</td>\n",
       "      <td>MADRID, 25 Ene. (EUROPA PRESS) - Asufin ha den...</td>\n",
       "      <td>0.016134</td>\n",
       "      <td>1</td>\n",
       "      <td>25 asufin denunciado banco españa comisión nac...</td>\n",
       "    </tr>\n",
       "    <tr>\n",
       "      <th>53514</th>\n",
       "      <td>ELE</td>\n",
       "      <td>2021-04-08 07:40:59.000</td>\n",
       "      <td>Con 74 años Manuel De la Fuente ya está vacuna...</td>\n",
       "      <td>0.009653</td>\n",
       "      <td>0</td>\n",
       "      <td>74 años manuel fuente vacunado ver casi menos ...</td>\n",
       "    </tr>\n",
       "  </tbody>\n",
       "</table>\n",
       "<p>53515 rows × 6 columns</p>\n",
       "</div>"
      ],
      "text/plain": [
       "      ticker                     date  \\\n",
       "0        ELE  2021-03-02 20:50:00.000   \n",
       "1        REE  2021-11-23 13:16:00.000   \n",
       "2        SAN  2021-02-05 13:55:00.000   \n",
       "3        BKT  2021-03-13 09:06:12.000   \n",
       "4        SAN  2021-12-18 09:29:00.000   \n",
       "...      ...                      ...   \n",
       "53510    IAG  2021-03-05 06:09:36.000   \n",
       "53511    TEF  2021-10-11 20:08:31.000   \n",
       "53512    FER  2021-09-27 18:26:00.000   \n",
       "53513    SAB  2021-01-25 10:31:00.000   \n",
       "53514    ELE  2021-04-08 07:40:59.000   \n",
       "\n",
       "                                                    body     r_adj  label  \\\n",
       "0      MADRID, 2 Mar. (EUROPA PRESS) - El pívot del R... -0.021237     -1   \n",
       "1      NERJA (MÁLAGA), 23 Nov. (EUROPA PRESS) - La de...  0.000124      0   \n",
       "2      MADRID, 5 Feb. (EUROPA PRESS) - El fondo austr...  0.019216      1   \n",
       "3      Los bancos españoles han comenzado el año en B... -0.015562     -1   \n",
       "4      MADRID, 18 Dic. (EUROPA PRESS) - Rami Aboukhai...  0.004396      0   \n",
       "...                                                  ...       ...    ...   \n",
       "53510  El derrumbe de la movilidad y el miedo a los c... -0.042987     -1   \n",
       "53511  Los fiscales austriacos investigan si miembros...  0.007495      0   \n",
       "53512  MADRID, 27 Sep. (EUROPA PRESS) - El ministro d... -0.007847      0   \n",
       "53513  MADRID, 25 Ene. (EUROPA PRESS) - Asufin ha den...  0.016134      1   \n",
       "53514  Con 74 años Manuel De la Fuente ya está vacuna...  0.009653      0   \n",
       "\n",
       "                                            texto_limpio  \n",
       "0      2 pívot real madrid walter tavares sido nombra...  \n",
       "1      nerja 23 delegada territorial educación deport...  \n",
       "2      5 fondo australiano ifm presentado viernes com...  \n",
       "3      bancos españoles comenzado año bolsa buen expe...  \n",
       "4      18 rami ahora director negocio tarjetas grupo ...  \n",
       "...                                                  ...  \n",
       "53510  derrumbe movilidad miedo costes fijos incremen...  \n",
       "53511  fiscales austriacos investigan si miembros övp...  \n",
       "53512  27 ministro asuntos ue josé manuel asegurado l...  \n",
       "53513  25 asufin denunciado banco españa comisión nac...  \n",
       "53514  74 años manuel fuente vacunado ver casi menos ...  \n",
       "\n",
       "[53515 rows x 6 columns]"
      ]
     },
     "execution_count": 4,
     "metadata": {},
     "output_type": "execute_result"
    }
   ],
   "source": [
    "import pandas as pd\n",
    "# df_mini = pd.read_csv('../input/aideas/texto_limpio.csv', index_col = 'Unnamed: 0')\n",
    "df_mini = pd.read_csv(\"gs://tfm_aideas_datasets/texto_limpio_3labels.csv\", index_col = 'Unnamed: 0')\n",
    "# df_mini = pd.read_csv('/content/drive/My Drive/Colab Notebooks/texto_limpio_3labels.csv', index_col = 'Unnamed: 0')\n",
    "\n",
    "# import pickle\n",
    "# consolidated = pickle.load(open(\"../input/aideas/translation.pkl\", \"rb\" ))\n",
    "\n",
    "from sklearn.utils import shuffle\n",
    "dataset = shuffle(df_mini, random_state=42).reset_index(drop=True)\n",
    "dataset"
   ]
  },
  {
   "cell_type": "code",
   "execution_count": 5,
   "id": "018e60d7",
   "metadata": {
    "execution": {
     "iopub.execute_input": "2022-04-05T09:05:26.583633Z",
     "iopub.status.busy": "2022-04-05T09:05:26.582927Z",
     "iopub.status.idle": "2022-04-05T09:05:26.585537Z",
     "shell.execute_reply": "2022-04-05T09:05:26.585087Z",
     "shell.execute_reply.started": "2022-04-05T06:14:57.440975Z"
    },
    "id": "7c994989",
    "papermill": {
     "duration": 0.039882,
     "end_time": "2022-04-05T09:05:26.585647",
     "exception": false,
     "start_time": "2022-04-05T09:05:26.545765",
     "status": "completed"
    },
    "tags": []
   },
   "outputs": [],
   "source": [
    "# import pandas as pd\n",
    "# df_mini = pd.read_csv('../texto_limpio.csv', index_col = 'Unnamed: 0')\n",
    "\n",
    "# import pickle\n",
    "# consolidated = pickle.load(open(\"../translation.pkl\", \"rb\" ))\n",
    "\n",
    "# from sklearn.utils import shuffle\n",
    "# dataset = shuffle(df_mini, random_state=42).reset_index(drop=True)\n",
    "# dataset"
   ]
  },
  {
   "cell_type": "markdown",
   "id": "dda2ec5e",
   "metadata": {
    "id": "f97bf925",
    "papermill": {
     "duration": 0.031792,
     "end_time": "2022-04-05T09:05:26.649532",
     "exception": false,
     "start_time": "2022-04-05T09:05:26.617740",
     "status": "completed"
    },
    "tags": []
   },
   "source": [
    "# Transfer Learning con FinBERT"
   ]
  },
  {
   "cell_type": "markdown",
   "id": "4f50b3f6",
   "metadata": {
    "id": "360bfe9e",
    "papermill": {
     "duration": 0.03187,
     "end_time": "2022-04-05T09:05:26.713337",
     "exception": false,
     "start_time": "2022-04-05T09:05:26.681467",
     "status": "completed"
    },
    "tags": []
   },
   "source": [
    "A continuación se reentrena la última capa únicamente de FinBERT para la clasificación de las labels del dataset de noticias y alpha."
   ]
  },
  {
   "cell_type": "code",
   "execution_count": 6,
   "id": "7f1f4755",
   "metadata": {
    "execution": {
     "iopub.execute_input": "2022-04-05T09:05:26.781343Z",
     "iopub.status.busy": "2022-04-05T09:05:26.780709Z",
     "iopub.status.idle": "2022-04-05T09:05:26.813132Z",
     "shell.execute_reply": "2022-04-05T09:05:26.812654Z",
     "shell.execute_reply.started": "2022-04-05T06:15:00.858966Z"
    },
    "id": "8fdbcb76",
    "papermill": {
     "duration": 0.067954,
     "end_time": "2022-04-05T09:05:26.813240",
     "exception": false,
     "start_time": "2022-04-05T09:05:26.745286",
     "status": "completed"
    },
    "tags": []
   },
   "outputs": [],
   "source": [
    "# dataset.label = dataset.label.replace({-1:0})\n",
    "from sklearn.preprocessing import LabelEncoder\n",
    "lb = LabelEncoder()\n",
    "dataset.label = lb.fit_transform(dataset.label)"
   ]
  },
  {
   "cell_type": "code",
   "execution_count": 7,
   "id": "efbf04f8",
   "metadata": {
    "execution": {
     "iopub.execute_input": "2022-04-05T09:05:26.882972Z",
     "iopub.status.busy": "2022-04-05T09:05:26.882199Z",
     "iopub.status.idle": "2022-04-05T09:05:26.886840Z",
     "shell.execute_reply": "2022-04-05T09:05:26.887262Z",
     "shell.execute_reply.started": "2022-04-05T06:15:03.072106Z"
    },
    "id": "PBTUyf6EYHvh",
    "outputId": "8a0e9452-3018-40ed-87ff-f77cf578325f",
    "papermill": {
     "duration": 0.041305,
     "end_time": "2022-04-05T09:05:26.887375",
     "exception": false,
     "start_time": "2022-04-05T09:05:26.846070",
     "status": "completed"
    },
    "tags": []
   },
   "outputs": [
    {
     "data": {
      "text/plain": [
       "array([0, 1, 2])"
      ]
     },
     "execution_count": 7,
     "metadata": {},
     "output_type": "execute_result"
    }
   ],
   "source": [
    "import numpy as np\n",
    "np.unique(dataset.label)\n",
    "#-1 -> 0\n",
    "#0 -> 1\n",
    "#1 -> 2"
   ]
  },
  {
   "cell_type": "code",
   "execution_count": 8,
   "id": "aceb583e",
   "metadata": {
    "execution": {
     "iopub.execute_input": "2022-04-05T09:05:26.957549Z",
     "iopub.status.busy": "2022-04-05T09:05:26.956877Z",
     "iopub.status.idle": "2022-04-05T09:05:38.407416Z",
     "shell.execute_reply": "2022-04-05T09:05:38.406904Z",
     "shell.execute_reply.started": "2022-04-05T06:15:06.234874Z"
    },
    "id": "66680ace",
    "outputId": "3ace87b0-9862-4be2-db2d-9961c5fb3dd9",
    "papermill": {
     "duration": 11.486715,
     "end_time": "2022-04-05T09:05:38.407557",
     "exception": false,
     "start_time": "2022-04-05T09:05:26.920842",
     "status": "completed"
    },
    "tags": []
   },
   "outputs": [
    {
     "data": {
      "application/vnd.jupyter.widget-view+json": {
       "model_id": "e98910ec926e45b3855353e437cc9ddf",
       "version_major": 2,
       "version_minor": 0
      },
      "text/plain": [
       "Downloading:   0%|          | 0.00/310 [00:00<?, ?B/s]"
      ]
     },
     "metadata": {},
     "output_type": "display_data"
    },
    {
     "data": {
      "application/vnd.jupyter.widget-view+json": {
       "model_id": "8d12824236084b769f26701f82af4fce",
       "version_major": 2,
       "version_minor": 0
      },
      "text/plain": [
       "Downloading:   0%|          | 0.00/650 [00:00<?, ?B/s]"
      ]
     },
     "metadata": {},
     "output_type": "display_data"
    },
    {
     "data": {
      "application/vnd.jupyter.widget-view+json": {
       "model_id": "752b93692e42428995152702e47bc1e9",
       "version_major": 2,
       "version_minor": 0
      },
      "text/plain": [
       "Downloading:   0%|          | 0.00/242k [00:00<?, ?B/s]"
      ]
     },
     "metadata": {},
     "output_type": "display_data"
    },
    {
     "data": {
      "application/vnd.jupyter.widget-view+json": {
       "model_id": "f744659d0ef34e77b091fd4ace6a9829",
       "version_major": 2,
       "version_minor": 0
      },
      "text/plain": [
       "Downloading:   0%|          | 0.00/475k [00:00<?, ?B/s]"
      ]
     },
     "metadata": {},
     "output_type": "display_data"
    },
    {
     "data": {
      "application/vnd.jupyter.widget-view+json": {
       "model_id": "67ea8e4141734b32b0773445eed71139",
       "version_major": 2,
       "version_minor": 0
      },
      "text/plain": [
       "Downloading:   0%|          | 0.00/134 [00:00<?, ?B/s]"
      ]
     },
     "metadata": {},
     "output_type": "display_data"
    }
   ],
   "source": [
    "from datasets import load_dataset\n",
    "from transformers import AutoTokenizer, DataCollatorWithPadding\n",
    "import numpy as np\n",
    "\n",
    "checkpoint = \"dccuchile/bert-base-spanish-wwm-uncased\"\n",
    "tokenizer = AutoTokenizer.from_pretrained(checkpoint)"
   ]
  },
  {
   "cell_type": "code",
   "execution_count": 9,
   "id": "c79f5cdb",
   "metadata": {
    "execution": {
     "iopub.execute_input": "2022-04-05T09:05:38.482779Z",
     "iopub.status.busy": "2022-04-05T09:05:38.481943Z",
     "iopub.status.idle": "2022-04-05T09:05:58.620292Z",
     "shell.execute_reply": "2022-04-05T09:05:58.619712Z",
     "shell.execute_reply.started": "2022-04-05T06:15:18.970493Z"
    },
    "id": "2ad4aabc",
    "outputId": "46db7168-4abf-4807-9b2c-341fc10a8075",
    "papermill": {
     "duration": 20.177438,
     "end_time": "2022-04-05T09:05:58.620469",
     "exception": false,
     "start_time": "2022-04-05T09:05:38.443031",
     "status": "completed"
    },
    "tags": []
   },
   "outputs": [
    {
     "data": {
      "application/vnd.jupyter.widget-view+json": {
       "model_id": "3c6f0a9b4990480eb6c6687171559a9d",
       "version_major": 2,
       "version_minor": 0
      },
      "text/plain": [
       "Downloading:   0%|          | 0.00/512M [00:00<?, ?B/s]"
      ]
     },
     "metadata": {},
     "output_type": "display_data"
    },
    {
     "name": "stderr",
     "output_type": "stream",
     "text": [
      "2022-04-05 09:05:51.749337: I tensorflow/stream_executor/cuda/cuda_gpu_executor.cc:937] successful NUMA node read from SysFS had negative value (-1), but there must be at least one NUMA node, so returning NUMA node zero\n",
      "2022-04-05 09:05:51.750572: I tensorflow/stream_executor/cuda/cuda_gpu_executor.cc:937] successful NUMA node read from SysFS had negative value (-1), but there must be at least one NUMA node, so returning NUMA node zero\n",
      "2022-04-05 09:05:51.751258: I tensorflow/stream_executor/cuda/cuda_gpu_executor.cc:937] successful NUMA node read from SysFS had negative value (-1), but there must be at least one NUMA node, so returning NUMA node zero\n",
      "2022-04-05 09:05:51.752116: I tensorflow/core/platform/cpu_feature_guard.cc:142] This TensorFlow binary is optimized with oneAPI Deep Neural Network Library (oneDNN) to use the following CPU instructions in performance-critical operations:  AVX2 AVX512F FMA\n",
      "To enable them in other operations, rebuild TensorFlow with the appropriate compiler flags.\n",
      "2022-04-05 09:05:51.753300: I tensorflow/stream_executor/cuda/cuda_gpu_executor.cc:937] successful NUMA node read from SysFS had negative value (-1), but there must be at least one NUMA node, so returning NUMA node zero\n",
      "2022-04-05 09:05:51.754024: I tensorflow/stream_executor/cuda/cuda_gpu_executor.cc:937] successful NUMA node read from SysFS had negative value (-1), but there must be at least one NUMA node, so returning NUMA node zero\n",
      "2022-04-05 09:05:51.754753: I tensorflow/stream_executor/cuda/cuda_gpu_executor.cc:937] successful NUMA node read from SysFS had negative value (-1), but there must be at least one NUMA node, so returning NUMA node zero\n",
      "2022-04-05 09:05:56.304099: I tensorflow/stream_executor/cuda/cuda_gpu_executor.cc:937] successful NUMA node read from SysFS had negative value (-1), but there must be at least one NUMA node, so returning NUMA node zero\n",
      "2022-04-05 09:05:56.304984: I tensorflow/stream_executor/cuda/cuda_gpu_executor.cc:937] successful NUMA node read from SysFS had negative value (-1), but there must be at least one NUMA node, so returning NUMA node zero\n",
      "2022-04-05 09:05:56.305759: I tensorflow/stream_executor/cuda/cuda_gpu_executor.cc:937] successful NUMA node read from SysFS had negative value (-1), but there must be at least one NUMA node, so returning NUMA node zero\n",
      "2022-04-05 09:05:56.306352: I tensorflow/core/common_runtime/gpu/gpu_device.cc:1510] Created device /job:localhost/replica:0/task:0/device:GPU:0 with 14959 MB memory:  -> device: 0, name: Tesla P100-PCIE-16GB, pci bus id: 0000:00:04.0, compute capability: 6.0\n",
      "All model checkpoint layers were used when initializing TFBertForSequenceClassification.\n",
      "\n",
      "Some layers of TFBertForSequenceClassification were not initialized from the model checkpoint at dccuchile/bert-base-spanish-wwm-uncased and are newly initialized: ['classifier', 'bert/pooler/dense/bias:0', 'bert/pooler/dense/kernel:0']\n",
      "You should probably TRAIN this model on a down-stream task to be able to use it for predictions and inference.\n"
     ]
    }
   ],
   "source": [
    "from transformers import AutoModelForSequenceClassification, AutoConfig\n",
    "import tensorflow as tf\n",
    "import keras\n",
    "from tensorflow.keras.optimizers import Adam\n",
    "from transformers import AutoTokenizer, TFBertForSequenceClassification\n",
    "\n",
    "model = TFBertForSequenceClassification.from_pretrained(checkpoint, num_labels=3)\n",
    "# model = TFBertForSequenceClassification.from_pretrained(checkpoint, num_labels=2)\n",
    "# config = AutoConfig.from_pretrained(\"ProsusAI/finbert\")\n",
    "# config.num_labels = 2\n",
    "# model = TFAutoModelForSequenceClassification.from_config(config)\n"
   ]
  },
  {
   "cell_type": "code",
   "execution_count": 10,
   "id": "9b8dfd61",
   "metadata": {
    "execution": {
     "iopub.execute_input": "2022-04-05T09:05:58.698508Z",
     "iopub.status.busy": "2022-04-05T09:05:58.697853Z",
     "iopub.status.idle": "2022-04-05T09:05:58.700594Z",
     "shell.execute_reply": "2022-04-05T09:05:58.700166Z",
     "shell.execute_reply.started": "2022-04-05T06:16:28.369591Z"
    },
    "id": "b7d8cb5d",
    "papermill": {
     "duration": 0.042978,
     "end_time": "2022-04-05T09:05:58.700707",
     "exception": false,
     "start_time": "2022-04-05T09:05:58.657729",
     "status": "completed"
    },
    "tags": []
   },
   "outputs": [],
   "source": [
    "# from transformers import AutoModelForSequenceClassification, AutoConfig\n",
    "# import tensorflow as tf\n",
    "# import keras\n",
    "# from tensorflow.keras.optimizers import Adam\n",
    "# from transformers import AutoTokenizer, TFAutoModelForSequenceClassification\n",
    "\n",
    "# # model = AutoModelForSequenceClassification.from_pretrained(\"ProsusAI/finbert\", num_labels=2)\n",
    "# config = AutoConfig.from_pretrained(\"ProsusAI/finbert\")\n",
    "# config.num_labels = 2\n",
    "# model = TFAutoModelForSequenceClassification.from_config(config)\n"
   ]
  },
  {
   "cell_type": "code",
   "execution_count": 11,
   "id": "17984b4f",
   "metadata": {
    "execution": {
     "iopub.execute_input": "2022-04-05T09:05:58.776665Z",
     "iopub.status.busy": "2022-04-05T09:05:58.776006Z",
     "iopub.status.idle": "2022-04-05T09:05:58.778531Z",
     "shell.execute_reply": "2022-04-05T09:05:58.778006Z",
     "shell.execute_reply.started": "2022-04-05T06:16:30.186372Z"
    },
    "id": "64c7a801",
    "papermill": {
     "duration": 0.041787,
     "end_time": "2022-04-05T09:05:58.778637",
     "exception": false,
     "start_time": "2022-04-05T09:05:58.736850",
     "status": "completed"
    },
    "tags": []
   },
   "outputs": [],
   "source": [
    "# tokenizer = AutoTokenizer.from_pretrained(\"dccuchile/bert-base-spanish-wwm-uncased\")\n",
    "# tokenizer = AutoTokenizer.from_pretrained(\"ProsusAI/finbert\")\n",
    "# model = TFAutoModelForSequenceClassification.from_pretrained(\"ProsusAI/finbert\", from_pt=True, num_labels=1)"
   ]
  },
  {
   "cell_type": "code",
   "execution_count": 12,
   "id": "97baac62",
   "metadata": {
    "execution": {
     "iopub.execute_input": "2022-04-05T09:05:58.855118Z",
     "iopub.status.busy": "2022-04-05T09:05:58.854279Z",
     "iopub.status.idle": "2022-04-05T09:05:58.856373Z",
     "shell.execute_reply": "2022-04-05T09:05:58.856830Z",
     "shell.execute_reply.started": "2022-04-05T06:16:33.081861Z"
    },
    "id": "6bf3bc71",
    "papermill": {
     "duration": 0.041576,
     "end_time": "2022-04-05T09:05:58.856951",
     "exception": false,
     "start_time": "2022-04-05T09:05:58.815375",
     "status": "completed"
    },
    "tags": []
   },
   "outputs": [],
   "source": [
    "# import numpy as np\n",
    "# proba_matrix = np.array(proba)\n",
    "# dataset_preds[\"Finbert_TL_2label\"] = proba_matrix.argmax(axis=1)"
   ]
  },
  {
   "cell_type": "code",
   "execution_count": 13,
   "id": "a8412364",
   "metadata": {
    "execution": {
     "iopub.execute_input": "2022-04-05T09:05:58.937835Z",
     "iopub.status.busy": "2022-04-05T09:05:58.937073Z",
     "iopub.status.idle": "2022-04-05T09:05:58.942278Z",
     "shell.execute_reply": "2022-04-05T09:05:58.941626Z",
     "shell.execute_reply.started": "2022-04-05T06:16:35.578450Z"
    },
    "id": "ca588a99",
    "papermill": {
     "duration": 0.049342,
     "end_time": "2022-04-05T09:05:58.942429",
     "exception": false,
     "start_time": "2022-04-05T09:05:58.893087",
     "status": "completed"
    },
    "tags": []
   },
   "outputs": [],
   "source": [
    "model.layers[0].trainable=False\n",
    "# model.layers[-1].activation=keras.activations.softmax"
   ]
  },
  {
   "cell_type": "code",
   "execution_count": 14,
   "id": "09bf2270",
   "metadata": {
    "execution": {
     "iopub.execute_input": "2022-04-05T09:05:59.022509Z",
     "iopub.status.busy": "2022-04-05T09:05:59.017211Z",
     "iopub.status.idle": "2022-04-05T09:05:59.029896Z",
     "shell.execute_reply": "2022-04-05T09:05:59.029481Z",
     "shell.execute_reply.started": "2022-04-05T06:16:38.786197Z"
    },
    "id": "590aad90",
    "papermill": {
     "duration": 0.05148,
     "end_time": "2022-04-05T09:05:59.029992",
     "exception": false,
     "start_time": "2022-04-05T09:05:58.978512",
     "status": "completed"
    },
    "tags": []
   },
   "outputs": [],
   "source": [
    "model.compile(\n",
    "loss=tf.keras.losses.SparseCategoricalCrossentropy(from_logits=True),\n",
    "optimizer=Adam(learning_rate=0.0001),\n",
    "metrics=['accuracy']\n",
    ")"
   ]
  },
  {
   "cell_type": "code",
   "execution_count": 15,
   "id": "ad8a659d",
   "metadata": {
    "execution": {
     "iopub.execute_input": "2022-04-05T09:05:59.106525Z",
     "iopub.status.busy": "2022-04-05T09:05:59.105937Z",
     "iopub.status.idle": "2022-04-05T09:05:59.127682Z",
     "shell.execute_reply": "2022-04-05T09:05:59.127215Z",
     "shell.execute_reply.started": "2022-04-05T06:16:41.745741Z"
    },
    "id": "e2194f46",
    "papermill": {
     "duration": 0.061158,
     "end_time": "2022-04-05T09:05:59.127793",
     "exception": false,
     "start_time": "2022-04-05T09:05:59.066635",
     "status": "completed"
    },
    "tags": []
   },
   "outputs": [],
   "source": [
    "from sklearn.model_selection import train_test_split\n",
    "\n",
    "x_train, x_test, y_train, y_test = train_test_split(dataset.body, dataset.label, test_size=0.2, random_state=42)"
   ]
  },
  {
   "cell_type": "code",
   "execution_count": 16,
   "id": "4234b99d",
   "metadata": {
    "execution": {
     "iopub.execute_input": "2022-04-05T09:05:59.322548Z",
     "iopub.status.busy": "2022-04-05T09:05:59.321898Z",
     "iopub.status.idle": "2022-04-05T09:07:17.902563Z",
     "shell.execute_reply": "2022-04-05T09:07:17.902053Z",
     "shell.execute_reply.started": "2022-04-05T06:16:44.474093Z"
    },
    "id": "65ae2967",
    "papermill": {
     "duration": 78.738978,
     "end_time": "2022-04-05T09:07:17.902709",
     "exception": false,
     "start_time": "2022-04-05T09:05:59.163731",
     "status": "completed"
    },
    "tags": []
   },
   "outputs": [],
   "source": [
    "# tokenized_datasets = tokenizer(dataset.body.tolist()[:5], padding=True, truncation=True, return_tensors=\"tf\")\n",
    "x_train = tokenizer(x_train.tolist(), padding=\"max_length\", truncation=True, return_tensors=\"tf\")"
   ]
  },
  {
   "cell_type": "code",
   "execution_count": 17,
   "id": "baba3629",
   "metadata": {
    "execution": {
     "iopub.execute_input": "2022-04-05T09:07:18.014974Z",
     "iopub.status.busy": "2022-04-05T09:07:18.014215Z",
     "iopub.status.idle": "2022-04-05T09:07:37.015050Z",
     "shell.execute_reply": "2022-04-05T09:07:37.014599Z",
     "shell.execute_reply.started": "2022-04-05T06:18:04.532428Z"
    },
    "id": "fcfab061",
    "papermill": {
     "duration": 19.075443,
     "end_time": "2022-04-05T09:07:37.015174",
     "exception": false,
     "start_time": "2022-04-05T09:07:17.939731",
     "status": "completed"
    },
    "tags": []
   },
   "outputs": [],
   "source": [
    "x_test = tokenizer(x_test.tolist(), padding=\"max_length\", truncation=True, return_tensors=\"tf\")"
   ]
  },
  {
   "cell_type": "code",
   "execution_count": 18,
   "id": "156498c7",
   "metadata": {
    "execution": {
     "iopub.execute_input": "2022-04-05T09:07:37.091598Z",
     "iopub.status.busy": "2022-04-05T09:07:37.090782Z",
     "iopub.status.idle": "2022-04-05T09:07:37.092761Z",
     "shell.execute_reply": "2022-04-05T09:07:37.093150Z",
     "shell.execute_reply.started": "2022-04-05T06:18:23.422227Z"
    },
    "id": "5ca3c167",
    "papermill": {
     "duration": 0.041545,
     "end_time": "2022-04-05T09:07:37.093269",
     "exception": false,
     "start_time": "2022-04-05T09:07:37.051724",
     "status": "completed"
    },
    "tags": []
   },
   "outputs": [],
   "source": [
    "# tokens_w_labels = x_train.copy()\n",
    "\n",
    "# train_dataset = tf.data.Dataset.from_tensor_slices((\n",
    "#     dict(tokens_w_labels),\n",
    "#     y_train.values[:5]\n",
    "# ))"
   ]
  },
  {
   "cell_type": "code",
   "execution_count": 19,
   "id": "b117056e",
   "metadata": {
    "execution": {
     "iopub.execute_input": "2022-04-05T09:07:37.170360Z",
     "iopub.status.busy": "2022-04-05T09:07:37.169621Z",
     "iopub.status.idle": "2022-04-05T14:34:15.089283Z",
     "shell.execute_reply": "2022-04-05T14:34:15.089744Z"
    },
    "id": "c434aaba",
    "outputId": "55ca9860-89c5-4838-92b4-2bb315194297",
    "papermill": {
     "duration": 19597.960688,
     "end_time": "2022-04-05T14:34:15.089924",
     "exception": false,
     "start_time": "2022-04-05T09:07:37.129236",
     "status": "completed"
    },
    "tags": []
   },
   "outputs": [
    {
     "name": "stderr",
     "output_type": "stream",
     "text": [
      "2022-04-05 09:07:37.249939: I tensorflow/compiler/mlir/mlir_graph_optimization_pass.cc:185] None of the MLIR Optimization Passes are enabled (registered 2)\n"
     ]
    },
    {
     "name": "stdout",
     "output_type": "stream",
     "text": [
      "Epoch 1/20\n",
      "302/302 [==============================] - 997s 3s/step - loss: 0.9545 - accuracy: 0.5970 - val_loss: 0.9339 - val_accuracy: 0.6065\n",
      "Epoch 2/20\n",
      "302/302 [==============================] - 979s 3s/step - loss: 0.9435 - accuracy: 0.6008 - val_loss: 0.9323 - val_accuracy: 0.6065\n",
      "Epoch 3/20\n",
      "302/302 [==============================] - 978s 3s/step - loss: 0.9422 - accuracy: 0.6008 - val_loss: 0.9311 - val_accuracy: 0.6065\n",
      "Epoch 4/20\n",
      "302/302 [==============================] - 978s 3s/step - loss: 0.9411 - accuracy: 0.6009 - val_loss: 0.9315 - val_accuracy: 0.6065\n",
      "Epoch 5/20\n",
      "302/302 [==============================] - 978s 3s/step - loss: 0.9406 - accuracy: 0.6010 - val_loss: 0.9310 - val_accuracy: 0.6065\n",
      "Epoch 6/20\n",
      "302/302 [==============================] - 978s 3s/step - loss: 0.9406 - accuracy: 0.6008 - val_loss: 0.9301 - val_accuracy: 0.6067\n",
      "Epoch 7/20\n",
      "302/302 [==============================] - 979s 3s/step - loss: 0.9394 - accuracy: 0.6011 - val_loss: 0.9303 - val_accuracy: 0.6065\n",
      "Epoch 8/20\n",
      "302/302 [==============================] - 980s 3s/step - loss: 0.9394 - accuracy: 0.6010 - val_loss: 0.9299 - val_accuracy: 0.6065\n",
      "Epoch 9/20\n",
      "302/302 [==============================] - 979s 3s/step - loss: 0.9389 - accuracy: 0.6010 - val_loss: 0.9298 - val_accuracy: 0.6067\n",
      "Epoch 10/20\n",
      "302/302 [==============================] - 978s 3s/step - loss: 0.9394 - accuracy: 0.6011 - val_loss: 0.9291 - val_accuracy: 0.6065\n",
      "Epoch 11/20\n",
      "302/302 [==============================] - 978s 3s/step - loss: 0.9384 - accuracy: 0.6010 - val_loss: 0.9295 - val_accuracy: 0.6063\n",
      "Epoch 12/20\n",
      "302/302 [==============================] - 978s 3s/step - loss: 0.9389 - accuracy: 0.6013 - val_loss: 0.9290 - val_accuracy: 0.6063\n",
      "Epoch 13/20\n",
      "302/302 [==============================] - 978s 3s/step - loss: 0.9377 - accuracy: 0.6013 - val_loss: 0.9291 - val_accuracy: 0.6067\n",
      "Epoch 14/20\n",
      "302/302 [==============================] - 978s 3s/step - loss: 0.9377 - accuracy: 0.6013 - val_loss: 0.9287 - val_accuracy: 0.6063\n",
      "Epoch 15/20\n",
      "302/302 [==============================] - 978s 3s/step - loss: 0.9374 - accuracy: 0.6013 - val_loss: 0.9290 - val_accuracy: 0.6070\n",
      "Epoch 16/20\n",
      "302/302 [==============================] - 978s 3s/step - loss: 0.9381 - accuracy: 0.6016 - val_loss: 0.9285 - val_accuracy: 0.6072\n",
      "Epoch 17/20\n",
      "302/302 [==============================] - 978s 3s/step - loss: 0.9372 - accuracy: 0.6011 - val_loss: 0.9284 - val_accuracy: 0.6067\n",
      "Epoch 18/20\n",
      "302/302 [==============================] - 979s 3s/step - loss: 0.9367 - accuracy: 0.6014 - val_loss: 0.9285 - val_accuracy: 0.6065\n",
      "Epoch 19/20\n",
      "302/302 [==============================] - 979s 3s/step - loss: 0.9374 - accuracy: 0.6015 - val_loss: 0.9284 - val_accuracy: 0.6063\n",
      "Epoch 20/20\n",
      "302/302 [==============================] - 979s 3s/step - loss: 0.9367 - accuracy: 0.6014 - val_loss: 0.9282 - val_accuracy: 0.6072\n"
     ]
    }
   ],
   "source": [
    "from tensorflow.keras.callbacks import ModelCheckpoint\n",
    "\n",
    "filepath = './checkpoint'\n",
    "model_checkpoint_callback = ModelCheckpoint(\n",
    "    filepath=filepath,\n",
    "    save_weights_only=True,\n",
    "    monitor='val_accuracy',\n",
    "    mode='max',\n",
    "    save_best_only=True\n",
    ")\n",
    "\n",
    "hist = model.fit(\n",
    "    dict(x_train),\n",
    "    y_train,\n",
    "    batch_size=128,\n",
    "    epochs=20,\n",
    "    validation_split=0.1,\n",
    "    callbacks=[model_checkpoint_callback]\n",
    "    )"
   ]
  },
  {
   "cell_type": "code",
   "execution_count": 20,
   "id": "44e3738d",
   "metadata": {
    "execution": {
     "iopub.execute_input": "2022-04-05T14:34:19.006032Z",
     "iopub.status.busy": "2022-04-05T14:34:19.005280Z",
     "iopub.status.idle": "2022-04-05T14:34:19.201552Z",
     "shell.execute_reply": "2022-04-05T14:34:19.200886Z"
    },
    "id": "d54074e8",
    "papermill": {
     "duration": 2.150323,
     "end_time": "2022-04-05T14:34:19.201676",
     "exception": false,
     "start_time": "2022-04-05T14:34:17.051353",
     "status": "completed"
    },
    "tags": []
   },
   "outputs": [
    {
     "data": {
      "image/png": "[encoded data removed]",
      "text/plain": [
       "<Figure size 432x288 with 1 Axes>"
      ]
     },
     "metadata": {
      "needs_background": "light"
     },
     "output_type": "display_data"
    }
   ],
   "source": [
    "import matplotlib.pyplot as plt\n",
    "plt.plot(hist.history['accuracy'])\n",
    "plt.plot(hist.history['val_accuracy'])\n",
    "plt.grid()\n",
    "plt.show()"
   ]
  },
  {
   "cell_type": "code",
   "execution_count": 21,
   "id": "2679d65b",
   "metadata": {
    "execution": {
     "iopub.execute_input": "2022-04-05T14:34:23.341518Z",
     "iopub.status.busy": "2022-04-05T14:34:23.340887Z",
     "iopub.status.idle": "2022-04-05T14:38:06.203971Z",
     "shell.execute_reply": "2022-04-05T14:38:06.203492Z"
    },
    "id": "e2a32fbb",
    "papermill": {
     "duration": 225.033928,
     "end_time": "2022-04-05T14:38:06.204106",
     "exception": false,
     "start_time": "2022-04-05T14:34:21.170178",
     "status": "completed"
    },
    "tags": []
   },
   "outputs": [
    {
     "name": "stdout",
     "output_type": "stream",
     "text": [
      "335/335 [==============================] - 222s 664ms/step - loss: 0.9431 - accuracy: 0.5999\n"
     ]
    },
    {
     "data": {
      "text/plain": [
       "[0.9430974125862122, 0.5999252796173096]"
      ]
     },
     "execution_count": 21,
     "metadata": {},
     "output_type": "execute_result"
    }
   ],
   "source": [
    "model.load_weights(filepath)\n",
    "model.evaluate(x_test.data, y_test)"
   ]
  },
  {
   "cell_type": "code",
   "execution_count": 22,
   "id": "e9553ddd",
   "metadata": {
    "execution": {
     "iopub.execute_input": "2022-04-05T14:38:10.313641Z",
     "iopub.status.busy": "2022-04-05T14:38:10.312768Z",
     "iopub.status.idle": "2022-04-05T14:42:35.038262Z",
     "shell.execute_reply": "2022-04-05T14:42:35.037322Z"
    },
    "id": "39dc2630",
    "papermill": {
     "duration": 266.818119,
     "end_time": "2022-04-05T14:42:35.038445",
     "exception": false,
     "start_time": "2022-04-05T14:38:08.220326",
     "status": "completed"
    },
    "tags": []
   },
   "outputs": [],
   "source": [
    "y_pred = model.predict(x_test.data)"
   ]
  },
  {
   "cell_type": "code",
   "execution_count": 23,
   "id": "fcfd885d",
   "metadata": {
    "execution": {
     "iopub.execute_input": "2022-04-05T14:42:39.453714Z",
     "iopub.status.busy": "2022-04-05T14:42:39.452827Z",
     "iopub.status.idle": "2022-04-05T14:42:39.454570Z",
     "shell.execute_reply": "2022-04-05T14:42:39.455062Z"
    },
    "id": "f152e7fc",
    "papermill": {
     "duration": 2.233278,
     "end_time": "2022-04-05T14:42:39.455198",
     "exception": false,
     "start_time": "2022-04-05T14:42:37.221920",
     "status": "completed"
    },
    "tags": []
   },
   "outputs": [],
   "source": [
    "from sklearn.metrics import (classification_report,\n",
    "                             confusion_matrix,\n",
    "                             roc_auc_score, precision_score)"
   ]
  },
  {
   "cell_type": "code",
   "execution_count": 24,
   "id": "c03f13f0",
   "metadata": {
    "execution": {
     "iopub.execute_input": "2022-04-05T14:42:43.516002Z",
     "iopub.status.busy": "2022-04-05T14:42:43.515116Z",
     "iopub.status.idle": "2022-04-05T14:42:43.516892Z",
     "shell.execute_reply": "2022-04-05T14:42:43.517299Z"
    },
    "id": "e406b54c",
    "papermill": {
     "duration": 2.056293,
     "end_time": "2022-04-05T14:42:43.517448",
     "exception": false,
     "start_time": "2022-04-05T14:42:41.461155",
     "status": "completed"
    },
    "tags": []
   },
   "outputs": [],
   "source": [
    "y_pred = y_pred.logits.argmax(axis=1)"
   ]
  },
  {
   "cell_type": "code",
   "execution_count": 25,
   "id": "6b29efa8",
   "metadata": {
    "execution": {
     "iopub.execute_input": "2022-04-05T14:42:47.603269Z",
     "iopub.status.busy": "2022-04-05T14:42:47.602461Z",
     "iopub.status.idle": "2022-04-05T14:42:47.617992Z",
     "shell.execute_reply": "2022-04-05T14:42:47.618488Z"
    },
    "id": "fa724d4d",
    "papermill": {
     "duration": 2.099067,
     "end_time": "2022-04-05T14:42:47.618627",
     "exception": false,
     "start_time": "2022-04-05T14:42:45.519560",
     "status": "completed"
    },
    "tags": []
   },
   "outputs": [
    {
     "name": "stdout",
     "output_type": "stream",
     "text": [
      "              precision    recall  f1-score   support\n",
      "\n",
      "           0       0.00      0.00      0.00      2150\n",
      "           1       0.60      1.00      0.75      6427\n",
      "           2       0.27      0.00      0.01      2126\n",
      "\n",
      "    accuracy                           0.60     10703\n",
      "   macro avg       0.29      0.33      0.25     10703\n",
      "weighted avg       0.41      0.60      0.45     10703\n",
      "\n"
     ]
    }
   ],
   "source": [
    "report = classification_report(y_test, y_pred)\n",
    "print(report)"
   ]
  },
  {
   "cell_type": "code",
   "execution_count": 26,
   "id": "9ca8edc4",
   "metadata": {
    "execution": {
     "iopub.execute_input": "2022-04-05T14:42:52.054612Z",
     "iopub.status.busy": "2022-04-05T14:42:52.054049Z",
     "iopub.status.idle": "2022-04-05T14:42:52.410434Z",
     "shell.execute_reply": "2022-04-05T14:42:52.411189Z"
    },
    "id": "bd659e65",
    "papermill": {
     "duration": 2.452388,
     "end_time": "2022-04-05T14:42:52.411464",
     "exception": false,
     "start_time": "2022-04-05T14:42:49.959076",
     "status": "completed"
    },
    "tags": []
   },
   "outputs": [
    {
     "data": {
      "image/png": "[encoded data removed]",
      "text/plain": [
       "<Figure size 360x360 with 2 Axes>"
      ]
     },
     "metadata": {
      "needs_background": "light"
     },
     "output_type": "display_data"
    }
   ],
   "source": [
    "import numpy as np\n",
    "import matplotlib as mpl\n",
    "import matplotlib.pyplot as plt\n",
    "import seaborn as sns\n",
    "\n",
    "def plot_cm(labels, predictions, p=0.5):\n",
    "    cm = confusion_matrix(labels, predictions)\n",
    "    plt.figure(figsize=(5, 5))\n",
    "    sns.heatmap(cm, annot=True, fmt=\"d\")\n",
    "    plt.title(\"Confusion matrix (non-normalized))\")\n",
    "    plt.ylabel(\"Actual label\")\n",
    "    plt.xlabel(\"Predicted label\")\n",
    "\n",
    "\n",
    "plot_cm(y_test, y_pred)"
   ]
  }
 ],
 "metadata": {
  "kernelspec": {
   "display_name": "Python 3",
   "language": "python",
   "name": "python3"
  },
  "language_info": {
   "codemirror_mode": {
    "name": "ipython",
    "version": 3
   },
   "file_extension": ".py",
   "mimetype": "text/x-python",
   "name": "python",
   "nbconvert_exporter": "python",
   "pygments_lexer": "ipython3",
   "version": "3.7.12"
  },
  "papermill": {
   "default_parameters": {},
   "duration": 20314.606226,
   "end_time": "2022-04-05T14:42:58.070868",
   "environment_variables": {},
   "exception": null,
   "input_path": "__notebook__.ipynb",
   "output_path": "__notebook__.ipynb",
   "parameters": {},
   "start_time": "2022-04-05T09:04:23.464642",
   "version": "2.3.3"
  },
  "widgets": {
   "application/vnd.jupyter.widget-state+json": {
    "state": {
     "0127eb5cd5344faca9bf599034d4e5ab": {
      "model_module": "@jupyter-widgets/controls",
      "model_module_version": "1.5.0",
      "model_name": "ProgressStyleModel",
      "state": {
       "_model_module": "@jupyter-widgets/controls",
       "_model_module_version": "1.5.0",
       "_model_name": "ProgressStyleModel",
       "_view_count": null,
       "_view_module": "@jupyter-widgets/base",
       "_view_module_version": "1.2.0",
       "_view_name": "StyleView",
       "bar_color": null,
       "description_width": ""
      }
     },
     "0545b70fb43748f09d1858c8d9b67fca": {
      "model_module": "@jupyter-widgets/controls",
      "model_module_version": "1.5.0",
      "model_name": "ProgressStyleModel",
      "state": {
       "_model_module": "@jupyter-widgets/controls",
       "_model_module_version": "1.5.0",
       "_model_name": "ProgressStyleModel",
       "_view_count": null,
       "_view_module": "@jupyter-widgets/base",
       "_view_module_version": "1.2.0",
       "_view_name": "StyleView",
       "bar_color": null,
       "description_width": ""
      }
     },
     "063c347c04a14a7b9f44736e17db17c7": {
      "model_module": "@jupyter-widgets/controls",
      "model_module_version": "1.5.0",
      "model_name": "ProgressStyleModel",
      "state": {
       "_model_module": "@jupyter-widgets/controls",
       "_model_module_version": "1.5.0",
       "_model_name": "ProgressStyleModel",
       "_view_count": null,
       "_view_module": "@jupyter-widgets/base",
       "_view_module_version": "1.2.0",
       "_view_name": "StyleView",
       "bar_color": null,
       "description_width": ""
      }
     },
     "09b22fdaedd047f19612baaa564f8c3e": {
      "model_module": "@jupyter-widgets/controls",
      "model_module_version": "1.5.0",
      "model_name": "FloatProgressModel",
      "state": {
       "_dom_classes": [],
       "_model_module": "@jupyter-widgets/controls",
       "_model_module_version": "1.5.0",
       "_model_name": "FloatProgressModel",
       "_view_count": null,
       "_view_module": "@jupyter-widgets/controls",
       "_view_module_version": "1.5.0",
       "_view_name": "ProgressView",
       "bar_style": "success",
       "description": "",
       "description_tooltip": null,
       "layout": "IPY_MODEL_37c5edb77d17401b9147a8b11b5dcc04",
       "max": 650.0,
       "min": 0.0,
       "orientation": "horizontal",
       "style": "IPY_MODEL_063c347c04a14a7b9f44736e17db17c7",
       "value": 650.0
      }
     },
     "0b02ee63f64449918493962e3b2e9319": {
      "model_module": "@jupyter-widgets/base",
      "model_module_version": "1.2.0",
      "model_name": "LayoutModel",
      "state": {
       "_model_module": "@jupyter-widgets/base",
       "_model_module_version": "1.2.0",
       "_model_name": "LayoutModel",
       "_view_count": null,
       "_view_module": "@jupyter-widgets/base",
       "_view_module_version": "1.2.0",
       "_view_name": "LayoutView",
       "align_content": null,
       "align_items": null,
       "align_self": null,
       "border": null,
       "bottom": null,
       "display": null,
       "flex": null,
       "flex_flow": null,
       "grid_area": null,
       "grid_auto_columns": null,
       "grid_auto_flow": null,
       "grid_auto_rows": null,
       "grid_column": null,
       "grid_gap": null,
       "grid_row": null,
       "grid_template_areas": null,
       "grid_template_columns": null,
       "grid_template_rows": null,
       "height": null,
       "justify_content": null,
       "justify_items": null,
       "left": null,
       "margin": null,
       "max_height": null,
       "max_width": null,
       "min_height": null,
       "min_width": null,
       "object_fit": null,
       "object_position": null,
       "order": null,
       "overflow": null,
       "overflow_x": null,
       "overflow_y": null,
       "padding": null,
       "right": null,
       "top": null,
       "visibility": null,
       "width": null
      }
     },
     "101f578a0e5f4ca292f5dcbd0ad2ebd3": {
      "model_module": "@jupyter-widgets/base",
      "model_module_version": "1.2.0",
      "model_name": "LayoutModel",
      "state": {
       "_model_module": "@jupyter-widgets/base",
       "_model_module_version": "1.2.0",
       "_model_name": "LayoutModel",
       "_view_count": null,
       "_view_module": "@jupyter-widgets/base",
       "_view_module_version": "1.2.0",
       "_view_name": "LayoutView",
       "align_content": null,
       "align_items": null,
       "align_self": null,
       "border": null,
       "bottom": null,
       "display": null,
       "flex": null,
       "flex_flow": null,
       "grid_area": null,
       "grid_auto_columns": null,
       "grid_auto_flow": null,
       "grid_auto_rows": null,
       "grid_column": null,
       "grid_gap": null,
       "grid_row": null,
       "grid_template_areas": null,
       "grid_template_columns": null,
       "grid_template_rows": null,
       "height": null,
       "justify_content": null,
       "justify_items": null,
       "left": null,
       "margin": null,
       "max_height": null,
       "max_width": null,
       "min_height": null,
       "min_width": null,
       "object_fit": null,
       "object_position": null,
       "order": null,
       "overflow": null,
       "overflow_x": null,
       "overflow_y": null,
       "padding": null,
       "right": null,
       "top": null,
       "visibility": null,
       "width": null
      }
     },
     "17130ab55ea1482c9bf01810d211c859": {
      "model_module": "@jupyter-widgets/base",
      "model_module_version": "1.2.0",
      "model_name": "LayoutModel",
      "state": {
       "_model_module": "@jupyter-widgets/base",
       "_model_module_version": "1.2.0",
       "_model_name": "LayoutModel",
       "_view_count": null,
       "_view_module": "@jupyter-widgets/base",
       "_view_module_version": "1.2.0",
       "_view_name": "LayoutView",
       "align_content": null,
       "align_items": null,
       "align_self": null,
       "border": null,
       "bottom": null,
       "display": null,
       "flex": null,
       "flex_flow": null,
       "grid_area": null,
       "grid_auto_columns": null,
       "grid_auto_flow": null,
       "grid_auto_rows": null,
       "grid_column": null,
       "grid_gap": null,
       "grid_row": null,
       "grid_template_areas": null,
       "grid_template_columns": null,
       "grid_template_rows": null,
       "height": null,
       "justify_content": null,
       "justify_items": null,
       "left": null,
       "margin": null,
       "max_height": null,
       "max_width": null,
       "min_height": null,
       "min_width": null,
       "object_fit": null,
       "object_position": null,
       "order": null,
       "overflow": null,
       "overflow_x": null,
       "overflow_y": null,
       "padding": null,
       "right": null,
       "top": null,
       "visibility": null,
       "width": null
      }
     },
     "1769fed363604851a2d946053321fd87": {
      "model_module": "@jupyter-widgets/controls",
      "model_module_version": "1.5.0",
      "model_name": "HTMLModel",
      "state": {
       "_dom_classes": [],
       "_model_module": "@jupyter-widgets/controls",
       "_model_module_version": "1.5.0",
       "_model_name": "HTMLModel",
       "_view_count": null,
       "_view_module": "@jupyter-widgets/controls",
       "_view_module_version": "1.5.0",
       "_view_name": "HTMLView",
       "description": "",
       "description_tooltip": null,
       "layout": "IPY_MODEL_2828a78c937e41efacabbbb836549487",
       "placeholder": "​",
       "style": "IPY_MODEL_58106930db3a4124927a8eb02247a10b",
       "value": "Downloading: 100%"
      }
     },
     "2828a78c937e41efacabbbb836549487": {
      "model_module": "@jupyter-widgets/base",
      "model_module_version": "1.2.0",
      "model_name": "LayoutModel",
      "state": {
       "_model_module": "@jupyter-widgets/base",
       "_model_module_version": "1.2.0",
       "_model_name": "LayoutModel",
       "_view_count": null,
       "_view_module": "@jupyter-widgets/base",
       "_view_module_version": "1.2.0",
       "_view_name": "LayoutView",
       "align_content": null,
       "align_items": null,
       "align_self": null,
       "border": null,
       "bottom": null,
       "display": null,
       "flex": null,
       "flex_flow": null,
       "grid_area": null,
       "grid_auto_columns": null,
       "grid_auto_flow": null,
       "grid_auto_rows": null,
       "grid_column": null,
       "grid_gap": null,
       "grid_row": null,
       "grid_template_areas": null,
       "grid_template_columns": null,
       "grid_template_rows": null,
       "height": null,
       "justify_content": null,
       "justify_items": null,
       "left": null,
       "margin": null,
       "max_height": null,
       "max_width": null,
       "min_height": null,
       "min_width": null,
       "object_fit": null,
       "object_position": null,
       "order": null,
       "overflow": null,
       "overflow_x": null,
       "overflow_y": null,
       "padding": null,
       "right": null,
       "top": null,
       "visibility": null,
       "width": null
      }
     },
     "2ed70f0c06e24a6abcbf623cf305ab1d": {
      "model_module": "@jupyter-widgets/controls",
      "model_module_version": "1.5.0",
      "model_name": "ProgressStyleModel",
      "state": {
       "_model_module": "@jupyter-widgets/controls",
       "_model_module_version": "1.5.0",
       "_model_name": "ProgressStyleModel",
       "_view_count": null,
       "_view_module": "@jupyter-widgets/base",
       "_view_module_version": "1.2.0",
       "_view_name": "StyleView",
       "bar_color": null,
       "description_width": ""
      }
     },
     "35e743d7fb434424bf8101a8144ec22d": {
      "model_module": "@jupyter-widgets/controls",
      "model_module_version": "1.5.0",
      "model_name": "DescriptionStyleModel",
      "state": {
       "_model_module": "@jupyter-widgets/controls",
       "_model_module_version": "1.5.0",
       "_model_name": "DescriptionStyleModel",
       "_view_count": null,
       "_view_module": "@jupyter-widgets/base",
       "_view_module_version": "1.2.0",
       "_view_name": "StyleView",
       "description_width": ""
      }
     },
     "37c5edb77d17401b9147a8b11b5dcc04": {
      "model_module": "@jupyter-widgets/base",
      "model_module_version": "1.2.0",
      "model_name": "LayoutModel",
      "state": {
       "_model_module": "@jupyter-widgets/base",
       "_model_module_version": "1.2.0",
       "_model_name": "LayoutModel",
       "_view_count": null,
       "_view_module": "@jupyter-widgets/base",
       "_view_module_version": "1.2.0",
       "_view_name": "LayoutView",
       "align_content": null,
       "align_items": null,
       "align_self": null,
       "border": null,
       "bottom": null,
       "display": null,
       "flex": null,
       "flex_flow": null,
       "grid_area": null,
       "grid_auto_columns": null,
       "grid_auto_flow": null,
       "grid_auto_rows": null,
       "grid_column": null,
       "grid_gap": null,
       "grid_row": null,
       "grid_template_areas": null,
       "grid_template_columns": null,
       "grid_template_rows": null,
       "height": null,
       "justify_content": null,
       "justify_items": null,
       "left": null,
       "margin": null,
       "max_height": null,
       "max_width": null,
       "min_height": null,
       "min_width": null,
       "object_fit": null,
       "object_position": null,
       "order": null,
       "overflow": null,
       "overflow_x": null,
       "overflow_y": null,
       "padding": null,
       "right": null,
       "top": null,
       "visibility": null,
       "width": null
      }
     },
     "3c6f0a9b4990480eb6c6687171559a9d": {
      "model_module": "@jupyter-widgets/controls",
      "model_module_version": "1.5.0",
      "model_name": "HBoxModel",
      "state": {
       "_dom_classes": [],
       "_model_module": "@jupyter-widgets/controls",
       "_model_module_version": "1.5.0",
       "_model_name": "HBoxModel",
       "_view_count": null,
       "_view_module": "@jupyter-widgets/controls",
       "_view_module_version": "1.5.0",
       "_view_name": "HBoxView",
       "box_style": "",
       "children": [
        "IPY_MODEL_d3eaa69dfbfb4afaafe1dff5a5f0ef0a",
        "IPY_MODEL_c5e49e0286894f9caa53be4de477464c",
        "IPY_MODEL_65288cd6233c48a485a2dfd3512e5bf3"
       ],
       "layout": "IPY_MODEL_4d8e70a96e544ba6aed02f56ed01ba1b"
      }
     },
     "3d4553bc37734a478f9e02d2220738cf": {
      "model_module": "@jupyter-widgets/base",
      "model_module_version": "1.2.0",
      "model_name": "LayoutModel",
      "state": {
       "_model_module": "@jupyter-widgets/base",
       "_model_module_version": "1.2.0",
       "_model_name": "LayoutModel",
       "_view_count": null,
       "_view_module": "@jupyter-widgets/base",
       "_view_module_version": "1.2.0",
       "_view_name": "LayoutView",
       "align_content": null,
       "align_items": null,
       "align_self": null,
       "border": null,
       "bottom": null,
       "display": null,
       "flex": null,
       "flex_flow": null,
       "grid_area": null,
       "grid_auto_columns": null,
       "grid_auto_flow": null,
       "grid_auto_rows": null,
       "grid_column": null,
       "grid_gap": null,
       "grid_row": null,
       "grid_template_areas": null,
       "grid_template_columns": null,
       "grid_template_rows": null,
       "height": null,
       "justify_content": null,
       "justify_items": null,
       "left": null,
       "margin": null,
       "max_height": null,
       "max_width": null,
       "min_height": null,
       "min_width": null,
       "object_fit": null,
       "object_position": null,
       "order": null,
       "overflow": null,
       "overflow_x": null,
       "overflow_y": null,
       "padding": null,
       "right": null,
       "top": null,
       "visibility": null,
       "width": null
      }
     },
     "3f1aa7f21b5446378ac13d954aa4de2e": {
      "model_module": "@jupyter-widgets/base",
      "model_module_version": "1.2.0",
      "model_name": "LayoutModel",
      "state": {
       "_model_module": "@jupyter-widgets/base",
       "_model_module_version": "1.2.0",
       "_model_name": "LayoutModel",
       "_view_count": null,
       "_view_module": "@jupyter-widgets/base",
       "_view_module_version": "1.2.0",
       "_view_name": "LayoutView",
       "align_content": null,
       "align_items": null,
       "align_self": null,
       "border": null,
       "bottom": null,
       "display": null,
       "flex": null,
       "flex_flow": null,
       "grid_area": null,
       "grid_auto_columns": null,
       "grid_auto_flow": null,
       "grid_auto_rows": null,
       "grid_column": null,
       "grid_gap": null,
       "grid_row": null,
       "grid_template_areas": null,
       "grid_template_columns": null,
       "grid_template_rows": null,
       "height": null,
       "justify_content": null,
       "justify_items": null,
       "left": null,
       "margin": null,
       "max_height": null,
       "max_width": null,
       "min_height": null,
       "min_width": null,
       "object_fit": null,
       "object_position": null,
       "order": null,
       "overflow": null,
       "overflow_x": null,
       "overflow_y": null,
       "padding": null,
       "right": null,
       "top": null,
       "visibility": null,
       "width": null
      }
     },
     "4004c8d07f024f1da8e94c91600bec89": {
      "model_module": "@jupyter-widgets/controls",
      "model_module_version": "1.5.0",
      "model_name": "DescriptionStyleModel",
      "state": {
       "_model_module": "@jupyter-widgets/controls",
       "_model_module_version": "1.5.0",
       "_model_name": "DescriptionStyleModel",
       "_view_count": null,
       "_view_module": "@jupyter-widgets/base",
       "_view_module_version": "1.2.0",
       "_view_name": "StyleView",
       "description_width": ""
      }
     },
     "46782869c8d94567bc6d066977d6291e": {
      "model_module": "@jupyter-widgets/controls",
      "model_module_version": "1.5.0",
      "model_name": "HTMLModel",
      "state": {
       "_dom_classes": [],
       "_model_module": "@jupyter-widgets/controls",
       "_model_module_version": "1.5.0",
       "_model_name": "HTMLModel",
       "_view_count": null,
       "_view_module": "@jupyter-widgets/controls",
       "_view_module_version": "1.5.0",
       "_view_name": "HTMLView",
       "description": "",
       "description_tooltip": null,
       "layout": "IPY_MODEL_ac1363f348e14296a2c11dbca93746c2",
       "placeholder": "​",
       "style": "IPY_MODEL_35e743d7fb434424bf8101a8144ec22d",
       "value": " 650/650 [00:00&lt;00:00, 26.0kB/s]"
      }
     },
     "4c6be7fa0133485f9eb949c69a1c012f": {
      "model_module": "@jupyter-widgets/base",
      "model_module_version": "1.2.0",
      "model_name": "LayoutModel",
      "state": {
       "_model_module": "@jupyter-widgets/base",
       "_model_module_version": "1.2.0",
       "_model_name": "LayoutModel",
       "_view_count": null,
       "_view_module": "@jupyter-widgets/base",
       "_view_module_version": "1.2.0",
       "_view_name": "LayoutView",
       "align_content": null,
       "align_items": null,
       "align_self": null,
       "border": null,
       "bottom": null,
       "display": null,
       "flex": null,
       "flex_flow": null,
       "grid_area": null,
       "grid_auto_columns": null,
       "grid_auto_flow": null,
       "grid_auto_rows": null,
       "grid_column": null,
       "grid_gap": null,
       "grid_row": null,
       "grid_template_areas": null,
       "grid_template_columns": null,
       "grid_template_rows": null,
       "height": null,
       "justify_content": null,
       "justify_items": null,
       "left": null,
       "margin": null,
       "max_height": null,
       "max_width": null,
       "min_height": null,
       "min_width": null,
       "object_fit": null,
       "object_position": null,
       "order": null,
       "overflow": null,
       "overflow_x": null,
       "overflow_y": null,
       "padding": null,
       "right": null,
       "top": null,
       "visibility": null,
       "width": null
      }
     },
     "4d8e70a96e544ba6aed02f56ed01ba1b": {
      "model_module": "@jupyter-widgets/base",
      "model_module_version": "1.2.0",
      "model_name": "LayoutModel",
      "state": {
       "_model_module": "@jupyter-widgets/base",
       "_model_module_version": "1.2.0",
       "_model_name": "LayoutModel",
       "_view_count": null,
       "_view_module": "@jupyter-widgets/base",
       "_view_module_version": "1.2.0",
       "_view_name": "LayoutView",
       "align_content": null,
       "align_items": null,
       "align_self": null,
       "border": null,
       "bottom": null,
       "display": null,
       "flex": null,
       "flex_flow": null,
       "grid_area": null,
       "grid_auto_columns": null,
       "grid_auto_flow": null,
       "grid_auto_rows": null,
       "grid_column": null,
       "grid_gap": null,
       "grid_row": null,
       "grid_template_areas": null,
       "grid_template_columns": null,
       "grid_template_rows": null,
       "height": null,
       "justify_content": null,
       "justify_items": null,
       "left": null,
       "margin": null,
       "max_height": null,
       "max_width": null,
       "min_height": null,
       "min_width": null,
       "object_fit": null,
       "object_position": null,
       "order": null,
       "overflow": null,
       "overflow_x": null,
       "overflow_y": null,
       "padding": null,
       "right": null,
       "top": null,
       "visibility": null,
       "width": null
      }
     },
     "551e07dbdf71404b8814d392cc330c39": {
      "model_module": "@jupyter-widgets/controls",
      "model_module_version": "1.5.0",
      "model_name": "DescriptionStyleModel",
      "state": {
       "_model_module": "@jupyter-widgets/controls",
       "_model_module_version": "1.5.0",
       "_model_name": "DescriptionStyleModel",
       "_view_count": null,
       "_view_module": "@jupyter-widgets/base",
       "_view_module_version": "1.2.0",
       "_view_name": "StyleView",
       "description_width": ""
      }
     },
     "577c15dfd4df4b87862445d25ac9667e": {
      "model_module": "@jupyter-widgets/controls",
      "model_module_version": "1.5.0",
      "model_name": "HTMLModel",
      "state": {
       "_dom_classes": [],
       "_model_module": "@jupyter-widgets/controls",
       "_model_module_version": "1.5.0",
       "_model_name": "HTMLModel",
       "_view_count": null,
       "_view_module": "@jupyter-widgets/controls",
       "_view_module_version": "1.5.0",
       "_view_name": "HTMLView",
       "description": "",
       "description_tooltip": null,
       "layout": "IPY_MODEL_60bb5da6e09b4228bb9180137af2b766",
       "placeholder": "​",
       "style": "IPY_MODEL_cc409371f6cd4ffca80aff3e23b34e5f",
       "value": "Downloading: 100%"
      }
     },
     "57d1075477074f04aaf5462f741dba1a": {
      "model_module": "@jupyter-widgets/base",
      "model_module_version": "1.2.0",
      "model_name": "LayoutModel",
      "state": {
       "_model_module": "@jupyter-widgets/base",
       "_model_module_version": "1.2.0",
       "_model_name": "LayoutModel",
       "_view_count": null,
       "_view_module": "@jupyter-widgets/base",
       "_view_module_version": "1.2.0",
       "_view_name": "LayoutView",
       "align_content": null,
       "align_items": null,
       "align_self": null,
       "border": null,
       "bottom": null,
       "display": null,
       "flex": null,
       "flex_flow": null,
       "grid_area": null,
       "grid_auto_columns": null,
       "grid_auto_flow": null,
       "grid_auto_rows": null,
       "grid_column": null,
       "grid_gap": null,
       "grid_row": null,
       "grid_template_areas": null,
       "grid_template_columns": null,
       "grid_template_rows": null,
       "height": null,
       "justify_content": null,
       "justify_items": null,
       "left": null,
       "margin": null,
       "max_height": null,
       "max_width": null,
       "min_height": null,
       "min_width": null,
       "object_fit": null,
       "object_position": null,
       "order": null,
       "overflow": null,
       "overflow_x": null,
       "overflow_y": null,
       "padding": null,
       "right": null,
       "top": null,
       "visibility": null,
       "width": null
      }
     },
     "58106930db3a4124927a8eb02247a10b": {
      "model_module": "@jupyter-widgets/controls",
      "model_module_version": "1.5.0",
      "model_name": "DescriptionStyleModel",
      "state": {
       "_model_module": "@jupyter-widgets/controls",
       "_model_module_version": "1.5.0",
       "_model_name": "DescriptionStyleModel",
       "_view_count": null,
       "_view_module": "@jupyter-widgets/base",
       "_view_module_version": "1.2.0",
       "_view_name": "StyleView",
       "description_width": ""
      }
     },
     "5f5cae4c8e254e2d8ae80116585252a8": {
      "model_module": "@jupyter-widgets/controls",
      "model_module_version": "1.5.0",
      "model_name": "ProgressStyleModel",
      "state": {
       "_model_module": "@jupyter-widgets/controls",
       "_model_module_version": "1.5.0",
       "_model_name": "ProgressStyleModel",
       "_view_count": null,
       "_view_module": "@jupyter-widgets/base",
       "_view_module_version": "1.2.0",
       "_view_name": "StyleView",
       "bar_color": null,
       "description_width": ""
      }
     },
     "60bb5da6e09b4228bb9180137af2b766": {
      "model_module": "@jupyter-widgets/base",
      "model_module_version": "1.2.0",
      "model_name": "LayoutModel",
      "state": {
       "_model_module": "@jupyter-widgets/base",
       "_model_module_version": "1.2.0",
       "_model_name": "LayoutModel",
       "_view_count": null,
       "_view_module": "@jupyter-widgets/base",
       "_view_module_version": "1.2.0",
       "_view_name": "LayoutView",
       "align_content": null,
       "align_items": null,
       "align_self": null,
       "border": null,
       "bottom": null,
       "display": null,
       "flex": null,
       "flex_flow": null,
       "grid_area": null,
       "grid_auto_columns": null,
       "grid_auto_flow": null,
       "grid_auto_rows": null,
       "grid_column": null,
       "grid_gap": null,
       "grid_row": null,
       "grid_template_areas": null,
       "grid_template_columns": null,
       "grid_template_rows": null,
       "height": null,
       "justify_content": null,
       "justify_items": null,
       "left": null,
       "margin": null,
       "max_height": null,
       "max_width": null,
       "min_height": null,
       "min_width": null,
       "object_fit": null,
       "object_position": null,
       "order": null,
       "overflow": null,
       "overflow_x": null,
       "overflow_y": null,
       "padding": null,
       "right": null,
       "top": null,
       "visibility": null,
       "width": null
      }
     },
     "65288cd6233c48a485a2dfd3512e5bf3": {
      "model_module": "@jupyter-widgets/controls",
      "model_module_version": "1.5.0",
      "model_name": "HTMLModel",
      "state": {
       "_dom_classes": [],
       "_model_module": "@jupyter-widgets/controls",
       "_model_module_version": "1.5.0",
       "_model_name": "HTMLModel",
       "_view_count": null,
       "_view_module": "@jupyter-widgets/controls",
       "_view_module_version": "1.5.0",
       "_view_name": "HTMLView",
       "description": "",
       "description_tooltip": null,
       "layout": "IPY_MODEL_17130ab55ea1482c9bf01810d211c859",
       "placeholder": "​",
       "style": "IPY_MODEL_9f99d14e3bc1451d90a4e3bfac333a85",
       "value": " 512M/512M [00:11&lt;00:00, 49.8MB/s]"
      }
     },
     "67ea8e4141734b32b0773445eed71139": {
      "model_module": "@jupyter-widgets/controls",
      "model_module_version": "1.5.0",
      "model_name": "HBoxModel",
      "state": {
       "_dom_classes": [],
       "_model_module": "@jupyter-widgets/controls",
       "_model_module_version": "1.5.0",
       "_model_name": "HBoxModel",
       "_view_count": null,
       "_view_module": "@jupyter-widgets/controls",
       "_view_module_version": "1.5.0",
       "_view_name": "HBoxView",
       "box_style": "",
       "children": [
        "IPY_MODEL_1769fed363604851a2d946053321fd87",
        "IPY_MODEL_72a729e955e446b7b8a6d5838a41d557",
        "IPY_MODEL_cd8e1e3a2811472a80e32997c2dd2d6a"
       ],
       "layout": "IPY_MODEL_3f1aa7f21b5446378ac13d954aa4de2e"
      }
     },
     "72a729e955e446b7b8a6d5838a41d557": {
      "model_module": "@jupyter-widgets/controls",
      "model_module_version": "1.5.0",
      "model_name": "FloatProgressModel",
      "state": {
       "_dom_classes": [],
       "_model_module": "@jupyter-widgets/controls",
       "_model_module_version": "1.5.0",
       "_model_name": "FloatProgressModel",
       "_view_count": null,
       "_view_module": "@jupyter-widgets/controls",
       "_view_module_version": "1.5.0",
       "_view_name": "ProgressView",
       "bar_style": "success",
       "description": "",
       "description_tooltip": null,
       "layout": "IPY_MODEL_d6cdb65238dc4531bb1708b64f799eae",
       "max": 134.0,
       "min": 0.0,
       "orientation": "horizontal",
       "style": "IPY_MODEL_5f5cae4c8e254e2d8ae80116585252a8",
       "value": 134.0
      }
     },
     "752b93692e42428995152702e47bc1e9": {
      "model_module": "@jupyter-widgets/controls",
      "model_module_version": "1.5.0",
      "model_name": "HBoxModel",
      "state": {
       "_dom_classes": [],
       "_model_module": "@jupyter-widgets/controls",
       "_model_module_version": "1.5.0",
       "_model_name": "HBoxModel",
       "_view_count": null,
       "_view_module": "@jupyter-widgets/controls",
       "_view_module_version": "1.5.0",
       "_view_name": "HBoxView",
       "box_style": "",
       "children": [
        "IPY_MODEL_577c15dfd4df4b87862445d25ac9667e",
        "IPY_MODEL_81d9fc1f02404e04ac7b3497b94c02c3",
        "IPY_MODEL_acfa8c949a86434fa401ca07c8063395"
       ],
       "layout": "IPY_MODEL_e879bebd02be4763a8204a92fbcd26b4"
      }
     },
     "77686d9740524cc3ad18d130725556fe": {
      "model_module": "@jupyter-widgets/controls",
      "model_module_version": "1.5.0",
      "model_name": "HTMLModel",
      "state": {
       "_dom_classes": [],
       "_model_module": "@jupyter-widgets/controls",
       "_model_module_version": "1.5.0",
       "_model_name": "HTMLModel",
       "_view_count": null,
       "_view_module": "@jupyter-widgets/controls",
       "_view_module_version": "1.5.0",
       "_view_name": "HTMLView",
       "description": "",
       "description_tooltip": null,
       "layout": "IPY_MODEL_3d4553bc37734a478f9e02d2220738cf",
       "placeholder": "​",
       "style": "IPY_MODEL_551e07dbdf71404b8814d392cc330c39",
       "value": "Downloading: 100%"
      }
     },
     "7bedc14731fe4b77acc471df29e071c1": {
      "model_module": "@jupyter-widgets/base",
      "model_module_version": "1.2.0",
      "model_name": "LayoutModel",
      "state": {
       "_model_module": "@jupyter-widgets/base",
       "_model_module_version": "1.2.0",
       "_model_name": "LayoutModel",
       "_view_count": null,
       "_view_module": "@jupyter-widgets/base",
       "_view_module_version": "1.2.0",
       "_view_name": "LayoutView",
       "align_content": null,
       "align_items": null,
       "align_self": null,
       "border": null,
       "bottom": null,
       "display": null,
       "flex": null,
       "flex_flow": null,
       "grid_area": null,
       "grid_auto_columns": null,
       "grid_auto_flow": null,
       "grid_auto_rows": null,
       "grid_column": null,
       "grid_gap": null,
       "grid_row": null,
       "grid_template_areas": null,
       "grid_template_columns": null,
       "grid_template_rows": null,
       "height": null,
       "justify_content": null,
       "justify_items": null,
       "left": null,
       "margin": null,
       "max_height": null,
       "max_width": null,
       "min_height": null,
       "min_width": null,
       "object_fit": null,
       "object_position": null,
       "order": null,
       "overflow": null,
       "overflow_x": null,
       "overflow_y": null,
       "padding": null,
       "right": null,
       "top": null,
       "visibility": null,
       "width": null
      }
     },
     "816d5379b66e4ad38ad9f0e6754ce7fb": {
      "model_module": "@jupyter-widgets/controls",
      "model_module_version": "1.5.0",
      "model_name": "DescriptionStyleModel",
      "state": {
       "_model_module": "@jupyter-widgets/controls",
       "_model_module_version": "1.5.0",
       "_model_name": "DescriptionStyleModel",
       "_view_count": null,
       "_view_module": "@jupyter-widgets/base",
       "_view_module_version": "1.2.0",
       "_view_name": "StyleView",
       "description_width": ""
      }
     },
     "81d9fc1f02404e04ac7b3497b94c02c3": {
      "model_module": "@jupyter-widgets/controls",
      "model_module_version": "1.5.0",
      "model_name": "FloatProgressModel",
      "state": {
       "_dom_classes": [],
       "_model_module": "@jupyter-widgets/controls",
       "_model_module_version": "1.5.0",
       "_model_name": "FloatProgressModel",
       "_view_count": null,
       "_view_module": "@jupyter-widgets/controls",
       "_view_module_version": "1.5.0",
       "_view_name": "ProgressView",
       "bar_style": "success",
       "description": "",
       "description_tooltip": null,
       "layout": "IPY_MODEL_d39d4647628540cda63622150c6ca451",
       "max": 247723.0,
       "min": 0.0,
       "orientation": "horizontal",
       "style": "IPY_MODEL_0127eb5cd5344faca9bf599034d4e5ab",
       "value": 247723.0
      }
     },
     "82cbfe9cf59c486cb6dd7a5383da4547": {
      "model_module": "@jupyter-widgets/base",
      "model_module_version": "1.2.0",
      "model_name": "LayoutModel",
      "state": {
       "_model_module": "@jupyter-widgets/base",
       "_model_module_version": "1.2.0",
       "_model_name": "LayoutModel",
       "_view_count": null,
       "_view_module": "@jupyter-widgets/base",
       "_view_module_version": "1.2.0",
       "_view_name": "LayoutView",
       "align_content": null,
       "align_items": null,
       "align_self": null,
       "border": null,
       "bottom": null,
       "display": null,
       "flex": null,
       "flex_flow": null,
       "grid_area": null,
       "grid_auto_columns": null,
       "grid_auto_flow": null,
       "grid_auto_rows": null,
       "grid_column": null,
       "grid_gap": null,
       "grid_row": null,
       "grid_template_areas": null,
       "grid_template_columns": null,
       "grid_template_rows": null,
       "height": null,
       "justify_content": null,
       "justify_items": null,
       "left": null,
       "margin": null,
       "max_height": null,
       "max_width": null,
       "min_height": null,
       "min_width": null,
       "object_fit": null,
       "object_position": null,
       "order": null,
       "overflow": null,
       "overflow_x": null,
       "overflow_y": null,
       "padding": null,
       "right": null,
       "top": null,
       "visibility": null,
       "width": null
      }
     },
     "84a3f05ef00448aea36b83da78a4ec56": {
      "model_module": "@jupyter-widgets/controls",
      "model_module_version": "1.5.0",
      "model_name": "DescriptionStyleModel",
      "state": {
       "_model_module": "@jupyter-widgets/controls",
       "_model_module_version": "1.5.0",
       "_model_name": "DescriptionStyleModel",
       "_view_count": null,
       "_view_module": "@jupyter-widgets/base",
       "_view_module_version": "1.2.0",
       "_view_name": "StyleView",
       "description_width": ""
      }
     },
     "8d12824236084b769f26701f82af4fce": {
      "model_module": "@jupyter-widgets/controls",
      "model_module_version": "1.5.0",
      "model_name": "HBoxModel",
      "state": {
       "_dom_classes": [],
       "_model_module": "@jupyter-widgets/controls",
       "_model_module_version": "1.5.0",
       "_model_name": "HBoxModel",
       "_view_count": null,
       "_view_module": "@jupyter-widgets/controls",
       "_view_module_version": "1.5.0",
       "_view_name": "HBoxView",
       "box_style": "",
       "children": [
        "IPY_MODEL_77686d9740524cc3ad18d130725556fe",
        "IPY_MODEL_09b22fdaedd047f19612baaa564f8c3e",
        "IPY_MODEL_46782869c8d94567bc6d066977d6291e"
       ],
       "layout": "IPY_MODEL_82cbfe9cf59c486cb6dd7a5383da4547"
      }
     },
     "8f791d89297b42db9f6f8616983fcabd": {
      "model_module": "@jupyter-widgets/base",
      "model_module_version": "1.2.0",
      "model_name": "LayoutModel",
      "state": {
       "_model_module": "@jupyter-widgets/base",
       "_model_module_version": "1.2.0",
       "_model_name": "LayoutModel",
       "_view_count": null,
       "_view_module": "@jupyter-widgets/base",
       "_view_module_version": "1.2.0",
       "_view_name": "LayoutView",
       "align_content": null,
       "align_items": null,
       "align_self": null,
       "border": null,
       "bottom": null,
       "display": null,
       "flex": null,
       "flex_flow": null,
       "grid_area": null,
       "grid_auto_columns": null,
       "grid_auto_flow": null,
       "grid_auto_rows": null,
       "grid_column": null,
       "grid_gap": null,
       "grid_row": null,
       "grid_template_areas": null,
       "grid_template_columns": null,
       "grid_template_rows": null,
       "height": null,
       "justify_content": null,
       "justify_items": null,
       "left": null,
       "margin": null,
       "max_height": null,
       "max_width": null,
       "min_height": null,
       "min_width": null,
       "object_fit": null,
       "object_position": null,
       "order": null,
       "overflow": null,
       "overflow_x": null,
       "overflow_y": null,
       "padding": null,
       "right": null,
       "top": null,
       "visibility": null,
       "width": null
      }
     },
     "90b9b32ffdad4dd0940c21743ece9500": {
      "model_module": "@jupyter-widgets/controls",
      "model_module_version": "1.5.0",
      "model_name": "DescriptionStyleModel",
      "state": {
       "_model_module": "@jupyter-widgets/controls",
       "_model_module_version": "1.5.0",
       "_model_name": "DescriptionStyleModel",
       "_view_count": null,
       "_view_module": "@jupyter-widgets/base",
       "_view_module_version": "1.2.0",
       "_view_name": "StyleView",
       "description_width": ""
      }
     },
     "937990df411c4cadb1d3b7e130c70197": {
      "model_module": "@jupyter-widgets/base",
      "model_module_version": "1.2.0",
      "model_name": "LayoutModel",
      "state": {
       "_model_module": "@jupyter-widgets/base",
       "_model_module_version": "1.2.0",
       "_model_name": "LayoutModel",
       "_view_count": null,
       "_view_module": "@jupyter-widgets/base",
       "_view_module_version": "1.2.0",
       "_view_name": "LayoutView",
       "align_content": null,
       "align_items": null,
       "align_self": null,
       "border": null,
       "bottom": null,
       "display": null,
       "flex": null,
       "flex_flow": null,
       "grid_area": null,
       "grid_auto_columns": null,
       "grid_auto_flow": null,
       "grid_auto_rows": null,
       "grid_column": null,
       "grid_gap": null,
       "grid_row": null,
       "grid_template_areas": null,
       "grid_template_columns": null,
       "grid_template_rows": null,
       "height": null,
       "justify_content": null,
       "justify_items": null,
       "left": null,
       "margin": null,
       "max_height": null,
       "max_width": null,
       "min_height": null,
       "min_width": null,
       "object_fit": null,
       "object_position": null,
       "order": null,
       "overflow": null,
       "overflow_x": null,
       "overflow_y": null,
       "padding": null,
       "right": null,
       "top": null,
       "visibility": null,
       "width": null
      }
     },
     "93f4d4ad54e74b6ca520b8122db9b098": {
      "model_module": "@jupyter-widgets/base",
      "model_module_version": "1.2.0",
      "model_name": "LayoutModel",
      "state": {
       "_model_module": "@jupyter-widgets/base",
       "_model_module_version": "1.2.0",
       "_model_name": "LayoutModel",
       "_view_count": null,
       "_view_module": "@jupyter-widgets/base",
       "_view_module_version": "1.2.0",
       "_view_name": "LayoutView",
       "align_content": null,
       "align_items": null,
       "align_self": null,
       "border": null,
       "bottom": null,
       "display": null,
       "flex": null,
       "flex_flow": null,
       "grid_area": null,
       "grid_auto_columns": null,
       "grid_auto_flow": null,
       "grid_auto_rows": null,
       "grid_column": null,
       "grid_gap": null,
       "grid_row": null,
       "grid_template_areas": null,
       "grid_template_columns": null,
       "grid_template_rows": null,
       "height": null,
       "justify_content": null,
       "justify_items": null,
       "left": null,
       "margin": null,
       "max_height": null,
       "max_width": null,
       "min_height": null,
       "min_width": null,
       "object_fit": null,
       "object_position": null,
       "order": null,
       "overflow": null,
       "overflow_x": null,
       "overflow_y": null,
       "padding": null,
       "right": null,
       "top": null,
       "visibility": null,
       "width": null
      }
     },
     "9deff7e131a84ebd8ccca1fdc9e7b354": {
      "model_module": "@jupyter-widgets/controls",
      "model_module_version": "1.5.0",
      "model_name": "HTMLModel",
      "state": {
       "_dom_classes": [],
       "_model_module": "@jupyter-widgets/controls",
       "_model_module_version": "1.5.0",
       "_model_name": "HTMLModel",
       "_view_count": null,
       "_view_module": "@jupyter-widgets/controls",
       "_view_module_version": "1.5.0",
       "_view_name": "HTMLView",
       "description": "",
       "description_tooltip": null,
       "layout": "IPY_MODEL_a8f9770d2b4b4a9a85b5d3ffa850d3ff",
       "placeholder": "​",
       "style": "IPY_MODEL_84a3f05ef00448aea36b83da78a4ec56",
       "value": " 475k/475k [00:00&lt;00:00, 911kB/s]"
      }
     },
     "9f99d14e3bc1451d90a4e3bfac333a85": {
      "model_module": "@jupyter-widgets/controls",
      "model_module_version": "1.5.0",
      "model_name": "DescriptionStyleModel",
      "state": {
       "_model_module": "@jupyter-widgets/controls",
       "_model_module_version": "1.5.0",
       "_model_name": "DescriptionStyleModel",
       "_view_count": null,
       "_view_module": "@jupyter-widgets/base",
       "_view_module_version": "1.2.0",
       "_view_name": "StyleView",
       "description_width": ""
      }
     },
     "a8f9770d2b4b4a9a85b5d3ffa850d3ff": {
      "model_module": "@jupyter-widgets/base",
      "model_module_version": "1.2.0",
      "model_name": "LayoutModel",
      "state": {
       "_model_module": "@jupyter-widgets/base",
       "_model_module_version": "1.2.0",
       "_model_name": "LayoutModel",
       "_view_count": null,
       "_view_module": "@jupyter-widgets/base",
       "_view_module_version": "1.2.0",
       "_view_name": "LayoutView",
       "align_content": null,
       "align_items": null,
       "align_self": null,
       "border": null,
       "bottom": null,
       "display": null,
       "flex": null,
       "flex_flow": null,
       "grid_area": null,
       "grid_auto_columns": null,
       "grid_auto_flow": null,
       "grid_auto_rows": null,
       "grid_column": null,
       "grid_gap": null,
       "grid_row": null,
       "grid_template_areas": null,
       "grid_template_columns": null,
       "grid_template_rows": null,
       "height": null,
       "justify_content": null,
       "justify_items": null,
       "left": null,
       "margin": null,
       "max_height": null,
       "max_width": null,
       "min_height": null,
       "min_width": null,
       "object_fit": null,
       "object_position": null,
       "order": null,
       "overflow": null,
       "overflow_x": null,
       "overflow_y": null,
       "padding": null,
       "right": null,
       "top": null,
       "visibility": null,
       "width": null
      }
     },
     "aa19bbbcf5cd416ea0a4e8a0b6528e88": {
      "model_module": "@jupyter-widgets/controls",
      "model_module_version": "1.5.0",
      "model_name": "HTMLModel",
      "state": {
       "_dom_classes": [],
       "_model_module": "@jupyter-widgets/controls",
       "_model_module_version": "1.5.0",
       "_model_name": "HTMLModel",
       "_view_count": null,
       "_view_module": "@jupyter-widgets/controls",
       "_view_module_version": "1.5.0",
       "_view_name": "HTMLView",
       "description": "",
       "description_tooltip": null,
       "layout": "IPY_MODEL_8f791d89297b42db9f6f8616983fcabd",
       "placeholder": "​",
       "style": "IPY_MODEL_816d5379b66e4ad38ad9f0e6754ce7fb",
       "value": " 310/310 [00:00&lt;00:00, 11.8kB/s]"
      }
     },
     "ac1363f348e14296a2c11dbca93746c2": {
      "model_module": "@jupyter-widgets/base",
      "model_module_version": "1.2.0",
      "model_name": "LayoutModel",
      "state": {
       "_model_module": "@jupyter-widgets/base",
       "_model_module_version": "1.2.0",
       "_model_name": "LayoutModel",
       "_view_count": null,
       "_view_module": "@jupyter-widgets/base",
       "_view_module_version": "1.2.0",
       "_view_name": "LayoutView",
       "align_content": null,
       "align_items": null,
       "align_self": null,
       "border": null,
       "bottom": null,
       "display": null,
       "flex": null,
       "flex_flow": null,
       "grid_area": null,
       "grid_auto_columns": null,
       "grid_auto_flow": null,
       "grid_auto_rows": null,
       "grid_column": null,
       "grid_gap": null,
       "grid_row": null,
       "grid_template_areas": null,
       "grid_template_columns": null,
       "grid_template_rows": null,
       "height": null,
       "justify_content": null,
       "justify_items": null,
       "left": null,
       "margin": null,
       "max_height": null,
       "max_width": null,
       "min_height": null,
       "min_width": null,
       "object_fit": null,
       "object_position": null,
       "order": null,
       "overflow": null,
       "overflow_x": null,
       "overflow_y": null,
       "padding": null,
       "right": null,
       "top": null,
       "visibility": null,
       "width": null
      }
     },
     "acfa8c949a86434fa401ca07c8063395": {
      "model_module": "@jupyter-widgets/controls",
      "model_module_version": "1.5.0",
      "model_name": "HTMLModel",
      "state": {
       "_dom_classes": [],
       "_model_module": "@jupyter-widgets/controls",
       "_model_module_version": "1.5.0",
       "_model_name": "HTMLModel",
       "_view_count": null,
       "_view_module": "@jupyter-widgets/controls",
       "_view_module_version": "1.5.0",
       "_view_name": "HTMLView",
       "description": "",
       "description_tooltip": null,
       "layout": "IPY_MODEL_57d1075477074f04aaf5462f741dba1a",
       "placeholder": "​",
       "style": "IPY_MODEL_4004c8d07f024f1da8e94c91600bec89",
       "value": " 242k/242k [00:00&lt;00:00, 787kB/s]"
      }
     },
     "bd4b99127e194591abce5e726256193e": {
      "model_module": "@jupyter-widgets/controls",
      "model_module_version": "1.5.0",
      "model_name": "FloatProgressModel",
      "state": {
       "_dom_classes": [],
       "_model_module": "@jupyter-widgets/controls",
       "_model_module_version": "1.5.0",
       "_model_name": "FloatProgressModel",
       "_view_count": null,
       "_view_module": "@jupyter-widgets/controls",
       "_view_module_version": "1.5.0",
       "_view_name": "ProgressView",
       "bar_style": "success",
       "description": "",
       "description_tooltip": null,
       "layout": "IPY_MODEL_937990df411c4cadb1d3b7e130c70197",
       "max": 310.0,
       "min": 0.0,
       "orientation": "horizontal",
       "style": "IPY_MODEL_2ed70f0c06e24a6abcbf623cf305ab1d",
       "value": 310.0
      }
     },
     "be4e19b9346a42929579ea45bf30e4c9": {
      "model_module": "@jupyter-widgets/base",
      "model_module_version": "1.2.0",
      "model_name": "LayoutModel",
      "state": {
       "_model_module": "@jupyter-widgets/base",
       "_model_module_version": "1.2.0",
       "_model_name": "LayoutModel",
       "_view_count": null,
       "_view_module": "@jupyter-widgets/base",
       "_view_module_version": "1.2.0",
       "_view_name": "LayoutView",
       "align_content": null,
       "align_items": null,
       "align_self": null,
       "border": null,
       "bottom": null,
       "display": null,
       "flex": null,
       "flex_flow": null,
       "grid_area": null,
       "grid_auto_columns": null,
       "grid_auto_flow": null,
       "grid_auto_rows": null,
       "grid_column": null,
       "grid_gap": null,
       "grid_row": null,
       "grid_template_areas": null,
       "grid_template_columns": null,
       "grid_template_rows": null,
       "height": null,
       "justify_content": null,
       "justify_items": null,
       "left": null,
       "margin": null,
       "max_height": null,
       "max_width": null,
       "min_height": null,
       "min_width": null,
       "object_fit": null,
       "object_position": null,
       "order": null,
       "overflow": null,
       "overflow_x": null,
       "overflow_y": null,
       "padding": null,
       "right": null,
       "top": null,
       "visibility": null,
       "width": null
      }
     },
     "c5e49e0286894f9caa53be4de477464c": {
      "model_module": "@jupyter-widgets/controls",
      "model_module_version": "1.5.0",
      "model_name": "FloatProgressModel",
      "state": {
       "_dom_classes": [],
       "_model_module": "@jupyter-widgets/controls",
       "_model_module_version": "1.5.0",
       "_model_name": "FloatProgressModel",
       "_view_count": null,
       "_view_module": "@jupyter-widgets/controls",
       "_view_module_version": "1.5.0",
       "_view_name": "ProgressView",
       "bar_style": "success",
       "description": "",
       "description_tooltip": null,
       "layout": "IPY_MODEL_d12e64ff72994deb9dadd6a388467575",
       "max": 536635336.0,
       "min": 0.0,
       "orientation": "horizontal",
       "style": "IPY_MODEL_0545b70fb43748f09d1858c8d9b67fca",
       "value": 536635336.0
      }
     },
     "c5e57ea460154333ab17bfce811cec50": {
      "model_module": "@jupyter-widgets/controls",
      "model_module_version": "1.5.0",
      "model_name": "DescriptionStyleModel",
      "state": {
       "_model_module": "@jupyter-widgets/controls",
       "_model_module_version": "1.5.0",
       "_model_name": "DescriptionStyleModel",
       "_view_count": null,
       "_view_module": "@jupyter-widgets/base",
       "_view_module_version": "1.2.0",
       "_view_name": "StyleView",
       "description_width": ""
      }
     },
     "cc409371f6cd4ffca80aff3e23b34e5f": {
      "model_module": "@jupyter-widgets/controls",
      "model_module_version": "1.5.0",
      "model_name": "DescriptionStyleModel",
      "state": {
       "_model_module": "@jupyter-widgets/controls",
       "_model_module_version": "1.5.0",
       "_model_name": "DescriptionStyleModel",
       "_view_count": null,
       "_view_module": "@jupyter-widgets/base",
       "_view_module_version": "1.2.0",
       "_view_name": "StyleView",
       "description_width": ""
      }
     },
     "cd8e1e3a2811472a80e32997c2dd2d6a": {
      "model_module": "@jupyter-widgets/controls",
      "model_module_version": "1.5.0",
      "model_name": "HTMLModel",
      "state": {
       "_dom_classes": [],
       "_model_module": "@jupyter-widgets/controls",
       "_model_module_version": "1.5.0",
       "_model_name": "HTMLModel",
       "_view_count": null,
       "_view_module": "@jupyter-widgets/controls",
       "_view_module_version": "1.5.0",
       "_view_name": "HTMLView",
       "description": "",
       "description_tooltip": null,
       "layout": "IPY_MODEL_7bedc14731fe4b77acc471df29e071c1",
       "placeholder": "​",
       "style": "IPY_MODEL_cdd92067348d4561bc0ce1ea36eca420",
       "value": " 134/134 [00:00&lt;00:00, 2.68kB/s]"
      }
     },
     "cdd92067348d4561bc0ce1ea36eca420": {
      "model_module": "@jupyter-widgets/controls",
      "model_module_version": "1.5.0",
      "model_name": "DescriptionStyleModel",
      "state": {
       "_model_module": "@jupyter-widgets/controls",
       "_model_module_version": "1.5.0",
       "_model_name": "DescriptionStyleModel",
       "_view_count": null,
       "_view_module": "@jupyter-widgets/base",
       "_view_module_version": "1.2.0",
       "_view_name": "StyleView",
       "description_width": ""
      }
     },
     "d12e64ff72994deb9dadd6a388467575": {
      "model_module": "@jupyter-widgets/base",
      "model_module_version": "1.2.0",
      "model_name": "LayoutModel",
      "state": {
       "_model_module": "@jupyter-widgets/base",
       "_model_module_version": "1.2.0",
       "_model_name": "LayoutModel",
       "_view_count": null,
       "_view_module": "@jupyter-widgets/base",
       "_view_module_version": "1.2.0",
       "_view_name": "LayoutView",
       "align_content": null,
       "align_items": null,
       "align_self": null,
       "border": null,
       "bottom": null,
       "display": null,
       "flex": null,
       "flex_flow": null,
       "grid_area": null,
       "grid_auto_columns": null,
       "grid_auto_flow": null,
       "grid_auto_rows": null,
       "grid_column": null,
       "grid_gap": null,
       "grid_row": null,
       "grid_template_areas": null,
       "grid_template_columns": null,
       "grid_template_rows": null,
       "height": null,
       "justify_content": null,
       "justify_items": null,
       "left": null,
       "margin": null,
       "max_height": null,
       "max_width": null,
       "min_height": null,
       "min_width": null,
       "object_fit": null,
       "object_position": null,
       "order": null,
       "overflow": null,
       "overflow_x": null,
       "overflow_y": null,
       "padding": null,
       "right": null,
       "top": null,
       "visibility": null,
       "width": null
      }
     },
     "d39d4647628540cda63622150c6ca451": {
      "model_module": "@jupyter-widgets/base",
      "model_module_version": "1.2.0",
      "model_name": "LayoutModel",
      "state": {
       "_model_module": "@jupyter-widgets/base",
       "_model_module_version": "1.2.0",
       "_model_name": "LayoutModel",
       "_view_count": null,
       "_view_module": "@jupyter-widgets/base",
       "_view_module_version": "1.2.0",
       "_view_name": "LayoutView",
       "align_content": null,
       "align_items": null,
       "align_self": null,
       "border": null,
       "bottom": null,
       "display": null,
       "flex": null,
       "flex_flow": null,
       "grid_area": null,
       "grid_auto_columns": null,
       "grid_auto_flow": null,
       "grid_auto_rows": null,
       "grid_column": null,
       "grid_gap": null,
       "grid_row": null,
       "grid_template_areas": null,
       "grid_template_columns": null,
       "grid_template_rows": null,
       "height": null,
       "justify_content": null,
       "justify_items": null,
       "left": null,
       "margin": null,
       "max_height": null,
       "max_width": null,
       "min_height": null,
       "min_width": null,
       "object_fit": null,
       "object_position": null,
       "order": null,
       "overflow": null,
       "overflow_x": null,
       "overflow_y": null,
       "padding": null,
       "right": null,
       "top": null,
       "visibility": null,
       "width": null
      }
     },
     "d3eaa69dfbfb4afaafe1dff5a5f0ef0a": {
      "model_module": "@jupyter-widgets/controls",
      "model_module_version": "1.5.0",
      "model_name": "HTMLModel",
      "state": {
       "_dom_classes": [],
       "_model_module": "@jupyter-widgets/controls",
       "_model_module_version": "1.5.0",
       "_model_name": "HTMLModel",
       "_view_count": null,
       "_view_module": "@jupyter-widgets/controls",
       "_view_module_version": "1.5.0",
       "_view_name": "HTMLView",
       "description": "",
       "description_tooltip": null,
       "layout": "IPY_MODEL_4c6be7fa0133485f9eb949c69a1c012f",
       "placeholder": "​",
       "style": "IPY_MODEL_ff69ff0951c048b882fc2509ddb846ba",
       "value": "Downloading: 100%"
      }
     },
     "d6cdb65238dc4531bb1708b64f799eae": {
      "model_module": "@jupyter-widgets/base",
      "model_module_version": "1.2.0",
      "model_name": "LayoutModel",
      "state": {
       "_model_module": "@jupyter-widgets/base",
       "_model_module_version": "1.2.0",
       "_model_name": "LayoutModel",
       "_view_count": null,
       "_view_module": "@jupyter-widgets/base",
       "_view_module_version": "1.2.0",
       "_view_name": "LayoutView",
       "align_content": null,
       "align_items": null,
       "align_self": null,
       "border": null,
       "bottom": null,
       "display": null,
       "flex": null,
       "flex_flow": null,
       "grid_area": null,
       "grid_auto_columns": null,
       "grid_auto_flow": null,
       "grid_auto_rows": null,
       "grid_column": null,
       "grid_gap": null,
       "grid_row": null,
       "grid_template_areas": null,
       "grid_template_columns": null,
       "grid_template_rows": null,
       "height": null,
       "justify_content": null,
       "justify_items": null,
       "left": null,
       "margin": null,
       "max_height": null,
       "max_width": null,
       "min_height": null,
       "min_width": null,
       "object_fit": null,
       "object_position": null,
       "order": null,
       "overflow": null,
       "overflow_x": null,
       "overflow_y": null,
       "padding": null,
       "right": null,
       "top": null,
       "visibility": null,
       "width": null
      }
     },
     "daaa2606374446d68023491557b7be79": {
      "model_module": "@jupyter-widgets/controls",
      "model_module_version": "1.5.0",
      "model_name": "ProgressStyleModel",
      "state": {
       "_model_module": "@jupyter-widgets/controls",
       "_model_module_version": "1.5.0",
       "_model_name": "ProgressStyleModel",
       "_view_count": null,
       "_view_module": "@jupyter-widgets/base",
       "_view_module_version": "1.2.0",
       "_view_name": "StyleView",
       "bar_color": null,
       "description_width": ""
      }
     },
     "df278bca74e34b449283a770bf00cee0": {
      "model_module": "@jupyter-widgets/controls",
      "model_module_version": "1.5.0",
      "model_name": "HTMLModel",
      "state": {
       "_dom_classes": [],
       "_model_module": "@jupyter-widgets/controls",
       "_model_module_version": "1.5.0",
       "_model_name": "HTMLModel",
       "_view_count": null,
       "_view_module": "@jupyter-widgets/controls",
       "_view_module_version": "1.5.0",
       "_view_name": "HTMLView",
       "description": "",
       "description_tooltip": null,
       "layout": "IPY_MODEL_be4e19b9346a42929579ea45bf30e4c9",
       "placeholder": "​",
       "style": "IPY_MODEL_90b9b32ffdad4dd0940c21743ece9500",
       "value": "Downloading: 100%"
      }
     },
     "e879bebd02be4763a8204a92fbcd26b4": {
      "model_module": "@jupyter-widgets/base",
      "model_module_version": "1.2.0",
      "model_name": "LayoutModel",
      "state": {
       "_model_module": "@jupyter-widgets/base",
       "_model_module_version": "1.2.0",
       "_model_name": "LayoutModel",
       "_view_count": null,
       "_view_module": "@jupyter-widgets/base",
       "_view_module_version": "1.2.0",
       "_view_name": "LayoutView",
       "align_content": null,
       "align_items": null,
       "align_self": null,
       "border": null,
       "bottom": null,
       "display": null,
       "flex": null,
       "flex_flow": null,
       "grid_area": null,
       "grid_auto_columns": null,
       "grid_auto_flow": null,
       "grid_auto_rows": null,
       "grid_column": null,
       "grid_gap": null,
       "grid_row": null,
       "grid_template_areas": null,
       "grid_template_columns": null,
       "grid_template_rows": null,
       "height": null,
       "justify_content": null,
       "justify_items": null,
       "left": null,
       "margin": null,
       "max_height": null,
       "max_width": null,
       "min_height": null,
       "min_width": null,
       "object_fit": null,
       "object_position": null,
       "order": null,
       "overflow": null,
       "overflow_x": null,
       "overflow_y": null,
       "padding": null,
       "right": null,
       "top": null,
       "visibility": null,
       "width": null
      }
     },
     "e98910ec926e45b3855353e437cc9ddf": {
      "model_module": "@jupyter-widgets/controls",
      "model_module_version": "1.5.0",
      "model_name": "HBoxModel",
      "state": {
       "_dom_classes": [],
       "_model_module": "@jupyter-widgets/controls",
       "_model_module_version": "1.5.0",
       "_model_name": "HBoxModel",
       "_view_count": null,
       "_view_module": "@jupyter-widgets/controls",
       "_view_module_version": "1.5.0",
       "_view_name": "HBoxView",
       "box_style": "",
       "children": [
        "IPY_MODEL_df278bca74e34b449283a770bf00cee0",
        "IPY_MODEL_bd4b99127e194591abce5e726256193e",
        "IPY_MODEL_aa19bbbcf5cd416ea0a4e8a0b6528e88"
       ],
       "layout": "IPY_MODEL_eb355c880ef841f3862f49812d0d52e4"
      }
     },
     "ead2a4c2ff1d4783aa2c9d31270d1be1": {
      "model_module": "@jupyter-widgets/controls",
      "model_module_version": "1.5.0",
      "model_name": "FloatProgressModel",
      "state": {
       "_dom_classes": [],
       "_model_module": "@jupyter-widgets/controls",
       "_model_module_version": "1.5.0",
       "_model_name": "FloatProgressModel",
       "_view_count": null,
       "_view_module": "@jupyter-widgets/controls",
       "_view_module_version": "1.5.0",
       "_view_name": "ProgressView",
       "bar_style": "success",
       "description": "",
       "description_tooltip": null,
       "layout": "IPY_MODEL_93f4d4ad54e74b6ca520b8122db9b098",
       "max": 486125.0,
       "min": 0.0,
       "orientation": "horizontal",
       "style": "IPY_MODEL_daaa2606374446d68023491557b7be79",
       "value": 486125.0
      }
     },
     "eb355c880ef841f3862f49812d0d52e4": {
      "model_module": "@jupyter-widgets/base",
      "model_module_version": "1.2.0",
      "model_name": "LayoutModel",
      "state": {
       "_model_module": "@jupyter-widgets/base",
       "_model_module_version": "1.2.0",
       "_model_name": "LayoutModel",
       "_view_count": null,
       "_view_module": "@jupyter-widgets/base",
       "_view_module_version": "1.2.0",
       "_view_name": "LayoutView",
       "align_content": null,
       "align_items": null,
       "align_self": null,
       "border": null,
       "bottom": null,
       "display": null,
       "flex": null,
       "flex_flow": null,
       "grid_area": null,
       "grid_auto_columns": null,
       "grid_auto_flow": null,
       "grid_auto_rows": null,
       "grid_column": null,
       "grid_gap": null,
       "grid_row": null,
       "grid_template_areas": null,
       "grid_template_columns": null,
       "grid_template_rows": null,
       "height": null,
       "justify_content": null,
       "justify_items": null,
       "left": null,
       "margin": null,
       "max_height": null,
       "max_width": null,
       "min_height": null,
       "min_width": null,
       "object_fit": null,
       "object_position": null,
       "order": null,
       "overflow": null,
       "overflow_x": null,
       "overflow_y": null,
       "padding": null,
       "right": null,
       "top": null,
       "visibility": null,
       "width": null
      }
     },
     "f25d085b9d2d47ffadda07c0cb12476e": {
      "model_module": "@jupyter-widgets/controls",
      "model_module_version": "1.5.0",
      "model_name": "HTMLModel",
      "state": {
       "_dom_classes": [],
       "_model_module": "@jupyter-widgets/controls",
       "_model_module_version": "1.5.0",
       "_model_name": "HTMLModel",
       "_view_count": null,
       "_view_module": "@jupyter-widgets/controls",
       "_view_module_version": "1.5.0",
       "_view_name": "HTMLView",
       "description": "",
       "description_tooltip": null,
       "layout": "IPY_MODEL_101f578a0e5f4ca292f5dcbd0ad2ebd3",
       "placeholder": "​",
       "style": "IPY_MODEL_c5e57ea460154333ab17bfce811cec50",
       "value": "Downloading: 100%"
      }
     },
     "f744659d0ef34e77b091fd4ace6a9829": {
      "model_module": "@jupyter-widgets/controls",
      "model_module_version": "1.5.0",
      "model_name": "HBoxModel",
      "state": {
       "_dom_classes": [],
       "_model_module": "@jupyter-widgets/controls",
       "_model_module_version": "1.5.0",
       "_model_name": "HBoxModel",
       "_view_count": null,
       "_view_module": "@jupyter-widgets/controls",
       "_view_module_version": "1.5.0",
       "_view_name": "HBoxView",
       "box_style": "",
       "children": [
        "IPY_MODEL_f25d085b9d2d47ffadda07c0cb12476e",
        "IPY_MODEL_ead2a4c2ff1d4783aa2c9d31270d1be1",
        "IPY_MODEL_9deff7e131a84ebd8ccca1fdc9e7b354"
       ],
       "layout": "IPY_MODEL_0b02ee63f64449918493962e3b2e9319"
      }
     },
     "ff69ff0951c048b882fc2509ddb846ba": {
      "model_module": "@jupyter-widgets/controls",
      "model_module_version": "1.5.0",
      "model_name": "DescriptionStyleModel",
      "state": {
       "_model_module": "@jupyter-widgets/controls",
       "_model_module_version": "1.5.0",
       "_model_name": "DescriptionStyleModel",
       "_view_count": null,
       "_view_module": "@jupyter-widgets/base",
       "_view_module_version": "1.2.0",
       "_view_name": "StyleView",
       "description_width": ""
      }
     }
    },
    "version_major": 2,
    "version_minor": 0
   }
  }
 },
 "nbformat": 4,
 "nbformat_minor": 5
}
