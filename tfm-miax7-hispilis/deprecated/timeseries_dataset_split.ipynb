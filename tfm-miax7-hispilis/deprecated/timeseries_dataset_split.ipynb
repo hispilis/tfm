{
  "cells": [
    {
      "cell_type": "code",
      "execution_count": 2,
      "metadata": {
        "colab": {
          "base_uri": "https://localhost:8080/"
        },
        "id": "H-8y7mOKfkh9",
        "outputId": "78e7b062-daf6-4dd3-bd38-e07e9f0da815"
      },
      "outputs": [
        {
          "name": "stdout",
          "output_type": "stream",
          "text": [
            "Requirement already satisfied: fsspec in c:\\users\\tienda\\desktop\\masteria\\tfm\\tfm-miax7\\myenv\\lib\\site-packages (2022.2.0)\n"
          ]
        }
      ],
      "source": [
        "!pip install fsspec"
      ]
    },
    {
      "cell_type": "code",
      "execution_count": 3,
      "metadata": {
        "colab": {
          "base_uri": "https://localhost:8080/"
        },
        "id": "I0XjHch1fkaV",
        "outputId": "4e4ae9bb-dcc1-4cdd-9b3b-34acdd991672"
      },
      "outputs": [
        {
          "name": "stdout",
          "output_type": "stream",
          "text": [
            "Requirement already satisfied: gcsfs in c:\\users\\tienda\\desktop\\masteria\\tfm\\tfm-miax7\\myenv\\lib\\site-packages (2022.2.0)\n",
            "Requirement already satisfied: aiohttp<4 in c:\\users\\tienda\\desktop\\masteria\\tfm\\tfm-miax7\\myenv\\lib\\site-packages (from gcsfs) (3.8.1)\n",
            "Requirement already satisfied: requests in c:\\users\\tienda\\desktop\\masteria\\tfm\\tfm-miax7\\myenv\\lib\\site-packages (from gcsfs) (2.26.0)\n",
            "Requirement already satisfied: google-auth>=1.2 in c:\\users\\tienda\\desktop\\masteria\\tfm\\tfm-miax7\\myenv\\lib\\site-packages (from gcsfs) (2.6.0)\n",
            "Requirement already satisfied: google-cloud-storage in c:\\users\\tienda\\desktop\\masteria\\tfm\\tfm-miax7\\myenv\\lib\\site-packages (from gcsfs) (2.2.0)\n",
            "Requirement already satisfied: google-auth-oauthlib in c:\\users\\tienda\\desktop\\masteria\\tfm\\tfm-miax7\\myenv\\lib\\site-packages (from gcsfs) (0.4.6)\n",
            "Requirement already satisfied: decorator>4.1.2 in c:\\users\\tienda\\desktop\\masteria\\tfm\\tfm-miax7\\myenv\\lib\\site-packages (from gcsfs) (5.1.0)\n",
            "Requirement already satisfied: fsspec==2022.02.0 in c:\\users\\tienda\\desktop\\masteria\\tfm\\tfm-miax7\\myenv\\lib\\site-packages (from gcsfs) (2022.2.0)\n",
            "Requirement already satisfied: aiosignal>=1.1.2 in c:\\users\\tienda\\desktop\\masteria\\tfm\\tfm-miax7\\myenv\\lib\\site-packages (from aiohttp<4->gcsfs) (1.2.0)\n",
            "Requirement already satisfied: charset-normalizer<3.0,>=2.0 in c:\\users\\tienda\\desktop\\masteria\\tfm\\tfm-miax7\\myenv\\lib\\site-packages (from aiohttp<4->gcsfs) (2.0.8)\n",
            "Requirement already satisfied: frozenlist>=1.1.1 in c:\\users\\tienda\\desktop\\masteria\\tfm\\tfm-miax7\\myenv\\lib\\site-packages (from aiohttp<4->gcsfs) (1.3.0)\n",
            "Requirement already satisfied: multidict<7.0,>=4.5 in c:\\users\\tienda\\desktop\\masteria\\tfm\\tfm-miax7\\myenv\\lib\\site-packages (from aiohttp<4->gcsfs) (6.0.2)\n",
            "Requirement already satisfied: async-timeout<5.0,>=4.0.0a3 in c:\\users\\tienda\\desktop\\masteria\\tfm\\tfm-miax7\\myenv\\lib\\site-packages (from aiohttp<4->gcsfs) (4.0.2)\n",
            "Requirement already satisfied: yarl<2.0,>=1.0 in c:\\users\\tienda\\desktop\\masteria\\tfm\\tfm-miax7\\myenv\\lib\\site-packages (from aiohttp<4->gcsfs) (1.7.2)\n",
            "Requirement already satisfied: attrs>=17.3.0 in c:\\users\\tienda\\desktop\\masteria\\tfm\\tfm-miax7\\myenv\\lib\\site-packages (from aiohttp<4->gcsfs) (21.2.0)\n",
            "Requirement already satisfied: pyasn1-modules>=0.2.1 in c:\\users\\tienda\\desktop\\masteria\\tfm\\tfm-miax7\\myenv\\lib\\site-packages (from google-auth>=1.2->gcsfs) (0.2.8)\n",
            "Requirement already satisfied: cachetools<6.0,>=2.0.0 in c:\\users\\tienda\\desktop\\masteria\\tfm\\tfm-miax7\\myenv\\lib\\site-packages (from google-auth>=1.2->gcsfs) (5.0.0)\n",
            "Requirement already satisfied: six>=1.9.0 in c:\\users\\tienda\\desktop\\masteria\\tfm\\tfm-miax7\\myenv\\lib\\site-packages (from google-auth>=1.2->gcsfs) (1.16.0)\n",
            "Requirement already satisfied: rsa<5,>=3.1.4 in c:\\users\\tienda\\desktop\\masteria\\tfm\\tfm-miax7\\myenv\\lib\\site-packages (from google-auth>=1.2->gcsfs) (4.8)\n",
            "Requirement already satisfied: requests-oauthlib>=0.7.0 in c:\\users\\tienda\\desktop\\masteria\\tfm\\tfm-miax7\\myenv\\lib\\site-packages (from google-auth-oauthlib->gcsfs) (1.3.1)\n",
            "Requirement already satisfied: protobuf in c:\\users\\tienda\\desktop\\masteria\\tfm\\tfm-miax7\\myenv\\lib\\site-packages (from google-cloud-storage->gcsfs) (3.19.4)\n",
            "Requirement already satisfied: google-api-core!=2.0.*,!=2.1.*,!=2.2.*,!=2.3.0,<3.0.0dev,>=1.31.5 in c:\\users\\tienda\\desktop\\masteria\\tfm\\tfm-miax7\\myenv\\lib\\site-packages (from google-cloud-storage->gcsfs) (2.7.1)\n",
            "Requirement already satisfied: google-cloud-core<3.0dev,>=1.6.0 in c:\\users\\tienda\\desktop\\masteria\\tfm\\tfm-miax7\\myenv\\lib\\site-packages (from google-cloud-storage->gcsfs) (2.2.3)\n",
            "Requirement already satisfied: google-resumable-media>=2.3.2 in c:\\users\\tienda\\desktop\\masteria\\tfm\\tfm-miax7\\myenv\\lib\\site-packages (from google-cloud-storage->gcsfs) (2.3.2)\n",
            "Requirement already satisfied: urllib3<1.27,>=1.21.1 in c:\\users\\tienda\\desktop\\masteria\\tfm\\tfm-miax7\\myenv\\lib\\site-packages (from requests->gcsfs) (1.26.7)\n",
            "Requirement already satisfied: certifi>=2017.4.17 in c:\\users\\tienda\\desktop\\masteria\\tfm\\tfm-miax7\\myenv\\lib\\site-packages (from requests->gcsfs) (2021.10.8)\n",
            "Requirement already satisfied: idna<4,>=2.5 in c:\\users\\tienda\\desktop\\masteria\\tfm\\tfm-miax7\\myenv\\lib\\site-packages (from requests->gcsfs) (3.3)\n",
            "Requirement already satisfied: googleapis-common-protos<2.0dev,>=1.52.0 in c:\\users\\tienda\\desktop\\masteria\\tfm\\tfm-miax7\\myenv\\lib\\site-packages (from google-api-core!=2.0.*,!=2.1.*,!=2.2.*,!=2.3.0,<3.0.0dev,>=1.31.5->google-cloud-storage->gcsfs) (1.55.0)\n",
            "Requirement already satisfied: google-crc32c<2.0dev,>=1.0 in c:\\users\\tienda\\desktop\\masteria\\tfm\\tfm-miax7\\myenv\\lib\\site-packages (from google-resumable-media>=2.3.2->google-cloud-storage->gcsfs) (1.3.0)\n",
            "Requirement already satisfied: pyasn1<0.5.0,>=0.4.6 in c:\\users\\tienda\\desktop\\masteria\\tfm\\tfm-miax7\\myenv\\lib\\site-packages (from pyasn1-modules>=0.2.1->google-auth>=1.2->gcsfs) (0.4.8)\n",
            "Requirement already satisfied: oauthlib>=3.0.0 in c:\\users\\tienda\\desktop\\masteria\\tfm\\tfm-miax7\\myenv\\lib\\site-packages (from requests-oauthlib>=0.7.0->google-auth-oauthlib->gcsfs) (3.2.0)\n"
          ]
        }
      ],
      "source": [
        "!pip install gcsfs"
      ]
    },
    {
      "cell_type": "code",
      "execution_count": 4,
      "metadata": {
        "id": "ny9UP_BtfLSB"
      },
      "outputs": [],
      "source": [
        "import numpy as np\n",
        "import pandas as pd\n",
        "import matplotlib.pyplot as plt\n",
        "import seaborn as sns"
      ]
    },
    {
      "cell_type": "code",
      "execution_count": 5,
      "metadata": {
        "id": "Jmlnvf-VfLSK"
      },
      "outputs": [],
      "source": [
        "RUTA_BASE = 'https://storage.googleapis.com/tfm_aideas_datasets'\n",
        "file_path_news = f\"{RUTA_BASE}/dataset_2021_news.csv\"\n",
        "file_path_paragraph = f\"{RUTA_BASE}/dataset_2021_paragraph.csv\""
      ]
    },
    {
      "cell_type": "code",
      "execution_count": 6,
      "metadata": {
        "colab": {
          "base_uri": "https://localhost:8080/",
          "height": 1000
        },
        "id": "V1W85Jq3fLSM",
        "outputId": "1abc18e3-52e9-4fed-d739-888cec39787c"
      },
      "outputs": [
        {
          "data": {
            "text/html": [
              "<div>\n",
              "<style scoped>\n",
              "    .dataframe tbody tr th:only-of-type {\n",
              "        vertical-align: middle;\n",
              "    }\n",
              "\n",
              "    .dataframe tbody tr th {\n",
              "        vertical-align: top;\n",
              "    }\n",
              "\n",
              "    .dataframe thead th {\n",
              "        text-align: right;\n",
              "    }\n",
              "</style>\n",
              "<table border=\"1\" class=\"dataframe\">\n",
              "  <thead>\n",
              "    <tr style=\"text-align: right;\">\n",
              "      <th></th>\n",
              "      <th>date</th>\n",
              "      <th>title</th>\n",
              "      <th>url</th>\n",
              "      <th>body</th>\n",
              "      <th>tags</th>\n",
              "      <th>resource</th>\n",
              "      <th>ticker</th>\n",
              "      <th>ticker_name</th>\n",
              "      <th>sector</th>\n",
              "      <th>subsector</th>\n",
              "      <th>...</th>\n",
              "      <th>alpha_exante_above_Q3</th>\n",
              "      <th>vola20_exante</th>\n",
              "      <th>vola20_expost</th>\n",
              "      <th>vola20_antepost_pct_change</th>\n",
              "      <th>vola20_umbral_Q1</th>\n",
              "      <th>vola20_umbral_abs_Q1</th>\n",
              "      <th>vola20_umbral_Q3</th>\n",
              "      <th>vola20_umbral_abs_Q3</th>\n",
              "      <th>vola_label</th>\n",
              "      <th>vola_label_abs</th>\n",
              "    </tr>\n",
              "    <tr>\n",
              "      <th>pk</th>\n",
              "      <th></th>\n",
              "      <th></th>\n",
              "      <th></th>\n",
              "      <th></th>\n",
              "      <th></th>\n",
              "      <th></th>\n",
              "      <th></th>\n",
              "      <th></th>\n",
              "      <th></th>\n",
              "      <th></th>\n",
              "      <th></th>\n",
              "      <th></th>\n",
              "      <th></th>\n",
              "      <th></th>\n",
              "      <th></th>\n",
              "      <th></th>\n",
              "      <th></th>\n",
              "      <th></th>\n",
              "      <th></th>\n",
              "      <th></th>\n",
              "      <th></th>\n",
              "    </tr>\n",
              "  </thead>\n",
              "  <tbody>\n",
              "    <tr>\n",
              "      <th>1656287707697_43316_IAG</th>\n",
              "      <td>2020-12-31 23:30:00</td>\n",
              "      <td>Pasaportes, visados, ‘roaming’... Todos los ca...</td>\n",
              "      <td>https://elpais.com/internacional/2020-12-31/pa...</td>\n",
              "      <td>¿DNI o pasaporte? ¿Hay que pedir visado? ¿Sirv...</td>\n",
              "      <td>['Brexit', 'Reino Unido', 'Europa', 'Comercio'...</td>\n",
              "      <td>ELPAIS</td>\n",
              "      <td>IAG</td>\n",
              "      <td>INTERNATIONAL CONSOLIDAT. AIRLINES GROUP</td>\n",
              "      <td>Servicios de Consumo</td>\n",
              "      <td>Transporte y Distribución</td>\n",
              "      <td>...</td>\n",
              "      <td>False</td>\n",
              "      <td>0.595548</td>\n",
              "      <td>0.646779</td>\n",
              "      <td>0.086025</td>\n",
              "      <td>0.053808</td>\n",
              "      <td>0.114337</td>\n",
              "      <td>0.305009</td>\n",
              "      <td>0.417972</td>\n",
              "      <td>0.0</td>\n",
              "      <td>0.0</td>\n",
              "    </tr>\n",
              "    <tr>\n",
              "      <th>1656287513236_43316_ANA</th>\n",
              "      <td>2021-01-01 02:06:52</td>\n",
              "      <td>Las claves de la caída del Ibex</td>\n",
              "      <td>https://www.abc.es/economia/abci-claves-caida-...</td>\n",
              "      <td>24 componentes en negativo&lt;EOL&gt;El Ibex cierra ...</td>\n",
              "      <td>['Apple', 'Gamesa', 'Amazon', 'Iberia', 'Accio...</td>\n",
              "      <td>ABC</td>\n",
              "      <td>ANA</td>\n",
              "      <td>ACCIONA,S.A.</td>\n",
              "      <td>Mat.Basicos, Industria y Construcción</td>\n",
              "      <td>Construcción</td>\n",
              "      <td>...</td>\n",
              "      <td>False</td>\n",
              "      <td>0.330038</td>\n",
              "      <td>0.410053</td>\n",
              "      <td>0.242440</td>\n",
              "      <td>-0.011209</td>\n",
              "      <td>0.103677</td>\n",
              "      <td>0.208834</td>\n",
              "      <td>0.225065</td>\n",
              "      <td>1.0</td>\n",
              "      <td>1.0</td>\n",
              "    </tr>\n",
              "    <tr>\n",
              "      <th>1656287513236_43316_BKIA</th>\n",
              "      <td>2021-01-01 02:06:52</td>\n",
              "      <td>Las claves de la caída del Ibex</td>\n",
              "      <td>https://www.abc.es/economia/abci-claves-caida-...</td>\n",
              "      <td>24 componentes en negativo&lt;EOL&gt;El Ibex cierra ...</td>\n",
              "      <td>['Apple', 'Gamesa', 'Amazon', 'Iberia', 'Accio...</td>\n",
              "      <td>ABC</td>\n",
              "      <td>BKIA</td>\n",
              "      <td>BANKIA, S.A.</td>\n",
              "      <td>Servicios Financieros</td>\n",
              "      <td>Bancos y Cajas de Ahorro</td>\n",
              "      <td>...</td>\n",
              "      <td>False</td>\n",
              "      <td>0.261637</td>\n",
              "      <td>0.452613</td>\n",
              "      <td>0.729930</td>\n",
              "      <td>0.057276</td>\n",
              "      <td>0.103478</td>\n",
              "      <td>0.236113</td>\n",
              "      <td>0.315340</td>\n",
              "      <td>1.0</td>\n",
              "      <td>1.0</td>\n",
              "    </tr>\n",
              "    <tr>\n",
              "      <th>1656287513236_43316_CABK</th>\n",
              "      <td>2021-01-01 02:06:52</td>\n",
              "      <td>Las claves de la caída del Ibex</td>\n",
              "      <td>https://www.abc.es/economia/abci-claves-caida-...</td>\n",
              "      <td>24 componentes en negativo&lt;EOL&gt;El Ibex cierra ...</td>\n",
              "      <td>['Apple', 'Gamesa', 'Amazon', 'Iberia', 'Accio...</td>\n",
              "      <td>ABC</td>\n",
              "      <td>CABK</td>\n",
              "      <td>CAIXABANK, S.A.</td>\n",
              "      <td>Servicios Financieros</td>\n",
              "      <td>Bancos y Cajas de Ahorro</td>\n",
              "      <td>...</td>\n",
              "      <td>False</td>\n",
              "      <td>0.269002</td>\n",
              "      <td>0.451665</td>\n",
              "      <td>0.679042</td>\n",
              "      <td>0.092034</td>\n",
              "      <td>0.139145</td>\n",
              "      <td>0.290371</td>\n",
              "      <td>0.324701</td>\n",
              "      <td>1.0</td>\n",
              "      <td>1.0</td>\n",
              "    </tr>\n",
              "    <tr>\n",
              "      <th>1656287513236_43316_IAG</th>\n",
              "      <td>2021-01-01 02:06:52</td>\n",
              "      <td>Las claves de la caída del Ibex</td>\n",
              "      <td>https://www.abc.es/economia/abci-claves-caida-...</td>\n",
              "      <td>24 componentes en negativo&lt;EOL&gt;El Ibex cierra ...</td>\n",
              "      <td>['Apple', 'Gamesa', 'Amazon', 'Iberia', 'Accio...</td>\n",
              "      <td>ABC</td>\n",
              "      <td>IAG</td>\n",
              "      <td>INTERNATIONAL CONSOLIDAT. AIRLINES GROUP</td>\n",
              "      <td>Servicios de Consumo</td>\n",
              "      <td>Transporte y Distribución</td>\n",
              "      <td>...</td>\n",
              "      <td>False</td>\n",
              "      <td>0.595548</td>\n",
              "      <td>0.646779</td>\n",
              "      <td>0.086025</td>\n",
              "      <td>0.053808</td>\n",
              "      <td>0.114337</td>\n",
              "      <td>0.305009</td>\n",
              "      <td>0.417972</td>\n",
              "      <td>0.0</td>\n",
              "      <td>0.0</td>\n",
              "    </tr>\n",
              "    <tr>\n",
              "      <th>...</th>\n",
              "      <td>...</td>\n",
              "      <td>...</td>\n",
              "      <td>...</td>\n",
              "      <td>...</td>\n",
              "      <td>...</td>\n",
              "      <td>...</td>\n",
              "      <td>...</td>\n",
              "      <td>...</td>\n",
              "      <td>...</td>\n",
              "      <td>...</td>\n",
              "      <td>...</td>\n",
              "      <td>...</td>\n",
              "      <td>...</td>\n",
              "      <td>...</td>\n",
              "      <td>...</td>\n",
              "      <td>...</td>\n",
              "      <td>...</td>\n",
              "      <td>...</td>\n",
              "      <td>...</td>\n",
              "      <td>...</td>\n",
              "      <td>...</td>\n",
              "    </tr>\n",
              "    <tr>\n",
              "      <th>1656406861597_6_REP</th>\n",
              "      <td>2022-01-01 21:55:00</td>\n",
              "      <td>De la Torre sitúa a Málaga en uno de sus mejor...</td>\n",
              "      <td>https://www.europapress.es/andalucia/malaga-00...</td>\n",
              "      <td>MÁLAGA, 31 Dic. (EUROPA PRESS) -&lt;EOL&gt;El alcald...</td>\n",
              "      <td>['Francisco de la Torre']</td>\n",
              "      <td>EUROPAPRESS</td>\n",
              "      <td>REP</td>\n",
              "      <td>REPSOL, S.A.</td>\n",
              "      <td>Petróleo y Energía</td>\n",
              "      <td>Petróleo</td>\n",
              "      <td>...</td>\n",
              "      <td>False</td>\n",
              "      <td>0.223100</td>\n",
              "      <td>0.283767</td>\n",
              "      <td>0.271928</td>\n",
              "      <td>-0.357201</td>\n",
              "      <td>0.272479</td>\n",
              "      <td>-0.270908</td>\n",
              "      <td>0.357201</td>\n",
              "      <td>1.0</td>\n",
              "      <td>0.0</td>\n",
              "    </tr>\n",
              "    <tr>\n",
              "      <th>1656406861597_6_TEF</th>\n",
              "      <td>2022-01-01 21:55:00</td>\n",
              "      <td>De la Torre sitúa a Málaga en uno de sus mejor...</td>\n",
              "      <td>https://www.europapress.es/andalucia/malaga-00...</td>\n",
              "      <td>MÁLAGA, 31 Dic. (EUROPA PRESS) -&lt;EOL&gt;El alcald...</td>\n",
              "      <td>['Francisco de la Torre']</td>\n",
              "      <td>EUROPAPRESS</td>\n",
              "      <td>TEF</td>\n",
              "      <td>TELEFONICA, S.A.</td>\n",
              "      <td>Tecnología y Telecomunicaciones</td>\n",
              "      <td>Telecomunicaciones y Otros</td>\n",
              "      <td>...</td>\n",
              "      <td>False</td>\n",
              "      <td>0.260783</td>\n",
              "      <td>0.163380</td>\n",
              "      <td>-0.373501</td>\n",
              "      <td>-0.477420</td>\n",
              "      <td>0.399914</td>\n",
              "      <td>-0.399914</td>\n",
              "      <td>0.477420</td>\n",
              "      <td>1.0</td>\n",
              "      <td>0.0</td>\n",
              "    </tr>\n",
              "    <tr>\n",
              "      <th>1656407079517_9_CABK</th>\n",
              "      <td>2022-01-03 10:08:00</td>\n",
              "      <td>CaixaBank Banca Privada recomienda a gran part...</td>\n",
              "      <td>https://www.europapress.es/economia/finanzas-0...</td>\n",
              "      <td>MADRID, 28 Dic. (EUROPA PRESS) -&lt;EOL&gt;CaixaBank...</td>\n",
              "      <td>['Sector financiero', 'Caixabank']</td>\n",
              "      <td>EUROPAPRESS</td>\n",
              "      <td>CABK</td>\n",
              "      <td>CAIXABANK, S.A.</td>\n",
              "      <td>Servicios Financieros</td>\n",
              "      <td>Bancos y Cajas de Ahorro</td>\n",
              "      <td>...</td>\n",
              "      <td>False</td>\n",
              "      <td>0.214666</td>\n",
              "      <td>0.306254</td>\n",
              "      <td>0.426654</td>\n",
              "      <td>-0.089311</td>\n",
              "      <td>0.053781</td>\n",
              "      <td>0.059615</td>\n",
              "      <td>0.251531</td>\n",
              "      <td>1.0</td>\n",
              "      <td>1.0</td>\n",
              "    </tr>\n",
              "    <tr>\n",
              "      <th>1656402235399_9_ANA</th>\n",
              "      <td>2022-01-20 19:21:00</td>\n",
              "      <td>El modelo energético de Madrid Nuevo Norte, el...</td>\n",
              "      <td>https://www.europapress.es/madrid/distritocast...</td>\n",
              "      <td>MADRID, 1 Dic. (EUROPA PRESS) -&lt;EOL&gt;El modelo ...</td>\n",
              "      <td>['Comisión Europea', 'Acciona', 'Distrito Cast...</td>\n",
              "      <td>EUROPAPRESS</td>\n",
              "      <td>ANA</td>\n",
              "      <td>ACCIONA,S.A.</td>\n",
              "      <td>Mat.Basicos, Industria y Construcción</td>\n",
              "      <td>Construcción</td>\n",
              "      <td>...</td>\n",
              "      <td>True</td>\n",
              "      <td>0.222990</td>\n",
              "      <td>0.319711</td>\n",
              "      <td>0.433742</td>\n",
              "      <td>0.135152</td>\n",
              "      <td>0.144790</td>\n",
              "      <td>0.352219</td>\n",
              "      <td>0.352219</td>\n",
              "      <td>1.0</td>\n",
              "      <td>1.0</td>\n",
              "    </tr>\n",
              "    <tr>\n",
              "      <th>1656404116271_9_CABK</th>\n",
              "      <td>2022-03-11 17:25:00</td>\n",
              "      <td>La Fundación La Caixa une a más de 100 voces a...</td>\n",
              "      <td>https://www.europapress.es/catalunya/noticia-f...</td>\n",
              "      <td>La acción se desarrolla en espacios emblemátic...</td>\n",
              "      <td>['La Caixa']</td>\n",
              "      <td>EUROPAPRESS</td>\n",
              "      <td>CABK</td>\n",
              "      <td>CAIXABANK, S.A.</td>\n",
              "      <td>Servicios Financieros</td>\n",
              "      <td>Bancos y Cajas de Ahorro</td>\n",
              "      <td>...</td>\n",
              "      <td>False</td>\n",
              "      <td>0.522659</td>\n",
              "      <td>0.399338</td>\n",
              "      <td>-0.235948</td>\n",
              "      <td>0.092801</td>\n",
              "      <td>0.172358</td>\n",
              "      <td>0.625502</td>\n",
              "      <td>0.625502</td>\n",
              "      <td>-1.0</td>\n",
              "      <td>0.0</td>\n",
              "    </tr>\n",
              "  </tbody>\n",
              "</table>\n",
              "<p>46635 rows × 36 columns</p>\n",
              "</div>"
            ],
            "text/plain": [
              "                                        date  \\\n",
              "pk                                             \n",
              "1656287707697_43316_IAG  2020-12-31 23:30:00   \n",
              "1656287513236_43316_ANA  2021-01-01 02:06:52   \n",
              "1656287513236_43316_BKIA 2021-01-01 02:06:52   \n",
              "1656287513236_43316_CABK 2021-01-01 02:06:52   \n",
              "1656287513236_43316_IAG  2021-01-01 02:06:52   \n",
              "...                                      ...   \n",
              "1656406861597_6_REP      2022-01-01 21:55:00   \n",
              "1656406861597_6_TEF      2022-01-01 21:55:00   \n",
              "1656407079517_9_CABK     2022-01-03 10:08:00   \n",
              "1656402235399_9_ANA      2022-01-20 19:21:00   \n",
              "1656404116271_9_CABK     2022-03-11 17:25:00   \n",
              "\n",
              "                                                                      title  \\\n",
              "pk                                                                            \n",
              "1656287707697_43316_IAG   Pasaportes, visados, ‘roaming’... Todos los ca...   \n",
              "1656287513236_43316_ANA                     Las claves de la caída del Ibex   \n",
              "1656287513236_43316_BKIA                    Las claves de la caída del Ibex   \n",
              "1656287513236_43316_CABK                    Las claves de la caída del Ibex   \n",
              "1656287513236_43316_IAG                     Las claves de la caída del Ibex   \n",
              "...                                                                     ...   \n",
              "1656406861597_6_REP       De la Torre sitúa a Málaga en uno de sus mejor...   \n",
              "1656406861597_6_TEF       De la Torre sitúa a Málaga en uno de sus mejor...   \n",
              "1656407079517_9_CABK      CaixaBank Banca Privada recomienda a gran part...   \n",
              "1656402235399_9_ANA       El modelo energético de Madrid Nuevo Norte, el...   \n",
              "1656404116271_9_CABK      La Fundación La Caixa une a más de 100 voces a...   \n",
              "\n",
              "                                                                        url  \\\n",
              "pk                                                                            \n",
              "1656287707697_43316_IAG   https://elpais.com/internacional/2020-12-31/pa...   \n",
              "1656287513236_43316_ANA   https://www.abc.es/economia/abci-claves-caida-...   \n",
              "1656287513236_43316_BKIA  https://www.abc.es/economia/abci-claves-caida-...   \n",
              "1656287513236_43316_CABK  https://www.abc.es/economia/abci-claves-caida-...   \n",
              "1656287513236_43316_IAG   https://www.abc.es/economia/abci-claves-caida-...   \n",
              "...                                                                     ...   \n",
              "1656406861597_6_REP       https://www.europapress.es/andalucia/malaga-00...   \n",
              "1656406861597_6_TEF       https://www.europapress.es/andalucia/malaga-00...   \n",
              "1656407079517_9_CABK      https://www.europapress.es/economia/finanzas-0...   \n",
              "1656402235399_9_ANA       https://www.europapress.es/madrid/distritocast...   \n",
              "1656404116271_9_CABK      https://www.europapress.es/catalunya/noticia-f...   \n",
              "\n",
              "                                                                       body  \\\n",
              "pk                                                                            \n",
              "1656287707697_43316_IAG   ¿DNI o pasaporte? ¿Hay que pedir visado? ¿Sirv...   \n",
              "1656287513236_43316_ANA   24 componentes en negativo<EOL>El Ibex cierra ...   \n",
              "1656287513236_43316_BKIA  24 componentes en negativo<EOL>El Ibex cierra ...   \n",
              "1656287513236_43316_CABK  24 componentes en negativo<EOL>El Ibex cierra ...   \n",
              "1656287513236_43316_IAG   24 componentes en negativo<EOL>El Ibex cierra ...   \n",
              "...                                                                     ...   \n",
              "1656406861597_6_REP       MÁLAGA, 31 Dic. (EUROPA PRESS) -<EOL>El alcald...   \n",
              "1656406861597_6_TEF       MÁLAGA, 31 Dic. (EUROPA PRESS) -<EOL>El alcald...   \n",
              "1656407079517_9_CABK      MADRID, 28 Dic. (EUROPA PRESS) -<EOL>CaixaBank...   \n",
              "1656402235399_9_ANA       MADRID, 1 Dic. (EUROPA PRESS) -<EOL>El modelo ...   \n",
              "1656404116271_9_CABK      La acción se desarrolla en espacios emblemátic...   \n",
              "\n",
              "                                                                       tags  \\\n",
              "pk                                                                            \n",
              "1656287707697_43316_IAG   ['Brexit', 'Reino Unido', 'Europa', 'Comercio'...   \n",
              "1656287513236_43316_ANA   ['Apple', 'Gamesa', 'Amazon', 'Iberia', 'Accio...   \n",
              "1656287513236_43316_BKIA  ['Apple', 'Gamesa', 'Amazon', 'Iberia', 'Accio...   \n",
              "1656287513236_43316_CABK  ['Apple', 'Gamesa', 'Amazon', 'Iberia', 'Accio...   \n",
              "1656287513236_43316_IAG   ['Apple', 'Gamesa', 'Amazon', 'Iberia', 'Accio...   \n",
              "...                                                                     ...   \n",
              "1656406861597_6_REP                               ['Francisco de la Torre']   \n",
              "1656406861597_6_TEF                               ['Francisco de la Torre']   \n",
              "1656407079517_9_CABK                     ['Sector financiero', 'Caixabank']   \n",
              "1656402235399_9_ANA       ['Comisión Europea', 'Acciona', 'Distrito Cast...   \n",
              "1656404116271_9_CABK                                           ['La Caixa']   \n",
              "\n",
              "                             resource ticker  \\\n",
              "pk                                             \n",
              "1656287707697_43316_IAG        ELPAIS    IAG   \n",
              "1656287513236_43316_ANA           ABC    ANA   \n",
              "1656287513236_43316_BKIA          ABC   BKIA   \n",
              "1656287513236_43316_CABK          ABC   CABK   \n",
              "1656287513236_43316_IAG           ABC    IAG   \n",
              "...                               ...    ...   \n",
              "1656406861597_6_REP       EUROPAPRESS    REP   \n",
              "1656406861597_6_TEF       EUROPAPRESS    TEF   \n",
              "1656407079517_9_CABK      EUROPAPRESS   CABK   \n",
              "1656402235399_9_ANA       EUROPAPRESS    ANA   \n",
              "1656404116271_9_CABK      EUROPAPRESS   CABK   \n",
              "\n",
              "                                                       ticker_name  \\\n",
              "pk                                                                   \n",
              "1656287707697_43316_IAG   INTERNATIONAL CONSOLIDAT. AIRLINES GROUP   \n",
              "1656287513236_43316_ANA                               ACCIONA,S.A.   \n",
              "1656287513236_43316_BKIA                              BANKIA, S.A.   \n",
              "1656287513236_43316_CABK                           CAIXABANK, S.A.   \n",
              "1656287513236_43316_IAG   INTERNATIONAL CONSOLIDAT. AIRLINES GROUP   \n",
              "...                                                            ...   \n",
              "1656406861597_6_REP                                   REPSOL, S.A.   \n",
              "1656406861597_6_TEF                               TELEFONICA, S.A.   \n",
              "1656407079517_9_CABK                               CAIXABANK, S.A.   \n",
              "1656402235399_9_ANA                                   ACCIONA,S.A.   \n",
              "1656404116271_9_CABK                               CAIXABANK, S.A.   \n",
              "\n",
              "                                                         sector  \\\n",
              "pk                                                                \n",
              "1656287707697_43316_IAG                    Servicios de Consumo   \n",
              "1656287513236_43316_ANA   Mat.Basicos, Industria y Construcción   \n",
              "1656287513236_43316_BKIA                  Servicios Financieros   \n",
              "1656287513236_43316_CABK                  Servicios Financieros   \n",
              "1656287513236_43316_IAG                    Servicios de Consumo   \n",
              "...                                                         ...   \n",
              "1656406861597_6_REP                          Petróleo y Energía   \n",
              "1656406861597_6_TEF             Tecnología y Telecomunicaciones   \n",
              "1656407079517_9_CABK                      Servicios Financieros   \n",
              "1656402235399_9_ANA       Mat.Basicos, Industria y Construcción   \n",
              "1656404116271_9_CABK                      Servicios Financieros   \n",
              "\n",
              "                                           subsector  ...  \\\n",
              "pk                                                    ...   \n",
              "1656287707697_43316_IAG    Transporte y Distribución  ...   \n",
              "1656287513236_43316_ANA                 Construcción  ...   \n",
              "1656287513236_43316_BKIA    Bancos y Cajas de Ahorro  ...   \n",
              "1656287513236_43316_CABK    Bancos y Cajas de Ahorro  ...   \n",
              "1656287513236_43316_IAG    Transporte y Distribución  ...   \n",
              "...                                              ...  ...   \n",
              "1656406861597_6_REP                         Petróleo  ...   \n",
              "1656406861597_6_TEF       Telecomunicaciones y Otros  ...   \n",
              "1656407079517_9_CABK        Bancos y Cajas de Ahorro  ...   \n",
              "1656402235399_9_ANA                     Construcción  ...   \n",
              "1656404116271_9_CABK        Bancos y Cajas de Ahorro  ...   \n",
              "\n",
              "                          alpha_exante_above_Q3  vola20_exante  vola20_expost  \\\n",
              "pk                                                                              \n",
              "1656287707697_43316_IAG                   False       0.595548       0.646779   \n",
              "1656287513236_43316_ANA                   False       0.330038       0.410053   \n",
              "1656287513236_43316_BKIA                  False       0.261637       0.452613   \n",
              "1656287513236_43316_CABK                  False       0.269002       0.451665   \n",
              "1656287513236_43316_IAG                   False       0.595548       0.646779   \n",
              "...                                         ...            ...            ...   \n",
              "1656406861597_6_REP                       False       0.223100       0.283767   \n",
              "1656406861597_6_TEF                       False       0.260783       0.163380   \n",
              "1656407079517_9_CABK                      False       0.214666       0.306254   \n",
              "1656402235399_9_ANA                        True       0.222990       0.319711   \n",
              "1656404116271_9_CABK                      False       0.522659       0.399338   \n",
              "\n",
              "                         vola20_antepost_pct_change vola20_umbral_Q1  \\\n",
              "pk                                                                     \n",
              "1656287707697_43316_IAG                    0.086025         0.053808   \n",
              "1656287513236_43316_ANA                    0.242440        -0.011209   \n",
              "1656287513236_43316_BKIA                   0.729930         0.057276   \n",
              "1656287513236_43316_CABK                   0.679042         0.092034   \n",
              "1656287513236_43316_IAG                    0.086025         0.053808   \n",
              "...                                             ...              ...   \n",
              "1656406861597_6_REP                        0.271928        -0.357201   \n",
              "1656406861597_6_TEF                       -0.373501        -0.477420   \n",
              "1656407079517_9_CABK                       0.426654        -0.089311   \n",
              "1656402235399_9_ANA                        0.433742         0.135152   \n",
              "1656404116271_9_CABK                      -0.235948         0.092801   \n",
              "\n",
              "                         vola20_umbral_abs_Q1 vola20_umbral_Q3  \\\n",
              "pk                                                               \n",
              "1656287707697_43316_IAG              0.114337         0.305009   \n",
              "1656287513236_43316_ANA              0.103677         0.208834   \n",
              "1656287513236_43316_BKIA             0.103478         0.236113   \n",
              "1656287513236_43316_CABK             0.139145         0.290371   \n",
              "1656287513236_43316_IAG              0.114337         0.305009   \n",
              "...                                       ...              ...   \n",
              "1656406861597_6_REP                  0.272479        -0.270908   \n",
              "1656406861597_6_TEF                  0.399914        -0.399914   \n",
              "1656407079517_9_CABK                 0.053781         0.059615   \n",
              "1656402235399_9_ANA                  0.144790         0.352219   \n",
              "1656404116271_9_CABK                 0.172358         0.625502   \n",
              "\n",
              "                          vola20_umbral_abs_Q3  vola_label  vola_label_abs  \n",
              "pk                                                                          \n",
              "1656287707697_43316_IAG               0.417972         0.0             0.0  \n",
              "1656287513236_43316_ANA               0.225065         1.0             1.0  \n",
              "1656287513236_43316_BKIA              0.315340         1.0             1.0  \n",
              "1656287513236_43316_CABK              0.324701         1.0             1.0  \n",
              "1656287513236_43316_IAG               0.417972         0.0             0.0  \n",
              "...                                        ...         ...             ...  \n",
              "1656406861597_6_REP                   0.357201         1.0             0.0  \n",
              "1656406861597_6_TEF                   0.477420         1.0             0.0  \n",
              "1656407079517_9_CABK                  0.251531         1.0             1.0  \n",
              "1656402235399_9_ANA                   0.352219         1.0             1.0  \n",
              "1656404116271_9_CABK                  0.625502        -1.0             0.0  \n",
              "\n",
              "[46635 rows x 36 columns]"
            ]
          },
          "execution_count": 6,
          "metadata": {},
          "output_type": "execute_result"
        }
      ],
      "source": [
        "df_news = pd.read_csv(file_path_news, sep=\";\", parse_dates=[\"date\"], index_col=0)\n",
        "df_news"
      ]
    },
    {
      "cell_type": "code",
      "execution_count": 7,
      "metadata": {
        "colab": {
          "base_uri": "https://localhost:8080/",
          "height": 1000
        },
        "id": "-6aeNeOYfLSP",
        "outputId": "79150449-3c19-428d-8ad7-0740dd22b198"
      },
      "outputs": [
        {
          "data": {
            "text/html": [
              "<div>\n",
              "<style scoped>\n",
              "    .dataframe tbody tr th:only-of-type {\n",
              "        vertical-align: middle;\n",
              "    }\n",
              "\n",
              "    .dataframe tbody tr th {\n",
              "        vertical-align: top;\n",
              "    }\n",
              "\n",
              "    .dataframe thead th {\n",
              "        text-align: right;\n",
              "    }\n",
              "</style>\n",
              "<table border=\"1\" class=\"dataframe\">\n",
              "  <thead>\n",
              "    <tr style=\"text-align: right;\">\n",
              "      <th></th>\n",
              "      <th>pk_paragraph</th>\n",
              "      <th>date</th>\n",
              "      <th>title</th>\n",
              "      <th>url</th>\n",
              "      <th>body</th>\n",
              "      <th>tags</th>\n",
              "      <th>resource</th>\n",
              "      <th>ticker</th>\n",
              "      <th>ticker_name</th>\n",
              "      <th>sector</th>\n",
              "      <th>...</th>\n",
              "      <th>topic_classifier_news</th>\n",
              "      <th>topics_news</th>\n",
              "      <th>finanzas_prob_news</th>\n",
              "      <th>sector_in_topics_news</th>\n",
              "      <th>intensidad_news</th>\n",
              "      <th>finanzas_tag_s_n</th>\n",
              "      <th>impacto_tag_s_n</th>\n",
              "      <th>topic_tag_news</th>\n",
              "      <th>finanzas_tag_news_s_n</th>\n",
              "      <th>impacto_tag_news_s_n</th>\n",
              "    </tr>\n",
              "    <tr>\n",
              "      <th>pk</th>\n",
              "      <th></th>\n",
              "      <th></th>\n",
              "      <th></th>\n",
              "      <th></th>\n",
              "      <th></th>\n",
              "      <th></th>\n",
              "      <th></th>\n",
              "      <th></th>\n",
              "      <th></th>\n",
              "      <th></th>\n",
              "      <th></th>\n",
              "      <th></th>\n",
              "      <th></th>\n",
              "      <th></th>\n",
              "      <th></th>\n",
              "      <th></th>\n",
              "      <th></th>\n",
              "      <th></th>\n",
              "      <th></th>\n",
              "      <th></th>\n",
              "      <th></th>\n",
              "    </tr>\n",
              "  </thead>\n",
              "  <tbody>\n",
              "    <tr>\n",
              "      <th>1656287707697_43316_IAG</th>\n",
              "      <td>1656287707697_43316_IAG_0000000000</td>\n",
              "      <td>2020-12-31 23:30:00</td>\n",
              "      <td>Pasaportes, visados, ‘roaming’... Todos los ca...</td>\n",
              "      <td>https://elpais.com/internacional/2020-12-31/pa...</td>\n",
              "      <td>¿DNI o pasaporte? ¿Hay que pedir visado? ¿Sirv...</td>\n",
              "      <td>['Brexit', 'Reino Unido', 'Europa', 'Comercio'...</td>\n",
              "      <td>ELPAIS</td>\n",
              "      <td>IAG</td>\n",
              "      <td>INTERNATIONAL CONSOLIDAT. AIRLINES GROUP</td>\n",
              "      <td>Servicios de Consumo</td>\n",
              "      <td>...</td>\n",
              "      <td>austeridad</td>\n",
              "      <td>{'austeridad': 0.09253649, 'comisión europea':...</td>\n",
              "      <td>0.0</td>\n",
              "      <td>0</td>\n",
              "      <td>1.0</td>\n",
              "      <td>NaN</td>\n",
              "      <td>NaN</td>\n",
              "      <td>NaN</td>\n",
              "      <td>NaN</td>\n",
              "      <td>NaN</td>\n",
              "    </tr>\n",
              "    <tr>\n",
              "      <th>1656287707697_43316_IAG</th>\n",
              "      <td>1656287707697_43316_IAG_0000000001</td>\n",
              "      <td>2020-12-31 23:30:00</td>\n",
              "      <td>Pasaportes, visados, ‘roaming’... Todos los ca...</td>\n",
              "      <td>https://elpais.com/internacional/2020-12-31/pa...</td>\n",
              "      <td>Sí. Los pactos alcanzados garantizan la reside...</td>\n",
              "      <td>['Brexit', 'Reino Unido', 'Europa', 'Comercio'...</td>\n",
              "      <td>ELPAIS</td>\n",
              "      <td>IAG</td>\n",
              "      <td>INTERNATIONAL CONSOLIDAT. AIRLINES GROUP</td>\n",
              "      <td>Servicios de Consumo</td>\n",
              "      <td>...</td>\n",
              "      <td>austeridad</td>\n",
              "      <td>{'austeridad': 0.09253649, 'comisión europea':...</td>\n",
              "      <td>0.0</td>\n",
              "      <td>0</td>\n",
              "      <td>1.0</td>\n",
              "      <td>NaN</td>\n",
              "      <td>NaN</td>\n",
              "      <td>NaN</td>\n",
              "      <td>NaN</td>\n",
              "      <td>NaN</td>\n",
              "    </tr>\n",
              "    <tr>\n",
              "      <th>1656287707697_43316_IAG</th>\n",
              "      <td>1656287707697_43316_IAG_0000000002</td>\n",
              "      <td>2020-12-31 23:30:00</td>\n",
              "      <td>Pasaportes, visados, ‘roaming’... Todos los ca...</td>\n",
              "      <td>https://elpais.com/internacional/2020-12-31/pa...</td>\n",
              "      <td>Sí, hay que solicitar un documento de residenc...</td>\n",
              "      <td>['Brexit', 'Reino Unido', 'Europa', 'Comercio'...</td>\n",
              "      <td>ELPAIS</td>\n",
              "      <td>IAG</td>\n",
              "      <td>INTERNATIONAL CONSOLIDAT. AIRLINES GROUP</td>\n",
              "      <td>Servicios de Consumo</td>\n",
              "      <td>...</td>\n",
              "      <td>austeridad</td>\n",
              "      <td>{'austeridad': 0.09253649, 'comisión europea':...</td>\n",
              "      <td>0.0</td>\n",
              "      <td>0</td>\n",
              "      <td>1.0</td>\n",
              "      <td>NaN</td>\n",
              "      <td>NaN</td>\n",
              "      <td>NaN</td>\n",
              "      <td>NaN</td>\n",
              "      <td>NaN</td>\n",
              "    </tr>\n",
              "    <tr>\n",
              "      <th>1656287707697_43316_IAG</th>\n",
              "      <td>1656287707697_43316_IAG_0000000003</td>\n",
              "      <td>2020-12-31 23:30:00</td>\n",
              "      <td>Pasaportes, visados, ‘roaming’... Todos los ca...</td>\n",
              "      <td>https://elpais.com/internacional/2020-12-31/pa...</td>\n",
              "      <td>El Acuerdo de Retirada del Reino Unido de la U...</td>\n",
              "      <td>['Brexit', 'Reino Unido', 'Europa', 'Comercio'...</td>\n",
              "      <td>ELPAIS</td>\n",
              "      <td>IAG</td>\n",
              "      <td>INTERNATIONAL CONSOLIDAT. AIRLINES GROUP</td>\n",
              "      <td>Servicios de Consumo</td>\n",
              "      <td>...</td>\n",
              "      <td>austeridad</td>\n",
              "      <td>{'austeridad': 0.09253649, 'comisión europea':...</td>\n",
              "      <td>0.0</td>\n",
              "      <td>0</td>\n",
              "      <td>1.0</td>\n",
              "      <td>NaN</td>\n",
              "      <td>NaN</td>\n",
              "      <td>NaN</td>\n",
              "      <td>NaN</td>\n",
              "      <td>NaN</td>\n",
              "    </tr>\n",
              "    <tr>\n",
              "      <th>1656287707697_43316_IAG</th>\n",
              "      <td>1656287707697_43316_IAG_0000000004</td>\n",
              "      <td>2020-12-31 23:30:00</td>\n",
              "      <td>Pasaportes, visados, ‘roaming’... Todos los ca...</td>\n",
              "      <td>https://elpais.com/internacional/2020-12-31/pa...</td>\n",
              "      <td>No. Se podrá visitar el país para periodos de ...</td>\n",
              "      <td>['Brexit', 'Reino Unido', 'Europa', 'Comercio'...</td>\n",
              "      <td>ELPAIS</td>\n",
              "      <td>IAG</td>\n",
              "      <td>INTERNATIONAL CONSOLIDAT. AIRLINES GROUP</td>\n",
              "      <td>Servicios de Consumo</td>\n",
              "      <td>...</td>\n",
              "      <td>austeridad</td>\n",
              "      <td>{'austeridad': 0.09253649, 'comisión europea':...</td>\n",
              "      <td>0.0</td>\n",
              "      <td>0</td>\n",
              "      <td>1.0</td>\n",
              "      <td>NaN</td>\n",
              "      <td>NaN</td>\n",
              "      <td>NaN</td>\n",
              "      <td>NaN</td>\n",
              "      <td>NaN</td>\n",
              "    </tr>\n",
              "    <tr>\n",
              "      <th>...</th>\n",
              "      <td>...</td>\n",
              "      <td>...</td>\n",
              "      <td>...</td>\n",
              "      <td>...</td>\n",
              "      <td>...</td>\n",
              "      <td>...</td>\n",
              "      <td>...</td>\n",
              "      <td>...</td>\n",
              "      <td>...</td>\n",
              "      <td>...</td>\n",
              "      <td>...</td>\n",
              "      <td>...</td>\n",
              "      <td>...</td>\n",
              "      <td>...</td>\n",
              "      <td>...</td>\n",
              "      <td>...</td>\n",
              "      <td>...</td>\n",
              "      <td>...</td>\n",
              "      <td>...</td>\n",
              "      <td>...</td>\n",
              "      <td>...</td>\n",
              "    </tr>\n",
              "    <tr>\n",
              "      <th>1656404116271_9_CABK</th>\n",
              "      <td>1656404116271_9_CABK_0000000503</td>\n",
              "      <td>2022-03-11 17:25:00</td>\n",
              "      <td>La Fundación La Caixa une a más de 100 voces a...</td>\n",
              "      <td>https://www.europapress.es/catalunya/noticia-f...</td>\n",
              "      <td>La acción se desarrolla en espacios emblemátic...</td>\n",
              "      <td>['La Caixa']</td>\n",
              "      <td>EUROPAPRESS</td>\n",
              "      <td>CABK</td>\n",
              "      <td>CAIXABANK, S.A.</td>\n",
              "      <td>Servicios Financieros</td>\n",
              "      <td>...</td>\n",
              "      <td>famosos</td>\n",
              "      <td>{'famosos': 0.059421416, 'joan manuel serrat':...</td>\n",
              "      <td>0.0</td>\n",
              "      <td>0</td>\n",
              "      <td>4.0</td>\n",
              "      <td>NaN</td>\n",
              "      <td>NaN</td>\n",
              "      <td>NaN</td>\n",
              "      <td>NaN</td>\n",
              "      <td>NaN</td>\n",
              "    </tr>\n",
              "    <tr>\n",
              "      <th>1656404116271_9_CABK</th>\n",
              "      <td>1656404116271_9_CABK_0000000504</td>\n",
              "      <td>2022-03-11 17:25:00</td>\n",
              "      <td>La Fundación La Caixa une a más de 100 voces a...</td>\n",
              "      <td>https://www.europapress.es/catalunya/noticia-f...</td>\n",
              "      <td>Igor Cortadellas ha sido el encargado de la di...</td>\n",
              "      <td>['La Caixa']</td>\n",
              "      <td>EUROPAPRESS</td>\n",
              "      <td>CABK</td>\n",
              "      <td>CAIXABANK, S.A.</td>\n",
              "      <td>Servicios Financieros</td>\n",
              "      <td>...</td>\n",
              "      <td>famosos</td>\n",
              "      <td>{'famosos': 0.059421416, 'joan manuel serrat':...</td>\n",
              "      <td>0.0</td>\n",
              "      <td>0</td>\n",
              "      <td>4.0</td>\n",
              "      <td>NaN</td>\n",
              "      <td>NaN</td>\n",
              "      <td>NaN</td>\n",
              "      <td>NaN</td>\n",
              "      <td>NaN</td>\n",
              "    </tr>\n",
              "    <tr>\n",
              "      <th>1656404116271_9_CABK</th>\n",
              "      <td>1656404116271_9_CABK_0000000505</td>\n",
              "      <td>2022-03-11 17:25:00</td>\n",
              "      <td>La Fundación La Caixa une a más de 100 voces a...</td>\n",
              "      <td>https://www.europapress.es/catalunya/noticia-f...</td>\n",
              "      <td>También ha contado con la producción musical d...</td>\n",
              "      <td>['La Caixa']</td>\n",
              "      <td>EUROPAPRESS</td>\n",
              "      <td>CABK</td>\n",
              "      <td>CAIXABANK, S.A.</td>\n",
              "      <td>Servicios Financieros</td>\n",
              "      <td>...</td>\n",
              "      <td>famosos</td>\n",
              "      <td>{'famosos': 0.059421416, 'joan manuel serrat':...</td>\n",
              "      <td>0.0</td>\n",
              "      <td>0</td>\n",
              "      <td>4.0</td>\n",
              "      <td>NaN</td>\n",
              "      <td>NaN</td>\n",
              "      <td>NaN</td>\n",
              "      <td>NaN</td>\n",
              "      <td>NaN</td>\n",
              "    </tr>\n",
              "    <tr>\n",
              "      <th>1656404116271_9_CABK</th>\n",
              "      <td>1656404116271_9_CABK_0000000506</td>\n",
              "      <td>2022-03-11 17:25:00</td>\n",
              "      <td>La Fundación La Caixa une a más de 100 voces a...</td>\n",
              "      <td>https://www.europapress.es/catalunya/noticia-f...</td>\n",
              "      <td>Las ediciones anteriores, #YoCanto Viva la Vid...</td>\n",
              "      <td>['La Caixa']</td>\n",
              "      <td>EUROPAPRESS</td>\n",
              "      <td>CABK</td>\n",
              "      <td>CAIXABANK, S.A.</td>\n",
              "      <td>Servicios Financieros</td>\n",
              "      <td>...</td>\n",
              "      <td>famosos</td>\n",
              "      <td>{'famosos': 0.059421416, 'joan manuel serrat':...</td>\n",
              "      <td>0.0</td>\n",
              "      <td>0</td>\n",
              "      <td>4.0</td>\n",
              "      <td>NaN</td>\n",
              "      <td>NaN</td>\n",
              "      <td>NaN</td>\n",
              "      <td>NaN</td>\n",
              "      <td>NaN</td>\n",
              "    </tr>\n",
              "    <tr>\n",
              "      <th>1656404116271_9_CABK</th>\n",
              "      <td>1656404116271_9_CABK_0000000507</td>\n",
              "      <td>2022-03-11 17:25:00</td>\n",
              "      <td>La Fundación La Caixa une a más de 100 voces a...</td>\n",
              "      <td>https://www.europapress.es/catalunya/noticia-f...</td>\n",
              "      <td>Con esta acción navideña, la Fundación La Caix...</td>\n",
              "      <td>['La Caixa']</td>\n",
              "      <td>EUROPAPRESS</td>\n",
              "      <td>CABK</td>\n",
              "      <td>CAIXABANK, S.A.</td>\n",
              "      <td>Servicios Financieros</td>\n",
              "      <td>...</td>\n",
              "      <td>famosos</td>\n",
              "      <td>{'famosos': 0.059421416, 'joan manuel serrat':...</td>\n",
              "      <td>0.0</td>\n",
              "      <td>0</td>\n",
              "      <td>4.0</td>\n",
              "      <td>NaN</td>\n",
              "      <td>NaN</td>\n",
              "      <td>NaN</td>\n",
              "      <td>NaN</td>\n",
              "      <td>NaN</td>\n",
              "    </tr>\n",
              "  </tbody>\n",
              "</table>\n",
              "<p>499654 rows × 49 columns</p>\n",
              "</div>"
            ],
            "text/plain": [
              "                                               pk_paragraph  \\\n",
              "pk                                                            \n",
              "1656287707697_43316_IAG  1656287707697_43316_IAG_0000000000   \n",
              "1656287707697_43316_IAG  1656287707697_43316_IAG_0000000001   \n",
              "1656287707697_43316_IAG  1656287707697_43316_IAG_0000000002   \n",
              "1656287707697_43316_IAG  1656287707697_43316_IAG_0000000003   \n",
              "1656287707697_43316_IAG  1656287707697_43316_IAG_0000000004   \n",
              "...                                                     ...   \n",
              "1656404116271_9_CABK        1656404116271_9_CABK_0000000503   \n",
              "1656404116271_9_CABK        1656404116271_9_CABK_0000000504   \n",
              "1656404116271_9_CABK        1656404116271_9_CABK_0000000505   \n",
              "1656404116271_9_CABK        1656404116271_9_CABK_0000000506   \n",
              "1656404116271_9_CABK        1656404116271_9_CABK_0000000507   \n",
              "\n",
              "                                       date  \\\n",
              "pk                                            \n",
              "1656287707697_43316_IAG 2020-12-31 23:30:00   \n",
              "1656287707697_43316_IAG 2020-12-31 23:30:00   \n",
              "1656287707697_43316_IAG 2020-12-31 23:30:00   \n",
              "1656287707697_43316_IAG 2020-12-31 23:30:00   \n",
              "1656287707697_43316_IAG 2020-12-31 23:30:00   \n",
              "...                                     ...   \n",
              "1656404116271_9_CABK    2022-03-11 17:25:00   \n",
              "1656404116271_9_CABK    2022-03-11 17:25:00   \n",
              "1656404116271_9_CABK    2022-03-11 17:25:00   \n",
              "1656404116271_9_CABK    2022-03-11 17:25:00   \n",
              "1656404116271_9_CABK    2022-03-11 17:25:00   \n",
              "\n",
              "                                                                     title  \\\n",
              "pk                                                                           \n",
              "1656287707697_43316_IAG  Pasaportes, visados, ‘roaming’... Todos los ca...   \n",
              "1656287707697_43316_IAG  Pasaportes, visados, ‘roaming’... Todos los ca...   \n",
              "1656287707697_43316_IAG  Pasaportes, visados, ‘roaming’... Todos los ca...   \n",
              "1656287707697_43316_IAG  Pasaportes, visados, ‘roaming’... Todos los ca...   \n",
              "1656287707697_43316_IAG  Pasaportes, visados, ‘roaming’... Todos los ca...   \n",
              "...                                                                    ...   \n",
              "1656404116271_9_CABK     La Fundación La Caixa une a más de 100 voces a...   \n",
              "1656404116271_9_CABK     La Fundación La Caixa une a más de 100 voces a...   \n",
              "1656404116271_9_CABK     La Fundación La Caixa une a más de 100 voces a...   \n",
              "1656404116271_9_CABK     La Fundación La Caixa une a más de 100 voces a...   \n",
              "1656404116271_9_CABK     La Fundación La Caixa une a más de 100 voces a...   \n",
              "\n",
              "                                                                       url  \\\n",
              "pk                                                                           \n",
              "1656287707697_43316_IAG  https://elpais.com/internacional/2020-12-31/pa...   \n",
              "1656287707697_43316_IAG  https://elpais.com/internacional/2020-12-31/pa...   \n",
              "1656287707697_43316_IAG  https://elpais.com/internacional/2020-12-31/pa...   \n",
              "1656287707697_43316_IAG  https://elpais.com/internacional/2020-12-31/pa...   \n",
              "1656287707697_43316_IAG  https://elpais.com/internacional/2020-12-31/pa...   \n",
              "...                                                                    ...   \n",
              "1656404116271_9_CABK     https://www.europapress.es/catalunya/noticia-f...   \n",
              "1656404116271_9_CABK     https://www.europapress.es/catalunya/noticia-f...   \n",
              "1656404116271_9_CABK     https://www.europapress.es/catalunya/noticia-f...   \n",
              "1656404116271_9_CABK     https://www.europapress.es/catalunya/noticia-f...   \n",
              "1656404116271_9_CABK     https://www.europapress.es/catalunya/noticia-f...   \n",
              "\n",
              "                                                                      body  \\\n",
              "pk                                                                           \n",
              "1656287707697_43316_IAG  ¿DNI o pasaporte? ¿Hay que pedir visado? ¿Sirv...   \n",
              "1656287707697_43316_IAG  Sí. Los pactos alcanzados garantizan la reside...   \n",
              "1656287707697_43316_IAG  Sí, hay que solicitar un documento de residenc...   \n",
              "1656287707697_43316_IAG  El Acuerdo de Retirada del Reino Unido de la U...   \n",
              "1656287707697_43316_IAG  No. Se podrá visitar el país para periodos de ...   \n",
              "...                                                                    ...   \n",
              "1656404116271_9_CABK     La acción se desarrolla en espacios emblemátic...   \n",
              "1656404116271_9_CABK     Igor Cortadellas ha sido el encargado de la di...   \n",
              "1656404116271_9_CABK     También ha contado con la producción musical d...   \n",
              "1656404116271_9_CABK     Las ediciones anteriores, #YoCanto Viva la Vid...   \n",
              "1656404116271_9_CABK     Con esta acción navideña, la Fundación La Caix...   \n",
              "\n",
              "                                                                      tags  \\\n",
              "pk                                                                           \n",
              "1656287707697_43316_IAG  ['Brexit', 'Reino Unido', 'Europa', 'Comercio'...   \n",
              "1656287707697_43316_IAG  ['Brexit', 'Reino Unido', 'Europa', 'Comercio'...   \n",
              "1656287707697_43316_IAG  ['Brexit', 'Reino Unido', 'Europa', 'Comercio'...   \n",
              "1656287707697_43316_IAG  ['Brexit', 'Reino Unido', 'Europa', 'Comercio'...   \n",
              "1656287707697_43316_IAG  ['Brexit', 'Reino Unido', 'Europa', 'Comercio'...   \n",
              "...                                                                    ...   \n",
              "1656404116271_9_CABK                                          ['La Caixa']   \n",
              "1656404116271_9_CABK                                          ['La Caixa']   \n",
              "1656404116271_9_CABK                                          ['La Caixa']   \n",
              "1656404116271_9_CABK                                          ['La Caixa']   \n",
              "1656404116271_9_CABK                                          ['La Caixa']   \n",
              "\n",
              "                            resource ticker  \\\n",
              "pk                                            \n",
              "1656287707697_43316_IAG       ELPAIS    IAG   \n",
              "1656287707697_43316_IAG       ELPAIS    IAG   \n",
              "1656287707697_43316_IAG       ELPAIS    IAG   \n",
              "1656287707697_43316_IAG       ELPAIS    IAG   \n",
              "1656287707697_43316_IAG       ELPAIS    IAG   \n",
              "...                              ...    ...   \n",
              "1656404116271_9_CABK     EUROPAPRESS   CABK   \n",
              "1656404116271_9_CABK     EUROPAPRESS   CABK   \n",
              "1656404116271_9_CABK     EUROPAPRESS   CABK   \n",
              "1656404116271_9_CABK     EUROPAPRESS   CABK   \n",
              "1656404116271_9_CABK     EUROPAPRESS   CABK   \n",
              "\n",
              "                                                      ticker_name  \\\n",
              "pk                                                                  \n",
              "1656287707697_43316_IAG  INTERNATIONAL CONSOLIDAT. AIRLINES GROUP   \n",
              "1656287707697_43316_IAG  INTERNATIONAL CONSOLIDAT. AIRLINES GROUP   \n",
              "1656287707697_43316_IAG  INTERNATIONAL CONSOLIDAT. AIRLINES GROUP   \n",
              "1656287707697_43316_IAG  INTERNATIONAL CONSOLIDAT. AIRLINES GROUP   \n",
              "1656287707697_43316_IAG  INTERNATIONAL CONSOLIDAT. AIRLINES GROUP   \n",
              "...                                                           ...   \n",
              "1656404116271_9_CABK                              CAIXABANK, S.A.   \n",
              "1656404116271_9_CABK                              CAIXABANK, S.A.   \n",
              "1656404116271_9_CABK                              CAIXABANK, S.A.   \n",
              "1656404116271_9_CABK                              CAIXABANK, S.A.   \n",
              "1656404116271_9_CABK                              CAIXABANK, S.A.   \n",
              "\n",
              "                                        sector  ... topic_classifier_news  \\\n",
              "pk                                              ...                         \n",
              "1656287707697_43316_IAG   Servicios de Consumo  ...            austeridad   \n",
              "1656287707697_43316_IAG   Servicios de Consumo  ...            austeridad   \n",
              "1656287707697_43316_IAG   Servicios de Consumo  ...            austeridad   \n",
              "1656287707697_43316_IAG   Servicios de Consumo  ...            austeridad   \n",
              "1656287707697_43316_IAG   Servicios de Consumo  ...            austeridad   \n",
              "...                                        ...  ...                   ...   \n",
              "1656404116271_9_CABK     Servicios Financieros  ...               famosos   \n",
              "1656404116271_9_CABK     Servicios Financieros  ...               famosos   \n",
              "1656404116271_9_CABK     Servicios Financieros  ...               famosos   \n",
              "1656404116271_9_CABK     Servicios Financieros  ...               famosos   \n",
              "1656404116271_9_CABK     Servicios Financieros  ...               famosos   \n",
              "\n",
              "                                                               topics_news  \\\n",
              "pk                                                                           \n",
              "1656287707697_43316_IAG  {'austeridad': 0.09253649, 'comisión europea':...   \n",
              "1656287707697_43316_IAG  {'austeridad': 0.09253649, 'comisión europea':...   \n",
              "1656287707697_43316_IAG  {'austeridad': 0.09253649, 'comisión europea':...   \n",
              "1656287707697_43316_IAG  {'austeridad': 0.09253649, 'comisión europea':...   \n",
              "1656287707697_43316_IAG  {'austeridad': 0.09253649, 'comisión europea':...   \n",
              "...                                                                    ...   \n",
              "1656404116271_9_CABK     {'famosos': 0.059421416, 'joan manuel serrat':...   \n",
              "1656404116271_9_CABK     {'famosos': 0.059421416, 'joan manuel serrat':...   \n",
              "1656404116271_9_CABK     {'famosos': 0.059421416, 'joan manuel serrat':...   \n",
              "1656404116271_9_CABK     {'famosos': 0.059421416, 'joan manuel serrat':...   \n",
              "1656404116271_9_CABK     {'famosos': 0.059421416, 'joan manuel serrat':...   \n",
              "\n",
              "                         finanzas_prob_news  sector_in_topics_news  \\\n",
              "pk                                                                   \n",
              "1656287707697_43316_IAG                 0.0                      0   \n",
              "1656287707697_43316_IAG                 0.0                      0   \n",
              "1656287707697_43316_IAG                 0.0                      0   \n",
              "1656287707697_43316_IAG                 0.0                      0   \n",
              "1656287707697_43316_IAG                 0.0                      0   \n",
              "...                                     ...                    ...   \n",
              "1656404116271_9_CABK                    0.0                      0   \n",
              "1656404116271_9_CABK                    0.0                      0   \n",
              "1656404116271_9_CABK                    0.0                      0   \n",
              "1656404116271_9_CABK                    0.0                      0   \n",
              "1656404116271_9_CABK                    0.0                      0   \n",
              "\n",
              "                        intensidad_news finanzas_tag_s_n impacto_tag_s_n  \\\n",
              "pk                                                                         \n",
              "1656287707697_43316_IAG             1.0              NaN             NaN   \n",
              "1656287707697_43316_IAG             1.0              NaN             NaN   \n",
              "1656287707697_43316_IAG             1.0              NaN             NaN   \n",
              "1656287707697_43316_IAG             1.0              NaN             NaN   \n",
              "1656287707697_43316_IAG             1.0              NaN             NaN   \n",
              "...                                 ...              ...             ...   \n",
              "1656404116271_9_CABK                4.0              NaN             NaN   \n",
              "1656404116271_9_CABK                4.0              NaN             NaN   \n",
              "1656404116271_9_CABK                4.0              NaN             NaN   \n",
              "1656404116271_9_CABK                4.0              NaN             NaN   \n",
              "1656404116271_9_CABK                4.0              NaN             NaN   \n",
              "\n",
              "                        topic_tag_news  finanzas_tag_news_s_n  \\\n",
              "pk                                                              \n",
              "1656287707697_43316_IAG            NaN                    NaN   \n",
              "1656287707697_43316_IAG            NaN                    NaN   \n",
              "1656287707697_43316_IAG            NaN                    NaN   \n",
              "1656287707697_43316_IAG            NaN                    NaN   \n",
              "1656287707697_43316_IAG            NaN                    NaN   \n",
              "...                                ...                    ...   \n",
              "1656404116271_9_CABK               NaN                    NaN   \n",
              "1656404116271_9_CABK               NaN                    NaN   \n",
              "1656404116271_9_CABK               NaN                    NaN   \n",
              "1656404116271_9_CABK               NaN                    NaN   \n",
              "1656404116271_9_CABK               NaN                    NaN   \n",
              "\n",
              "                         impacto_tag_news_s_n  \n",
              "pk                                             \n",
              "1656287707697_43316_IAG                   NaN  \n",
              "1656287707697_43316_IAG                   NaN  \n",
              "1656287707697_43316_IAG                   NaN  \n",
              "1656287707697_43316_IAG                   NaN  \n",
              "1656287707697_43316_IAG                   NaN  \n",
              "...                                       ...  \n",
              "1656404116271_9_CABK                      NaN  \n",
              "1656404116271_9_CABK                      NaN  \n",
              "1656404116271_9_CABK                      NaN  \n",
              "1656404116271_9_CABK                      NaN  \n",
              "1656404116271_9_CABK                      NaN  \n",
              "\n",
              "[499654 rows x 49 columns]"
            ]
          },
          "execution_count": 7,
          "metadata": {},
          "output_type": "execute_result"
        }
      ],
      "source": [
        "df_paragraph = pd.read_csv(file_path_paragraph, sep=\";\", parse_dates=[\"date\"], index_col=0)\n",
        "df_paragraph"
      ]
    },
    {
      "cell_type": "markdown",
      "metadata": {
        "id": "XS5GjOlVodRq"
      },
      "source": [
        "# INCIO REEMPLAZAR TODA ESTA PARTE POR EL VOLA_PARAGRAPH"
      ]
    },
    {
      "cell_type": "code",
      "execution_count": 8,
      "metadata": {
        "id": "JqU1aIB1fLSR"
      },
      "outputs": [],
      "source": [
        "features = df_model = df_paragraph[['date','sector','subsector','body_no_entities','alpha_exante','alpha_exante_Q3','vola20_exante',\n",
        "                        #  'vola_label_calc','finanzas_tag_s_n','finanzas_tag_s_n_proba', 'impacto_tag_s_n','impacto_tag_s_n_proba'\n",
        "                         ]].copy()\n",
        "target = df_paragraph.vola_label"
      ]
    },
    {
      "cell_type": "code",
      "execution_count": 27,
      "metadata": {},
      "outputs": [
        {
          "data": {
            "text/plain": [
              "array([1, 1, 1, ..., 0, 0, 0], dtype=int64)"
            ]
          },
          "execution_count": 27,
          "metadata": {},
          "output_type": "execute_result"
        }
      ],
      "source": [
        "from sklearn.preprocessing import LabelEncoder\n",
        "lb = LabelEncoder()\n",
        "target = lb.fit_transform(df_paragraph.vola_label)\n",
        "target"
      ]
    },
    {
      "cell_type": "code",
      "execution_count": 29,
      "metadata": {},
      "outputs": [
        {
          "data": {
            "text/plain": [
              "array([0, 1, 2], dtype=int64)"
            ]
          },
          "execution_count": 29,
          "metadata": {},
          "output_type": "execute_result"
        }
      ],
      "source": [
        "np.unique(target)"
      ]
    },
    {
      "cell_type": "code",
      "execution_count": 10,
      "metadata": {
        "id": "R-jUDKTKfLSU"
      },
      "outputs": [],
      "source": [
        "from sklearn.model_selection import train_test_split, KFold\n",
        "from sklearn.tree import DecisionTreeClassifier\n",
        "from sklearn.metrics import precision_score, accuracy_score\n",
        "from sklearn.metrics import confusion_matrix"
      ]
    },
    {
      "cell_type": "code",
      "execution_count": 11,
      "metadata": {
        "id": "ewycboCRfLSW"
      },
      "outputs": [],
      "source": [
        "from sklearn.model_selection import train_test_split, KFold\n",
        "from sklearn.tree import DecisionTreeClassifier\n",
        "from sklearn.metrics import precision_score, accuracy_score\n",
        "from sklearn.metrics import confusion_matrix"
      ]
    },
    {
      "cell_type": "code",
      "execution_count": 12,
      "metadata": {
        "id": "eAsheI8Shrov"
      },
      "outputs": [],
      "source": [
        "from keras.preprocessing import sequence\n",
        "from keras.models import Sequential\n",
        "from keras.layers import Dense, Dropout, Embedding, LSTM, Bidirectional, SimpleRNN, Flatten"
      ]
    },
    {
      "cell_type": "code",
      "execution_count": 13,
      "metadata": {
        "id": "uhnyXsr3nPoR"
      },
      "outputs": [],
      "source": [
        "features.dropna(inplace=True)"
      ]
    },
    {
      "cell_type": "code",
      "execution_count": 31,
      "metadata": {
        "colab": {
          "base_uri": "https://localhost:8080/"
        },
        "id": "u9K_5aONnTRg",
        "outputId": "466cf5ec-1922-4134-e923-71c2ddd79cee"
      },
      "outputs": [
        {
          "data": {
            "text/plain": [
              "Counter({1: 144225, 2: 200021, 0: 155408})"
            ]
          },
          "execution_count": 31,
          "metadata": {},
          "output_type": "execute_result"
        }
      ],
      "source": [
        "from collections import Counter\n",
        "\n",
        "target_freq = Counter(target)\n",
        "target_freq"
      ]
    },
    {
      "cell_type": "code",
      "execution_count": 15,
      "metadata": {
        "id": "ssSUiVugnwd-"
      },
      "outputs": [],
      "source": [
        "from sklearn.preprocessing import StandardScaler\n",
        "ss = StandardScaler()"
      ]
    },
    {
      "cell_type": "code",
      "execution_count": 16,
      "metadata": {
        "id": "rbWl9HENnwg3"
      },
      "outputs": [],
      "source": [
        "features[[\"alpha_exante\", \"alpha_exante_Q3\", \"vola20_exante\"]] = ss.fit_transform(features[[\"alpha_exante\", \"alpha_exante_Q3\", \"vola20_exante\"]])"
      ]
    },
    {
      "cell_type": "code",
      "execution_count": 17,
      "metadata": {
        "id": "ipyOgJIpo3FZ"
      },
      "outputs": [],
      "source": [
        "# features.drop(\"date\", axis=1, inplace=True)"
      ]
    },
    {
      "cell_type": "code",
      "execution_count": 18,
      "metadata": {
        "colab": {
          "base_uri": "https://localhost:8080/",
          "height": 658
        },
        "id": "xQssnpzHqXKF",
        "outputId": "90922f55-d568-441d-fb3f-863dda5b8aa4"
      },
      "outputs": [
        {
          "data": {
            "text/html": [
              "<div>\n",
              "<style scoped>\n",
              "    .dataframe tbody tr th:only-of-type {\n",
              "        vertical-align: middle;\n",
              "    }\n",
              "\n",
              "    .dataframe tbody tr th {\n",
              "        vertical-align: top;\n",
              "    }\n",
              "\n",
              "    .dataframe thead th {\n",
              "        text-align: right;\n",
              "    }\n",
              "</style>\n",
              "<table border=\"1\" class=\"dataframe\">\n",
              "  <thead>\n",
              "    <tr style=\"text-align: right;\">\n",
              "      <th></th>\n",
              "      <th>date</th>\n",
              "      <th>body_no_entities</th>\n",
              "      <th>alpha_exante</th>\n",
              "      <th>alpha_exante_Q3</th>\n",
              "      <th>vola20_exante</th>\n",
              "      <th>sector_Mat.Basicos, Industria y Construcción</th>\n",
              "      <th>sector_Petróleo y Energía</th>\n",
              "      <th>sector_Servicios Financieros</th>\n",
              "      <th>sector_Servicios Inmobiliarios</th>\n",
              "      <th>sector_Servicios de Consumo</th>\n",
              "      <th>...</th>\n",
              "      <th>subsector_Ingeniería y Otros</th>\n",
              "      <th>subsector_Mineral, Metales y Transformación</th>\n",
              "      <th>subsector_Ocio, Turismo y Hostelería</th>\n",
              "      <th>subsector_Petróleo</th>\n",
              "      <th>subsector_Productos farmaceúticos y Biotecnología</th>\n",
              "      <th>subsector_SOCIMI</th>\n",
              "      <th>subsector_Seguros</th>\n",
              "      <th>subsector_Telecomunicaciones y Otros</th>\n",
              "      <th>subsector_Textil, Vestido y Calzado</th>\n",
              "      <th>subsector_Transporte y Distribución</th>\n",
              "    </tr>\n",
              "    <tr>\n",
              "      <th>pk</th>\n",
              "      <th></th>\n",
              "      <th></th>\n",
              "      <th></th>\n",
              "      <th></th>\n",
              "      <th></th>\n",
              "      <th></th>\n",
              "      <th></th>\n",
              "      <th></th>\n",
              "      <th></th>\n",
              "      <th></th>\n",
              "      <th></th>\n",
              "      <th></th>\n",
              "      <th></th>\n",
              "      <th></th>\n",
              "      <th></th>\n",
              "      <th></th>\n",
              "      <th></th>\n",
              "      <th></th>\n",
              "      <th></th>\n",
              "      <th></th>\n",
              "      <th></th>\n",
              "    </tr>\n",
              "  </thead>\n",
              "  <tbody>\n",
              "    <tr>\n",
              "      <th>1656287707697_43316_IAG</th>\n",
              "      <td>2020-12-31 23:30:00</td>\n",
              "      <td>¿DNI o pasaporte? ¿Hay que pedir visado? ¿Sirv...</td>\n",
              "      <td>-0.505516</td>\n",
              "      <td>4.123273</td>\n",
              "      <td>2.788761</td>\n",
              "      <td>0</td>\n",
              "      <td>0</td>\n",
              "      <td>0</td>\n",
              "      <td>0</td>\n",
              "      <td>1</td>\n",
              "      <td>...</td>\n",
              "      <td>0</td>\n",
              "      <td>0</td>\n",
              "      <td>0</td>\n",
              "      <td>0</td>\n",
              "      <td>0</td>\n",
              "      <td>0</td>\n",
              "      <td>0</td>\n",
              "      <td>0</td>\n",
              "      <td>0</td>\n",
              "      <td>1</td>\n",
              "    </tr>\n",
              "    <tr>\n",
              "      <th>1656287707697_43316_IAG</th>\n",
              "      <td>2020-12-31 23:30:00</td>\n",
              "      <td>Sí. Los pactos alcanzados garantizan la reside...</td>\n",
              "      <td>-0.505516</td>\n",
              "      <td>4.123273</td>\n",
              "      <td>2.788761</td>\n",
              "      <td>0</td>\n",
              "      <td>0</td>\n",
              "      <td>0</td>\n",
              "      <td>0</td>\n",
              "      <td>1</td>\n",
              "      <td>...</td>\n",
              "      <td>0</td>\n",
              "      <td>0</td>\n",
              "      <td>0</td>\n",
              "      <td>0</td>\n",
              "      <td>0</td>\n",
              "      <td>0</td>\n",
              "      <td>0</td>\n",
              "      <td>0</td>\n",
              "      <td>0</td>\n",
              "      <td>1</td>\n",
              "    </tr>\n",
              "    <tr>\n",
              "      <th>1656287707697_43316_IAG</th>\n",
              "      <td>2020-12-31 23:30:00</td>\n",
              "      <td>Sí, hay que solicitar un documento de residenc...</td>\n",
              "      <td>-0.505516</td>\n",
              "      <td>4.123273</td>\n",
              "      <td>2.788761</td>\n",
              "      <td>0</td>\n",
              "      <td>0</td>\n",
              "      <td>0</td>\n",
              "      <td>0</td>\n",
              "      <td>1</td>\n",
              "      <td>...</td>\n",
              "      <td>0</td>\n",
              "      <td>0</td>\n",
              "      <td>0</td>\n",
              "      <td>0</td>\n",
              "      <td>0</td>\n",
              "      <td>0</td>\n",
              "      <td>0</td>\n",
              "      <td>0</td>\n",
              "      <td>0</td>\n",
              "      <td>1</td>\n",
              "    </tr>\n",
              "    <tr>\n",
              "      <th>1656287707697_43316_IAG</th>\n",
              "      <td>2020-12-31 23:30:00</td>\n",
              "      <td>El Acuerdo de Retirada del Reino Unido de la U...</td>\n",
              "      <td>-0.505516</td>\n",
              "      <td>4.123273</td>\n",
              "      <td>2.788761</td>\n",
              "      <td>0</td>\n",
              "      <td>0</td>\n",
              "      <td>0</td>\n",
              "      <td>0</td>\n",
              "      <td>1</td>\n",
              "      <td>...</td>\n",
              "      <td>0</td>\n",
              "      <td>0</td>\n",
              "      <td>0</td>\n",
              "      <td>0</td>\n",
              "      <td>0</td>\n",
              "      <td>0</td>\n",
              "      <td>0</td>\n",
              "      <td>0</td>\n",
              "      <td>0</td>\n",
              "      <td>1</td>\n",
              "    </tr>\n",
              "    <tr>\n",
              "      <th>1656287707697_43316_IAG</th>\n",
              "      <td>2020-12-31 23:30:00</td>\n",
              "      <td>No. Se podrá visitar el país para periodos de ...</td>\n",
              "      <td>-0.505516</td>\n",
              "      <td>4.123273</td>\n",
              "      <td>2.788761</td>\n",
              "      <td>0</td>\n",
              "      <td>0</td>\n",
              "      <td>0</td>\n",
              "      <td>0</td>\n",
              "      <td>1</td>\n",
              "      <td>...</td>\n",
              "      <td>0</td>\n",
              "      <td>0</td>\n",
              "      <td>0</td>\n",
              "      <td>0</td>\n",
              "      <td>0</td>\n",
              "      <td>0</td>\n",
              "      <td>0</td>\n",
              "      <td>0</td>\n",
              "      <td>0</td>\n",
              "      <td>1</td>\n",
              "    </tr>\n",
              "    <tr>\n",
              "      <th>...</th>\n",
              "      <td>...</td>\n",
              "      <td>...</td>\n",
              "      <td>...</td>\n",
              "      <td>...</td>\n",
              "      <td>...</td>\n",
              "      <td>...</td>\n",
              "      <td>...</td>\n",
              "      <td>...</td>\n",
              "      <td>...</td>\n",
              "      <td>...</td>\n",
              "      <td>...</td>\n",
              "      <td>...</td>\n",
              "      <td>...</td>\n",
              "      <td>...</td>\n",
              "      <td>...</td>\n",
              "      <td>...</td>\n",
              "      <td>...</td>\n",
              "      <td>...</td>\n",
              "      <td>...</td>\n",
              "      <td>...</td>\n",
              "      <td>...</td>\n",
              "    </tr>\n",
              "    <tr>\n",
              "      <th>1656404116271_9_CABK</th>\n",
              "      <td>2022-03-11 17:25:00</td>\n",
              "      <td>La acción se desarrolla en espacios emblemátic...</td>\n",
              "      <td>0.096261</td>\n",
              "      <td>1.295796</td>\n",
              "      <td>2.129240</td>\n",
              "      <td>0</td>\n",
              "      <td>0</td>\n",
              "      <td>1</td>\n",
              "      <td>0</td>\n",
              "      <td>0</td>\n",
              "      <td>...</td>\n",
              "      <td>0</td>\n",
              "      <td>0</td>\n",
              "      <td>0</td>\n",
              "      <td>0</td>\n",
              "      <td>0</td>\n",
              "      <td>0</td>\n",
              "      <td>0</td>\n",
              "      <td>0</td>\n",
              "      <td>0</td>\n",
              "      <td>0</td>\n",
              "    </tr>\n",
              "    <tr>\n",
              "      <th>1656404116271_9_CABK</th>\n",
              "      <td>2022-03-11 17:25:00</td>\n",
              "      <td>Igor Cortadellas ha sido el encargado de la di...</td>\n",
              "      <td>0.096261</td>\n",
              "      <td>1.295796</td>\n",
              "      <td>2.129240</td>\n",
              "      <td>0</td>\n",
              "      <td>0</td>\n",
              "      <td>1</td>\n",
              "      <td>0</td>\n",
              "      <td>0</td>\n",
              "      <td>...</td>\n",
              "      <td>0</td>\n",
              "      <td>0</td>\n",
              "      <td>0</td>\n",
              "      <td>0</td>\n",
              "      <td>0</td>\n",
              "      <td>0</td>\n",
              "      <td>0</td>\n",
              "      <td>0</td>\n",
              "      <td>0</td>\n",
              "      <td>0</td>\n",
              "    </tr>\n",
              "    <tr>\n",
              "      <th>1656404116271_9_CABK</th>\n",
              "      <td>2022-03-11 17:25:00</td>\n",
              "      <td>También ha contado con la producción musical d...</td>\n",
              "      <td>0.096261</td>\n",
              "      <td>1.295796</td>\n",
              "      <td>2.129240</td>\n",
              "      <td>0</td>\n",
              "      <td>0</td>\n",
              "      <td>1</td>\n",
              "      <td>0</td>\n",
              "      <td>0</td>\n",
              "      <td>...</td>\n",
              "      <td>0</td>\n",
              "      <td>0</td>\n",
              "      <td>0</td>\n",
              "      <td>0</td>\n",
              "      <td>0</td>\n",
              "      <td>0</td>\n",
              "      <td>0</td>\n",
              "      <td>0</td>\n",
              "      <td>0</td>\n",
              "      <td>0</td>\n",
              "    </tr>\n",
              "    <tr>\n",
              "      <th>1656404116271_9_CABK</th>\n",
              "      <td>2022-03-11 17:25:00</td>\n",
              "      <td>Las ediciones anteriores, #YoCanto Viva la Vid...</td>\n",
              "      <td>0.096261</td>\n",
              "      <td>1.295796</td>\n",
              "      <td>2.129240</td>\n",
              "      <td>0</td>\n",
              "      <td>0</td>\n",
              "      <td>1</td>\n",
              "      <td>0</td>\n",
              "      <td>0</td>\n",
              "      <td>...</td>\n",
              "      <td>0</td>\n",
              "      <td>0</td>\n",
              "      <td>0</td>\n",
              "      <td>0</td>\n",
              "      <td>0</td>\n",
              "      <td>0</td>\n",
              "      <td>0</td>\n",
              "      <td>0</td>\n",
              "      <td>0</td>\n",
              "      <td>0</td>\n",
              "    </tr>\n",
              "    <tr>\n",
              "      <th>1656404116271_9_CABK</th>\n",
              "      <td>2022-03-11 17:25:00</td>\n",
              "      <td>Con esta acción navideña, la Fundación  quiere...</td>\n",
              "      <td>0.096261</td>\n",
              "      <td>1.295796</td>\n",
              "      <td>2.129240</td>\n",
              "      <td>0</td>\n",
              "      <td>0</td>\n",
              "      <td>1</td>\n",
              "      <td>0</td>\n",
              "      <td>0</td>\n",
              "      <td>...</td>\n",
              "      <td>0</td>\n",
              "      <td>0</td>\n",
              "      <td>0</td>\n",
              "      <td>0</td>\n",
              "      <td>0</td>\n",
              "      <td>0</td>\n",
              "      <td>0</td>\n",
              "      <td>0</td>\n",
              "      <td>0</td>\n",
              "      <td>0</td>\n",
              "    </tr>\n",
              "  </tbody>\n",
              "</table>\n",
              "<p>499654 rows × 27 columns</p>\n",
              "</div>"
            ],
            "text/plain": [
              "                                       date  \\\n",
              "pk                                            \n",
              "1656287707697_43316_IAG 2020-12-31 23:30:00   \n",
              "1656287707697_43316_IAG 2020-12-31 23:30:00   \n",
              "1656287707697_43316_IAG 2020-12-31 23:30:00   \n",
              "1656287707697_43316_IAG 2020-12-31 23:30:00   \n",
              "1656287707697_43316_IAG 2020-12-31 23:30:00   \n",
              "...                                     ...   \n",
              "1656404116271_9_CABK    2022-03-11 17:25:00   \n",
              "1656404116271_9_CABK    2022-03-11 17:25:00   \n",
              "1656404116271_9_CABK    2022-03-11 17:25:00   \n",
              "1656404116271_9_CABK    2022-03-11 17:25:00   \n",
              "1656404116271_9_CABK    2022-03-11 17:25:00   \n",
              "\n",
              "                                                          body_no_entities  \\\n",
              "pk                                                                           \n",
              "1656287707697_43316_IAG  ¿DNI o pasaporte? ¿Hay que pedir visado? ¿Sirv...   \n",
              "1656287707697_43316_IAG  Sí. Los pactos alcanzados garantizan la reside...   \n",
              "1656287707697_43316_IAG  Sí, hay que solicitar un documento de residenc...   \n",
              "1656287707697_43316_IAG  El Acuerdo de Retirada del Reino Unido de la U...   \n",
              "1656287707697_43316_IAG  No. Se podrá visitar el país para periodos de ...   \n",
              "...                                                                    ...   \n",
              "1656404116271_9_CABK     La acción se desarrolla en espacios emblemátic...   \n",
              "1656404116271_9_CABK     Igor Cortadellas ha sido el encargado de la di...   \n",
              "1656404116271_9_CABK     También ha contado con la producción musical d...   \n",
              "1656404116271_9_CABK     Las ediciones anteriores, #YoCanto Viva la Vid...   \n",
              "1656404116271_9_CABK     Con esta acción navideña, la Fundación  quiere...   \n",
              "\n",
              "                         alpha_exante  alpha_exante_Q3  vola20_exante  \\\n",
              "pk                                                                      \n",
              "1656287707697_43316_IAG     -0.505516         4.123273       2.788761   \n",
              "1656287707697_43316_IAG     -0.505516         4.123273       2.788761   \n",
              "1656287707697_43316_IAG     -0.505516         4.123273       2.788761   \n",
              "1656287707697_43316_IAG     -0.505516         4.123273       2.788761   \n",
              "1656287707697_43316_IAG     -0.505516         4.123273       2.788761   \n",
              "...                               ...              ...            ...   \n",
              "1656404116271_9_CABK         0.096261         1.295796       2.129240   \n",
              "1656404116271_9_CABK         0.096261         1.295796       2.129240   \n",
              "1656404116271_9_CABK         0.096261         1.295796       2.129240   \n",
              "1656404116271_9_CABK         0.096261         1.295796       2.129240   \n",
              "1656404116271_9_CABK         0.096261         1.295796       2.129240   \n",
              "\n",
              "                         sector_Mat.Basicos, Industria y Construcción  \\\n",
              "pk                                                                      \n",
              "1656287707697_43316_IAG                                             0   \n",
              "1656287707697_43316_IAG                                             0   \n",
              "1656287707697_43316_IAG                                             0   \n",
              "1656287707697_43316_IAG                                             0   \n",
              "1656287707697_43316_IAG                                             0   \n",
              "...                                                               ...   \n",
              "1656404116271_9_CABK                                                0   \n",
              "1656404116271_9_CABK                                                0   \n",
              "1656404116271_9_CABK                                                0   \n",
              "1656404116271_9_CABK                                                0   \n",
              "1656404116271_9_CABK                                                0   \n",
              "\n",
              "                         sector_Petróleo y Energía  \\\n",
              "pk                                                   \n",
              "1656287707697_43316_IAG                          0   \n",
              "1656287707697_43316_IAG                          0   \n",
              "1656287707697_43316_IAG                          0   \n",
              "1656287707697_43316_IAG                          0   \n",
              "1656287707697_43316_IAG                          0   \n",
              "...                                            ...   \n",
              "1656404116271_9_CABK                             0   \n",
              "1656404116271_9_CABK                             0   \n",
              "1656404116271_9_CABK                             0   \n",
              "1656404116271_9_CABK                             0   \n",
              "1656404116271_9_CABK                             0   \n",
              "\n",
              "                         sector_Servicios Financieros  \\\n",
              "pk                                                      \n",
              "1656287707697_43316_IAG                             0   \n",
              "1656287707697_43316_IAG                             0   \n",
              "1656287707697_43316_IAG                             0   \n",
              "1656287707697_43316_IAG                             0   \n",
              "1656287707697_43316_IAG                             0   \n",
              "...                                               ...   \n",
              "1656404116271_9_CABK                                1   \n",
              "1656404116271_9_CABK                                1   \n",
              "1656404116271_9_CABK                                1   \n",
              "1656404116271_9_CABK                                1   \n",
              "1656404116271_9_CABK                                1   \n",
              "\n",
              "                         sector_Servicios Inmobiliarios  \\\n",
              "pk                                                        \n",
              "1656287707697_43316_IAG                               0   \n",
              "1656287707697_43316_IAG                               0   \n",
              "1656287707697_43316_IAG                               0   \n",
              "1656287707697_43316_IAG                               0   \n",
              "1656287707697_43316_IAG                               0   \n",
              "...                                                 ...   \n",
              "1656404116271_9_CABK                                  0   \n",
              "1656404116271_9_CABK                                  0   \n",
              "1656404116271_9_CABK                                  0   \n",
              "1656404116271_9_CABK                                  0   \n",
              "1656404116271_9_CABK                                  0   \n",
              "\n",
              "                         sector_Servicios de Consumo  ...  \\\n",
              "pk                                                    ...   \n",
              "1656287707697_43316_IAG                            1  ...   \n",
              "1656287707697_43316_IAG                            1  ...   \n",
              "1656287707697_43316_IAG                            1  ...   \n",
              "1656287707697_43316_IAG                            1  ...   \n",
              "1656287707697_43316_IAG                            1  ...   \n",
              "...                                              ...  ...   \n",
              "1656404116271_9_CABK                               0  ...   \n",
              "1656404116271_9_CABK                               0  ...   \n",
              "1656404116271_9_CABK                               0  ...   \n",
              "1656404116271_9_CABK                               0  ...   \n",
              "1656404116271_9_CABK                               0  ...   \n",
              "\n",
              "                         subsector_Ingeniería y Otros  \\\n",
              "pk                                                      \n",
              "1656287707697_43316_IAG                             0   \n",
              "1656287707697_43316_IAG                             0   \n",
              "1656287707697_43316_IAG                             0   \n",
              "1656287707697_43316_IAG                             0   \n",
              "1656287707697_43316_IAG                             0   \n",
              "...                                               ...   \n",
              "1656404116271_9_CABK                                0   \n",
              "1656404116271_9_CABK                                0   \n",
              "1656404116271_9_CABK                                0   \n",
              "1656404116271_9_CABK                                0   \n",
              "1656404116271_9_CABK                                0   \n",
              "\n",
              "                         subsector_Mineral, Metales y Transformación  \\\n",
              "pk                                                                     \n",
              "1656287707697_43316_IAG                                            0   \n",
              "1656287707697_43316_IAG                                            0   \n",
              "1656287707697_43316_IAG                                            0   \n",
              "1656287707697_43316_IAG                                            0   \n",
              "1656287707697_43316_IAG                                            0   \n",
              "...                                                              ...   \n",
              "1656404116271_9_CABK                                               0   \n",
              "1656404116271_9_CABK                                               0   \n",
              "1656404116271_9_CABK                                               0   \n",
              "1656404116271_9_CABK                                               0   \n",
              "1656404116271_9_CABK                                               0   \n",
              "\n",
              "                         subsector_Ocio, Turismo y Hostelería  \\\n",
              "pk                                                              \n",
              "1656287707697_43316_IAG                                     0   \n",
              "1656287707697_43316_IAG                                     0   \n",
              "1656287707697_43316_IAG                                     0   \n",
              "1656287707697_43316_IAG                                     0   \n",
              "1656287707697_43316_IAG                                     0   \n",
              "...                                                       ...   \n",
              "1656404116271_9_CABK                                        0   \n",
              "1656404116271_9_CABK                                        0   \n",
              "1656404116271_9_CABK                                        0   \n",
              "1656404116271_9_CABK                                        0   \n",
              "1656404116271_9_CABK                                        0   \n",
              "\n",
              "                         subsector_Petróleo  \\\n",
              "pk                                            \n",
              "1656287707697_43316_IAG                   0   \n",
              "1656287707697_43316_IAG                   0   \n",
              "1656287707697_43316_IAG                   0   \n",
              "1656287707697_43316_IAG                   0   \n",
              "1656287707697_43316_IAG                   0   \n",
              "...                                     ...   \n",
              "1656404116271_9_CABK                      0   \n",
              "1656404116271_9_CABK                      0   \n",
              "1656404116271_9_CABK                      0   \n",
              "1656404116271_9_CABK                      0   \n",
              "1656404116271_9_CABK                      0   \n",
              "\n",
              "                         subsector_Productos farmaceúticos y Biotecnología  \\\n",
              "pk                                                                           \n",
              "1656287707697_43316_IAG                                                  0   \n",
              "1656287707697_43316_IAG                                                  0   \n",
              "1656287707697_43316_IAG                                                  0   \n",
              "1656287707697_43316_IAG                                                  0   \n",
              "1656287707697_43316_IAG                                                  0   \n",
              "...                                                                    ...   \n",
              "1656404116271_9_CABK                                                     0   \n",
              "1656404116271_9_CABK                                                     0   \n",
              "1656404116271_9_CABK                                                     0   \n",
              "1656404116271_9_CABK                                                     0   \n",
              "1656404116271_9_CABK                                                     0   \n",
              "\n",
              "                         subsector_SOCIMI  subsector_Seguros  \\\n",
              "pk                                                             \n",
              "1656287707697_43316_IAG                 0                  0   \n",
              "1656287707697_43316_IAG                 0                  0   \n",
              "1656287707697_43316_IAG                 0                  0   \n",
              "1656287707697_43316_IAG                 0                  0   \n",
              "1656287707697_43316_IAG                 0                  0   \n",
              "...                                   ...                ...   \n",
              "1656404116271_9_CABK                    0                  0   \n",
              "1656404116271_9_CABK                    0                  0   \n",
              "1656404116271_9_CABK                    0                  0   \n",
              "1656404116271_9_CABK                    0                  0   \n",
              "1656404116271_9_CABK                    0                  0   \n",
              "\n",
              "                         subsector_Telecomunicaciones y Otros  \\\n",
              "pk                                                              \n",
              "1656287707697_43316_IAG                                     0   \n",
              "1656287707697_43316_IAG                                     0   \n",
              "1656287707697_43316_IAG                                     0   \n",
              "1656287707697_43316_IAG                                     0   \n",
              "1656287707697_43316_IAG                                     0   \n",
              "...                                                       ...   \n",
              "1656404116271_9_CABK                                        0   \n",
              "1656404116271_9_CABK                                        0   \n",
              "1656404116271_9_CABK                                        0   \n",
              "1656404116271_9_CABK                                        0   \n",
              "1656404116271_9_CABK                                        0   \n",
              "\n",
              "                         subsector_Textil, Vestido y Calzado  \\\n",
              "pk                                                             \n",
              "1656287707697_43316_IAG                                    0   \n",
              "1656287707697_43316_IAG                                    0   \n",
              "1656287707697_43316_IAG                                    0   \n",
              "1656287707697_43316_IAG                                    0   \n",
              "1656287707697_43316_IAG                                    0   \n",
              "...                                                      ...   \n",
              "1656404116271_9_CABK                                       0   \n",
              "1656404116271_9_CABK                                       0   \n",
              "1656404116271_9_CABK                                       0   \n",
              "1656404116271_9_CABK                                       0   \n",
              "1656404116271_9_CABK                                       0   \n",
              "\n",
              "                         subsector_Transporte y Distribución  \n",
              "pk                                                            \n",
              "1656287707697_43316_IAG                                    1  \n",
              "1656287707697_43316_IAG                                    1  \n",
              "1656287707697_43316_IAG                                    1  \n",
              "1656287707697_43316_IAG                                    1  \n",
              "1656287707697_43316_IAG                                    1  \n",
              "...                                                      ...  \n",
              "1656404116271_9_CABK                                       0  \n",
              "1656404116271_9_CABK                                       0  \n",
              "1656404116271_9_CABK                                       0  \n",
              "1656404116271_9_CABK                                       0  \n",
              "1656404116271_9_CABK                                       0  \n",
              "\n",
              "[499654 rows x 27 columns]"
            ]
          },
          "execution_count": 18,
          "metadata": {},
          "output_type": "execute_result"
        }
      ],
      "source": [
        "features = pd.get_dummies(features, columns=[\"sector\", \"subsector\"], drop_first=True)\n",
        "features"
      ]
    },
    {
      "cell_type": "code",
      "execution_count": 19,
      "metadata": {
        "id": "7ViV7qwqrDQg"
      },
      "outputs": [],
      "source": [
        "features.drop(\"body_no_entities\", axis=1, inplace=True)"
      ]
    },
    {
      "cell_type": "code",
      "execution_count": 20,
      "metadata": {
        "colab": {
          "base_uri": "https://localhost:8080/"
        },
        "id": "kO-_3p2hpAaz",
        "outputId": "72c46fd9-7e47-4e81-ef97-9e44a57fb79e"
      },
      "outputs": [
        {
          "data": {
            "text/plain": [
              "date                                                 datetime64[ns]\n",
              "alpha_exante                                                float64\n",
              "alpha_exante_Q3                                             float64\n",
              "vola20_exante                                               float64\n",
              "sector_Mat.Basicos, Industria y Construcción                  uint8\n",
              "sector_Petróleo y Energía                                     uint8\n",
              "sector_Servicios Financieros                                  uint8\n",
              "sector_Servicios Inmobiliarios                                uint8\n",
              "sector_Servicios de Consumo                                   uint8\n",
              "sector_Tecnología y Telecomunicaciones                        uint8\n",
              "subsector_Bancos y Cajas de Ahorro                            uint8\n",
              "subsector_Construcción                                        uint8\n",
              "subsector_Electricidad y Gas                                  uint8\n",
              "subsector_Electrónica y Software                              uint8\n",
              "subsector_Energías Renovables                                 uint8\n",
              "subsector_Fabric. y Montaje Bienes de Equipo                  uint8\n",
              "subsector_Ingeniería y Otros                                  uint8\n",
              "subsector_Mineral, Metales y Transformación                   uint8\n",
              "subsector_Ocio, Turismo y Hostelería                          uint8\n",
              "subsector_Petróleo                                            uint8\n",
              "subsector_Productos farmaceúticos y Biotecnología             uint8\n",
              "subsector_SOCIMI                                              uint8\n",
              "subsector_Seguros                                             uint8\n",
              "subsector_Telecomunicaciones y Otros                          uint8\n",
              "subsector_Textil, Vestido y Calzado                           uint8\n",
              "subsector_Transporte y Distribución                           uint8\n",
              "dtype: object"
            ]
          },
          "execution_count": 20,
          "metadata": {},
          "output_type": "execute_result"
        }
      ],
      "source": [
        "features.dtypes"
      ]
    },
    {
      "cell_type": "code",
      "execution_count": 21,
      "metadata": {
        "colab": {
          "base_uri": "https://localhost:8080/"
        },
        "id": "zaRebDyupWct",
        "outputId": "c0104f67-8b1a-4972-a660-c44e0c2a004e"
      },
      "outputs": [
        {
          "data": {
            "text/plain": [
              "date                                                 datetime64[ns]\n",
              "alpha_exante                                                float32\n",
              "alpha_exante_Q3                                             float32\n",
              "vola20_exante                                               float32\n",
              "sector_Mat.Basicos, Industria y Construcción                  uint8\n",
              "sector_Petróleo y Energía                                     uint8\n",
              "sector_Servicios Financieros                                  uint8\n",
              "sector_Servicios Inmobiliarios                                uint8\n",
              "sector_Servicios de Consumo                                   uint8\n",
              "sector_Tecnología y Telecomunicaciones                        uint8\n",
              "subsector_Bancos y Cajas de Ahorro                            uint8\n",
              "subsector_Construcción                                        uint8\n",
              "subsector_Electricidad y Gas                                  uint8\n",
              "subsector_Electrónica y Software                              uint8\n",
              "subsector_Energías Renovables                                 uint8\n",
              "subsector_Fabric. y Montaje Bienes de Equipo                  uint8\n",
              "subsector_Ingeniería y Otros                                  uint8\n",
              "subsector_Mineral, Metales y Transformación                   uint8\n",
              "subsector_Ocio, Turismo y Hostelería                          uint8\n",
              "subsector_Petróleo                                            uint8\n",
              "subsector_Productos farmaceúticos y Biotecnología             uint8\n",
              "subsector_SOCIMI                                              uint8\n",
              "subsector_Seguros                                             uint8\n",
              "subsector_Telecomunicaciones y Otros                          uint8\n",
              "subsector_Textil, Vestido y Calzado                           uint8\n",
              "subsector_Transporte y Distribución                           uint8\n",
              "dtype: object"
            ]
          },
          "execution_count": 21,
          "metadata": {},
          "output_type": "execute_result"
        }
      ],
      "source": [
        "features.alpha_exante = features.alpha_exante.astype(np.float32)\n",
        "features.alpha_exante_Q3 = features.alpha_exante_Q3.astype(np.float32)\n",
        "features.vola20_exante = features.vola20_exante.astype(np.float32)\n",
        "features.dtypes"
      ]
    },
    {
      "cell_type": "code",
      "execution_count": 25,
      "metadata": {
        "id": "XxC-wC0rrckM"
      },
      "outputs": [],
      "source": [
        "#### MODEL BASIC, reemplazar por el bueno\n",
        "model = Sequential()\n",
        "#-1 porque borramos la fecha\n",
        "model.add(Dense(8, input_dim=features.shape[1] - 1, activation='relu'))\n",
        "model.add(Dense(4, activation='relu'))\n",
        "model.add(Dense(3, activation='softmax'))\n",
        "\n",
        "model.compile(\n",
        "    loss='sparse_categorical_crossentropy',\n",
        "    optimizer='adam',\n",
        "    metrics=['accuracy']\n",
        "  )"
      ]
    },
    {
      "cell_type": "markdown",
      "metadata": {
        "id": "iH2XYgZ1op3A"
      },
      "source": [
        "# FIN REEMPLAZAR TODA ESTA PARTE POR EL VOLA_PARAGRAPH"
      ]
    },
    {
      "cell_type": "markdown",
      "metadata": {
        "id": "b9ufgGj7fLSZ"
      },
      "source": [
        "#### Validación Cruzada con partición lineal.  (Tomas Notebook timeseries_dataset_split)\n",
        "En este caso respetamos la relación temporal de los ejemplos\n",
        "para que no se mezclen en los conjuntos de train/test de forma\n",
        "consecutiva"
      ]
    },
    {
      "cell_type": "code",
      "execution_count": 49,
      "metadata": {
        "colab": {
          "base_uri": "https://localhost:8080/"
        },
        "id": "vAjauLCefLSd",
        "outputId": "2ab7a873-1b76-4979-fccf-f9f1a77fbbba"
      },
      "outputs": [
        {
          "name": "stdout",
          "output_type": "stream",
          "text": [
            "374740 124914\n",
            "[124914 124915 124916 ... 499651 499652 499653] [     0      1      2 ... 124911 124912 124913]\n"
          ]
        },
        {
          "name": "stderr",
          "output_type": "stream",
          "text": [
            "C:\\Users\\Tienda\\AppData\\Local\\Temp/ipykernel_101148/725078521.py:9: SettingWithCopyWarning: \n",
            "A value is trying to be set on a copy of a slice from a DataFrame\n",
            "\n",
            "See the caveats in the documentation: https://pandas.pydata.org/pandas-docs/stable/user_guide/indexing.html#returning-a-view-versus-a-copy\n",
            "  fold_train_x.drop(\"date\", axis=1, inplace=True)\n",
            "C:\\Users\\Tienda\\AppData\\Local\\Temp/ipykernel_101148/725078521.py:14: SettingWithCopyWarning: \n",
            "A value is trying to be set on a copy of a slice from a DataFrame\n",
            "\n",
            "See the caveats in the documentation: https://pandas.pydata.org/pandas-docs/stable/user_guide/indexing.html#returning-a-view-versus-a-copy\n",
            "  fold_test_x.drop(\"date\", axis=1, inplace=True)\n"
          ]
        },
        {
          "name": "stdout",
          "output_type": "stream",
          "text": [
            "374740 124914\n",
            "[     0      1      2 ... 499651 499652 499653] [124914 124915 124916 ... 249825 249826 249827]\n"
          ]
        },
        {
          "name": "stderr",
          "output_type": "stream",
          "text": [
            "C:\\Users\\Tienda\\AppData\\Local\\Temp/ipykernel_101148/725078521.py:9: SettingWithCopyWarning: \n",
            "A value is trying to be set on a copy of a slice from a DataFrame\n",
            "\n",
            "See the caveats in the documentation: https://pandas.pydata.org/pandas-docs/stable/user_guide/indexing.html#returning-a-view-versus-a-copy\n",
            "  fold_train_x.drop(\"date\", axis=1, inplace=True)\n",
            "C:\\Users\\Tienda\\AppData\\Local\\Temp/ipykernel_101148/725078521.py:14: SettingWithCopyWarning: \n",
            "A value is trying to be set on a copy of a slice from a DataFrame\n",
            "\n",
            "See the caveats in the documentation: https://pandas.pydata.org/pandas-docs/stable/user_guide/indexing.html#returning-a-view-versus-a-copy\n",
            "  fold_test_x.drop(\"date\", axis=1, inplace=True)\n"
          ]
        },
        {
          "name": "stdout",
          "output_type": "stream",
          "text": [
            "374741 124913\n",
            "[     0      1      2 ... 499651 499652 499653] [249828 249829 249830 ... 374738 374739 374740]\n"
          ]
        },
        {
          "name": "stderr",
          "output_type": "stream",
          "text": [
            "C:\\Users\\Tienda\\AppData\\Local\\Temp/ipykernel_101148/725078521.py:9: SettingWithCopyWarning: \n",
            "A value is trying to be set on a copy of a slice from a DataFrame\n",
            "\n",
            "See the caveats in the documentation: https://pandas.pydata.org/pandas-docs/stable/user_guide/indexing.html#returning-a-view-versus-a-copy\n",
            "  fold_train_x.drop(\"date\", axis=1, inplace=True)\n",
            "C:\\Users\\Tienda\\AppData\\Local\\Temp/ipykernel_101148/725078521.py:14: SettingWithCopyWarning: \n",
            "A value is trying to be set on a copy of a slice from a DataFrame\n",
            "\n",
            "See the caveats in the documentation: https://pandas.pydata.org/pandas-docs/stable/user_guide/indexing.html#returning-a-view-versus-a-copy\n",
            "  fold_test_x.drop(\"date\", axis=1, inplace=True)\n"
          ]
        },
        {
          "name": "stdout",
          "output_type": "stream",
          "text": [
            "374741 124913\n",
            "[     0      1      2 ... 374738 374739 374740] [374741 374742 374743 ... 499651 499652 499653]\n"
          ]
        },
        {
          "name": "stderr",
          "output_type": "stream",
          "text": [
            "C:\\Users\\Tienda\\AppData\\Local\\Temp/ipykernel_101148/725078521.py:9: SettingWithCopyWarning: \n",
            "A value is trying to be set on a copy of a slice from a DataFrame\n",
            "\n",
            "See the caveats in the documentation: https://pandas.pydata.org/pandas-docs/stable/user_guide/indexing.html#returning-a-view-versus-a-copy\n",
            "  fold_train_x.drop(\"date\", axis=1, inplace=True)\n",
            "C:\\Users\\Tienda\\AppData\\Local\\Temp/ipykernel_101148/725078521.py:14: SettingWithCopyWarning: \n",
            "A value is trying to be set on a copy of a slice from a DataFrame\n",
            "\n",
            "See the caveats in the documentation: https://pandas.pydata.org/pandas-docs/stable/user_guide/indexing.html#returning-a-view-versus-a-copy\n",
            "  fold_test_x.drop(\"date\", axis=1, inplace=True)\n"
          ]
        }
      ],
      "source": [
        "kfold = KFold(n_splits=4, shuffle=False)\n",
        "acc = []\n",
        "\n",
        "for train, test in kfold.split(features):\n",
        "    print(len(train), len(test))\n",
        "    print(train,test)\n",
        "    fold_train_x = features.iloc[train.tolist()]\n",
        "    fold_train_y = target[train.tolist()]\n",
        "    fold_train_x.drop(\"date\", axis=1, inplace=True)\n",
        "    # history = model.fit(fold_train_x, fold_train_y, epochs=1, batch_size=128,  validation_split=0.2)\n",
        "    \n",
        "    fold_test_x = features.iloc[test.tolist()]\n",
        "    fold_test_y = target[test]\n",
        "    fold_test_x.drop(\"date\", axis=1, inplace=True)\n",
        "    # fold_pred_y = model.predict(fold_test_x)\n",
        "    # i_acc = accuracy_score(fold_test_y, fold_pred_y)\n",
        "\n",
        "    # acc.append(i_acc)"
      ]
    },
    {
      "cell_type": "markdown",
      "metadata": {
        "id": "kIRKhXz3fLSf"
      },
      "source": [
        "El accuracy para cada iteracion"
      ]
    },
    {
      "cell_type": "code",
      "execution_count": null,
      "metadata": {
        "colab": {
          "base_uri": "https://localhost:8080/"
        },
        "id": "aZwdP0sZfLSh",
        "outputId": "727f0b92-abec-4ca7-8211-553ac1905500"
      },
      "outputs": [
        {
          "data": {
            "text/plain": [
              "[0.6505684321847184,\n",
              " 0.7289793759915388,\n",
              " 0.7606204829895998,\n",
              " 0.6422527763088313]"
            ]
          },
          "execution_count": 24,
          "metadata": {},
          "output_type": "execute_result"
        }
      ],
      "source": [
        "acc"
      ]
    },
    {
      "cell_type": "code",
      "execution_count": null,
      "metadata": {
        "colab": {
          "base_uri": "https://localhost:8080/"
        },
        "id": "YAd9yoO1fLSk",
        "outputId": "e5366dc0-e33e-49d5-c615-ddcee6d7c8a7"
      },
      "outputs": [
        {
          "data": {
            "text/plain": [
              "0.6956052668686721"
            ]
          },
          "execution_count": 25,
          "metadata": {},
          "output_type": "execute_result"
        }
      ],
      "source": [
        "np.mean(acc)"
      ]
    },
    {
      "cell_type": "markdown",
      "metadata": {
        "id": "luFvrUSps4Vb"
      },
      "source": [
        "## TIME SERIES SPLIT"
      ]
    },
    {
      "cell_type": "code",
      "execution_count": 50,
      "metadata": {
        "colab": {
          "base_uri": "https://localhost:8080/"
        },
        "id": "D9RMPuz9vgqv",
        "outputId": "b21cab67-ecb5-4f69-f294-09b927513706"
      },
      "outputs": [
        {
          "data": {
            "text/plain": [
              "Int64Index([     0,      1,      2,      3,      4,      5,      6,      7,\n",
              "                 8,      9,\n",
              "            ...\n",
              "            499644, 499645, 499646, 499647, 499648, 499649, 499650, 499651,\n",
              "            499652, 499653],\n",
              "           dtype='int64', length=499654)"
            ]
          },
          "execution_count": 50,
          "metadata": {},
          "output_type": "execute_result"
        }
      ],
      "source": [
        "features.reset_index(drop=True, inplace=True)\n",
        "features.index = list(features.index)\n",
        "features.index"
      ]
    },
    {
      "cell_type": "code",
      "execution_count": 52,
      "metadata": {
        "colab": {
          "base_uri": "https://localhost:8080/"
        },
        "id": "iu5tFNAHzvyx",
        "outputId": "72684fb8-32d7-440e-ef13-2bf63c1bb500"
      },
      "outputs": [
        {
          "data": {
            "text/plain": [
              "array([1, 1, 1, ..., 0, 0, 0], dtype=int64)"
            ]
          },
          "execution_count": 52,
          "metadata": {},
          "output_type": "execute_result"
        }
      ],
      "source": [
        "# target.reset_index(drop=True, inplace=True)\n",
        "# target.index = list(target.index)\n",
        "# target.index\n",
        "\n",
        "target"
      ]
    },
    {
      "cell_type": "code",
      "execution_count": 76,
      "metadata": {},
      "outputs": [
        {
          "data": {
            "text/plain": [
              "date\n",
              "2020-12-31       19\n",
              "2021-01-31    44932\n",
              "2021-02-28    40748\n",
              "2021-03-31    43120\n",
              "2021-04-30    38468\n",
              "2021-05-31    45917\n",
              "2021-06-30    50873\n",
              "2021-07-31    43837\n",
              "2021-08-31    26301\n",
              "2021-09-30    41666\n",
              "2021-10-31    45532\n",
              "2021-11-30    44646\n",
              "2021-12-31    33504\n",
              "2022-01-31       80\n",
              "2022-02-28        0\n",
              "2022-03-31       11\n",
              "Freq: M, dtype: int64"
            ]
          },
          "execution_count": 76,
          "metadata": {},
          "output_type": "execute_result"
        }
      ],
      "source": [
        "features.resample(rule='M', on='date').size()"
      ]
    },
    {
      "cell_type": "code",
      "execution_count": 79,
      "metadata": {},
      "outputs": [
        {
          "data": {
            "text/plain": [
              "date\n",
              "2021-01-31    44932\n",
              "2021-02-28    40748\n",
              "2021-03-31    43120\n",
              "2021-04-30    38468\n",
              "2021-05-31    45917\n",
              "2021-06-30    50873\n",
              "2021-07-31    43837\n",
              "2021-08-31    26301\n",
              "2021-09-30    41666\n",
              "2021-10-31    45532\n",
              "2021-11-30    44646\n",
              "2021-12-31    33504\n",
              "Freq: M, dtype: int64"
            ]
          },
          "execution_count": 79,
          "metadata": {},
          "output_type": "execute_result"
        }
      ],
      "source": [
        "features.resample(rule='M', on='date').size().iloc[1:-3]"
      ]
    },
    {
      "cell_type": "code",
      "execution_count": 80,
      "metadata": {},
      "outputs": [
        {
          "data": {
            "text/plain": [
              "41628.666666666664"
            ]
          },
          "execution_count": 80,
          "metadata": {},
          "output_type": "execute_result"
        }
      ],
      "source": [
        "np.mean(features.resample(rule='M', on='date').size().iloc[1:-3])"
      ]
    },
    {
      "cell_type": "code",
      "execution_count": 81,
      "metadata": {},
      "outputs": [
        {
          "data": {
            "text/plain": [
              "41637"
            ]
          },
          "execution_count": 81,
          "metadata": {},
          "output_type": "execute_result"
        }
      ],
      "source": [
        "GAP = features.shape[0] / 12\n",
        "int(GAP)"
      ]
    },
    {
      "cell_type": "code",
      "execution_count": 60,
      "metadata": {
        "colab": {
          "base_uri": "https://localhost:8080/"
        },
        "id": "3khuN_ORgYHv",
        "outputId": "b10c04d9-102c-486a-878a-f1b76ae02443"
      },
      "outputs": [
        {
          "name": "stdout",
          "output_type": "stream",
          "text": [
            "TimeSeriesSplit(gap=41637, max_train_size=None, n_splits=8, test_size=None)\n",
            "TRAIN: [    0     1     2 ... 13878 13879 13880] TEST: [ 55518  55519  55520 ... 111032 111033 111034]\n",
            "TRAIN len: 13881 TEST len: 55517\n",
            "TRAIN dates: 2020-12-31 23:30:00 - 2021-01-12 14:21:14  TEST len: 2021-02-06 23:30:00 - 2021-03-19 04:45:00\n",
            "TRAIN: [    0     1     2 ... 69395 69396 69397] TEST: [111035 111036 111037 ... 166549 166550 166551]\n",
            "TRAIN len: 69398 TEST len: 55517\n",
            "TRAIN dates: 2020-12-31 23:30:00 - 2021-02-17 08:18:01  TEST len: 2021-03-19 06:30:32 - 2021-04-30 10:52:00\n",
            "TRAIN: [     0      1      2 ... 124912 124913 124914] TEST: [166552 166553 166554 ... 222066 222067 222068]\n",
            "TRAIN len: 124915 TEST len: 55517\n",
            "TRAIN dates: 2020-12-31 23:30:00 - 2021-03-29 13:31:00  TEST len: 2021-04-30 10:52:00 - 2021-06-04 22:28:20\n",
            "TRAIN: [     0      1      2 ... 180429 180430 180431] TEST: [222069 222070 222071 ... 277583 277584 277585]\n",
            "TRAIN len: 180432 TEST len: 55517\n",
            "TRAIN dates: 2020-12-31 23:30:00 - 2021-05-10 10:49:00  TEST len: 2021-06-04 22:28:20 - 2021-07-09 16:46:00\n",
            "TRAIN: [     0      1      2 ... 235946 235947 235948] TEST: [277586 277587 277588 ... 333100 333101 333102]\n",
            "TRAIN len: 235949 TEST len: 55517\n",
            "TRAIN dates: 2020-12-31 23:30:00 - 2021-06-14 17:54:00  TEST len: 2021-07-09 16:46:00 - 2021-08-30 12:16:32\n",
            "TRAIN: [     0      1      2 ... 291463 291464 291465] TEST: [333103 333104 333105 ... 388617 388618 388619]\n",
            "TRAIN len: 291466 TEST len: 55517\n",
            "TRAIN dates: 2020-12-31 23:30:00 - 2021-07-20 11:59:00  TEST len: 2021-08-30 12:16:32 - 2021-10-10 11:05:00\n",
            "TRAIN: [     0      1      2 ... 346980 346981 346982] TEST: [388620 388621 388622 ... 444134 444135 444136]\n",
            "TRAIN len: 346983 TEST len: 55517\n",
            "TRAIN dates: 2020-12-31 23:30:00 - 2021-09-10 10:00:00  TEST len: 2021-10-10 11:05:00 - 2021-11-16 11:04:00\n",
            "TRAIN: [     0      1      2 ... 402497 402498 402499] TEST: [444137 444138 444139 ... 499651 499652 499653]\n",
            "TRAIN len: 402500 TEST len: 55517\n",
            "TRAIN dates: 2020-12-31 23:30:00 - 2021-10-20 10:59:37  TEST len: 2021-11-16 11:04:00 - 2022-03-11 17:25:00\n"
          ]
        }
      ],
      "source": [
        "import numpy as np\n",
        "from sklearn.model_selection import TimeSeriesSplit\n",
        "tscv = TimeSeriesSplit(n_splits=8, gap=int(GAP))\n",
        "print(tscv)\n",
        "acc = []\n",
        "\n",
        "for train_index, test_index in tscv.split(features):\n",
        "  print(\"TRAIN:\", train_index, \"TEST:\", test_index)\n",
        "  print(\"TRAIN len:\", len(train_index), \"TEST len:\", len(test_index))\n",
        "  print(f\"TRAIN dates: {features.iloc[train_index[0]].date} - {features.iloc[train_index[-1]].date}  TEST len: {features.iloc[test_index[0]].date} - {features.iloc[test_index[-1]].date}\") \n",
        "  X_train, X_test = features.iloc[train_index], features.iloc[test_index]\n",
        "  y_train, y_test = target[train_index], target[test_index]\n",
        "  # history = model.fit(fold_train_x, fold_train_y, epochs=5, batch_size=128,  validation_split=0.2)\n",
        "  # fold_pred_y = model.predict(fold_test_x)\n",
        "  # i_acc = accuracy_score(fold_test_y, fold_pred_y)\n",
        "  # acc.append(i_acc)"
      ]
    },
    {
      "cell_type": "markdown",
      "metadata": {
        "id": "GCth3A1TxiAK"
      },
      "source": [
        "# BLOCKING TIME SERIES SPLIT"
      ]
    },
    {
      "cell_type": "code",
      "execution_count": 62,
      "metadata": {
        "id": "J92MPFI8gYSl"
      },
      "outputs": [],
      "source": [
        "class BlockingTimeSeriesSplit():\n",
        "    def __init__(self, n_splits):\n",
        "        self.n_splits = n_splits\n",
        "    \n",
        "    def get_n_splits(self, X, y, groups):\n",
        "        return self.n_splits\n",
        "    \n",
        "    def split(self, X, y=None, groups=None):\n",
        "        n_samples = len(X)\n",
        "        k_fold_size = n_samples // self.n_splits\n",
        "        indices = np.arange(n_samples)\n",
        "\n",
        "        margin = 0\n",
        "        for i in range(self.n_splits):\n",
        "            start = i * k_fold_size\n",
        "            stop = start + k_fold_size\n",
        "            mid = int(0.5 * (stop - start)) + start\n",
        "            yield indices[start: mid], indices[mid + margin: stop]"
      ]
    },
    {
      "cell_type": "code",
      "execution_count": 65,
      "metadata": {
        "id": "Voil4odsk8Lv"
      },
      "outputs": [],
      "source": [
        "from more_itertools import windowed\n",
        "import numpy as np\n",
        "import warnings\n",
        "\n",
        "class BlockingTimeSeriesSplit():\n",
        "    def __init__(self,n_splits=5,gap=0,group_fold_size=None):\n",
        "        \"\"\"\n",
        "        Adapted from https://github.com/wajihullahbaig/IEEE-CIS-Fraud-Detection/blob/master/BlockingTimeSeriesSplit.py\n",
        "        with gap and allowed overlap. \n",
        "        \n",
        "        group_fold_size : size of each fold in relation to group\n",
        "        group_fold_size * n_splits >= len(unique(groups)). Set equal if group_fold_size = None. \n",
        "        \"\"\"\n",
        "        self.n_splits = n_splits\n",
        "        self.gap = gap\n",
        "        self.group_fold_size = group_fold_size\n",
        "    \n",
        "    def get_n_splits(self,X,y,groups):\n",
        "        return self.n_splits\n",
        "        \n",
        "    def split(self,X,groups,y=None,test_size=0.2):\n",
        "        \"\"\"\n",
        "        test_size : proportion of fold to use for testing. This will be affected by gap. \n",
        "        \"\"\"\n",
        "        \n",
        "        group_indices = {i:np.where(groups==i) for i in np.unique(groups)}\n",
        "        groups = np.unique(groups)\n",
        "        if self.group_fold_size is None:\n",
        "            group_fold_size = len(groups)//self.n_splits\n",
        "        elif self.group_fold_size > len(groups):\n",
        "            raise AssertionError(f'group_fold_size={self.group_fold_size} is greater than the number of groups ({len(groups)}).')\n",
        "        elif self.group_fold_size * self.n_splits < len(groups):\n",
        "            warnings.warn(f'group_fold_size={self.group_fold_size} is too small for a group of {len(groups)} items. Setting group_fold_size={(len(groups))//self.n_splits}.')\n",
        "            group_fold_size = len(groups)//self.n_splits\n",
        "        else:\n",
        "            group_fold_size = self.group_fold_size\n",
        "            \n",
        "        splits = list(windowed(groups,group_fold_size,step=1))\n",
        "        idx = np.round(np.linspace(0, len(splits)-1, self.n_splits)).astype(int)\n",
        "        splits = [splits[i] for i in idx]\n",
        "        \n",
        "        for idx in splits:\n",
        "            idx = list(filter(None,idx))\n",
        "            mid = int((1-test_size) * len(idx))\n",
        "            group_idx_tr, group_idx_te = idx[0: mid], idx[mid + self.gap: -1]\n",
        "            \n",
        "            if len(group_idx_te) < 1:\n",
        "                break\n",
        "            \n",
        "            tr = np.concatenate([group_indices[gr_i] for gr_i in group_idx_tr],axis=1).ravel()\n",
        "            te = np.concatenate([group_indices[gr_i] for gr_i in group_idx_te],axis=1).ravel()\n",
        "            yield tr,te"
      ]
    },
    {
      "cell_type": "code",
      "execution_count": 66,
      "metadata": {
        "id": "7TJb-RFqyFDQ"
      },
      "outputs": [],
      "source": [
        "btscv = BlockingTimeSeriesSplit(n_splits=8, gap=int(GAP))"
      ]
    },
    {
      "cell_type": "code",
      "execution_count": 67,
      "metadata": {
        "colab": {
          "base_uri": "https://localhost:8080/"
        },
        "id": "B7ZOWHtZyFIj",
        "outputId": "d97e2766-fe01-43e2-8daa-2c972b5683c8"
      },
      "outputs": [],
      "source": [
        "# for train_index, test_index in btscv.split(features):\n",
        "for train_index, test_index in btscv.split(features, groups=df_paragraph['date'].values):\n",
        "  print(\"TRAIN:\", train_index, \"TEST:\", test_index)\n",
        "  print(\"TRAIN len:\", len(train_index), \"TEST len:\", len(test_index))\n",
        "  print(f\"TRAIN dates: {features.iloc[train_index[0]].date} - {features.iloc[train_index[-1]].date}  TEST len: {features.iloc[test_index[0]].date} - {features.iloc[test_index[-1]].date}\")  \n",
        "  X_train, X_test = features.iloc[train_index], features.iloc[test_index]\n",
        "  y_train, y_test = target[train_index], target[test_index]\n",
        "  history = model.fit(fold_train_x, fold_train_y, epochs=5, batch_size=128,  validation_split=0.2)\n",
        "  fold_pred_y = model.predict(fold_test_x)\n",
        "  i_acc = accuracy_score(fold_test_y, fold_pred_y)\n",
        "  acc.append(i_acc)"
      ]
    },
    {
      "cell_type": "markdown",
      "metadata": {
        "id": "-mpzXxdU3nEe"
      },
      "source": [
        "## DIFERENCIAS TimeSeriesSplit VS BlockingTimeSeriesSplit"
      ]
    },
    {
      "cell_type": "code",
      "execution_count": null,
      "metadata": {
        "id": "dCz8wWTT2Nbe"
      },
      "outputs": [],
      "source": [
        "# random data points\n",
        "n_points = 100\n",
        "n_features = 10\n",
        "X = np.random.randn(n_points, n_features)\n",
        "\n",
        "# imbalanced  classes \n",
        "percentiles_classes = [.2, .3, .5]\n",
        "y = np.hstack([[ii] * int(n_points * perc)\n",
        "               for ii, perc in enumerate(percentiles_classes)])"
      ]
    },
    {
      "cell_type": "code",
      "execution_count": null,
      "metadata": {
        "colab": {
          "base_uri": "https://localhost:8080/",
          "height": 206
        },
        "id": "3Y4Xc0pc2U_b",
        "outputId": "f1ab720c-6b80-4017-a789-284f80f241e5"
      },
      "outputs": [
        {
          "data": {
            "text/html": [
              "\n",
              "  <div id=\"df-7241b93f-d97a-4cb5-a0d2-6441606002fc\">\n",
              "    <div class=\"colab-df-container\">\n",
              "      <div>\n",
              "<style scoped>\n",
              "    .dataframe tbody tr th:only-of-type {\n",
              "        vertical-align: middle;\n",
              "    }\n",
              "\n",
              "    .dataframe tbody tr th {\n",
              "        vertical-align: top;\n",
              "    }\n",
              "\n",
              "    .dataframe thead th {\n",
              "        text-align: right;\n",
              "    }\n",
              "</style>\n",
              "<table border=\"1\" class=\"dataframe\">\n",
              "  <thead>\n",
              "    <tr style=\"text-align: right;\">\n",
              "      <th></th>\n",
              "      <th>0</th>\n",
              "      <th>1</th>\n",
              "      <th>2</th>\n",
              "      <th>3</th>\n",
              "      <th>4</th>\n",
              "      <th>5</th>\n",
              "      <th>6</th>\n",
              "      <th>7</th>\n",
              "      <th>8</th>\n",
              "      <th>9</th>\n",
              "    </tr>\n",
              "  </thead>\n",
              "  <tbody>\n",
              "    <tr>\n",
              "      <th>0</th>\n",
              "      <td>1.299618</td>\n",
              "      <td>-0.932668</td>\n",
              "      <td>-0.436054</td>\n",
              "      <td>0.278985</td>\n",
              "      <td>0.703545</td>\n",
              "      <td>0.463889</td>\n",
              "      <td>-0.721523</td>\n",
              "      <td>1.119529</td>\n",
              "      <td>0.070059</td>\n",
              "      <td>0.097947</td>\n",
              "    </tr>\n",
              "    <tr>\n",
              "      <th>1</th>\n",
              "      <td>-0.570674</td>\n",
              "      <td>0.432512</td>\n",
              "      <td>0.501077</td>\n",
              "      <td>-0.041831</td>\n",
              "      <td>0.734792</td>\n",
              "      <td>0.025489</td>\n",
              "      <td>-0.291562</td>\n",
              "      <td>0.111811</td>\n",
              "      <td>-0.748907</td>\n",
              "      <td>1.207558</td>\n",
              "    </tr>\n",
              "    <tr>\n",
              "      <th>2</th>\n",
              "      <td>-1.379002</td>\n",
              "      <td>-0.253216</td>\n",
              "      <td>0.208228</td>\n",
              "      <td>0.884943</td>\n",
              "      <td>0.695196</td>\n",
              "      <td>-2.307482</td>\n",
              "      <td>-0.800776</td>\n",
              "      <td>-0.020255</td>\n",
              "      <td>0.262908</td>\n",
              "      <td>0.596445</td>\n",
              "    </tr>\n",
              "    <tr>\n",
              "      <th>3</th>\n",
              "      <td>-0.954494</td>\n",
              "      <td>-1.044300</td>\n",
              "      <td>-0.245919</td>\n",
              "      <td>-0.821956</td>\n",
              "      <td>1.861995</td>\n",
              "      <td>-1.460460</td>\n",
              "      <td>0.514671</td>\n",
              "      <td>1.573825</td>\n",
              "      <td>-0.110105</td>\n",
              "      <td>0.609980</td>\n",
              "    </tr>\n",
              "    <tr>\n",
              "      <th>4</th>\n",
              "      <td>-0.591604</td>\n",
              "      <td>-0.767522</td>\n",
              "      <td>0.158751</td>\n",
              "      <td>0.320760</td>\n",
              "      <td>0.892157</td>\n",
              "      <td>-1.299261</td>\n",
              "      <td>-0.251371</td>\n",
              "      <td>-0.405879</td>\n",
              "      <td>1.162821</td>\n",
              "      <td>-1.132175</td>\n",
              "    </tr>\n",
              "  </tbody>\n",
              "</table>\n",
              "</div>\n",
              "      <button class=\"colab-df-convert\" onclick=\"convertToInteractive('df-7241b93f-d97a-4cb5-a0d2-6441606002fc')\"\n",
              "              title=\"Convert this dataframe to an interactive table.\"\n",
              "              style=\"display:none;\">\n",
              "        \n",
              "  <svg xmlns=\"http://www.w3.org/2000/svg\" height=\"24px\"viewBox=\"0 0 24 24\"\n",
              "       width=\"24px\">\n",
              "    <path d=\"M0 0h24v24H0V0z\" fill=\"none\"/>\n",
              "    <path d=\"M18.56 5.44l.94 2.06.94-2.06 2.06-.94-2.06-.94-.94-2.06-.94 2.06-2.06.94zm-11 1L8.5 8.5l.94-2.06 2.06-.94-2.06-.94L8.5 2.5l-.94 2.06-2.06.94zm10 10l.94 2.06.94-2.06 2.06-.94-2.06-.94-.94-2.06-.94 2.06-2.06.94z\"/><path d=\"M17.41 7.96l-1.37-1.37c-.4-.4-.92-.59-1.43-.59-.52 0-1.04.2-1.43.59L10.3 9.45l-7.72 7.72c-.78.78-.78 2.05 0 2.83L4 21.41c.39.39.9.59 1.41.59.51 0 1.02-.2 1.41-.59l7.78-7.78 2.81-2.81c.8-.78.8-2.07 0-2.86zM5.41 20L4 18.59l7.72-7.72 1.47 1.35L5.41 20z\"/>\n",
              "  </svg>\n",
              "      </button>\n",
              "      \n",
              "  <style>\n",
              "    .colab-df-container {\n",
              "      display:flex;\n",
              "      flex-wrap:wrap;\n",
              "      gap: 12px;\n",
              "    }\n",
              "\n",
              "    .colab-df-convert {\n",
              "      background-color: #E8F0FE;\n",
              "      border: none;\n",
              "      border-radius: 50%;\n",
              "      cursor: pointer;\n",
              "      display: none;\n",
              "      fill: #1967D2;\n",
              "      height: 32px;\n",
              "      padding: 0 0 0 0;\n",
              "      width: 32px;\n",
              "    }\n",
              "\n",
              "    .colab-df-convert:hover {\n",
              "      background-color: #E2EBFA;\n",
              "      box-shadow: 0px 1px 2px rgba(60, 64, 67, 0.3), 0px 1px 3px 1px rgba(60, 64, 67, 0.15);\n",
              "      fill: #174EA6;\n",
              "    }\n",
              "\n",
              "    [theme=dark] .colab-df-convert {\n",
              "      background-color: #3B4455;\n",
              "      fill: #D2E3FC;\n",
              "    }\n",
              "\n",
              "    [theme=dark] .colab-df-convert:hover {\n",
              "      background-color: #434B5C;\n",
              "      box-shadow: 0px 1px 3px 1px rgba(0, 0, 0, 0.15);\n",
              "      filter: drop-shadow(0px 1px 2px rgba(0, 0, 0, 0.3));\n",
              "      fill: #FFFFFF;\n",
              "    }\n",
              "  </style>\n",
              "\n",
              "      <script>\n",
              "        const buttonEl =\n",
              "          document.querySelector('#df-7241b93f-d97a-4cb5-a0d2-6441606002fc button.colab-df-convert');\n",
              "        buttonEl.style.display =\n",
              "          google.colab.kernel.accessAllowed ? 'block' : 'none';\n",
              "\n",
              "        async function convertToInteractive(key) {\n",
              "          const element = document.querySelector('#df-7241b93f-d97a-4cb5-a0d2-6441606002fc');\n",
              "          const dataTable =\n",
              "            await google.colab.kernel.invokeFunction('convertToInteractive',\n",
              "                                                     [key], {});\n",
              "          if (!dataTable) return;\n",
              "\n",
              "          const docLinkHtml = 'Like what you see? Visit the ' +\n",
              "            '<a target=\"_blank\" href=https://colab.research.google.com/notebooks/data_table.ipynb>data table notebook</a>'\n",
              "            + ' to learn more about interactive tables.';\n",
              "          element.innerHTML = '';\n",
              "          dataTable['output_type'] = 'display_data';\n",
              "          await google.colab.output.renderOutput(dataTable, element);\n",
              "          const docLink = document.createElement('div');\n",
              "          docLink.innerHTML = docLinkHtml;\n",
              "          element.appendChild(docLink);\n",
              "        }\n",
              "      </script>\n",
              "    </div>\n",
              "  </div>\n",
              "  "
            ],
            "text/plain": [
              "          0         1         2         3         4         5         6  \\\n",
              "0  1.299618 -0.932668 -0.436054  0.278985  0.703545  0.463889 -0.721523   \n",
              "1 -0.570674  0.432512  0.501077 -0.041831  0.734792  0.025489 -0.291562   \n",
              "2 -1.379002 -0.253216  0.208228  0.884943  0.695196 -2.307482 -0.800776   \n",
              "3 -0.954494 -1.044300 -0.245919 -0.821956  1.861995 -1.460460  0.514671   \n",
              "4 -0.591604 -0.767522  0.158751  0.320760  0.892157 -1.299261 -0.251371   \n",
              "\n",
              "          7         8         9  \n",
              "0  1.119529  0.070059  0.097947  \n",
              "1  0.111811 -0.748907  1.207558  \n",
              "2 -0.020255  0.262908  0.596445  \n",
              "3  1.573825 -0.110105  0.609980  \n",
              "4 -0.405879  1.162821 -1.132175  "
            ]
          },
          "execution_count": 33,
          "metadata": {},
          "output_type": "execute_result"
        }
      ],
      "source": [
        "X = pd.DataFrame(X)\n",
        "X.head()"
      ]
    },
    {
      "cell_type": "code",
      "execution_count": null,
      "metadata": {
        "id": "EOGPjLgY2jxM"
      },
      "outputs": [],
      "source": [
        "df = X.copy()\n",
        "df['class'] = y"
      ]
    },
    {
      "cell_type": "code",
      "execution_count": null,
      "metadata": {
        "colab": {
          "base_uri": "https://localhost:8080/"
        },
        "id": "ofEusv8i2fqQ",
        "outputId": "4c16ccd1-4f22-4eb8-c0b7-b21bd55f146d"
      },
      "outputs": [
        {
          "data": {
            "text/plain": [
              "array([0, 0, 0, 0, 0, 0, 0, 0, 0, 0, 0, 0, 0, 0, 0, 0, 0, 0, 0, 0, 1, 1,\n",
              "       1, 1, 1, 1, 1, 1, 1, 1, 1, 1, 1, 1, 1, 1, 1, 1, 1, 1, 1, 1, 1, 1,\n",
              "       1, 1, 1, 1, 1, 1, 2, 2, 2, 2, 2, 2, 2, 2, 2, 2, 2, 2, 2, 2, 2, 2,\n",
              "       2, 2, 2, 2, 2, 2, 2, 2, 2, 2, 2, 2, 2, 2, 2, 2, 2, 2, 2, 2, 2, 2,\n",
              "       2, 2, 2, 2, 2, 2, 2, 2, 2, 2, 2, 2])"
            ]
          },
          "execution_count": 35,
          "metadata": {},
          "output_type": "execute_result"
        }
      ],
      "source": [
        "y"
      ]
    },
    {
      "cell_type": "code",
      "execution_count": null,
      "metadata": {
        "id": "cy9g4HPKyFRa"
      },
      "outputs": [],
      "source": [
        "def plot_cv_indices(cv, X, y, ax, n_splits, lw=10):\n",
        "    \"\"\"Create a sample plot for indices of a cross-validation object.\"\"\"\n",
        "\n",
        "    # Generate the training/testing visualizations for each CV split\n",
        "    for ii, (tr, tt) in enumerate(cv.split(X=X, y=y, groups=None)):\n",
        "        # Fill in indices with the training/test groups\n",
        "        indices = np.array([np.nan] * len(X))\n",
        "        indices[tt] = 1\n",
        "        indices[tr] = 0\n",
        "\n",
        "        # Visualize the results\n",
        "        ax.scatter(range(len(indices)), [ii + .5] * len(indices),\n",
        "                   c=indices, marker='_', lw=lw, cmap=cmap_cv,\n",
        "                   vmin=-.2, vmax=1.2)\n",
        "        \n",
        "    # Plot the data classes and groups at the end\n",
        "    ax.scatter(range(len(X)), [ii + 1.5] * len(X),\n",
        "               c=y, marker='_', lw=lw, cmap=cmap_data)\n",
        "\n",
        "    # Formatting\n",
        "    yticklabels = list(range(n_splits)) + ['class']\n",
        "    ax.set(yticks=np.arange(n_splits+2) + .5, yticklabels=yticklabels,\n",
        "           xlabel='Sample index', ylabel=\"CV iteration\",\n",
        "           ylim=[n_splits+1.2, -.1], xlim=[0, 100])\n",
        "    ax.set_title('{}'.format(type(cv).__name__), fontsize=15)\n",
        "    return ax"
      ]
    },
    {
      "cell_type": "code",
      "execution_count": null,
      "metadata": {
        "id": "WLzIuruYyYGl"
      },
      "outputs": [],
      "source": [
        "cmap_data = plt.cm.Paired\n",
        "cmap_cv = plt.cm.coolwarm\n",
        "n_splits = 5"
      ]
    },
    {
      "cell_type": "code",
      "execution_count": null,
      "metadata": {
        "id": "WIgOxQfBylx8"
      },
      "outputs": [],
      "source": [
        "from matplotlib.patches import Patch"
      ]
    },
    {
      "cell_type": "code",
      "execution_count": null,
      "metadata": {
        "colab": {
          "base_uri": "https://localhost:8080/",
          "height": 721
        },
        "id": "za_8ula4fLSm",
        "outputId": "01e97bd9-9ea6-476f-dd88-ca2dac018a6e"
      },
      "outputs": [
        {
          "data": {
            "image/png": "[encoded data removed]",
            "text/plain": [
              "<Figure size 720x360 with 1 Axes>"
            ]
          },
          "metadata": {
            "needs_background": "light"
          },
          "output_type": "display_data"
        },
        {
          "data": {
            "image/png": "[encoded data removed]",
            "text/plain": [
              "<Figure size 720x360 with 1 Axes>"
            ]
          },
          "metadata": {
            "needs_background": "light"
          },
          "output_type": "display_data"
        }
      ],
      "source": [
        "cvs = [TimeSeriesSplit, BlockingTimeSeriesSplit]\n",
        "\n",
        "for cv in cvs:\n",
        "    this_cv = cv(n_splits=n_splits)\n",
        "    fig, ax = plt.subplots(figsize=(10, 5))\n",
        "    plot_cv_indices(this_cv, X, y, ax, n_splits)\n",
        "\n",
        "    ax.legend([Patch(color=cmap_cv(.8)), Patch(color=cmap_cv(.02))],\n",
        "            ['Testing set', 'Training set'], loc=(1.02, .8))\n",
        "    plt.tight_layout()\n",
        "    fig.subplots_adjust(right=.7)\n",
        "        \n",
        "plt.show()"
      ]
    },
    {
      "cell_type": "code",
      "execution_count": null,
      "metadata": {
        "id": "j6pEPYXI2tam"
      },
      "outputs": [],
      "source": []
    },
    {
      "cell_type": "code",
      "execution_count": null,
      "metadata": {
        "id": "qCtFAENCbIp7"
      },
      "outputs": [],
      "source": []
    },
    {
      "cell_type": "markdown",
      "metadata": {
        "id": "O4gOCworbJFL"
      },
      "source": [
        "# SKTIME"
      ]
    },
    {
      "cell_type": "code",
      "execution_count": null,
      "metadata": {
        "colab": {
          "base_uri": "https://localhost:8080/"
        },
        "id": "dIy5-ire6qtJ",
        "outputId": "a0c4d811-77b7-48d3-c95b-707cf8cc56a8"
      },
      "outputs": [
        {
          "name": "stdout",
          "output_type": "stream",
          "text": [
            "Looking in indexes: https://pypi.org/simple, https://us-python.pkg.dev/colab-wheels/public/simple/\n",
            "Requirement already satisfied: sktime in /usr/local/lib/python3.7/dist-packages (0.12.1)\n",
            "Requirement already satisfied: deprecated>=1.2.13 in /usr/local/lib/python3.7/dist-packages (from sktime) (1.2.13)\n",
            "Requirement already satisfied: numba>=0.53 in /usr/local/lib/python3.7/dist-packages (from sktime) (0.55.2)\n",
            "Requirement already satisfied: statsmodels>=0.12.1 in /usr/local/lib/python3.7/dist-packages (from sktime) (0.13.2)\n",
            "Requirement already satisfied: scikit-learn<1.2.0,>=0.24.0 in /usr/local/lib/python3.7/dist-packages (from sktime) (1.0.2)\n",
            "Requirement already satisfied: scipy<1.9.0 in /usr/local/lib/python3.7/dist-packages (from sktime) (1.4.1)\n",
            "Requirement already satisfied: pandas<1.5.0,>=1.1.0 in /usr/local/lib/python3.7/dist-packages (from sktime) (1.3.5)\n",
            "Requirement already satisfied: numpy<1.22,>=1.21.0 in /usr/local/lib/python3.7/dist-packages (from sktime) (1.21.6)\n",
            "Requirement already satisfied: wrapt<2,>=1.10 in /usr/local/lib/python3.7/dist-packages (from deprecated>=1.2.13->sktime) (1.14.1)\n",
            "Requirement already satisfied: setuptools in /usr/local/lib/python3.7/dist-packages (from numba>=0.53->sktime) (57.4.0)\n",
            "Requirement already satisfied: llvmlite<0.39,>=0.38.0rc1 in /usr/local/lib/python3.7/dist-packages (from numba>=0.53->sktime) (0.38.1)\n",
            "Requirement already satisfied: python-dateutil>=2.7.3 in /usr/local/lib/python3.7/dist-packages (from pandas<1.5.0,>=1.1.0->sktime) (2.8.2)\n",
            "Requirement already satisfied: pytz>=2017.3 in /usr/local/lib/python3.7/dist-packages (from pandas<1.5.0,>=1.1.0->sktime) (2022.1)\n",
            "Requirement already satisfied: six>=1.5 in /usr/local/lib/python3.7/dist-packages (from python-dateutil>=2.7.3->pandas<1.5.0,>=1.1.0->sktime) (1.15.0)\n",
            "Requirement already satisfied: threadpoolctl>=2.0.0 in /usr/local/lib/python3.7/dist-packages (from scikit-learn<1.2.0,>=0.24.0->sktime) (3.1.0)\n",
            "Requirement already satisfied: joblib>=0.11 in /usr/local/lib/python3.7/dist-packages (from scikit-learn<1.2.0,>=0.24.0->sktime) (1.1.0)\n",
            "Requirement already satisfied: packaging>=21.3 in /usr/local/lib/python3.7/dist-packages (from statsmodels>=0.12.1->sktime) (21.3)\n",
            "Requirement already satisfied: patsy>=0.5.2 in /usr/local/lib/python3.7/dist-packages (from statsmodels>=0.12.1->sktime) (0.5.2)\n",
            "Requirement already satisfied: pyparsing!=3.0.5,>=2.0.2 in /usr/local/lib/python3.7/dist-packages (from packaging>=21.3->statsmodels>=0.12.1->sktime) (3.0.9)\n"
          ]
        }
      ],
      "source": [
        "pip install sktime"
      ]
    },
    {
      "cell_type": "code",
      "execution_count": null,
      "metadata": {
        "id": "Sgukbcq26qwW"
      },
      "outputs": [],
      "source": [
        "from warnings import simplefilter\n",
        "\n",
        "import matplotlib.pyplot as plt\n",
        "import numpy as np\n",
        "import seaborn as sns\n",
        "from matplotlib.ticker import MaxNLocator\n",
        "\n",
        "from sktime.datasets import load_airline\n",
        "from sktime.forecasting.base import ForecastingHorizon\n",
        "from sktime.forecasting.model_selection import (\n",
        "    CutoffSplitter,\n",
        "    ExpandingWindowSplitter,\n",
        "    SingleWindowSplitter,\n",
        "    SlidingWindowSplitter,\n",
        "    temporal_train_test_split,\n",
        ")\n",
        "from sktime.utils.plotting import plot_series"
      ]
    },
    {
      "cell_type": "code",
      "execution_count": null,
      "metadata": {
        "id": "pEyhlQxL61XK"
      },
      "outputs": [],
      "source": [
        "def plot_windows(y, train_windows, test_windows, title=\"\"):\n",
        "    \"\"\"Visualize training and test windows\"\"\"\n",
        "\n",
        "    simplefilter(\"ignore\", category=UserWarning)\n",
        "\n",
        "    def get_y(length, split):\n",
        "        # Create a constant vector based on the split for y-axis.\"\"\"\n",
        "        return np.ones(length) * split\n",
        "\n",
        "    n_splits = len(train_windows)\n",
        "    n_timepoints = len(y)\n",
        "    len_test = len(test_windows[0])\n",
        "\n",
        "    train_color, test_color = sns.color_palette(\"colorblind\")[:2]\n",
        "\n",
        "    fig, ax = plt.subplots(figsize=plt.figaspect(0.3))\n",
        "\n",
        "    for i in range(n_splits):\n",
        "        train = train_windows[i]\n",
        "        test = test_windows[i]\n",
        "\n",
        "        ax.plot(\n",
        "            np.arange(n_timepoints), get_y(n_timepoints, i), marker=\"o\", c=\"lightgray\"\n",
        "        )\n",
        "        ax.plot(\n",
        "            train,\n",
        "            get_y(len(train), i),\n",
        "            marker=\"o\",\n",
        "            c=train_color,\n",
        "            label=\"Window\",\n",
        "        )\n",
        "        ax.plot(\n",
        "            test,\n",
        "            get_y(len_test, i),\n",
        "            marker=\"o\",\n",
        "            c=test_color,\n",
        "            label=\"Forecasting horizon\",\n",
        "        )\n",
        "    ax.invert_yaxis()\n",
        "    ax.yaxis.set_major_locator(MaxNLocator(integer=True))\n",
        "    ax.set(\n",
        "        title=title,\n",
        "        ylabel=\"Window number\",\n",
        "        xlabel=\"Time\",\n",
        "        xticklabels=y.index,\n",
        "    )\n",
        "    # remove duplicate labels/handles\n",
        "    handles, labels = [(leg[:2]) for leg in ax.get_legend_handles_labels()]\n",
        "    ax.legend(handles, labels);"
      ]
    },
    {
      "cell_type": "code",
      "execution_count": null,
      "metadata": {
        "id": "IYTcPnGB7A7E"
      },
      "outputs": [],
      "source": [
        "window_length = 5\n",
        "fh = ForecastingHorizon([1, 2, 3])"
      ]
    },
    {
      "cell_type": "code",
      "execution_count": null,
      "metadata": {
        "id": "Ok3JJZtphy9g"
      },
      "outputs": [],
      "source": [
        "y = target.iloc[:10]"
      ]
    },
    {
      "cell_type": "markdown",
      "metadata": {
        "id": "azK6ykC2bEDj"
      },
      "source": [
        "#### SingleWindowSplitter"
      ]
    },
    {
      "cell_type": "code",
      "execution_count": null,
      "metadata": {
        "colab": {
          "base_uri": "https://localhost:8080/"
        },
        "id": "5edt03Ct7BfU",
        "outputId": "9b15e0fe-d18e-45ca-faac-01bd0124742a"
      },
      "outputs": [
        {
          "name": "stdout",
          "output_type": "stream",
          "text": [
            "Number of Folds = 1\n"
          ]
        }
      ],
      "source": [
        "cv = SingleWindowSplitter(window_length=window_length, fh=fh)\n",
        "n_splits = cv.get_n_splits(y)\n",
        "print(f\"Number of Folds = {n_splits}\")"
      ]
    },
    {
      "cell_type": "code",
      "execution_count": null,
      "metadata": {
        "id": "cjYHqNuv7BlL"
      },
      "outputs": [],
      "source": [
        "def get_windows(y, cv):\n",
        "    \"\"\"Generate windows\"\"\"\n",
        "    train_windows = []\n",
        "    test_windows = []\n",
        "    for i, (train, test) in enumerate(cv.split(y)):\n",
        "        train_windows.append(train)\n",
        "        test_windows.append(test)\n",
        "    return train_windows, test_windows"
      ]
    },
    {
      "cell_type": "code",
      "execution_count": null,
      "metadata": {
        "colab": {
          "base_uri": "https://localhost:8080/",
          "height": 279
        },
        "id": "0WTxIoQi61ax",
        "outputId": "eeafd5c8-de69-4f11-a4f4-369ceba73482"
      },
      "outputs": [
        {
          "data": {
            "image/png": "[encoded data removed]",
            "text/plain": [
              "<Figure size 960x288 with 1 Axes>"
            ]
          },
          "metadata": {
            "needs_background": "light"
          },
          "output_type": "display_data"
        }
      ],
      "source": [
        "train_windows, test_windows = get_windows(y, cv)\n",
        "plot_windows(y, train_windows, test_windows)"
      ]
    },
    {
      "cell_type": "markdown",
      "metadata": {
        "id": "w_sqsLdpbeFW"
      },
      "source": [
        "### SlidingWindowSplitter"
      ]
    },
    {
      "cell_type": "code",
      "execution_count": null,
      "metadata": {
        "colab": {
          "base_uri": "https://localhost:8080/"
        },
        "id": "noF1DoAI7Sr8",
        "outputId": "13f4210d-80b0-40c8-fd68-144383774b11"
      },
      "outputs": [
        {
          "name": "stdout",
          "output_type": "stream",
          "text": [
            "Number of Folds = 3\n"
          ]
        }
      ],
      "source": [
        "cv = SlidingWindowSplitter(window_length=window_length, fh=fh)\n",
        "\n",
        "n_splits = cv.get_n_splits(y)\n",
        "print(f\"Number of Folds = {n_splits}\")"
      ]
    },
    {
      "cell_type": "code",
      "execution_count": null,
      "metadata": {
        "colab": {
          "base_uri": "https://localhost:8080/",
          "height": 279
        },
        "id": "E7S2PZaabkUw",
        "outputId": "2ef2203f-ec6d-491a-906b-50850f8a23c5"
      },
      "outputs": [
        {
          "data": {
            "image/png": "[encoded data removed]",
            "text/plain": [
              "<Figure size 960x288 with 1 Axes>"
            ]
          },
          "metadata": {
            "needs_background": "light"
          },
          "output_type": "display_data"
        }
      ],
      "source": [
        "train_windows, test_windows = get_windows(y, cv)\n",
        "plot_windows(y, train_windows, test_windows)"
      ]
    },
    {
      "cell_type": "markdown",
      "metadata": {
        "id": "v3zOeT3QborO"
      },
      "source": [
        "### ExpandingWindowSplitter"
      ]
    },
    {
      "cell_type": "code",
      "execution_count": null,
      "metadata": {
        "colab": {
          "base_uri": "https://localhost:8080/"
        },
        "id": "eNQssT1_boFn",
        "outputId": "16b0378d-c4cc-4b6c-e0ba-95cb340b3599"
      },
      "outputs": [
        {
          "name": "stdout",
          "output_type": "stream",
          "text": [
            "Number of Folds = 3\n"
          ]
        }
      ],
      "source": [
        "cv = ExpandingWindowSplitter(initial_window=window_length, fh=fh)\n",
        "\n",
        "n_splits = cv.get_n_splits(y)\n",
        "print(f\"Number of Folds = {n_splits}\")"
      ]
    },
    {
      "cell_type": "code",
      "execution_count": null,
      "metadata": {
        "colab": {
          "base_uri": "https://localhost:8080/",
          "height": 279
        },
        "id": "wrFY2zpiboIn",
        "outputId": "e5f573bd-f554-44be-9cb9-936a0b4db01d"
      },
      "outputs": [
        {
          "data": {
            "image/png": "[encoded data removed]",
            "text/plain": [
              "<Figure size 960x288 with 1 Axes>"
            ]
          },
          "metadata": {
            "needs_background": "light"
          },
          "output_type": "display_data"
        }
      ],
      "source": [
        "train_windows, test_windows = get_windows(y, cv)\n",
        "plot_windows(y, train_windows, test_windows)"
      ]
    },
    {
      "cell_type": "markdown",
      "metadata": {
        "id": "ykke85wncMJY"
      },
      "source": [
        "### CutoffSplitter"
      ]
    },
    {
      "cell_type": "code",
      "execution_count": null,
      "metadata": {
        "colab": {
          "base_uri": "https://localhost:8080/"
        },
        "id": "SlDjTy_OcKbI",
        "outputId": "b6c27689-9c46-419b-e2c6-0a51bfd93f00"
      },
      "outputs": [
        {
          "name": "stdout",
          "output_type": "stream",
          "text": [
            "Number of Folds = 4\n"
          ]
        }
      ],
      "source": [
        "cutoffs = np.array([10, 13, 15, 25])\n",
        "\n",
        "cv = CutoffSplitter(cutoffs=cutoffs, window_length=window_length, fh=fh)\n",
        "\n",
        "n_splits = cv.get_n_splits(y)\n",
        "print(f\"Number of Folds = {n_splits}\")"
      ]
    },
    {
      "cell_type": "code",
      "execution_count": null,
      "metadata": {
        "colab": {
          "base_uri": "https://localhost:8080/",
          "height": 279
        },
        "id": "fX4f-irWcKjZ",
        "outputId": "179f30f4-c205-4ab7-cfa6-7583637134ac"
      },
      "outputs": [
        {
          "data": {
            "image/png": "[encoded data removed]",
            "text/plain": [
              "<Figure size 960x288 with 1 Axes>"
            ]
          },
          "metadata": {
            "needs_background": "light"
          },
          "output_type": "display_data"
        }
      ],
      "source": [
        "train_windows, test_windows = get_windows(target.iloc[:30], cv)\n",
        "plot_windows(target.iloc[:30], train_windows, test_windows)"
      ]
    }
  ],
  "metadata": {
    "accelerator": "GPU",
    "colab": {
      "collapsed_sections": [],
      "machine_shape": "hm",
      "name": "timeseries_dataset_split.ipynb",
      "provenance": []
    },
    "gpuClass": "standard",
    "kernelspec": {
      "display_name": "Python 3.10.4 ('myenv': venv)",
      "language": "python",
      "name": "python3"
    },
    "language_info": {
      "codemirror_mode": {
        "name": "ipython",
        "version": 3
      },
      "file_extension": ".py",
      "mimetype": "text/x-python",
      "name": "python",
      "nbconvert_exporter": "python",
      "pygments_lexer": "ipython3",
      "version": "3.10.4"
    },
    "vscode": {
      "interpreter": {
        "hash": "7dcd78e7f5f0ad0a315c204891a8b52a5a941e827d459c7091e7f1bb656e120f"
      }
    }
  },
  "nbformat": 4,
  "nbformat_minor": 0
}
