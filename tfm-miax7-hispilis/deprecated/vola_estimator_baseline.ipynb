{
  "cells": [
    {
      "cell_type": "code",
      "execution_count": 2,
      "metadata": {
        "id": "HwC84Z9SmLlN"
      },
      "outputs": [],
      "source": [
        "import json\n",
        "from dataclasses import dataclass, field\n",
        "from typing import Optional\n",
        "\n",
        "import matplotlib.pyplot as plt\n",
        "import numpy as np\n",
        "import pandas as pd\n",
        "from scipy.special import softmax\n",
        "from sklearn.metrics import (\n",
        "    auc,\n",
        "    confusion_matrix,\n",
        "    f1_score,\n",
        "    matthews_corrcoef,\n",
        "    precision_recall_curve,\n",
        "    roc_auc_score,\n",
        "    roc_curve,\n",
        ")\n",
        "from sklearn.preprocessing import StandardScaler\n",
        "import tensorflow as tf\n",
        "from tensorflow.keras.models import Sequential\n",
        "from tensorflow.keras.layers import Dense"
      ]
    },
    {
      "cell_type": "code",
      "execution_count": 3,
      "metadata": {
        "id": "fs2hBjgu20qw"
      },
      "outputs": [],
      "source": [
        "filepath = \"tfm/outputs/dataset_news_total_no\" # Filepath COLAB\n",
        "filepath = \"https://storage.googleapis.com/tfm_aideas_datasets/dataset_news_total_no\""
      ]
    },
    {
      "cell_type": "code",
      "execution_count": 4,
      "metadata": {
        "colab": {
          "base_uri": "https://localhost:8080/"
        },
        "id": "me43VPH_20qx",
        "outputId": "a99235ac-4a55-4e63-d7de-7665e783d15e"
      },
      "outputs": [
        {
          "output_type": "execute_result",
          "data": {
            "text/plain": [
              "(241553, 42)"
            ]
          },
          "metadata": {},
          "execution_count": 4
        }
      ],
      "source": [
        "labeled_df = pd.read_csv(f\"{filepath}_filters.csv\", sep=\";\", index_col=0, parse_dates=[\"date\"], low_memory=False, lineterminator=\"\\n\")\n",
        "labeled_df.shape"
      ]
    },
    {
      "cell_type": "code",
      "execution_count": 5,
      "metadata": {
        "id": "O00OWrANS1l9"
      },
      "outputs": [],
      "source": [
        "labeled_df.sort_values(by=[\"date\"], inplace=True)"
      ]
    },
    {
      "cell_type": "code",
      "execution_count": 6,
      "metadata": {
        "colab": {
          "base_uri": "https://localhost:8080/"
        },
        "id": "NWJvkaAclOp6",
        "outputId": "e3a4f28c-6173-42d6-b6da-20ad81f165a8"
      },
      "outputs": [
        {
          "output_type": "execute_result",
          "data": {
            "text/plain": [
              "(1564,)"
            ]
          },
          "metadata": {},
          "execution_count": 6
        }
      ],
      "source": [
        "# Se excluye topic_classifier debido al gran número de etiquetas:\n",
        "labeled_df.topic_classifier.unique().shape"
      ]
    },
    {
      "cell_type": "code",
      "execution_count": 7,
      "metadata": {
        "colab": {
          "base_uri": "https://localhost:8080/"
        },
        "id": "0CwNqQZs0CqC",
        "outputId": "15be4a66-e463-4aaa-8561-c3bed1836b21"
      },
      "outputs": [
        {
          "output_type": "execute_result",
          "data": {
            "text/plain": [
              "count    241551.000000\n",
              "mean          0.207312\n",
              "std           0.200667\n",
              "min           0.001001\n",
              "25%           0.040703\n",
              "50%           0.136108\n",
              "75%           0.320792\n",
              "max           0.988306\n",
              "Name: finanzas_tag_s_proba, dtype: float64"
            ]
          },
          "metadata": {},
          "execution_count": 7
        }
      ],
      "source": [
        "labeled_df.finanzas_tag_s_proba.describe()"
      ]
    },
    {
      "cell_type": "code",
      "execution_count": 8,
      "metadata": {
        "colab": {
          "base_uri": "https://localhost:8080/",
          "height": 282
        },
        "id": "fg4RA_zUQq34",
        "outputId": "843641f8-6d94-4c8f-f100-1e58d28ee4a5"
      },
      "outputs": [
        {
          "output_type": "execute_result",
          "data": {
            "text/plain": [
              "<matplotlib.axes._subplots.AxesSubplot at 0x7ff462d24f90>"
            ]
          },
          "metadata": {},
          "execution_count": 8
        },
        {
          "output_type": "display_data",
          "data": {
            "text/plain": [
              "<Figure size 432x288 with 1 Axes>"
            ],
            "image/png": "[encoded data removed]"
          },
          "metadata": {
            "needs_background": "light"
          }
        }
      ],
      "source": [
        "labeled_df.finanzas_tag_s_proba.hist()"
      ]
    },
    {
      "cell_type": "code",
      "execution_count": 9,
      "metadata": {
        "id": "0EotEPXhzr8U"
      },
      "outputs": [],
      "source": [
        "labeled_df = labeled_df[(labeled_df.finanzas_tag_s_proba>=0.045)&(labeled_df.impacto_tag_s_proba>=0.15)]"
      ]
    },
    {
      "cell_type": "code",
      "execution_count": 10,
      "metadata": {
        "colab": {
          "base_uri": "https://localhost:8080/"
        },
        "id": "MPVGz6JdUc-S",
        "outputId": "62e54474-edfb-442d-c575-c40acd30c2b3"
      },
      "outputs": [
        {
          "output_type": "execute_result",
          "data": {
            "text/plain": [
              "(156140, 42)"
            ]
          },
          "metadata": {},
          "execution_count": 10
        }
      ],
      "source": [
        "labeled_df.shape"
      ]
    },
    {
      "cell_type": "code",
      "execution_count": 11,
      "metadata": {
        "colab": {
          "base_uri": "https://localhost:8080/"
        },
        "id": "dMvXvtQPpOPA",
        "outputId": "e91c5b0f-12c5-4291-d96d-ad272257de57"
      },
      "outputs": [
        {
          "output_type": "execute_result",
          "data": {
            "text/plain": [
              "count    156140.000000\n",
              "mean          0.345730\n",
              "std           0.121607\n",
              "min           0.150002\n",
              "25%           0.254161\n",
              "50%           0.327005\n",
              "75%           0.421857\n",
              "max           0.887281\n",
              "Name: impacto_tag_s_proba, dtype: float64"
            ]
          },
          "metadata": {},
          "execution_count": 11
        }
      ],
      "source": [
        "labeled_df.impacto_tag_s_proba.describe()"
      ]
    },
    {
      "cell_type": "code",
      "execution_count": 12,
      "metadata": {
        "colab": {
          "base_uri": "https://localhost:8080/",
          "height": 282
        },
        "id": "sqjyIbNipSNu",
        "outputId": "1b0f1685-af56-47b5-85ae-27dbe63ec02d"
      },
      "outputs": [
        {
          "output_type": "execute_result",
          "data": {
            "text/plain": [
              "<matplotlib.axes._subplots.AxesSubplot at 0x7ff462c57550>"
            ]
          },
          "metadata": {},
          "execution_count": 12
        },
        {
          "output_type": "display_data",
          "data": {
            "text/plain": [
              "<Figure size 432x288 with 1 Axes>"
            ],
            "image/png": "[encoded data removed]"
          },
          "metadata": {
            "needs_background": "light"
          }
        }
      ],
      "source": [
        "labeled_df.impacto_tag_s_proba.hist()"
      ]
    },
    {
      "cell_type": "code",
      "execution_count": 13,
      "metadata": {
        "id": "XidUZHJiXXBt"
      },
      "outputs": [],
      "source": [
        "# labeled_df = labeled_df[labeled_df.finanzas_tag_s_proba > 0.5]\n",
        "# labeled_df = labeled_df[labeled_df.intensidad > 2]"
      ]
    },
    {
      "cell_type": "code",
      "execution_count": 14,
      "metadata": {
        "colab": {
          "base_uri": "https://localhost:8080/"
        },
        "id": "O9vTjZnoUmT7",
        "outputId": "83f1fd9b-184f-4ba0-a26e-43a52d2adaf3"
      },
      "outputs": [
        {
          "output_type": "execute_result",
          "data": {
            "text/plain": [
              "(156140, 42)"
            ]
          },
          "metadata": {},
          "execution_count": 14
        }
      ],
      "source": [
        "labeled_df.shape"
      ]
    },
    {
      "cell_type": "code",
      "execution_count": 15,
      "metadata": {
        "colab": {
          "base_uri": "https://localhost:8080/"
        },
        "id": "Jrvj22qymLlP",
        "outputId": "46f67b0f-3cd3-4f55-d921-06ce0f6420e4"
      },
      "outputs": [
        {
          "output_type": "execute_result",
          "data": {
            "text/plain": [
              " 1.0    0.398258\n",
              "-1.0    0.305457\n",
              " 0.0    0.296285\n",
              "Name: vola_label, dtype: float64"
            ]
          },
          "metadata": {},
          "execution_count": 15
        }
      ],
      "source": [
        "labeled_df.vola_label.value_counts()/labeled_df.vola_label.count()"
      ]
    },
    {
      "cell_type": "code",
      "execution_count": 16,
      "metadata": {
        "colab": {
          "base_uri": "https://localhost:8080/"
        },
        "id": "CCdJvZcBQyID",
        "outputId": "f41aebac-46dd-47ba-c0c1-19817ade67cd"
      },
      "outputs": [
        {
          "output_type": "execute_result",
          "data": {
            "text/plain": [
              "['date',\n",
              " 'title',\n",
              " 'url',\n",
              " 'body',\n",
              " 'tags',\n",
              " 'resource',\n",
              " 'ticker',\n",
              " 'ticker_name',\n",
              " 'sector',\n",
              " 'subsector',\n",
              " 'ticker_freq',\n",
              " 'ticker_first',\n",
              " 'ticker_title',\n",
              " 'tickers',\n",
              " 'entities',\n",
              " 'topic_classifier',\n",
              " 'topics',\n",
              " 'finanzas_prob',\n",
              " 'sector_in_topics',\n",
              " 'intensidad',\n",
              " 'rd_activo_news',\n",
              " 'rd_bench_news',\n",
              " 'alpha_exante',\n",
              " 'alpha_exante_Q1',\n",
              " 'alpha_exante_below_Q1',\n",
              " 'alpha_exante_Q3',\n",
              " 'alpha_exante_above_Q3',\n",
              " 'vola20_exante',\n",
              " 'vola20_expost',\n",
              " 'vola20_antepost_pct_change',\n",
              " 'vola20_umbral_Q1',\n",
              " 'vola20_umbral_abs_Q1',\n",
              " 'vola20_umbral_Q3',\n",
              " 'vola20_umbral_abs_Q3',\n",
              " 'vola_label',\n",
              " 'vola_label_abs',\n",
              " 'body_no_entities',\n",
              " 'title_no_entities',\n",
              " 'impacto_tag_s_n',\n",
              " 'impacto_tag_s_proba',\n",
              " 'finanzas_tag_s_n',\n",
              " 'finanzas_tag_s_proba']"
            ]
          },
          "metadata": {},
          "execution_count": 16
        }
      ],
      "source": [
        "labeled_df.columns.to_list()"
      ]
    },
    {
      "cell_type": "code",
      "execution_count": 20,
      "metadata": {
        "id": "AvgPdZgaBYyY"
      },
      "outputs": [],
      "source": [
        "include_cols = [\n",
        " 'date', # antes del entrenamiento se elimina\n",
        "#  'title',\n",
        "#  'url',\n",
        "#  'body',\n",
        "#  'tags',\n",
        " 'resource', # antes del entrenamiento se elimina\n",
        " 'ticker', # antes del entrenamiento se elimina\n",
        "#  'ticker_name',\n",
        " 'sector',\n",
        "#  'subsector',\n",
        " 'ticker_freq',\n",
        " 'ticker_first',\n",
        " 'ticker_title',\n",
        "#  'tickers',\n",
        "#  'entities',\n",
        "#  'topic_classifier',\n",
        "#  'topics',\n",
        " 'finanzas_prob',\n",
        " 'sector_in_topics',\n",
        "#  'intensidad',\n",
        "#  'rd_activo_news',\n",
        "#  'rd_bench_news',\n",
        " 'alpha_exante',\n",
        " 'alpha_exante_Q1',\n",
        " 'alpha_exante_below_Q1',\n",
        " 'alpha_exante_Q3',\n",
        " 'alpha_exante_above_Q3',\n",
        " 'vola20_exante',\n",
        "#  'vola20_expost',\n",
        "#  'vola20_antepost_pct_change',\n",
        "#  'vola20_umbral_Q1',\n",
        "#  'vola20_umbral_abs_Q1',\n",
        "#  'vola20_umbral_Q3',\n",
        "#  'vola20_umbral_abs_Q3',\n",
        " 'vola_label',\n",
        "#  'vola_label_abs',\n",
        "#  'body_no_entities',\n",
        " 'title_no_entities',\n",
        "#  'impacto_tag_s_n',\n",
        " 'impacto_tag_s_proba',\n",
        "#  'finanzas_tag_s_n',\n",
        " 'finanzas_tag_s_proba'\n",
        " ]"
      ]
    },
    {
      "cell_type": "code",
      "execution_count": 22,
      "metadata": {
        "id": "H-V8-WWdhhiT"
      },
      "outputs": [],
      "source": [
        "# labeled_df.topic_tag_news = labeled_df.topic_tag_news.replace(topics_equivalence)"
      ]
    },
    {
      "cell_type": "code",
      "execution_count": 24,
      "metadata": {
        "id": "bR8vOK2d2xx0"
      },
      "outputs": [],
      "source": [
        "convert_types = {\n",
        " 'alpha_exante': 'float64',\n",
        " 'alpha_exante_Q1': 'float64',\n",
        " 'alpha_exante_Q3': 'float64',\n",
        " 'alpha_exante_above_Q3': 'bool',\n",
        " 'alpha_exante_below_Q1': 'bool',\n",
        " 'title_no_entities': 'object',\n",
        " 'date': 'datetime64[ns]',\n",
        " 'finanzas_prob': 'float64',\n",
        " 'finanzas_tag_s_proba': 'float64',\n",
        " 'impacto_tag_s_proba': 'float64',\n",
        " 'sector': 'object',\n",
        " 'sector_in_topics': 'bool',\n",
        " 'ticker_first': 'bool',\n",
        " 'ticker_freq': 'int64',\n",
        " 'ticker_title': 'bool',\n",
        " 'vola20_exante': 'float64',\n",
        " 'vola_label': 'int8'\n",
        " }"
      ]
    },
    {
      "cell_type": "code",
      "execution_count": 25,
      "metadata": {
        "id": "LrSjT2lVywsP"
      },
      "outputs": [],
      "source": [
        "to_standardize = [\n",
        "#  'date',\n",
        "#  'sector',\n",
        " 'ticker_freq',\n",
        "#  'ticker_first',\n",
        "#  'ticker_title',\n",
        "#  'finanzas_prob',\n",
        "#  'sector_in_topics',\n",
        " 'alpha_exante',\n",
        " 'alpha_exante_Q1',\n",
        "#  'alpha_exante_below_Q1',\n",
        " 'alpha_exante_Q3',\n",
        "#  'alpha_exante_above_Q3',\n",
        " 'vola20_exante',\n",
        "#  'vola_label',\n",
        "#  'body_no_entities',\n",
        "#  'impacto_tag_s_proba',\n",
        "#  'finanzas_tag_s_proba'\n",
        " ]"
      ]
    },
    {
      "cell_type": "code",
      "execution_count": 26,
      "metadata": {
        "id": "UQY0U6EYnXoV"
      },
      "outputs": [],
      "source": [
        "labeled_df = labeled_df.astype(convert_types)"
      ]
    },
    {
      "cell_type": "code",
      "execution_count": 27,
      "metadata": {
        "id": "IGJvi1ComLla"
      },
      "outputs": [],
      "source": [
        "# Generando las las dummies:\n",
        "labeled_df = pd.get_dummies(labeled_df, columns=[\"sector\"], drop_first=True, dtype=\"bool\")"
      ]
    },
    {
      "cell_type": "code",
      "execution_count": 28,
      "metadata": {
        "id": "WCLJ4m4vh-LB"
      },
      "outputs": [],
      "source": [
        "labeled_df.vola_label = labeled_df.vola_label + 1"
      ]
    },
    {
      "cell_type": "code",
      "execution_count": 30,
      "metadata": {
        "id": "ixImQhFloM9E"
      },
      "outputs": [],
      "source": [
        "#Revisar KFold con el movimiento del train split\n",
        "features = labeled_df.copy()"
      ]
    },
    {
      "cell_type": "code",
      "source": [
        "labeled_df.loc[:,labeled_df.dtypes == bool] = labeled_df.loc[:,labeled_df.dtypes == bool].astype(\"float64\")"
      ],
      "metadata": {
        "id": "pBvz7qgYt2jW"
      },
      "execution_count": 31,
      "outputs": []
    },
    {
      "cell_type": "code",
      "execution_count": 32,
      "metadata": {
        "id": "cGfSKHepgHPx"
      },
      "outputs": [],
      "source": [
        "# Separando los datos de train con los de validación y test con un mes de tiempo\n",
        "threshold_train = int(labeled_df.shape[0]*0.8)\n",
        "paragraphs_month = labeled_df.resample(\"M\", on=\"date\").title_no_entities.count()\n",
        "mask = paragraphs_month.cumsum() < threshold_train\n",
        "train_split = paragraphs_month.cumsum()[mask][-1]\n",
        "val_split = paragraphs_month.cumsum()[~mask][0]\n",
        "test_split = val_split + int((labeled_df.shape[0]-val_split)/2)\n",
        "train = labeled_df.iloc[:train_split]\n",
        "val = labeled_df.iloc[val_split:test_split]\n",
        "test = labeled_df.iloc[test_split:]"
      ]
    },
    {
      "cell_type": "code",
      "execution_count": 33,
      "metadata": {
        "colab": {
          "base_uri": "https://localhost:8080/"
        },
        "id": "996R54VAfls2",
        "outputId": "f0244742-cec3-4332-9364-1475cd036723"
      },
      "outputs": [
        {
          "output_type": "stream",
          "name": "stderr",
          "text": [
            "/usr/local/lib/python3.7/dist-packages/ipykernel_launcher.py:1: SettingWithCopyWarning: \n",
            "A value is trying to be set on a copy of a slice from a DataFrame.\n",
            "Try using .loc[row_indexer,col_indexer] = value instead\n",
            "\n",
            "See the caveats in the documentation: https://pandas.pydata.org/pandas-docs/stable/user_guide/indexing.html#returning-a-view-versus-a-copy\n",
            "  \"\"\"Entry point for launching an IPython kernel.\n",
            "/usr/local/lib/python3.7/dist-packages/pandas/core/frame.py:4913: SettingWithCopyWarning: \n",
            "A value is trying to be set on a copy of a slice from a DataFrame\n",
            "\n",
            "See the caveats in the documentation: https://pandas.pydata.org/pandas-docs/stable/user_guide/indexing.html#returning-a-view-versus-a-copy\n",
            "  errors=errors,\n"
          ]
        }
      ],
      "source": [
        "train['date_agg'] = train.date.dt.date\n",
        "#Nos quedamos con las noticias que han publicado solamente 1 vez en el dia en el mismo media para un ticker para evitar noticias contradictorias\n",
        "df_grpby = train.groupby(['date_agg','ticker','resource'])\n",
        "df_agg = df_grpby.agg({'ticker':'count'})\n",
        "df_agg = df_agg[df_agg.ticker==1]\n",
        "train = pd.merge(train, df_agg,  how='inner', left_on=['date_agg','ticker','resource'], right_index=True)\n",
        "train.drop('ticker_x', axis=1, inplace=True)\n",
        "train.drop('date_agg', axis=1, inplace=True)\n",
        "train.drop('ticker_y', axis=1, inplace=True)\n",
        "train.drop([\"date\", \"ticker\",\"resource\"], axis=1, inplace=True)\n",
        "val.drop([\"date\", \"ticker\",\"resource\"], axis=1, inplace=True)\n",
        "test.drop([\"date\", \"ticker\",\"resource\"], axis=1, inplace=True)"
      ]
    },
    {
      "cell_type": "code",
      "source": [
        "y_train = train.vola_label.copy()\n",
        "y_val = val.vola_label.copy()\n",
        "y_test = test.vola_label.copy()"
      ],
      "metadata": {
        "id": "YhXAO2bXq-oC"
      },
      "execution_count": 34,
      "outputs": []
    },
    {
      "cell_type": "code",
      "execution_count": 35,
      "metadata": {
        "colab": {
          "base_uri": "https://localhost:8080/"
        },
        "id": "UlMRyo0PgaLH",
        "outputId": "1003a824-8cf8-4893-9ecf-88a1569c61d0"
      },
      "outputs": [
        {
          "output_type": "execute_result",
          "data": {
            "text/plain": [
              "2    0.401569\n",
              "1    0.310202\n",
              "0    0.288229\n",
              "Name: vola_label, dtype: float64"
            ]
          },
          "metadata": {},
          "execution_count": 35
        }
      ],
      "source": [
        "train.vola_label.value_counts()/train.vola_label.count()"
      ]
    },
    {
      "cell_type": "code",
      "source": [
        "x_train = train.drop(columns=[\"vola_label\", \"title_no_entities\"])\n",
        "x_val = val.drop(columns=[\"vola_label\", \"title_no_entities\"])\n",
        "x_test = test.drop(columns=[\"vola_label\", \"title_no_entities\"])"
      ],
      "metadata": {
        "id": "TLaVwbMsrQ8P"
      },
      "execution_count": 36,
      "outputs": []
    },
    {
      "cell_type": "code",
      "execution_count": 37,
      "metadata": {
        "id": "-1TKx7IBmLla"
      },
      "outputs": [],
      "source": [
        "ss = StandardScaler()"
      ]
    },
    {
      "cell_type": "code",
      "execution_count": 38,
      "metadata": {
        "id": "7wOhaN3hmLlb"
      },
      "outputs": [],
      "source": [
        "x_train[to_standardize] = ss.fit_transform(x_train[to_standardize])"
      ]
    },
    {
      "cell_type": "code",
      "execution_count": 39,
      "metadata": {
        "id": "L8IlCnqfg-hI"
      },
      "outputs": [],
      "source": [
        "x_val[to_standardize] = ss.transform(x_val[to_standardize])"
      ]
    },
    {
      "cell_type": "code",
      "execution_count": 40,
      "metadata": {
        "id": "VYcdbgddhAeQ"
      },
      "outputs": [],
      "source": [
        "x_test[to_standardize] = ss.transform(x_test[to_standardize])"
      ]
    },
    {
      "cell_type": "markdown",
      "metadata": {
        "id": "yl08G3RymLlc"
      },
      "source": [
        "Probar en cambiar el combine_feat_method de acuerdo con las siguientes modalidades:\n",
        "https://multimodal-toolkit.readthedocs.io/en/latest/notes/combine_methods.html"
      ]
    },
    {
      "cell_type": "code",
      "execution_count": 44,
      "metadata": {
        "id": "qCZOhnShc-nI"
      },
      "outputs": [],
      "source": [
        "# N_EPOCAS = 10\n",
        "N_EPOCAS = 100"
      ]
    },
    {
      "cell_type": "code",
      "source": [
        "model = Sequential()\n",
        "model.add(Dense(8, input_dim=x_train.shape[1], activation='relu'))\n",
        "model.add(Dense(4, activation='relu'))\n",
        "model.add(Dense(3, activation='softmax'))\n",
        "\n",
        "model.compile(\n",
        "    loss='sparse_categorical_crossentropy',\n",
        "    optimizer='adam',\n",
        "    metrics=['accuracy']\n",
        "  )\n",
        "\n",
        "history = model.fit(x_train.values, y_train.values, epochs=N_EPOCAS, batch_size=128, validation_data = (x_val.values, y_val.values), shuffle=False)"
      ],
      "metadata": {
        "colab": {
          "base_uri": "https://localhost:8080/"
        },
        "id": "yXEwDDdCr0Z4",
        "outputId": "c509dc75-d3da-4e4c-bb84-63ca45054562"
      },
      "execution_count": 47,
      "outputs": [
        {
          "output_type": "stream",
          "name": "stdout",
          "text": [
            "Epoch 1/100\n",
            "270/270 [==============================] - 3s 4ms/step - loss: 1.0940 - accuracy: 0.4009 - val_loss: 1.0939 - val_accuracy: 0.4048\n",
            "Epoch 2/100\n",
            "270/270 [==============================] - 1s 3ms/step - loss: 1.0902 - accuracy: 0.4016 - val_loss: 1.0903 - val_accuracy: 0.4048\n",
            "Epoch 3/100\n",
            "270/270 [==============================] - 1s 3ms/step - loss: 1.0892 - accuracy: 0.4016 - val_loss: 1.0892 - val_accuracy: 0.4048\n",
            "Epoch 4/100\n",
            "270/270 [==============================] - 1s 3ms/step - loss: 1.0888 - accuracy: 0.4016 - val_loss: 1.0886 - val_accuracy: 0.4048\n",
            "Epoch 5/100\n",
            "270/270 [==============================] - 1s 3ms/step - loss: 1.0885 - accuracy: 0.4016 - val_loss: 1.0883 - val_accuracy: 0.4048\n",
            "Epoch 6/100\n",
            "270/270 [==============================] - 1s 3ms/step - loss: 1.0884 - accuracy: 0.4016 - val_loss: 1.0882 - val_accuracy: 0.4048\n",
            "Epoch 7/100\n",
            "270/270 [==============================] - 1s 3ms/step - loss: 1.0883 - accuracy: 0.4016 - val_loss: 1.0881 - val_accuracy: 0.4048\n",
            "Epoch 8/100\n",
            "270/270 [==============================] - 1s 3ms/step - loss: 1.0882 - accuracy: 0.4016 - val_loss: 1.0881 - val_accuracy: 0.4048\n",
            "Epoch 9/100\n",
            "270/270 [==============================] - 1s 3ms/step - loss: 1.0882 - accuracy: 0.4016 - val_loss: 1.0881 - val_accuracy: 0.4048\n",
            "Epoch 10/100\n",
            "270/270 [==============================] - 1s 3ms/step - loss: 1.0881 - accuracy: 0.4016 - val_loss: 1.0881 - val_accuracy: 0.4048\n",
            "Epoch 11/100\n",
            "270/270 [==============================] - 1s 3ms/step - loss: 1.0881 - accuracy: 0.4016 - val_loss: 1.0881 - val_accuracy: 0.4048\n",
            "Epoch 12/100\n",
            "270/270 [==============================] - 1s 3ms/step - loss: 1.0881 - accuracy: 0.4016 - val_loss: 1.0882 - val_accuracy: 0.4048\n",
            "Epoch 13/100\n",
            "270/270 [==============================] - 1s 3ms/step - loss: 1.0880 - accuracy: 0.4015 - val_loss: 1.0882 - val_accuracy: 0.4048\n",
            "Epoch 14/100\n",
            "270/270 [==============================] - 1s 3ms/step - loss: 1.0880 - accuracy: 0.4015 - val_loss: 1.0882 - val_accuracy: 0.4048\n",
            "Epoch 15/100\n",
            "270/270 [==============================] - 1s 3ms/step - loss: 1.0879 - accuracy: 0.4015 - val_loss: 1.0882 - val_accuracy: 0.4048\n",
            "Epoch 16/100\n",
            "270/270 [==============================] - 1s 3ms/step - loss: 1.0879 - accuracy: 0.4015 - val_loss: 1.0883 - val_accuracy: 0.4048\n",
            "Epoch 17/100\n",
            "270/270 [==============================] - 2s 6ms/step - loss: 1.0879 - accuracy: 0.4015 - val_loss: 1.0883 - val_accuracy: 0.4048\n",
            "Epoch 18/100\n",
            "270/270 [==============================] - 1s 3ms/step - loss: 1.0878 - accuracy: 0.4015 - val_loss: 1.0883 - val_accuracy: 0.4048\n",
            "Epoch 19/100\n",
            "270/270 [==============================] - 1s 3ms/step - loss: 1.0878 - accuracy: 0.4015 - val_loss: 1.0884 - val_accuracy: 0.4048\n",
            "Epoch 20/100\n",
            "270/270 [==============================] - 1s 3ms/step - loss: 1.0877 - accuracy: 0.4015 - val_loss: 1.0885 - val_accuracy: 0.4048\n",
            "Epoch 21/100\n",
            "270/270 [==============================] - 1s 3ms/step - loss: 1.0877 - accuracy: 0.4015 - val_loss: 1.0885 - val_accuracy: 0.4048\n",
            "Epoch 22/100\n",
            "270/270 [==============================] - 1s 3ms/step - loss: 1.0877 - accuracy: 0.4015 - val_loss: 1.0886 - val_accuracy: 0.4048\n",
            "Epoch 23/100\n",
            "270/270 [==============================] - 1s 3ms/step - loss: 1.0876 - accuracy: 0.4015 - val_loss: 1.0886 - val_accuracy: 0.4048\n",
            "Epoch 24/100\n",
            "270/270 [==============================] - 1s 3ms/step - loss: 1.0876 - accuracy: 0.4015 - val_loss: 1.0886 - val_accuracy: 0.4048\n",
            "Epoch 25/100\n",
            "270/270 [==============================] - 1s 3ms/step - loss: 1.0876 - accuracy: 0.4016 - val_loss: 1.0887 - val_accuracy: 0.4048\n",
            "Epoch 26/100\n",
            "270/270 [==============================] - 1s 3ms/step - loss: 1.0875 - accuracy: 0.4017 - val_loss: 1.0887 - val_accuracy: 0.4048\n",
            "Epoch 27/100\n",
            "270/270 [==============================] - 1s 3ms/step - loss: 1.0875 - accuracy: 0.4017 - val_loss: 1.0887 - val_accuracy: 0.4048\n",
            "Epoch 28/100\n",
            "270/270 [==============================] - 1s 3ms/step - loss: 1.0875 - accuracy: 0.4017 - val_loss: 1.0888 - val_accuracy: 0.4048\n",
            "Epoch 29/100\n",
            "270/270 [==============================] - 1s 3ms/step - loss: 1.0874 - accuracy: 0.4017 - val_loss: 1.0888 - val_accuracy: 0.4050\n",
            "Epoch 30/100\n",
            "270/270 [==============================] - 1s 3ms/step - loss: 1.0874 - accuracy: 0.4018 - val_loss: 1.0888 - val_accuracy: 0.4049\n",
            "Epoch 31/100\n",
            "270/270 [==============================] - 1s 3ms/step - loss: 1.0874 - accuracy: 0.4018 - val_loss: 1.0888 - val_accuracy: 0.4049\n",
            "Epoch 32/100\n",
            "270/270 [==============================] - 1s 3ms/step - loss: 1.0874 - accuracy: 0.4018 - val_loss: 1.0889 - val_accuracy: 0.4049\n",
            "Epoch 33/100\n",
            "270/270 [==============================] - 1s 3ms/step - loss: 1.0873 - accuracy: 0.4019 - val_loss: 1.0889 - val_accuracy: 0.4050\n",
            "Epoch 34/100\n",
            "270/270 [==============================] - 1s 3ms/step - loss: 1.0873 - accuracy: 0.4020 - val_loss: 1.0889 - val_accuracy: 0.4049\n",
            "Epoch 35/100\n",
            "270/270 [==============================] - 1s 3ms/step - loss: 1.0873 - accuracy: 0.4020 - val_loss: 1.0889 - val_accuracy: 0.4049\n",
            "Epoch 36/100\n",
            "270/270 [==============================] - 1s 3ms/step - loss: 1.0873 - accuracy: 0.4020 - val_loss: 1.0890 - val_accuracy: 0.4049\n",
            "Epoch 37/100\n",
            "270/270 [==============================] - 1s 3ms/step - loss: 1.0873 - accuracy: 0.4020 - val_loss: 1.0890 - val_accuracy: 0.4050\n",
            "Epoch 38/100\n",
            "270/270 [==============================] - 1s 3ms/step - loss: 1.0872 - accuracy: 0.4020 - val_loss: 1.0890 - val_accuracy: 0.4050\n",
            "Epoch 39/100\n",
            "270/270 [==============================] - 1s 3ms/step - loss: 1.0872 - accuracy: 0.4021 - val_loss: 1.0891 - val_accuracy: 0.4049\n",
            "Epoch 40/100\n",
            "270/270 [==============================] - 1s 3ms/step - loss: 1.0872 - accuracy: 0.4021 - val_loss: 1.0891 - val_accuracy: 0.4050\n",
            "Epoch 41/100\n",
            "270/270 [==============================] - 1s 3ms/step - loss: 1.0872 - accuracy: 0.4021 - val_loss: 1.0892 - val_accuracy: 0.4050\n",
            "Epoch 42/100\n",
            "270/270 [==============================] - 1s 3ms/step - loss: 1.0872 - accuracy: 0.4021 - val_loss: 1.0892 - val_accuracy: 0.4050\n",
            "Epoch 43/100\n",
            "270/270 [==============================] - 1s 3ms/step - loss: 1.0871 - accuracy: 0.4021 - val_loss: 1.0892 - val_accuracy: 0.4050\n",
            "Epoch 44/100\n",
            "270/270 [==============================] - 1s 3ms/step - loss: 1.0871 - accuracy: 0.4022 - val_loss: 1.0892 - val_accuracy: 0.4050\n",
            "Epoch 45/100\n",
            "270/270 [==============================] - 1s 3ms/step - loss: 1.0871 - accuracy: 0.4022 - val_loss: 1.0893 - val_accuracy: 0.4050\n",
            "Epoch 46/100\n",
            "270/270 [==============================] - 1s 3ms/step - loss: 1.0871 - accuracy: 0.4021 - val_loss: 1.0893 - val_accuracy: 0.4050\n",
            "Epoch 47/100\n",
            "270/270 [==============================] - 1s 3ms/step - loss: 1.0871 - accuracy: 0.4021 - val_loss: 1.0893 - val_accuracy: 0.4049\n",
            "Epoch 48/100\n",
            "270/270 [==============================] - 1s 3ms/step - loss: 1.0871 - accuracy: 0.4021 - val_loss: 1.0894 - val_accuracy: 0.4050\n",
            "Epoch 49/100\n",
            "270/270 [==============================] - 1s 3ms/step - loss: 1.0870 - accuracy: 0.4020 - val_loss: 1.0893 - val_accuracy: 0.4048\n",
            "Epoch 50/100\n",
            "270/270 [==============================] - 1s 3ms/step - loss: 1.0870 - accuracy: 0.4019 - val_loss: 1.0893 - val_accuracy: 0.4048\n",
            "Epoch 51/100\n",
            "270/270 [==============================] - 1s 3ms/step - loss: 1.0870 - accuracy: 0.4020 - val_loss: 1.0893 - val_accuracy: 0.4048\n",
            "Epoch 52/100\n",
            "270/270 [==============================] - 1s 3ms/step - loss: 1.0870 - accuracy: 0.4021 - val_loss: 1.0893 - val_accuracy: 0.4048\n",
            "Epoch 53/100\n",
            "270/270 [==============================] - 1s 3ms/step - loss: 1.0870 - accuracy: 0.4021 - val_loss: 1.0894 - val_accuracy: 0.4047\n",
            "Epoch 54/100\n",
            "270/270 [==============================] - 1s 3ms/step - loss: 1.0870 - accuracy: 0.4021 - val_loss: 1.0894 - val_accuracy: 0.4047\n",
            "Epoch 55/100\n",
            "270/270 [==============================] - 1s 3ms/step - loss: 1.0870 - accuracy: 0.4021 - val_loss: 1.0894 - val_accuracy: 0.4047\n",
            "Epoch 56/100\n",
            "270/270 [==============================] - 1s 3ms/step - loss: 1.0870 - accuracy: 0.4021 - val_loss: 1.0895 - val_accuracy: 0.4048\n",
            "Epoch 57/100\n",
            "270/270 [==============================] - 1s 3ms/step - loss: 1.0869 - accuracy: 0.4021 - val_loss: 1.0895 - val_accuracy: 0.4046\n",
            "Epoch 58/100\n",
            "270/270 [==============================] - 1s 3ms/step - loss: 1.0869 - accuracy: 0.4021 - val_loss: 1.0895 - val_accuracy: 0.4046\n",
            "Epoch 59/100\n",
            "270/270 [==============================] - 1s 3ms/step - loss: 1.0869 - accuracy: 0.4021 - val_loss: 1.0895 - val_accuracy: 0.4046\n",
            "Epoch 60/100\n",
            "270/270 [==============================] - 1s 3ms/step - loss: 1.0869 - accuracy: 0.4022 - val_loss: 1.0896 - val_accuracy: 0.4045\n",
            "Epoch 61/100\n",
            "270/270 [==============================] - 1s 3ms/step - loss: 1.0869 - accuracy: 0.4022 - val_loss: 1.0896 - val_accuracy: 0.4045\n",
            "Epoch 62/100\n",
            "270/270 [==============================] - 1s 3ms/step - loss: 1.0869 - accuracy: 0.4022 - val_loss: 1.0896 - val_accuracy: 0.4045\n",
            "Epoch 63/100\n",
            "270/270 [==============================] - 1s 3ms/step - loss: 1.0869 - accuracy: 0.4022 - val_loss: 1.0896 - val_accuracy: 0.4046\n",
            "Epoch 64/100\n",
            "270/270 [==============================] - 1s 3ms/step - loss: 1.0869 - accuracy: 0.4022 - val_loss: 1.0897 - val_accuracy: 0.4046\n",
            "Epoch 65/100\n",
            "270/270 [==============================] - 1s 4ms/step - loss: 1.0869 - accuracy: 0.4023 - val_loss: 1.0897 - val_accuracy: 0.4046\n",
            "Epoch 66/100\n",
            "270/270 [==============================] - 1s 3ms/step - loss: 1.0869 - accuracy: 0.4023 - val_loss: 1.0897 - val_accuracy: 0.4046\n",
            "Epoch 67/100\n",
            "270/270 [==============================] - 1s 3ms/step - loss: 1.0868 - accuracy: 0.4022 - val_loss: 1.0897 - val_accuracy: 0.4045\n",
            "Epoch 68/100\n",
            "270/270 [==============================] - 1s 3ms/step - loss: 1.0868 - accuracy: 0.4022 - val_loss: 1.0898 - val_accuracy: 0.4045\n",
            "Epoch 69/100\n",
            "270/270 [==============================] - 1s 3ms/step - loss: 1.0868 - accuracy: 0.4022 - val_loss: 1.0898 - val_accuracy: 0.4045\n",
            "Epoch 70/100\n",
            "270/270 [==============================] - 1s 3ms/step - loss: 1.0868 - accuracy: 0.4024 - val_loss: 1.0898 - val_accuracy: 0.4045\n",
            "Epoch 71/100\n",
            "270/270 [==============================] - 1s 3ms/step - loss: 1.0868 - accuracy: 0.4024 - val_loss: 1.0898 - val_accuracy: 0.4044\n",
            "Epoch 72/100\n",
            "270/270 [==============================] - 1s 3ms/step - loss: 1.0868 - accuracy: 0.4024 - val_loss: 1.0899 - val_accuracy: 0.4044\n",
            "Epoch 73/100\n",
            "270/270 [==============================] - 1s 3ms/step - loss: 1.0868 - accuracy: 0.4024 - val_loss: 1.0899 - val_accuracy: 0.4043\n",
            "Epoch 74/100\n",
            "270/270 [==============================] - 1s 3ms/step - loss: 1.0868 - accuracy: 0.4024 - val_loss: 1.0899 - val_accuracy: 0.4046\n",
            "Epoch 75/100\n",
            "270/270 [==============================] - 1s 3ms/step - loss: 1.0867 - accuracy: 0.4024 - val_loss: 1.0900 - val_accuracy: 0.4047\n",
            "Epoch 76/100\n",
            "270/270 [==============================] - 1s 5ms/step - loss: 1.0867 - accuracy: 0.4024 - val_loss: 1.0900 - val_accuracy: 0.4048\n",
            "Epoch 77/100\n",
            "270/270 [==============================] - 1s 5ms/step - loss: 1.0867 - accuracy: 0.4024 - val_loss: 1.0900 - val_accuracy: 0.4045\n",
            "Epoch 78/100\n",
            "270/270 [==============================] - 1s 3ms/step - loss: 1.0867 - accuracy: 0.4024 - val_loss: 1.0900 - val_accuracy: 0.4046\n",
            "Epoch 79/100\n",
            "270/270 [==============================] - 1s 3ms/step - loss: 1.0867 - accuracy: 0.4024 - val_loss: 1.0901 - val_accuracy: 0.4047\n",
            "Epoch 80/100\n",
            "270/270 [==============================] - 1s 3ms/step - loss: 1.0867 - accuracy: 0.4024 - val_loss: 1.0901 - val_accuracy: 0.4045\n",
            "Epoch 81/100\n",
            "270/270 [==============================] - 1s 3ms/step - loss: 1.0867 - accuracy: 0.4025 - val_loss: 1.0901 - val_accuracy: 0.4044\n",
            "Epoch 82/100\n",
            "270/270 [==============================] - 1s 3ms/step - loss: 1.0867 - accuracy: 0.4024 - val_loss: 1.0902 - val_accuracy: 0.4044\n",
            "Epoch 83/100\n",
            "270/270 [==============================] - 1s 3ms/step - loss: 1.0867 - accuracy: 0.4025 - val_loss: 1.0902 - val_accuracy: 0.4044\n",
            "Epoch 84/100\n",
            "270/270 [==============================] - 1s 3ms/step - loss: 1.0867 - accuracy: 0.4026 - val_loss: 1.0902 - val_accuracy: 0.4044\n",
            "Epoch 85/100\n",
            "270/270 [==============================] - 1s 3ms/step - loss: 1.0866 - accuracy: 0.4026 - val_loss: 1.0903 - val_accuracy: 0.4045\n",
            "Epoch 86/100\n",
            "270/270 [==============================] - 1s 3ms/step - loss: 1.0866 - accuracy: 0.4026 - val_loss: 1.0903 - val_accuracy: 0.4044\n",
            "Epoch 87/100\n",
            "270/270 [==============================] - 1s 3ms/step - loss: 1.0866 - accuracy: 0.4027 - val_loss: 1.0903 - val_accuracy: 0.4044\n",
            "Epoch 88/100\n",
            "270/270 [==============================] - 1s 3ms/step - loss: 1.0866 - accuracy: 0.4027 - val_loss: 1.0903 - val_accuracy: 0.4043\n",
            "Epoch 89/100\n",
            "270/270 [==============================] - 1s 3ms/step - loss: 1.0866 - accuracy: 0.4027 - val_loss: 1.0903 - val_accuracy: 0.4042\n",
            "Epoch 90/100\n",
            "270/270 [==============================] - 1s 3ms/step - loss: 1.0866 - accuracy: 0.4027 - val_loss: 1.0903 - val_accuracy: 0.4043\n",
            "Epoch 91/100\n",
            "270/270 [==============================] - 1s 3ms/step - loss: 1.0866 - accuracy: 0.4027 - val_loss: 1.0903 - val_accuracy: 0.4042\n",
            "Epoch 92/100\n",
            "270/270 [==============================] - 1s 3ms/step - loss: 1.0866 - accuracy: 0.4027 - val_loss: 1.0903 - val_accuracy: 0.4041\n",
            "Epoch 93/100\n",
            "270/270 [==============================] - 1s 3ms/step - loss: 1.0866 - accuracy: 0.4027 - val_loss: 1.0903 - val_accuracy: 0.4042\n",
            "Epoch 94/100\n",
            "270/270 [==============================] - 1s 3ms/step - loss: 1.0866 - accuracy: 0.4028 - val_loss: 1.0903 - val_accuracy: 0.4042\n",
            "Epoch 95/100\n",
            "270/270 [==============================] - 1s 3ms/step - loss: 1.0866 - accuracy: 0.4028 - val_loss: 1.0903 - val_accuracy: 0.4042\n",
            "Epoch 96/100\n",
            "270/270 [==============================] - 1s 3ms/step - loss: 1.0866 - accuracy: 0.4028 - val_loss: 1.0903 - val_accuracy: 0.4042\n",
            "Epoch 97/100\n",
            "270/270 [==============================] - 1s 3ms/step - loss: 1.0865 - accuracy: 0.4028 - val_loss: 1.0903 - val_accuracy: 0.4042\n",
            "Epoch 98/100\n",
            "270/270 [==============================] - 1s 3ms/step - loss: 1.0865 - accuracy: 0.4028 - val_loss: 1.0904 - val_accuracy: 0.4042\n",
            "Epoch 99/100\n",
            "270/270 [==============================] - 1s 3ms/step - loss: 1.0865 - accuracy: 0.4028 - val_loss: 1.0904 - val_accuracy: 0.4042\n",
            "Epoch 100/100\n",
            "270/270 [==============================] - 1s 3ms/step - loss: 1.0865 - accuracy: 0.4029 - val_loss: 1.0904 - val_accuracy: 0.4042\n"
          ]
        }
      ]
    },
    {
      "cell_type": "code",
      "source": [
        "y_train.value_counts()/y_train.shape[0]"
      ],
      "metadata": {
        "colab": {
          "base_uri": "https://localhost:8080/"
        },
        "id": "QlTdwKLM2vlK",
        "outputId": "7b44eff3-3085-451b-da6a-8e2ee30219f7"
      },
      "execution_count": 48,
      "outputs": [
        {
          "output_type": "execute_result",
          "data": {
            "text/plain": [
              "2    0.401569\n",
              "1    0.310202\n",
              "0    0.288229\n",
              "Name: vola_label, dtype: float64"
            ]
          },
          "metadata": {},
          "execution_count": 48
        }
      ]
    },
    {
      "cell_type": "code",
      "source": [
        "fig = plt.figure(figsize=(20,10))\n",
        "plt.title(\"Train - Validation Loss\")\n",
        "plt.plot(history.history['loss'], label='train')\n",
        "plt.plot(history.history['val_loss'], label='validation')\n",
        "plt.xlabel('num_epochs', fontsize=12)\n",
        "plt.ylabel('loss', fontsize=12)\n",
        "plt.legend(loc='best')\n",
        "plt.grid()\n",
        "plt.show()"
      ],
      "metadata": {
        "colab": {
          "base_uri": "https://localhost:8080/",
          "height": 625
        },
        "id": "rv6TMbHZxb5G",
        "outputId": "a61338ce-0b1e-4611-d5a4-d2fcab37b98f"
      },
      "execution_count": 49,
      "outputs": [
        {
          "output_type": "display_data",
          "data": {
            "text/plain": [
              "<Figure size 1440x720 with 1 Axes>"
            ],
            "image/png": "[encoded data removed]"
          },
          "metadata": {
            "needs_background": "light"
          }
        }
      ]
    },
    {
      "cell_type": "code",
      "source": [
        "fig = plt.figure(figsize=(20,10))\n",
        "plt.title(\"Train - Validation Accuracy\")\n",
        "plt.plot(history.history['accuracy'], label='train')\n",
        "plt.plot(history.history['val_accuracy'], label='validation')\n",
        "plt.xlabel('num_epochs', fontsize=12)\n",
        "plt.ylabel('accuracy', fontsize=12)\n",
        "plt.legend(loc='best')\n",
        "plt.grid()\n",
        "plt.show()"
      ],
      "metadata": {
        "colab": {
          "base_uri": "https://localhost:8080/",
          "height": 625
        },
        "id": "9jdmhGWvr0VA",
        "outputId": "91f10cc7-649f-40d6-c5fe-719737366ece"
      },
      "execution_count": 50,
      "outputs": [
        {
          "output_type": "display_data",
          "data": {
            "text/plain": [
              "<Figure size 1440x720 with 1 Axes>"
            ],
            "image/png": "[encoded data removed]"
          },
          "metadata": {
            "needs_background": "light"
          }
        }
      ]
    }
  ],
  "metadata": {
    "accelerator": "GPU",
    "colab": {
      "collapsed_sections": [],
      "name": "vola_estimator_baseline.ipynb",
      "provenance": []
    },
    "gpuClass": "standard",
    "kernelspec": {
      "display_name": "Python 3.9.7 ('venv': venv)",
      "language": "python",
      "name": "python3"
    },
    "language_info": {
      "codemirror_mode": {
        "name": "ipython",
        "version": 3
      },
      "file_extension": ".py",
      "mimetype": "text/x-python",
      "name": "python",
      "nbconvert_exporter": "python",
      "pygments_lexer": "ipython3",
      "version": "3.9.7"
    },
    "vscode": {
      "interpreter": {
        "hash": "3551eada80e437137cf635744c63ae2da6c86902ec805ec8b1cf19dda9116643"
      }
    }
  },
  "nbformat": 4,
  "nbformat_minor": 0
}