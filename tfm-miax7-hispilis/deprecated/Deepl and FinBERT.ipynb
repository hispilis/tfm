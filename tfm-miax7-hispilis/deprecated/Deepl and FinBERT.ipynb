{
 "cells": [
  {
   "cell_type": "markdown",
   "metadata": {},
   "source": [
    "# Traducción con DeepL y FinBERT"
   ]
  },
  {
   "cell_type": "markdown",
   "metadata": {},
   "source": [
    "Notebook de referencia:\n",
    "\n",
    "https://towardsdatascience.com/how-to-apply-transformers-to-any-length-of-text-a5601410af7f\n",
    "\n",
    "https://github.com/jamescalam/transformers/blob/main/course/language_classification/04_window_method_in_pytorch.ipynb"
   ]
  },
  {
   "cell_type": "markdown",
   "metadata": {},
   "source": [
    "## Traducción"
   ]
  },
  {
   "cell_type": "code",
   "execution_count": null,
   "metadata": {},
   "outputs": [],
   "source": [
    "# Librería de traducción DeepL\n",
    "!pip install deepl"
   ]
  },
  {
   "cell_type": "code",
   "execution_count": 81,
   "metadata": {},
   "outputs": [],
   "source": [
    "import deepl\n",
    "translator = deepl.Translator(\"3ef95800-106e-d003-f11d-49c2dd263233:fx\")"
   ]
  },
  {
   "cell_type": "code",
   "execution_count": 3,
   "metadata": {},
   "outputs": [
    {
     "data": {
      "text/html": [
       "<div>\n",
       "<style scoped>\n",
       "    .dataframe tbody tr th:only-of-type {\n",
       "        vertical-align: middle;\n",
       "    }\n",
       "\n",
       "    .dataframe tbody tr th {\n",
       "        vertical-align: top;\n",
       "    }\n",
       "\n",
       "    .dataframe thead th {\n",
       "        text-align: right;\n",
       "    }\n",
       "</style>\n",
       "<table border=\"1\" class=\"dataframe\">\n",
       "  <thead>\n",
       "    <tr style=\"text-align: right;\">\n",
       "      <th></th>\n",
       "      <th>ticker</th>\n",
       "      <th>date</th>\n",
       "      <th>body</th>\n",
       "      <th>r_adj</th>\n",
       "      <th>label</th>\n",
       "      <th>texto_limpio</th>\n",
       "    </tr>\n",
       "  </thead>\n",
       "  <tbody>\n",
       "    <tr>\n",
       "      <th>0</th>\n",
       "      <td>TEF</td>\n",
       "      <td>2021-11-21 11:42:00.000</td>\n",
       "      <td>El magistrado escuchará a varios imputados rel...</td>\n",
       "      <td>0.056964</td>\n",
       "      <td>1</td>\n",
       "      <td>magistrado escuchará varios imputados relacion...</td>\n",
       "    </tr>\n",
       "    <tr>\n",
       "      <th>1</th>\n",
       "      <td>ANA</td>\n",
       "      <td>2021-08-27 13:48:00.000</td>\n",
       "      <td>SEVILLA, 27 Ago. (EUROPA PRESS) - La sección d...</td>\n",
       "      <td>0.012567</td>\n",
       "      <td>1</td>\n",
       "      <td>27 sección agrupación sindical conductores soc...</td>\n",
       "    </tr>\n",
       "    <tr>\n",
       "      <th>2</th>\n",
       "      <td>TEF</td>\n",
       "      <td>2021-01-26 18:37:52.000</td>\n",
       "      <td>El Ibex 35 ha regresado a las subidas y rozado...</td>\n",
       "      <td>0.032565</td>\n",
       "      <td>1</td>\n",
       "      <td>ibex 35 regresado subidas rozado cota puntos p...</td>\n",
       "    </tr>\n",
       "    <tr>\n",
       "      <th>3</th>\n",
       "      <td>NTGY</td>\n",
       "      <td>2021-01-26 09:16:00.000</td>\n",
       "      <td>MADRID, 26 Ene. (EUROPA PRESS) - El Ibex 35 ha...</td>\n",
       "      <td>0.022345</td>\n",
       "      <td>1</td>\n",
       "      <td>26 ibex 35 iniciado sesión martes subida lleva...</td>\n",
       "    </tr>\n",
       "    <tr>\n",
       "      <th>4</th>\n",
       "      <td>ELE</td>\n",
       "      <td>2021-12-16 11:48:00.000</td>\n",
       "      <td>Naturgy se sitúa en la plaza 39 MADRID, 16 Dic...</td>\n",
       "      <td>-0.012581</td>\n",
       "      <td>-1</td>\n",
       "      <td>naturgy sitúa plaza 39 16 acciona energía reva...</td>\n",
       "    </tr>\n",
       "    <tr>\n",
       "      <th>...</th>\n",
       "      <td>...</td>\n",
       "      <td>...</td>\n",
       "      <td>...</td>\n",
       "      <td>...</td>\n",
       "      <td>...</td>\n",
       "      <td>...</td>\n",
       "    </tr>\n",
       "    <tr>\n",
       "      <th>21336</th>\n",
       "      <td>FER</td>\n",
       "      <td>2021-06-07 11:41:00.000</td>\n",
       "      <td>MADRID, 7 Jun. (EUROPA PRESS) - Adriano Care, ...</td>\n",
       "      <td>0.012905</td>\n",
       "      <td>1</td>\n",
       "      <td>7 adriano socimi orientada residencias anciano...</td>\n",
       "    </tr>\n",
       "    <tr>\n",
       "      <th>21337</th>\n",
       "      <td>TEF</td>\n",
       "      <td>2021-06-05 17:30:00.000</td>\n",
       "      <td>PAMPLONA, 5 Jun. (EUROPA PRESS) - La Asociació...</td>\n",
       "      <td>0.012192</td>\n",
       "      <td>1</td>\n",
       "      <td>5 asociación consumidores navarra irache recib...</td>\n",
       "    </tr>\n",
       "    <tr>\n",
       "      <th>21338</th>\n",
       "      <td>ELE</td>\n",
       "      <td>2021-03-08 15:11:00.000</td>\n",
       "      <td>GRANADA, 8 Mar. (EUROPA PRESS) - El incendio, ...</td>\n",
       "      <td>0.019342</td>\n",
       "      <td>1</td>\n",
       "      <td>8 pasado 27 centro transformación ubicado call...</td>\n",
       "    </tr>\n",
       "    <tr>\n",
       "      <th>21339</th>\n",
       "      <td>ELE</td>\n",
       "      <td>2021-01-10 21:33:08.000</td>\n",
       "      <td>Filomena deja en España ciudades incomunicadas...</td>\n",
       "      <td>-0.012100</td>\n",
       "      <td>-1</td>\n",
       "      <td>filomena deja españa ciudades incomunicadas ba...</td>\n",
       "    </tr>\n",
       "    <tr>\n",
       "      <th>21340</th>\n",
       "      <td>IBE</td>\n",
       "      <td>2021-09-10 17:21:00.000</td>\n",
       "      <td>MADRID, 10 Sep. (EUROPA PRESS) - Iberdrola ha ...</td>\n",
       "      <td>0.011748</td>\n",
       "      <td>1</td>\n",
       "      <td>10 iberdrola elegido empresa tecnológica andal...</td>\n",
       "    </tr>\n",
       "  </tbody>\n",
       "</table>\n",
       "<p>21341 rows × 6 columns</p>\n",
       "</div>"
      ],
      "text/plain": [
       "      ticker                     date  \\\n",
       "0        TEF  2021-11-21 11:42:00.000   \n",
       "1        ANA  2021-08-27 13:48:00.000   \n",
       "2        TEF  2021-01-26 18:37:52.000   \n",
       "3       NTGY  2021-01-26 09:16:00.000   \n",
       "4        ELE  2021-12-16 11:48:00.000   \n",
       "...      ...                      ...   \n",
       "21336    FER  2021-06-07 11:41:00.000   \n",
       "21337    TEF  2021-06-05 17:30:00.000   \n",
       "21338    ELE  2021-03-08 15:11:00.000   \n",
       "21339    ELE  2021-01-10 21:33:08.000   \n",
       "21340    IBE  2021-09-10 17:21:00.000   \n",
       "\n",
       "                                                    body     r_adj  label  \\\n",
       "0      El magistrado escuchará a varios imputados rel...  0.056964      1   \n",
       "1      SEVILLA, 27 Ago. (EUROPA PRESS) - La sección d...  0.012567      1   \n",
       "2      El Ibex 35 ha regresado a las subidas y rozado...  0.032565      1   \n",
       "3      MADRID, 26 Ene. (EUROPA PRESS) - El Ibex 35 ha...  0.022345      1   \n",
       "4      Naturgy se sitúa en la plaza 39 MADRID, 16 Dic... -0.012581     -1   \n",
       "...                                                  ...       ...    ...   \n",
       "21336  MADRID, 7 Jun. (EUROPA PRESS) - Adriano Care, ...  0.012905      1   \n",
       "21337  PAMPLONA, 5 Jun. (EUROPA PRESS) - La Asociació...  0.012192      1   \n",
       "21338  GRANADA, 8 Mar. (EUROPA PRESS) - El incendio, ...  0.019342      1   \n",
       "21339  Filomena deja en España ciudades incomunicadas... -0.012100     -1   \n",
       "21340  MADRID, 10 Sep. (EUROPA PRESS) - Iberdrola ha ...  0.011748      1   \n",
       "\n",
       "                                            texto_limpio  \n",
       "0      magistrado escuchará varios imputados relacion...  \n",
       "1      27 sección agrupación sindical conductores soc...  \n",
       "2      ibex 35 regresado subidas rozado cota puntos p...  \n",
       "3      26 ibex 35 iniciado sesión martes subida lleva...  \n",
       "4      naturgy sitúa plaza 39 16 acciona energía reva...  \n",
       "...                                                  ...  \n",
       "21336  7 adriano socimi orientada residencias anciano...  \n",
       "21337  5 asociación consumidores navarra irache recib...  \n",
       "21338  8 pasado 27 centro transformación ubicado call...  \n",
       "21339  filomena deja españa ciudades incomunicadas ba...  \n",
       "21340  10 iberdrola elegido empresa tecnológica andal...  \n",
       "\n",
       "[21341 rows x 6 columns]"
      ]
     },
     "execution_count": 3,
     "metadata": {},
     "output_type": "execute_result"
    }
   ],
   "source": [
    "import pandas as pd\n",
    "df_mini = pd.read_csv('../texto_limpio.csv', index_col = 'Unnamed: 0')\n",
    "\n",
    "from sklearn.utils import shuffle\n",
    "dataset = shuffle(df_mini, random_state=42).reset_index(drop=True)\n",
    "dataset"
   ]
  },
  {
   "cell_type": "markdown",
   "metadata": {},
   "source": [
    "Controlando la cuota máxima de 500.000 caracteres de traducción en DeepL con la modalidad gratuita. Luego cuesta 20,00 € por cada millón de caracteres traducidos (aparte de una cuota mensual de 5€)."
   ]
  },
  {
   "cell_type": "code",
   "execution_count": 78,
   "metadata": {},
   "outputs": [],
   "source": [
    "quota_deepl_control = dataset.body.str.len().cumsum() < 500000\n",
    "translate_texts = dataset[quota_deepl_control].body.to_list()"
   ]
  },
  {
   "cell_type": "markdown",
   "metadata": {},
   "source": [
    "Haciendo las traducciones en bloques de 40 y pausas de 1 minuto para no quedar bloqueado por DeepL en la modalidad gratuita."
   ]
  },
  {
   "cell_type": "code",
   "execution_count": 82,
   "metadata": {},
   "outputs": [],
   "source": [
    "from time import sleep\n",
    "batch_size = 40\n",
    "consolidated = []\n",
    "for idx in range(0,len(translate_texts), batch_size):\n",
    "    lista = translate_texts[idx:min(idx+batch_size, len(translate_texts)-1)]\n",
    "    results = translator.translate_text(text=lista, source_lang=\"ES\", target_lang=\"EN-US\")\n",
    "    consolidated.extend([i.text for i in results])\n",
    "    sleep(60)\n",
    "    "
   ]
  },
  {
   "cell_type": "markdown",
   "metadata": {},
   "source": [
    "Guardando las traducciones en un pkl para evitar volver a reprocesarlas."
   ]
  },
  {
   "cell_type": "code",
   "execution_count": null,
   "metadata": {},
   "outputs": [],
   "source": [
    "# import pickle\n",
    "# pickle.dump(consolidated, open(\"../translation.pkl\", \"wb\" ))"
   ]
  },
  {
   "cell_type": "markdown",
   "metadata": {},
   "source": [
    "Cargando las traducciones desde el pkl para evitar reprocesarlas."
   ]
  },
  {
   "cell_type": "code",
   "execution_count": 1,
   "metadata": {},
   "outputs": [],
   "source": [
    "# import pickle\n",
    "# consolidated = pickle.load(open(\"../translation.pkl\", \"rb\" ))"
   ]
  },
  {
   "cell_type": "markdown",
   "metadata": {},
   "source": [
    "Comprobando el resultado de la traducción."
   ]
  },
  {
   "cell_type": "code",
   "execution_count": 2,
   "metadata": {},
   "outputs": [
    {
     "data": {
      "text/plain": [
       "'The magistrate will hear several defendants related to the alleged drug trafficking network MADRID, Nov 21 (EUROPA PRESS) - The judge of the National Court Ismael Moreno will start from Monday a new round of statements citing several defendants in the \\'Operation Titella\\', among which are the nephew of television producer José Luis Moreno and the alleged notary of the organization. In an order, to which Europa Press has had access, the head of the Central Court of Instruction Number 2 has agreed to take a statement to Raul Fernandez Rodriguez, whom the investigators place as the one in charge of making false invoices between the companies of his uncle to defraud the Treasury, avoiding the payment of the invoiced VAT. The agents, who point to Moreno\\'s nephew as the administrator of Dreamlight International Productions, also indicate that he would have participated \"directly\" in the alleged swindle of the ventriloquist\\'s partner, Alejandro Roemmers, as well as in the misappropriation of the money contributed by him to finance the series on St. Francis of Assisi. To that statement, which will take place on Tuesday from 08.45 hours, will also join that of Enrique Beltran, the alleged notary of the organization and collaborator of the \\'number two\\' of Moreno, Antonio Aguilera, in the alleged fraud scheme. His work would consist, according to a police office, in carrying out the necessary notarial procedures for the incorporation and acquisition of companies and appointment and termination of administrators. In addition, Beltrán would have actively participated in proposing new ways of laundering the large amount of cash \"of unknown and presumably illicit origin\" of the organization. The investigators point out that, to give an appearance of legality, the scheme hired Beltrán, who was on their payroll and paid 10,000 euros per month, and to whom they gave an office. From there he would have been in charge of advising and notarizing the operations, even acquiring a percentage of Aguilera\\'s companies. Also this Tuesday the magistrate will hear Carla López Téllez, alleged front man of the organization and who appears as administrator of Licorería Margallo and Restauración Fina Madrid, investigated for fraudulent operations and controlled by Aguilera and another defendant, Antonio Salazar. The judge will also take a statement to María Rosa Velez, who would have collected a total of 57 promissory notes in cash for a total amount of 124,000 euros along with her son, the also investigated Joaquín Dillet. In addition, both would appear as administrators of several companies linked to the plot through which a large amount of money would have been moved for the benefit of the criminal organization. This new round also includes four declarations this Monday, which will start at 10.00 am. The judge will hear Sandra Maria Villegas, the alleged confidant of Carlos Brambilla, the alleged leader of the \\'Titella\\' drug trafficking network. Thus, the investigators point to Villegas as the person in charge of the secretarial and management tasks of the companies, appearing on occasions as administrator of several of the same linked and even appearing as co-owner of some real estate properties that Brambilla himself owns in Spain. Also before the judge will be Emily Naily Reyes Gómez, the sentimental partner of Antonio Aguilera and the alleged administrator of several companies that would be managed by him. The magistrate will also hear Adriana Ruiz Hortelano, one of Aguilera\\'s trusted people. Ruiz Hortelano, according to the aforementioned official document, appeared as administrator of companies that are part of the business network used by the organization to obtain and launder money fraudulently. In addition, she would have benefited from this laundering by owning and using high-end vehicles acquired by the organization. \"Finally, he participates directly in the transportation of cash and is in charge of \\'banking\\' this money, justified with invoices issued by Aguilera, according to telephone conversations between the two,\" the investigators point out. Finally, the magistrate of the Audiencia Nacional will interrogate the Madrid businessman José Luis Garrido Pariente, who would have been in charge of the search and management of the companies that Brambilla used to carry out the money laundering from his activity. The agents explain that Garrido would even have his own management and consultancy company and that he would be dedicated to \"bank\" the money resulting from the criminal activity of the investigated. Moreno is one of the main accused in \\'Operation Titella\\', whose investigation began in 2018 and hatched last June with his arrest and that of dozens of people in different cities for an alleged fraud perpetrated through a corporate network. Accused of fraud, laundering, illicit association, falsification of documents, punishable insolvency and crimes against the Public Treasury, he is on probation, with the obligation to appear weekly in court, withdrawal of passport and prohibition to leave the country. The magistrate imposed him a bail of three million euros that the ventriloquist presented \\'in extremis\\' in the form of a mortgage guarantee, which obliges him to cover double the required amount, that is, six instead of three million. According to the summary of the case, to which Europa Press had access, the National Police suspects that Moreno would keep between 400 and 900 million euros hidden abroad. The investigators divide the alleged plot into two organizations: one led by Moreno, Antonio Aguilera and Antonio Salazar, dedicated since 2017 to \"fraud and swindling of banking entities and private investors\", \"to the falsification of bank effects such as checks and promissory notes\" and to \"money laundering\"; and another, headed by Carlos Brambilla, alleged drug trafficker who would have used said structure to launder money. According to the judicial report, Moreno and Aguilera would be the \"top responsible\" and Salazar, the third in action. Each one would have a function. The producer, \"as a well-known public person, would lend his name as a calling card\" in order to easily obtain the financing they pretended to need to start a film project. Therefore, \"he was the main recipient of the funds obtained\". That money would then pass into the hands of Aguilera and Salazar. The two would have \"extensive knowledge in banking and commercial operations\", so they would take care of creating the companies, \"make them up\", put administrators and present them to the banks as the recipients of the necessary funding for such projects. In reality, they would have no activity whatsoever. Through this network of \"front companies\" administered by alleged front men, both organizations would move \"large amounts of cash\" to which they would try to give an outlet with income that they would pass off as profits from their commercial work or with cash injections for which they would count on the complicity of bank employees who would take their commission in exchange for introducing this money into the legal circuit.'"
      ]
     },
     "execution_count": 2,
     "metadata": {},
     "output_type": "execute_result"
    }
   ],
   "source": [
    "consolidated[0]"
   ]
  },
  {
   "cell_type": "markdown",
   "metadata": {},
   "source": [
    "## Aplicando FinBERT"
   ]
  },
  {
   "cell_type": "code",
   "execution_count": 21,
   "metadata": {},
   "outputs": [],
   "source": [
    "from transformers import BertForSequenceClassification, BertTokenizer\n",
    "import torch\n",
    "\n",
    "tokenizer = BertTokenizer.from_pretrained('ProsusAI/finbert')\n",
    "model = BertForSequenceClassification.from_pretrained('ProsusAI/finbert')"
   ]
  },
  {
   "cell_type": "markdown",
   "metadata": {},
   "source": [
    "Se predice el sentimiento noticia por noticia en bloques de 510 caracteres ya que la gran mayoría exceden el límite de 512 caracteres. Entonces con este bucle se halla el sentimiento por bloques de 510 caracteres dentro de cada noticia y luego se promedia el sentimiento."
   ]
  },
  {
   "cell_type": "code",
   "execution_count": 22,
   "metadata": {},
   "outputs": [
    {
     "name": "stderr",
     "output_type": "stream",
     "text": [
      "Token indices sequence length is longer than the specified maximum sequence length for this model (1429 > 512). Running this sequence through the model will result in indexing errors\n"
     ]
    }
   ],
   "source": [
    "chunksize = 512\n",
    "proba = []\n",
    "\n",
    "for text in consolidated:\n",
    "    tokens = tokenizer.encode_plus(text, add_special_tokens=False,\n",
    "                                return_tensors='pt')\n",
    "    input_id_chunks = tokens['input_ids'][0].split(510)\n",
    "    mask_chunks = tokens['attention_mask'][0].split(510)\n",
    "\n",
    "    # split into chunks of 510 tokens, we also convert to list (default is tuple which is immutable)\n",
    "    input_id_chunks = list(tokens['input_ids'][0].split(chunksize - 2))\n",
    "    mask_chunks = list(tokens['attention_mask'][0].split(chunksize - 2))\n",
    "\n",
    "    # loop through each chunk\n",
    "    for i in range(len(input_id_chunks)):\n",
    "        # add CLS and SEP tokens to input IDs\n",
    "        input_id_chunks[i] = torch.cat([\n",
    "            torch.tensor([101]), input_id_chunks[i], torch.tensor([102])\n",
    "        ])\n",
    "        # add attention tokens to attention mask\n",
    "        mask_chunks[i] = torch.cat([\n",
    "            torch.tensor([1]), mask_chunks[i], torch.tensor([1])\n",
    "        ])\n",
    "        # get required padding length\n",
    "        pad_len = chunksize - input_id_chunks[i].shape[0]\n",
    "        # check if tensor length satisfies required chunk size\n",
    "        if pad_len > 0:\n",
    "            # if padding length is more than 0, we must add padding\n",
    "            input_id_chunks[i] = torch.cat([\n",
    "                input_id_chunks[i], torch.Tensor([0] * pad_len)\n",
    "            ])\n",
    "            mask_chunks[i] = torch.cat([\n",
    "                mask_chunks[i], torch.Tensor([0] * pad_len)\n",
    "            ])\n",
    "    \n",
    "    input_ids = torch.stack(input_id_chunks)\n",
    "    attention_mask = torch.stack(mask_chunks)\n",
    "\n",
    "    input_dict = {\n",
    "        'input_ids': input_ids.long(),\n",
    "        'attention_mask': attention_mask.int()\n",
    "    }\n",
    "\n",
    "    outputs = model(**input_dict)\n",
    "    probs = torch.nn.functional.softmax(outputs[0], dim=-1)\n",
    "    probs = probs.mean(dim=0)\n",
    "    proba.append(probs.detach().numpy().tolist())                "
   ]
  },
  {
   "cell_type": "markdown",
   "metadata": {},
   "source": [
    "Se incluyen las predicciones dentro del dataset_preds para un análisis consolidado y se codifican las predicciones del mismo que tenemos las labels en el resto de modelos."
   ]
  },
  {
   "cell_type": "markdown",
   "metadata": {},
   "source": [
    "### Con 3 clases de salida:"
   ]
  },
  {
   "cell_type": "code",
   "execution_count": 23,
   "metadata": {},
   "outputs": [],
   "source": [
    "import numpy as np\n",
    "proba_matrix = np.array(proba)\n",
    "dataset_preds = dataset.iloc[:len(consolidated)].copy()\n",
    "dataset_preds[\"Finbert_3label\"] = proba_matrix.argmax(axis=1)"
   ]
  },
  {
   "cell_type": "code",
   "execution_count": 24,
   "metadata": {},
   "outputs": [],
   "source": [
    "dataset_preds.Finbert_3label.replace({2:1,1:0,0:-1}, inplace=True)"
   ]
  },
  {
   "cell_type": "code",
   "execution_count": 25,
   "metadata": {},
   "outputs": [
    {
     "data": {
      "text/html": [
       "<div>\n",
       "<style scoped>\n",
       "    .dataframe tbody tr th:only-of-type {\n",
       "        vertical-align: middle;\n",
       "    }\n",
       "\n",
       "    .dataframe tbody tr th {\n",
       "        vertical-align: top;\n",
       "    }\n",
       "\n",
       "    .dataframe thead th {\n",
       "        text-align: right;\n",
       "    }\n",
       "</style>\n",
       "<table border=\"1\" class=\"dataframe\">\n",
       "  <thead>\n",
       "    <tr style=\"text-align: right;\">\n",
       "      <th></th>\n",
       "      <th>body</th>\n",
       "      <th>label</th>\n",
       "      <th>Finbert_3label</th>\n",
       "    </tr>\n",
       "  </thead>\n",
       "  <tbody>\n",
       "    <tr>\n",
       "      <th>0</th>\n",
       "      <td>El magistrado escuchará a varios imputados rel...</td>\n",
       "      <td>1</td>\n",
       "      <td>1</td>\n",
       "    </tr>\n",
       "    <tr>\n",
       "      <th>1</th>\n",
       "      <td>SEVILLA, 27 Ago. (EUROPA PRESS) - La sección d...</td>\n",
       "      <td>1</td>\n",
       "      <td>1</td>\n",
       "    </tr>\n",
       "    <tr>\n",
       "      <th>2</th>\n",
       "      <td>El Ibex 35 ha regresado a las subidas y rozado...</td>\n",
       "      <td>1</td>\n",
       "      <td>-1</td>\n",
       "    </tr>\n",
       "    <tr>\n",
       "      <th>3</th>\n",
       "      <td>MADRID, 26 Ene. (EUROPA PRESS) - El Ibex 35 ha...</td>\n",
       "      <td>1</td>\n",
       "      <td>0</td>\n",
       "    </tr>\n",
       "    <tr>\n",
       "      <th>4</th>\n",
       "      <td>Naturgy se sitúa en la plaza 39 MADRID, 16 Dic...</td>\n",
       "      <td>-1</td>\n",
       "      <td>0</td>\n",
       "    </tr>\n",
       "    <tr>\n",
       "      <th>...</th>\n",
       "      <td>...</td>\n",
       "      <td>...</td>\n",
       "      <td>...</td>\n",
       "    </tr>\n",
       "    <tr>\n",
       "      <th>137</th>\n",
       "      <td>Los inversores esperaban con cierto nerviosism...</td>\n",
       "      <td>-1</td>\n",
       "      <td>0</td>\n",
       "    </tr>\n",
       "    <tr>\n",
       "      <th>138</th>\n",
       "      <td>VALÈNCIA, 14 May. (EUROPA PRESS) - La aerolíne...</td>\n",
       "      <td>-1</td>\n",
       "      <td>-1</td>\n",
       "    </tr>\n",
       "    <tr>\n",
       "      <th>139</th>\n",
       "      <td>BARCELONA, 29 Abr. (EUROPA PRESS) - El piloto ...</td>\n",
       "      <td>-1</td>\n",
       "      <td>1</td>\n",
       "    </tr>\n",
       "    <tr>\n",
       "      <th>140</th>\n",
       "      <td>Colocará en torno a 2.800 millones en el merca...</td>\n",
       "      <td>1</td>\n",
       "      <td>1</td>\n",
       "    </tr>\n",
       "    <tr>\n",
       "      <th>141</th>\n",
       "      <td>La alegría duró poco. Solo un día después de s...</td>\n",
       "      <td>1</td>\n",
       "      <td>0</td>\n",
       "    </tr>\n",
       "  </tbody>\n",
       "</table>\n",
       "<p>142 rows × 3 columns</p>\n",
       "</div>"
      ],
      "text/plain": [
       "                                                  body  label  Finbert_3label\n",
       "0    El magistrado escuchará a varios imputados rel...      1               1\n",
       "1    SEVILLA, 27 Ago. (EUROPA PRESS) - La sección d...      1               1\n",
       "2    El Ibex 35 ha regresado a las subidas y rozado...      1              -1\n",
       "3    MADRID, 26 Ene. (EUROPA PRESS) - El Ibex 35 ha...      1               0\n",
       "4    Naturgy se sitúa en la plaza 39 MADRID, 16 Dic...     -1               0\n",
       "..                                                 ...    ...             ...\n",
       "137  Los inversores esperaban con cierto nerviosism...     -1               0\n",
       "138  VALÈNCIA, 14 May. (EUROPA PRESS) - La aerolíne...     -1              -1\n",
       "139  BARCELONA, 29 Abr. (EUROPA PRESS) - El piloto ...     -1               1\n",
       "140  Colocará en torno a 2.800 millones en el merca...      1               1\n",
       "141  La alegría duró poco. Solo un día después de s...      1               0\n",
       "\n",
       "[142 rows x 3 columns]"
      ]
     },
     "execution_count": 25,
     "metadata": {},
     "output_type": "execute_result"
    }
   ],
   "source": [
    "dataset_preds[[\"body\", \"label\", \"Finbert_3label\"]]"
   ]
  },
  {
   "cell_type": "markdown",
   "metadata": {},
   "source": [
    "Pseudo-accuracy para poder comparar resultados entre diferentes clasificaciones de sentimiento que hemos hecho:"
   ]
  },
  {
   "cell_type": "code",
   "execution_count": 26,
   "metadata": {},
   "outputs": [
    {
     "data": {
      "text/plain": [
       "0.34507042253521125"
      ]
     },
     "execution_count": 26,
     "metadata": {},
     "output_type": "execute_result"
    }
   ],
   "source": [
    "sum(dataset_preds.label == dataset_preds.Finbert_3label)/dataset_preds.shape[0]"
   ]
  },
  {
   "cell_type": "markdown",
   "metadata": {},
   "source": [
    "### Con 2 clases de salida:"
   ]
  },
  {
   "cell_type": "code",
   "execution_count": 27,
   "metadata": {},
   "outputs": [],
   "source": [
    "import numpy as np\n",
    "proba_matrix = np.array(proba)\n",
    "proba_matrix = proba_matrix[:,[0,2]]\n",
    "dataset_preds = dataset.iloc[:len(consolidated)].copy()\n",
    "dataset_preds[\"Finbert_2label\"] = proba_matrix.argmax(axis=1)"
   ]
  },
  {
   "cell_type": "code",
   "execution_count": 28,
   "metadata": {},
   "outputs": [],
   "source": [
    "dataset_preds.Finbert_2label.replace({1:1,0:-1}, inplace=True)"
   ]
  },
  {
   "cell_type": "code",
   "execution_count": 29,
   "metadata": {},
   "outputs": [
    {
     "data": {
      "text/html": [
       "<div>\n",
       "<style scoped>\n",
       "    .dataframe tbody tr th:only-of-type {\n",
       "        vertical-align: middle;\n",
       "    }\n",
       "\n",
       "    .dataframe tbody tr th {\n",
       "        vertical-align: top;\n",
       "    }\n",
       "\n",
       "    .dataframe thead th {\n",
       "        text-align: right;\n",
       "    }\n",
       "</style>\n",
       "<table border=\"1\" class=\"dataframe\">\n",
       "  <thead>\n",
       "    <tr style=\"text-align: right;\">\n",
       "      <th></th>\n",
       "      <th>body</th>\n",
       "      <th>label</th>\n",
       "      <th>Finbert_2label</th>\n",
       "    </tr>\n",
       "  </thead>\n",
       "  <tbody>\n",
       "    <tr>\n",
       "      <th>0</th>\n",
       "      <td>El magistrado escuchará a varios imputados rel...</td>\n",
       "      <td>1</td>\n",
       "      <td>1</td>\n",
       "    </tr>\n",
       "    <tr>\n",
       "      <th>1</th>\n",
       "      <td>SEVILLA, 27 Ago. (EUROPA PRESS) - La sección d...</td>\n",
       "      <td>1</td>\n",
       "      <td>1</td>\n",
       "    </tr>\n",
       "    <tr>\n",
       "      <th>2</th>\n",
       "      <td>El Ibex 35 ha regresado a las subidas y rozado...</td>\n",
       "      <td>1</td>\n",
       "      <td>-1</td>\n",
       "    </tr>\n",
       "    <tr>\n",
       "      <th>3</th>\n",
       "      <td>MADRID, 26 Ene. (EUROPA PRESS) - El Ibex 35 ha...</td>\n",
       "      <td>1</td>\n",
       "      <td>-1</td>\n",
       "    </tr>\n",
       "    <tr>\n",
       "      <th>4</th>\n",
       "      <td>Naturgy se sitúa en la plaza 39 MADRID, 16 Dic...</td>\n",
       "      <td>-1</td>\n",
       "      <td>1</td>\n",
       "    </tr>\n",
       "    <tr>\n",
       "      <th>...</th>\n",
       "      <td>...</td>\n",
       "      <td>...</td>\n",
       "      <td>...</td>\n",
       "    </tr>\n",
       "    <tr>\n",
       "      <th>137</th>\n",
       "      <td>Los inversores esperaban con cierto nerviosism...</td>\n",
       "      <td>-1</td>\n",
       "      <td>-1</td>\n",
       "    </tr>\n",
       "    <tr>\n",
       "      <th>138</th>\n",
       "      <td>VALÈNCIA, 14 May. (EUROPA PRESS) - La aerolíne...</td>\n",
       "      <td>-1</td>\n",
       "      <td>-1</td>\n",
       "    </tr>\n",
       "    <tr>\n",
       "      <th>139</th>\n",
       "      <td>BARCELONA, 29 Abr. (EUROPA PRESS) - El piloto ...</td>\n",
       "      <td>-1</td>\n",
       "      <td>1</td>\n",
       "    </tr>\n",
       "    <tr>\n",
       "      <th>140</th>\n",
       "      <td>Colocará en torno a 2.800 millones en el merca...</td>\n",
       "      <td>1</td>\n",
       "      <td>1</td>\n",
       "    </tr>\n",
       "    <tr>\n",
       "      <th>141</th>\n",
       "      <td>La alegría duró poco. Solo un día después de s...</td>\n",
       "      <td>1</td>\n",
       "      <td>-1</td>\n",
       "    </tr>\n",
       "  </tbody>\n",
       "</table>\n",
       "<p>142 rows × 3 columns</p>\n",
       "</div>"
      ],
      "text/plain": [
       "                                                  body  label  Finbert_2label\n",
       "0    El magistrado escuchará a varios imputados rel...      1               1\n",
       "1    SEVILLA, 27 Ago. (EUROPA PRESS) - La sección d...      1               1\n",
       "2    El Ibex 35 ha regresado a las subidas y rozado...      1              -1\n",
       "3    MADRID, 26 Ene. (EUROPA PRESS) - El Ibex 35 ha...      1              -1\n",
       "4    Naturgy se sitúa en la plaza 39 MADRID, 16 Dic...     -1               1\n",
       "..                                                 ...    ...             ...\n",
       "137  Los inversores esperaban con cierto nerviosism...     -1              -1\n",
       "138  VALÈNCIA, 14 May. (EUROPA PRESS) - La aerolíne...     -1              -1\n",
       "139  BARCELONA, 29 Abr. (EUROPA PRESS) - El piloto ...     -1               1\n",
       "140  Colocará en torno a 2.800 millones en el merca...      1               1\n",
       "141  La alegría duró poco. Solo un día después de s...      1              -1\n",
       "\n",
       "[142 rows x 3 columns]"
      ]
     },
     "execution_count": 29,
     "metadata": {},
     "output_type": "execute_result"
    }
   ],
   "source": [
    "dataset_preds[[\"body\", \"label\", \"Finbert_2label\"]]"
   ]
  },
  {
   "cell_type": "markdown",
   "metadata": {},
   "source": [
    "Pseudo-accuracy para poder comparar resultados entre diferentes clasificaciones de sentimiento que hemos hecho:"
   ]
  },
  {
   "cell_type": "code",
   "execution_count": 30,
   "metadata": {},
   "outputs": [
    {
     "data": {
      "text/plain": [
       "0.49295774647887325"
      ]
     },
     "execution_count": 30,
     "metadata": {},
     "output_type": "execute_result"
    }
   ],
   "source": [
    "sum(dataset_preds.label == dataset_preds.Finbert_2label)/dataset_preds.shape[0]"
   ]
  },
  {
   "cell_type": "markdown",
   "metadata": {},
   "source": [
    "## FinBERT truncando con la longitud 512 caracteres (max BERT)"
   ]
  },
  {
   "cell_type": "markdown",
   "metadata": {},
   "source": [
    "A continuación se hace una prueba truncando los 512 primeros caracteres y utilizando la pipeline de transformers."
   ]
  },
  {
   "cell_type": "code",
   "execution_count": 192,
   "metadata": {},
   "outputs": [],
   "source": [
    "from transformers import pipeline\n",
    "classifier = pipeline(\"sentiment-analysis\", model=\"ProsusAI/finbert\")"
   ]
  },
  {
   "cell_type": "code",
   "execution_count": 193,
   "metadata": {},
   "outputs": [
    {
     "data": {
      "text/html": [
       "<div>\n",
       "<style scoped>\n",
       "    .dataframe tbody tr th:only-of-type {\n",
       "        vertical-align: middle;\n",
       "    }\n",
       "\n",
       "    .dataframe tbody tr th {\n",
       "        vertical-align: top;\n",
       "    }\n",
       "\n",
       "    .dataframe thead th {\n",
       "        text-align: right;\n",
       "    }\n",
       "</style>\n",
       "<table border=\"1\" class=\"dataframe\">\n",
       "  <thead>\n",
       "    <tr style=\"text-align: right;\">\n",
       "      <th></th>\n",
       "      <th>ticker</th>\n",
       "      <th>date</th>\n",
       "      <th>body</th>\n",
       "      <th>r_adj</th>\n",
       "      <th>label</th>\n",
       "      <th>texto_limpio</th>\n",
       "      <th>Finbert_label</th>\n",
       "      <th>Finbert_truncated</th>\n",
       "    </tr>\n",
       "  </thead>\n",
       "  <tbody>\n",
       "    <tr>\n",
       "      <th>0</th>\n",
       "      <td>TEF</td>\n",
       "      <td>2021-11-21 11:42:00.000</td>\n",
       "      <td>El magistrado escuchará a varios imputados rel...</td>\n",
       "      <td>0.056964</td>\n",
       "      <td>1</td>\n",
       "      <td>magistrado escuchará varios imputados relacion...</td>\n",
       "      <td>1</td>\n",
       "      <td>0</td>\n",
       "    </tr>\n",
       "    <tr>\n",
       "      <th>1</th>\n",
       "      <td>ANA</td>\n",
       "      <td>2021-08-27 13:48:00.000</td>\n",
       "      <td>SEVILLA, 27 Ago. (EUROPA PRESS) - La sección d...</td>\n",
       "      <td>0.012567</td>\n",
       "      <td>1</td>\n",
       "      <td>27 sección agrupación sindical conductores soc...</td>\n",
       "      <td>1</td>\n",
       "      <td>0</td>\n",
       "    </tr>\n",
       "    <tr>\n",
       "      <th>2</th>\n",
       "      <td>TEF</td>\n",
       "      <td>2021-01-26 18:37:52.000</td>\n",
       "      <td>El Ibex 35 ha regresado a las subidas y rozado...</td>\n",
       "      <td>0.032565</td>\n",
       "      <td>1</td>\n",
       "      <td>ibex 35 regresado subidas rozado cota puntos p...</td>\n",
       "      <td>-1</td>\n",
       "      <td>1</td>\n",
       "    </tr>\n",
       "    <tr>\n",
       "      <th>3</th>\n",
       "      <td>NTGY</td>\n",
       "      <td>2021-01-26 09:16:00.000</td>\n",
       "      <td>MADRID, 26 Ene. (EUROPA PRESS) - El Ibex 35 ha...</td>\n",
       "      <td>0.022345</td>\n",
       "      <td>1</td>\n",
       "      <td>26 ibex 35 iniciado sesión martes subida lleva...</td>\n",
       "      <td>0</td>\n",
       "      <td>1</td>\n",
       "    </tr>\n",
       "    <tr>\n",
       "      <th>4</th>\n",
       "      <td>ELE</td>\n",
       "      <td>2021-12-16 11:48:00.000</td>\n",
       "      <td>Naturgy se sitúa en la plaza 39 MADRID, 16 Dic...</td>\n",
       "      <td>-0.012581</td>\n",
       "      <td>-1</td>\n",
       "      <td>naturgy sitúa plaza 39 16 acciona energía reva...</td>\n",
       "      <td>0</td>\n",
       "      <td>-1</td>\n",
       "    </tr>\n",
       "    <tr>\n",
       "      <th>...</th>\n",
       "      <td>...</td>\n",
       "      <td>...</td>\n",
       "      <td>...</td>\n",
       "      <td>...</td>\n",
       "      <td>...</td>\n",
       "      <td>...</td>\n",
       "      <td>...</td>\n",
       "      <td>...</td>\n",
       "    </tr>\n",
       "    <tr>\n",
       "      <th>137</th>\n",
       "      <td>AMS</td>\n",
       "      <td>2021-07-13 08:33:01.000</td>\n",
       "      <td>Los inversores esperaban con cierto nerviosism...</td>\n",
       "      <td>-0.019445</td>\n",
       "      <td>-1</td>\n",
       "      <td>inversores esperaban cierto nerviosismo refere...</td>\n",
       "      <td>0</td>\n",
       "      <td>-1</td>\n",
       "    </tr>\n",
       "    <tr>\n",
       "      <th>138</th>\n",
       "      <td>AENA</td>\n",
       "      <td>2021-05-14 15:36:00.000</td>\n",
       "      <td>VALÈNCIA, 14 May. (EUROPA PRESS) - La aerolíne...</td>\n",
       "      <td>-0.023974</td>\n",
       "      <td>-1</td>\n",
       "      <td>14 aerolínea valenciana air nostrum vuelto rev...</td>\n",
       "      <td>-1</td>\n",
       "      <td>1</td>\n",
       "    </tr>\n",
       "    <tr>\n",
       "      <th>139</th>\n",
       "      <td>REP</td>\n",
       "      <td>2021-04-29 18:17:00.000</td>\n",
       "      <td>BARCELONA, 29 Abr. (EUROPA PRESS) - El piloto ...</td>\n",
       "      <td>-0.021390</td>\n",
       "      <td>-1</td>\n",
       "      <td>29 piloto motogp marc márquez reconocido tras ...</td>\n",
       "      <td>1</td>\n",
       "      <td>0</td>\n",
       "    </tr>\n",
       "    <tr>\n",
       "      <th>140</th>\n",
       "      <td>BKT</td>\n",
       "      <td>2021-06-21 14:12:00.000</td>\n",
       "      <td>Colocará en torno a 2.800 millones en el merca...</td>\n",
       "      <td>0.014920</td>\n",
       "      <td>1</td>\n",
       "      <td>colocará torno millones mercado si alcanza pre...</td>\n",
       "      <td>1</td>\n",
       "      <td>0</td>\n",
       "    </tr>\n",
       "    <tr>\n",
       "      <th>141</th>\n",
       "      <td>COL</td>\n",
       "      <td>2021-04-20 08:36:40.000</td>\n",
       "      <td>La alegría duró poco. Solo un día después de s...</td>\n",
       "      <td>0.023654</td>\n",
       "      <td>1</td>\n",
       "      <td>alegría duró solo día después superar barrera ...</td>\n",
       "      <td>0</td>\n",
       "      <td>-1</td>\n",
       "    </tr>\n",
       "  </tbody>\n",
       "</table>\n",
       "<p>142 rows × 8 columns</p>\n",
       "</div>"
      ],
      "text/plain": [
       "    ticker                     date  \\\n",
       "0      TEF  2021-11-21 11:42:00.000   \n",
       "1      ANA  2021-08-27 13:48:00.000   \n",
       "2      TEF  2021-01-26 18:37:52.000   \n",
       "3     NTGY  2021-01-26 09:16:00.000   \n",
       "4      ELE  2021-12-16 11:48:00.000   \n",
       "..     ...                      ...   \n",
       "137    AMS  2021-07-13 08:33:01.000   \n",
       "138   AENA  2021-05-14 15:36:00.000   \n",
       "139    REP  2021-04-29 18:17:00.000   \n",
       "140    BKT  2021-06-21 14:12:00.000   \n",
       "141    COL  2021-04-20 08:36:40.000   \n",
       "\n",
       "                                                  body     r_adj  label  \\\n",
       "0    El magistrado escuchará a varios imputados rel...  0.056964      1   \n",
       "1    SEVILLA, 27 Ago. (EUROPA PRESS) - La sección d...  0.012567      1   \n",
       "2    El Ibex 35 ha regresado a las subidas y rozado...  0.032565      1   \n",
       "3    MADRID, 26 Ene. (EUROPA PRESS) - El Ibex 35 ha...  0.022345      1   \n",
       "4    Naturgy se sitúa en la plaza 39 MADRID, 16 Dic... -0.012581     -1   \n",
       "..                                                 ...       ...    ...   \n",
       "137  Los inversores esperaban con cierto nerviosism... -0.019445     -1   \n",
       "138  VALÈNCIA, 14 May. (EUROPA PRESS) - La aerolíne... -0.023974     -1   \n",
       "139  BARCELONA, 29 Abr. (EUROPA PRESS) - El piloto ... -0.021390     -1   \n",
       "140  Colocará en torno a 2.800 millones en el merca...  0.014920      1   \n",
       "141  La alegría duró poco. Solo un día después de s...  0.023654      1   \n",
       "\n",
       "                                          texto_limpio  Finbert_label  \\\n",
       "0    magistrado escuchará varios imputados relacion...              1   \n",
       "1    27 sección agrupación sindical conductores soc...              1   \n",
       "2    ibex 35 regresado subidas rozado cota puntos p...             -1   \n",
       "3    26 ibex 35 iniciado sesión martes subida lleva...              0   \n",
       "4    naturgy sitúa plaza 39 16 acciona energía reva...              0   \n",
       "..                                                 ...            ...   \n",
       "137  inversores esperaban cierto nerviosismo refere...              0   \n",
       "138  14 aerolínea valenciana air nostrum vuelto rev...             -1   \n",
       "139  29 piloto motogp marc márquez reconocido tras ...              1   \n",
       "140  colocará torno millones mercado si alcanza pre...              1   \n",
       "141  alegría duró solo día después superar barrera ...              0   \n",
       "\n",
       "     Finbert_truncated  \n",
       "0                    0  \n",
       "1                    0  \n",
       "2                    1  \n",
       "3                    1  \n",
       "4                   -1  \n",
       "..                 ...  \n",
       "137                 -1  \n",
       "138                  1  \n",
       "139                  0  \n",
       "140                  0  \n",
       "141                 -1  \n",
       "\n",
       "[142 rows x 8 columns]"
      ]
     },
     "execution_count": 193,
     "metadata": {},
     "output_type": "execute_result"
    }
   ],
   "source": [
    "preds = classifier(consolidated, padding=True, truncation=True)\n",
    "dataset_preds[\"Finbert_truncated\"] = pd.DataFrame(preds).label.replace({\"positive\":1,\"neutral\":0,\"negative\":-1})\n",
    "dataset_preds"
   ]
  },
  {
   "cell_type": "markdown",
   "metadata": {},
   "source": [
    "Pseudo-accuracy para poder comparar resultados entre diferentes clasificaciones de sentimiento que hemos hecho:"
   ]
  },
  {
   "cell_type": "code",
   "execution_count": 200,
   "metadata": {},
   "outputs": [
    {
     "data": {
      "text/plain": [
       "0.323943661971831"
      ]
     },
     "execution_count": 200,
     "metadata": {},
     "output_type": "execute_result"
    }
   ],
   "source": [
    "sum(dataset_preds.label == dataset_preds.Finbert_truncated)/dataset_preds.shape[0]"
   ]
  },
  {
   "cell_type": "markdown",
   "metadata": {},
   "source": [
    "# Transfer Learning con FinBERT"
   ]
  },
  {
   "cell_type": "markdown",
   "metadata": {},
   "source": [
    "A continuación se reentrena la última capa únicamente de FinBERT para la clasificación de las labels del dataset de noticias y alpha."
   ]
  },
  {
   "cell_type": "code",
   "execution_count": 9,
   "metadata": {},
   "outputs": [
    {
     "data": {
      "text/plain": [
       "142"
      ]
     },
     "execution_count": 9,
     "metadata": {},
     "output_type": "execute_result"
    }
   ],
   "source": [
    "len(consolidated)"
   ]
  },
  {
   "cell_type": "code",
   "execution_count": 25,
   "metadata": {},
   "outputs": [],
   "source": [
    "dataset_preds = dataset.iloc[:len(consolidated)].copy()"
   ]
  },
  {
   "cell_type": "code",
   "execution_count": 26,
   "metadata": {},
   "outputs": [],
   "source": [
    "dataset_preds.label = dataset_preds.label.replace({-1:0})"
   ]
  },
  {
   "cell_type": "code",
   "execution_count": null,
   "metadata": {},
   "outputs": [],
   "source": [
    "import numpy as np\n",
    "proba_matrix = np.array(proba)\n",
    "dataset_preds[\"Finbert_TL_2label\"] = proba_matrix.argmax(axis=1)"
   ]
  },
  {
   "cell_type": "code",
   "execution_count": 27,
   "metadata": {},
   "outputs": [
    {
     "name": "stderr",
     "output_type": "stream",
     "text": [
      "Some weights of the PyTorch model were not used when initializing the TF 2.0 model TFBertForSequenceClassification: ['bert.embeddings.position_ids']\n",
      "- This IS expected if you are initializing TFBertForSequenceClassification from a PyTorch model trained on another task or with another architecture (e.g. initializing a TFBertForSequenceClassification model from a BertForPreTraining model).\n",
      "- This IS NOT expected if you are initializing TFBertForSequenceClassification from a PyTorch model that you expect to be exactly identical (e.g. initializing a TFBertForSequenceClassification model from a BertForSequenceClassification model).\n",
      "All the weights of TFBertForSequenceClassification were initialized from the PyTorch model.\n",
      "If your task is similar to the task the model of the checkpoint was trained on, you can already use TFBertForSequenceClassification for predictions without further training.\n"
     ]
    }
   ],
   "source": [
    "import tensorflow as tf\n",
    "import keras\n",
    "from tensorflow.keras.optimizers import Adam\n",
    "from transformers import AutoTokenizer, TFAutoModelForSequenceClassification\n",
    "\n",
    "tokenizer = AutoTokenizer.from_pretrained(\"ProsusAI/finbert\")\n",
    "model = TFAutoModelForSequenceClassification.from_pretrained(\"ProsusAI/finbert\", from_pt=True)"
   ]
  },
  {
   "cell_type": "code",
   "execution_count": 28,
   "metadata": {},
   "outputs": [],
   "source": [
    "model.layers[0].trainable=False\n",
    "model.layers[-1].units = 1\n",
    "model.layers[-1].activation=keras.activations.sigmoid"
   ]
  },
  {
   "cell_type": "code",
   "execution_count": 29,
   "metadata": {},
   "outputs": [],
   "source": [
    "model.compile(\n",
    "loss='binary_crossentropy',\n",
    "optimizer=Adam(learning_rate=0.0001),\n",
    "metrics=['accuracy']\n",
    ")"
   ]
  },
  {
   "cell_type": "code",
   "execution_count": 16,
   "metadata": {},
   "outputs": [],
   "source": [
    "from sklearn.model_selection import train_test_split\n",
    "\n",
    "x_train, x_test, y_train, y_test = train_test_split(consolidated, dataset_preds.label, test_size=0.2, random_state=42)"
   ]
  },
  {
   "cell_type": "code",
   "execution_count": 18,
   "metadata": {},
   "outputs": [],
   "source": [
    "x_train = tokenizer(x_train, padding=\"max_length\", truncation=True, return_tensors=\"tf\")"
   ]
  },
  {
   "cell_type": "code",
   "execution_count": 19,
   "metadata": {},
   "outputs": [],
   "source": [
    "x_test = tokenizer(x_test, padding=\"max_length\", truncation=True, return_tensors=\"tf\")"
   ]
  },
  {
   "cell_type": "code",
   "execution_count": null,
   "metadata": {},
   "outputs": [],
   "source": [
    "from tensorflow.keras.callbacks import ModelCheckpoint\n",
    "\n",
    "filepath = './checkpoint'\n",
    "model_checkpoint_callback = ModelCheckpoint(\n",
    "    filepath=filepath,\n",
    "    save_weights_only=True,\n",
    "    monitor='val_accuracy',\n",
    "    mode='max',\n",
    "    save_best_only=True\n",
    ")\n",
    "\n",
    "hist = model.fit(\n",
    "    x_train.data,\n",
    "    y_train,\n",
    "    batch_size=1,\n",
    "    epochs=200,\n",
    "    validation_split=0.1,\n",
    "    callbacks=[model_checkpoint_callback]\n",
    "    )"
   ]
  },
  {
   "cell_type": "code",
   "execution_count": null,
   "metadata": {},
   "outputs": [],
   "source": [
    "plt.plot(history.history['accuracy'])\n",
    "plt.plot(history.history['val_accuracy'])\n",
    "plt.legend()\n",
    "plt.grid()\n",
    "plt.show()"
   ]
  },
  {
   "cell_type": "code",
   "execution_count": null,
   "metadata": {},
   "outputs": [],
   "source": [
    "model.load_weights(filepath)\n",
    "model.evaluate(x_test.data, y_test)"
   ]
  },
  {
   "cell_type": "code",
   "execution_count": null,
   "metadata": {},
   "outputs": [],
   "source": [
    "y_pred = model.predict(x_test.data)"
   ]
  },
  {
   "cell_type": "code",
   "execution_count": null,
   "metadata": {},
   "outputs": [],
   "source": [
    "from sklearn.metrics import (classification_report,\n",
    "                             confusion_matrix,\n",
    "                             roc_auc_score, precision_score)"
   ]
  },
  {
   "cell_type": "code",
   "execution_count": null,
   "metadata": {},
   "outputs": [],
   "source": [
    "report = classification_report(y_test, y_pred)\n",
    "print(report)"
   ]
  },
  {
   "cell_type": "code",
   "execution_count": null,
   "metadata": {},
   "outputs": [],
   "source": [
    "import numpy as np\n",
    "import matplotlib as mpl\n",
    "import matplotlib.pyplot as plt\n",
    "import seaborn as sns\n",
    "\n",
    "def plot_cm(labels, predictions, p=0.5):\n",
    "    cm = confusion_matrix(labels, predictions)\n",
    "    plt.figure(figsize=(5, 5))\n",
    "    sns.heatmap(cm, annot=True, fmt=\"d\")\n",
    "    plt.title(\"Confusion matrix (non-normalized))\")\n",
    "    plt.ylabel(\"Actual label\")\n",
    "    plt.xlabel(\"Predicted label\")\n",
    "\n",
    "\n",
    "plot_cm(y_test, y_pred)"
   ]
  }
 ],
 "metadata": {
  "interpreter": {
   "hash": "9b3380a9a255533f2357de541ba55642e937a3ef31c8288352f6546b91f4a3ae"
  },
  "kernelspec": {
   "display_name": "Python 3.9.7 ('venv': venv)",
   "language": "python",
   "name": "python3"
  },
  "language_info": {
   "codemirror_mode": {
    "name": "ipython",
    "version": 3
   },
   "file_extension": ".py",
   "mimetype": "text/x-python",
   "name": "python",
   "nbconvert_exporter": "python",
   "pygments_lexer": "ipython3",
   "version": "3.9.7"
  },
  "orig_nbformat": 4
 },
 "nbformat": 4,
 "nbformat_minor": 2
}
