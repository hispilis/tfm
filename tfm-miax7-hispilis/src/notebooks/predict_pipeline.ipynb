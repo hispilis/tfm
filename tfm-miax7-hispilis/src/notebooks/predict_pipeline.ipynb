{
  "cells": [
    {
      "cell_type": "code",
      "execution_count": 1,
      "metadata": {
        "id": "aZNeLkFCgk6i"
      },
      "outputs": [],
      "source": [
        "import pandas as pd\n",
        "import numpy as np"
      ]
    },
    {
      "cell_type": "code",
      "execution_count": 2,
      "metadata": {
        "colab": {
          "base_uri": "https://localhost:8080/"
        },
        "id": "MxI0uKh6gzy0",
        "outputId": "dd2872e0-bdf5-4c57-9155-d37defe8917e"
      },
      "outputs": [
        {
          "name": "stdout",
          "output_type": "stream",
          "text": [
            "Mounted at /content/drive\n"
          ]
        }
      ],
      "source": [
        "from google.colab import drive\n",
        "drive.mount('/content/drive')\n",
        "!ln -s \"/content/drive/My Drive/Colab Notebooks/tfm\"\n",
        "import sys\n",
        "sys.path.append('tfm/checkpoints/')\n",
        "sys.path.append('tfm/outputs/')"
      ]
    },
    {
      "cell_type": "code",
      "execution_count": 186,
      "metadata": {
        "id": "1I71Cg-z643r"
      },
      "outputs": [],
      "source": [
        "filepath = \"tfm/outputs/dataset_2022_paragraph\" # Filepath COLAB\n",
        "filepath_news = \"tfm/outputs/dataset_2022_news\" # Filepath COLAB"
      ]
    },
    {
      "cell_type": "code",
      "execution_count": null,
      "metadata": {
        "id": "UXGHm6Y1741a"
      },
      "outputs": [],
      "source": [
        "#0. Partiendo de dataset_2021_paragraph.csv, lo pasamos por el annotator, para anotar manualmente un numero de párrafos"
      ]
    },
    {
      "cell_type": "code",
      "execution_count": null,
      "metadata": {
        "id": "qwkd44Sf6zXy"
      },
      "outputs": [],
      "source": [
        "#1. Leo dataset con anotaciones\n",
        "# df_annotated = pd.read_csv(f'{filepath}_annotated.csv', sep=\";\", parse_dates=[\"date\"], low_memory=False, lineterminator=\"\\n\")"
      ]
    },
    {
      "cell_type": "code",
      "execution_count": null,
      "metadata": {
        "id": "6Q6uBCED6zfH"
      },
      "outputs": [],
      "source": [
        "#2. Este dataset anotado, es la entrada a los modelos para estimar las features finanzas si/no e impacto si/no de la noticia"
      ]
    },
    {
      "cell_type": "code",
      "execution_count": null,
      "metadata": {
        "id": "PIvale3qxJoR"
      },
      "outputs": [],
      "source": [
        "#3. Unimos las datasets de finanzas e impacto"
      ]
    },
    {
      "cell_type": "code",
      "execution_count": 148,
      "metadata": {
        "id": "asGmrSOe6zh6"
      },
      "outputs": [],
      "source": [
        "df_predict_impacto_tag_s_n = pd.read_csv(f'{filepath}_predict_impacto_tag_s_n.csv', sep=\";\", parse_dates=[\"date\"], low_memory=False, lineterminator=\"\\n\")"
      ]
    },
    {
      "cell_type": "code",
      "execution_count": 5,
      "metadata": {
        "id": "CRxgEHiwH00o"
      },
      "outputs": [],
      "source": [
        "df = df_predict_impacto_tag_s_n.copy()"
      ]
    },
    {
      "cell_type": "code",
      "execution_count": 6,
      "metadata": {
        "colab": {
          "base_uri": "https://localhost:8080/"
        },
        "id": "M-UzgjjjB91I",
        "outputId": "e60f3ced-1c29-4c57-e3f3-a076a2222c97"
      },
      "outputs": [
        {
          "data": {
            "text/plain": [
              "1    425751\n",
              "0     73903\n",
              "Name: impacto_tag_s_n, dtype: int64"
            ]
          },
          "execution_count": 6,
          "metadata": {},
          "output_type": "execute_result"
        }
      ],
      "source": [
        "df_predict_impacto_tag_s_n.impacto_tag_s_n.value_counts()"
      ]
    },
    {
      "cell_type": "code",
      "execution_count": null,
      "metadata": {
        "id": "lpJxlz45E_1v"
      },
      "outputs": [],
      "source": [
        "df_predict_finanzas_tag_s_n = pd.read_csv(f'{filepath}_predict_finanzas_tag_s_n.csv', sep=\";\", parse_dates=[\"date\"], low_memory=False, lineterminator=\"\\n\")"
      ]
    },
    {
      "cell_type": "code",
      "execution_count": null,
      "metadata": {
        "colab": {
          "base_uri": "https://localhost:8080/"
        },
        "id": "VVdKedZjGUaA",
        "outputId": "aaca27b3-b998-4520-ddbd-e7cf2cd9dd82"
      },
      "outputs": [
        {
          "data": {
            "text/plain": [
              "1    423249\n",
              "0     76405\n",
              "Name: finanzas_tag_s_n, dtype: int64"
            ]
          },
          "execution_count": 13,
          "metadata": {},
          "output_type": "execute_result"
        }
      ],
      "source": [
        "df_predict_finanzas_tag_s_n.finanzas_tag_s_n.value_counts()"
      ]
    },
    {
      "cell_type": "code",
      "execution_count": null,
      "metadata": {
        "id": "VAI07FV6Jggi"
      },
      "outputs": [],
      "source": [
        "#MERGE finanzas tags\n",
        "df[\"finanzas_tag_s_n_confianza\"] = df_predict_finanzas_tag_s_n[\"finanzas_tag_s_n_confianza\"]\n",
        "df[\"finanzas_tag_s_proba\"] = df_predict_finanzas_tag_s_n[\"finanzas_tag_s_proba\"]\n",
        "df[\"finanzas_tag_s_n\"] = df_predict_finanzas_tag_s_n[\"finanzas_tag_s_n\"]"
      ]
    },
    {
      "cell_type": "code",
      "execution_count": null,
      "metadata": {
        "colab": {
          "base_uri": "https://localhost:8080/"
        },
        "id": "3iK9HNY_N-l3",
        "outputId": "0baad1bd-6a4e-4c00-a942-b908f7be39ff"
      },
      "outputs": [
        {
          "data": {
            "text/plain": [
              "pk                                    object\n",
              "pk_paragraph                          object\n",
              "date                          datetime64[ns]\n",
              "title                                 object\n",
              "url                                   object\n",
              "body                                  object\n",
              "tags                                  object\n",
              "resource                              object\n",
              "ticker                                object\n",
              "ticker_name                           object\n",
              "sector                                object\n",
              "subsector                             object\n",
              "ticker_freq                            int64\n",
              "ticker_first                         float64\n",
              "ticker_title                         float64\n",
              "tickers                               object\n",
              "entities                              object\n",
              "topic_classifier                      object\n",
              "topics                                object\n",
              "finanzas_prob                        float64\n",
              "sector_in_topics                       int64\n",
              "intensidad                           float64\n",
              "rd_activo_news                       float64\n",
              "rd_bench_news                        float64\n",
              "alpha_exante                         float64\n",
              "alpha_exante_Q1                      float64\n",
              "alpha_exante_below_Q1                   bool\n",
              "alpha_exante_Q3                      float64\n",
              "alpha_exante_above_Q3                   bool\n",
              "vola20_exante                        float64\n",
              "vola20_expost                        float64\n",
              "vola20_antepost_pct_change           float64\n",
              "vola20_umbral_Q1                     float64\n",
              "vola20_umbral_abs_Q1                 float64\n",
              "vola20_umbral_Q3                     float64\n",
              "vola20_umbral_abs_Q3                 float64\n",
              "vola_label                           float64\n",
              "vola_label_abs                       float64\n",
              "title_no_entities                     object\n",
              "body_no_entities                      object\n",
              "topic_classifier_news                 object\n",
              "topics_news                           object\n",
              "finanzas_prob_news                   float64\n",
              "sector_in_topics_news                  int64\n",
              "intensidad_news                      float64\n",
              "finanzas_tag_s_n                       int64\n",
              "impacto_tag_s_n                        int64\n",
              "topic_tag_news                       float64\n",
              "finanzas_tag_news_s_n                float64\n",
              "impacto_tag_news_s_n                 float64\n",
              "impacto_tag_s_n_confianza            float64\n",
              "impacto_tag_s_proba                  float64\n",
              "finanzas_tag_s_n_confianza           float64\n",
              "finanzas_tag_s_proba                 float64\n",
              "dtype: object"
            ]
          },
          "execution_count": 15,
          "metadata": {},
          "output_type": "execute_result"
        }
      ],
      "source": [
        "df.dtypes"
      ]
    },
    {
      "cell_type": "code",
      "execution_count": null,
      "metadata": {
        "id": "Fk9U5Ab_KVmJ"
      },
      "outputs": [],
      "source": [
        "df.to_csv(f'{filepath}_predict_impacto_finanzas_tag_s_n.csv', sep=\";\", index=True)"
      ]
    },
    {
      "cell_type": "code",
      "execution_count": null,
      "metadata": {
        "id": "gEE0xs8uKh02"
      },
      "outputs": [],
      "source": [
        "#3. Agregamos las features de párrafo a nivel noticia"
      ]
    },
    {
      "cell_type": "code",
      "execution_count": 187,
      "metadata": {
        "id": "GhioSyVeK9hv"
      },
      "outputs": [],
      "source": [
        "df_paragraph = pd.read_csv(f'{filepath}_predict_impacto_finanzas_tag_s_n.csv', sep=\";\", parse_dates=[\"date\"], low_memory=False, lineterminator=\"\\n\", index_col=0)"
      ]
    },
    {
      "cell_type": "code",
      "execution_count": 188,
      "metadata": {
        "colab": {
          "base_uri": "https://localhost:8080/"
        },
        "id": "Wcz752a2K9lC",
        "outputId": "95dc1b16-675d-4b48-b945-75b8f336d2af"
      },
      "outputs": [
        {
          "data": {
            "text/plain": [
              "(14372, 36)"
            ]
          },
          "execution_count": 188,
          "metadata": {},
          "output_type": "execute_result"
        }
      ],
      "source": [
        "df_news = pd.read_csv(f\"{filepath_news}.csv\", sep=\";\", parse_dates=[\"date\"], index_col=0)\n",
        "df_news.shape"
      ]
    },
    {
      "cell_type": "code",
      "execution_count": 189,
      "metadata": {
        "colab": {
          "base_uri": "https://localhost:8080/"
        },
        "id": "QG-FaZHFwApQ",
        "outputId": "6fb0be0e-41a3-495f-bec3-eecabe2ae21a"
      },
      "outputs": [
        {
          "data": {
            "text/plain": [
              "pk                                    object\n",
              "pk_paragraph                          object\n",
              "date                          datetime64[ns]\n",
              "title                                 object\n",
              "url                                   object\n",
              "body                                  object\n",
              "tags                                  object\n",
              "resource                              object\n",
              "ticker                                object\n",
              "ticker_name                           object\n",
              "sector                                object\n",
              "subsector                             object\n",
              "ticker_freq                            int64\n",
              "ticker_first                         float64\n",
              "ticker_title                         float64\n",
              "tickers                               object\n",
              "entities                              object\n",
              "topic_classifier                      object\n",
              "topics                                object\n",
              "finanzas_prob                        float64\n",
              "sector_in_topics                       int64\n",
              "intensidad                           float64\n",
              "rd_activo_news                       float64\n",
              "rd_bench_news                        float64\n",
              "alpha_exante                         float64\n",
              "alpha_exante_Q1                      float64\n",
              "alpha_exante_below_Q1                   bool\n",
              "alpha_exante_Q3                      float64\n",
              "alpha_exante_above_Q3                   bool\n",
              "vola20_exante                        float64\n",
              "vola20_expost                        float64\n",
              "vola20_antepost_pct_change           float64\n",
              "vola20_umbral_Q1                     float64\n",
              "vola20_umbral_abs_Q1                 float64\n",
              "vola20_umbral_Q3                     float64\n",
              "vola20_umbral_abs_Q3                 float64\n",
              "vola_label                           float64\n",
              "vola_label_abs                       float64\n",
              "title_no_entities                     object\n",
              "body_no_entities                      object\n",
              "topic_classifier_news                 object\n",
              "topics_news                           object\n",
              "finanzas_prob_news                   float64\n",
              "sector_in_topics_news                  int64\n",
              "intensidad_news                      float64\n",
              "finanzas_tag_s_n                       int64\n",
              "impacto_tag_s_n                        int64\n",
              "topic_tag_news                       float64\n",
              "finanzas_tag_news_s_n                float64\n",
              "impacto_tag_news_s_n                 float64\n",
              "impacto_tag_s_n_confianza            float64\n",
              "impacto_tag_s_proba                  float64\n",
              "finanzas_tag_s_n_confianza           float64\n",
              "finanzas_tag_s_proba                 float64\n",
              "dtype: object"
            ]
          },
          "execution_count": 189,
          "metadata": {},
          "output_type": "execute_result"
        }
      ],
      "source": [
        "df_paragraph.dtypes"
      ]
    },
    {
      "cell_type": "code",
      "execution_count": 190,
      "metadata": {
        "colab": {
          "base_uri": "https://localhost:8080/",
          "height": 1000
        },
        "id": "pl2OMKM64QW-",
        "outputId": "920e4d56-41d6-4911-c402-ea49308b380e"
      },
      "outputs": [
        {
          "name": "stdout",
          "output_type": "stream",
          "text": [
            "date                          datetime64[ns]\n",
            "title                                 object\n",
            "url                                   object\n",
            "body                                  object\n",
            "tags                                  object\n",
            "resource                              object\n",
            "ticker                                object\n",
            "ticker_name                           object\n",
            "sector                                object\n",
            "subsector                             object\n",
            "ticker_freq                            int64\n",
            "ticker_first                         float64\n",
            "ticker_title                         float64\n",
            "tickers                               object\n",
            "entities                              object\n",
            "topic_classifier                      object\n",
            "topics                                object\n",
            "finanzas_prob                        float64\n",
            "sector_in_topics                       int64\n",
            "intensidad                           float64\n",
            "rd_activo_news                       float64\n",
            "rd_bench_news                        float64\n",
            "alpha_exante                         float64\n",
            "alpha_exante_Q1                      float64\n",
            "alpha_exante_below_Q1                   bool\n",
            "alpha_exante_Q3                      float64\n",
            "alpha_exante_above_Q3                   bool\n",
            "vola20_exante                        float64\n",
            "vola20_expost                        float64\n",
            "vola20_antepost_pct_change           float64\n",
            "vola20_umbral_Q1                     float64\n",
            "vola20_umbral_abs_Q1                 float64\n",
            "vola20_umbral_Q3                     float64\n",
            "vola20_umbral_abs_Q3                 float64\n",
            "vola_label                           float64\n",
            "vola_label_abs                       float64\n",
            "dtype: object\n"
          ]
        },
        {
          "data": {
            "text/html": [
              "\n",
              "  <div id=\"df-5d29c468-d0af-4aed-a395-bd6e459a946a\">\n",
              "    <div class=\"colab-df-container\">\n",
              "      <div>\n",
              "<style scoped>\n",
              "    .dataframe tbody tr th:only-of-type {\n",
              "        vertical-align: middle;\n",
              "    }\n",
              "\n",
              "    .dataframe tbody tr th {\n",
              "        vertical-align: top;\n",
              "    }\n",
              "\n",
              "    .dataframe thead th {\n",
              "        text-align: right;\n",
              "    }\n",
              "</style>\n",
              "<table border=\"1\" class=\"dataframe\">\n",
              "  <thead>\n",
              "    <tr style=\"text-align: right;\">\n",
              "      <th></th>\n",
              "      <th>date</th>\n",
              "      <th>title</th>\n",
              "      <th>url</th>\n",
              "      <th>body</th>\n",
              "      <th>tags</th>\n",
              "      <th>resource</th>\n",
              "      <th>ticker</th>\n",
              "      <th>ticker_name</th>\n",
              "      <th>sector</th>\n",
              "      <th>subsector</th>\n",
              "      <th>...</th>\n",
              "      <th>alpha_exante_above_Q3</th>\n",
              "      <th>vola20_exante</th>\n",
              "      <th>vola20_expost</th>\n",
              "      <th>vola20_antepost_pct_change</th>\n",
              "      <th>vola20_umbral_Q1</th>\n",
              "      <th>vola20_umbral_abs_Q1</th>\n",
              "      <th>vola20_umbral_Q3</th>\n",
              "      <th>vola20_umbral_abs_Q3</th>\n",
              "      <th>vola_label</th>\n",
              "      <th>vola_label_abs</th>\n",
              "    </tr>\n",
              "    <tr>\n",
              "      <th>pk</th>\n",
              "      <th></th>\n",
              "      <th></th>\n",
              "      <th></th>\n",
              "      <th></th>\n",
              "      <th></th>\n",
              "      <th></th>\n",
              "      <th></th>\n",
              "      <th></th>\n",
              "      <th></th>\n",
              "      <th></th>\n",
              "      <th></th>\n",
              "      <th></th>\n",
              "      <th></th>\n",
              "      <th></th>\n",
              "      <th></th>\n",
              "      <th></th>\n",
              "      <th></th>\n",
              "      <th></th>\n",
              "      <th></th>\n",
              "      <th></th>\n",
              "      <th></th>\n",
              "    </tr>\n",
              "  </thead>\n",
              "  <tbody>\n",
              "    <tr>\n",
              "      <th>1656536901065_6_IBE</th>\n",
              "      <td>2022-01-01 02:38:00</td>\n",
              "      <td>Las vacunas, el Madrid de Ayuso y el Falcon de...</td>\n",
              "      <td>https://elpais.com/television/2022-01-01/las-v...</td>\n",
              "      <td>De haber empezado ahora sus carreras, Eugenio,...</td>\n",
              "      <td>['Televisión', 'Opinión', 'La 2', 'RTVE', 'Mús...</td>\n",
              "      <td>ELPAIS</td>\n",
              "      <td>IBE</td>\n",
              "      <td>IBERDROLA, S.A.</td>\n",
              "      <td>Petróleo y Energía</td>\n",
              "      <td>Electricidad y Gas</td>\n",
              "      <td>...</td>\n",
              "      <td>False</td>\n",
              "      <td>0.252305</td>\n",
              "      <td>0.156200</td>\n",
              "      <td>-0.380905</td>\n",
              "      <td>-0.415945</td>\n",
              "      <td>0.328537</td>\n",
              "      <td>-0.328537</td>\n",
              "      <td>0.415945</td>\n",
              "      <td>0.0</td>\n",
              "      <td>0.0</td>\n",
              "    </tr>\n",
              "    <tr>\n",
              "      <th>1656536877077_6_TEF</th>\n",
              "      <td>2022-01-01 04:29:00</td>\n",
              "      <td>“La homofobia no mengua con la vejez, al contr...</td>\n",
              "      <td>https://elpais.com/icon/2022-01-01/la-homofobi...</td>\n",
              "      <td>Entre un mar de ladrillos rojos y toldos verde...</td>\n",
              "      <td>['Comunidad Lgtbiq', 'Madrid', 'Residencias an...</td>\n",
              "      <td>ELPAIS</td>\n",
              "      <td>TEF</td>\n",
              "      <td>TELEFONICA, S.A.</td>\n",
              "      <td>Tecnología y Telecomunicaciones</td>\n",
              "      <td>Telecomunicaciones y Otros</td>\n",
              "      <td>...</td>\n",
              "      <td>False</td>\n",
              "      <td>0.260783</td>\n",
              "      <td>0.163380</td>\n",
              "      <td>-0.373501</td>\n",
              "      <td>-0.477420</td>\n",
              "      <td>0.399914</td>\n",
              "      <td>-0.399914</td>\n",
              "      <td>0.477420</td>\n",
              "      <td>1.0</td>\n",
              "      <td>0.0</td>\n",
              "    </tr>\n",
              "    <tr>\n",
              "      <th>1656536843436_6_CABK</th>\n",
              "      <td>2022-01-01 04:40:00</td>\n",
              "      <td>La espiral de la subida de precios mermará la ...</td>\n",
              "      <td>https://elpais.com/economia/2022-01-01/la-pand...</td>\n",
              "      <td>El coronavirus no es la única pandemia que suf...</td>\n",
              "      <td>['Inflación', 'Precios', 'España', 'Economía',...</td>\n",
              "      <td>ELPAIS</td>\n",
              "      <td>CABK</td>\n",
              "      <td>CAIXABANK, S.A.</td>\n",
              "      <td>Servicios Financieros</td>\n",
              "      <td>Bancos y Cajas de Ahorro</td>\n",
              "      <td>...</td>\n",
              "      <td>False</td>\n",
              "      <td>0.214840</td>\n",
              "      <td>0.306254</td>\n",
              "      <td>0.425497</td>\n",
              "      <td>-0.136999</td>\n",
              "      <td>0.053781</td>\n",
              "      <td>-0.021890</td>\n",
              "      <td>0.239339</td>\n",
              "      <td>1.0</td>\n",
              "      <td>1.0</td>\n",
              "    </tr>\n",
              "    <tr>\n",
              "      <th>1656536843436_6_TEF</th>\n",
              "      <td>2022-01-01 04:40:00</td>\n",
              "      <td>La espiral de la subida de precios mermará la ...</td>\n",
              "      <td>https://elpais.com/economia/2022-01-01/la-pand...</td>\n",
              "      <td>El coronavirus no es la única pandemia que suf...</td>\n",
              "      <td>['Inflación', 'Precios', 'España', 'Economía',...</td>\n",
              "      <td>ELPAIS</td>\n",
              "      <td>TEF</td>\n",
              "      <td>TELEFONICA, S.A.</td>\n",
              "      <td>Tecnología y Telecomunicaciones</td>\n",
              "      <td>Telecomunicaciones y Otros</td>\n",
              "      <td>...</td>\n",
              "      <td>False</td>\n",
              "      <td>0.260783</td>\n",
              "      <td>0.163380</td>\n",
              "      <td>-0.373501</td>\n",
              "      <td>-0.477420</td>\n",
              "      <td>0.399914</td>\n",
              "      <td>-0.399914</td>\n",
              "      <td>0.477420</td>\n",
              "      <td>1.0</td>\n",
              "      <td>0.0</td>\n",
              "    </tr>\n",
              "    <tr>\n",
              "      <th>1656536615350_6_BBVA</th>\n",
              "      <td>2022-01-01 08:42:56</td>\n",
              "      <td>«Poca gente va a tener un ordenador cuántico y...</td>\n",
              "      <td>https://www.abc.es/ciencia/abci-poca-gente-ten...</td>\n",
              "      <td>En 1984, Charles Bennett y Gilles Brassard inv...</td>\n",
              "      <td>['Fundacion BBVA', 'Bilbao', 'Física cuántica'...</td>\n",
              "      <td>ABC</td>\n",
              "      <td>BBVA</td>\n",
              "      <td>BANCO BILBAO VIZCAYA ARGENTARIA, S.A.</td>\n",
              "      <td>Servicios Financieros</td>\n",
              "      <td>Bancos y Cajas de Ahorro</td>\n",
              "      <td>...</td>\n",
              "      <td>False</td>\n",
              "      <td>0.245898</td>\n",
              "      <td>0.231248</td>\n",
              "      <td>-0.059578</td>\n",
              "      <td>-0.561311</td>\n",
              "      <td>0.364196</td>\n",
              "      <td>-0.364196</td>\n",
              "      <td>0.561311</td>\n",
              "      <td>1.0</td>\n",
              "      <td>0.0</td>\n",
              "    </tr>\n",
              "    <tr>\n",
              "      <th>...</th>\n",
              "      <td>...</td>\n",
              "      <td>...</td>\n",
              "      <td>...</td>\n",
              "      <td>...</td>\n",
              "      <td>...</td>\n",
              "      <td>...</td>\n",
              "      <td>...</td>\n",
              "      <td>...</td>\n",
              "      <td>...</td>\n",
              "      <td>...</td>\n",
              "      <td>...</td>\n",
              "      <td>...</td>\n",
              "      <td>...</td>\n",
              "      <td>...</td>\n",
              "      <td>...</td>\n",
              "      <td>...</td>\n",
              "      <td>...</td>\n",
              "      <td>...</td>\n",
              "      <td>...</td>\n",
              "      <td>...</td>\n",
              "      <td>...</td>\n",
              "    </tr>\n",
              "    <tr>\n",
              "      <th>1656540429231_6_SAN</th>\n",
              "      <td>2022-04-30 21:23:40</td>\n",
              "      <td>Empresa Familiar: 25 años de compromiso</td>\n",
              "      <td>https://www.abc.es/espana/castilla-leon/abci-e...</td>\n",
              "      <td>Unidos potenciamos las virtudes que hacen de l...</td>\n",
              "      <td>['Castilla y León', 'Alfonso Fernández Mañueco...</td>\n",
              "      <td>ABC</td>\n",
              "      <td>SAN</td>\n",
              "      <td>BANCO SANTANDER, S.A.</td>\n",
              "      <td>Servicios Financieros</td>\n",
              "      <td>Bancos y Cajas de Ahorro</td>\n",
              "      <td>...</td>\n",
              "      <td>True</td>\n",
              "      <td>0.370740</td>\n",
              "      <td>0.305502</td>\n",
              "      <td>-0.175968</td>\n",
              "      <td>-0.167242</td>\n",
              "      <td>0.130216</td>\n",
              "      <td>0.137923</td>\n",
              "      <td>0.174029</td>\n",
              "      <td>-1.0</td>\n",
              "      <td>-1.0</td>\n",
              "    </tr>\n",
              "    <tr>\n",
              "      <th>1656540135829_6_REP</th>\n",
              "      <td>2022-04-30 21:35:00</td>\n",
              "      <td>Jorge Lorenzo se convierte en 'Leyenda' del Mu...</td>\n",
              "      <td>https://www.europapress.es/deportes/motociclis...</td>\n",
              "      <td>MADRID, 30 Abr. (EUROPA PRESS) -&lt;EOL&gt;El expilo...</td>\n",
              "      <td>['Moto GP']</td>\n",
              "      <td>EUROPAPRESS</td>\n",
              "      <td>REP</td>\n",
              "      <td>REPSOL, S.A.</td>\n",
              "      <td>Petróleo y Energía</td>\n",
              "      <td>Petróleo</td>\n",
              "      <td>...</td>\n",
              "      <td>True</td>\n",
              "      <td>0.409904</td>\n",
              "      <td>0.427956</td>\n",
              "      <td>0.044040</td>\n",
              "      <td>0.289037</td>\n",
              "      <td>0.289037</td>\n",
              "      <td>0.653026</td>\n",
              "      <td>0.653026</td>\n",
              "      <td>-1.0</td>\n",
              "      <td>0.0</td>\n",
              "    </tr>\n",
              "    <tr>\n",
              "      <th>1656540395299_6_ACS</th>\n",
              "      <td>2022-04-30 22:51:13</td>\n",
              "      <td>El Madrid gana la Liga, en directo | Los campe...</td>\n",
              "      <td>https://www.abc.es/espana/madrid/abci-madrid-g...</td>\n",
              "      <td>La diosa Cibeles aguarda a los aficionados del...</td>\n",
              "      <td>['Real Madrid', 'Fútbol']</td>\n",
              "      <td>ABC</td>\n",
              "      <td>ACS</td>\n",
              "      <td>ACTIVIDADES DE CONST.Y SERVICIOS S.A</td>\n",
              "      <td>Mat.Basicos, Industria y Construcción</td>\n",
              "      <td>Construcción</td>\n",
              "      <td>...</td>\n",
              "      <td>False</td>\n",
              "      <td>0.214527</td>\n",
              "      <td>0.206707</td>\n",
              "      <td>-0.036449</td>\n",
              "      <td>-0.244060</td>\n",
              "      <td>0.031471</td>\n",
              "      <td>-0.028526</td>\n",
              "      <td>0.244060</td>\n",
              "      <td>0.0</td>\n",
              "      <td>0.0</td>\n",
              "    </tr>\n",
              "    <tr>\n",
              "      <th>1656540130419_6_ELE</th>\n",
              "      <td>2022-04-30 22:57:00</td>\n",
              "      <td>El Valencia defiende su 'Top 4' y el Lenovo Te...</td>\n",
              "      <td>https://www.europapress.es/deportes/baloncesto...</td>\n",
              "      <td>MADRID, 30 Abr. (EUROPA PRESS) -&lt;EOL&gt;El Valenc...</td>\n",
              "      <td>NaN</td>\n",
              "      <td>EUROPAPRESS</td>\n",
              "      <td>ELE</td>\n",
              "      <td>ENDESA, SOCIEDAD ANONIMA</td>\n",
              "      <td>Petróleo y Energía</td>\n",
              "      <td>Electricidad y Gas</td>\n",
              "      <td>...</td>\n",
              "      <td>False</td>\n",
              "      <td>0.215505</td>\n",
              "      <td>0.201642</td>\n",
              "      <td>-0.064331</td>\n",
              "      <td>-0.276871</td>\n",
              "      <td>0.116901</td>\n",
              "      <td>-0.116901</td>\n",
              "      <td>0.276871</td>\n",
              "      <td>1.0</td>\n",
              "      <td>0.0</td>\n",
              "    </tr>\n",
              "    <tr>\n",
              "      <th>1656540142836_6_IBE</th>\n",
              "      <td>2022-04-30 23:27:00</td>\n",
              "      <td>El Barça Femenino llega a la defensa final de ...</td>\n",
              "      <td>https://www.europapress.es/deportes/futbol-001...</td>\n",
              "      <td>El Barça llega a la parada final de la defensa...</td>\n",
              "      <td>['Champions League', 'Fútbol Club Barcelona', ...</td>\n",
              "      <td>EUROPAPRESS</td>\n",
              "      <td>IBE</td>\n",
              "      <td>IBERDROLA, S.A.</td>\n",
              "      <td>Petróleo y Energía</td>\n",
              "      <td>Electricidad y Gas</td>\n",
              "      <td>...</td>\n",
              "      <td>False</td>\n",
              "      <td>0.292561</td>\n",
              "      <td>0.239820</td>\n",
              "      <td>-0.180274</td>\n",
              "      <td>-0.241853</td>\n",
              "      <td>0.114447</td>\n",
              "      <td>-0.099588</td>\n",
              "      <td>0.241853</td>\n",
              "      <td>0.0</td>\n",
              "      <td>0.0</td>\n",
              "    </tr>\n",
              "  </tbody>\n",
              "</table>\n",
              "<p>14372 rows × 36 columns</p>\n",
              "</div>\n",
              "      <button class=\"colab-df-convert\" onclick=\"convertToInteractive('df-5d29c468-d0af-4aed-a395-bd6e459a946a')\"\n",
              "              title=\"Convert this dataframe to an interactive table.\"\n",
              "              style=\"display:none;\">\n",
              "        \n",
              "  <svg xmlns=\"http://www.w3.org/2000/svg\" height=\"24px\"viewBox=\"0 0 24 24\"\n",
              "       width=\"24px\">\n",
              "    <path d=\"M0 0h24v24H0V0z\" fill=\"none\"/>\n",
              "    <path d=\"M18.56 5.44l.94 2.06.94-2.06 2.06-.94-2.06-.94-.94-2.06-.94 2.06-2.06.94zm-11 1L8.5 8.5l.94-2.06 2.06-.94-2.06-.94L8.5 2.5l-.94 2.06-2.06.94zm10 10l.94 2.06.94-2.06 2.06-.94-2.06-.94-.94-2.06-.94 2.06-2.06.94z\"/><path d=\"M17.41 7.96l-1.37-1.37c-.4-.4-.92-.59-1.43-.59-.52 0-1.04.2-1.43.59L10.3 9.45l-7.72 7.72c-.78.78-.78 2.05 0 2.83L4 21.41c.39.39.9.59 1.41.59.51 0 1.02-.2 1.41-.59l7.78-7.78 2.81-2.81c.8-.78.8-2.07 0-2.86zM5.41 20L4 18.59l7.72-7.72 1.47 1.35L5.41 20z\"/>\n",
              "  </svg>\n",
              "      </button>\n",
              "      \n",
              "  <style>\n",
              "    .colab-df-container {\n",
              "      display:flex;\n",
              "      flex-wrap:wrap;\n",
              "      gap: 12px;\n",
              "    }\n",
              "\n",
              "    .colab-df-convert {\n",
              "      background-color: #E8F0FE;\n",
              "      border: none;\n",
              "      border-radius: 50%;\n",
              "      cursor: pointer;\n",
              "      display: none;\n",
              "      fill: #1967D2;\n",
              "      height: 32px;\n",
              "      padding: 0 0 0 0;\n",
              "      width: 32px;\n",
              "    }\n",
              "\n",
              "    .colab-df-convert:hover {\n",
              "      background-color: #E2EBFA;\n",
              "      box-shadow: 0px 1px 2px rgba(60, 64, 67, 0.3), 0px 1px 3px 1px rgba(60, 64, 67, 0.15);\n",
              "      fill: #174EA6;\n",
              "    }\n",
              "\n",
              "    [theme=dark] .colab-df-convert {\n",
              "      background-color: #3B4455;\n",
              "      fill: #D2E3FC;\n",
              "    }\n",
              "\n",
              "    [theme=dark] .colab-df-convert:hover {\n",
              "      background-color: #434B5C;\n",
              "      box-shadow: 0px 1px 3px 1px rgba(0, 0, 0, 0.15);\n",
              "      filter: drop-shadow(0px 1px 2px rgba(0, 0, 0, 0.3));\n",
              "      fill: #FFFFFF;\n",
              "    }\n",
              "  </style>\n",
              "\n",
              "      <script>\n",
              "        const buttonEl =\n",
              "          document.querySelector('#df-5d29c468-d0af-4aed-a395-bd6e459a946a button.colab-df-convert');\n",
              "        buttonEl.style.display =\n",
              "          google.colab.kernel.accessAllowed ? 'block' : 'none';\n",
              "\n",
              "        async function convertToInteractive(key) {\n",
              "          const element = document.querySelector('#df-5d29c468-d0af-4aed-a395-bd6e459a946a');\n",
              "          const dataTable =\n",
              "            await google.colab.kernel.invokeFunction('convertToInteractive',\n",
              "                                                     [key], {});\n",
              "          if (!dataTable) return;\n",
              "\n",
              "          const docLinkHtml = 'Like what you see? Visit the ' +\n",
              "            '<a target=\"_blank\" href=https://colab.research.google.com/notebooks/data_table.ipynb>data table notebook</a>'\n",
              "            + ' to learn more about interactive tables.';\n",
              "          element.innerHTML = '';\n",
              "          dataTable['output_type'] = 'display_data';\n",
              "          await google.colab.output.renderOutput(dataTable, element);\n",
              "          const docLink = document.createElement('div');\n",
              "          docLink.innerHTML = docLinkHtml;\n",
              "          element.appendChild(docLink);\n",
              "        }\n",
              "      </script>\n",
              "    </div>\n",
              "  </div>\n",
              "  "
            ],
            "text/plain": [
              "                                    date  \\\n",
              "pk                                         \n",
              "1656536901065_6_IBE  2022-01-01 02:38:00   \n",
              "1656536877077_6_TEF  2022-01-01 04:29:00   \n",
              "1656536843436_6_CABK 2022-01-01 04:40:00   \n",
              "1656536843436_6_TEF  2022-01-01 04:40:00   \n",
              "1656536615350_6_BBVA 2022-01-01 08:42:56   \n",
              "...                                  ...   \n",
              "1656540429231_6_SAN  2022-04-30 21:23:40   \n",
              "1656540135829_6_REP  2022-04-30 21:35:00   \n",
              "1656540395299_6_ACS  2022-04-30 22:51:13   \n",
              "1656540130419_6_ELE  2022-04-30 22:57:00   \n",
              "1656540142836_6_IBE  2022-04-30 23:27:00   \n",
              "\n",
              "                                                                  title  \\\n",
              "pk                                                                        \n",
              "1656536901065_6_IBE   Las vacunas, el Madrid de Ayuso y el Falcon de...   \n",
              "1656536877077_6_TEF   “La homofobia no mengua con la vejez, al contr...   \n",
              "1656536843436_6_CABK  La espiral de la subida de precios mermará la ...   \n",
              "1656536843436_6_TEF   La espiral de la subida de precios mermará la ...   \n",
              "1656536615350_6_BBVA  «Poca gente va a tener un ordenador cuántico y...   \n",
              "...                                                                 ...   \n",
              "1656540429231_6_SAN             Empresa Familiar: 25 años de compromiso   \n",
              "1656540135829_6_REP   Jorge Lorenzo se convierte en 'Leyenda' del Mu...   \n",
              "1656540395299_6_ACS   El Madrid gana la Liga, en directo | Los campe...   \n",
              "1656540130419_6_ELE   El Valencia defiende su 'Top 4' y el Lenovo Te...   \n",
              "1656540142836_6_IBE   El Barça Femenino llega a la defensa final de ...   \n",
              "\n",
              "                                                                    url  \\\n",
              "pk                                                                        \n",
              "1656536901065_6_IBE   https://elpais.com/television/2022-01-01/las-v...   \n",
              "1656536877077_6_TEF   https://elpais.com/icon/2022-01-01/la-homofobi...   \n",
              "1656536843436_6_CABK  https://elpais.com/economia/2022-01-01/la-pand...   \n",
              "1656536843436_6_TEF   https://elpais.com/economia/2022-01-01/la-pand...   \n",
              "1656536615350_6_BBVA  https://www.abc.es/ciencia/abci-poca-gente-ten...   \n",
              "...                                                                 ...   \n",
              "1656540429231_6_SAN   https://www.abc.es/espana/castilla-leon/abci-e...   \n",
              "1656540135829_6_REP   https://www.europapress.es/deportes/motociclis...   \n",
              "1656540395299_6_ACS   https://www.abc.es/espana/madrid/abci-madrid-g...   \n",
              "1656540130419_6_ELE   https://www.europapress.es/deportes/baloncesto...   \n",
              "1656540142836_6_IBE   https://www.europapress.es/deportes/futbol-001...   \n",
              "\n",
              "                                                                   body  \\\n",
              "pk                                                                        \n",
              "1656536901065_6_IBE   De haber empezado ahora sus carreras, Eugenio,...   \n",
              "1656536877077_6_TEF   Entre un mar de ladrillos rojos y toldos verde...   \n",
              "1656536843436_6_CABK  El coronavirus no es la única pandemia que suf...   \n",
              "1656536843436_6_TEF   El coronavirus no es la única pandemia que suf...   \n",
              "1656536615350_6_BBVA  En 1984, Charles Bennett y Gilles Brassard inv...   \n",
              "...                                                                 ...   \n",
              "1656540429231_6_SAN   Unidos potenciamos las virtudes que hacen de l...   \n",
              "1656540135829_6_REP   MADRID, 30 Abr. (EUROPA PRESS) -<EOL>El expilo...   \n",
              "1656540395299_6_ACS   La diosa Cibeles aguarda a los aficionados del...   \n",
              "1656540130419_6_ELE   MADRID, 30 Abr. (EUROPA PRESS) -<EOL>El Valenc...   \n",
              "1656540142836_6_IBE   El Barça llega a la parada final de la defensa...   \n",
              "\n",
              "                                                                   tags  \\\n",
              "pk                                                                        \n",
              "1656536901065_6_IBE   ['Televisión', 'Opinión', 'La 2', 'RTVE', 'Mús...   \n",
              "1656536877077_6_TEF   ['Comunidad Lgtbiq', 'Madrid', 'Residencias an...   \n",
              "1656536843436_6_CABK  ['Inflación', 'Precios', 'España', 'Economía',...   \n",
              "1656536843436_6_TEF   ['Inflación', 'Precios', 'España', 'Economía',...   \n",
              "1656536615350_6_BBVA  ['Fundacion BBVA', 'Bilbao', 'Física cuántica'...   \n",
              "...                                                                 ...   \n",
              "1656540429231_6_SAN   ['Castilla y León', 'Alfonso Fernández Mañueco...   \n",
              "1656540135829_6_REP                                         ['Moto GP']   \n",
              "1656540395299_6_ACS                           ['Real Madrid', 'Fútbol']   \n",
              "1656540130419_6_ELE                                                 NaN   \n",
              "1656540142836_6_IBE   ['Champions League', 'Fútbol Club Barcelona', ...   \n",
              "\n",
              "                         resource ticker  \\\n",
              "pk                                         \n",
              "1656536901065_6_IBE        ELPAIS    IBE   \n",
              "1656536877077_6_TEF        ELPAIS    TEF   \n",
              "1656536843436_6_CABK       ELPAIS   CABK   \n",
              "1656536843436_6_TEF        ELPAIS    TEF   \n",
              "1656536615350_6_BBVA          ABC   BBVA   \n",
              "...                           ...    ...   \n",
              "1656540429231_6_SAN           ABC    SAN   \n",
              "1656540135829_6_REP   EUROPAPRESS    REP   \n",
              "1656540395299_6_ACS           ABC    ACS   \n",
              "1656540130419_6_ELE   EUROPAPRESS    ELE   \n",
              "1656540142836_6_IBE   EUROPAPRESS    IBE   \n",
              "\n",
              "                                                ticker_name  \\\n",
              "pk                                                            \n",
              "1656536901065_6_IBE                         IBERDROLA, S.A.   \n",
              "1656536877077_6_TEF                        TELEFONICA, S.A.   \n",
              "1656536843436_6_CABK                        CAIXABANK, S.A.   \n",
              "1656536843436_6_TEF                        TELEFONICA, S.A.   \n",
              "1656536615350_6_BBVA  BANCO BILBAO VIZCAYA ARGENTARIA, S.A.   \n",
              "...                                                     ...   \n",
              "1656540429231_6_SAN                   BANCO SANTANDER, S.A.   \n",
              "1656540135829_6_REP                            REPSOL, S.A.   \n",
              "1656540395299_6_ACS    ACTIVIDADES DE CONST.Y SERVICIOS S.A   \n",
              "1656540130419_6_ELE                ENDESA, SOCIEDAD ANONIMA   \n",
              "1656540142836_6_IBE                         IBERDROLA, S.A.   \n",
              "\n",
              "                                                     sector  \\\n",
              "pk                                                            \n",
              "1656536901065_6_IBE                      Petróleo y Energía   \n",
              "1656536877077_6_TEF         Tecnología y Telecomunicaciones   \n",
              "1656536843436_6_CABK                  Servicios Financieros   \n",
              "1656536843436_6_TEF         Tecnología y Telecomunicaciones   \n",
              "1656536615350_6_BBVA                  Servicios Financieros   \n",
              "...                                                     ...   \n",
              "1656540429231_6_SAN                   Servicios Financieros   \n",
              "1656540135829_6_REP                      Petróleo y Energía   \n",
              "1656540395299_6_ACS   Mat.Basicos, Industria y Construcción   \n",
              "1656540130419_6_ELE                      Petróleo y Energía   \n",
              "1656540142836_6_IBE                      Petróleo y Energía   \n",
              "\n",
              "                                       subsector  ...  alpha_exante_above_Q3  \\\n",
              "pk                                                ...                          \n",
              "1656536901065_6_IBE           Electricidad y Gas  ...                  False   \n",
              "1656536877077_6_TEF   Telecomunicaciones y Otros  ...                  False   \n",
              "1656536843436_6_CABK    Bancos y Cajas de Ahorro  ...                  False   \n",
              "1656536843436_6_TEF   Telecomunicaciones y Otros  ...                  False   \n",
              "1656536615350_6_BBVA    Bancos y Cajas de Ahorro  ...                  False   \n",
              "...                                          ...  ...                    ...   \n",
              "1656540429231_6_SAN     Bancos y Cajas de Ahorro  ...                   True   \n",
              "1656540135829_6_REP                     Petróleo  ...                   True   \n",
              "1656540395299_6_ACS                 Construcción  ...                  False   \n",
              "1656540130419_6_ELE           Electricidad y Gas  ...                  False   \n",
              "1656540142836_6_IBE           Electricidad y Gas  ...                  False   \n",
              "\n",
              "                      vola20_exante  vola20_expost vola20_antepost_pct_change  \\\n",
              "pk                                                                              \n",
              "1656536901065_6_IBE        0.252305       0.156200                  -0.380905   \n",
              "1656536877077_6_TEF        0.260783       0.163380                  -0.373501   \n",
              "1656536843436_6_CABK       0.214840       0.306254                   0.425497   \n",
              "1656536843436_6_TEF        0.260783       0.163380                  -0.373501   \n",
              "1656536615350_6_BBVA       0.245898       0.231248                  -0.059578   \n",
              "...                             ...            ...                        ...   \n",
              "1656540429231_6_SAN        0.370740       0.305502                  -0.175968   \n",
              "1656540135829_6_REP        0.409904       0.427956                   0.044040   \n",
              "1656540395299_6_ACS        0.214527       0.206707                  -0.036449   \n",
              "1656540130419_6_ELE        0.215505       0.201642                  -0.064331   \n",
              "1656540142836_6_IBE        0.292561       0.239820                  -0.180274   \n",
              "\n",
              "                     vola20_umbral_Q1 vola20_umbral_abs_Q1 vola20_umbral_Q3  \\\n",
              "pk                                                                            \n",
              "1656536901065_6_IBE         -0.415945             0.328537        -0.328537   \n",
              "1656536877077_6_TEF         -0.477420             0.399914        -0.399914   \n",
              "1656536843436_6_CABK        -0.136999             0.053781        -0.021890   \n",
              "1656536843436_6_TEF         -0.477420             0.399914        -0.399914   \n",
              "1656536615350_6_BBVA        -0.561311             0.364196        -0.364196   \n",
              "...                               ...                  ...              ...   \n",
              "1656540429231_6_SAN         -0.167242             0.130216         0.137923   \n",
              "1656540135829_6_REP          0.289037             0.289037         0.653026   \n",
              "1656540395299_6_ACS         -0.244060             0.031471        -0.028526   \n",
              "1656540130419_6_ELE         -0.276871             0.116901        -0.116901   \n",
              "1656540142836_6_IBE         -0.241853             0.114447        -0.099588   \n",
              "\n",
              "                      vola20_umbral_abs_Q3  vola_label  vola_label_abs  \n",
              "pk                                                                      \n",
              "1656536901065_6_IBE               0.415945         0.0             0.0  \n",
              "1656536877077_6_TEF               0.477420         1.0             0.0  \n",
              "1656536843436_6_CABK              0.239339         1.0             1.0  \n",
              "1656536843436_6_TEF               0.477420         1.0             0.0  \n",
              "1656536615350_6_BBVA              0.561311         1.0             0.0  \n",
              "...                                    ...         ...             ...  \n",
              "1656540429231_6_SAN               0.174029        -1.0            -1.0  \n",
              "1656540135829_6_REP               0.653026        -1.0             0.0  \n",
              "1656540395299_6_ACS               0.244060         0.0             0.0  \n",
              "1656540130419_6_ELE               0.276871         1.0             0.0  \n",
              "1656540142836_6_IBE               0.241853         0.0             0.0  \n",
              "\n",
              "[14372 rows x 36 columns]"
            ]
          },
          "execution_count": 190,
          "metadata": {},
          "output_type": "execute_result"
        }
      ],
      "source": [
        "print(df_news.dtypes)\n",
        "df_news"
      ]
    },
    {
      "cell_type": "code",
      "execution_count": 191,
      "metadata": {
        "id": "ddtbJO8NGdk0"
      },
      "outputs": [],
      "source": [
        "df_grpby = df_paragraph.groupby(['pk'])"
      ]
    },
    {
      "cell_type": "code",
      "execution_count": 192,
      "metadata": {
        "id": "nxon155C_EIB"
      },
      "outputs": [],
      "source": [
        "df_news[\"body_no_entities\"] = df_paragraph.groupby(['pk'])['body_no_entities'].apply(lambda x: ' '.join(x))"
      ]
    },
    {
      "cell_type": "code",
      "execution_count": 193,
      "metadata": {
        "id": "U-ta6GMQbZyf"
      },
      "outputs": [],
      "source": [
        "df_news[\"title_no_entities\"] = df_paragraph.groupby(['pk']).first()['title_no_entities']"
      ]
    },
    {
      "cell_type": "code",
      "execution_count": 194,
      "metadata": {
        "colab": {
          "base_uri": "https://localhost:8080/"
        },
        "id": "hrtYEtymdGzJ",
        "outputId": "669c2c2d-118e-413d-9b94-44a720f8649e"
      },
      "outputs": [
        {
          "data": {
            "text/plain": [
              "1    133730\n",
              "0     26378\n",
              "Name: impacto_tag_s_n, dtype: int64"
            ]
          },
          "execution_count": 194,
          "metadata": {},
          "output_type": "execute_result"
        }
      ],
      "source": [
        "df_paragraph.impacto_tag_s_n.value_counts()\n",
        "# [('Sí', 0),\n",
        "# ('No', 1), "
      ]
    },
    {
      "cell_type": "code",
      "execution_count": 195,
      "metadata": {
        "id": "9G5fanu9dG62"
      },
      "outputs": [],
      "source": [
        "def func_apply(group):\n",
        "    # agregación de pesos de los párrafos a nivel de noticia dando más importancia a los primeros párrafos\n",
        "    idx = np.linspace(1,0,group.shape[0])    \n",
        "    return np.sum(idx * group.impacto_tag_s_n) / np.sum(idx)"
      ]
    },
    {
      "cell_type": "code",
      "execution_count": 196,
      "metadata": {
        "id": "KoHq-7pPfgQL"
      },
      "outputs": [],
      "source": [
        "df_news[\"impacto_tag_s_n\"] = df_grpby.apply(lambda x: func_apply(x))"
      ]
    },
    {
      "cell_type": "code",
      "execution_count": 197,
      "metadata": {
        "colab": {
          "base_uri": "https://localhost:8080/",
          "height": 282
        },
        "id": "PkIMUv9ifgTM",
        "outputId": "4e688c38-bc8d-4512-de04-6e09596a143d"
      },
      "outputs": [
        {
          "data": {
            "text/plain": [
              "<matplotlib.axes._subplots.AxesSubplot at 0x7f8b4b7a9d90>"
            ]
          },
          "execution_count": 197,
          "metadata": {},
          "output_type": "execute_result"
        },
        {
          "data": {
            "image/png": "[encoded data removed]",
            "text/plain": [
              "<Figure size 432x288 with 1 Axes>"
            ]
          },
          "metadata": {
            "needs_background": "light"
          },
          "output_type": "display_data"
        }
      ],
      "source": [
        "df_news[\"impacto_tag_s_n\"].hist()"
      ]
    },
    {
      "cell_type": "code",
      "execution_count": 198,
      "metadata": {
        "id": "Hzk6cLanfgWq"
      },
      "outputs": [],
      "source": [
        "df_news[\"impacto_tag_s_n\"] = df_news[\"impacto_tag_s_n\"] > 0.5\n",
        "df_news[\"impacto_tag_s_n\"] = df_news[\"impacto_tag_s_n\"].astype(int)"
      ]
    },
    {
      "cell_type": "code",
      "execution_count": 199,
      "metadata": {
        "colab": {
          "base_uri": "https://localhost:8080/"
        },
        "id": "E3gnHQyMfgaA",
        "outputId": "944e7572-f1a1-4337-aef5-64df7ce7e8d6"
      },
      "outputs": [
        {
          "data": {
            "text/plain": [
              "1    12796\n",
              "0     1576\n",
              "Name: impacto_tag_s_n, dtype: int64"
            ]
          },
          "execution_count": 199,
          "metadata": {},
          "output_type": "execute_result"
        }
      ],
      "source": [
        "df_news[\"impacto_tag_s_n\"].value_counts()"
      ]
    },
    {
      "cell_type": "code",
      "execution_count": 200,
      "metadata": {
        "id": "UWytp8fMm5Xy"
      },
      "outputs": [],
      "source": [
        "def func_apply(group):\n",
        "    # agregación de pesos de los párrafos a nivel de noticia dando más importancia a los primeros párrafos\n",
        "    idx = np.linspace(1,0,group.shape[0])    \n",
        "    return np.sum(idx * group.impacto_tag_s_proba) / np.sum(idx)"
      ]
    },
    {
      "cell_type": "code",
      "execution_count": 201,
      "metadata": {
        "id": "hrMGRbfzm5dw"
      },
      "outputs": [],
      "source": [
        "df_news[\"impacto_tag_s_proba\"] = df_grpby.apply(lambda x: func_apply(x))"
      ]
    },
    {
      "cell_type": "code",
      "execution_count": 202,
      "metadata": {
        "colab": {
          "base_uri": "https://localhost:8080/",
          "height": 282
        },
        "id": "VygU4O8jm5g6",
        "outputId": "59106517-b666-4648-9089-2d71f238bd4b"
      },
      "outputs": [
        {
          "data": {
            "text/plain": [
              "<matplotlib.axes._subplots.AxesSubplot at 0x7f8b4b394c50>"
            ]
          },
          "execution_count": 202,
          "metadata": {},
          "output_type": "execute_result"
        },
        {
          "data": {
            "image/png": "[encoded data removed]",
            "text/plain": [
              "<Figure size 432x288 with 1 Axes>"
            ]
          },
          "metadata": {
            "needs_background": "light"
          },
          "output_type": "display_data"
        }
      ],
      "source": [
        "df_news[\"impacto_tag_s_proba\"].hist()"
      ]
    },
    {
      "cell_type": "code",
      "execution_count": 203,
      "metadata": {
        "colab": {
          "base_uri": "https://localhost:8080/"
        },
        "id": "Iapety0NoEUC",
        "outputId": "d68a89c1-9d5b-4e2a-a0ff-adaf4d5e4713"
      },
      "outputs": [
        {
          "data": {
            "text/plain": [
              "1    132563\n",
              "0     27545\n",
              "Name: finanzas_tag_s_n, dtype: int64"
            ]
          },
          "execution_count": 203,
          "metadata": {},
          "output_type": "execute_result"
        }
      ],
      "source": [
        "df_paragraph.finanzas_tag_s_n.value_counts()"
      ]
    },
    {
      "cell_type": "code",
      "execution_count": 204,
      "metadata": {
        "id": "gXGbipfMnGjg"
      },
      "outputs": [],
      "source": [
        "def func_apply(group):\n",
        "    # agregación de pesos de los párrafos a nivel de noticia dando más importancia a los primeros párrafos\n",
        "    idx = np.linspace(1,0,group.shape[0])    \n",
        "    return np.sum(idx * group.finanzas_tag_s_n) / np.sum(idx)"
      ]
    },
    {
      "cell_type": "code",
      "execution_count": 205,
      "metadata": {
        "id": "EhoIcjzRnGor"
      },
      "outputs": [],
      "source": [
        "df_news[\"finanzas_tag_s_n\"] = df_grpby.apply(lambda x: func_apply(x))"
      ]
    },
    {
      "cell_type": "code",
      "execution_count": 206,
      "metadata": {
        "colab": {
          "base_uri": "https://localhost:8080/",
          "height": 282
        },
        "id": "2ZMOtNW9nGuh",
        "outputId": "242da4a4-84d8-4d4a-c33e-bab7010d018f"
      },
      "outputs": [
        {
          "data": {
            "text/plain": [
              "<matplotlib.axes._subplots.AxesSubplot at 0x7f8b4afa8810>"
            ]
          },
          "execution_count": 206,
          "metadata": {},
          "output_type": "execute_result"
        },
        {
          "data": {
            "image/png": "[encoded data removed]",
            "text/plain": [
              "<Figure size 432x288 with 1 Axes>"
            ]
          },
          "metadata": {
            "needs_background": "light"
          },
          "output_type": "display_data"
        }
      ],
      "source": [
        "df_news[\"finanzas_tag_s_n\"].hist()"
      ]
    },
    {
      "cell_type": "code",
      "execution_count": 207,
      "metadata": {
        "id": "OIQcgwL2n3jt"
      },
      "outputs": [],
      "source": [
        "df_news[\"finanzas_tag_s_n\"] = df_news[\"finanzas_tag_s_n\"] > 0.5\n",
        "df_news[\"finanzas_tag_s_n\"] = df_news[\"finanzas_tag_s_n\"].astype(int)"
      ]
    },
    {
      "cell_type": "code",
      "execution_count": 208,
      "metadata": {
        "colab": {
          "base_uri": "https://localhost:8080/"
        },
        "id": "VWJsw1tDn3mm",
        "outputId": "0e74eed3-b4ee-45bc-ee63-5c42a45dc040"
      },
      "outputs": [
        {
          "data": {
            "text/plain": [
              "1    12377\n",
              "0     1995\n",
              "Name: finanzas_tag_s_n, dtype: int64"
            ]
          },
          "execution_count": 208,
          "metadata": {},
          "output_type": "execute_result"
        }
      ],
      "source": [
        "df_news[\"finanzas_tag_s_n\"].value_counts()"
      ]
    },
    {
      "cell_type": "code",
      "execution_count": 209,
      "metadata": {
        "id": "Yb7GlVZ3n3pu"
      },
      "outputs": [],
      "source": [
        "def func_apply(group):\n",
        "    # agregación de pesos de los párrafos a nivel de noticia dando más importancia a los primeros párrafos\n",
        "    idx = np.linspace(1,0,group.shape[0])    \n",
        "    return np.sum(idx * group.finanzas_tag_s_proba) / np.sum(idx)"
      ]
    },
    {
      "cell_type": "code",
      "execution_count": 210,
      "metadata": {
        "id": "3PfBk80Jm5kA"
      },
      "outputs": [],
      "source": [
        "df_news[\"finanzas_tag_s_proba\"] = df_grpby.apply(lambda x: func_apply(x))"
      ]
    },
    {
      "cell_type": "code",
      "execution_count": 211,
      "metadata": {
        "colab": {
          "base_uri": "https://localhost:8080/",
          "height": 282
        },
        "id": "WfjIa2wMm5o2",
        "outputId": "2b352b4a-7538-43cf-d738-f1330ebb9fcb"
      },
      "outputs": [
        {
          "data": {
            "text/plain": [
              "<matplotlib.axes._subplots.AxesSubplot at 0x7f8b4afafb90>"
            ]
          },
          "execution_count": 211,
          "metadata": {},
          "output_type": "execute_result"
        },
        {
          "data": {
            "image/png": "[encoded data removed]",
            "text/plain": [
              "<Figure size 432x288 with 1 Axes>"
            ]
          },
          "metadata": {
            "needs_background": "light"
          },
          "output_type": "display_data"
        }
      ],
      "source": [
        "df_news[\"finanzas_tag_s_proba\"].hist()"
      ]
    },
    {
      "cell_type": "code",
      "execution_count": null,
      "metadata": {
        "id": "r5PD43A7Gdvp"
      },
      "outputs": [],
      "source": [
        "# Otra modalidad más simple de agregar a nivel noticia la información de los párrafos\n",
        "# df_agg = df_grpby.agg({'finanzas_tag_s_n' : 'sum',\n",
        "#                        'impacto_tag_s_n' : 'sum',\n",
        "#                        'impacto_tag_s_proba':'sum', \n",
        "#                        'finanzas_tag_s_proba':'sum', \n",
        "#                        'ticker':'count'\n",
        "#                        })"
      ]
    },
    {
      "cell_type": "code",
      "execution_count": null,
      "metadata": {
        "id": "4GRZESDzvoM2"
      },
      "outputs": [],
      "source": [
        "# df_news[\"finanzas_tag_s_n\"] = (df_agg.finanzas_tag_s_n / df_agg.ticker)>0.5\n",
        "# df_news[\"finanzas_tag_s_n\"] = df_news[\"finanzas_tag_s_n\"].astype(int)\n",
        "# df_news[\"impacto_tag_s_n\"] = (df_agg.impacto_tag_s_n / df_agg.ticker)>0.5\n",
        "# df_news[\"impacto_tag_s_n\"] = df_news[\"impacto_tag_s_n\"].astype(int)\n",
        "\n",
        "# df_news[\"impacto_tag_s_proba\"] = df_agg.impacto_tag_s_proba / df_agg.ticker\n",
        "# df_news[\"finanzas_tag_s_proba\"] = df_agg.finanzas_tag_s_proba / df_agg.ticker"
      ]
    },
    {
      "cell_type": "code",
      "execution_count": 212,
      "metadata": {
        "colab": {
          "base_uri": "https://localhost:8080/",
          "height": 1000
        },
        "id": "oIRYVyHMPzU_",
        "outputId": "eeaf33fd-765e-4a7f-9c3a-4d6ecabf66b9"
      },
      "outputs": [
        {
          "data": {
            "text/html": [
              "\n",
              "  <div id=\"df-cc4df9e7-ac4e-4382-83b4-0d22a19af295\">\n",
              "    <div class=\"colab-df-container\">\n",
              "      <div>\n",
              "<style scoped>\n",
              "    .dataframe tbody tr th:only-of-type {\n",
              "        vertical-align: middle;\n",
              "    }\n",
              "\n",
              "    .dataframe tbody tr th {\n",
              "        vertical-align: top;\n",
              "    }\n",
              "\n",
              "    .dataframe thead th {\n",
              "        text-align: right;\n",
              "    }\n",
              "</style>\n",
              "<table border=\"1\" class=\"dataframe\">\n",
              "  <thead>\n",
              "    <tr style=\"text-align: right;\">\n",
              "      <th></th>\n",
              "      <th>date</th>\n",
              "      <th>title</th>\n",
              "      <th>url</th>\n",
              "      <th>body</th>\n",
              "      <th>tags</th>\n",
              "      <th>resource</th>\n",
              "      <th>ticker</th>\n",
              "      <th>ticker_name</th>\n",
              "      <th>sector</th>\n",
              "      <th>subsector</th>\n",
              "      <th>...</th>\n",
              "      <th>vola20_umbral_Q3</th>\n",
              "      <th>vola20_umbral_abs_Q3</th>\n",
              "      <th>vola_label</th>\n",
              "      <th>vola_label_abs</th>\n",
              "      <th>body_no_entities</th>\n",
              "      <th>title_no_entities</th>\n",
              "      <th>impacto_tag_s_n</th>\n",
              "      <th>impacto_tag_s_proba</th>\n",
              "      <th>finanzas_tag_s_n</th>\n",
              "      <th>finanzas_tag_s_proba</th>\n",
              "    </tr>\n",
              "    <tr>\n",
              "      <th>pk</th>\n",
              "      <th></th>\n",
              "      <th></th>\n",
              "      <th></th>\n",
              "      <th></th>\n",
              "      <th></th>\n",
              "      <th></th>\n",
              "      <th></th>\n",
              "      <th></th>\n",
              "      <th></th>\n",
              "      <th></th>\n",
              "      <th></th>\n",
              "      <th></th>\n",
              "      <th></th>\n",
              "      <th></th>\n",
              "      <th></th>\n",
              "      <th></th>\n",
              "      <th></th>\n",
              "      <th></th>\n",
              "      <th></th>\n",
              "      <th></th>\n",
              "      <th></th>\n",
              "    </tr>\n",
              "  </thead>\n",
              "  <tbody>\n",
              "    <tr>\n",
              "      <th>1656536901065_6_IBE</th>\n",
              "      <td>2022-01-01 02:38:00</td>\n",
              "      <td>Las vacunas, el Madrid de Ayuso y el Falcon de...</td>\n",
              "      <td>https://elpais.com/television/2022-01-01/las-v...</td>\n",
              "      <td>De haber empezado ahora sus carreras, Eugenio,...</td>\n",
              "      <td>['Televisión', 'Opinión', 'La 2', 'RTVE', 'Mús...</td>\n",
              "      <td>ELPAIS</td>\n",
              "      <td>IBE</td>\n",
              "      <td>IBERDROLA, S.A.</td>\n",
              "      <td>Petróleo y Energía</td>\n",
              "      <td>Electricidad y Gas</td>\n",
              "      <td>...</td>\n",
              "      <td>-0.328537</td>\n",
              "      <td>0.415945</td>\n",
              "      <td>0.0</td>\n",
              "      <td>0.0</td>\n",
              "      <td>De haber empezado ahora sus carreras, Eugenio,...</td>\n",
              "      <td>Las vacunas, el Madrid de Ayuso y el Falcon de...</td>\n",
              "      <td>1</td>\n",
              "      <td>0.073654</td>\n",
              "      <td>1</td>\n",
              "      <td>0.011043</td>\n",
              "    </tr>\n",
              "    <tr>\n",
              "      <th>1656536877077_6_TEF</th>\n",
              "      <td>2022-01-01 04:29:00</td>\n",
              "      <td>“La homofobia no mengua con la vejez, al contr...</td>\n",
              "      <td>https://elpais.com/icon/2022-01-01/la-homofobi...</td>\n",
              "      <td>Entre un mar de ladrillos rojos y toldos verde...</td>\n",
              "      <td>['Comunidad Lgtbiq', 'Madrid', 'Residencias an...</td>\n",
              "      <td>ELPAIS</td>\n",
              "      <td>TEF</td>\n",
              "      <td>TELEFONICA, S.A.</td>\n",
              "      <td>Tecnología y Telecomunicaciones</td>\n",
              "      <td>Telecomunicaciones y Otros</td>\n",
              "      <td>...</td>\n",
              "      <td>-0.399914</td>\n",
              "      <td>0.477420</td>\n",
              "      <td>1.0</td>\n",
              "      <td>0.0</td>\n",
              "      <td>Entre un mar de ladrillos rojos y toldos verde...</td>\n",
              "      <td>“La homofobia no mengua con la vejez, al contr...</td>\n",
              "      <td>1</td>\n",
              "      <td>0.110269</td>\n",
              "      <td>1</td>\n",
              "      <td>0.029852</td>\n",
              "    </tr>\n",
              "    <tr>\n",
              "      <th>1656536843436_6_CABK</th>\n",
              "      <td>2022-01-01 04:40:00</td>\n",
              "      <td>La espiral de la subida de precios mermará la ...</td>\n",
              "      <td>https://elpais.com/economia/2022-01-01/la-pand...</td>\n",
              "      <td>El coronavirus no es la única pandemia que suf...</td>\n",
              "      <td>['Inflación', 'Precios', 'España', 'Economía',...</td>\n",
              "      <td>ELPAIS</td>\n",
              "      <td>CABK</td>\n",
              "      <td>CAIXABANK, S.A.</td>\n",
              "      <td>Servicios Financieros</td>\n",
              "      <td>Bancos y Cajas de Ahorro</td>\n",
              "      <td>...</td>\n",
              "      <td>-0.021890</td>\n",
              "      <td>0.239339</td>\n",
              "      <td>1.0</td>\n",
              "      <td>1.0</td>\n",
              "      <td>El coronavirus no es la única pandemia que suf...</td>\n",
              "      <td>La espiral de la subida de precios mermará la ...</td>\n",
              "      <td>1</td>\n",
              "      <td>0.449562</td>\n",
              "      <td>1</td>\n",
              "      <td>0.228651</td>\n",
              "    </tr>\n",
              "    <tr>\n",
              "      <th>1656536843436_6_TEF</th>\n",
              "      <td>2022-01-01 04:40:00</td>\n",
              "      <td>La espiral de la subida de precios mermará la ...</td>\n",
              "      <td>https://elpais.com/economia/2022-01-01/la-pand...</td>\n",
              "      <td>El coronavirus no es la única pandemia que suf...</td>\n",
              "      <td>['Inflación', 'Precios', 'España', 'Economía',...</td>\n",
              "      <td>ELPAIS</td>\n",
              "      <td>TEF</td>\n",
              "      <td>TELEFONICA, S.A.</td>\n",
              "      <td>Tecnología y Telecomunicaciones</td>\n",
              "      <td>Telecomunicaciones y Otros</td>\n",
              "      <td>...</td>\n",
              "      <td>-0.399914</td>\n",
              "      <td>0.477420</td>\n",
              "      <td>1.0</td>\n",
              "      <td>0.0</td>\n",
              "      <td>El coronavirus no es la única pandemia que suf...</td>\n",
              "      <td>La espiral de la subida de precios mermará la ...</td>\n",
              "      <td>1</td>\n",
              "      <td>0.449562</td>\n",
              "      <td>1</td>\n",
              "      <td>0.228651</td>\n",
              "    </tr>\n",
              "    <tr>\n",
              "      <th>1656536615350_6_BBVA</th>\n",
              "      <td>2022-01-01 08:42:56</td>\n",
              "      <td>«Poca gente va a tener un ordenador cuántico y...</td>\n",
              "      <td>https://www.abc.es/ciencia/abci-poca-gente-ten...</td>\n",
              "      <td>En 1984, Charles Bennett y Gilles Brassard inv...</td>\n",
              "      <td>['Fundacion BBVA', 'Bilbao', 'Física cuántica'...</td>\n",
              "      <td>ABC</td>\n",
              "      <td>BBVA</td>\n",
              "      <td>BANCO BILBAO VIZCAYA ARGENTARIA, S.A.</td>\n",
              "      <td>Servicios Financieros</td>\n",
              "      <td>Bancos y Cajas de Ahorro</td>\n",
              "      <td>...</td>\n",
              "      <td>-0.364196</td>\n",
              "      <td>0.561311</td>\n",
              "      <td>1.0</td>\n",
              "      <td>0.0</td>\n",
              "      <td>En 1984, Charles Bennett y Gilles Brassard inv...</td>\n",
              "      <td>«Poca gente va a tener un ordenador cuántico y...</td>\n",
              "      <td>1</td>\n",
              "      <td>0.102274</td>\n",
              "      <td>1</td>\n",
              "      <td>0.039670</td>\n",
              "    </tr>\n",
              "    <tr>\n",
              "      <th>...</th>\n",
              "      <td>...</td>\n",
              "      <td>...</td>\n",
              "      <td>...</td>\n",
              "      <td>...</td>\n",
              "      <td>...</td>\n",
              "      <td>...</td>\n",
              "      <td>...</td>\n",
              "      <td>...</td>\n",
              "      <td>...</td>\n",
              "      <td>...</td>\n",
              "      <td>...</td>\n",
              "      <td>...</td>\n",
              "      <td>...</td>\n",
              "      <td>...</td>\n",
              "      <td>...</td>\n",
              "      <td>...</td>\n",
              "      <td>...</td>\n",
              "      <td>...</td>\n",
              "      <td>...</td>\n",
              "      <td>...</td>\n",
              "      <td>...</td>\n",
              "    </tr>\n",
              "    <tr>\n",
              "      <th>1656540429231_6_SAN</th>\n",
              "      <td>2022-04-30 21:23:40</td>\n",
              "      <td>Empresa Familiar: 25 años de compromiso</td>\n",
              "      <td>https://www.abc.es/espana/castilla-leon/abci-e...</td>\n",
              "      <td>Unidos potenciamos las virtudes que hacen de l...</td>\n",
              "      <td>['Castilla y León', 'Alfonso Fernández Mañueco...</td>\n",
              "      <td>ABC</td>\n",
              "      <td>SAN</td>\n",
              "      <td>BANCO SANTANDER, S.A.</td>\n",
              "      <td>Servicios Financieros</td>\n",
              "      <td>Bancos y Cajas de Ahorro</td>\n",
              "      <td>...</td>\n",
              "      <td>0.137923</td>\n",
              "      <td>0.174029</td>\n",
              "      <td>-1.0</td>\n",
              "      <td>-1.0</td>\n",
              "      <td>Unidos potenciamos las virtudes que hacen de l...</td>\n",
              "      <td>Empresa Familiar: 25 años de compromiso</td>\n",
              "      <td>1</td>\n",
              "      <td>0.125036</td>\n",
              "      <td>1</td>\n",
              "      <td>0.045951</td>\n",
              "    </tr>\n",
              "    <tr>\n",
              "      <th>1656540135829_6_REP</th>\n",
              "      <td>2022-04-30 21:35:00</td>\n",
              "      <td>Jorge Lorenzo se convierte en 'Leyenda' del Mu...</td>\n",
              "      <td>https://www.europapress.es/deportes/motociclis...</td>\n",
              "      <td>MADRID, 30 Abr. (EUROPA PRESS) -&lt;EOL&gt;El expilo...</td>\n",
              "      <td>['Moto GP']</td>\n",
              "      <td>EUROPAPRESS</td>\n",
              "      <td>REP</td>\n",
              "      <td>REPSOL, S.A.</td>\n",
              "      <td>Petróleo y Energía</td>\n",
              "      <td>Petróleo</td>\n",
              "      <td>...</td>\n",
              "      <td>0.653026</td>\n",
              "      <td>0.653026</td>\n",
              "      <td>-1.0</td>\n",
              "      <td>0.0</td>\n",
              "      <td>MADRID, 30 Abr. (EUROPA PRESS) - El expiloto e...</td>\n",
              "      <td>Jorge Lorenzo se convierte en 'Leyenda' del Mu...</td>\n",
              "      <td>1</td>\n",
              "      <td>0.115918</td>\n",
              "      <td>1</td>\n",
              "      <td>0.016503</td>\n",
              "    </tr>\n",
              "    <tr>\n",
              "      <th>1656540395299_6_ACS</th>\n",
              "      <td>2022-04-30 22:51:13</td>\n",
              "      <td>El Madrid gana la Liga, en directo | Los campe...</td>\n",
              "      <td>https://www.abc.es/espana/madrid/abci-madrid-g...</td>\n",
              "      <td>La diosa Cibeles aguarda a los aficionados del...</td>\n",
              "      <td>['Real Madrid', 'Fútbol']</td>\n",
              "      <td>ABC</td>\n",
              "      <td>ACS</td>\n",
              "      <td>ACTIVIDADES DE CONST.Y SERVICIOS S.A</td>\n",
              "      <td>Mat.Basicos, Industria y Construcción</td>\n",
              "      <td>Construcción</td>\n",
              "      <td>...</td>\n",
              "      <td>-0.028526</td>\n",
              "      <td>0.244060</td>\n",
              "      <td>0.0</td>\n",
              "      <td>0.0</td>\n",
              "      <td>La diosa Cibeles aguarda a los aficionados del...</td>\n",
              "      <td>El Madrid gana la Liga, en directo | Los campe...</td>\n",
              "      <td>1</td>\n",
              "      <td>0.089950</td>\n",
              "      <td>1</td>\n",
              "      <td>0.018958</td>\n",
              "    </tr>\n",
              "    <tr>\n",
              "      <th>1656540130419_6_ELE</th>\n",
              "      <td>2022-04-30 22:57:00</td>\n",
              "      <td>El Valencia defiende su 'Top 4' y el Lenovo Te...</td>\n",
              "      <td>https://www.europapress.es/deportes/baloncesto...</td>\n",
              "      <td>MADRID, 30 Abr. (EUROPA PRESS) -&lt;EOL&gt;El Valenc...</td>\n",
              "      <td>NaN</td>\n",
              "      <td>EUROPAPRESS</td>\n",
              "      <td>ELE</td>\n",
              "      <td>ENDESA, SOCIEDAD ANONIMA</td>\n",
              "      <td>Petróleo y Energía</td>\n",
              "      <td>Electricidad y Gas</td>\n",
              "      <td>...</td>\n",
              "      <td>-0.116901</td>\n",
              "      <td>0.276871</td>\n",
              "      <td>1.0</td>\n",
              "      <td>0.0</td>\n",
              "      <td>MADRID, 30 Abr. (EUROPA PRESS) - El Valencia B...</td>\n",
              "      <td>El Valencia defiende su 'Top 4' y el Lenovo Te...</td>\n",
              "      <td>1</td>\n",
              "      <td>0.098482</td>\n",
              "      <td>1</td>\n",
              "      <td>0.042956</td>\n",
              "    </tr>\n",
              "    <tr>\n",
              "      <th>1656540142836_6_IBE</th>\n",
              "      <td>2022-04-30 23:27:00</td>\n",
              "      <td>El Barça Femenino llega a la defensa final de ...</td>\n",
              "      <td>https://www.europapress.es/deportes/futbol-001...</td>\n",
              "      <td>El Barça llega a la parada final de la defensa...</td>\n",
              "      <td>['Champions League', 'Fútbol Club Barcelona', ...</td>\n",
              "      <td>EUROPAPRESS</td>\n",
              "      <td>IBE</td>\n",
              "      <td>IBERDROLA, S.A.</td>\n",
              "      <td>Petróleo y Energía</td>\n",
              "      <td>Electricidad y Gas</td>\n",
              "      <td>...</td>\n",
              "      <td>-0.099588</td>\n",
              "      <td>0.241853</td>\n",
              "      <td>0.0</td>\n",
              "      <td>0.0</td>\n",
              "      <td>El Barça llega a la parada final de la defensa...</td>\n",
              "      <td>El Barça Femenino llega a la defensa final de ...</td>\n",
              "      <td>1</td>\n",
              "      <td>0.129318</td>\n",
              "      <td>1</td>\n",
              "      <td>0.075435</td>\n",
              "    </tr>\n",
              "  </tbody>\n",
              "</table>\n",
              "<p>14372 rows × 42 columns</p>\n",
              "</div>\n",
              "      <button class=\"colab-df-convert\" onclick=\"convertToInteractive('df-cc4df9e7-ac4e-4382-83b4-0d22a19af295')\"\n",
              "              title=\"Convert this dataframe to an interactive table.\"\n",
              "              style=\"display:none;\">\n",
              "        \n",
              "  <svg xmlns=\"http://www.w3.org/2000/svg\" height=\"24px\"viewBox=\"0 0 24 24\"\n",
              "       width=\"24px\">\n",
              "    <path d=\"M0 0h24v24H0V0z\" fill=\"none\"/>\n",
              "    <path d=\"M18.56 5.44l.94 2.06.94-2.06 2.06-.94-2.06-.94-.94-2.06-.94 2.06-2.06.94zm-11 1L8.5 8.5l.94-2.06 2.06-.94-2.06-.94L8.5 2.5l-.94 2.06-2.06.94zm10 10l.94 2.06.94-2.06 2.06-.94-2.06-.94-.94-2.06-.94 2.06-2.06.94z\"/><path d=\"M17.41 7.96l-1.37-1.37c-.4-.4-.92-.59-1.43-.59-.52 0-1.04.2-1.43.59L10.3 9.45l-7.72 7.72c-.78.78-.78 2.05 0 2.83L4 21.41c.39.39.9.59 1.41.59.51 0 1.02-.2 1.41-.59l7.78-7.78 2.81-2.81c.8-.78.8-2.07 0-2.86zM5.41 20L4 18.59l7.72-7.72 1.47 1.35L5.41 20z\"/>\n",
              "  </svg>\n",
              "      </button>\n",
              "      \n",
              "  <style>\n",
              "    .colab-df-container {\n",
              "      display:flex;\n",
              "      flex-wrap:wrap;\n",
              "      gap: 12px;\n",
              "    }\n",
              "\n",
              "    .colab-df-convert {\n",
              "      background-color: #E8F0FE;\n",
              "      border: none;\n",
              "      border-radius: 50%;\n",
              "      cursor: pointer;\n",
              "      display: none;\n",
              "      fill: #1967D2;\n",
              "      height: 32px;\n",
              "      padding: 0 0 0 0;\n",
              "      width: 32px;\n",
              "    }\n",
              "\n",
              "    .colab-df-convert:hover {\n",
              "      background-color: #E2EBFA;\n",
              "      box-shadow: 0px 1px 2px rgba(60, 64, 67, 0.3), 0px 1px 3px 1px rgba(60, 64, 67, 0.15);\n",
              "      fill: #174EA6;\n",
              "    }\n",
              "\n",
              "    [theme=dark] .colab-df-convert {\n",
              "      background-color: #3B4455;\n",
              "      fill: #D2E3FC;\n",
              "    }\n",
              "\n",
              "    [theme=dark] .colab-df-convert:hover {\n",
              "      background-color: #434B5C;\n",
              "      box-shadow: 0px 1px 3px 1px rgba(0, 0, 0, 0.15);\n",
              "      filter: drop-shadow(0px 1px 2px rgba(0, 0, 0, 0.3));\n",
              "      fill: #FFFFFF;\n",
              "    }\n",
              "  </style>\n",
              "\n",
              "      <script>\n",
              "        const buttonEl =\n",
              "          document.querySelector('#df-cc4df9e7-ac4e-4382-83b4-0d22a19af295 button.colab-df-convert');\n",
              "        buttonEl.style.display =\n",
              "          google.colab.kernel.accessAllowed ? 'block' : 'none';\n",
              "\n",
              "        async function convertToInteractive(key) {\n",
              "          const element = document.querySelector('#df-cc4df9e7-ac4e-4382-83b4-0d22a19af295');\n",
              "          const dataTable =\n",
              "            await google.colab.kernel.invokeFunction('convertToInteractive',\n",
              "                                                     [key], {});\n",
              "          if (!dataTable) return;\n",
              "\n",
              "          const docLinkHtml = 'Like what you see? Visit the ' +\n",
              "            '<a target=\"_blank\" href=https://colab.research.google.com/notebooks/data_table.ipynb>data table notebook</a>'\n",
              "            + ' to learn more about interactive tables.';\n",
              "          element.innerHTML = '';\n",
              "          dataTable['output_type'] = 'display_data';\n",
              "          await google.colab.output.renderOutput(dataTable, element);\n",
              "          const docLink = document.createElement('div');\n",
              "          docLink.innerHTML = docLinkHtml;\n",
              "          element.appendChild(docLink);\n",
              "        }\n",
              "      </script>\n",
              "    </div>\n",
              "  </div>\n",
              "  "
            ],
            "text/plain": [
              "                                    date  \\\n",
              "pk                                         \n",
              "1656536901065_6_IBE  2022-01-01 02:38:00   \n",
              "1656536877077_6_TEF  2022-01-01 04:29:00   \n",
              "1656536843436_6_CABK 2022-01-01 04:40:00   \n",
              "1656536843436_6_TEF  2022-01-01 04:40:00   \n",
              "1656536615350_6_BBVA 2022-01-01 08:42:56   \n",
              "...                                  ...   \n",
              "1656540429231_6_SAN  2022-04-30 21:23:40   \n",
              "1656540135829_6_REP  2022-04-30 21:35:00   \n",
              "1656540395299_6_ACS  2022-04-30 22:51:13   \n",
              "1656540130419_6_ELE  2022-04-30 22:57:00   \n",
              "1656540142836_6_IBE  2022-04-30 23:27:00   \n",
              "\n",
              "                                                                  title  \\\n",
              "pk                                                                        \n",
              "1656536901065_6_IBE   Las vacunas, el Madrid de Ayuso y el Falcon de...   \n",
              "1656536877077_6_TEF   “La homofobia no mengua con la vejez, al contr...   \n",
              "1656536843436_6_CABK  La espiral de la subida de precios mermará la ...   \n",
              "1656536843436_6_TEF   La espiral de la subida de precios mermará la ...   \n",
              "1656536615350_6_BBVA  «Poca gente va a tener un ordenador cuántico y...   \n",
              "...                                                                 ...   \n",
              "1656540429231_6_SAN             Empresa Familiar: 25 años de compromiso   \n",
              "1656540135829_6_REP   Jorge Lorenzo se convierte en 'Leyenda' del Mu...   \n",
              "1656540395299_6_ACS   El Madrid gana la Liga, en directo | Los campe...   \n",
              "1656540130419_6_ELE   El Valencia defiende su 'Top 4' y el Lenovo Te...   \n",
              "1656540142836_6_IBE   El Barça Femenino llega a la defensa final de ...   \n",
              "\n",
              "                                                                    url  \\\n",
              "pk                                                                        \n",
              "1656536901065_6_IBE   https://elpais.com/television/2022-01-01/las-v...   \n",
              "1656536877077_6_TEF   https://elpais.com/icon/2022-01-01/la-homofobi...   \n",
              "1656536843436_6_CABK  https://elpais.com/economia/2022-01-01/la-pand...   \n",
              "1656536843436_6_TEF   https://elpais.com/economia/2022-01-01/la-pand...   \n",
              "1656536615350_6_BBVA  https://www.abc.es/ciencia/abci-poca-gente-ten...   \n",
              "...                                                                 ...   \n",
              "1656540429231_6_SAN   https://www.abc.es/espana/castilla-leon/abci-e...   \n",
              "1656540135829_6_REP   https://www.europapress.es/deportes/motociclis...   \n",
              "1656540395299_6_ACS   https://www.abc.es/espana/madrid/abci-madrid-g...   \n",
              "1656540130419_6_ELE   https://www.europapress.es/deportes/baloncesto...   \n",
              "1656540142836_6_IBE   https://www.europapress.es/deportes/futbol-001...   \n",
              "\n",
              "                                                                   body  \\\n",
              "pk                                                                        \n",
              "1656536901065_6_IBE   De haber empezado ahora sus carreras, Eugenio,...   \n",
              "1656536877077_6_TEF   Entre un mar de ladrillos rojos y toldos verde...   \n",
              "1656536843436_6_CABK  El coronavirus no es la única pandemia que suf...   \n",
              "1656536843436_6_TEF   El coronavirus no es la única pandemia que suf...   \n",
              "1656536615350_6_BBVA  En 1984, Charles Bennett y Gilles Brassard inv...   \n",
              "...                                                                 ...   \n",
              "1656540429231_6_SAN   Unidos potenciamos las virtudes que hacen de l...   \n",
              "1656540135829_6_REP   MADRID, 30 Abr. (EUROPA PRESS) -<EOL>El expilo...   \n",
              "1656540395299_6_ACS   La diosa Cibeles aguarda a los aficionados del...   \n",
              "1656540130419_6_ELE   MADRID, 30 Abr. (EUROPA PRESS) -<EOL>El Valenc...   \n",
              "1656540142836_6_IBE   El Barça llega a la parada final de la defensa...   \n",
              "\n",
              "                                                                   tags  \\\n",
              "pk                                                                        \n",
              "1656536901065_6_IBE   ['Televisión', 'Opinión', 'La 2', 'RTVE', 'Mús...   \n",
              "1656536877077_6_TEF   ['Comunidad Lgtbiq', 'Madrid', 'Residencias an...   \n",
              "1656536843436_6_CABK  ['Inflación', 'Precios', 'España', 'Economía',...   \n",
              "1656536843436_6_TEF   ['Inflación', 'Precios', 'España', 'Economía',...   \n",
              "1656536615350_6_BBVA  ['Fundacion BBVA', 'Bilbao', 'Física cuántica'...   \n",
              "...                                                                 ...   \n",
              "1656540429231_6_SAN   ['Castilla y León', 'Alfonso Fernández Mañueco...   \n",
              "1656540135829_6_REP                                         ['Moto GP']   \n",
              "1656540395299_6_ACS                           ['Real Madrid', 'Fútbol']   \n",
              "1656540130419_6_ELE                                                 NaN   \n",
              "1656540142836_6_IBE   ['Champions League', 'Fútbol Club Barcelona', ...   \n",
              "\n",
              "                         resource ticker  \\\n",
              "pk                                         \n",
              "1656536901065_6_IBE        ELPAIS    IBE   \n",
              "1656536877077_6_TEF        ELPAIS    TEF   \n",
              "1656536843436_6_CABK       ELPAIS   CABK   \n",
              "1656536843436_6_TEF        ELPAIS    TEF   \n",
              "1656536615350_6_BBVA          ABC   BBVA   \n",
              "...                           ...    ...   \n",
              "1656540429231_6_SAN           ABC    SAN   \n",
              "1656540135829_6_REP   EUROPAPRESS    REP   \n",
              "1656540395299_6_ACS           ABC    ACS   \n",
              "1656540130419_6_ELE   EUROPAPRESS    ELE   \n",
              "1656540142836_6_IBE   EUROPAPRESS    IBE   \n",
              "\n",
              "                                                ticker_name  \\\n",
              "pk                                                            \n",
              "1656536901065_6_IBE                         IBERDROLA, S.A.   \n",
              "1656536877077_6_TEF                        TELEFONICA, S.A.   \n",
              "1656536843436_6_CABK                        CAIXABANK, S.A.   \n",
              "1656536843436_6_TEF                        TELEFONICA, S.A.   \n",
              "1656536615350_6_BBVA  BANCO BILBAO VIZCAYA ARGENTARIA, S.A.   \n",
              "...                                                     ...   \n",
              "1656540429231_6_SAN                   BANCO SANTANDER, S.A.   \n",
              "1656540135829_6_REP                            REPSOL, S.A.   \n",
              "1656540395299_6_ACS    ACTIVIDADES DE CONST.Y SERVICIOS S.A   \n",
              "1656540130419_6_ELE                ENDESA, SOCIEDAD ANONIMA   \n",
              "1656540142836_6_IBE                         IBERDROLA, S.A.   \n",
              "\n",
              "                                                     sector  \\\n",
              "pk                                                            \n",
              "1656536901065_6_IBE                      Petróleo y Energía   \n",
              "1656536877077_6_TEF         Tecnología y Telecomunicaciones   \n",
              "1656536843436_6_CABK                  Servicios Financieros   \n",
              "1656536843436_6_TEF         Tecnología y Telecomunicaciones   \n",
              "1656536615350_6_BBVA                  Servicios Financieros   \n",
              "...                                                     ...   \n",
              "1656540429231_6_SAN                   Servicios Financieros   \n",
              "1656540135829_6_REP                      Petróleo y Energía   \n",
              "1656540395299_6_ACS   Mat.Basicos, Industria y Construcción   \n",
              "1656540130419_6_ELE                      Petróleo y Energía   \n",
              "1656540142836_6_IBE                      Petróleo y Energía   \n",
              "\n",
              "                                       subsector  ...  vola20_umbral_Q3  \\\n",
              "pk                                                ...                     \n",
              "1656536901065_6_IBE           Electricidad y Gas  ...         -0.328537   \n",
              "1656536877077_6_TEF   Telecomunicaciones y Otros  ...         -0.399914   \n",
              "1656536843436_6_CABK    Bancos y Cajas de Ahorro  ...         -0.021890   \n",
              "1656536843436_6_TEF   Telecomunicaciones y Otros  ...         -0.399914   \n",
              "1656536615350_6_BBVA    Bancos y Cajas de Ahorro  ...         -0.364196   \n",
              "...                                          ...  ...               ...   \n",
              "1656540429231_6_SAN     Bancos y Cajas de Ahorro  ...          0.137923   \n",
              "1656540135829_6_REP                     Petróleo  ...          0.653026   \n",
              "1656540395299_6_ACS                 Construcción  ...         -0.028526   \n",
              "1656540130419_6_ELE           Electricidad y Gas  ...         -0.116901   \n",
              "1656540142836_6_IBE           Electricidad y Gas  ...         -0.099588   \n",
              "\n",
              "                      vola20_umbral_abs_Q3  vola_label vola_label_abs  \\\n",
              "pk                                                                      \n",
              "1656536901065_6_IBE               0.415945         0.0            0.0   \n",
              "1656536877077_6_TEF               0.477420         1.0            0.0   \n",
              "1656536843436_6_CABK              0.239339         1.0            1.0   \n",
              "1656536843436_6_TEF               0.477420         1.0            0.0   \n",
              "1656536615350_6_BBVA              0.561311         1.0            0.0   \n",
              "...                                    ...         ...            ...   \n",
              "1656540429231_6_SAN               0.174029        -1.0           -1.0   \n",
              "1656540135829_6_REP               0.653026        -1.0            0.0   \n",
              "1656540395299_6_ACS               0.244060         0.0            0.0   \n",
              "1656540130419_6_ELE               0.276871         1.0            0.0   \n",
              "1656540142836_6_IBE               0.241853         0.0            0.0   \n",
              "\n",
              "                                                       body_no_entities  \\\n",
              "pk                                                                        \n",
              "1656536901065_6_IBE   De haber empezado ahora sus carreras, Eugenio,...   \n",
              "1656536877077_6_TEF   Entre un mar de ladrillos rojos y toldos verde...   \n",
              "1656536843436_6_CABK  El coronavirus no es la única pandemia que suf...   \n",
              "1656536843436_6_TEF   El coronavirus no es la única pandemia que suf...   \n",
              "1656536615350_6_BBVA  En 1984, Charles Bennett y Gilles Brassard inv...   \n",
              "...                                                                 ...   \n",
              "1656540429231_6_SAN   Unidos potenciamos las virtudes que hacen de l...   \n",
              "1656540135829_6_REP   MADRID, 30 Abr. (EUROPA PRESS) - El expiloto e...   \n",
              "1656540395299_6_ACS   La diosa Cibeles aguarda a los aficionados del...   \n",
              "1656540130419_6_ELE   MADRID, 30 Abr. (EUROPA PRESS) - El Valencia B...   \n",
              "1656540142836_6_IBE   El Barça llega a la parada final de la defensa...   \n",
              "\n",
              "                                                      title_no_entities  \\\n",
              "pk                                                                        \n",
              "1656536901065_6_IBE   Las vacunas, el Madrid de Ayuso y el Falcon de...   \n",
              "1656536877077_6_TEF   “La homofobia no mengua con la vejez, al contr...   \n",
              "1656536843436_6_CABK  La espiral de la subida de precios mermará la ...   \n",
              "1656536843436_6_TEF   La espiral de la subida de precios mermará la ...   \n",
              "1656536615350_6_BBVA  «Poca gente va a tener un ordenador cuántico y...   \n",
              "...                                                                 ...   \n",
              "1656540429231_6_SAN             Empresa Familiar: 25 años de compromiso   \n",
              "1656540135829_6_REP   Jorge Lorenzo se convierte en 'Leyenda' del Mu...   \n",
              "1656540395299_6_ACS   El Madrid gana la Liga, en directo | Los campe...   \n",
              "1656540130419_6_ELE   El Valencia defiende su 'Top 4' y el Lenovo Te...   \n",
              "1656540142836_6_IBE   El Barça Femenino llega a la defensa final de ...   \n",
              "\n",
              "                     impacto_tag_s_n  impacto_tag_s_proba  finanzas_tag_s_n  \\\n",
              "pk                                                                            \n",
              "1656536901065_6_IBE                1             0.073654                 1   \n",
              "1656536877077_6_TEF                1             0.110269                 1   \n",
              "1656536843436_6_CABK               1             0.449562                 1   \n",
              "1656536843436_6_TEF                1             0.449562                 1   \n",
              "1656536615350_6_BBVA               1             0.102274                 1   \n",
              "...                              ...                  ...               ...   \n",
              "1656540429231_6_SAN                1             0.125036                 1   \n",
              "1656540135829_6_REP                1             0.115918                 1   \n",
              "1656540395299_6_ACS                1             0.089950                 1   \n",
              "1656540130419_6_ELE                1             0.098482                 1   \n",
              "1656540142836_6_IBE                1             0.129318                 1   \n",
              "\n",
              "                      finanzas_tag_s_proba  \n",
              "pk                                          \n",
              "1656536901065_6_IBE               0.011043  \n",
              "1656536877077_6_TEF               0.029852  \n",
              "1656536843436_6_CABK              0.228651  \n",
              "1656536843436_6_TEF               0.228651  \n",
              "1656536615350_6_BBVA              0.039670  \n",
              "...                                    ...  \n",
              "1656540429231_6_SAN               0.045951  \n",
              "1656540135829_6_REP               0.016503  \n",
              "1656540395299_6_ACS               0.018958  \n",
              "1656540130419_6_ELE               0.042956  \n",
              "1656540142836_6_IBE               0.075435  \n",
              "\n",
              "[14372 rows x 42 columns]"
            ]
          },
          "execution_count": 212,
          "metadata": {},
          "output_type": "execute_result"
        }
      ],
      "source": [
        "df_news"
      ]
    },
    {
      "cell_type": "code",
      "execution_count": 213,
      "metadata": {
        "id": "YXadrnwHx1Fd"
      },
      "outputs": [],
      "source": [
        "df_news.to_csv(f'{filepath_news}_predict_impacto_finanzas_tag_s_n.csv', sep=\";\")"
      ]
    },
    {
      "cell_type": "code",
      "execution_count": null,
      "metadata": {
        "id": "LHc-PykQGd2c"
      },
      "outputs": [],
      "source": [
        "#3. Sobre este dataset mergeado con ambas etiquetas y las nuevas properties, aplicamos los filtros de noticias que consideremos"
      ]
    },
    {
      "cell_type": "code",
      "execution_count": null,
      "metadata": {
        "colab": {
          "base_uri": "https://localhost:8080/"
        },
        "id": "xXoddUAdECNR",
        "outputId": "8bc672e6-f49a-4fe2-e286-28a37534e0d3"
      },
      "outputs": [
        {
          "data": {
            "text/plain": [
              "(46635, 41)"
            ]
          },
          "execution_count": 57,
          "metadata": {},
          "output_type": "execute_result"
        }
      ],
      "source": [
        "df = pd.read_csv(f\"{filepath_news}_predict_impacto_finanzas_tag_s_n.csv\", sep=\";\", parse_dates=[\"date\"],low_memory=False, lineterminator=\"\\n\", index_col=0)\n",
        "df.shape"
      ]
    },
    {
      "cell_type": "code",
      "execution_count": null,
      "metadata": {
        "colab": {
          "base_uri": "https://localhost:8080/",
          "height": 1000
        },
        "id": "un3fOZYM3dsR",
        "outputId": "d5cb2544-870a-4cc8-fda5-61fd78c07eb8"
      },
      "outputs": [
        {
          "data": {
            "text/html": [
              "\n",
              "  <div id=\"df-138f6731-aaa8-4804-b01e-172da7cb8add\">\n",
              "    <div class=\"colab-df-container\">\n",
              "      <div>\n",
              "<style scoped>\n",
              "    .dataframe tbody tr th:only-of-type {\n",
              "        vertical-align: middle;\n",
              "    }\n",
              "\n",
              "    .dataframe tbody tr th {\n",
              "        vertical-align: top;\n",
              "    }\n",
              "\n",
              "    .dataframe thead th {\n",
              "        text-align: right;\n",
              "    }\n",
              "</style>\n",
              "<table border=\"1\" class=\"dataframe\">\n",
              "  <thead>\n",
              "    <tr style=\"text-align: right;\">\n",
              "      <th></th>\n",
              "      <th>date</th>\n",
              "      <th>title</th>\n",
              "      <th>url</th>\n",
              "      <th>body</th>\n",
              "      <th>tags</th>\n",
              "      <th>resource</th>\n",
              "      <th>ticker</th>\n",
              "      <th>ticker_name</th>\n",
              "      <th>sector</th>\n",
              "      <th>subsector</th>\n",
              "      <th>...</th>\n",
              "      <th>vola20_umbral_abs_Q1</th>\n",
              "      <th>vola20_umbral_Q3</th>\n",
              "      <th>vola20_umbral_abs_Q3</th>\n",
              "      <th>vola_label</th>\n",
              "      <th>vola_label_abs</th>\n",
              "      <th>body_no_entities</th>\n",
              "      <th>finanzas_tag_s_n</th>\n",
              "      <th>impacto_tag_s_n</th>\n",
              "      <th>impacto_tag_s_proba</th>\n",
              "      <th>finanzas_tag_s_proba</th>\n",
              "    </tr>\n",
              "    <tr>\n",
              "      <th>pk</th>\n",
              "      <th></th>\n",
              "      <th></th>\n",
              "      <th></th>\n",
              "      <th></th>\n",
              "      <th></th>\n",
              "      <th></th>\n",
              "      <th></th>\n",
              "      <th></th>\n",
              "      <th></th>\n",
              "      <th></th>\n",
              "      <th></th>\n",
              "      <th></th>\n",
              "      <th></th>\n",
              "      <th></th>\n",
              "      <th></th>\n",
              "      <th></th>\n",
              "      <th></th>\n",
              "      <th></th>\n",
              "      <th></th>\n",
              "      <th></th>\n",
              "      <th></th>\n",
              "    </tr>\n",
              "  </thead>\n",
              "  <tbody>\n",
              "    <tr>\n",
              "      <th>1656287707697_43316_IAG</th>\n",
              "      <td>2020-12-31 23:30:00</td>\n",
              "      <td>Pasaportes, visados, ‘roaming’... Todos los ca...</td>\n",
              "      <td>https://elpais.com/internacional/2020-12-31/pa...</td>\n",
              "      <td>¿DNI o pasaporte? ¿Hay que pedir visado? ¿Sirv...</td>\n",
              "      <td>['Brexit', 'Reino Unido', 'Europa', 'Comercio'...</td>\n",
              "      <td>ELPAIS</td>\n",
              "      <td>IAG</td>\n",
              "      <td>INTERNATIONAL CONSOLIDAT. AIRLINES GROUP</td>\n",
              "      <td>Servicios de Consumo</td>\n",
              "      <td>Transporte y Distribución</td>\n",
              "      <td>...</td>\n",
              "      <td>0.114337</td>\n",
              "      <td>0.305009</td>\n",
              "      <td>0.417972</td>\n",
              "      <td>0.0</td>\n",
              "      <td>0.0</td>\n",
              "      <td>¿DNI o pasaporte? ¿Hay que pedir visado? ¿Sirv...</td>\n",
              "      <td>1</td>\n",
              "      <td>1</td>\n",
              "      <td>0.250098</td>\n",
              "      <td>0.092213</td>\n",
              "    </tr>\n",
              "    <tr>\n",
              "      <th>1656287513236_43316_ANA</th>\n",
              "      <td>2021-01-01 02:06:52</td>\n",
              "      <td>Las claves de la caída del Ibex</td>\n",
              "      <td>https://www.abc.es/economia/abci-claves-caida-...</td>\n",
              "      <td>24 componentes en negativo&lt;EOL&gt;El Ibex cierra ...</td>\n",
              "      <td>['Apple', 'Gamesa', 'Amazon', 'Iberia', 'Accio...</td>\n",
              "      <td>ABC</td>\n",
              "      <td>ANA</td>\n",
              "      <td>ACCIONA,S.A.</td>\n",
              "      <td>Mat.Basicos, Industria y Construcción</td>\n",
              "      <td>Construcción</td>\n",
              "      <td>...</td>\n",
              "      <td>0.103677</td>\n",
              "      <td>0.208834</td>\n",
              "      <td>0.225065</td>\n",
              "      <td>1.0</td>\n",
              "      <td>1.0</td>\n",
              "      <td>24 componentes en negativo El Ibex cierra un a...</td>\n",
              "      <td>1</td>\n",
              "      <td>1</td>\n",
              "      <td>0.253235</td>\n",
              "      <td>0.197973</td>\n",
              "    </tr>\n",
              "    <tr>\n",
              "      <th>1656287513236_43316_BKIA</th>\n",
              "      <td>2021-01-01 02:06:52</td>\n",
              "      <td>Las claves de la caída del Ibex</td>\n",
              "      <td>https://www.abc.es/economia/abci-claves-caida-...</td>\n",
              "      <td>24 componentes en negativo&lt;EOL&gt;El Ibex cierra ...</td>\n",
              "      <td>['Apple', 'Gamesa', 'Amazon', 'Iberia', 'Accio...</td>\n",
              "      <td>ABC</td>\n",
              "      <td>BKIA</td>\n",
              "      <td>BANKIA, S.A.</td>\n",
              "      <td>Servicios Financieros</td>\n",
              "      <td>Bancos y Cajas de Ahorro</td>\n",
              "      <td>...</td>\n",
              "      <td>0.103478</td>\n",
              "      <td>0.236113</td>\n",
              "      <td>0.315340</td>\n",
              "      <td>1.0</td>\n",
              "      <td>1.0</td>\n",
              "      <td>24 componentes en negativo El Ibex cierra un a...</td>\n",
              "      <td>1</td>\n",
              "      <td>1</td>\n",
              "      <td>0.253235</td>\n",
              "      <td>0.197973</td>\n",
              "    </tr>\n",
              "    <tr>\n",
              "      <th>1656287513236_43316_CABK</th>\n",
              "      <td>2021-01-01 02:06:52</td>\n",
              "      <td>Las claves de la caída del Ibex</td>\n",
              "      <td>https://www.abc.es/economia/abci-claves-caida-...</td>\n",
              "      <td>24 componentes en negativo&lt;EOL&gt;El Ibex cierra ...</td>\n",
              "      <td>['Apple', 'Gamesa', 'Amazon', 'Iberia', 'Accio...</td>\n",
              "      <td>ABC</td>\n",
              "      <td>CABK</td>\n",
              "      <td>CAIXABANK, S.A.</td>\n",
              "      <td>Servicios Financieros</td>\n",
              "      <td>Bancos y Cajas de Ahorro</td>\n",
              "      <td>...</td>\n",
              "      <td>0.139145</td>\n",
              "      <td>0.290371</td>\n",
              "      <td>0.324701</td>\n",
              "      <td>1.0</td>\n",
              "      <td>1.0</td>\n",
              "      <td>24 componentes en negativo El Ibex cierra un a...</td>\n",
              "      <td>1</td>\n",
              "      <td>1</td>\n",
              "      <td>0.253235</td>\n",
              "      <td>0.197973</td>\n",
              "    </tr>\n",
              "    <tr>\n",
              "      <th>1656287513236_43316_IAG</th>\n",
              "      <td>2021-01-01 02:06:52</td>\n",
              "      <td>Las claves de la caída del Ibex</td>\n",
              "      <td>https://www.abc.es/economia/abci-claves-caida-...</td>\n",
              "      <td>24 componentes en negativo&lt;EOL&gt;El Ibex cierra ...</td>\n",
              "      <td>['Apple', 'Gamesa', 'Amazon', 'Iberia', 'Accio...</td>\n",
              "      <td>ABC</td>\n",
              "      <td>IAG</td>\n",
              "      <td>INTERNATIONAL CONSOLIDAT. AIRLINES GROUP</td>\n",
              "      <td>Servicios de Consumo</td>\n",
              "      <td>Transporte y Distribución</td>\n",
              "      <td>...</td>\n",
              "      <td>0.114337</td>\n",
              "      <td>0.305009</td>\n",
              "      <td>0.417972</td>\n",
              "      <td>0.0</td>\n",
              "      <td>0.0</td>\n",
              "      <td>24 componentes en negativo El Ibex cierra un a...</td>\n",
              "      <td>1</td>\n",
              "      <td>1</td>\n",
              "      <td>0.253235</td>\n",
              "      <td>0.197973</td>\n",
              "    </tr>\n",
              "    <tr>\n",
              "      <th>...</th>\n",
              "      <td>...</td>\n",
              "      <td>...</td>\n",
              "      <td>...</td>\n",
              "      <td>...</td>\n",
              "      <td>...</td>\n",
              "      <td>...</td>\n",
              "      <td>...</td>\n",
              "      <td>...</td>\n",
              "      <td>...</td>\n",
              "      <td>...</td>\n",
              "      <td>...</td>\n",
              "      <td>...</td>\n",
              "      <td>...</td>\n",
              "      <td>...</td>\n",
              "      <td>...</td>\n",
              "      <td>...</td>\n",
              "      <td>...</td>\n",
              "      <td>...</td>\n",
              "      <td>...</td>\n",
              "      <td>...</td>\n",
              "      <td>...</td>\n",
              "    </tr>\n",
              "    <tr>\n",
              "      <th>1656406861597_6_REP</th>\n",
              "      <td>2022-01-01 21:55:00</td>\n",
              "      <td>De la Torre sitúa a Málaga en uno de sus mejor...</td>\n",
              "      <td>https://www.europapress.es/andalucia/malaga-00...</td>\n",
              "      <td>MÁLAGA, 31 Dic. (EUROPA PRESS) -&lt;EOL&gt;El alcald...</td>\n",
              "      <td>['Francisco de la Torre']</td>\n",
              "      <td>EUROPAPRESS</td>\n",
              "      <td>REP</td>\n",
              "      <td>REPSOL, S.A.</td>\n",
              "      <td>Petróleo y Energía</td>\n",
              "      <td>Petróleo</td>\n",
              "      <td>...</td>\n",
              "      <td>0.272479</td>\n",
              "      <td>-0.270908</td>\n",
              "      <td>0.357201</td>\n",
              "      <td>1.0</td>\n",
              "      <td>0.0</td>\n",
              "      <td>MÁLAGA, 31 Dic. (EUROPA PRESS) - El alcalde de...</td>\n",
              "      <td>1</td>\n",
              "      <td>1</td>\n",
              "      <td>0.103857</td>\n",
              "      <td>0.024516</td>\n",
              "    </tr>\n",
              "    <tr>\n",
              "      <th>1656406861597_6_TEF</th>\n",
              "      <td>2022-01-01 21:55:00</td>\n",
              "      <td>De la Torre sitúa a Málaga en uno de sus mejor...</td>\n",
              "      <td>https://www.europapress.es/andalucia/malaga-00...</td>\n",
              "      <td>MÁLAGA, 31 Dic. (EUROPA PRESS) -&lt;EOL&gt;El alcald...</td>\n",
              "      <td>['Francisco de la Torre']</td>\n",
              "      <td>EUROPAPRESS</td>\n",
              "      <td>TEF</td>\n",
              "      <td>TELEFONICA, S.A.</td>\n",
              "      <td>Tecnología y Telecomunicaciones</td>\n",
              "      <td>Telecomunicaciones y Otros</td>\n",
              "      <td>...</td>\n",
              "      <td>0.399914</td>\n",
              "      <td>-0.399914</td>\n",
              "      <td>0.477420</td>\n",
              "      <td>1.0</td>\n",
              "      <td>0.0</td>\n",
              "      <td>MÁLAGA, 31 Dic. (EUROPA PRESS) - El alcalde de...</td>\n",
              "      <td>1</td>\n",
              "      <td>1</td>\n",
              "      <td>0.103857</td>\n",
              "      <td>0.024516</td>\n",
              "    </tr>\n",
              "    <tr>\n",
              "      <th>1656407079517_9_CABK</th>\n",
              "      <td>2022-01-03 10:08:00</td>\n",
              "      <td>CaixaBank Banca Privada recomienda a gran part...</td>\n",
              "      <td>https://www.europapress.es/economia/finanzas-0...</td>\n",
              "      <td>MADRID, 28 Dic. (EUROPA PRESS) -&lt;EOL&gt;CaixaBank...</td>\n",
              "      <td>['Sector financiero', 'Caixabank']</td>\n",
              "      <td>EUROPAPRESS</td>\n",
              "      <td>CABK</td>\n",
              "      <td>CAIXABANK, S.A.</td>\n",
              "      <td>Servicios Financieros</td>\n",
              "      <td>Bancos y Cajas de Ahorro</td>\n",
              "      <td>...</td>\n",
              "      <td>0.053781</td>\n",
              "      <td>0.059615</td>\n",
              "      <td>0.251531</td>\n",
              "      <td>1.0</td>\n",
              "      <td>1.0</td>\n",
              "      <td>MADRID, 28 Dic. (EUROPA PRESS) - Banca Privada...</td>\n",
              "      <td>1</td>\n",
              "      <td>1</td>\n",
              "      <td>0.270544</td>\n",
              "      <td>0.169495</td>\n",
              "    </tr>\n",
              "    <tr>\n",
              "      <th>1656402235399_9_ANA</th>\n",
              "      <td>2022-01-20 19:21:00</td>\n",
              "      <td>El modelo energético de Madrid Nuevo Norte, el...</td>\n",
              "      <td>https://www.europapress.es/madrid/distritocast...</td>\n",
              "      <td>MADRID, 1 Dic. (EUROPA PRESS) -&lt;EOL&gt;El modelo ...</td>\n",
              "      <td>['Comisión Europea', 'Acciona', 'Distrito Cast...</td>\n",
              "      <td>EUROPAPRESS</td>\n",
              "      <td>ANA</td>\n",
              "      <td>ACCIONA,S.A.</td>\n",
              "      <td>Mat.Basicos, Industria y Construcción</td>\n",
              "      <td>Construcción</td>\n",
              "      <td>...</td>\n",
              "      <td>0.144790</td>\n",
              "      <td>0.352219</td>\n",
              "      <td>0.352219</td>\n",
              "      <td>1.0</td>\n",
              "      <td>1.0</td>\n",
              "      <td>MADRID, 1 Dic. (EUROPA PRESS) - El modelo ener...</td>\n",
              "      <td>1</td>\n",
              "      <td>1</td>\n",
              "      <td>0.184185</td>\n",
              "      <td>0.026325</td>\n",
              "    </tr>\n",
              "    <tr>\n",
              "      <th>1656404116271_9_CABK</th>\n",
              "      <td>2022-03-11 17:25:00</td>\n",
              "      <td>La Fundación La Caixa une a más de 100 voces a...</td>\n",
              "      <td>https://www.europapress.es/catalunya/noticia-f...</td>\n",
              "      <td>La acción se desarrolla en espacios emblemátic...</td>\n",
              "      <td>['La Caixa']</td>\n",
              "      <td>EUROPAPRESS</td>\n",
              "      <td>CABK</td>\n",
              "      <td>CAIXABANK, S.A.</td>\n",
              "      <td>Servicios Financieros</td>\n",
              "      <td>Bancos y Cajas de Ahorro</td>\n",
              "      <td>...</td>\n",
              "      <td>0.172358</td>\n",
              "      <td>0.625502</td>\n",
              "      <td>0.625502</td>\n",
              "      <td>-1.0</td>\n",
              "      <td>0.0</td>\n",
              "      <td>La acción se desarrolla en espacios emblemátic...</td>\n",
              "      <td>1</td>\n",
              "      <td>1</td>\n",
              "      <td>0.072405</td>\n",
              "      <td>0.007172</td>\n",
              "    </tr>\n",
              "  </tbody>\n",
              "</table>\n",
              "<p>46635 rows × 41 columns</p>\n",
              "</div>\n",
              "      <button class=\"colab-df-convert\" onclick=\"convertToInteractive('df-138f6731-aaa8-4804-b01e-172da7cb8add')\"\n",
              "              title=\"Convert this dataframe to an interactive table.\"\n",
              "              style=\"display:none;\">\n",
              "        \n",
              "  <svg xmlns=\"http://www.w3.org/2000/svg\" height=\"24px\"viewBox=\"0 0 24 24\"\n",
              "       width=\"24px\">\n",
              "    <path d=\"M0 0h24v24H0V0z\" fill=\"none\"/>\n",
              "    <path d=\"M18.56 5.44l.94 2.06.94-2.06 2.06-.94-2.06-.94-.94-2.06-.94 2.06-2.06.94zm-11 1L8.5 8.5l.94-2.06 2.06-.94-2.06-.94L8.5 2.5l-.94 2.06-2.06.94zm10 10l.94 2.06.94-2.06 2.06-.94-2.06-.94-.94-2.06-.94 2.06-2.06.94z\"/><path d=\"M17.41 7.96l-1.37-1.37c-.4-.4-.92-.59-1.43-.59-.52 0-1.04.2-1.43.59L10.3 9.45l-7.72 7.72c-.78.78-.78 2.05 0 2.83L4 21.41c.39.39.9.59 1.41.59.51 0 1.02-.2 1.41-.59l7.78-7.78 2.81-2.81c.8-.78.8-2.07 0-2.86zM5.41 20L4 18.59l7.72-7.72 1.47 1.35L5.41 20z\"/>\n",
              "  </svg>\n",
              "      </button>\n",
              "      \n",
              "  <style>\n",
              "    .colab-df-container {\n",
              "      display:flex;\n",
              "      flex-wrap:wrap;\n",
              "      gap: 12px;\n",
              "    }\n",
              "\n",
              "    .colab-df-convert {\n",
              "      background-color: #E8F0FE;\n",
              "      border: none;\n",
              "      border-radius: 50%;\n",
              "      cursor: pointer;\n",
              "      display: none;\n",
              "      fill: #1967D2;\n",
              "      height: 32px;\n",
              "      padding: 0 0 0 0;\n",
              "      width: 32px;\n",
              "    }\n",
              "\n",
              "    .colab-df-convert:hover {\n",
              "      background-color: #E2EBFA;\n",
              "      box-shadow: 0px 1px 2px rgba(60, 64, 67, 0.3), 0px 1px 3px 1px rgba(60, 64, 67, 0.15);\n",
              "      fill: #174EA6;\n",
              "    }\n",
              "\n",
              "    [theme=dark] .colab-df-convert {\n",
              "      background-color: #3B4455;\n",
              "      fill: #D2E3FC;\n",
              "    }\n",
              "\n",
              "    [theme=dark] .colab-df-convert:hover {\n",
              "      background-color: #434B5C;\n",
              "      box-shadow: 0px 1px 3px 1px rgba(0, 0, 0, 0.15);\n",
              "      filter: drop-shadow(0px 1px 2px rgba(0, 0, 0, 0.3));\n",
              "      fill: #FFFFFF;\n",
              "    }\n",
              "  </style>\n",
              "\n",
              "      <script>\n",
              "        const buttonEl =\n",
              "          document.querySelector('#df-138f6731-aaa8-4804-b01e-172da7cb8add button.colab-df-convert');\n",
              "        buttonEl.style.display =\n",
              "          google.colab.kernel.accessAllowed ? 'block' : 'none';\n",
              "\n",
              "        async function convertToInteractive(key) {\n",
              "          const element = document.querySelector('#df-138f6731-aaa8-4804-b01e-172da7cb8add');\n",
              "          const dataTable =\n",
              "            await google.colab.kernel.invokeFunction('convertToInteractive',\n",
              "                                                     [key], {});\n",
              "          if (!dataTable) return;\n",
              "\n",
              "          const docLinkHtml = 'Like what you see? Visit the ' +\n",
              "            '<a target=\"_blank\" href=https://colab.research.google.com/notebooks/data_table.ipynb>data table notebook</a>'\n",
              "            + ' to learn more about interactive tables.';\n",
              "          element.innerHTML = '';\n",
              "          dataTable['output_type'] = 'display_data';\n",
              "          await google.colab.output.renderOutput(dataTable, element);\n",
              "          const docLink = document.createElement('div');\n",
              "          docLink.innerHTML = docLinkHtml;\n",
              "          element.appendChild(docLink);\n",
              "        }\n",
              "      </script>\n",
              "    </div>\n",
              "  </div>\n",
              "  "
            ],
            "text/plain": [
              "                                        date  \\\n",
              "pk                                             \n",
              "1656287707697_43316_IAG  2020-12-31 23:30:00   \n",
              "1656287513236_43316_ANA  2021-01-01 02:06:52   \n",
              "1656287513236_43316_BKIA 2021-01-01 02:06:52   \n",
              "1656287513236_43316_CABK 2021-01-01 02:06:52   \n",
              "1656287513236_43316_IAG  2021-01-01 02:06:52   \n",
              "...                                      ...   \n",
              "1656406861597_6_REP      2022-01-01 21:55:00   \n",
              "1656406861597_6_TEF      2022-01-01 21:55:00   \n",
              "1656407079517_9_CABK     2022-01-03 10:08:00   \n",
              "1656402235399_9_ANA      2022-01-20 19:21:00   \n",
              "1656404116271_9_CABK     2022-03-11 17:25:00   \n",
              "\n",
              "                                                                      title  \\\n",
              "pk                                                                            \n",
              "1656287707697_43316_IAG   Pasaportes, visados, ‘roaming’... Todos los ca...   \n",
              "1656287513236_43316_ANA                     Las claves de la caída del Ibex   \n",
              "1656287513236_43316_BKIA                    Las claves de la caída del Ibex   \n",
              "1656287513236_43316_CABK                    Las claves de la caída del Ibex   \n",
              "1656287513236_43316_IAG                     Las claves de la caída del Ibex   \n",
              "...                                                                     ...   \n",
              "1656406861597_6_REP       De la Torre sitúa a Málaga en uno de sus mejor...   \n",
              "1656406861597_6_TEF       De la Torre sitúa a Málaga en uno de sus mejor...   \n",
              "1656407079517_9_CABK      CaixaBank Banca Privada recomienda a gran part...   \n",
              "1656402235399_9_ANA       El modelo energético de Madrid Nuevo Norte, el...   \n",
              "1656404116271_9_CABK      La Fundación La Caixa une a más de 100 voces a...   \n",
              "\n",
              "                                                                        url  \\\n",
              "pk                                                                            \n",
              "1656287707697_43316_IAG   https://elpais.com/internacional/2020-12-31/pa...   \n",
              "1656287513236_43316_ANA   https://www.abc.es/economia/abci-claves-caida-...   \n",
              "1656287513236_43316_BKIA  https://www.abc.es/economia/abci-claves-caida-...   \n",
              "1656287513236_43316_CABK  https://www.abc.es/economia/abci-claves-caida-...   \n",
              "1656287513236_43316_IAG   https://www.abc.es/economia/abci-claves-caida-...   \n",
              "...                                                                     ...   \n",
              "1656406861597_6_REP       https://www.europapress.es/andalucia/malaga-00...   \n",
              "1656406861597_6_TEF       https://www.europapress.es/andalucia/malaga-00...   \n",
              "1656407079517_9_CABK      https://www.europapress.es/economia/finanzas-0...   \n",
              "1656402235399_9_ANA       https://www.europapress.es/madrid/distritocast...   \n",
              "1656404116271_9_CABK      https://www.europapress.es/catalunya/noticia-f...   \n",
              "\n",
              "                                                                       body  \\\n",
              "pk                                                                            \n",
              "1656287707697_43316_IAG   ¿DNI o pasaporte? ¿Hay que pedir visado? ¿Sirv...   \n",
              "1656287513236_43316_ANA   24 componentes en negativo<EOL>El Ibex cierra ...   \n",
              "1656287513236_43316_BKIA  24 componentes en negativo<EOL>El Ibex cierra ...   \n",
              "1656287513236_43316_CABK  24 componentes en negativo<EOL>El Ibex cierra ...   \n",
              "1656287513236_43316_IAG   24 componentes en negativo<EOL>El Ibex cierra ...   \n",
              "...                                                                     ...   \n",
              "1656406861597_6_REP       MÁLAGA, 31 Dic. (EUROPA PRESS) -<EOL>El alcald...   \n",
              "1656406861597_6_TEF       MÁLAGA, 31 Dic. (EUROPA PRESS) -<EOL>El alcald...   \n",
              "1656407079517_9_CABK      MADRID, 28 Dic. (EUROPA PRESS) -<EOL>CaixaBank...   \n",
              "1656402235399_9_ANA       MADRID, 1 Dic. (EUROPA PRESS) -<EOL>El modelo ...   \n",
              "1656404116271_9_CABK      La acción se desarrolla en espacios emblemátic...   \n",
              "\n",
              "                                                                       tags  \\\n",
              "pk                                                                            \n",
              "1656287707697_43316_IAG   ['Brexit', 'Reino Unido', 'Europa', 'Comercio'...   \n",
              "1656287513236_43316_ANA   ['Apple', 'Gamesa', 'Amazon', 'Iberia', 'Accio...   \n",
              "1656287513236_43316_BKIA  ['Apple', 'Gamesa', 'Amazon', 'Iberia', 'Accio...   \n",
              "1656287513236_43316_CABK  ['Apple', 'Gamesa', 'Amazon', 'Iberia', 'Accio...   \n",
              "1656287513236_43316_IAG   ['Apple', 'Gamesa', 'Amazon', 'Iberia', 'Accio...   \n",
              "...                                                                     ...   \n",
              "1656406861597_6_REP                               ['Francisco de la Torre']   \n",
              "1656406861597_6_TEF                               ['Francisco de la Torre']   \n",
              "1656407079517_9_CABK                     ['Sector financiero', 'Caixabank']   \n",
              "1656402235399_9_ANA       ['Comisión Europea', 'Acciona', 'Distrito Cast...   \n",
              "1656404116271_9_CABK                                           ['La Caixa']   \n",
              "\n",
              "                             resource ticker  \\\n",
              "pk                                             \n",
              "1656287707697_43316_IAG        ELPAIS    IAG   \n",
              "1656287513236_43316_ANA           ABC    ANA   \n",
              "1656287513236_43316_BKIA          ABC   BKIA   \n",
              "1656287513236_43316_CABK          ABC   CABK   \n",
              "1656287513236_43316_IAG           ABC    IAG   \n",
              "...                               ...    ...   \n",
              "1656406861597_6_REP       EUROPAPRESS    REP   \n",
              "1656406861597_6_TEF       EUROPAPRESS    TEF   \n",
              "1656407079517_9_CABK      EUROPAPRESS   CABK   \n",
              "1656402235399_9_ANA       EUROPAPRESS    ANA   \n",
              "1656404116271_9_CABK      EUROPAPRESS   CABK   \n",
              "\n",
              "                                                       ticker_name  \\\n",
              "pk                                                                   \n",
              "1656287707697_43316_IAG   INTERNATIONAL CONSOLIDAT. AIRLINES GROUP   \n",
              "1656287513236_43316_ANA                               ACCIONA,S.A.   \n",
              "1656287513236_43316_BKIA                              BANKIA, S.A.   \n",
              "1656287513236_43316_CABK                           CAIXABANK, S.A.   \n",
              "1656287513236_43316_IAG   INTERNATIONAL CONSOLIDAT. AIRLINES GROUP   \n",
              "...                                                            ...   \n",
              "1656406861597_6_REP                                   REPSOL, S.A.   \n",
              "1656406861597_6_TEF                               TELEFONICA, S.A.   \n",
              "1656407079517_9_CABK                               CAIXABANK, S.A.   \n",
              "1656402235399_9_ANA                                   ACCIONA,S.A.   \n",
              "1656404116271_9_CABK                               CAIXABANK, S.A.   \n",
              "\n",
              "                                                         sector  \\\n",
              "pk                                                                \n",
              "1656287707697_43316_IAG                    Servicios de Consumo   \n",
              "1656287513236_43316_ANA   Mat.Basicos, Industria y Construcción   \n",
              "1656287513236_43316_BKIA                  Servicios Financieros   \n",
              "1656287513236_43316_CABK                  Servicios Financieros   \n",
              "1656287513236_43316_IAG                    Servicios de Consumo   \n",
              "...                                                         ...   \n",
              "1656406861597_6_REP                          Petróleo y Energía   \n",
              "1656406861597_6_TEF             Tecnología y Telecomunicaciones   \n",
              "1656407079517_9_CABK                      Servicios Financieros   \n",
              "1656402235399_9_ANA       Mat.Basicos, Industria y Construcción   \n",
              "1656404116271_9_CABK                      Servicios Financieros   \n",
              "\n",
              "                                           subsector  ...  \\\n",
              "pk                                                    ...   \n",
              "1656287707697_43316_IAG    Transporte y Distribución  ...   \n",
              "1656287513236_43316_ANA                 Construcción  ...   \n",
              "1656287513236_43316_BKIA    Bancos y Cajas de Ahorro  ...   \n",
              "1656287513236_43316_CABK    Bancos y Cajas de Ahorro  ...   \n",
              "1656287513236_43316_IAG    Transporte y Distribución  ...   \n",
              "...                                              ...  ...   \n",
              "1656406861597_6_REP                         Petróleo  ...   \n",
              "1656406861597_6_TEF       Telecomunicaciones y Otros  ...   \n",
              "1656407079517_9_CABK        Bancos y Cajas de Ahorro  ...   \n",
              "1656402235399_9_ANA                     Construcción  ...   \n",
              "1656404116271_9_CABK        Bancos y Cajas de Ahorro  ...   \n",
              "\n",
              "                          vola20_umbral_abs_Q1  vola20_umbral_Q3  \\\n",
              "pk                                                                 \n",
              "1656287707697_43316_IAG               0.114337          0.305009   \n",
              "1656287513236_43316_ANA               0.103677          0.208834   \n",
              "1656287513236_43316_BKIA              0.103478          0.236113   \n",
              "1656287513236_43316_CABK              0.139145          0.290371   \n",
              "1656287513236_43316_IAG               0.114337          0.305009   \n",
              "...                                        ...               ...   \n",
              "1656406861597_6_REP                   0.272479         -0.270908   \n",
              "1656406861597_6_TEF                   0.399914         -0.399914   \n",
              "1656407079517_9_CABK                  0.053781          0.059615   \n",
              "1656402235399_9_ANA                   0.144790          0.352219   \n",
              "1656404116271_9_CABK                  0.172358          0.625502   \n",
              "\n",
              "                          vola20_umbral_abs_Q3 vola_label vola_label_abs  \\\n",
              "pk                                                                         \n",
              "1656287707697_43316_IAG               0.417972        0.0            0.0   \n",
              "1656287513236_43316_ANA               0.225065        1.0            1.0   \n",
              "1656287513236_43316_BKIA              0.315340        1.0            1.0   \n",
              "1656287513236_43316_CABK              0.324701        1.0            1.0   \n",
              "1656287513236_43316_IAG               0.417972        0.0            0.0   \n",
              "...                                        ...        ...            ...   \n",
              "1656406861597_6_REP                   0.357201        1.0            0.0   \n",
              "1656406861597_6_TEF                   0.477420        1.0            0.0   \n",
              "1656407079517_9_CABK                  0.251531        1.0            1.0   \n",
              "1656402235399_9_ANA                   0.352219        1.0            1.0   \n",
              "1656404116271_9_CABK                  0.625502       -1.0            0.0   \n",
              "\n",
              "                                                           body_no_entities  \\\n",
              "pk                                                                            \n",
              "1656287707697_43316_IAG   ¿DNI o pasaporte? ¿Hay que pedir visado? ¿Sirv...   \n",
              "1656287513236_43316_ANA   24 componentes en negativo El Ibex cierra un a...   \n",
              "1656287513236_43316_BKIA  24 componentes en negativo El Ibex cierra un a...   \n",
              "1656287513236_43316_CABK  24 componentes en negativo El Ibex cierra un a...   \n",
              "1656287513236_43316_IAG   24 componentes en negativo El Ibex cierra un a...   \n",
              "...                                                                     ...   \n",
              "1656406861597_6_REP       MÁLAGA, 31 Dic. (EUROPA PRESS) - El alcalde de...   \n",
              "1656406861597_6_TEF       MÁLAGA, 31 Dic. (EUROPA PRESS) - El alcalde de...   \n",
              "1656407079517_9_CABK      MADRID, 28 Dic. (EUROPA PRESS) - Banca Privada...   \n",
              "1656402235399_9_ANA       MADRID, 1 Dic. (EUROPA PRESS) - El modelo ener...   \n",
              "1656404116271_9_CABK      La acción se desarrolla en espacios emblemátic...   \n",
              "\n",
              "                         finanzas_tag_s_n  impacto_tag_s_n  \\\n",
              "pk                                                           \n",
              "1656287707697_43316_IAG                 1                1   \n",
              "1656287513236_43316_ANA                 1                1   \n",
              "1656287513236_43316_BKIA                1                1   \n",
              "1656287513236_43316_CABK                1                1   \n",
              "1656287513236_43316_IAG                 1                1   \n",
              "...                                   ...              ...   \n",
              "1656406861597_6_REP                     1                1   \n",
              "1656406861597_6_TEF                     1                1   \n",
              "1656407079517_9_CABK                    1                1   \n",
              "1656402235399_9_ANA                     1                1   \n",
              "1656404116271_9_CABK                    1                1   \n",
              "\n",
              "                          impacto_tag_s_proba  finanzas_tag_s_proba  \n",
              "pk                                                                   \n",
              "1656287707697_43316_IAG              0.250098              0.092213  \n",
              "1656287513236_43316_ANA              0.253235              0.197973  \n",
              "1656287513236_43316_BKIA             0.253235              0.197973  \n",
              "1656287513236_43316_CABK             0.253235              0.197973  \n",
              "1656287513236_43316_IAG              0.253235              0.197973  \n",
              "...                                       ...                   ...  \n",
              "1656406861597_6_REP                  0.103857              0.024516  \n",
              "1656406861597_6_TEF                  0.103857              0.024516  \n",
              "1656407079517_9_CABK                 0.270544              0.169495  \n",
              "1656402235399_9_ANA                  0.184185              0.026325  \n",
              "1656404116271_9_CABK                 0.072405              0.007172  \n",
              "\n",
              "[46635 rows x 41 columns]"
            ]
          },
          "execution_count": 58,
          "metadata": {},
          "output_type": "execute_result"
        }
      ],
      "source": [
        "df"
      ]
    },
    {
      "cell_type": "code",
      "execution_count": null,
      "metadata": {
        "id": "mmkvCrA7G_VP"
      },
      "outputs": [],
      "source": [
        "df_paragraph = pd.read_csv(f'{filepath}_predict_impacto_finanzas_tag_s_n.csv', sep=\";\", parse_dates=[\"date\"], low_memory=False, lineterminator=\"\\n\", index_col=0)"
      ]
    },
    {
      "cell_type": "code",
      "execution_count": null,
      "metadata": {
        "id": "GRaJekAVinX-"
      },
      "outputs": [],
      "source": [
        "df['date_agg'] = df.date.dt.date"
      ]
    },
    {
      "cell_type": "code",
      "execution_count": null,
      "metadata": {
        "id": "X3gOVtfbjnqJ"
      },
      "outputs": [],
      "source": [
        "#Nos quedamos con las noticias que han publicado solamente 1 vez en el dia en el mismo media para un ticker para evitar aprender de noticias con impactos en volatilidad contradictorios\n",
        "df_grpby = df.groupby(['date_agg','ticker','resource'])\n",
        "df_agg = df_grpby.agg({'ticker':'count'})\n",
        "df_agg = df_agg[df_agg.ticker==1]"
      ]
    },
    {
      "cell_type": "code",
      "execution_count": null,
      "metadata": {
        "colab": {
          "base_uri": "https://localhost:8080/"
        },
        "id": "QIQCE-8yingn",
        "outputId": "ac84688c-284e-45a7-f71c-061b38febdda"
      },
      "outputs": [
        {
          "data": {
            "text/plain": [
              "date                          datetime64[ns]\n",
              "ticker                                object\n",
              "title                                 object\n",
              "url                                   object\n",
              "body                                  object\n",
              "tags                                  object\n",
              "resource                              object\n",
              "ticker_x                              object\n",
              "ticker_name                           object\n",
              "sector                                object\n",
              "subsector                             object\n",
              "ticker_freq                            int64\n",
              "ticker_first                         float64\n",
              "ticker_title                         float64\n",
              "tickers                               object\n",
              "entities                              object\n",
              "topic_classifier                      object\n",
              "topics                                object\n",
              "finanzas_prob                        float64\n",
              "sector_in_topics                       int64\n",
              "intensidad                           float64\n",
              "rd_activo_news                       float64\n",
              "rd_bench_news                        float64\n",
              "alpha_exante                         float64\n",
              "alpha_exante_Q1                      float64\n",
              "alpha_exante_below_Q1                   bool\n",
              "alpha_exante_Q3                      float64\n",
              "alpha_exante_above_Q3                   bool\n",
              "vola20_exante                        float64\n",
              "vola20_expost                        float64\n",
              "vola20_antepost_pct_change           float64\n",
              "vola20_umbral_Q1                     float64\n",
              "vola20_umbral_abs_Q1                 float64\n",
              "vola20_umbral_Q3                     float64\n",
              "vola20_umbral_abs_Q3                 float64\n",
              "vola_label                           float64\n",
              "vola_label_abs                       float64\n",
              "body_no_entities                      object\n",
              "finanzas_tag_s_n                       int64\n",
              "impacto_tag_s_n                        int64\n",
              "impacto_tag_s_proba                  float64\n",
              "finanzas_tag_s_proba                 float64\n",
              "date_agg                              object\n",
              "ticker_y                               int64\n",
              "dtype: object"
            ]
          },
          "execution_count": 62,
          "metadata": {},
          "output_type": "execute_result"
        }
      ],
      "source": [
        "df = pd.merge(df, df_agg,  how='inner', left_on=['date_agg','ticker','resource'], right_index=True)\n",
        "df.dtypes"
      ]
    },
    {
      "cell_type": "code",
      "execution_count": null,
      "metadata": {
        "id": "ZbqgC8IbLjlm"
      },
      "outputs": [],
      "source": [
        "df.drop('ticker_x', axis=1, inplace=True)\n",
        "df.drop('date_agg', axis=1, inplace=True)\n",
        "df.drop('ticker_y', axis=1, inplace=True)"
      ]
    },
    {
      "cell_type": "code",
      "execution_count": null,
      "metadata": {
        "colab": {
          "base_uri": "https://localhost:8080/"
        },
        "id": "84Bq9ZUPogX_",
        "outputId": "9507e847-cd9e-4e66-d505-e28a1431b42f"
      },
      "outputs": [
        {
          "data": {
            "text/plain": [
              "(3856, 41)"
            ]
          },
          "execution_count": 64,
          "metadata": {},
          "output_type": "execute_result"
        }
      ],
      "source": [
        "#Intensidad > 2\n",
        "df = df[df.intensidad > 2]\n",
        "df.shape"
      ]
    },
    {
      "cell_type": "code",
      "execution_count": null,
      "metadata": {
        "colab": {
          "base_uri": "https://localhost:8080/",
          "height": 282
        },
        "id": "3ZomfKhqHkWk",
        "outputId": "7da77dc1-9c31-49e3-b3fb-47062fcf798d"
      },
      "outputs": [
        {
          "data": {
            "text/plain": [
              "<matplotlib.axes._subplots.AxesSubplot at 0x7fc159c73c10>"
            ]
          },
          "execution_count": 65,
          "metadata": {},
          "output_type": "execute_result"
        },
        {
          "data": {
            "image/png": "[encoded data removed]",
            "text/plain": [
              "<Figure size 432x288 with 1 Axes>"
            ]
          },
          "metadata": {
            "needs_background": "light"
          },
          "output_type": "display_data"
        }
      ],
      "source": [
        "#Otros posibles filtros\n",
        "df.finanzas_tag_s_proba.hist()"
      ]
    },
    {
      "cell_type": "code",
      "execution_count": null,
      "metadata": {
        "id": "fAIsBfJ6HzdO"
      },
      "outputs": [],
      "source": [
        "# umbral = 0.55\n",
        "# df = df[df.finanzas_tag_s_proba > umbral]\n",
        "# df.shape"
      ]
    },
    {
      "cell_type": "code",
      "execution_count": null,
      "metadata": {
        "colab": {
          "base_uri": "https://localhost:8080/",
          "height": 282
        },
        "id": "lzSxCmWIHtTG",
        "outputId": "bec3df21-d3bc-43eb-e439-ccd9ede89133"
      },
      "outputs": [
        {
          "data": {
            "text/plain": [
              "<matplotlib.axes._subplots.AxesSubplot at 0x7fc14ff09b10>"
            ]
          },
          "execution_count": 66,
          "metadata": {},
          "output_type": "execute_result"
        },
        {
          "data": {
            "image/png": "[encoded data removed]",
            "text/plain": [
              "<Figure size 432x288 with 1 Axes>"
            ]
          },
          "metadata": {
            "needs_background": "light"
          },
          "output_type": "display_data"
        }
      ],
      "source": [
        "df.impacto_tag_s_proba.hist()"
      ]
    },
    {
      "cell_type": "code",
      "execution_count": null,
      "metadata": {
        "id": "0IK4xaZqIc7e"
      },
      "outputs": [],
      "source": [
        "# umbral = 0.55\n",
        "# df = df[df.impacto_tag_s_proba > umbral]\n",
        "# df.shape"
      ]
    },
    {
      "cell_type": "code",
      "execution_count": null,
      "metadata": {
        "id": "ODtkDkb2Ieb2"
      },
      "outputs": [],
      "source": [
        "df.to_csv(f\"{filepath_news}_filters.csv\", sep=\";\", index=True)"
      ]
    },
    {
      "cell_type": "code",
      "execution_count": null,
      "metadata": {
        "id": "gQExwCfgkIfi"
      },
      "outputs": [],
      "source": [
        "df_paragraph = df_paragraph[df_paragraph.pk.isin(df.index.tolist())]"
      ]
    },
    {
      "cell_type": "code",
      "execution_count": null,
      "metadata": {
        "id": "GE4JLOvNkIio"
      },
      "outputs": [],
      "source": [
        "df_paragraph.set_index(\"pk\", inplace=True)"
      ]
    },
    {
      "cell_type": "code",
      "execution_count": null,
      "metadata": {
        "id": "8-gMqky9vctn"
      },
      "outputs": [],
      "source": [
        "df_paragraph.to_csv(f\"{filepath}_filters.csv\", sep=\";\", index=True)"
      ]
    },
    {
      "cell_type": "code",
      "execution_count": null,
      "metadata": {
        "colab": {
          "base_uri": "https://localhost:8080/"
        },
        "id": "LhiWiWXsIDBG",
        "outputId": "4d525a0e-35d0-4116-cc6b-577a255809ae"
      },
      "outputs": [
        {
          "name": "stdout",
          "output_type": "stream",
          "text": [
            "(3856, 41)\n"
          ]
        },
        {
          "data": {
            "text/plain": [
              "date                          datetime64[ns]\n",
              "ticker                                object\n",
              "title                                 object\n",
              "url                                   object\n",
              "body                                  object\n",
              "tags                                  object\n",
              "resource                              object\n",
              "ticker_name                           object\n",
              "sector                                object\n",
              "subsector                             object\n",
              "ticker_freq                            int64\n",
              "ticker_first                         float64\n",
              "ticker_title                         float64\n",
              "tickers                               object\n",
              "entities                              object\n",
              "topic_classifier                      object\n",
              "topics                                object\n",
              "finanzas_prob                        float64\n",
              "sector_in_topics                       int64\n",
              "intensidad                           float64\n",
              "rd_activo_news                       float64\n",
              "rd_bench_news                        float64\n",
              "alpha_exante                         float64\n",
              "alpha_exante_Q1                      float64\n",
              "alpha_exante_below_Q1                   bool\n",
              "alpha_exante_Q3                      float64\n",
              "alpha_exante_above_Q3                   bool\n",
              "vola20_exante                        float64\n",
              "vola20_expost                        float64\n",
              "vola20_antepost_pct_change           float64\n",
              "vola20_umbral_Q1                     float64\n",
              "vola20_umbral_abs_Q1                 float64\n",
              "vola20_umbral_Q3                     float64\n",
              "vola20_umbral_abs_Q3                 float64\n",
              "vola_label                           float64\n",
              "vola_label_abs                       float64\n",
              "body_no_entities                      object\n",
              "finanzas_tag_s_n                       int64\n",
              "impacto_tag_s_n                        int64\n",
              "impacto_tag_s_proba                  float64\n",
              "finanzas_tag_s_proba                 float64\n",
              "dtype: object"
            ]
          },
          "execution_count": 71,
          "metadata": {},
          "output_type": "execute_result"
        }
      ],
      "source": [
        "df = pd.read_csv(f\"{filepath_news}_filters.csv\", sep=\";\", parse_dates=[\"date\"], index_col=0)\n",
        "print(df.shape)\n",
        "df.dtypes"
      ]
    },
    {
      "cell_type": "code",
      "execution_count": null,
      "metadata": {
        "colab": {
          "base_uri": "https://localhost:8080/"
        },
        "id": "iPrZig5zLEM2",
        "outputId": "6e6a6e1f-937f-4f6b-d86e-ef9aafde7d5b"
      },
      "outputs": [
        {
          "name": "stdout",
          "output_type": "stream",
          "text": [
            "(42285, 54)\n",
            "pk                                    object\n",
            "pk_paragraph                          object\n",
            "date                          datetime64[ns]\n",
            "title                                 object\n",
            "url                                   object\n",
            "body                                  object\n",
            "tags                                  object\n",
            "resource                              object\n",
            "ticker                                object\n",
            "ticker_name                           object\n",
            "sector                                object\n",
            "subsector                             object\n",
            "ticker_freq                            int64\n",
            "ticker_first                         float64\n",
            "ticker_title                         float64\n",
            "tickers                               object\n",
            "entities                              object\n",
            "topic_classifier                      object\n",
            "topics                                object\n",
            "finanzas_prob                        float64\n",
            "sector_in_topics                       int64\n",
            "intensidad                           float64\n",
            "rd_activo_news                       float64\n",
            "rd_bench_news                        float64\n",
            "alpha_exante                         float64\n",
            "alpha_exante_Q1                      float64\n",
            "alpha_exante_below_Q1                   bool\n",
            "alpha_exante_Q3                      float64\n",
            "alpha_exante_above_Q3                   bool\n",
            "vola20_exante                        float64\n",
            "vola20_expost                        float64\n",
            "vola20_antepost_pct_change           float64\n",
            "vola20_umbral_Q1                     float64\n",
            "vola20_umbral_abs_Q1                 float64\n",
            "vola20_umbral_Q3                     float64\n",
            "vola20_umbral_abs_Q3                 float64\n",
            "vola_label                           float64\n",
            "vola_label_abs                       float64\n",
            "title_no_entities                     object\n",
            "body_no_entities                      object\n",
            "topic_classifier_news                 object\n",
            "topics_news                           object\n",
            "finanzas_prob_news                   float64\n",
            "sector_in_topics_news                  int64\n",
            "intensidad_news                      float64\n",
            "finanzas_tag_s_n                       int64\n",
            "impacto_tag_s_n                        int64\n",
            "topic_tag_news                       float64\n",
            "finanzas_tag_news_s_n                float64\n",
            "impacto_tag_news_s_n                 float64\n",
            "impacto_tag_s_n_confianza            float64\n",
            "impacto_tag_s_proba                  float64\n",
            "finanzas_tag_s_n_confianza           float64\n",
            "finanzas_tag_s_proba                 float64\n",
            "dtype: object\n"
          ]
        }
      ],
      "source": [
        "df_paragraph = pd.read_csv(f\"{filepath}_filters.csv\", sep=\";\", parse_dates=[\"date\"], low_memory=False, lineterminator=\"\\n\")\n",
        "print(df_paragraph.shape)\n",
        "print(df_paragraph.dtypes)"
      ]
    },
    {
      "cell_type": "code",
      "execution_count": null,
      "metadata": {
        "id": "u4y1zX4AkOe0"
      },
      "outputs": [],
      "source": [
        "## GENERACIÓN DEL DATASET TOTAL SIN FILTROS"
      ]
    },
    {
      "cell_type": "code",
      "execution_count": 214,
      "metadata": {
        "colab": {
          "base_uri": "https://localhost:8080/"
        },
        "id": "ubMLj3mDkOsN",
        "outputId": "1d05a99a-332c-445f-a067-27558c5b392d"
      },
      "outputs": [
        {
          "name": "stdout",
          "output_type": "stream",
          "text": [
            "tfm/outputs/dataset_2017_news_predict_impacto_finanzas_tag_s_n.csv (34350, 42)\n",
            "tfm/outputs/dataset_2017_paragraph_predict_impacto_finanzas_tag_s_n.csv (412278, 54)\n",
            "tfm/outputs/dataset_2018_news_predict_impacto_finanzas_tag_s_n.csv (45550, 42)\n",
            "tfm/outputs/dataset_2018_paragraph_predict_impacto_finanzas_tag_s_n.csv (736299, 54)\n",
            "tfm/outputs/dataset_2019_news_predict_impacto_finanzas_tag_s_n.csv (51098, 42)\n",
            "tfm/outputs/dataset_2019_paragraph_predict_impacto_finanzas_tag_s_n.csv (612424, 54)\n",
            "tfm/outputs/dataset_2020_news_predict_impacto_finanzas_tag_s_n.csv (49548, 42)\n",
            "tfm/outputs/dataset_2020_paragraph_predict_impacto_finanzas_tag_s_n.csv (635924, 54)\n",
            "tfm/outputs/dataset_2021_news_predict_impacto_finanzas_tag_s_n.csv (46635, 42)\n",
            "tfm/outputs/dataset_2021_paragraph_predict_impacto_finanzas_tag_s_n.csv (499654, 54)\n",
            "tfm/outputs/dataset_2022_news_predict_impacto_finanzas_tag_s_n.csv (14372, 42)\n",
            "tfm/outputs/dataset_2022_paragraph_predict_impacto_finanzas_tag_s_n.csv (160108, 54)\n"
          ]
        }
      ],
      "source": [
        "# Ejecutar solo para la union de todo el histórico\n",
        "lst = ['2017','2018','2019','2020','2021','2022']\n",
        "result_news = None\n",
        "result_paragraph = None\n",
        "for yy in lst:\n",
        "  filepath = f\"tfm/outputs/dataset_{yy}_paragraph\" # Filepath COLAB\n",
        "  filepath_news = f\"tfm/outputs/dataset_{yy}_news\" # Filepath COLAB\n",
        "\n",
        "  df = pd.read_csv(f\"{filepath_news}_predict_impacto_finanzas_tag_s_n.csv\", sep=\";\", parse_dates=[\"date\"],low_memory=False, lineterminator=\"\\n\", index_col=0)\n",
        "  print(f\"{filepath_news}_predict_impacto_finanzas_tag_s_n.csv\", df.shape)\n",
        "  if not result_news is None:\n",
        "      result_news = pd.concat([result_news, df])\n",
        "  else:\n",
        "      result_news = df\n",
        "\n",
        "  df = pd.read_csv(f'{filepath}_predict_impacto_finanzas_tag_s_n.csv', sep=\";\", parse_dates=[\"date\"], low_memory=False, lineterminator=\"\\n\", index_col=0)\n",
        "  print(f'{filepath}_predict_impacto_finanzas_tag_s_n.csv', df.shape)\n",
        "  if not result_paragraph is None:\n",
        "      result_paragraph = pd.concat([result_paragraph, df])\n",
        "  else:\n",
        "      result_paragraph = df\n",
        "\n",
        "filepath = f\"tfm/outputs/dataset_paragraph\" # Filepath COLAB\n",
        "filepath_news = f\"tfm/outputs/dataset_news\" # Filepath COLAB\n",
        "\n",
        "result_news.sort_values(by=[\"date\", \"pk\"], inplace=True)\n",
        "result_news.to_csv(\n",
        "    f\"{filepath_news}_total_no_filters.csv\",\n",
        "    sep=\";\",\n",
        "    # index=False,\n",
        ")\n",
        "\n",
        "result_paragraph.sort_values(by=[\"date\", \"pk_paragraph\"], inplace=True)\n",
        "result_paragraph.to_csv(\n",
        "    f\"{filepath}_total_no_filters.csv\",\n",
        "    sep=\";\",\n",
        "    # index=False,\n",
        ")"
      ]
    },
    {
      "cell_type": "code",
      "execution_count": 215,
      "metadata": {
        "id": "nGPst_jQFpvk"
      },
      "outputs": [],
      "source": [
        "df = pd.read_csv(f\"{filepath}_total_no_filters.csv\", sep=\";\", parse_dates=[\"date\"], low_memory=False, lineterminator=\"\\n\", index_col=0)"
      ]
    },
    {
      "cell_type": "code",
      "execution_count": 216,
      "metadata": {
        "colab": {
          "base_uri": "https://localhost:8080/"
        },
        "id": "DDkeEgTqFqjF",
        "outputId": "aac2eaa5-1bff-4574-92df-5e641e4cc050"
      },
      "outputs": [
        {
          "data": {
            "text/plain": [
              "(3056687, 54)"
            ]
          },
          "execution_count": 216,
          "metadata": {},
          "output_type": "execute_result"
        }
      ],
      "source": [
        "df.shape"
      ]
    },
    {
      "cell_type": "code",
      "execution_count": 218,
      "metadata": {
        "colab": {
          "base_uri": "https://localhost:8080/"
        },
        "id": "Ssdaj-X_G0yQ",
        "outputId": "bd09af56-3ab0-46cc-bad8-f9273ca35098"
      },
      "outputs": [
        {
          "data": {
            "text/plain": [
              "1.0"
            ]
          },
          "execution_count": 218,
          "metadata": {},
          "output_type": "execute_result"
        }
      ],
      "source": [
        "df.intensidad.min()"
      ]
    },
    {
      "cell_type": "code",
      "execution_count": null,
      "metadata": {
        "colab": {
          "base_uri": "https://localhost:8080/"
        },
        "id": "nYCOP0Dl9RoZ",
        "outputId": "83b77c26-bb3f-408b-98c8-bcdb88d4019f"
      },
      "outputs": [
        {
          "name": "stdout",
          "output_type": "stream",
          "text": [
            "2017\n",
            "tfm/outputs/dataset_2017_paragraph_predict_finanzas_tag_s_n.csv (412278, 52)\n",
            "tfm/outputs/dataset_2017_paragraph_predict_impacto_tag_s_n.csv (412278, 52)\n",
            "tfm/outputs/dataset_2017_paragraph_predict_impacto_finanzas_tag_s_n.csv (412278, 54)\n",
            "tfm/outputs/dataset_2017_news_predict_impacto_finanzas_tag_s_n.csv (34350, 41)\n",
            "tfm/outputs/dataset_2017_news_filters.csv (2444, 41)\n",
            "tfm/outputs/dataset_2017_paragraph_filters.csv (48466, 54)\n",
            "2018\n",
            "tfm/outputs/dataset_2018_paragraph_predict_finanzas_tag_s_n.csv (736299, 52)\n",
            "tfm/outputs/dataset_2018_paragraph_predict_impacto_tag_s_n.csv (736299, 52)\n",
            "tfm/outputs/dataset_2018_paragraph_predict_impacto_finanzas_tag_s_n.csv (736299, 54)\n",
            "tfm/outputs/dataset_2018_news_predict_impacto_finanzas_tag_s_n.csv (45550, 41)\n",
            "tfm/outputs/dataset_2018_news_filters.csv (3205, 41)\n",
            "tfm/outputs/dataset_2018_paragraph_filters.csv (97194, 54)\n",
            "2019\n",
            "tfm/outputs/dataset_2019_paragraph_predict_finanzas_tag_s_n.csv (612424, 52)\n",
            "tfm/outputs/dataset_2019_paragraph_predict_impacto_tag_s_n.csv (612424, 52)\n",
            "tfm/outputs/dataset_2019_paragraph_predict_impacto_finanzas_tag_s_n.csv (612424, 54)\n",
            "tfm/outputs/dataset_2019_news_predict_impacto_finanzas_tag_s_n.csv (51094, 41)\n",
            "tfm/outputs/dataset_2019_news_filters.csv (3901, 41)\n",
            "tfm/outputs/dataset_2019_paragraph_filters.csv (67708, 54)\n",
            "2020\n",
            "tfm/outputs/dataset_2020_paragraph_predict_finanzas_tag_s_n.csv (635924, 52)\n",
            "tfm/outputs/dataset_2020_paragraph_predict_impacto_tag_s_n.csv (635924, 52)\n",
            "tfm/outputs/dataset_2020_paragraph_predict_impacto_finanzas_tag_s_n.csv (635924, 54)\n",
            "tfm/outputs/dataset_2020_news_predict_impacto_finanzas_tag_s_n.csv (49548, 41)\n",
            "tfm/outputs/dataset_2020_news_filters.csv (4202, 41)\n",
            "tfm/outputs/dataset_2020_paragraph_filters.csv (77794, 54)\n",
            "2021\n",
            "tfm/outputs/dataset_2021_paragraph_predict_finanzas_tag_s_n.csv (499654, 52)\n",
            "tfm/outputs/dataset_2021_paragraph_predict_impacto_tag_s_n.csv (499654, 52)\n",
            "tfm/outputs/dataset_2021_paragraph_predict_impacto_finanzas_tag_s_n.csv (499654, 54)\n",
            "tfm/outputs/dataset_2021_news_predict_impacto_finanzas_tag_s_n.csv (46635, 41)\n",
            "tfm/outputs/dataset_2021_news_filters.csv (3856, 41)\n",
            "tfm/outputs/dataset_2021_paragraph_filters.csv (42285, 54)\n",
            "2022\n",
            "tfm/outputs/dataset_2022_paragraph_predict_finanzas_tag_s_n.csv (160108, 52)\n",
            "tfm/outputs/dataset_2022_paragraph_predict_impacto_tag_s_n.csv (160108, 52)\n",
            "tfm/outputs/dataset_2022_paragraph_predict_impacto_finanzas_tag_s_n.csv (160108, 54)\n",
            "tfm/outputs/dataset_2022_news_predict_impacto_finanzas_tag_s_n.csv (14372, 41)\n",
            "tfm/outputs/dataset_2022_news_filters.csv (1267, 41)\n",
            "tfm/outputs/dataset_2022_paragraph_filters.csv (13481, 54)\n"
          ]
        }
      ],
      "source": [
        "lst = ['2017','2018','2019','2020','2021','2022']\n",
        "for yy in lst:\n",
        "  filepath = f\"tfm/outputs/dataset_{yy}_paragraph\" # Filepath COLAB\n",
        "  filepath_news = f\"tfm/outputs/dataset_{yy}_news\" # Filepath COLAB\n",
        "\n",
        "  print(yy)\n",
        "\n",
        "  df = pd.read_csv(f'{filepath}_predict_finanzas_tag_s_n.csv', sep=\";\", parse_dates=[\"date\"], low_memory=False, lineterminator=\"\\n\")\n",
        "  print(f'{filepath}_predict_finanzas_tag_s_n.csv', df.shape)\n",
        "\n",
        "  df = pd.read_csv(f'{filepath}_predict_impacto_tag_s_n.csv', sep=\";\", parse_dates=[\"date\"], low_memory=False, lineterminator=\"\\n\")\n",
        "  print(f'{filepath}_predict_impacto_tag_s_n.csv', df.shape)    \n",
        "\n",
        "  df = pd.read_csv(f'{filepath}_predict_impacto_finanzas_tag_s_n.csv', sep=\";\", parse_dates=[\"date\"], low_memory=False, lineterminator=\"\\n\", index_col=0)\n",
        "  print(f'{filepath}_predict_impacto_finanzas_tag_s_n.csv', df.shape)  \n",
        "  # print(df)\n",
        "\n",
        "  df = pd.read_csv(f\"{filepath_news}_predict_impacto_finanzas_tag_s_n.csv\", sep=\";\", parse_dates=[\"date\"],low_memory=False, lineterminator=\"\\n\", index_col=0)\n",
        "  print(f\"{filepath_news}_predict_impacto_finanzas_tag_s_n.csv\", df.shape)\n",
        "  # print(df)\n",
        "\n",
        "  df = pd.read_csv(f\"{filepath_news}_filters.csv\", sep=\";\", parse_dates=[\"date\"], index_col=0)  \n",
        "  print(f\"{filepath_news}_filters.csv\", df.shape)\n",
        "  # print(df)\n",
        "\n",
        "  df = pd.read_csv(f\"{filepath}_filters.csv\", sep=\";\", parse_dates=[\"date\"], low_memory=False, lineterminator=\"\\n\")\n",
        "  print(f\"{filepath}_filters.csv\", df.shape)  \n",
        "  # print(df)"
      ]
    }
  ],
  "metadata": {
    "colab": {
      "collapsed_sections": [],
      "machine_shape": "hm",
      "name": "predict_pipeline.ipynb",
      "provenance": []
    },
    "gpuClass": "standard",
    "kernelspec": {
      "display_name": "Python 3",
      "name": "python3"
    },
    "language_info": {
      "name": "python"
    }
  },
  "nbformat": 4,
  "nbformat_minor": 0
}
