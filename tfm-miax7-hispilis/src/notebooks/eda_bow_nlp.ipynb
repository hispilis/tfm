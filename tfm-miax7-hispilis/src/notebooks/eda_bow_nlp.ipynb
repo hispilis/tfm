{
  "cells": [
    {
      "cell_type": "code",
      "execution_count": 1,
      "metadata": {
        "colab": {
          "base_uri": "https://localhost:8080/"
        },
        "id": "Huf4VG7p5PR7",
        "outputId": "29374fb5-2a86-4791-e84b-c663eb070ce3"
      },
      "outputs": [
        {
          "name": "stdout",
          "output_type": "stream",
          "text": [
            "Looking in indexes: https://pypi.org/simple, https://us-python.pkg.dev/colab-wheels/public/simple/\n",
            "Collecting fsspec\n",
            "  Downloading fsspec-2022.5.0-py3-none-any.whl (140 kB)\n",
            "\u001b[K     |████████████████████████████████| 140 kB 12.0 MB/s \n",
            "\u001b[?25hInstalling collected packages: fsspec\n",
            "Successfully installed fsspec-2022.5.0\n"
          ]
        }
      ],
      "source": [
        "!pip install fsspec"
      ]
    },
    {
      "cell_type": "code",
      "execution_count": 2,
      "metadata": {
        "colab": {
          "base_uri": "https://localhost:8080/"
        },
        "id": "7oMJ6BCi5PSA",
        "outputId": "d7101995-7c51-46db-c034-2530222324e0"
      },
      "outputs": [
        {
          "name": "stdout",
          "output_type": "stream",
          "text": [
            "Looking in indexes: https://pypi.org/simple, https://us-python.pkg.dev/colab-wheels/public/simple/\n",
            "Collecting gcsfs\n",
            "  Downloading gcsfs-2022.5.0-py2.py3-none-any.whl (25 kB)\n",
            "Collecting aiohttp<4\n",
            "  Downloading aiohttp-3.8.1-cp37-cp37m-manylinux_2_5_x86_64.manylinux1_x86_64.manylinux_2_12_x86_64.manylinux2010_x86_64.whl (1.1 MB)\n",
            "\u001b[K     |████████████████████████████████| 1.1 MB 16.3 MB/s \n",
            "\u001b[?25hRequirement already satisfied: google-auth-oauthlib in /usr/local/lib/python3.7/dist-packages (from gcsfs) (0.4.6)\n",
            "Requirement already satisfied: google-auth>=1.2 in /usr/local/lib/python3.7/dist-packages (from gcsfs) (1.35.0)\n",
            "Requirement already satisfied: fsspec==2022.5.0 in /usr/local/lib/python3.7/dist-packages (from gcsfs) (2022.5.0)\n",
            "Requirement already satisfied: google-cloud-storage in /usr/local/lib/python3.7/dist-packages (from gcsfs) (1.18.1)\n",
            "Requirement already satisfied: decorator>4.1.2 in /usr/local/lib/python3.7/dist-packages (from gcsfs) (4.4.2)\n",
            "Requirement already satisfied: requests in /usr/local/lib/python3.7/dist-packages (from gcsfs) (2.23.0)\n",
            "Requirement already satisfied: typing-extensions>=3.7.4 in /usr/local/lib/python3.7/dist-packages (from aiohttp<4->gcsfs) (4.1.1)\n",
            "Collecting frozenlist>=1.1.1\n",
            "  Downloading frozenlist-1.3.0-cp37-cp37m-manylinux_2_5_x86_64.manylinux1_x86_64.manylinux_2_17_x86_64.manylinux2014_x86_64.whl (144 kB)\n",
            "\u001b[K     |████████████████████████████████| 144 kB 66.8 MB/s \n",
            "\u001b[?25hCollecting aiosignal>=1.1.2\n",
            "  Downloading aiosignal-1.2.0-py3-none-any.whl (8.2 kB)\n",
            "Collecting yarl<2.0,>=1.0\n",
            "  Downloading yarl-1.7.2-cp37-cp37m-manylinux_2_5_x86_64.manylinux1_x86_64.manylinux_2_12_x86_64.manylinux2010_x86_64.whl (271 kB)\n",
            "\u001b[K     |████████████████████████████████| 271 kB 58.4 MB/s \n",
            "\u001b[?25hRequirement already satisfied: attrs>=17.3.0 in /usr/local/lib/python3.7/dist-packages (from aiohttp<4->gcsfs) (21.4.0)\n",
            "Collecting multidict<7.0,>=4.5\n",
            "  Downloading multidict-6.0.2-cp37-cp37m-manylinux_2_17_x86_64.manylinux2014_x86_64.whl (94 kB)\n",
            "\u001b[K     |████████████████████████████████| 94 kB 1.0 MB/s \n",
            "\u001b[?25hCollecting asynctest==0.13.0\n",
            "  Downloading asynctest-0.13.0-py3-none-any.whl (26 kB)\n",
            "Requirement already satisfied: charset-normalizer<3.0,>=2.0 in /usr/local/lib/python3.7/dist-packages (from aiohttp<4->gcsfs) (2.0.12)\n",
            "Collecting async-timeout<5.0,>=4.0.0a3\n",
            "  Downloading async_timeout-4.0.2-py3-none-any.whl (5.8 kB)\n",
            "Requirement already satisfied: rsa<5,>=3.1.4 in /usr/local/lib/python3.7/dist-packages (from google-auth>=1.2->gcsfs) (4.8)\n",
            "Requirement already satisfied: pyasn1-modules>=0.2.1 in /usr/local/lib/python3.7/dist-packages (from google-auth>=1.2->gcsfs) (0.2.8)\n",
            "Requirement already satisfied: cachetools<5.0,>=2.0.0 in /usr/local/lib/python3.7/dist-packages (from google-auth>=1.2->gcsfs) (4.2.4)\n",
            "Requirement already satisfied: six>=1.9.0 in /usr/local/lib/python3.7/dist-packages (from google-auth>=1.2->gcsfs) (1.15.0)\n",
            "Requirement already satisfied: setuptools>=40.3.0 in /usr/local/lib/python3.7/dist-packages (from google-auth>=1.2->gcsfs) (57.4.0)\n",
            "Requirement already satisfied: pyasn1<0.5.0,>=0.4.6 in /usr/local/lib/python3.7/dist-packages (from pyasn1-modules>=0.2.1->google-auth>=1.2->gcsfs) (0.4.8)\n",
            "Requirement already satisfied: idna>=2.0 in /usr/local/lib/python3.7/dist-packages (from yarl<2.0,>=1.0->aiohttp<4->gcsfs) (2.10)\n",
            "Requirement already satisfied: requests-oauthlib>=0.7.0 in /usr/local/lib/python3.7/dist-packages (from google-auth-oauthlib->gcsfs) (1.3.1)\n",
            "Requirement already satisfied: oauthlib>=3.0.0 in /usr/local/lib/python3.7/dist-packages (from requests-oauthlib>=0.7.0->google-auth-oauthlib->gcsfs) (3.2.0)\n",
            "Requirement already satisfied: certifi>=2017.4.17 in /usr/local/lib/python3.7/dist-packages (from requests->gcsfs) (2022.6.15)\n",
            "Requirement already satisfied: urllib3!=1.25.0,!=1.25.1,<1.26,>=1.21.1 in /usr/local/lib/python3.7/dist-packages (from requests->gcsfs) (1.24.3)\n",
            "Requirement already satisfied: chardet<4,>=3.0.2 in /usr/local/lib/python3.7/dist-packages (from requests->gcsfs) (3.0.4)\n",
            "Requirement already satisfied: google-cloud-core<2.0dev,>=1.0.0 in /usr/local/lib/python3.7/dist-packages (from google-cloud-storage->gcsfs) (1.0.3)\n",
            "Requirement already satisfied: google-resumable-media<0.5.0dev,>=0.3.1 in /usr/local/lib/python3.7/dist-packages (from google-cloud-storage->gcsfs) (0.4.1)\n",
            "Requirement already satisfied: google-api-core<2.0.0dev,>=1.14.0 in /usr/local/lib/python3.7/dist-packages (from google-cloud-core<2.0dev,>=1.0.0->google-cloud-storage->gcsfs) (1.31.6)\n",
            "Requirement already satisfied: pytz in /usr/local/lib/python3.7/dist-packages (from google-api-core<2.0.0dev,>=1.14.0->google-cloud-core<2.0dev,>=1.0.0->google-cloud-storage->gcsfs) (2022.1)\n",
            "Requirement already satisfied: packaging>=14.3 in /usr/local/lib/python3.7/dist-packages (from google-api-core<2.0.0dev,>=1.14.0->google-cloud-core<2.0dev,>=1.0.0->google-cloud-storage->gcsfs) (21.3)\n",
            "Requirement already satisfied: googleapis-common-protos<2.0dev,>=1.6.0 in /usr/local/lib/python3.7/dist-packages (from google-api-core<2.0.0dev,>=1.14.0->google-cloud-core<2.0dev,>=1.0.0->google-cloud-storage->gcsfs) (1.56.2)\n",
            "Requirement already satisfied: protobuf<4.0.0dev,>=3.12.0 in /usr/local/lib/python3.7/dist-packages (from google-api-core<2.0.0dev,>=1.14.0->google-cloud-core<2.0dev,>=1.0.0->google-cloud-storage->gcsfs) (3.17.3)\n",
            "Requirement already satisfied: pyparsing!=3.0.5,>=2.0.2 in /usr/local/lib/python3.7/dist-packages (from packaging>=14.3->google-api-core<2.0.0dev,>=1.14.0->google-cloud-core<2.0dev,>=1.0.0->google-cloud-storage->gcsfs) (3.0.9)\n",
            "Installing collected packages: multidict, frozenlist, yarl, asynctest, async-timeout, aiosignal, aiohttp, gcsfs\n",
            "Successfully installed aiohttp-3.8.1 aiosignal-1.2.0 async-timeout-4.0.2 asynctest-0.13.0 frozenlist-1.3.0 gcsfs-2022.5.0 multidict-6.0.2 yarl-1.7.2\n"
          ]
        }
      ],
      "source": [
        "!pip install gcsfs"
      ]
    },
    {
      "cell_type": "code",
      "execution_count": 3,
      "metadata": {
        "colab": {
          "base_uri": "https://localhost:8080/"
        },
        "id": "Nr8Qd1jo5nM-",
        "outputId": "29dee6bc-042a-4e26-9915-c306fd79c3de"
      },
      "outputs": [
        {
          "name": "stdout",
          "output_type": "stream",
          "text": [
            "Looking in indexes: https://pypi.org/simple, https://us-python.pkg.dev/colab-wheels/public/simple/\n",
            "Requirement already satisfied: spacy in /usr/local/lib/python3.7/dist-packages (3.3.1)\n",
            "Requirement already satisfied: requests<3.0.0,>=2.13.0 in /usr/local/lib/python3.7/dist-packages (from spacy) (2.23.0)\n",
            "Requirement already satisfied: tqdm<5.0.0,>=4.38.0 in /usr/local/lib/python3.7/dist-packages (from spacy) (4.64.0)\n",
            "Requirement already satisfied: langcodes<4.0.0,>=3.2.0 in /usr/local/lib/python3.7/dist-packages (from spacy) (3.3.0)\n",
            "Requirement already satisfied: packaging>=20.0 in /usr/local/lib/python3.7/dist-packages (from spacy) (21.3)\n",
            "Requirement already satisfied: typer<0.5.0,>=0.3.0 in /usr/local/lib/python3.7/dist-packages (from spacy) (0.4.1)\n",
            "Requirement already satisfied: setuptools in /usr/local/lib/python3.7/dist-packages (from spacy) (57.4.0)\n",
            "Requirement already satisfied: spacy-legacy<3.1.0,>=3.0.9 in /usr/local/lib/python3.7/dist-packages (from spacy) (3.0.9)\n",
            "Requirement already satisfied: catalogue<2.1.0,>=2.0.6 in /usr/local/lib/python3.7/dist-packages (from spacy) (2.0.7)\n",
            "Requirement already satisfied: pathy>=0.3.5 in /usr/local/lib/python3.7/dist-packages (from spacy) (0.6.1)\n",
            "Requirement already satisfied: numpy>=1.15.0 in /usr/local/lib/python3.7/dist-packages (from spacy) (1.21.6)\n",
            "Requirement already satisfied: pydantic!=1.8,!=1.8.1,<1.9.0,>=1.7.4 in /usr/local/lib/python3.7/dist-packages (from spacy) (1.8.2)\n",
            "Requirement already satisfied: thinc<8.1.0,>=8.0.14 in /usr/local/lib/python3.7/dist-packages (from spacy) (8.0.17)\n",
            "Requirement already satisfied: blis<0.8.0,>=0.4.0 in /usr/local/lib/python3.7/dist-packages (from spacy) (0.7.7)\n",
            "Requirement already satisfied: wasabi<1.1.0,>=0.9.1 in /usr/local/lib/python3.7/dist-packages (from spacy) (0.9.1)\n",
            "Requirement already satisfied: cymem<2.1.0,>=2.0.2 in /usr/local/lib/python3.7/dist-packages (from spacy) (2.0.6)\n",
            "Requirement already satisfied: preshed<3.1.0,>=3.0.2 in /usr/local/lib/python3.7/dist-packages (from spacy) (3.0.6)\n",
            "Requirement already satisfied: srsly<3.0.0,>=2.4.3 in /usr/local/lib/python3.7/dist-packages (from spacy) (2.4.3)\n",
            "Requirement already satisfied: typing-extensions<4.2.0,>=3.7.4 in /usr/local/lib/python3.7/dist-packages (from spacy) (4.1.1)\n",
            "Requirement already satisfied: jinja2 in /usr/local/lib/python3.7/dist-packages (from spacy) (2.11.3)\n",
            "Requirement already satisfied: murmurhash<1.1.0,>=0.28.0 in /usr/local/lib/python3.7/dist-packages (from spacy) (1.0.7)\n",
            "Requirement already satisfied: spacy-loggers<2.0.0,>=1.0.0 in /usr/local/lib/python3.7/dist-packages (from spacy) (1.0.2)\n",
            "Requirement already satisfied: zipp>=0.5 in /usr/local/lib/python3.7/dist-packages (from catalogue<2.1.0,>=2.0.6->spacy) (3.8.0)\n",
            "Requirement already satisfied: pyparsing!=3.0.5,>=2.0.2 in /usr/local/lib/python3.7/dist-packages (from packaging>=20.0->spacy) (3.0.9)\n",
            "Requirement already satisfied: smart-open<6.0.0,>=5.0.0 in /usr/local/lib/python3.7/dist-packages (from pathy>=0.3.5->spacy) (5.2.1)\n",
            "Requirement already satisfied: idna<3,>=2.5 in /usr/local/lib/python3.7/dist-packages (from requests<3.0.0,>=2.13.0->spacy) (2.10)\n",
            "Requirement already satisfied: urllib3!=1.25.0,!=1.25.1,<1.26,>=1.21.1 in /usr/local/lib/python3.7/dist-packages (from requests<3.0.0,>=2.13.0->spacy) (1.24.3)\n",
            "Requirement already satisfied: chardet<4,>=3.0.2 in /usr/local/lib/python3.7/dist-packages (from requests<3.0.0,>=2.13.0->spacy) (3.0.4)\n",
            "Requirement already satisfied: certifi>=2017.4.17 in /usr/local/lib/python3.7/dist-packages (from requests<3.0.0,>=2.13.0->spacy) (2022.6.15)\n",
            "Requirement already satisfied: click<9.0.0,>=7.1.1 in /usr/local/lib/python3.7/dist-packages (from typer<0.5.0,>=0.3.0->spacy) (7.1.2)\n",
            "Requirement already satisfied: MarkupSafe>=0.23 in /usr/local/lib/python3.7/dist-packages (from jinja2->spacy) (2.0.1)\n",
            "Looking in indexes: https://pypi.org/simple, https://us-python.pkg.dev/colab-wheels/public/simple/\n",
            "Collecting es-core-news-sm==3.3.0\n",
            "  Downloading https://github.com/explosion/spacy-models/releases/download/es_core_news_sm-3.3.0/es_core_news_sm-3.3.0-py3-none-any.whl (12.9 MB)\n",
            "\u001b[K     |████████████████████████████████| 12.9 MB 10.9 MB/s \n",
            "\u001b[?25hRequirement already satisfied: spacy<3.4.0,>=3.3.0.dev0 in /usr/local/lib/python3.7/dist-packages (from es-core-news-sm==3.3.0) (3.3.1)\n",
            "Requirement already satisfied: numpy>=1.15.0 in /usr/local/lib/python3.7/dist-packages (from spacy<3.4.0,>=3.3.0.dev0->es-core-news-sm==3.3.0) (1.21.6)\n",
            "Requirement already satisfied: jinja2 in /usr/local/lib/python3.7/dist-packages (from spacy<3.4.0,>=3.3.0.dev0->es-core-news-sm==3.3.0) (2.11.3)\n",
            "Requirement already satisfied: srsly<3.0.0,>=2.4.3 in /usr/local/lib/python3.7/dist-packages (from spacy<3.4.0,>=3.3.0.dev0->es-core-news-sm==3.3.0) (2.4.3)\n",
            "Requirement already satisfied: typer<0.5.0,>=0.3.0 in /usr/local/lib/python3.7/dist-packages (from spacy<3.4.0,>=3.3.0.dev0->es-core-news-sm==3.3.0) (0.4.1)\n",
            "Requirement already satisfied: blis<0.8.0,>=0.4.0 in /usr/local/lib/python3.7/dist-packages (from spacy<3.4.0,>=3.3.0.dev0->es-core-news-sm==3.3.0) (0.7.7)\n",
            "Requirement already satisfied: pathy>=0.3.5 in /usr/local/lib/python3.7/dist-packages (from spacy<3.4.0,>=3.3.0.dev0->es-core-news-sm==3.3.0) (0.6.1)\n",
            "Requirement already satisfied: preshed<3.1.0,>=3.0.2 in /usr/local/lib/python3.7/dist-packages (from spacy<3.4.0,>=3.3.0.dev0->es-core-news-sm==3.3.0) (3.0.6)\n",
            "Requirement already satisfied: thinc<8.1.0,>=8.0.14 in /usr/local/lib/python3.7/dist-packages (from spacy<3.4.0,>=3.3.0.dev0->es-core-news-sm==3.3.0) (8.0.17)\n",
            "Requirement already satisfied: spacy-loggers<2.0.0,>=1.0.0 in /usr/local/lib/python3.7/dist-packages (from spacy<3.4.0,>=3.3.0.dev0->es-core-news-sm==3.3.0) (1.0.2)\n",
            "Requirement already satisfied: setuptools in /usr/local/lib/python3.7/dist-packages (from spacy<3.4.0,>=3.3.0.dev0->es-core-news-sm==3.3.0) (57.4.0)\n",
            "Requirement already satisfied: requests<3.0.0,>=2.13.0 in /usr/local/lib/python3.7/dist-packages (from spacy<3.4.0,>=3.3.0.dev0->es-core-news-sm==3.3.0) (2.23.0)\n",
            "Requirement already satisfied: pydantic!=1.8,!=1.8.1,<1.9.0,>=1.7.4 in /usr/local/lib/python3.7/dist-packages (from spacy<3.4.0,>=3.3.0.dev0->es-core-news-sm==3.3.0) (1.8.2)\n",
            "Requirement already satisfied: wasabi<1.1.0,>=0.9.1 in /usr/local/lib/python3.7/dist-packages (from spacy<3.4.0,>=3.3.0.dev0->es-core-news-sm==3.3.0) (0.9.1)\n",
            "Requirement already satisfied: spacy-legacy<3.1.0,>=3.0.9 in /usr/local/lib/python3.7/dist-packages (from spacy<3.4.0,>=3.3.0.dev0->es-core-news-sm==3.3.0) (3.0.9)\n",
            "Requirement already satisfied: tqdm<5.0.0,>=4.38.0 in /usr/local/lib/python3.7/dist-packages (from spacy<3.4.0,>=3.3.0.dev0->es-core-news-sm==3.3.0) (4.64.0)\n",
            "Requirement already satisfied: cymem<2.1.0,>=2.0.2 in /usr/local/lib/python3.7/dist-packages (from spacy<3.4.0,>=3.3.0.dev0->es-core-news-sm==3.3.0) (2.0.6)\n",
            "Requirement already satisfied: packaging>=20.0 in /usr/local/lib/python3.7/dist-packages (from spacy<3.4.0,>=3.3.0.dev0->es-core-news-sm==3.3.0) (21.3)\n",
            "Requirement already satisfied: murmurhash<1.1.0,>=0.28.0 in /usr/local/lib/python3.7/dist-packages (from spacy<3.4.0,>=3.3.0.dev0->es-core-news-sm==3.3.0) (1.0.7)\n",
            "Requirement already satisfied: catalogue<2.1.0,>=2.0.6 in /usr/local/lib/python3.7/dist-packages (from spacy<3.4.0,>=3.3.0.dev0->es-core-news-sm==3.3.0) (2.0.7)\n",
            "Requirement already satisfied: langcodes<4.0.0,>=3.2.0 in /usr/local/lib/python3.7/dist-packages (from spacy<3.4.0,>=3.3.0.dev0->es-core-news-sm==3.3.0) (3.3.0)\n",
            "Requirement already satisfied: typing-extensions<4.2.0,>=3.7.4 in /usr/local/lib/python3.7/dist-packages (from spacy<3.4.0,>=3.3.0.dev0->es-core-news-sm==3.3.0) (4.1.1)\n",
            "Requirement already satisfied: zipp>=0.5 in /usr/local/lib/python3.7/dist-packages (from catalogue<2.1.0,>=2.0.6->spacy<3.4.0,>=3.3.0.dev0->es-core-news-sm==3.3.0) (3.8.0)\n",
            "Requirement already satisfied: pyparsing!=3.0.5,>=2.0.2 in /usr/local/lib/python3.7/dist-packages (from packaging>=20.0->spacy<3.4.0,>=3.3.0.dev0->es-core-news-sm==3.3.0) (3.0.9)\n",
            "Requirement already satisfied: smart-open<6.0.0,>=5.0.0 in /usr/local/lib/python3.7/dist-packages (from pathy>=0.3.5->spacy<3.4.0,>=3.3.0.dev0->es-core-news-sm==3.3.0) (5.2.1)\n",
            "Requirement already satisfied: idna<3,>=2.5 in /usr/local/lib/python3.7/dist-packages (from requests<3.0.0,>=2.13.0->spacy<3.4.0,>=3.3.0.dev0->es-core-news-sm==3.3.0) (2.10)\n",
            "Requirement already satisfied: certifi>=2017.4.17 in /usr/local/lib/python3.7/dist-packages (from requests<3.0.0,>=2.13.0->spacy<3.4.0,>=3.3.0.dev0->es-core-news-sm==3.3.0) (2022.6.15)\n",
            "Requirement already satisfied: chardet<4,>=3.0.2 in /usr/local/lib/python3.7/dist-packages (from requests<3.0.0,>=2.13.0->spacy<3.4.0,>=3.3.0.dev0->es-core-news-sm==3.3.0) (3.0.4)\n",
            "Requirement already satisfied: urllib3!=1.25.0,!=1.25.1,<1.26,>=1.21.1 in /usr/local/lib/python3.7/dist-packages (from requests<3.0.0,>=2.13.0->spacy<3.4.0,>=3.3.0.dev0->es-core-news-sm==3.3.0) (1.24.3)\n",
            "Requirement already satisfied: click<9.0.0,>=7.1.1 in /usr/local/lib/python3.7/dist-packages (from typer<0.5.0,>=0.3.0->spacy<3.4.0,>=3.3.0.dev0->es-core-news-sm==3.3.0) (7.1.2)\n",
            "Requirement already satisfied: MarkupSafe>=0.23 in /usr/local/lib/python3.7/dist-packages (from jinja2->spacy<3.4.0,>=3.3.0.dev0->es-core-news-sm==3.3.0) (2.0.1)\n",
            "Installing collected packages: es-core-news-sm\n",
            "Successfully installed es-core-news-sm-3.3.0\n",
            "\u001b[38;5;2m✔ Download and installation successful\u001b[0m\n",
            "You can now load the package via spacy.load('es_core_news_sm')\n"
          ]
        }
      ],
      "source": [
        "!pip install spacy\n",
        "!python -m spacy download es_core_news_sm"
      ]
    },
    {
      "cell_type": "code",
      "execution_count": 4,
      "metadata": {
        "id": "2w3w_NNc5PSC"
      },
      "outputs": [],
      "source": [
        "import numpy as np\n",
        "import pandas as pd\n",
        "import matplotlib.pyplot as plt"
      ]
    },
    {
      "cell_type": "code",
      "execution_count": 5,
      "metadata": {
        "colab": {
          "base_uri": "https://localhost:8080/"
        },
        "id": "2AKkGSip5PSC",
        "outputId": "4a4c91d2-07e0-4f21-de15-6f370aeb8d15"
      },
      "outputs": [
        {
          "name": "stderr",
          "output_type": "stream",
          "text": [
            "[nltk_data] Downloading package stopwords to /root/nltk_data...\n",
            "[nltk_data]   Unzipping corpora/stopwords.zip.\n"
          ]
        },
        {
          "data": {
            "text/plain": [
              "True"
            ]
          },
          "execution_count": 5,
          "metadata": {},
          "output_type": "execute_result"
        }
      ],
      "source": [
        "import nltk\n",
        "from nltk.corpus import stopwords\n",
        "from sklearn.preprocessing import LabelEncoder\n",
        "import numpy as np\n",
        "from tensorflow.keras.models import Sequential\n",
        "from tensorflow.keras.layers import Dense\n",
        "nltk.download('stopwords')"
      ]
    },
    {
      "cell_type": "code",
      "execution_count": 6,
      "metadata": {
        "colab": {
          "base_uri": "https://localhost:8080/"
        },
        "id": "U1v4vojz5PSD",
        "outputId": "3cf0b7f7-847d-4363-bd0d-817afe9ac571"
      },
      "outputs": [
        {
          "data": {
            "text/plain": [
              "['de',\n",
              " 'la',\n",
              " 'que',\n",
              " 'el',\n",
              " 'en',\n",
              " 'y',\n",
              " 'a',\n",
              " 'los',\n",
              " 'del',\n",
              " 'se',\n",
              " 'las',\n",
              " 'por',\n",
              " 'un',\n",
              " 'para',\n",
              " 'con',\n",
              " 'no',\n",
              " 'una',\n",
              " 'su',\n",
              " 'al',\n",
              " 'lo',\n",
              " 'como',\n",
              " 'más',\n",
              " 'pero',\n",
              " 'sus',\n",
              " 'le',\n",
              " 'ya',\n",
              " 'o',\n",
              " 'este',\n",
              " 'sí',\n",
              " 'porque',\n",
              " 'esta',\n",
              " 'entre',\n",
              " 'cuando',\n",
              " 'muy',\n",
              " 'sin',\n",
              " 'sobre',\n",
              " 'también',\n",
              " 'me',\n",
              " 'hasta',\n",
              " 'hay',\n",
              " 'donde',\n",
              " 'quien',\n",
              " 'desde',\n",
              " 'todo',\n",
              " 'nos',\n",
              " 'durante',\n",
              " 'todos',\n",
              " 'uno',\n",
              " 'les',\n",
              " 'ni',\n",
              " 'contra',\n",
              " 'otros',\n",
              " 'ese',\n",
              " 'eso',\n",
              " 'ante',\n",
              " 'ellos',\n",
              " 'e',\n",
              " 'esto',\n",
              " 'mí',\n",
              " 'antes',\n",
              " 'algunos',\n",
              " 'qué',\n",
              " 'unos',\n",
              " 'yo',\n",
              " 'otro',\n",
              " 'otras',\n",
              " 'otra',\n",
              " 'él',\n",
              " 'tanto',\n",
              " 'esa',\n",
              " 'estos',\n",
              " 'mucho',\n",
              " 'quienes',\n",
              " 'nada',\n",
              " 'muchos',\n",
              " 'cual',\n",
              " 'poco',\n",
              " 'ella',\n",
              " 'estar',\n",
              " 'estas',\n",
              " 'algunas',\n",
              " 'algo',\n",
              " 'nosotros',\n",
              " 'mi',\n",
              " 'mis',\n",
              " 'tú',\n",
              " 'te',\n",
              " 'ti',\n",
              " 'tu',\n",
              " 'tus',\n",
              " 'ellas',\n",
              " 'nosotras',\n",
              " 'vosotros',\n",
              " 'vosotras',\n",
              " 'os',\n",
              " 'mío',\n",
              " 'mía',\n",
              " 'míos',\n",
              " 'mías',\n",
              " 'tuyo',\n",
              " 'tuya',\n",
              " 'tuyos',\n",
              " 'tuyas',\n",
              " 'suyo',\n",
              " 'suya',\n",
              " 'suyos',\n",
              " 'suyas',\n",
              " 'nuestro',\n",
              " 'nuestra',\n",
              " 'nuestros',\n",
              " 'nuestras',\n",
              " 'vuestro',\n",
              " 'vuestra',\n",
              " 'vuestros',\n",
              " 'vuestras',\n",
              " 'esos',\n",
              " 'esas',\n",
              " 'estoy',\n",
              " 'estás',\n",
              " 'está',\n",
              " 'estamos',\n",
              " 'estáis',\n",
              " 'están',\n",
              " 'esté',\n",
              " 'estés',\n",
              " 'estemos',\n",
              " 'estéis',\n",
              " 'estén',\n",
              " 'estaré',\n",
              " 'estarás',\n",
              " 'estará',\n",
              " 'estaremos',\n",
              " 'estaréis',\n",
              " 'estarán',\n",
              " 'estaría',\n",
              " 'estarías',\n",
              " 'estaríamos',\n",
              " 'estaríais',\n",
              " 'estarían',\n",
              " 'estaba',\n",
              " 'estabas',\n",
              " 'estábamos',\n",
              " 'estabais',\n",
              " 'estaban',\n",
              " 'estuve',\n",
              " 'estuviste',\n",
              " 'estuvo',\n",
              " 'estuvimos',\n",
              " 'estuvisteis',\n",
              " 'estuvieron',\n",
              " 'estuviera',\n",
              " 'estuvieras',\n",
              " 'estuviéramos',\n",
              " 'estuvierais',\n",
              " 'estuvieran',\n",
              " 'estuviese',\n",
              " 'estuvieses',\n",
              " 'estuviésemos',\n",
              " 'estuvieseis',\n",
              " 'estuviesen',\n",
              " 'estando',\n",
              " 'estado',\n",
              " 'estada',\n",
              " 'estados',\n",
              " 'estadas',\n",
              " 'estad',\n",
              " 'he',\n",
              " 'has',\n",
              " 'ha',\n",
              " 'hemos',\n",
              " 'habéis',\n",
              " 'han',\n",
              " 'haya',\n",
              " 'hayas',\n",
              " 'hayamos',\n",
              " 'hayáis',\n",
              " 'hayan',\n",
              " 'habré',\n",
              " 'habrás',\n",
              " 'habrá',\n",
              " 'habremos',\n",
              " 'habréis',\n",
              " 'habrán',\n",
              " 'habría',\n",
              " 'habrías',\n",
              " 'habríamos',\n",
              " 'habríais',\n",
              " 'habrían',\n",
              " 'había',\n",
              " 'habías',\n",
              " 'habíamos',\n",
              " 'habíais',\n",
              " 'habían',\n",
              " 'hube',\n",
              " 'hubiste',\n",
              " 'hubo',\n",
              " 'hubimos',\n",
              " 'hubisteis',\n",
              " 'hubieron',\n",
              " 'hubiera',\n",
              " 'hubieras',\n",
              " 'hubiéramos',\n",
              " 'hubierais',\n",
              " 'hubieran',\n",
              " 'hubiese',\n",
              " 'hubieses',\n",
              " 'hubiésemos',\n",
              " 'hubieseis',\n",
              " 'hubiesen',\n",
              " 'habiendo',\n",
              " 'habido',\n",
              " 'habida',\n",
              " 'habidos',\n",
              " 'habidas',\n",
              " 'soy',\n",
              " 'eres',\n",
              " 'es',\n",
              " 'somos',\n",
              " 'sois',\n",
              " 'son',\n",
              " 'sea',\n",
              " 'seas',\n",
              " 'seamos',\n",
              " 'seáis',\n",
              " 'sean',\n",
              " 'seré',\n",
              " 'serás',\n",
              " 'será',\n",
              " 'seremos',\n",
              " 'seréis',\n",
              " 'serán',\n",
              " 'sería',\n",
              " 'serías',\n",
              " 'seríamos',\n",
              " 'seríais',\n",
              " 'serían',\n",
              " 'era',\n",
              " 'eras',\n",
              " 'éramos',\n",
              " 'erais',\n",
              " 'eran',\n",
              " 'fui',\n",
              " 'fuiste',\n",
              " 'fue',\n",
              " 'fuimos',\n",
              " 'fuisteis',\n",
              " 'fueron',\n",
              " 'fuera',\n",
              " 'fueras',\n",
              " 'fuéramos',\n",
              " 'fuerais',\n",
              " 'fueran',\n",
              " 'fuese',\n",
              " 'fueses',\n",
              " 'fuésemos',\n",
              " 'fueseis',\n",
              " 'fuesen',\n",
              " 'sintiendo',\n",
              " 'sentido',\n",
              " 'sentida',\n",
              " 'sentidos',\n",
              " 'sentidas',\n",
              " 'siente',\n",
              " 'sentid',\n",
              " 'tengo',\n",
              " 'tienes',\n",
              " 'tiene',\n",
              " 'tenemos',\n",
              " 'tenéis',\n",
              " 'tienen',\n",
              " 'tenga',\n",
              " 'tengas',\n",
              " 'tengamos',\n",
              " 'tengáis',\n",
              " 'tengan',\n",
              " 'tendré',\n",
              " 'tendrás',\n",
              " 'tendrá',\n",
              " 'tendremos',\n",
              " 'tendréis',\n",
              " 'tendrán',\n",
              " 'tendría',\n",
              " 'tendrías',\n",
              " 'tendríamos',\n",
              " 'tendríais',\n",
              " 'tendrían',\n",
              " 'tenía',\n",
              " 'tenías',\n",
              " 'teníamos',\n",
              " 'teníais',\n",
              " 'tenían',\n",
              " 'tuve',\n",
              " 'tuviste',\n",
              " 'tuvo',\n",
              " 'tuvimos',\n",
              " 'tuvisteis',\n",
              " 'tuvieron',\n",
              " 'tuviera',\n",
              " 'tuvieras',\n",
              " 'tuviéramos',\n",
              " 'tuvierais',\n",
              " 'tuvieran',\n",
              " 'tuviese',\n",
              " 'tuvieses',\n",
              " 'tuviésemos',\n",
              " 'tuvieseis',\n",
              " 'tuviesen',\n",
              " 'teniendo',\n",
              " 'tenido',\n",
              " 'tenida',\n",
              " 'tenidos',\n",
              " 'tenidas',\n",
              " 'tened']"
            ]
          },
          "execution_count": 6,
          "metadata": {},
          "output_type": "execute_result"
        }
      ],
      "source": [
        "stop = stopwords.words('spanish')\n",
        "stop"
      ]
    },
    {
      "cell_type": "code",
      "execution_count": 7,
      "metadata": {
        "id": "4BmZoxrj5PSE"
      },
      "outputs": [],
      "source": [
        "import numpy as np\n",
        "\n",
        "from keras.preprocessing import sequence\n",
        "from keras.models import Sequential\n",
        "from keras.layers import Dense, Dropout, Embedding, LSTM, Bidirectional, SimpleRNN, Flatten\n",
        "from keras.datasets import imdb\n"
      ]
    },
    {
      "cell_type": "code",
      "execution_count": 8,
      "metadata": {
        "id": "d2h5rSj45PSF"
      },
      "outputs": [],
      "source": [
        "from sklearn.feature_extraction.text import CountVectorizer\n",
        "from nltk.tokenize import RegexpTokenizer\n",
        "\n",
        "import spacy\n",
        "from spacy.lang.en.stop_words import STOP_WORDS"
      ]
    },
    {
      "cell_type": "code",
      "execution_count": 9,
      "metadata": {
        "id": "XGWFwSv65PSG"
      },
      "outputs": [],
      "source": [
        "class LemmaTokenizer:\n",
        "    def __init__(self):\n",
        "        self.nlp = spacy.load(\"es_core_news_sm\")\n",
        "    def __call__(self, doc):\n",
        "        doc = self.nlp(doc)\n",
        "        tokens = []\n",
        "        for token in doc:\n",
        "            lexeme = self.nlp.vocab[token.text]\n",
        "            if lexeme.is_stop == False and not lexeme.is_punct and token.text.isalnum():\n",
        "                tokens.append(token.lemma_)\n",
        "        return tokens"
      ]
    },
    {
      "cell_type": "code",
      "execution_count": 10,
      "metadata": {
        "id": "uSDG7ENSK2qU"
      },
      "outputs": [],
      "source": [
        "FILEPATH = \"https://storage.googleapis.com/tfm_aideas_datasets/dataset_20210101_20210131_news.csv\""
      ]
    },
    {
      "cell_type": "code",
      "execution_count": 11,
      "metadata": {
        "colab": {
          "base_uri": "https://localhost:8080/",
          "height": 1000
        },
        "id": "Q9qgi2Bm5PSK",
        "outputId": "f1bf4800-2112-4c08-e6dd-ae2ade702fa9"
      },
      "outputs": [
        {
          "data": {
            "text/html": [
              "\n",
              "  <div id=\"df-d9e1d597-36e4-4e1c-b5c8-e03b3dec9e74\">\n",
              "    <div class=\"colab-df-container\">\n",
              "      <div>\n",
              "<style scoped>\n",
              "    .dataframe tbody tr th:only-of-type {\n",
              "        vertical-align: middle;\n",
              "    }\n",
              "\n",
              "    .dataframe tbody tr th {\n",
              "        vertical-align: top;\n",
              "    }\n",
              "\n",
              "    .dataframe thead th {\n",
              "        text-align: right;\n",
              "    }\n",
              "</style>\n",
              "<table border=\"1\" class=\"dataframe\">\n",
              "  <thead>\n",
              "    <tr style=\"text-align: right;\">\n",
              "      <th></th>\n",
              "      <th>date</th>\n",
              "      <th>title</th>\n",
              "      <th>url</th>\n",
              "      <th>body</th>\n",
              "      <th>tags</th>\n",
              "      <th>resource</th>\n",
              "      <th>ticker</th>\n",
              "      <th>ticker_name</th>\n",
              "      <th>sector</th>\n",
              "      <th>subsector</th>\n",
              "      <th>...</th>\n",
              "      <th>alpha_exante_above_Q3</th>\n",
              "      <th>vola20_exante</th>\n",
              "      <th>vola20_expost</th>\n",
              "      <th>vola20_antepost_pct_change</th>\n",
              "      <th>vola20_umbral_Q1</th>\n",
              "      <th>vola20_umbral_abs_Q1</th>\n",
              "      <th>vola20_umbral_Q3</th>\n",
              "      <th>vola20_umbral_abs_Q3</th>\n",
              "      <th>vola_label</th>\n",
              "      <th>vola_label_abs</th>\n",
              "    </tr>\n",
              "    <tr>\n",
              "      <th>pk</th>\n",
              "      <th></th>\n",
              "      <th></th>\n",
              "      <th></th>\n",
              "      <th></th>\n",
              "      <th></th>\n",
              "      <th></th>\n",
              "      <th></th>\n",
              "      <th></th>\n",
              "      <th></th>\n",
              "      <th></th>\n",
              "      <th></th>\n",
              "      <th></th>\n",
              "      <th></th>\n",
              "      <th></th>\n",
              "      <th></th>\n",
              "      <th></th>\n",
              "      <th></th>\n",
              "      <th></th>\n",
              "      <th></th>\n",
              "      <th></th>\n",
              "      <th></th>\n",
              "    </tr>\n",
              "  </thead>\n",
              "  <tbody>\n",
              "    <tr>\n",
              "      <th>1656287707697_43316_IAG</th>\n",
              "      <td>2020-12-31 23:30:00</td>\n",
              "      <td>Pasaportes, visados, ‘roaming’... Todos los ca...</td>\n",
              "      <td>https://elpais.com/internacional/2020-12-31/pa...</td>\n",
              "      <td>¿DNI o pasaporte? ¿Hay que pedir visado? ¿Sirv...</td>\n",
              "      <td>['Brexit', 'Reino Unido', 'Europa', 'Comercio'...</td>\n",
              "      <td>ELPAIS</td>\n",
              "      <td>IAG</td>\n",
              "      <td>INTERNATIONAL CONSOLIDAT. AIRLINES GROUP</td>\n",
              "      <td>Servicios de Consumo</td>\n",
              "      <td>Transporte y Distribución</td>\n",
              "      <td>...</td>\n",
              "      <td>False</td>\n",
              "      <td>0.595548</td>\n",
              "      <td>0.646779</td>\n",
              "      <td>0.086025</td>\n",
              "      <td>0.053808</td>\n",
              "      <td>0.114337</td>\n",
              "      <td>0.305009</td>\n",
              "      <td>0.417972</td>\n",
              "      <td>0</td>\n",
              "      <td>0</td>\n",
              "    </tr>\n",
              "    <tr>\n",
              "      <th>1656287513236_43316_ANA</th>\n",
              "      <td>2021-01-01 02:06:52</td>\n",
              "      <td>Las claves de la caída del Ibex</td>\n",
              "      <td>https://www.abc.es/economia/abci-claves-caida-...</td>\n",
              "      <td>24 componentes en negativo&lt;EOL&gt;El Ibex cierra ...</td>\n",
              "      <td>['Apple', 'Gamesa', 'Amazon', 'Iberia', 'Accio...</td>\n",
              "      <td>ABC</td>\n",
              "      <td>ANA</td>\n",
              "      <td>ACCIONA,S.A.</td>\n",
              "      <td>Mat.Basicos, Industria y Construcción</td>\n",
              "      <td>Construcción</td>\n",
              "      <td>...</td>\n",
              "      <td>False</td>\n",
              "      <td>0.330038</td>\n",
              "      <td>0.410053</td>\n",
              "      <td>0.242440</td>\n",
              "      <td>-0.011209</td>\n",
              "      <td>0.103677</td>\n",
              "      <td>0.208834</td>\n",
              "      <td>0.225065</td>\n",
              "      <td>1</td>\n",
              "      <td>1</td>\n",
              "    </tr>\n",
              "    <tr>\n",
              "      <th>1656287513236_43316_BKIA</th>\n",
              "      <td>2021-01-01 02:06:52</td>\n",
              "      <td>Las claves de la caída del Ibex</td>\n",
              "      <td>https://www.abc.es/economia/abci-claves-caida-...</td>\n",
              "      <td>24 componentes en negativo&lt;EOL&gt;El Ibex cierra ...</td>\n",
              "      <td>['Apple', 'Gamesa', 'Amazon', 'Iberia', 'Accio...</td>\n",
              "      <td>ABC</td>\n",
              "      <td>BKIA</td>\n",
              "      <td>BANKIA, S.A.</td>\n",
              "      <td>Servicios Financieros</td>\n",
              "      <td>Bancos y Cajas de Ahorro</td>\n",
              "      <td>...</td>\n",
              "      <td>False</td>\n",
              "      <td>0.261637</td>\n",
              "      <td>0.452613</td>\n",
              "      <td>0.729930</td>\n",
              "      <td>0.057276</td>\n",
              "      <td>0.103478</td>\n",
              "      <td>0.236113</td>\n",
              "      <td>0.315340</td>\n",
              "      <td>1</td>\n",
              "      <td>1</td>\n",
              "    </tr>\n",
              "    <tr>\n",
              "      <th>1656287513236_43316_CABK</th>\n",
              "      <td>2021-01-01 02:06:52</td>\n",
              "      <td>Las claves de la caída del Ibex</td>\n",
              "      <td>https://www.abc.es/economia/abci-claves-caida-...</td>\n",
              "      <td>24 componentes en negativo&lt;EOL&gt;El Ibex cierra ...</td>\n",
              "      <td>['Apple', 'Gamesa', 'Amazon', 'Iberia', 'Accio...</td>\n",
              "      <td>ABC</td>\n",
              "      <td>CABK</td>\n",
              "      <td>CAIXABANK, S.A.</td>\n",
              "      <td>Servicios Financieros</td>\n",
              "      <td>Bancos y Cajas de Ahorro</td>\n",
              "      <td>...</td>\n",
              "      <td>False</td>\n",
              "      <td>0.269002</td>\n",
              "      <td>0.451665</td>\n",
              "      <td>0.679042</td>\n",
              "      <td>0.092034</td>\n",
              "      <td>0.139145</td>\n",
              "      <td>0.290371</td>\n",
              "      <td>0.324701</td>\n",
              "      <td>1</td>\n",
              "      <td>1</td>\n",
              "    </tr>\n",
              "    <tr>\n",
              "      <th>1656287513236_43316_IAG</th>\n",
              "      <td>2021-01-01 02:06:52</td>\n",
              "      <td>Las claves de la caída del Ibex</td>\n",
              "      <td>https://www.abc.es/economia/abci-claves-caida-...</td>\n",
              "      <td>24 componentes en negativo&lt;EOL&gt;El Ibex cierra ...</td>\n",
              "      <td>['Apple', 'Gamesa', 'Amazon', 'Iberia', 'Accio...</td>\n",
              "      <td>ABC</td>\n",
              "      <td>IAG</td>\n",
              "      <td>INTERNATIONAL CONSOLIDAT. AIRLINES GROUP</td>\n",
              "      <td>Servicios de Consumo</td>\n",
              "      <td>Transporte y Distribución</td>\n",
              "      <td>...</td>\n",
              "      <td>False</td>\n",
              "      <td>0.595548</td>\n",
              "      <td>0.646779</td>\n",
              "      <td>0.086025</td>\n",
              "      <td>0.053808</td>\n",
              "      <td>0.114337</td>\n",
              "      <td>0.305009</td>\n",
              "      <td>0.417972</td>\n",
              "      <td>0</td>\n",
              "      <td>0</td>\n",
              "    </tr>\n",
              "    <tr>\n",
              "      <th>...</th>\n",
              "      <td>...</td>\n",
              "      <td>...</td>\n",
              "      <td>...</td>\n",
              "      <td>...</td>\n",
              "      <td>...</td>\n",
              "      <td>...</td>\n",
              "      <td>...</td>\n",
              "      <td>...</td>\n",
              "      <td>...</td>\n",
              "      <td>...</td>\n",
              "      <td>...</td>\n",
              "      <td>...</td>\n",
              "      <td>...</td>\n",
              "      <td>...</td>\n",
              "      <td>...</td>\n",
              "      <td>...</td>\n",
              "      <td>...</td>\n",
              "      <td>...</td>\n",
              "      <td>...</td>\n",
              "      <td>...</td>\n",
              "      <td>...</td>\n",
              "    </tr>\n",
              "    <tr>\n",
              "      <th>1656306940203_43316_REE</th>\n",
              "      <td>2021-03-01 11:48:00</td>\n",
              "      <td>El Ibex 35 sube un 0,66% a media sesión, con N...</td>\n",
              "      <td>https://www.europapress.es/economia/bolsa-0034...</td>\n",
              "      <td>Los títulos de PharmaMar repuntaban también un...</td>\n",
              "      <td>['IBEX 35', 'Naturgy (Gas Natural)', 'IFM - Na...</td>\n",
              "      <td>EUROPAPRESS</td>\n",
              "      <td>REE</td>\n",
              "      <td>RED ELECTRICA CORPORACION, S.A.</td>\n",
              "      <td>Petróleo y Energía</td>\n",
              "      <td>Electricidad y Gas</td>\n",
              "      <td>...</td>\n",
              "      <td>False</td>\n",
              "      <td>0.267480</td>\n",
              "      <td>0.171384</td>\n",
              "      <td>-0.359263</td>\n",
              "      <td>0.222160</td>\n",
              "      <td>0.322949</td>\n",
              "      <td>0.456074</td>\n",
              "      <td>0.456074</td>\n",
              "      <td>-1</td>\n",
              "      <td>0</td>\n",
              "    </tr>\n",
              "    <tr>\n",
              "      <th>1656306940203_43316_SGRE</th>\n",
              "      <td>2021-03-01 11:48:00</td>\n",
              "      <td>El Ibex 35 sube un 0,66% a media sesión, con N...</td>\n",
              "      <td>https://www.europapress.es/economia/bolsa-0034...</td>\n",
              "      <td>Los títulos de PharmaMar repuntaban también un...</td>\n",
              "      <td>['IBEX 35', 'Naturgy (Gas Natural)', 'IFM - Na...</td>\n",
              "      <td>EUROPAPRESS</td>\n",
              "      <td>SGRE</td>\n",
              "      <td>SIEMENS GAMESA RENEWABLE ENERGY, S.A.</td>\n",
              "      <td>Mat.Basicos, Industria y Construcción</td>\n",
              "      <td>Fabric. y Montaje Bienes de Equipo</td>\n",
              "      <td>...</td>\n",
              "      <td>False</td>\n",
              "      <td>0.403294</td>\n",
              "      <td>0.481854</td>\n",
              "      <td>0.194796</td>\n",
              "      <td>0.027436</td>\n",
              "      <td>0.048373</td>\n",
              "      <td>0.108241</td>\n",
              "      <td>0.141547</td>\n",
              "      <td>1</td>\n",
              "      <td>1</td>\n",
              "    </tr>\n",
              "    <tr>\n",
              "      <th>1656306940203_43316_SLR</th>\n",
              "      <td>2021-03-01 11:48:00</td>\n",
              "      <td>El Ibex 35 sube un 0,66% a media sesión, con N...</td>\n",
              "      <td>https://www.europapress.es/economia/bolsa-0034...</td>\n",
              "      <td>Los títulos de PharmaMar repuntaban también un...</td>\n",
              "      <td>['IBEX 35', 'Naturgy (Gas Natural)', 'IFM - Na...</td>\n",
              "      <td>EUROPAPRESS</td>\n",
              "      <td>SLR</td>\n",
              "      <td>SOLARIA ENERGIA Y MEDIO AMBIENTE, S.A.</td>\n",
              "      <td>Petróleo y Energía</td>\n",
              "      <td>Energías Renovables</td>\n",
              "      <td>...</td>\n",
              "      <td>False</td>\n",
              "      <td>0.768041</td>\n",
              "      <td>0.639412</td>\n",
              "      <td>-0.167476</td>\n",
              "      <td>-0.177970</td>\n",
              "      <td>0.149105</td>\n",
              "      <td>-0.132403</td>\n",
              "      <td>0.186968</td>\n",
              "      <td>0</td>\n",
              "      <td>0</td>\n",
              "    </tr>\n",
              "    <tr>\n",
              "      <th>1656306983084_43316_NTGY</th>\n",
              "      <td>2021-03-01 11:48:00</td>\n",
              "      <td>Naturgy tilda la OPA de IFM de \"no solicitada\"...</td>\n",
              "      <td>https://www.europapress.es/economia/noticia-na...</td>\n",
              "      <td>MADRID, 26 Ene. (EUROPA PRESS) -&lt;EOL&gt;Naturgy a...</td>\n",
              "      <td>['Naturgy (Gas Natural)', 'CNMV', 'Freshfields...</td>\n",
              "      <td>EUROPAPRESS</td>\n",
              "      <td>NTGY</td>\n",
              "      <td>NATURGY ENERGY GROUP, S.A.</td>\n",
              "      <td>Petróleo y Energía</td>\n",
              "      <td>Electricidad y Gas</td>\n",
              "      <td>...</td>\n",
              "      <td>False</td>\n",
              "      <td>0.204647</td>\n",
              "      <td>0.118056</td>\n",
              "      <td>-0.423121</td>\n",
              "      <td>-0.759849</td>\n",
              "      <td>0.571577</td>\n",
              "      <td>-0.571577</td>\n",
              "      <td>0.759849</td>\n",
              "      <td>1</td>\n",
              "      <td>0</td>\n",
              "    </tr>\n",
              "    <tr>\n",
              "      <th>1656300795101_43316_SAN</th>\n",
              "      <td>2022-01-24 16:11:00</td>\n",
              "      <td>El juez que investiga negocios inmobiliarios d...</td>\n",
              "      <td>https://www.europapress.es/nacional/noticia-ju...</td>\n",
              "      <td>J. M. V. B. y J. M. V. C. pedían su sobreseimi...</td>\n",
              "      <td>['Audiencia Nacional', 'Pujol']</td>\n",
              "      <td>EUROPAPRESS</td>\n",
              "      <td>SAN</td>\n",
              "      <td>BANCO SANTANDER, S.A.</td>\n",
              "      <td>Servicios Financieros</td>\n",
              "      <td>Bancos y Cajas de Ahorro</td>\n",
              "      <td>...</td>\n",
              "      <td>False</td>\n",
              "      <td>0.142878</td>\n",
              "      <td>0.329551</td>\n",
              "      <td>1.306525</td>\n",
              "      <td>-0.128135</td>\n",
              "      <td>0.141303</td>\n",
              "      <td>0.943059</td>\n",
              "      <td>0.943059</td>\n",
              "      <td>1</td>\n",
              "      <td>1</td>\n",
              "    </tr>\n",
              "  </tbody>\n",
              "</table>\n",
              "<p>4025 rows × 36 columns</p>\n",
              "</div>\n",
              "      <button class=\"colab-df-convert\" onclick=\"convertToInteractive('df-d9e1d597-36e4-4e1c-b5c8-e03b3dec9e74')\"\n",
              "              title=\"Convert this dataframe to an interactive table.\"\n",
              "              style=\"display:none;\">\n",
              "        \n",
              "  <svg xmlns=\"http://www.w3.org/2000/svg\" height=\"24px\"viewBox=\"0 0 24 24\"\n",
              "       width=\"24px\">\n",
              "    <path d=\"M0 0h24v24H0V0z\" fill=\"none\"/>\n",
              "    <path d=\"M18.56 5.44l.94 2.06.94-2.06 2.06-.94-2.06-.94-.94-2.06-.94 2.06-2.06.94zm-11 1L8.5 8.5l.94-2.06 2.06-.94-2.06-.94L8.5 2.5l-.94 2.06-2.06.94zm10 10l.94 2.06.94-2.06 2.06-.94-2.06-.94-.94-2.06-.94 2.06-2.06.94z\"/><path d=\"M17.41 7.96l-1.37-1.37c-.4-.4-.92-.59-1.43-.59-.52 0-1.04.2-1.43.59L10.3 9.45l-7.72 7.72c-.78.78-.78 2.05 0 2.83L4 21.41c.39.39.9.59 1.41.59.51 0 1.02-.2 1.41-.59l7.78-7.78 2.81-2.81c.8-.78.8-2.07 0-2.86zM5.41 20L4 18.59l7.72-7.72 1.47 1.35L5.41 20z\"/>\n",
              "  </svg>\n",
              "      </button>\n",
              "      \n",
              "  <style>\n",
              "    .colab-df-container {\n",
              "      display:flex;\n",
              "      flex-wrap:wrap;\n",
              "      gap: 12px;\n",
              "    }\n",
              "\n",
              "    .colab-df-convert {\n",
              "      background-color: #E8F0FE;\n",
              "      border: none;\n",
              "      border-radius: 50%;\n",
              "      cursor: pointer;\n",
              "      display: none;\n",
              "      fill: #1967D2;\n",
              "      height: 32px;\n",
              "      padding: 0 0 0 0;\n",
              "      width: 32px;\n",
              "    }\n",
              "\n",
              "    .colab-df-convert:hover {\n",
              "      background-color: #E2EBFA;\n",
              "      box-shadow: 0px 1px 2px rgba(60, 64, 67, 0.3), 0px 1px 3px 1px rgba(60, 64, 67, 0.15);\n",
              "      fill: #174EA6;\n",
              "    }\n",
              "\n",
              "    [theme=dark] .colab-df-convert {\n",
              "      background-color: #3B4455;\n",
              "      fill: #D2E3FC;\n",
              "    }\n",
              "\n",
              "    [theme=dark] .colab-df-convert:hover {\n",
              "      background-color: #434B5C;\n",
              "      box-shadow: 0px 1px 3px 1px rgba(0, 0, 0, 0.15);\n",
              "      filter: drop-shadow(0px 1px 2px rgba(0, 0, 0, 0.3));\n",
              "      fill: #FFFFFF;\n",
              "    }\n",
              "  </style>\n",
              "\n",
              "      <script>\n",
              "        const buttonEl =\n",
              "          document.querySelector('#df-d9e1d597-36e4-4e1c-b5c8-e03b3dec9e74 button.colab-df-convert');\n",
              "        buttonEl.style.display =\n",
              "          google.colab.kernel.accessAllowed ? 'block' : 'none';\n",
              "\n",
              "        async function convertToInteractive(key) {\n",
              "          const element = document.querySelector('#df-d9e1d597-36e4-4e1c-b5c8-e03b3dec9e74');\n",
              "          const dataTable =\n",
              "            await google.colab.kernel.invokeFunction('convertToInteractive',\n",
              "                                                     [key], {});\n",
              "          if (!dataTable) return;\n",
              "\n",
              "          const docLinkHtml = 'Like what you see? Visit the ' +\n",
              "            '<a target=\"_blank\" href=https://colab.research.google.com/notebooks/data_table.ipynb>data table notebook</a>'\n",
              "            + ' to learn more about interactive tables.';\n",
              "          element.innerHTML = '';\n",
              "          dataTable['output_type'] = 'display_data';\n",
              "          await google.colab.output.renderOutput(dataTable, element);\n",
              "          const docLink = document.createElement('div');\n",
              "          docLink.innerHTML = docLinkHtml;\n",
              "          element.appendChild(docLink);\n",
              "        }\n",
              "      </script>\n",
              "    </div>\n",
              "  </div>\n",
              "  "
            ],
            "text/plain": [
              "                                        date  \\\n",
              "pk                                             \n",
              "1656287707697_43316_IAG  2020-12-31 23:30:00   \n",
              "1656287513236_43316_ANA  2021-01-01 02:06:52   \n",
              "1656287513236_43316_BKIA 2021-01-01 02:06:52   \n",
              "1656287513236_43316_CABK 2021-01-01 02:06:52   \n",
              "1656287513236_43316_IAG  2021-01-01 02:06:52   \n",
              "...                                      ...   \n",
              "1656306940203_43316_REE  2021-03-01 11:48:00   \n",
              "1656306940203_43316_SGRE 2021-03-01 11:48:00   \n",
              "1656306940203_43316_SLR  2021-03-01 11:48:00   \n",
              "1656306983084_43316_NTGY 2021-03-01 11:48:00   \n",
              "1656300795101_43316_SAN  2022-01-24 16:11:00   \n",
              "\n",
              "                                                                      title  \\\n",
              "pk                                                                            \n",
              "1656287707697_43316_IAG   Pasaportes, visados, ‘roaming’... Todos los ca...   \n",
              "1656287513236_43316_ANA                     Las claves de la caída del Ibex   \n",
              "1656287513236_43316_BKIA                    Las claves de la caída del Ibex   \n",
              "1656287513236_43316_CABK                    Las claves de la caída del Ibex   \n",
              "1656287513236_43316_IAG                     Las claves de la caída del Ibex   \n",
              "...                                                                     ...   \n",
              "1656306940203_43316_REE   El Ibex 35 sube un 0,66% a media sesión, con N...   \n",
              "1656306940203_43316_SGRE  El Ibex 35 sube un 0,66% a media sesión, con N...   \n",
              "1656306940203_43316_SLR   El Ibex 35 sube un 0,66% a media sesión, con N...   \n",
              "1656306983084_43316_NTGY  Naturgy tilda la OPA de IFM de \"no solicitada\"...   \n",
              "1656300795101_43316_SAN   El juez que investiga negocios inmobiliarios d...   \n",
              "\n",
              "                                                                        url  \\\n",
              "pk                                                                            \n",
              "1656287707697_43316_IAG   https://elpais.com/internacional/2020-12-31/pa...   \n",
              "1656287513236_43316_ANA   https://www.abc.es/economia/abci-claves-caida-...   \n",
              "1656287513236_43316_BKIA  https://www.abc.es/economia/abci-claves-caida-...   \n",
              "1656287513236_43316_CABK  https://www.abc.es/economia/abci-claves-caida-...   \n",
              "1656287513236_43316_IAG   https://www.abc.es/economia/abci-claves-caida-...   \n",
              "...                                                                     ...   \n",
              "1656306940203_43316_REE   https://www.europapress.es/economia/bolsa-0034...   \n",
              "1656306940203_43316_SGRE  https://www.europapress.es/economia/bolsa-0034...   \n",
              "1656306940203_43316_SLR   https://www.europapress.es/economia/bolsa-0034...   \n",
              "1656306983084_43316_NTGY  https://www.europapress.es/economia/noticia-na...   \n",
              "1656300795101_43316_SAN   https://www.europapress.es/nacional/noticia-ju...   \n",
              "\n",
              "                                                                       body  \\\n",
              "pk                                                                            \n",
              "1656287707697_43316_IAG   ¿DNI o pasaporte? ¿Hay que pedir visado? ¿Sirv...   \n",
              "1656287513236_43316_ANA   24 componentes en negativo<EOL>El Ibex cierra ...   \n",
              "1656287513236_43316_BKIA  24 componentes en negativo<EOL>El Ibex cierra ...   \n",
              "1656287513236_43316_CABK  24 componentes en negativo<EOL>El Ibex cierra ...   \n",
              "1656287513236_43316_IAG   24 componentes en negativo<EOL>El Ibex cierra ...   \n",
              "...                                                                     ...   \n",
              "1656306940203_43316_REE   Los títulos de PharmaMar repuntaban también un...   \n",
              "1656306940203_43316_SGRE  Los títulos de PharmaMar repuntaban también un...   \n",
              "1656306940203_43316_SLR   Los títulos de PharmaMar repuntaban también un...   \n",
              "1656306983084_43316_NTGY  MADRID, 26 Ene. (EUROPA PRESS) -<EOL>Naturgy a...   \n",
              "1656300795101_43316_SAN   J. M. V. B. y J. M. V. C. pedían su sobreseimi...   \n",
              "\n",
              "                                                                       tags  \\\n",
              "pk                                                                            \n",
              "1656287707697_43316_IAG   ['Brexit', 'Reino Unido', 'Europa', 'Comercio'...   \n",
              "1656287513236_43316_ANA   ['Apple', 'Gamesa', 'Amazon', 'Iberia', 'Accio...   \n",
              "1656287513236_43316_BKIA  ['Apple', 'Gamesa', 'Amazon', 'Iberia', 'Accio...   \n",
              "1656287513236_43316_CABK  ['Apple', 'Gamesa', 'Amazon', 'Iberia', 'Accio...   \n",
              "1656287513236_43316_IAG   ['Apple', 'Gamesa', 'Amazon', 'Iberia', 'Accio...   \n",
              "...                                                                     ...   \n",
              "1656306940203_43316_REE   ['IBEX 35', 'Naturgy (Gas Natural)', 'IFM - Na...   \n",
              "1656306940203_43316_SGRE  ['IBEX 35', 'Naturgy (Gas Natural)', 'IFM - Na...   \n",
              "1656306940203_43316_SLR   ['IBEX 35', 'Naturgy (Gas Natural)', 'IFM - Na...   \n",
              "1656306983084_43316_NTGY  ['Naturgy (Gas Natural)', 'CNMV', 'Freshfields...   \n",
              "1656300795101_43316_SAN                     ['Audiencia Nacional', 'Pujol']   \n",
              "\n",
              "                             resource ticker  \\\n",
              "pk                                             \n",
              "1656287707697_43316_IAG        ELPAIS    IAG   \n",
              "1656287513236_43316_ANA           ABC    ANA   \n",
              "1656287513236_43316_BKIA          ABC   BKIA   \n",
              "1656287513236_43316_CABK          ABC   CABK   \n",
              "1656287513236_43316_IAG           ABC    IAG   \n",
              "...                               ...    ...   \n",
              "1656306940203_43316_REE   EUROPAPRESS    REE   \n",
              "1656306940203_43316_SGRE  EUROPAPRESS   SGRE   \n",
              "1656306940203_43316_SLR   EUROPAPRESS    SLR   \n",
              "1656306983084_43316_NTGY  EUROPAPRESS   NTGY   \n",
              "1656300795101_43316_SAN   EUROPAPRESS    SAN   \n",
              "\n",
              "                                                       ticker_name  \\\n",
              "pk                                                                   \n",
              "1656287707697_43316_IAG   INTERNATIONAL CONSOLIDAT. AIRLINES GROUP   \n",
              "1656287513236_43316_ANA                               ACCIONA,S.A.   \n",
              "1656287513236_43316_BKIA                              BANKIA, S.A.   \n",
              "1656287513236_43316_CABK                           CAIXABANK, S.A.   \n",
              "1656287513236_43316_IAG   INTERNATIONAL CONSOLIDAT. AIRLINES GROUP   \n",
              "...                                                            ...   \n",
              "1656306940203_43316_REE            RED ELECTRICA CORPORACION, S.A.   \n",
              "1656306940203_43316_SGRE     SIEMENS GAMESA RENEWABLE ENERGY, S.A.   \n",
              "1656306940203_43316_SLR     SOLARIA ENERGIA Y MEDIO AMBIENTE, S.A.   \n",
              "1656306983084_43316_NTGY                NATURGY ENERGY GROUP, S.A.   \n",
              "1656300795101_43316_SAN                      BANCO SANTANDER, S.A.   \n",
              "\n",
              "                                                         sector  \\\n",
              "pk                                                                \n",
              "1656287707697_43316_IAG                    Servicios de Consumo   \n",
              "1656287513236_43316_ANA   Mat.Basicos, Industria y Construcción   \n",
              "1656287513236_43316_BKIA                  Servicios Financieros   \n",
              "1656287513236_43316_CABK                  Servicios Financieros   \n",
              "1656287513236_43316_IAG                    Servicios de Consumo   \n",
              "...                                                         ...   \n",
              "1656306940203_43316_REE                      Petróleo y Energía   \n",
              "1656306940203_43316_SGRE  Mat.Basicos, Industria y Construcción   \n",
              "1656306940203_43316_SLR                      Petróleo y Energía   \n",
              "1656306983084_43316_NTGY                     Petróleo y Energía   \n",
              "1656300795101_43316_SAN                   Servicios Financieros   \n",
              "\n",
              "                                                   subsector  ...  \\\n",
              "pk                                                            ...   \n",
              "1656287707697_43316_IAG            Transporte y Distribución  ...   \n",
              "1656287513236_43316_ANA                         Construcción  ...   \n",
              "1656287513236_43316_BKIA            Bancos y Cajas de Ahorro  ...   \n",
              "1656287513236_43316_CABK            Bancos y Cajas de Ahorro  ...   \n",
              "1656287513236_43316_IAG            Transporte y Distribución  ...   \n",
              "...                                                      ...  ...   \n",
              "1656306940203_43316_REE                   Electricidad y Gas  ...   \n",
              "1656306940203_43316_SGRE  Fabric. y Montaje Bienes de Equipo  ...   \n",
              "1656306940203_43316_SLR                  Energías Renovables  ...   \n",
              "1656306983084_43316_NTGY                  Electricidad y Gas  ...   \n",
              "1656300795101_43316_SAN             Bancos y Cajas de Ahorro  ...   \n",
              "\n",
              "                          alpha_exante_above_Q3  vola20_exante  vola20_expost  \\\n",
              "pk                                                                              \n",
              "1656287707697_43316_IAG                   False       0.595548       0.646779   \n",
              "1656287513236_43316_ANA                   False       0.330038       0.410053   \n",
              "1656287513236_43316_BKIA                  False       0.261637       0.452613   \n",
              "1656287513236_43316_CABK                  False       0.269002       0.451665   \n",
              "1656287513236_43316_IAG                   False       0.595548       0.646779   \n",
              "...                                         ...            ...            ...   \n",
              "1656306940203_43316_REE                   False       0.267480       0.171384   \n",
              "1656306940203_43316_SGRE                  False       0.403294       0.481854   \n",
              "1656306940203_43316_SLR                   False       0.768041       0.639412   \n",
              "1656306983084_43316_NTGY                  False       0.204647       0.118056   \n",
              "1656300795101_43316_SAN                   False       0.142878       0.329551   \n",
              "\n",
              "                         vola20_antepost_pct_change vola20_umbral_Q1  \\\n",
              "pk                                                                     \n",
              "1656287707697_43316_IAG                    0.086025         0.053808   \n",
              "1656287513236_43316_ANA                    0.242440        -0.011209   \n",
              "1656287513236_43316_BKIA                   0.729930         0.057276   \n",
              "1656287513236_43316_CABK                   0.679042         0.092034   \n",
              "1656287513236_43316_IAG                    0.086025         0.053808   \n",
              "...                                             ...              ...   \n",
              "1656306940203_43316_REE                   -0.359263         0.222160   \n",
              "1656306940203_43316_SGRE                   0.194796         0.027436   \n",
              "1656306940203_43316_SLR                   -0.167476        -0.177970   \n",
              "1656306983084_43316_NTGY                  -0.423121        -0.759849   \n",
              "1656300795101_43316_SAN                    1.306525        -0.128135   \n",
              "\n",
              "                         vola20_umbral_abs_Q1 vola20_umbral_Q3  \\\n",
              "pk                                                               \n",
              "1656287707697_43316_IAG              0.114337         0.305009   \n",
              "1656287513236_43316_ANA              0.103677         0.208834   \n",
              "1656287513236_43316_BKIA             0.103478         0.236113   \n",
              "1656287513236_43316_CABK             0.139145         0.290371   \n",
              "1656287513236_43316_IAG              0.114337         0.305009   \n",
              "...                                       ...              ...   \n",
              "1656306940203_43316_REE              0.322949         0.456074   \n",
              "1656306940203_43316_SGRE             0.048373         0.108241   \n",
              "1656306940203_43316_SLR              0.149105        -0.132403   \n",
              "1656306983084_43316_NTGY             0.571577        -0.571577   \n",
              "1656300795101_43316_SAN              0.141303         0.943059   \n",
              "\n",
              "                          vola20_umbral_abs_Q3  vola_label  vola_label_abs  \n",
              "pk                                                                          \n",
              "1656287707697_43316_IAG               0.417972           0               0  \n",
              "1656287513236_43316_ANA               0.225065           1               1  \n",
              "1656287513236_43316_BKIA              0.315340           1               1  \n",
              "1656287513236_43316_CABK              0.324701           1               1  \n",
              "1656287513236_43316_IAG               0.417972           0               0  \n",
              "...                                        ...         ...             ...  \n",
              "1656306940203_43316_REE               0.456074          -1               0  \n",
              "1656306940203_43316_SGRE              0.141547           1               1  \n",
              "1656306940203_43316_SLR               0.186968           0               0  \n",
              "1656306983084_43316_NTGY              0.759849           1               0  \n",
              "1656300795101_43316_SAN               0.943059           1               1  \n",
              "\n",
              "[4025 rows x 36 columns]"
            ]
          },
          "execution_count": 11,
          "metadata": {},
          "output_type": "execute_result"
        }
      ],
      "source": [
        "dataset = pd.read_csv(FILEPATH, sep=\";\", index_col=0, parse_dates=[\"date\"])\n",
        "dataset"
      ]
    },
    {
      "cell_type": "code",
      "execution_count": 35,
      "metadata": {
        "colab": {
          "base_uri": "https://localhost:8080/"
        },
        "id": "2WTu8R-o0MZa",
        "outputId": "26ce1390-df18-445f-8db5-a3ebe6b1ed8f"
      },
      "outputs": [
        {
          "data": {
            "text/plain": [
              "(4025, 37)"
            ]
          },
          "execution_count": 35,
          "metadata": {},
          "output_type": "execute_result"
        }
      ],
      "source": [
        "dataset.shape"
      ]
    },
    {
      "cell_type": "code",
      "execution_count": 12,
      "metadata": {
        "id": "CJuDpNtX52Lw"
      },
      "outputs": [],
      "source": [
        "dataset['texto_limpio'] = dataset['body'].apply(\n",
        "    lambda x: ' '.join(LemmaTokenizer()(x.lower()))\n",
        "    )"
      ]
    },
    {
      "cell_type": "code",
      "execution_count": 13,
      "metadata": {
        "id": "peMq_g-P5PSL"
      },
      "outputs": [],
      "source": [
        "cv = CountVectorizer(lowercase=True, ngram_range = (1,1), tokenizer = LemmaTokenizer())"
      ]
    },
    {
      "cell_type": "code",
      "execution_count": 14,
      "metadata": {
        "colab": {
          "base_uri": "https://localhost:8080/"
        },
        "id": "dKDEurRo5PSL",
        "outputId": "a45f8dd5-3426-4d35-8281-01477528488a"
      },
      "outputs": [
        {
          "name": "stderr",
          "output_type": "stream",
          "text": [
            "/usr/local/lib/python3.7/dist-packages/sklearn/feature_extraction/text.py:517: UserWarning: The parameter 'token_pattern' will not be used since 'tokenizer' is not None'\n",
            "  \"The parameter 'token_pattern' will not be used\"\n"
          ]
        },
        {
          "data": {
            "text/plain": [
              "CountVectorizer(tokenizer=<__main__.LemmaTokenizer object at 0x7f587f5ae8d0>)"
            ]
          },
          "execution_count": 14,
          "metadata": {},
          "output_type": "execute_result"
        }
      ],
      "source": [
        "cv.fit(dataset['texto_limpio'])"
      ]
    },
    {
      "cell_type": "code",
      "execution_count": 15,
      "metadata": {
        "id": "1pOGp5oY5PSL"
      },
      "outputs": [],
      "source": [
        "vector = cv.transform(dataset['texto_limpio'])"
      ]
    },
    {
      "cell_type": "code",
      "execution_count": 16,
      "metadata": {
        "colab": {
          "base_uri": "https://localhost:8080/",
          "height": 554
        },
        "id": "99unFu1c5PSM",
        "outputId": "d38a8c8a-f058-4f56-e94d-609a2f5b63dc"
      },
      "outputs": [
        {
          "name": "stderr",
          "output_type": "stream",
          "text": [
            "/usr/local/lib/python3.7/dist-packages/sklearn/utils/deprecation.py:87: FutureWarning: Function get_feature_names is deprecated; get_feature_names is deprecated in 1.0 and will be removed in 1.2. Please use get_feature_names_out instead.\n",
            "  warnings.warn(msg, category=FutureWarning)\n"
          ]
        },
        {
          "data": {
            "text/html": [
              "\n",
              "  <div id=\"df-d172c9fd-4512-4f93-96f8-02c208f33047\">\n",
              "    <div class=\"colab-df-container\">\n",
              "      <div>\n",
              "<style scoped>\n",
              "    .dataframe tbody tr th:only-of-type {\n",
              "        vertical-align: middle;\n",
              "    }\n",
              "\n",
              "    .dataframe tbody tr th {\n",
              "        vertical-align: top;\n",
              "    }\n",
              "\n",
              "    .dataframe thead th {\n",
              "        text-align: right;\n",
              "    }\n",
              "</style>\n",
              "<table border=\"1\" class=\"dataframe\">\n",
              "  <thead>\n",
              "    <tr style=\"text-align: right;\">\n",
              "      <th></th>\n",
              "      <th>0</th>\n",
              "      <th>00</th>\n",
              "      <th>000</th>\n",
              "      <th>001</th>\n",
              "      <th>0010</th>\n",
              "      <th>0020</th>\n",
              "      <th>00206</th>\n",
              "      <th>0034</th>\n",
              "      <th>005</th>\n",
              "      <th>007</th>\n",
              "      <th>...</th>\n",
              "      <th>óvulo</th>\n",
              "      <th>óxido</th>\n",
              "      <th>úbeda</th>\n",
              "      <th>úcar</th>\n",
              "      <th>últimamente</th>\n",
              "      <th>únetir</th>\n",
              "      <th>únicamente</th>\n",
              "      <th>único</th>\n",
              "      <th>útil</th>\n",
              "      <th>útlimo</th>\n",
              "    </tr>\n",
              "    <tr>\n",
              "      <th>pk</th>\n",
              "      <th></th>\n",
              "      <th></th>\n",
              "      <th></th>\n",
              "      <th></th>\n",
              "      <th></th>\n",
              "      <th></th>\n",
              "      <th></th>\n",
              "      <th></th>\n",
              "      <th></th>\n",
              "      <th></th>\n",
              "      <th></th>\n",
              "      <th></th>\n",
              "      <th></th>\n",
              "      <th></th>\n",
              "      <th></th>\n",
              "      <th></th>\n",
              "      <th></th>\n",
              "      <th></th>\n",
              "      <th></th>\n",
              "      <th></th>\n",
              "      <th></th>\n",
              "    </tr>\n",
              "  </thead>\n",
              "  <tbody>\n",
              "    <tr>\n",
              "      <th>1656287707697_43316_IAG</th>\n",
              "      <td>0</td>\n",
              "      <td>0</td>\n",
              "      <td>0</td>\n",
              "      <td>0</td>\n",
              "      <td>0</td>\n",
              "      <td>0</td>\n",
              "      <td>0</td>\n",
              "      <td>0</td>\n",
              "      <td>0</td>\n",
              "      <td>0</td>\n",
              "      <td>...</td>\n",
              "      <td>0</td>\n",
              "      <td>0</td>\n",
              "      <td>0</td>\n",
              "      <td>0</td>\n",
              "      <td>0</td>\n",
              "      <td>0</td>\n",
              "      <td>0</td>\n",
              "      <td>1</td>\n",
              "      <td>0</td>\n",
              "      <td>0</td>\n",
              "    </tr>\n",
              "    <tr>\n",
              "      <th>1656287513236_43316_ANA</th>\n",
              "      <td>0</td>\n",
              "      <td>0</td>\n",
              "      <td>0</td>\n",
              "      <td>0</td>\n",
              "      <td>0</td>\n",
              "      <td>0</td>\n",
              "      <td>0</td>\n",
              "      <td>0</td>\n",
              "      <td>0</td>\n",
              "      <td>0</td>\n",
              "      <td>...</td>\n",
              "      <td>0</td>\n",
              "      <td>0</td>\n",
              "      <td>0</td>\n",
              "      <td>0</td>\n",
              "      <td>0</td>\n",
              "      <td>0</td>\n",
              "      <td>0</td>\n",
              "      <td>3</td>\n",
              "      <td>0</td>\n",
              "      <td>0</td>\n",
              "    </tr>\n",
              "    <tr>\n",
              "      <th>1656287513236_43316_BKIA</th>\n",
              "      <td>0</td>\n",
              "      <td>0</td>\n",
              "      <td>0</td>\n",
              "      <td>0</td>\n",
              "      <td>0</td>\n",
              "      <td>0</td>\n",
              "      <td>0</td>\n",
              "      <td>0</td>\n",
              "      <td>0</td>\n",
              "      <td>0</td>\n",
              "      <td>...</td>\n",
              "      <td>0</td>\n",
              "      <td>0</td>\n",
              "      <td>0</td>\n",
              "      <td>0</td>\n",
              "      <td>0</td>\n",
              "      <td>0</td>\n",
              "      <td>0</td>\n",
              "      <td>3</td>\n",
              "      <td>0</td>\n",
              "      <td>0</td>\n",
              "    </tr>\n",
              "    <tr>\n",
              "      <th>1656287513236_43316_CABK</th>\n",
              "      <td>0</td>\n",
              "      <td>0</td>\n",
              "      <td>0</td>\n",
              "      <td>0</td>\n",
              "      <td>0</td>\n",
              "      <td>0</td>\n",
              "      <td>0</td>\n",
              "      <td>0</td>\n",
              "      <td>0</td>\n",
              "      <td>0</td>\n",
              "      <td>...</td>\n",
              "      <td>0</td>\n",
              "      <td>0</td>\n",
              "      <td>0</td>\n",
              "      <td>0</td>\n",
              "      <td>0</td>\n",
              "      <td>0</td>\n",
              "      <td>0</td>\n",
              "      <td>3</td>\n",
              "      <td>0</td>\n",
              "      <td>0</td>\n",
              "    </tr>\n",
              "    <tr>\n",
              "      <th>1656287513236_43316_IAG</th>\n",
              "      <td>0</td>\n",
              "      <td>0</td>\n",
              "      <td>0</td>\n",
              "      <td>0</td>\n",
              "      <td>0</td>\n",
              "      <td>0</td>\n",
              "      <td>0</td>\n",
              "      <td>0</td>\n",
              "      <td>0</td>\n",
              "      <td>0</td>\n",
              "      <td>...</td>\n",
              "      <td>0</td>\n",
              "      <td>0</td>\n",
              "      <td>0</td>\n",
              "      <td>0</td>\n",
              "      <td>0</td>\n",
              "      <td>0</td>\n",
              "      <td>0</td>\n",
              "      <td>3</td>\n",
              "      <td>0</td>\n",
              "      <td>0</td>\n",
              "    </tr>\n",
              "    <tr>\n",
              "      <th>...</th>\n",
              "      <td>...</td>\n",
              "      <td>...</td>\n",
              "      <td>...</td>\n",
              "      <td>...</td>\n",
              "      <td>...</td>\n",
              "      <td>...</td>\n",
              "      <td>...</td>\n",
              "      <td>...</td>\n",
              "      <td>...</td>\n",
              "      <td>...</td>\n",
              "      <td>...</td>\n",
              "      <td>...</td>\n",
              "      <td>...</td>\n",
              "      <td>...</td>\n",
              "      <td>...</td>\n",
              "      <td>...</td>\n",
              "      <td>...</td>\n",
              "      <td>...</td>\n",
              "      <td>...</td>\n",
              "      <td>...</td>\n",
              "      <td>...</td>\n",
              "    </tr>\n",
              "    <tr>\n",
              "      <th>1656306940203_43316_REE</th>\n",
              "      <td>0</td>\n",
              "      <td>0</td>\n",
              "      <td>0</td>\n",
              "      <td>0</td>\n",
              "      <td>0</td>\n",
              "      <td>0</td>\n",
              "      <td>0</td>\n",
              "      <td>0</td>\n",
              "      <td>0</td>\n",
              "      <td>0</td>\n",
              "      <td>...</td>\n",
              "      <td>0</td>\n",
              "      <td>0</td>\n",
              "      <td>0</td>\n",
              "      <td>0</td>\n",
              "      <td>0</td>\n",
              "      <td>0</td>\n",
              "      <td>0</td>\n",
              "      <td>0</td>\n",
              "      <td>0</td>\n",
              "      <td>0</td>\n",
              "    </tr>\n",
              "    <tr>\n",
              "      <th>1656306940203_43316_SGRE</th>\n",
              "      <td>0</td>\n",
              "      <td>0</td>\n",
              "      <td>0</td>\n",
              "      <td>0</td>\n",
              "      <td>0</td>\n",
              "      <td>0</td>\n",
              "      <td>0</td>\n",
              "      <td>0</td>\n",
              "      <td>0</td>\n",
              "      <td>0</td>\n",
              "      <td>...</td>\n",
              "      <td>0</td>\n",
              "      <td>0</td>\n",
              "      <td>0</td>\n",
              "      <td>0</td>\n",
              "      <td>0</td>\n",
              "      <td>0</td>\n",
              "      <td>0</td>\n",
              "      <td>0</td>\n",
              "      <td>0</td>\n",
              "      <td>0</td>\n",
              "    </tr>\n",
              "    <tr>\n",
              "      <th>1656306940203_43316_SLR</th>\n",
              "      <td>0</td>\n",
              "      <td>0</td>\n",
              "      <td>0</td>\n",
              "      <td>0</td>\n",
              "      <td>0</td>\n",
              "      <td>0</td>\n",
              "      <td>0</td>\n",
              "      <td>0</td>\n",
              "      <td>0</td>\n",
              "      <td>0</td>\n",
              "      <td>...</td>\n",
              "      <td>0</td>\n",
              "      <td>0</td>\n",
              "      <td>0</td>\n",
              "      <td>0</td>\n",
              "      <td>0</td>\n",
              "      <td>0</td>\n",
              "      <td>0</td>\n",
              "      <td>0</td>\n",
              "      <td>0</td>\n",
              "      <td>0</td>\n",
              "    </tr>\n",
              "    <tr>\n",
              "      <th>1656306983084_43316_NTGY</th>\n",
              "      <td>0</td>\n",
              "      <td>0</td>\n",
              "      <td>0</td>\n",
              "      <td>0</td>\n",
              "      <td>0</td>\n",
              "      <td>0</td>\n",
              "      <td>0</td>\n",
              "      <td>0</td>\n",
              "      <td>0</td>\n",
              "      <td>0</td>\n",
              "      <td>...</td>\n",
              "      <td>0</td>\n",
              "      <td>0</td>\n",
              "      <td>0</td>\n",
              "      <td>0</td>\n",
              "      <td>0</td>\n",
              "      <td>0</td>\n",
              "      <td>0</td>\n",
              "      <td>0</td>\n",
              "      <td>0</td>\n",
              "      <td>0</td>\n",
              "    </tr>\n",
              "    <tr>\n",
              "      <th>1656300795101_43316_SAN</th>\n",
              "      <td>0</td>\n",
              "      <td>0</td>\n",
              "      <td>0</td>\n",
              "      <td>0</td>\n",
              "      <td>0</td>\n",
              "      <td>0</td>\n",
              "      <td>0</td>\n",
              "      <td>0</td>\n",
              "      <td>0</td>\n",
              "      <td>0</td>\n",
              "      <td>...</td>\n",
              "      <td>0</td>\n",
              "      <td>0</td>\n",
              "      <td>0</td>\n",
              "      <td>0</td>\n",
              "      <td>0</td>\n",
              "      <td>0</td>\n",
              "      <td>0</td>\n",
              "      <td>1</td>\n",
              "      <td>0</td>\n",
              "      <td>0</td>\n",
              "    </tr>\n",
              "  </tbody>\n",
              "</table>\n",
              "<p>4025 rows × 31162 columns</p>\n",
              "</div>\n",
              "      <button class=\"colab-df-convert\" onclick=\"convertToInteractive('df-d172c9fd-4512-4f93-96f8-02c208f33047')\"\n",
              "              title=\"Convert this dataframe to an interactive table.\"\n",
              "              style=\"display:none;\">\n",
              "        \n",
              "  <svg xmlns=\"http://www.w3.org/2000/svg\" height=\"24px\"viewBox=\"0 0 24 24\"\n",
              "       width=\"24px\">\n",
              "    <path d=\"M0 0h24v24H0V0z\" fill=\"none\"/>\n",
              "    <path d=\"M18.56 5.44l.94 2.06.94-2.06 2.06-.94-2.06-.94-.94-2.06-.94 2.06-2.06.94zm-11 1L8.5 8.5l.94-2.06 2.06-.94-2.06-.94L8.5 2.5l-.94 2.06-2.06.94zm10 10l.94 2.06.94-2.06 2.06-.94-2.06-.94-.94-2.06-.94 2.06-2.06.94z\"/><path d=\"M17.41 7.96l-1.37-1.37c-.4-.4-.92-.59-1.43-.59-.52 0-1.04.2-1.43.59L10.3 9.45l-7.72 7.72c-.78.78-.78 2.05 0 2.83L4 21.41c.39.39.9.59 1.41.59.51 0 1.02-.2 1.41-.59l7.78-7.78 2.81-2.81c.8-.78.8-2.07 0-2.86zM5.41 20L4 18.59l7.72-7.72 1.47 1.35L5.41 20z\"/>\n",
              "  </svg>\n",
              "      </button>\n",
              "      \n",
              "  <style>\n",
              "    .colab-df-container {\n",
              "      display:flex;\n",
              "      flex-wrap:wrap;\n",
              "      gap: 12px;\n",
              "    }\n",
              "\n",
              "    .colab-df-convert {\n",
              "      background-color: #E8F0FE;\n",
              "      border: none;\n",
              "      border-radius: 50%;\n",
              "      cursor: pointer;\n",
              "      display: none;\n",
              "      fill: #1967D2;\n",
              "      height: 32px;\n",
              "      padding: 0 0 0 0;\n",
              "      width: 32px;\n",
              "    }\n",
              "\n",
              "    .colab-df-convert:hover {\n",
              "      background-color: #E2EBFA;\n",
              "      box-shadow: 0px 1px 2px rgba(60, 64, 67, 0.3), 0px 1px 3px 1px rgba(60, 64, 67, 0.15);\n",
              "      fill: #174EA6;\n",
              "    }\n",
              "\n",
              "    [theme=dark] .colab-df-convert {\n",
              "      background-color: #3B4455;\n",
              "      fill: #D2E3FC;\n",
              "    }\n",
              "\n",
              "    [theme=dark] .colab-df-convert:hover {\n",
              "      background-color: #434B5C;\n",
              "      box-shadow: 0px 1px 3px 1px rgba(0, 0, 0, 0.15);\n",
              "      filter: drop-shadow(0px 1px 2px rgba(0, 0, 0, 0.3));\n",
              "      fill: #FFFFFF;\n",
              "    }\n",
              "  </style>\n",
              "\n",
              "      <script>\n",
              "        const buttonEl =\n",
              "          document.querySelector('#df-d172c9fd-4512-4f93-96f8-02c208f33047 button.colab-df-convert');\n",
              "        buttonEl.style.display =\n",
              "          google.colab.kernel.accessAllowed ? 'block' : 'none';\n",
              "\n",
              "        async function convertToInteractive(key) {\n",
              "          const element = document.querySelector('#df-d172c9fd-4512-4f93-96f8-02c208f33047');\n",
              "          const dataTable =\n",
              "            await google.colab.kernel.invokeFunction('convertToInteractive',\n",
              "                                                     [key], {});\n",
              "          if (!dataTable) return;\n",
              "\n",
              "          const docLinkHtml = 'Like what you see? Visit the ' +\n",
              "            '<a target=\"_blank\" href=https://colab.research.google.com/notebooks/data_table.ipynb>data table notebook</a>'\n",
              "            + ' to learn more about interactive tables.';\n",
              "          element.innerHTML = '';\n",
              "          dataTable['output_type'] = 'display_data';\n",
              "          await google.colab.output.renderOutput(dataTable, element);\n",
              "          const docLink = document.createElement('div');\n",
              "          docLink.innerHTML = docLinkHtml;\n",
              "          element.appendChild(docLink);\n",
              "        }\n",
              "      </script>\n",
              "    </div>\n",
              "  </div>\n",
              "  "
            ],
            "text/plain": [
              "                          0  00  000  001  0010  0020  00206  0034  005  007  \\\n",
              "pk                                                                             \n",
              "1656287707697_43316_IAG   0   0    0    0     0     0      0     0    0    0   \n",
              "1656287513236_43316_ANA   0   0    0    0     0     0      0     0    0    0   \n",
              "1656287513236_43316_BKIA  0   0    0    0     0     0      0     0    0    0   \n",
              "1656287513236_43316_CABK  0   0    0    0     0     0      0     0    0    0   \n",
              "1656287513236_43316_IAG   0   0    0    0     0     0      0     0    0    0   \n",
              "...                      ..  ..  ...  ...   ...   ...    ...   ...  ...  ...   \n",
              "1656306940203_43316_REE   0   0    0    0     0     0      0     0    0    0   \n",
              "1656306940203_43316_SGRE  0   0    0    0     0     0      0     0    0    0   \n",
              "1656306940203_43316_SLR   0   0    0    0     0     0      0     0    0    0   \n",
              "1656306983084_43316_NTGY  0   0    0    0     0     0      0     0    0    0   \n",
              "1656300795101_43316_SAN   0   0    0    0     0     0      0     0    0    0   \n",
              "\n",
              "                          ...  óvulo  óxido  úbeda  úcar  últimamente  únetir  \\\n",
              "pk                        ...                                                   \n",
              "1656287707697_43316_IAG   ...      0      0      0     0            0       0   \n",
              "1656287513236_43316_ANA   ...      0      0      0     0            0       0   \n",
              "1656287513236_43316_BKIA  ...      0      0      0     0            0       0   \n",
              "1656287513236_43316_CABK  ...      0      0      0     0            0       0   \n",
              "1656287513236_43316_IAG   ...      0      0      0     0            0       0   \n",
              "...                       ...    ...    ...    ...   ...          ...     ...   \n",
              "1656306940203_43316_REE   ...      0      0      0     0            0       0   \n",
              "1656306940203_43316_SGRE  ...      0      0      0     0            0       0   \n",
              "1656306940203_43316_SLR   ...      0      0      0     0            0       0   \n",
              "1656306983084_43316_NTGY  ...      0      0      0     0            0       0   \n",
              "1656300795101_43316_SAN   ...      0      0      0     0            0       0   \n",
              "\n",
              "                          únicamente  único  útil  útlimo  \n",
              "pk                                                         \n",
              "1656287707697_43316_IAG            0      1     0       0  \n",
              "1656287513236_43316_ANA            0      3     0       0  \n",
              "1656287513236_43316_BKIA           0      3     0       0  \n",
              "1656287513236_43316_CABK           0      3     0       0  \n",
              "1656287513236_43316_IAG            0      3     0       0  \n",
              "...                              ...    ...   ...     ...  \n",
              "1656306940203_43316_REE            0      0     0       0  \n",
              "1656306940203_43316_SGRE           0      0     0       0  \n",
              "1656306940203_43316_SLR            0      0     0       0  \n",
              "1656306983084_43316_NTGY           0      0     0       0  \n",
              "1656300795101_43316_SAN            0      1     0       0  \n",
              "\n",
              "[4025 rows x 31162 columns]"
            ]
          },
          "execution_count": 16,
          "metadata": {},
          "output_type": "execute_result"
        }
      ],
      "source": [
        "name_features = pd.DataFrame(vector.toarray(), columns=cv.get_feature_names(), index= dataset.index)\n",
        "name_features"
      ]
    },
    {
      "cell_type": "code",
      "execution_count": 36,
      "metadata": {
        "colab": {
          "base_uri": "https://localhost:8080/"
        },
        "id": "M9gziQJ_0SqQ",
        "outputId": "ae16b9c2-0a14-4bba-b781-99607555b0ae"
      },
      "outputs": [
        {
          "data": {
            "text/plain": [
              "(4025, 31162)"
            ]
          },
          "execution_count": 36,
          "metadata": {},
          "output_type": "execute_result"
        }
      ],
      "source": [
        "name_features.shape"
      ]
    },
    {
      "cell_type": "code",
      "execution_count": 17,
      "metadata": {
        "id": "f9EmyxCE5PSN"
      },
      "outputs": [],
      "source": [
        "lb = LabelEncoder()\n",
        "labels = lb.fit_transform(dataset.vola_label)"
      ]
    },
    {
      "cell_type": "code",
      "execution_count": 21,
      "metadata": {
        "colab": {
          "base_uri": "https://localhost:8080/"
        },
        "id": "eFFM-A0rnzfv",
        "outputId": "4b79c735-7b36-46b5-9b5f-a4a05fb1df05"
      },
      "outputs": [
        {
          "data": {
            "text/plain": [
              "Counter({0: 1317, 1: 1400, 2: 1308})"
            ]
          },
          "execution_count": 21,
          "metadata": {},
          "output_type": "execute_result"
        }
      ],
      "source": [
        "from collections import Counter\n",
        "\n",
        "labels_freq = Counter(labels)\n",
        "labels_freq"
      ]
    },
    {
      "cell_type": "code",
      "execution_count": 22,
      "metadata": {
        "id": "9Pa31kIO5PSN"
      },
      "outputs": [],
      "source": [
        "from sklearn.model_selection import train_test_split\n",
        "\n",
        "x_train, x_test, y_train, y_test = train_test_split(\n",
        "            name_features.values, labels, test_size=0.33\n",
        "        )"
      ]
    },
    {
      "cell_type": "code",
      "execution_count": 23,
      "metadata": {
        "colab": {
          "base_uri": "https://localhost:8080/"
        },
        "id": "rXmO2dZM5PSO",
        "outputId": "3852d449-6418-4754-da54-88b39aab992b"
      },
      "outputs": [
        {
          "data": {
            "text/plain": [
              "array([0, 1, 2])"
            ]
          },
          "execution_count": 23,
          "metadata": {},
          "output_type": "execute_result"
        }
      ],
      "source": [
        "np.unique(labels)"
      ]
    },
    {
      "cell_type": "code",
      "execution_count": 24,
      "metadata": {
        "colab": {
          "base_uri": "https://localhost:8080/"
        },
        "id": "QoLjXTXS5PSP",
        "outputId": "db2f498e-dd63-490b-b390-80c6403103b8"
      },
      "outputs": [
        {
          "name": "stdout",
          "output_type": "stream",
          "text": [
            "(2696, 31162)\n"
          ]
        },
        {
          "data": {
            "text/plain": [
              "(1329, 31162)"
            ]
          },
          "execution_count": 24,
          "metadata": {},
          "output_type": "execute_result"
        }
      ],
      "source": [
        "print(x_train.shape)\n",
        "x_test.shape"
      ]
    },
    {
      "cell_type": "code",
      "execution_count": 25,
      "metadata": {
        "colab": {
          "base_uri": "https://localhost:8080/"
        },
        "id": "_Ley2D8m5PSP",
        "outputId": "8f2c085a-303c-41cc-d9fe-c3ace70ed76a"
      },
      "outputs": [
        {
          "data": {
            "text/plain": [
              "865"
            ]
          },
          "execution_count": 25,
          "metadata": {},
          "output_type": "execute_result"
        }
      ],
      "source": [
        "idx_labels_pos = np.where(y_train == 2)\n",
        "idx_labels_pos = idx_labels_pos[0]\n",
        "len(idx_labels_pos)"
      ]
    },
    {
      "cell_type": "code",
      "execution_count": 26,
      "metadata": {
        "colab": {
          "base_uri": "https://localhost:8080/"
        },
        "id": "BY6iLMSk5PSP",
        "outputId": "181a1a1f-8d25-472e-9890-df0d48fd44f6"
      },
      "outputs": [
        {
          "data": {
            "text/plain": [
              "861"
            ]
          },
          "execution_count": 26,
          "metadata": {},
          "output_type": "execute_result"
        }
      ],
      "source": [
        "idx_labels_neg = np.where(y_train == 0)\n",
        "idx_labels_neg = idx_labels_neg[0]\n",
        "len(idx_labels_neg)"
      ]
    },
    {
      "cell_type": "code",
      "execution_count": 27,
      "metadata": {
        "colab": {
          "base_uri": "https://localhost:8080/"
        },
        "id": "2NsAkgOp5PSQ",
        "outputId": "7e867486-ff06-4785-d547-de724ab668f8"
      },
      "outputs": [
        {
          "data": {
            "text/plain": [
              "(array([   0,    1,    5,   18,   20,   21,   24,   26,   28,   29,   30,\n",
              "          41,   46,   58,   59,   61,   63,   64,   68,   70,   71,   72,\n",
              "          76,   79,   82,   86,   87,   91,   97,  100,  103,  106,  107,\n",
              "         108,  110,  119,  126,  127,  130,  133,  134,  136,  137,  140,\n",
              "         141,  142,  143,  144,  145,  146,  147,  148,  150,  153,  154,\n",
              "         157,  158,  159,  161,  162,  165,  167,  169,  174,  181,  185,\n",
              "         191,  195,  200,  203,  205,  206,  208,  212,  214,  218,  219,\n",
              "         220,  222,  229,  230,  231,  235,  240,  245,  247,  249,  250,\n",
              "         252,  255,  256,  259,  262,  265,  267,  273,  276,  282,  289,\n",
              "         292,  294,  295,  303,  304,  311,  312,  313,  314,  325,  328,\n",
              "         329,  331,  333,  334,  338,  342,  350,  357,  359,  360,  369,\n",
              "         371,  384,  391,  394,  399,  402,  407,  409,  410,  413,  415,\n",
              "         416,  418,  422,  426,  427,  430,  431,  438,  441,  444,  445,\n",
              "         446,  448,  450,  454,  455,  459,  461,  464,  465,  466,  473,\n",
              "         477,  480,  488,  490,  500,  501,  504,  506,  507,  512,  513,\n",
              "         516,  519,  521,  524,  531,  533,  537,  539,  542,  546,  549,\n",
              "         557,  561,  562,  563,  571,  573,  583,  586,  590,  591,  593,\n",
              "         594,  597,  600,  601,  608,  612,  619,  621,  623,  625,  626,\n",
              "         629,  633,  635,  636,  641,  643,  644,  657,  658,  659,  667,\n",
              "         669,  670,  671,  673,  674,  681,  684,  685,  686,  690,  701,\n",
              "         703,  708,  712,  714,  717,  718,  721,  722,  726,  729,  730,\n",
              "         735,  736,  737,  751,  754,  760,  761,  763,  765,  775,  776,\n",
              "         777,  779,  780,  781,  782,  783,  784,  796,  798,  799,  800,\n",
              "         802,  803,  812,  815,  822,  823,  827,  830,  832,  833,  838,\n",
              "         839,  840,  845,  847,  848,  858,  859,  860,  867,  868,  871,\n",
              "         872,  876,  881,  884,  888,  889,  893,  895,  899,  911,  913,\n",
              "         914,  915,  916,  917,  919,  920,  921,  922,  926,  928,  929,\n",
              "         930,  933,  936,  944,  946,  948,  953,  954,  959,  960,  968,\n",
              "         971,  977,  978,  979,  980,  981,  983,  985,  987,  993,  994,\n",
              "        1000, 1002, 1003, 1004, 1010, 1016, 1022, 1025, 1026, 1027, 1028,\n",
              "        1030, 1031, 1033, 1035, 1037, 1038, 1039, 1042, 1046, 1057, 1066,\n",
              "        1068, 1071, 1076, 1079, 1081, 1083, 1086, 1094, 1095, 1096, 1099,\n",
              "        1103, 1107, 1110, 1111, 1113, 1117, 1119, 1123, 1127, 1131, 1133,\n",
              "        1135, 1138, 1145, 1147, 1148, 1151, 1152, 1156, 1157, 1164, 1168,\n",
              "        1169, 1170, 1178, 1182, 1184, 1187, 1188, 1189, 1190, 1191, 1194,\n",
              "        1199, 1203, 1204, 1205, 1208, 1213, 1223, 1224, 1226, 1227, 1241,\n",
              "        1243, 1245, 1246, 1253, 1255, 1266, 1267, 1270, 1274, 1281, 1282,\n",
              "        1284, 1288, 1302, 1304, 1308, 1311, 1314, 1318, 1319, 1322, 1325,\n",
              "        1327, 1330, 1336, 1341, 1345, 1346, 1350, 1353, 1361, 1362, 1366,\n",
              "        1368, 1370, 1371, 1373, 1379, 1381, 1382, 1383, 1386, 1391, 1396,\n",
              "        1401, 1407, 1410, 1412, 1413, 1418, 1419, 1420, 1422, 1427, 1433,\n",
              "        1439, 1443, 1445, 1446, 1450, 1451, 1453, 1463, 1465, 1468, 1469,\n",
              "        1470, 1472, 1474, 1475, 1478, 1480, 1482, 1483, 1486, 1487, 1488,\n",
              "        1493, 1507, 1508, 1511, 1513, 1523, 1524, 1525, 1526, 1529, 1531,\n",
              "        1532, 1535, 1536, 1537, 1539, 1541, 1543, 1544, 1546, 1550, 1552,\n",
              "        1555, 1556, 1558, 1561, 1564, 1568, 1574, 1577, 1578, 1579, 1582,\n",
              "        1587, 1588, 1593, 1598, 1600, 1601, 1603, 1606, 1607, 1610, 1612,\n",
              "        1613, 1619, 1620, 1621, 1629, 1636, 1637, 1640, 1646, 1647, 1648,\n",
              "        1655, 1656, 1657, 1661, 1663, 1666, 1669, 1671, 1672, 1673, 1676,\n",
              "        1678, 1680, 1683, 1684, 1688, 1694, 1705, 1711, 1713, 1714, 1716,\n",
              "        1729, 1731, 1735, 1736, 1737, 1739, 1744, 1745, 1747, 1749, 1752,\n",
              "        1762, 1764, 1767, 1768, 1775, 1778, 1779, 1782, 1786, 1792, 1793,\n",
              "        1794, 1796, 1797, 1798, 1800, 1801, 1802, 1805, 1808, 1812, 1814,\n",
              "        1819, 1820, 1826, 1827, 1830, 1835, 1840, 1852, 1853, 1854, 1856,\n",
              "        1858, 1863, 1865, 1867, 1871, 1873, 1875, 1878, 1881, 1887, 1895,\n",
              "        1896, 1898, 1902, 1904, 1907, 1908, 1911, 1912, 1914, 1919, 1922,\n",
              "        1924, 1926, 1933, 1941, 1946, 1949, 1957, 1958, 1960, 1962, 1963,\n",
              "        1964, 1970, 1975, 1976, 1979, 1981, 1985, 1986, 1989, 1991, 1997,\n",
              "        1998, 1999, 2006, 2013, 2019, 2022, 2025, 2032, 2034, 2037, 2041,\n",
              "        2042, 2043, 2044, 2047, 2055, 2061, 2063, 2065, 2066, 2068, 2070,\n",
              "        2072, 2075, 2079, 2081, 2082, 2083, 2087, 2089, 2091, 2092, 2101,\n",
              "        2104, 2107, 2108, 2117, 2118, 2123, 2125, 2128, 2131, 2132, 2136,\n",
              "        2138, 2143, 2145, 2148, 2149, 2155, 2157, 2158, 2159, 2161, 2170,\n",
              "        2172, 2173, 2175, 2176, 2177, 2179, 2181, 2183, 2191, 2197, 2199,\n",
              "        2202, 2208, 2209, 2213, 2221, 2224, 2226, 2227, 2228, 2229, 2237,\n",
              "        2238, 2241, 2242, 2244, 2245, 2247, 2250, 2251, 2253, 2254, 2258,\n",
              "        2265, 2275, 2278, 2279, 2281, 2283, 2284, 2285, 2288, 2290, 2293,\n",
              "        2296, 2297, 2298, 2300, 2306, 2309, 2311, 2319, 2321, 2329, 2331,\n",
              "        2334, 2337, 2341, 2344, 2348, 2352, 2354, 2355, 2357, 2362, 2367,\n",
              "        2368, 2369, 2372, 2377, 2378, 2384, 2387, 2390, 2391, 2392, 2396,\n",
              "        2402, 2403, 2404, 2410, 2413, 2416, 2417, 2419, 2421, 2424, 2426,\n",
              "        2427, 2429, 2433, 2438, 2440, 2443, 2446, 2447, 2448, 2449, 2450,\n",
              "        2451, 2455, 2456, 2470, 2478, 2480, 2481, 2483, 2486, 2488, 2491,\n",
              "        2502, 2514, 2516, 2520, 2524, 2529, 2532, 2533, 2534, 2537, 2539,\n",
              "        2542, 2545, 2549, 2551, 2552, 2553, 2556, 2557, 2563, 2564, 2571,\n",
              "        2575, 2581, 2585, 2587, 2591, 2593, 2605, 2606, 2609, 2610, 2613,\n",
              "        2614, 2615, 2617, 2625, 2627, 2630, 2633, 2636, 2639, 2643, 2645,\n",
              "        2649, 2651, 2654, 2657, 2659, 2663, 2672, 2674, 2675, 2676, 2677,\n",
              "        2678, 2679, 2680, 2683, 2686, 2687, 2689]),\n",
              " array([   2,    3,    6,    7,    8,   10,   14,   15,   23,   25,   31,\n",
              "          32,   33,   34,   36,   37,   38,   40,   44,   48,   50,   51,\n",
              "          52,   57,   65,   69,   78,   80,   83,   84,   88,   90,   94,\n",
              "         101,  105,  111,  113,  114,  116,  117,  120,  122,  123,  124,\n",
              "         131,  135,  138,  149,  151,  155,  160,  166,  168,  170,  171,\n",
              "         175,  176,  177,  178,  180,  183,  186,  187,  189,  190,  192,\n",
              "         197,  198,  199,  202,  204,  211,  213,  221,  223,  227,  228,\n",
              "         233,  234,  237,  239,  243,  244,  246,  248,  251,  253,  257,\n",
              "         263,  268,  274,  277,  279,  281,  283,  284,  286,  287,  293,\n",
              "         297,  298,  300,  301,  308,  316,  319,  322,  332,  335,  336,\n",
              "         337,  341,  343,  345,  346,  351,  353,  354,  356,  358,  361,\n",
              "         362,  364,  366,  368,  372,  378,  379,  380,  382,  383,  388,\n",
              "         390,  392,  395,  396,  398,  400,  403,  404,  405,  406,  414,\n",
              "         417,  424,  428,  434,  437,  447,  449,  451,  452,  453,  457,\n",
              "         462,  463,  467,  471,  474,  476,  478,  479,  481,  482,  485,\n",
              "         487,  489,  491,  492,  493,  494,  498,  502,  505,  508,  510,\n",
              "         515,  518,  520,  523,  525,  526,  528,  529,  530,  532,  535,\n",
              "         540,  541,  543,  545,  547,  548,  551,  555,  558,  567,  568,\n",
              "         570,  572,  577,  578,  580,  584,  587,  588,  596,  602,  606,\n",
              "         607,  609,  615,  617,  618,  620,  628,  637,  639,  648,  649,\n",
              "         651,  653,  654,  660,  661,  665,  666,  668,  672,  675,  683,\n",
              "         688,  697,  700,  702,  704,  711,  719,  720,  725,  727,  728,\n",
              "         732,  733,  734,  741,  742,  746,  748,  757,  764,  769,  771,\n",
              "         772,  773,  778,  785,  786,  787,  790,  793,  794,  801,  804,\n",
              "         805,  807,  809,  813,  814,  824,  825,  831,  835,  843,  846,\n",
              "         850,  853,  855,  862,  863,  864,  866,  869,  873,  877,  878,\n",
              "         880,  882,  885,  886,  890,  891,  892,  894,  897,  898,  901,\n",
              "         906,  907,  908,  918,  923,  924,  935,  938,  940,  941,  942,\n",
              "         943,  950,  952,  961,  962,  970,  972,  975,  982,  984,  986,\n",
              "         988,  989,  990,  992,  995,  997,  998,  999, 1014, 1015, 1017,\n",
              "        1018, 1019, 1020, 1032, 1041, 1048, 1054, 1058, 1059, 1060, 1061,\n",
              "        1065, 1067, 1070, 1077, 1078, 1082, 1084, 1089, 1092, 1093, 1097,\n",
              "        1100, 1101, 1102, 1106, 1114, 1115, 1120, 1125, 1128, 1137, 1139,\n",
              "        1142, 1143, 1144, 1150, 1154, 1159, 1163, 1165, 1166, 1167, 1171,\n",
              "        1173, 1175, 1176, 1183, 1185, 1192, 1195, 1206, 1207, 1214, 1215,\n",
              "        1217, 1218, 1219, 1220, 1221, 1229, 1231, 1232, 1235, 1238, 1240,\n",
              "        1248, 1250, 1254, 1256, 1257, 1259, 1260, 1264, 1265, 1268, 1271,\n",
              "        1273, 1275, 1278, 1285, 1286, 1290, 1295, 1296, 1299, 1300, 1305,\n",
              "        1306, 1309, 1310, 1312, 1313, 1315, 1316, 1321, 1326, 1328, 1331,\n",
              "        1335, 1343, 1344, 1347, 1348, 1356, 1357, 1358, 1363, 1364, 1365,\n",
              "        1367, 1372, 1374, 1376, 1378, 1384, 1385, 1388, 1390, 1397, 1398,\n",
              "        1415, 1417, 1421, 1425, 1428, 1431, 1432, 1435, 1438, 1440, 1447,\n",
              "        1448, 1454, 1455, 1456, 1457, 1460, 1461, 1471, 1473, 1476, 1479,\n",
              "        1481, 1484, 1491, 1492, 1500, 1501, 1502, 1503, 1504, 1512, 1514,\n",
              "        1515, 1520, 1521, 1522, 1530, 1538, 1542, 1548, 1551, 1553, 1554,\n",
              "        1560, 1562, 1563, 1565, 1566, 1567, 1572, 1575, 1576, 1583, 1585,\n",
              "        1586, 1589, 1590, 1591, 1596, 1597, 1604, 1608, 1611, 1614, 1616,\n",
              "        1618, 1623, 1625, 1628, 1631, 1638, 1641, 1643, 1649, 1654, 1664,\n",
              "        1665, 1667, 1668, 1682, 1685, 1687, 1689, 1693, 1695, 1698, 1699,\n",
              "        1700, 1702, 1707, 1710, 1715, 1724, 1725, 1726, 1730, 1738, 1740,\n",
              "        1741, 1743, 1756, 1757, 1759, 1761, 1769, 1772, 1774, 1777, 1781,\n",
              "        1783, 1784, 1787, 1788, 1790, 1791, 1795, 1804, 1809, 1810, 1811,\n",
              "        1813, 1817, 1818, 1821, 1823, 1824, 1825, 1828, 1831, 1832, 1834,\n",
              "        1836, 1837, 1839, 1841, 1842, 1843, 1844, 1846, 1847, 1851, 1857,\n",
              "        1861, 1866, 1869, 1874, 1876, 1879, 1882, 1884, 1888, 1892, 1894,\n",
              "        1897, 1909, 1910, 1915, 1916, 1917, 1920, 1929, 1937, 1944, 1947,\n",
              "        1951, 1959, 1966, 1969, 1971, 1972, 1973, 1977, 1978, 1983, 1984,\n",
              "        1988, 1992, 1994, 1996, 2000, 2005, 2007, 2009, 2017, 2021, 2023,\n",
              "        2026, 2027, 2028, 2029, 2030, 2031, 2036, 2038, 2040, 2046, 2048,\n",
              "        2049, 2050, 2052, 2053, 2054, 2056, 2058, 2064, 2071, 2080, 2085,\n",
              "        2086, 2088, 2094, 2095, 2097, 2099, 2100, 2109, 2111, 2112, 2115,\n",
              "        2121, 2122, 2127, 2129, 2134, 2137, 2144, 2147, 2153, 2154, 2162,\n",
              "        2165, 2166, 2168, 2171, 2178, 2187, 2189, 2195, 2196, 2198, 2201,\n",
              "        2204, 2206, 2207, 2212, 2218, 2219, 2231, 2233, 2234, 2235, 2236,\n",
              "        2243, 2248, 2249, 2252, 2263, 2266, 2269, 2270, 2272, 2273, 2274,\n",
              "        2277, 2282, 2286, 2287, 2289, 2291, 2294, 2295, 2303, 2308, 2310,\n",
              "        2313, 2314, 2315, 2317, 2322, 2324, 2325, 2326, 2339, 2343, 2345,\n",
              "        2346, 2347, 2349, 2350, 2353, 2356, 2360, 2364, 2365, 2373, 2374,\n",
              "        2375, 2379, 2380, 2381, 2382, 2383, 2385, 2386, 2394, 2407, 2409,\n",
              "        2411, 2412, 2414, 2420, 2422, 2425, 2431, 2437, 2439, 2441, 2442,\n",
              "        2444, 2445, 2453, 2454, 2457, 2458, 2459, 2462, 2464, 2466, 2469,\n",
              "        2471, 2472, 2473, 2474, 2475, 2477, 2482, 2484, 2485, 2489, 2492,\n",
              "        2493, 2495, 2498, 2499, 2503, 2504, 2506, 2508, 2511, 2512, 2513,\n",
              "        2521, 2523, 2527, 2528, 2531, 2535, 2536, 2538, 2544, 2547, 2555,\n",
              "        2558, 2559, 2560, 2561, 2562, 2568, 2569, 2572, 2576, 2580, 2583,\n",
              "        2584, 2586, 2590, 2592, 2594, 2595, 2596, 2597, 2598, 2599, 2602,\n",
              "        2603, 2604, 2607, 2618, 2619, 2620, 2623, 2624, 2640, 2646, 2647,\n",
              "        2648, 2653, 2658, 2661, 2662, 2666, 2667, 2668, 2671, 2673, 2681,\n",
              "        2682, 2685, 2690]))"
            ]
          },
          "execution_count": 27,
          "metadata": {},
          "output_type": "execute_result"
        }
      ],
      "source": [
        "idx_labels_pos,idx_labels_neg"
      ]
    },
    {
      "cell_type": "code",
      "execution_count": 29,
      "metadata": {
        "colab": {
          "base_uri": "https://localhost:8080/"
        },
        "id": "DlNDpj5a5PSQ",
        "outputId": "7f7761a2-9bd6-4451-abee-9ba8244cbee5"
      },
      "outputs": [
        {
          "data": {
            "text/plain": [
              "array([  3,   3,   0, ..., 200,   9,   0])"
            ]
          },
          "execution_count": 29,
          "metadata": {},
          "output_type": "execute_result"
        }
      ],
      "source": [
        "sum_label_pos = np.sum(x_train[idx_labels_pos],axis=0)\n",
        "sum_label_pos"
      ]
    },
    {
      "cell_type": "code",
      "execution_count": 30,
      "metadata": {
        "colab": {
          "base_uri": "https://localhost:8080/"
        },
        "id": "KT33xtdD5PSQ",
        "outputId": "dd86ccba-4792-4e40-c5a8-4a72673edc72"
      },
      "outputs": [
        {
          "data": {
            "text/plain": [
              "31162"
            ]
          },
          "execution_count": 30,
          "metadata": {},
          "output_type": "execute_result"
        }
      ],
      "source": [
        "len(sum_label_pos)"
      ]
    },
    {
      "cell_type": "code",
      "execution_count": 31,
      "metadata": {
        "colab": {
          "base_uri": "https://localhost:8080/"
        },
        "id": "E8ULRm3V5PSR",
        "outputId": "03e1bb37-d705-4f8b-b2e4-4792adba3eac"
      },
      "outputs": [
        {
          "data": {
            "text/plain": [
              "array([  2,   0,   3, ..., 120,   5,   0])"
            ]
          },
          "execution_count": 31,
          "metadata": {},
          "output_type": "execute_result"
        }
      ],
      "source": [
        "sum_label_neg = np.sum(x_train[idx_labels_neg],axis=0)\n",
        "sum_label_neg"
      ]
    },
    {
      "cell_type": "code",
      "execution_count": 32,
      "metadata": {
        "colab": {
          "base_uri": "https://localhost:8080/"
        },
        "id": "EMJS2_Dm5PSR",
        "outputId": "df717757-45b3-43b7-98e8-f89dc8d5567d"
      },
      "outputs": [
        {
          "data": {
            "text/plain": [
              "array([    6,     0,     0, ..., 24000,    45,     0])"
            ]
          },
          "execution_count": 32,
          "metadata": {},
          "output_type": "execute_result"
        }
      ],
      "source": [
        "#Multiplicamos pos * neg, las que queden a 0 serán las únicas\n",
        "features_unique = sum_label_pos * sum_label_neg\n",
        "features_unique"
      ]
    },
    {
      "cell_type": "code",
      "execution_count": 33,
      "metadata": {
        "colab": {
          "base_uri": "https://localhost:8080/"
        },
        "id": "thyt1GMF5PSR",
        "outputId": "e9e696c3-7399-4976-f84e-f9c3a4a9cf76"
      },
      "outputs": [
        {
          "data": {
            "text/plain": [
              "array([    1,     2,     3, ..., 31156, 31157, 31161])"
            ]
          },
          "execution_count": 33,
          "metadata": {},
          "output_type": "execute_result"
        }
      ],
      "source": [
        "idx_features_unique = np.where(features_unique == 0)\n",
        "idx_features_unique = idx_features_unique[0]\n",
        "idx_features_unique"
      ]
    },
    {
      "cell_type": "code",
      "execution_count": 34,
      "metadata": {
        "colab": {
          "base_uri": "https://localhost:8080/"
        },
        "id": "c-lMfPNe5PSS",
        "outputId": "b19ad033-67f0-4170-dbf9-3b3fbb7d60ee"
      },
      "outputs": [
        {
          "data": {
            "text/plain": [
              "21864"
            ]
          },
          "execution_count": 34,
          "metadata": {},
          "output_type": "execute_result"
        }
      ],
      "source": [
        "len(idx_features_unique)"
      ]
    },
    {
      "cell_type": "code",
      "execution_count": 37,
      "metadata": {
        "colab": {
          "base_uri": "https://localhost:8080/"
        },
        "id": "5NyCMqW-5PSS",
        "outputId": "a343c114-930e-4243-c546-86b4fbc929fa"
      },
      "outputs": [
        {
          "data": {
            "text/plain": [
              "array([[0, 0, 0, ..., 0, 0, 0],\n",
              "       [0, 0, 0, ..., 0, 0, 0],\n",
              "       [0, 0, 0, ..., 0, 0, 0],\n",
              "       ...,\n",
              "       [0, 0, 0, ..., 0, 0, 0],\n",
              "       [0, 0, 0, ..., 0, 0, 0],\n",
              "       [0, 0, 0, ..., 0, 0, 0]])"
            ]
          },
          "execution_count": 37,
          "metadata": {},
          "output_type": "execute_result"
        }
      ],
      "source": [
        "x_train_unique = x_train[:,idx_features_unique]\n",
        "x_train_unique"
      ]
    },
    {
      "cell_type": "code",
      "execution_count": 38,
      "metadata": {
        "colab": {
          "base_uri": "https://localhost:8080/"
        },
        "id": "Hr3EB5kX5PSS",
        "outputId": "bc408f8c-bf89-4079-d863-ebd5aadd2d62"
      },
      "outputs": [
        {
          "data": {
            "text/plain": [
              "(2696, 21864)"
            ]
          },
          "execution_count": 38,
          "metadata": {},
          "output_type": "execute_result"
        }
      ],
      "source": [
        "x_train_unique.shape"
      ]
    },
    {
      "cell_type": "code",
      "execution_count": 39,
      "metadata": {
        "colab": {
          "base_uri": "https://localhost:8080/"
        },
        "id": "wFHcIJVM5PSS",
        "outputId": "7fa89ccf-f29c-410c-98ec-59e373eb9a75"
      },
      "outputs": [
        {
          "data": {
            "text/plain": [
              "array([3, 5, 0, ..., 9, 1, 0])"
            ]
          },
          "execution_count": 39,
          "metadata": {},
          "output_type": "execute_result"
        }
      ],
      "source": [
        "x_train_unique_sum = np.sum(x_train_unique, axis=0)\n",
        "x_train_unique_sum"
      ]
    },
    {
      "cell_type": "code",
      "execution_count": 40,
      "metadata": {
        "colab": {
          "base_uri": "https://localhost:8080/"
        },
        "id": "5QwCVTmG5PST",
        "outputId": "c8d67403-f314-4259-8a65-6571245ee174"
      },
      "outputs": [
        {
          "data": {
            "text/plain": [
              "457"
            ]
          },
          "execution_count": 40,
          "metadata": {},
          "output_type": "execute_result"
        }
      ],
      "source": [
        "idx_train_unique_up100 = np.where(x_train_unique_sum > 10)\n",
        "idx_train_unique_up100 = idx_train_unique_up100[0]\n",
        "len(idx_train_unique_up100)"
      ]
    },
    {
      "cell_type": "code",
      "execution_count": 42,
      "metadata": {
        "colab": {
          "base_uri": "https://localhost:8080/"
        },
        "id": "jp41zJLL5PST",
        "outputId": "cdfb3d1e-56a1-43ee-ec87-7ee207a10c5e"
      },
      "outputs": [
        {
          "data": {
            "text/plain": [
              "array([   17,    35,    56,   151,   418,   757,   880,   902,   914,\n",
              "        1016,  1019,  1055,  1128,  1138,  1152,  1201,  1231,  1255,\n",
              "        1274,  1358,  1435,  1455,  1480,  1484,  1514,  1597,  1645,\n",
              "        1647,  1765,  1845,  1873,  1891,  2196,  2331,  2382,  2474,\n",
              "        2483,  2514,  2558,  2579,  2812,  2838,  2882,  3018,  3019,\n",
              "        3042,  3084,  3151,  3226,  3230,  3241,  3293,  3357,  3411,\n",
              "        3432,  3473,  3475,  3487,  3497,  3521,  3527,  3573,  3589,\n",
              "        3593,  3640,  3650,  3680,  3753,  3757,  3823,  3920,  3951,\n",
              "        4045,  4091,  4103,  4104,  4136,  4144,  4152,  4238,  4296,\n",
              "        4338,  4416,  4442,  4467,  4480,  4624,  4684,  4687,  4689,\n",
              "        4716,  4779,  4786,  4794,  4852,  4853,  4878,  5110,  5125,\n",
              "        5137,  5162,  5199,  5204,  5267,  5287,  5304,  5312,  5349,\n",
              "        5366,  5368,  5473,  5582,  5588,  5594,  5638,  5674,  5761,\n",
              "        5812,  5845,  5847,  5918,  6087,  6090,  6096,  6112,  6119,\n",
              "        6120,  6122,  6135,  6208,  6226,  6228,  6239,  6277,  6326,\n",
              "        6345,  6364,  6385,  6387,  6415,  6481,  6499,  6539,  6595,\n",
              "        6626,  6629,  6673,  6751,  6810,  6860,  6902,  7019,  7033,\n",
              "        7183,  7188,  7189,  7194,  7197,  7280,  7321,  7330,  7345,\n",
              "        7376,  7477,  7492,  7502,  7503,  7543,  7544,  7548,  7552,\n",
              "        7702,  7704,  7713,  7761,  7872,  7873,  7931,  7982,  8007,\n",
              "        8039,  8061,  8111,  8341,  8364,  8389,  8397,  8430,  8461,\n",
              "        8471,  8485,  8696,  8704,  8880,  8958,  8960,  8962,  8981,\n",
              "        8982,  8986,  8997,  9082,  9087,  9146,  9154,  9158,  9191,\n",
              "        9192,  9231,  9291,  9346,  9391,  9401,  9411,  9414,  9447,\n",
              "        9448,  9508,  9558,  9714,  9716,  9732,  9742,  9763, 10031,\n",
              "       10033, 10146, 10147, 10210, 10245, 10461, 10473, 10489, 10515,\n",
              "       10527, 10536, 10537, 10673, 10690, 10745, 10750, 10766, 10784,\n",
              "       10852, 10858, 10871, 10872, 10966, 11127, 11319, 11339, 11347,\n",
              "       11445, 11660, 11751, 11903, 11915, 11918, 11959, 11971, 12000,\n",
              "       12163, 12171, 12226, 12255, 12317, 12326, 12366, 12380, 12408,\n",
              "       12480, 12498, 12593, 12628, 12643, 12681, 12716, 12758, 12799,\n",
              "       12819, 12821, 12822, 12824, 12847, 12859, 12869, 12883, 12979,\n",
              "       13028, 13128, 13131, 13167, 13178, 13197, 13200, 13231, 13269,\n",
              "       13304, 13407, 13494, 13558, 13569, 13595, 13711, 13712, 13717,\n",
              "       13722, 13804, 14075, 14162, 14169, 14180, 14253, 14335, 14387,\n",
              "       14410, 14615, 14617, 14841, 14843, 14847, 14857, 14873, 14875,\n",
              "       14945, 15049, 15103, 15207, 15243, 15269, 15329, 15354, 15368,\n",
              "       15374, 15382, 15398, 15447, 15450, 15599, 15605, 15625, 15631,\n",
              "       15681, 15696, 15703, 15826, 15845, 15886, 15965, 16021, 16094,\n",
              "       16097, 16142, 16150, 16163, 16186, 16205, 16219, 16313, 16329,\n",
              "       16468, 16662, 16733, 16803, 16809, 16836, 16999, 17026, 17087,\n",
              "       17132, 17134, 17144, 17148, 17158, 17412, 17467, 17509, 17544,\n",
              "       17601, 17635, 17636, 17651, 17840, 17844, 17877, 17886, 17917,\n",
              "       18069, 18145, 18229, 18271, 18341, 18409, 18448, 18456, 18526,\n",
              "       18557, 18576, 18583, 18591, 18674, 18680, 18720, 18750, 18794,\n",
              "       18819, 18834, 18860, 18893, 18941, 18951, 18965, 19027, 19246,\n",
              "       19382, 19441, 19504, 19508, 19549, 19619, 19627, 19663, 19684,\n",
              "       19685, 19745, 19834, 19856, 19910, 20073, 20348, 20456, 20503,\n",
              "       20513, 20567, 20622, 20667, 20702, 20794, 20899, 21207, 21326,\n",
              "       21355, 21361, 21435, 21453, 21569, 21660, 21691, 21707, 21708,\n",
              "       21729, 21749, 21754, 21757, 21758, 21798, 21804])"
            ]
          },
          "execution_count": 42,
          "metadata": {},
          "output_type": "execute_result"
        }
      ],
      "source": [
        "idx_train_unique_up100"
      ]
    },
    {
      "cell_type": "code",
      "execution_count": 43,
      "metadata": {
        "colab": {
          "base_uri": "https://localhost:8080/"
        },
        "id": "AnQ1EsdK5PST",
        "outputId": "de67ee65-1e30-4d60-c400-7b66f933e92d"
      },
      "outputs": [
        {
          "data": {
            "text/plain": [
              "array([[0, 0, 0, ..., 0, 0, 0],\n",
              "       [0, 0, 0, ..., 0, 0, 0],\n",
              "       [0, 0, 0, ..., 0, 0, 0],\n",
              "       ...,\n",
              "       [0, 0, 0, ..., 0, 0, 0],\n",
              "       [0, 0, 0, ..., 0, 0, 0],\n",
              "       [0, 0, 0, ..., 0, 0, 0]])"
            ]
          },
          "execution_count": 43,
          "metadata": {},
          "output_type": "execute_result"
        }
      ],
      "source": [
        "x_train_unique_up100 = x_train_unique[:,idx_train_unique_up100]\n",
        "x_train_unique_up100"
      ]
    },
    {
      "cell_type": "code",
      "execution_count": 44,
      "metadata": {
        "colab": {
          "base_uri": "https://localhost:8080/"
        },
        "id": "3sdOQl705PST",
        "outputId": "492fa64b-6c34-45af-bf51-1e8e254b86c8"
      },
      "outputs": [
        {
          "data": {
            "text/plain": [
              "(2696, 457)"
            ]
          },
          "execution_count": 44,
          "metadata": {},
          "output_type": "execute_result"
        }
      ],
      "source": [
        "x_train_unique_up100.shape"
      ]
    },
    {
      "cell_type": "markdown",
      "metadata": {
        "id": "jUnNHrds5PST"
      },
      "source": [
        "## Visualización PCA - Features sin estandarizar"
      ]
    },
    {
      "cell_type": "code",
      "execution_count": 45,
      "metadata": {
        "id": "rr9BwmeC5PSV"
      },
      "outputs": [],
      "source": [
        "from sklearn.decomposition import PCA\n",
        "\n",
        "pca = PCA(n_components=3)\n",
        "weights = pca.fit_transform(x_train_unique_up100)"
      ]
    },
    {
      "cell_type": "code",
      "execution_count": 46,
      "metadata": {
        "colab": {
          "base_uri": "https://localhost:8080/",
          "height": 248
        },
        "id": "74tUhntJ5PSW",
        "outputId": "20f45ce8-ea6e-451a-8917-84e6fbf638a7"
      },
      "outputs": [
        {
          "data": {
            "image/png": "[encoded data removed]",
            "text/plain": [
              "<Figure size 432x288 with 1 Axes>"
            ]
          },
          "metadata": {
            "needs_background": "light"
          },
          "output_type": "display_data"
        }
      ],
      "source": [
        "fig = plt.figure()\n",
        "ax = fig.add_subplot(111, projection='3d')\n",
        "ax.scatter(weights[:,0],\n",
        "           weights[:,1],\n",
        "           weights[:,2],\n",
        "           c=y_train)\n",
        "\n",
        "ax.set_xlabel('X Label')\n",
        "ax.set_ylabel('Y Label')\n",
        "ax.set_zlabel('Z Label')\n",
        "\n",
        "plt.show()"
      ]
    },
    {
      "cell_type": "code",
      "execution_count": 47,
      "metadata": {
        "colab": {
          "base_uri": "https://localhost:8080/",
          "height": 284
        },
        "id": "Ovej_Wjq5PSW",
        "outputId": "0e9a8ebd-6a1a-4651-c90c-2735320991ce"
      },
      "outputs": [
        {
          "data": {
            "text/plain": [
              "<matplotlib.collections.PathCollection at 0x7f5877afc110>"
            ]
          },
          "execution_count": 47,
          "metadata": {},
          "output_type": "execute_result"
        },
        {
          "data": {
            "image/png": "[encoded data removed]",
            "text/plain": [
              "<Figure size 432x288 with 1 Axes>"
            ]
          },
          "metadata": {
            "needs_background": "light"
          },
          "output_type": "display_data"
        }
      ],
      "source": [
        "plt.scatter(weights[:,0], weights[:,1], c=y_train, alpha=0.5)"
      ]
    },
    {
      "cell_type": "markdown",
      "metadata": {
        "id": "ClqPxvNu5PSW"
      },
      "source": [
        "## Visualización TSNE - Features sin estandarizar"
      ]
    },
    {
      "cell_type": "code",
      "execution_count": 48,
      "metadata": {
        "colab": {
          "base_uri": "https://localhost:8080/"
        },
        "id": "-ZH3VcGr5PSX",
        "outputId": "9aa8a178-78be-479b-87ae-ea0bda0b0c63"
      },
      "outputs": [
        {
          "name": "stderr",
          "output_type": "stream",
          "text": [
            "/usr/local/lib/python3.7/dist-packages/sklearn/manifold/_t_sne.py:783: FutureWarning: The default initialization in TSNE will change from 'random' to 'pca' in 1.2.\n",
            "  FutureWarning,\n",
            "/usr/local/lib/python3.7/dist-packages/sklearn/manifold/_t_sne.py:793: FutureWarning: The default learning rate in TSNE will change from 200.0 to 'auto' in 1.2.\n",
            "  FutureWarning,\n"
          ]
        }
      ],
      "source": [
        "from sklearn.manifold import TSNE\n",
        "\n",
        "tsne = TSNE(n_components=3)\n",
        "weights = tsne.fit_transform(x_train_unique_up100)"
      ]
    },
    {
      "cell_type": "code",
      "execution_count": 49,
      "metadata": {
        "colab": {
          "base_uri": "https://localhost:8080/",
          "height": 248
        },
        "id": "08PHq3tU5PSX",
        "outputId": "8d43f383-8f92-4cbf-dc5f-e3e88c53ff9f"
      },
      "outputs": [
        {
          "data": {
            "image/png": "[encoded data removed]",
            "text/plain": [
              "<Figure size 432x288 with 1 Axes>"
            ]
          },
          "metadata": {
            "needs_background": "light"
          },
          "output_type": "display_data"
        }
      ],
      "source": [
        "fig = plt.figure()\n",
        "ax = fig.add_subplot(111, projection='3d')\n",
        "ax.scatter(weights[:,0],\n",
        "           weights[:,1],\n",
        "           weights[:,2],\n",
        "           c=y_train)\n",
        "\n",
        "ax.set_xlabel('X Label')\n",
        "ax.set_ylabel('Y Label')\n",
        "ax.set_zlabel('Z Label')\n",
        "\n",
        "plt.show()"
      ]
    },
    {
      "cell_type": "code",
      "execution_count": 50,
      "metadata": {
        "colab": {
          "base_uri": "https://localhost:8080/",
          "height": 282
        },
        "id": "MSggo1zv5PSX",
        "outputId": "447fbda1-13b2-40b0-9cf3-f78aa605f92d"
      },
      "outputs": [
        {
          "data": {
            "text/plain": [
              "<matplotlib.collections.PathCollection at 0x7f58958d1a10>"
            ]
          },
          "execution_count": 50,
          "metadata": {},
          "output_type": "execute_result"
        },
        {
          "data": {
            "image/png": "[encoded data removed]",
            "text/plain": [
              "<Figure size 432x288 with 1 Axes>"
            ]
          },
          "metadata": {
            "needs_background": "light"
          },
          "output_type": "display_data"
        }
      ],
      "source": [
        "plt.scatter(weights[:,0], weights[:,1], c=y_train, alpha=0.5)"
      ]
    },
    {
      "cell_type": "markdown",
      "metadata": {
        "id": "vIxvSpys5PSX"
      },
      "source": [
        "## Estandarización features"
      ]
    },
    {
      "cell_type": "code",
      "execution_count": 51,
      "metadata": {
        "id": "1YkR9PP05PSX"
      },
      "outputs": [],
      "source": [
        "#####\n",
        "from sklearn.preprocessing import StandardScaler\n",
        "scaler = StandardScaler()\n",
        "x_train = scaler.fit_transform(x_train_unique_up100)"
      ]
    },
    {
      "cell_type": "code",
      "execution_count": 52,
      "metadata": {
        "id": "pY80tgvu5PSY"
      },
      "outputs": [],
      "source": [
        "#####\n",
        "#x_test = scaler.transform(x_test)\n",
        "#####"
      ]
    },
    {
      "cell_type": "markdown",
      "metadata": {
        "id": "COzenRZ-5PSY"
      },
      "source": [
        "## Visualización PCA - Features estandarizadas"
      ]
    },
    {
      "cell_type": "code",
      "execution_count": 53,
      "metadata": {
        "id": "VEkHjeMw5PSY"
      },
      "outputs": [],
      "source": [
        "from sklearn.decomposition import PCA\n",
        "\n",
        "pca = PCA(n_components=3)\n",
        "weights = pca.fit_transform(x_train)"
      ]
    },
    {
      "cell_type": "code",
      "execution_count": 54,
      "metadata": {
        "colab": {
          "base_uri": "https://localhost:8080/",
          "height": 248
        },
        "id": "xhiIk_JS5PSY",
        "outputId": "32ad902e-c6df-4ed2-8008-ef07ec50125a"
      },
      "outputs": [
        {
          "data": {
            "image/png": "[encoded data removed]",
            "text/plain": [
              "<Figure size 432x288 with 1 Axes>"
            ]
          },
          "metadata": {
            "needs_background": "light"
          },
          "output_type": "display_data"
        }
      ],
      "source": [
        "fig = plt.figure()\n",
        "ax = fig.add_subplot(111, projection='3d')\n",
        "ax.scatter(weights[:,0],\n",
        "           weights[:,1],\n",
        "           weights[:,2],\n",
        "           c=y_train)\n",
        "\n",
        "ax.set_xlabel('X Label')\n",
        "ax.set_ylabel('Y Label')\n",
        "ax.set_zlabel('Z Label')\n",
        "\n",
        "plt.show()"
      ]
    },
    {
      "cell_type": "code",
      "execution_count": 55,
      "metadata": {
        "colab": {
          "base_uri": "https://localhost:8080/",
          "height": 282
        },
        "id": "lGkvxW9h5PSY",
        "outputId": "31f6f789-ed8e-4a01-eda8-024986ed3bf6"
      },
      "outputs": [
        {
          "data": {
            "text/plain": [
              "<matplotlib.collections.PathCollection at 0x7f587ea23cd0>"
            ]
          },
          "execution_count": 55,
          "metadata": {},
          "output_type": "execute_result"
        },
        {
          "data": {
            "image/png": "[encoded data removed]",
            "text/plain": [
              "<Figure size 432x288 with 1 Axes>"
            ]
          },
          "metadata": {
            "needs_background": "light"
          },
          "output_type": "display_data"
        }
      ],
      "source": [
        "plt.scatter(weights[:,0], weights[:,1], c=y_train, alpha=0.5)"
      ]
    },
    {
      "cell_type": "markdown",
      "metadata": {
        "id": "-WZfp_rz5PSY"
      },
      "source": [
        "## Visualización TSNE - Features estandarizadas"
      ]
    },
    {
      "cell_type": "code",
      "execution_count": 56,
      "metadata": {
        "colab": {
          "base_uri": "https://localhost:8080/"
        },
        "id": "9VeqccF75PSZ",
        "outputId": "e9f51888-b579-41f2-cb79-a2bbd961bd03"
      },
      "outputs": [
        {
          "name": "stderr",
          "output_type": "stream",
          "text": [
            "/usr/local/lib/python3.7/dist-packages/sklearn/manifold/_t_sne.py:783: FutureWarning: The default initialization in TSNE will change from 'random' to 'pca' in 1.2.\n",
            "  FutureWarning,\n",
            "/usr/local/lib/python3.7/dist-packages/sklearn/manifold/_t_sne.py:793: FutureWarning: The default learning rate in TSNE will change from 200.0 to 'auto' in 1.2.\n",
            "  FutureWarning,\n"
          ]
        }
      ],
      "source": [
        "from sklearn.manifold import TSNE\n",
        "\n",
        "tsne = TSNE(n_components=3)\n",
        "weights = tsne.fit_transform(x_train)"
      ]
    },
    {
      "cell_type": "code",
      "execution_count": 57,
      "metadata": {
        "colab": {
          "base_uri": "https://localhost:8080/",
          "height": 248
        },
        "id": "1AHlqnoZ5PSZ",
        "outputId": "70daa3ff-2eb0-481c-eba7-62d095043ec5"
      },
      "outputs": [
        {
          "data": {
            "image/png": "[encoded data removed]",
            "text/plain": [
              "<Figure size 432x288 with 1 Axes>"
            ]
          },
          "metadata": {
            "needs_background": "light"
          },
          "output_type": "display_data"
        }
      ],
      "source": [
        "fig = plt.figure()\n",
        "ax = fig.add_subplot(111, projection='3d')\n",
        "ax.scatter(weights[:,0],\n",
        "           weights[:,1],\n",
        "           weights[:,2],\n",
        "           c=y_train)\n",
        "\n",
        "ax.set_xlabel('X Label')\n",
        "ax.set_ylabel('Y Label')\n",
        "ax.set_zlabel('Z Label')\n",
        "\n",
        "plt.show()"
      ]
    },
    {
      "cell_type": "code",
      "execution_count": 58,
      "metadata": {
        "colab": {
          "base_uri": "https://localhost:8080/"
        },
        "id": "UgkbjS6k5PSZ",
        "outputId": "fbf08e6c-cae6-4d1b-e80e-38fbcec9757d"
      },
      "outputs": [
        {
          "data": {
            "text/plain": [
              "(2696, 457)"
            ]
          },
          "execution_count": 58,
          "metadata": {},
          "output_type": "execute_result"
        }
      ],
      "source": [
        "x_train_unique_up100.shape"
      ]
    },
    {
      "cell_type": "markdown",
      "metadata": {
        "id": "NWgxRmwa5PSZ"
      },
      "source": [
        "## Visualización PCA - Features sin estandarizar"
      ]
    },
    {
      "cell_type": "code",
      "execution_count": 59,
      "metadata": {
        "id": "9WiexEmO5PSZ"
      },
      "outputs": [],
      "source": [
        "from sklearn.decomposition import PCA\n",
        "\n",
        "pca = PCA(n_components=3)\n",
        "weights = pca.fit_transform(x_train_unique_up100)"
      ]
    },
    {
      "cell_type": "code",
      "execution_count": 60,
      "metadata": {
        "colab": {
          "base_uri": "https://localhost:8080/",
          "height": 248
        },
        "id": "0tKO9qV35PSa",
        "outputId": "4ff78371-c077-45eb-d3c1-847b8f725690"
      },
      "outputs": [
        {
          "data": {
            "image/png": "[encoded data removed]",
            "text/plain": [
              "<Figure size 432x288 with 1 Axes>"
            ]
          },
          "metadata": {
            "needs_background": "light"
          },
          "output_type": "display_data"
        }
      ],
      "source": [
        "fig = plt.figure()\n",
        "ax = fig.add_subplot(111, projection='3d')\n",
        "ax.scatter(weights[:,0],\n",
        "           weights[:,1],\n",
        "           weights[:,2],\n",
        "           c=y_train)\n",
        "\n",
        "ax.set_xlabel('X Label')\n",
        "ax.set_ylabel('Y Label')\n",
        "ax.set_zlabel('Z Label')\n",
        "\n",
        "plt.show()"
      ]
    },
    {
      "cell_type": "code",
      "execution_count": 61,
      "metadata": {
        "colab": {
          "base_uri": "https://localhost:8080/",
          "height": 284
        },
        "id": "TqoigaIB5PSa",
        "outputId": "7fbd28ce-f033-4fb1-9606-be8bf04ced3d"
      },
      "outputs": [
        {
          "data": {
            "text/plain": [
              "<matplotlib.collections.PathCollection at 0x7f58794d38d0>"
            ]
          },
          "execution_count": 61,
          "metadata": {},
          "output_type": "execute_result"
        },
        {
          "data": {
            "image/png": "[encoded data removed]",
            "text/plain": [
              "<Figure size 432x288 with 1 Axes>"
            ]
          },
          "metadata": {
            "needs_background": "light"
          },
          "output_type": "display_data"
        }
      ],
      "source": [
        "plt.scatter(weights[:,0], weights[:,1], c=y_train, alpha=0.5)"
      ]
    },
    {
      "cell_type": "markdown",
      "metadata": {
        "id": "JCVA5ifq5PSa"
      },
      "source": [
        "## Visualización TSNE - Features sin estandarizar"
      ]
    },
    {
      "cell_type": "code",
      "execution_count": 62,
      "metadata": {
        "colab": {
          "base_uri": "https://localhost:8080/"
        },
        "id": "rXkGJ0QD5PSa",
        "outputId": "38761f0f-8048-44c9-9b62-a50906a69d0c"
      },
      "outputs": [
        {
          "name": "stderr",
          "output_type": "stream",
          "text": [
            "/usr/local/lib/python3.7/dist-packages/sklearn/manifold/_t_sne.py:783: FutureWarning: The default initialization in TSNE will change from 'random' to 'pca' in 1.2.\n",
            "  FutureWarning,\n",
            "/usr/local/lib/python3.7/dist-packages/sklearn/manifold/_t_sne.py:793: FutureWarning: The default learning rate in TSNE will change from 200.0 to 'auto' in 1.2.\n",
            "  FutureWarning,\n"
          ]
        }
      ],
      "source": [
        "from sklearn.manifold import TSNE\n",
        "\n",
        "tsne = TSNE(n_components=3)\n",
        "weights = tsne.fit_transform(x_train_unique_up100)"
      ]
    },
    {
      "cell_type": "code",
      "execution_count": 63,
      "metadata": {
        "colab": {
          "base_uri": "https://localhost:8080/",
          "height": 248
        },
        "id": "-XoIPXAj5PSa",
        "outputId": "8fb6c580-a64b-47f9-e485-5625ad544a4f"
      },
      "outputs": [
        {
          "data": {
            "image/png": "[encoded data removed]",
            "text/plain": [
              "<Figure size 432x288 with 1 Axes>"
            ]
          },
          "metadata": {
            "needs_background": "light"
          },
          "output_type": "display_data"
        }
      ],
      "source": [
        "fig = plt.figure()\n",
        "ax = fig.add_subplot(111, projection='3d')\n",
        "ax.scatter(weights[:,0],\n",
        "           weights[:,1],\n",
        "           weights[:,2],\n",
        "           c=y_train)\n",
        "\n",
        "ax.set_xlabel('X Label')\n",
        "ax.set_ylabel('Y Label')\n",
        "ax.set_zlabel('Z Label')\n",
        "\n",
        "plt.show()"
      ]
    },
    {
      "cell_type": "code",
      "execution_count": 64,
      "metadata": {
        "colab": {
          "base_uri": "https://localhost:8080/",
          "height": 282
        },
        "id": "qdTd3UdH5PSb",
        "outputId": "ffedb379-a391-4c3b-8e87-023ff82449b2"
      },
      "outputs": [
        {
          "data": {
            "text/plain": [
              "<matplotlib.collections.PathCollection at 0x7f58984b6ad0>"
            ]
          },
          "execution_count": 64,
          "metadata": {},
          "output_type": "execute_result"
        },
        {
          "data": {
            "image/png": "[encoded data removed]",
            "text/plain": [
              "<Figure size 432x288 with 1 Axes>"
            ]
          },
          "metadata": {
            "needs_background": "light"
          },
          "output_type": "display_data"
        }
      ],
      "source": [
        "plt.scatter(weights[:,0], weights[:,1], c=y_train, alpha=0.5)"
      ]
    },
    {
      "cell_type": "markdown",
      "metadata": {
        "id": "zkCMI9PD5PSb"
      },
      "source": [
        "## Estandarización features"
      ]
    },
    {
      "cell_type": "code",
      "execution_count": 65,
      "metadata": {
        "id": "akXLQYOa5PSb"
      },
      "outputs": [],
      "source": [
        "#####\n",
        "from sklearn.preprocessing import StandardScaler\n",
        "scaler = StandardScaler()\n",
        "x_train = scaler.fit_transform(x_train_unique_up100)"
      ]
    },
    {
      "cell_type": "code",
      "execution_count": null,
      "metadata": {
        "id": "WQ1A86tJ5PSb"
      },
      "outputs": [],
      "source": [
        "#####\n",
        "#x_test = scaler.transform(x_test)\n",
        "#####"
      ]
    },
    {
      "cell_type": "markdown",
      "metadata": {
        "id": "VRdp1kGb5PSb"
      },
      "source": [
        "## Visualización PCA - Features estandarizadas"
      ]
    },
    {
      "cell_type": "code",
      "execution_count": 66,
      "metadata": {
        "id": "RmbaOTXf5PSb"
      },
      "outputs": [],
      "source": [
        "from sklearn.decomposition import PCA\n",
        "\n",
        "pca = PCA(n_components=3)\n",
        "weights = pca.fit_transform(x_train)"
      ]
    },
    {
      "cell_type": "code",
      "execution_count": 67,
      "metadata": {
        "colab": {
          "base_uri": "https://localhost:8080/",
          "height": 248
        },
        "id": "fgN8MKKP5PSc",
        "outputId": "60109d3a-1e69-436d-fede-e87461ba96ed"
      },
      "outputs": [
        {
          "data": {
            "image/png": "[encoded data removed]",
            "text/plain": [
              "<Figure size 432x288 with 1 Axes>"
            ]
          },
          "metadata": {
            "needs_background": "light"
          },
          "output_type": "display_data"
        }
      ],
      "source": [
        "fig = plt.figure()\n",
        "ax = fig.add_subplot(111, projection='3d')\n",
        "ax.scatter(weights[:,0],\n",
        "           weights[:,1],\n",
        "           weights[:,2],\n",
        "           c=y_train)\n",
        "\n",
        "ax.set_xlabel('X Label')\n",
        "ax.set_ylabel('Y Label')\n",
        "ax.set_zlabel('Z Label')\n",
        "\n",
        "plt.show()"
      ]
    },
    {
      "cell_type": "code",
      "execution_count": 68,
      "metadata": {
        "colab": {
          "base_uri": "https://localhost:8080/",
          "height": 282
        },
        "id": "Ek7hmDzi5PSc",
        "outputId": "130c5e44-c576-44e0-e545-6554d4b6f8f4"
      },
      "outputs": [
        {
          "data": {
            "text/plain": [
              "<matplotlib.collections.PathCollection at 0x7f58942d3c90>"
            ]
          },
          "execution_count": 68,
          "metadata": {},
          "output_type": "execute_result"
        },
        {
          "data": {
            "image/png": "[encoded data removed]",
            "text/plain": [
              "<Figure size 432x288 with 1 Axes>"
            ]
          },
          "metadata": {
            "needs_background": "light"
          },
          "output_type": "display_data"
        }
      ],
      "source": [
        "plt.scatter(weights[:,0], weights[:,1], c=y_train, alpha=0.5)"
      ]
    },
    {
      "cell_type": "markdown",
      "metadata": {
        "id": "5arWZik85PSc"
      },
      "source": [
        "## Visualización TSNE - Features estandarizadas"
      ]
    },
    {
      "cell_type": "code",
      "execution_count": 69,
      "metadata": {
        "colab": {
          "base_uri": "https://localhost:8080/"
        },
        "id": "YbUbpzkj5PSc",
        "outputId": "ec5a1350-d6b6-4aef-ecc3-10af88a89c7d"
      },
      "outputs": [
        {
          "name": "stderr",
          "output_type": "stream",
          "text": [
            "/usr/local/lib/python3.7/dist-packages/sklearn/manifold/_t_sne.py:783: FutureWarning: The default initialization in TSNE will change from 'random' to 'pca' in 1.2.\n",
            "  FutureWarning,\n",
            "/usr/local/lib/python3.7/dist-packages/sklearn/manifold/_t_sne.py:793: FutureWarning: The default learning rate in TSNE will change from 200.0 to 'auto' in 1.2.\n",
            "  FutureWarning,\n"
          ]
        }
      ],
      "source": [
        "from sklearn.manifold import TSNE\n",
        "\n",
        "tsne = TSNE(n_components=3)\n",
        "weights = tsne.fit_transform(x_train)"
      ]
    },
    {
      "cell_type": "code",
      "execution_count": 70,
      "metadata": {
        "colab": {
          "base_uri": "https://localhost:8080/",
          "height": 248
        },
        "id": "fLQie5fo5PSc",
        "outputId": "b823b26f-28a6-4812-9394-d48c78c6303f"
      },
      "outputs": [
        {
          "data": {
            "image/png": "[encoded data removed]",
            "text/plain": [
              "<Figure size 432x288 with 1 Axes>"
            ]
          },
          "metadata": {
            "needs_background": "light"
          },
          "output_type": "display_data"
        }
      ],
      "source": [
        "fig = plt.figure()\n",
        "ax = fig.add_subplot(111, projection='3d')\n",
        "ax.scatter(weights[:,0],\n",
        "           weights[:,1],\n",
        "           weights[:,2],\n",
        "           c=y_train)\n",
        "\n",
        "ax.set_xlabel('X Label')\n",
        "ax.set_ylabel('Y Label')\n",
        "ax.set_zlabel('Z Label')\n",
        "\n",
        "plt.show()"
      ]
    },
    {
      "cell_type": "code",
      "execution_count": 71,
      "metadata": {
        "colab": {
          "base_uri": "https://localhost:8080/",
          "height": 282
        },
        "id": "yEAfijxH5PSc",
        "outputId": "0042ec17-10b7-4302-d889-a1e57b11e2f6"
      },
      "outputs": [
        {
          "data": {
            "text/plain": [
              "<matplotlib.collections.PathCollection at 0x7f587ab08850>"
            ]
          },
          "execution_count": 71,
          "metadata": {},
          "output_type": "execute_result"
        },
        {
          "data": {
            "image/png": "[encoded data removed]",
            "text/plain": [
              "<Figure size 432x288 with 1 Axes>"
            ]
          },
          "metadata": {
            "needs_background": "light"
          },
          "output_type": "display_data"
        }
      ],
      "source": [
        "plt.scatter(weights[:,0], weights[:,1], c=y_train, alpha=0.5)"
      ]
    },
    {
      "cell_type": "markdown",
      "metadata": {
        "id": "40R70_uBJnGj"
      },
      "source": [
        "\n",
        "\n",
        "## MODELO BASICO PARA ESTIMAR VOLA LABEL EN BASE AL TEXTO\n",
        "\n"
      ]
    },
    {
      "cell_type": "code",
      "execution_count": 85,
      "metadata": {
        "colab": {
          "base_uri": "https://localhost:8080/"
        },
        "id": "D41jzNrM5PSd",
        "outputId": "ef765b40-4c21-458e-8247-e941642b23db"
      },
      "outputs": [
        {
          "name": "stdout",
          "output_type": "stream",
          "text": [
            "Epoch 1/100\n",
            "17/17 [==============================] - 1s 13ms/step - loss: 1.1012 - accuracy: 0.3520 - val_loss: 1.1038 - val_accuracy: 0.3778\n",
            "Epoch 2/100\n",
            "17/17 [==============================] - 0s 5ms/step - loss: 1.0813 - accuracy: 0.3506 - val_loss: 1.0889 - val_accuracy: 0.3352\n",
            "Epoch 3/100\n",
            "17/17 [==============================] - 0s 4ms/step - loss: 1.0670 - accuracy: 0.3924 - val_loss: 1.0784 - val_accuracy: 0.3593\n",
            "Epoch 4/100\n",
            "17/17 [==============================] - 0s 5ms/step - loss: 1.0544 - accuracy: 0.4114 - val_loss: 1.0693 - val_accuracy: 0.3704\n",
            "Epoch 5/100\n",
            "17/17 [==============================] - 0s 4ms/step - loss: 1.0423 - accuracy: 0.4156 - val_loss: 1.0652 - val_accuracy: 0.3741\n",
            "Epoch 6/100\n",
            "17/17 [==============================] - 0s 4ms/step - loss: 1.0304 - accuracy: 0.4249 - val_loss: 1.0586 - val_accuracy: 0.3870\n",
            "Epoch 7/100\n",
            "17/17 [==============================] - 0s 4ms/step - loss: 1.0176 - accuracy: 0.4351 - val_loss: 1.0555 - val_accuracy: 0.4056\n",
            "Epoch 8/100\n",
            "17/17 [==============================] - 0s 4ms/step - loss: 1.0062 - accuracy: 0.4365 - val_loss: 1.0533 - val_accuracy: 0.4074\n",
            "Epoch 9/100\n",
            "17/17 [==============================] - 0s 4ms/step - loss: 0.9952 - accuracy: 0.4416 - val_loss: 1.0530 - val_accuracy: 0.4093\n",
            "Epoch 10/100\n",
            "17/17 [==============================] - 0s 4ms/step - loss: 0.9852 - accuracy: 0.4462 - val_loss: 1.0522 - val_accuracy: 0.4111\n",
            "Epoch 11/100\n",
            "17/17 [==============================] - 0s 4ms/step - loss: 0.9760 - accuracy: 0.4471 - val_loss: 1.0494 - val_accuracy: 0.4204\n",
            "Epoch 12/100\n",
            "17/17 [==============================] - 0s 4ms/step - loss: 0.9668 - accuracy: 0.4545 - val_loss: 1.0501 - val_accuracy: 0.4296\n",
            "Epoch 13/100\n",
            "17/17 [==============================] - 0s 4ms/step - loss: 0.9575 - accuracy: 0.4652 - val_loss: 1.0486 - val_accuracy: 0.4389\n",
            "Epoch 14/100\n",
            "17/17 [==============================] - 0s 4ms/step - loss: 0.9489 - accuracy: 0.4722 - val_loss: 1.0447 - val_accuracy: 0.4426\n",
            "Epoch 15/100\n",
            "17/17 [==============================] - 0s 4ms/step - loss: 0.9404 - accuracy: 0.4754 - val_loss: 1.0418 - val_accuracy: 0.4463\n",
            "Epoch 16/100\n",
            "17/17 [==============================] - 0s 4ms/step - loss: 0.9329 - accuracy: 0.4805 - val_loss: 1.0389 - val_accuracy: 0.4463\n",
            "Epoch 17/100\n",
            "17/17 [==============================] - 0s 4ms/step - loss: 0.9250 - accuracy: 0.4847 - val_loss: 1.0402 - val_accuracy: 0.4481\n",
            "Epoch 18/100\n",
            "17/17 [==============================] - 0s 4ms/step - loss: 0.9177 - accuracy: 0.4889 - val_loss: 1.0385 - val_accuracy: 0.4556\n",
            "Epoch 19/100\n",
            "17/17 [==============================] - 0s 4ms/step - loss: 0.9109 - accuracy: 0.4954 - val_loss: 1.0404 - val_accuracy: 0.4593\n",
            "Epoch 20/100\n",
            "17/17 [==============================] - 0s 4ms/step - loss: 0.9052 - accuracy: 0.4977 - val_loss: 1.0436 - val_accuracy: 0.4574\n",
            "Epoch 21/100\n",
            "17/17 [==============================] - 0s 5ms/step - loss: 0.8999 - accuracy: 0.5005 - val_loss: 1.0457 - val_accuracy: 0.4630\n",
            "Epoch 22/100\n",
            "17/17 [==============================] - 0s 5ms/step - loss: 0.8943 - accuracy: 0.4954 - val_loss: 1.0508 - val_accuracy: 0.4519\n",
            "Epoch 23/100\n",
            "17/17 [==============================] - 0s 4ms/step - loss: 0.8894 - accuracy: 0.4917 - val_loss: 1.0530 - val_accuracy: 0.4593\n",
            "Epoch 24/100\n",
            "17/17 [==============================] - 0s 4ms/step - loss: 0.8835 - accuracy: 0.4991 - val_loss: 1.0582 - val_accuracy: 0.4444\n",
            "Epoch 25/100\n",
            "17/17 [==============================] - 0s 4ms/step - loss: 0.8781 - accuracy: 0.5009 - val_loss: 1.0592 - val_accuracy: 0.4500\n",
            "Epoch 26/100\n",
            "17/17 [==============================] - 0s 4ms/step - loss: 0.8726 - accuracy: 0.5079 - val_loss: 1.0618 - val_accuracy: 0.4537\n",
            "Epoch 27/100\n",
            "17/17 [==============================] - 0s 4ms/step - loss: 0.8684 - accuracy: 0.5153 - val_loss: 1.0652 - val_accuracy: 0.4667\n",
            "Epoch 28/100\n",
            "17/17 [==============================] - 0s 4ms/step - loss: 0.8644 - accuracy: 0.5056 - val_loss: 1.0700 - val_accuracy: 0.4593\n",
            "Epoch 29/100\n",
            "17/17 [==============================] - 0s 4ms/step - loss: 0.8603 - accuracy: 0.5121 - val_loss: 1.0740 - val_accuracy: 0.4704\n",
            "Epoch 30/100\n",
            "17/17 [==============================] - 0s 4ms/step - loss: 0.8561 - accuracy: 0.5181 - val_loss: 1.0807 - val_accuracy: 0.4722\n",
            "Epoch 31/100\n",
            "17/17 [==============================] - 0s 4ms/step - loss: 0.8527 - accuracy: 0.5213 - val_loss: 1.0871 - val_accuracy: 0.4593\n",
            "Epoch 32/100\n",
            "17/17 [==============================] - 0s 4ms/step - loss: 0.8484 - accuracy: 0.5186 - val_loss: 1.0878 - val_accuracy: 0.4667\n",
            "Epoch 33/100\n",
            "17/17 [==============================] - 0s 4ms/step - loss: 0.8457 - accuracy: 0.5260 - val_loss: 1.0939 - val_accuracy: 0.4704\n",
            "Epoch 34/100\n",
            "17/17 [==============================] - 0s 4ms/step - loss: 0.8427 - accuracy: 0.5176 - val_loss: 1.0948 - val_accuracy: 0.4778\n",
            "Epoch 35/100\n",
            "17/17 [==============================] - 0s 5ms/step - loss: 0.8394 - accuracy: 0.5167 - val_loss: 1.1000 - val_accuracy: 0.4722\n",
            "Epoch 36/100\n",
            "17/17 [==============================] - 0s 4ms/step - loss: 0.8371 - accuracy: 0.5135 - val_loss: 1.1083 - val_accuracy: 0.4685\n",
            "Epoch 37/100\n",
            "17/17 [==============================] - 0s 4ms/step - loss: 0.8346 - accuracy: 0.5209 - val_loss: 1.1118 - val_accuracy: 0.4704\n",
            "Epoch 38/100\n",
            "17/17 [==============================] - 0s 4ms/step - loss: 0.8315 - accuracy: 0.5264 - val_loss: 1.1146 - val_accuracy: 0.4685\n",
            "Epoch 39/100\n",
            "17/17 [==============================] - 0s 4ms/step - loss: 0.8294 - accuracy: 0.5162 - val_loss: 1.1187 - val_accuracy: 0.4796\n",
            "Epoch 40/100\n",
            "17/17 [==============================] - 0s 4ms/step - loss: 0.8273 - accuracy: 0.5218 - val_loss: 1.1255 - val_accuracy: 0.4741\n",
            "Epoch 41/100\n",
            "17/17 [==============================] - 0s 4ms/step - loss: 0.8247 - accuracy: 0.5130 - val_loss: 1.1305 - val_accuracy: 0.4796\n",
            "Epoch 42/100\n",
            "17/17 [==============================] - 0s 4ms/step - loss: 0.8231 - accuracy: 0.5232 - val_loss: 1.1381 - val_accuracy: 0.4685\n",
            "Epoch 43/100\n",
            "17/17 [==============================] - 0s 4ms/step - loss: 0.8212 - accuracy: 0.5260 - val_loss: 1.1444 - val_accuracy: 0.4815\n",
            "Epoch 44/100\n",
            "17/17 [==============================] - 0s 4ms/step - loss: 0.8200 - accuracy: 0.5186 - val_loss: 1.1535 - val_accuracy: 0.4796\n",
            "Epoch 45/100\n",
            "17/17 [==============================] - 0s 4ms/step - loss: 0.8183 - accuracy: 0.5301 - val_loss: 1.1543 - val_accuracy: 0.4704\n",
            "Epoch 46/100\n",
            "17/17 [==============================] - 0s 4ms/step - loss: 0.8170 - accuracy: 0.5074 - val_loss: 1.1623 - val_accuracy: 0.4667\n",
            "Epoch 47/100\n",
            "17/17 [==============================] - 0s 4ms/step - loss: 0.8133 - accuracy: 0.5255 - val_loss: 1.1666 - val_accuracy: 0.4685\n",
            "Epoch 48/100\n",
            "17/17 [==============================] - 0s 4ms/step - loss: 0.8122 - accuracy: 0.5139 - val_loss: 1.1695 - val_accuracy: 0.4630\n",
            "Epoch 49/100\n",
            "17/17 [==============================] - 0s 4ms/step - loss: 0.8106 - accuracy: 0.5297 - val_loss: 1.1809 - val_accuracy: 0.4648\n",
            "Epoch 50/100\n",
            "17/17 [==============================] - 0s 4ms/step - loss: 0.8091 - accuracy: 0.5260 - val_loss: 1.1820 - val_accuracy: 0.4704\n",
            "Epoch 51/100\n",
            "17/17 [==============================] - 0s 4ms/step - loss: 0.8071 - accuracy: 0.5278 - val_loss: 1.1894 - val_accuracy: 0.4759\n",
            "Epoch 52/100\n",
            "17/17 [==============================] - 0s 5ms/step - loss: 0.8067 - accuracy: 0.5301 - val_loss: 1.1950 - val_accuracy: 0.4648\n",
            "Epoch 53/100\n",
            "17/17 [==============================] - 0s 4ms/step - loss: 0.8057 - accuracy: 0.5301 - val_loss: 1.2032 - val_accuracy: 0.4741\n",
            "Epoch 54/100\n",
            "17/17 [==============================] - 0s 4ms/step - loss: 0.8053 - accuracy: 0.5213 - val_loss: 1.2068 - val_accuracy: 0.4704\n",
            "Epoch 55/100\n",
            "17/17 [==============================] - 0s 4ms/step - loss: 0.8019 - accuracy: 0.5371 - val_loss: 1.2107 - val_accuracy: 0.4685\n",
            "Epoch 56/100\n",
            "17/17 [==============================] - 0s 4ms/step - loss: 0.8007 - accuracy: 0.5241 - val_loss: 1.2177 - val_accuracy: 0.4722\n",
            "Epoch 57/100\n",
            "17/17 [==============================] - 0s 4ms/step - loss: 0.7996 - accuracy: 0.5343 - val_loss: 1.2215 - val_accuracy: 0.4685\n",
            "Epoch 58/100\n",
            "17/17 [==============================] - 0s 4ms/step - loss: 0.7976 - accuracy: 0.5306 - val_loss: 1.2282 - val_accuracy: 0.4704\n",
            "Epoch 59/100\n",
            "17/17 [==============================] - 0s 4ms/step - loss: 0.7975 - accuracy: 0.5334 - val_loss: 1.2385 - val_accuracy: 0.4796\n",
            "Epoch 60/100\n",
            "17/17 [==============================] - 0s 4ms/step - loss: 0.7949 - accuracy: 0.5385 - val_loss: 1.2392 - val_accuracy: 0.4648\n",
            "Epoch 61/100\n",
            "17/17 [==============================] - 0s 4ms/step - loss: 0.7937 - accuracy: 0.5376 - val_loss: 1.2473 - val_accuracy: 0.4611\n",
            "Epoch 62/100\n",
            "17/17 [==============================] - 0s 4ms/step - loss: 0.7930 - accuracy: 0.5357 - val_loss: 1.2516 - val_accuracy: 0.4741\n",
            "Epoch 63/100\n",
            "17/17 [==============================] - 0s 4ms/step - loss: 0.7907 - accuracy: 0.5468 - val_loss: 1.2646 - val_accuracy: 0.4685\n",
            "Epoch 64/100\n",
            "17/17 [==============================] - 0s 5ms/step - loss: 0.7905 - accuracy: 0.5371 - val_loss: 1.2647 - val_accuracy: 0.4685\n",
            "Epoch 65/100\n",
            "17/17 [==============================] - 0s 4ms/step - loss: 0.7894 - accuracy: 0.5543 - val_loss: 1.2781 - val_accuracy: 0.4611\n",
            "Epoch 66/100\n",
            "17/17 [==============================] - 0s 4ms/step - loss: 0.7925 - accuracy: 0.5417 - val_loss: 1.2761 - val_accuracy: 0.4759\n",
            "Epoch 67/100\n",
            "17/17 [==============================] - 0s 5ms/step - loss: 0.7872 - accuracy: 0.5510 - val_loss: 1.2869 - val_accuracy: 0.4611\n",
            "Epoch 68/100\n",
            "17/17 [==============================] - 0s 4ms/step - loss: 0.7877 - accuracy: 0.5348 - val_loss: 1.2852 - val_accuracy: 0.4722\n",
            "Epoch 69/100\n",
            "17/17 [==============================] - 0s 4ms/step - loss: 0.7852 - accuracy: 0.5427 - val_loss: 1.2883 - val_accuracy: 0.4722\n",
            "Epoch 70/100\n",
            "17/17 [==============================] - 0s 5ms/step - loss: 0.7863 - accuracy: 0.5464 - val_loss: 1.2957 - val_accuracy: 0.4648\n",
            "Epoch 71/100\n",
            "17/17 [==============================] - 0s 4ms/step - loss: 0.7843 - accuracy: 0.5399 - val_loss: 1.3039 - val_accuracy: 0.4759\n",
            "Epoch 72/100\n",
            "17/17 [==============================] - 0s 4ms/step - loss: 0.7842 - accuracy: 0.5325 - val_loss: 1.3038 - val_accuracy: 0.4759\n",
            "Epoch 73/100\n",
            "17/17 [==============================] - 0s 4ms/step - loss: 0.7832 - accuracy: 0.5408 - val_loss: 1.3099 - val_accuracy: 0.4630\n",
            "Epoch 74/100\n",
            "17/17 [==============================] - 0s 4ms/step - loss: 0.7826 - accuracy: 0.5496 - val_loss: 1.3135 - val_accuracy: 0.4667\n",
            "Epoch 75/100\n",
            "17/17 [==============================] - 0s 4ms/step - loss: 0.7818 - accuracy: 0.5380 - val_loss: 1.3205 - val_accuracy: 0.4611\n",
            "Epoch 76/100\n",
            "17/17 [==============================] - 0s 4ms/step - loss: 0.7821 - accuracy: 0.5399 - val_loss: 1.3235 - val_accuracy: 0.4685\n",
            "Epoch 77/100\n",
            "17/17 [==============================] - 0s 5ms/step - loss: 0.7802 - accuracy: 0.5399 - val_loss: 1.3256 - val_accuracy: 0.4722\n",
            "Epoch 78/100\n",
            "17/17 [==============================] - 0s 4ms/step - loss: 0.7787 - accuracy: 0.5371 - val_loss: 1.3316 - val_accuracy: 0.4630\n",
            "Epoch 79/100\n",
            "17/17 [==============================] - 0s 4ms/step - loss: 0.7781 - accuracy: 0.5510 - val_loss: 1.3371 - val_accuracy: 0.4741\n",
            "Epoch 80/100\n",
            "17/17 [==============================] - 0s 4ms/step - loss: 0.7795 - accuracy: 0.5399 - val_loss: 1.3484 - val_accuracy: 0.4667\n",
            "Epoch 81/100\n",
            "17/17 [==============================] - 0s 4ms/step - loss: 0.7783 - accuracy: 0.5482 - val_loss: 1.3476 - val_accuracy: 0.4611\n",
            "Epoch 82/100\n",
            "17/17 [==============================] - 0s 4ms/step - loss: 0.7791 - accuracy: 0.5431 - val_loss: 1.3473 - val_accuracy: 0.4722\n",
            "Epoch 83/100\n",
            "17/17 [==============================] - 0s 4ms/step - loss: 0.7778 - accuracy: 0.5408 - val_loss: 1.3554 - val_accuracy: 0.4704\n",
            "Epoch 84/100\n",
            "17/17 [==============================] - 0s 4ms/step - loss: 0.7777 - accuracy: 0.5543 - val_loss: 1.3617 - val_accuracy: 0.4611\n",
            "Epoch 85/100\n",
            "17/17 [==============================] - 0s 4ms/step - loss: 0.7803 - accuracy: 0.5404 - val_loss: 1.3609 - val_accuracy: 0.4722\n",
            "Epoch 86/100\n",
            "17/17 [==============================] - 0s 5ms/step - loss: 0.7759 - accuracy: 0.5468 - val_loss: 1.3611 - val_accuracy: 0.4722\n",
            "Epoch 87/100\n",
            "17/17 [==============================] - 0s 5ms/step - loss: 0.7756 - accuracy: 0.5413 - val_loss: 1.3694 - val_accuracy: 0.4611\n",
            "Epoch 88/100\n",
            "17/17 [==============================] - 0s 4ms/step - loss: 0.7753 - accuracy: 0.5357 - val_loss: 1.3766 - val_accuracy: 0.4667\n",
            "Epoch 89/100\n",
            "17/17 [==============================] - 0s 4ms/step - loss: 0.7751 - accuracy: 0.5445 - val_loss: 1.3739 - val_accuracy: 0.4667\n",
            "Epoch 90/100\n",
            "17/17 [==============================] - 0s 4ms/step - loss: 0.7736 - accuracy: 0.5473 - val_loss: 1.3800 - val_accuracy: 0.4704\n",
            "Epoch 91/100\n",
            "17/17 [==============================] - 0s 5ms/step - loss: 0.7768 - accuracy: 0.5557 - val_loss: 1.3861 - val_accuracy: 0.4593\n",
            "Epoch 92/100\n",
            "17/17 [==============================] - 0s 5ms/step - loss: 0.7745 - accuracy: 0.5561 - val_loss: 1.3898 - val_accuracy: 0.4611\n",
            "Epoch 93/100\n",
            "17/17 [==============================] - 0s 4ms/step - loss: 0.7729 - accuracy: 0.5529 - val_loss: 1.3908 - val_accuracy: 0.4685\n",
            "Epoch 94/100\n",
            "17/17 [==============================] - 0s 4ms/step - loss: 0.7735 - accuracy: 0.5455 - val_loss: 1.3949 - val_accuracy: 0.4630\n",
            "Epoch 95/100\n",
            "17/17 [==============================] - 0s 4ms/step - loss: 0.7722 - accuracy: 0.5603 - val_loss: 1.4011 - val_accuracy: 0.4704\n",
            "Epoch 96/100\n",
            "17/17 [==============================] - 0s 4ms/step - loss: 0.7737 - accuracy: 0.5529 - val_loss: 1.3997 - val_accuracy: 0.4611\n",
            "Epoch 97/100\n",
            "17/17 [==============================] - 0s 4ms/step - loss: 0.7730 - accuracy: 0.5399 - val_loss: 1.4091 - val_accuracy: 0.4519\n",
            "Epoch 98/100\n",
            "17/17 [==============================] - 0s 4ms/step - loss: 0.7721 - accuracy: 0.5441 - val_loss: 1.4108 - val_accuracy: 0.4500\n",
            "Epoch 99/100\n",
            "17/17 [==============================] - 0s 4ms/step - loss: 0.7721 - accuracy: 0.5533 - val_loss: 1.4173 - val_accuracy: 0.4574\n",
            "Epoch 100/100\n",
            "17/17 [==============================] - 0s 4ms/step - loss: 0.7716 - accuracy: 0.5385 - val_loss: 1.4154 - val_accuracy: 0.4593\n"
          ]
        }
      ],
      "source": [
        "model = Sequential()\n",
        "model.add(Dense(8, input_dim=x_train.shape[1], activation='relu'))\n",
        "model.add(Dense(4, activation='relu'))\n",
        "model.add(Dense(3, activation='softmax'))\n",
        "\n",
        "model.compile(\n",
        "    loss='sparse_categorical_crossentropy',\n",
        "    optimizer='adam',\n",
        "    metrics=['accuracy']\n",
        "  )\n",
        "\n",
        "history = model.fit(x_train, y_train, epochs=100, batch_size=128,  validation_split=0.2)"
      ]
    },
    {
      "cell_type": "code",
      "execution_count": 86,
      "metadata": {
        "colab": {
          "base_uri": "https://localhost:8080/",
          "height": 265
        },
        "id": "CJik9eu85PSd",
        "outputId": "4690eef6-1712-4d88-d591-d4a7188de5c9"
      },
      "outputs": [
        {
          "data": {
            "image/png": "[encoded data removed]",
            "text/plain": [
              "<Figure size 432x288 with 1 Axes>"
            ]
          },
          "metadata": {
            "needs_background": "light"
          },
          "output_type": "display_data"
        }
      ],
      "source": [
        "# plt.figure(figsize=(10, 10))\n",
        "plt.plot(history.history['loss'])\n",
        "plt.plot(history.history['val_loss'])\n",
        "plt.legend(['loss', 'val_loss'])\n",
        "plt.grid()\n",
        "plt.show()"
      ]
    },
    {
      "cell_type": "code",
      "execution_count": 87,
      "metadata": {
        "colab": {
          "base_uri": "https://localhost:8080/",
          "height": 265
        },
        "id": "6GFhkbZa5PSd",
        "outputId": "80932b53-d9dc-45c6-8a22-a2bc66e5db9f"
      },
      "outputs": [
        {
          "data": {
            "image/png": "[encoded data removed]",
            "text/plain": [
              "<Figure size 432x288 with 1 Axes>"
            ]
          },
          "metadata": {
            "needs_background": "light"
          },
          "output_type": "display_data"
        }
      ],
      "source": [
        "plt.plot(history.history['accuracy'])\n",
        "plt.plot(history.history['val_accuracy'])\n",
        "plt.legend(['acc', 'val_acc'])\n",
        "plt.grid()\n",
        "plt.show()"
      ]
    }
  ],
  "metadata": {
    "accelerator": "GPU",
    "colab": {
      "collapsed_sections": [],
      "machine_shape": "hm",
      "name": "eda_bow_nlp.ipynb",
      "provenance": []
    },
    "gpuClass": "standard",
    "kernelspec": {
      "display_name": "Python 3.9.7 ('venv': venv)",
      "language": "python",
      "name": "python3"
    },
    "language_info": {
      "codemirror_mode": {
        "name": "ipython",
        "version": 3
      },
      "file_extension": ".py",
      "mimetype": "text/x-python",
      "name": "python",
      "nbconvert_exporter": "python",
      "pygments_lexer": "ipython3",
      "version": "3.9.7"
    },
    "orig_nbformat": 4,
    "vscode": {
      "interpreter": {
        "hash": "3551eada80e437137cf635744c63ae2da6c86902ec805ec8b1cf19dda9116643"
      }
    }
  },
  "nbformat": 4,
  "nbformat_minor": 0
}
